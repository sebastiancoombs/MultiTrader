{
 "cells": [
  {
   "cell_type": "code",
   "execution_count": 6,
   "metadata": {},
   "outputs": [],
   "source": [
    "\n",
    "import warnings\n",
    "warnings.filterwarnings(\"ignore\")"
   ]
  },
  {
   "cell_type": "code",
   "execution_count": 7,
   "metadata": {},
   "outputs": [],
   "source": [
    "from environments.live_environments import BaseLiveTradingEnv\n",
    "from neuralforecast.core import NeuralForecast\n",
    "from Keys import *\n",
    "import pickle\n",
    "import numpy as np\n",
    "from utils import pearl_utils,utils,discord_utils\n",
    "from Pearl.pearl.utils.instantiations.environments.gym_environment import \\\n",
    "    GymEnvironment\n",
    "import boto3\n",
    "from discord import SyncWebhook\n",
    "from utils import discord_utils\n",
    "import requests\n",
    "import matplotlib.pyplot as plt\n",
    "import pandas as pd\n",
    "from utils.pandas_reward_functions import log_reward_function,diff_reward_function"
   ]
  },
  {
   "cell_type": "code",
   "execution_count": 8,
   "metadata": {},
   "outputs": [],
   "source": [
    "channel_url='https://discord.com/api/webhooks/986694946381783102/FOA7nG9ShDcXY95-c3XEKV-Fdek66L9xfbQoKuEuFQkK2P4aFWaZ_fKmzw00j8Oj8Woj'\n",
    "message='Testing'"
   ]
  },
  {
   "cell_type": "code",
   "execution_count": 9,
   "metadata": {},
   "outputs": [],
   "source": [
    "from configs import fx_defaults as defaults\n"
   ]
  },
  {
   "cell_type": "code",
   "execution_count": 10,
   "metadata": {},
   "outputs": [
    {
     "name": "stderr",
     "output_type": "stream",
     "text": [
      "Seed set to 12\n",
      "Seed set to 5\n"
     ]
    }
   ],
   "source": [
    "forecast_model=NeuralForecast.load(defaults.forecasting_model_path)\n",
    "\n",
    "# forecast_model=NeuralForecast.load('MultiHeadForecastingModel/')"
   ]
  },
  {
   "cell_type": "code",
   "execution_count": 11,
   "metadata": {},
   "outputs": [
    {
     "data": {
      "text/plain": [
       "['CHECKPOINT_HYPER_PARAMS_KEY',\n",
       " 'CHECKPOINT_HYPER_PARAMS_NAME',\n",
       " 'CHECKPOINT_HYPER_PARAMS_TYPE',\n",
       " 'EXOGENOUS_FUTR',\n",
       " 'EXOGENOUS_HIST',\n",
       " 'EXOGENOUS_STAT',\n",
       " 'SAMPLING_TYPE',\n",
       " 'T_destination',\n",
       " '_LightningModule__check_allowed',\n",
       " '_LightningModule__check_not_nested',\n",
       " '_LightningModule__to_tensor',\n",
       " '__annotations__',\n",
       " '__call__',\n",
       " '__class__',\n",
       " '__delattr__',\n",
       " '__dict__',\n",
       " '__dir__',\n",
       " '__doc__',\n",
       " '__eq__',\n",
       " '__format__',\n",
       " '__ge__',\n",
       " '__getattr__',\n",
       " '__getattribute__',\n",
       " '__getstate__',\n",
       " '__gt__',\n",
       " '__hash__',\n",
       " '__init__',\n",
       " '__init_subclass__',\n",
       " '__jit_unused_properties__',\n",
       " '__le__',\n",
       " '__lt__',\n",
       " '__module__',\n",
       " '__ne__',\n",
       " '__new__',\n",
       " '__reduce__',\n",
       " '__reduce_ex__',\n",
       " '__repr__',\n",
       " '__setattr__',\n",
       " '__setstate__',\n",
       " '__sizeof__',\n",
       " '__str__',\n",
       " '__subclasshook__',\n",
       " '__weakref__',\n",
       " '_apply',\n",
       " '_apply_batch_transfer_handler',\n",
       " '_automatic_optimization',\n",
       " '_backward_hooks',\n",
       " '_backward_pre_hooks',\n",
       " '_buffers',\n",
       " '_call_batch_hook',\n",
       " '_call_impl',\n",
       " '_check_exog',\n",
       " '_compiled_call_impl',\n",
       " '_compiler_ctx',\n",
       " '_compute_valid_loss',\n",
       " '_create_windows',\n",
       " '_current_fx_name',\n",
       " '_device',\n",
       " '_device_mesh',\n",
       " '_dtype',\n",
       " '_example_input_array',\n",
       " '_fabric',\n",
       " '_fabric_optimizers',\n",
       " '_fit',\n",
       " '_fit_distributed',\n",
       " '_forward_hooks',\n",
       " '_forward_hooks_always_called',\n",
       " '_forward_hooks_with_kwargs',\n",
       " '_forward_pre_hooks',\n",
       " '_forward_pre_hooks_with_kwargs',\n",
       " '_get_backward_hooks',\n",
       " '_get_backward_pre_hooks',\n",
       " '_get_name',\n",
       " '_get_temporal_exogenous_cols',\n",
       " '_hparams',\n",
       " '_hparams_initial',\n",
       " '_hparams_name',\n",
       " '_inv_normalization',\n",
       " '_is_full_backward_hook',\n",
       " '_jit_is_scripting',\n",
       " '_load_from_state_dict',\n",
       " '_load_state_dict_post_hooks',\n",
       " '_load_state_dict_pre_hooks',\n",
       " '_log_dict_through_fabric',\n",
       " '_log_hyperparams',\n",
       " '_maybe_warn_non_full_backward_hook',\n",
       " '_metric_attributes',\n",
       " '_modules',\n",
       " '_named_members',\n",
       " '_non_persistent_buffers_set',\n",
       " '_normalization',\n",
       " '_on_before_batch_transfer',\n",
       " '_param_requires_grad_state',\n",
       " '_parameters',\n",
       " '_parse_windows',\n",
       " '_register_load_state_dict_pre_hook',\n",
       " '_register_state_dict_hook',\n",
       " '_replicate_for_data_parallel',\n",
       " '_restart_seed',\n",
       " '_save_to_state_dict',\n",
       " '_set_hparams',\n",
       " '_set_quantile_for_iqloss',\n",
       " '_slow_forward',\n",
       " '_state_dict_hooks',\n",
       " '_state_dict_pre_hooks',\n",
       " '_strict_loading',\n",
       " '_to_hparams_dict',\n",
       " '_trainer',\n",
       " '_verify_is_manual_optimization',\n",
       " '_version',\n",
       " '_wrapped_call_impl',\n",
       " 'add_module',\n",
       " 'alias',\n",
       " 'all_gather',\n",
       " 'allow_zero_length_dataloader_with_multiple_devices',\n",
       " 'apply',\n",
       " 'attention_weights',\n",
       " 'automatic_optimization',\n",
       " 'backward',\n",
       " 'batch_size',\n",
       " 'bfloat16',\n",
       " 'buffers',\n",
       " 'call_super_init',\n",
       " 'children',\n",
       " 'clip_gradients',\n",
       " 'compile',\n",
       " 'configure_callbacks',\n",
       " 'configure_gradient_clipping',\n",
       " 'configure_model',\n",
       " 'configure_optimizers',\n",
       " 'configure_sharded_model',\n",
       " 'cpu',\n",
       " 'cuda',\n",
       " 'current_epoch',\n",
       " 'decompose',\n",
       " 'decompose_forecast',\n",
       " 'device',\n",
       " 'device_mesh',\n",
       " 'double',\n",
       " 'drop_last_loader',\n",
       " 'dtype',\n",
       " 'dump_patches',\n",
       " 'early_stop_patience_steps',\n",
       " 'embedding',\n",
       " 'eval',\n",
       " 'example_input_array',\n",
       " 'example_length',\n",
       " 'exclude_insample_y',\n",
       " 'extra_repr',\n",
       " 'fabric',\n",
       " 'feature_importance_correlations',\n",
       " 'feature_importances',\n",
       " 'fit',\n",
       " 'float',\n",
       " 'forward',\n",
       " 'freeze',\n",
       " 'futr_exog_list',\n",
       " 'futr_exog_size',\n",
       " 'get_buffer',\n",
       " 'get_extra_state',\n",
       " 'get_parameter',\n",
       " 'get_submodule',\n",
       " 'get_test_size',\n",
       " 'global_rank',\n",
       " 'global_step',\n",
       " 'h',\n",
       " 'half',\n",
       " 'hist_exog_list',\n",
       " 'hist_exog_size',\n",
       " 'hparams',\n",
       " 'hparams_initial',\n",
       " 'inference_windows_batch_size',\n",
       " 'input_size',\n",
       " 'interpretability_params',\n",
       " 'ipu',\n",
       " 'learning_rate',\n",
       " 'load',\n",
       " 'load_from_checkpoint',\n",
       " 'load_state_dict',\n",
       " 'local_rank',\n",
       " 'log',\n",
       " 'log_dict',\n",
       " 'logger',\n",
       " 'loggers',\n",
       " 'loss',\n",
       " 'lr_decay_steps',\n",
       " 'lr_scheduler',\n",
       " 'lr_scheduler_kwargs',\n",
       " 'lr_scheduler_step',\n",
       " 'lr_schedulers',\n",
       " 'manual_backward',\n",
       " 'max_steps',\n",
       " 'mean_on_batch',\n",
       " 'modules',\n",
       " 'mtia',\n",
       " 'named_buffers',\n",
       " 'named_children',\n",
       " 'named_modules',\n",
       " 'named_parameters',\n",
       " 'num_lr_decays',\n",
       " 'num_workers_loader',\n",
       " 'on_after_backward',\n",
       " 'on_after_batch_transfer',\n",
       " 'on_before_backward',\n",
       " 'on_before_batch_transfer',\n",
       " 'on_before_optimizer_step',\n",
       " 'on_before_zero_grad',\n",
       " 'on_fit_end',\n",
       " 'on_fit_start',\n",
       " 'on_gpu',\n",
       " 'on_load_checkpoint',\n",
       " 'on_predict_batch_end',\n",
       " 'on_predict_batch_start',\n",
       " 'on_predict_end',\n",
       " 'on_predict_epoch_end',\n",
       " 'on_predict_epoch_start',\n",
       " 'on_predict_model_eval',\n",
       " 'on_predict_start',\n",
       " 'on_save_checkpoint',\n",
       " 'on_test_batch_end',\n",
       " 'on_test_batch_start',\n",
       " 'on_test_end',\n",
       " 'on_test_epoch_end',\n",
       " 'on_test_epoch_start',\n",
       " 'on_test_model_eval',\n",
       " 'on_test_model_train',\n",
       " 'on_test_start',\n",
       " 'on_train_batch_end',\n",
       " 'on_train_batch_start',\n",
       " 'on_train_end',\n",
       " 'on_train_epoch_end',\n",
       " 'on_train_epoch_start',\n",
       " 'on_train_start',\n",
       " 'on_validation_batch_end',\n",
       " 'on_validation_batch_start',\n",
       " 'on_validation_end',\n",
       " 'on_validation_epoch_end',\n",
       " 'on_validation_epoch_start',\n",
       " 'on_validation_model_eval',\n",
       " 'on_validation_model_train',\n",
       " 'on_validation_model_zero_grad',\n",
       " 'on_validation_start',\n",
       " 'optimizer',\n",
       " 'optimizer_kwargs',\n",
       " 'optimizer_step',\n",
       " 'optimizer_zero_grad',\n",
       " 'optimizers',\n",
       " 'output_adapter',\n",
       " 'padder_train',\n",
       " 'parameters',\n",
       " 'predict',\n",
       " 'predict_dataloader',\n",
       " 'predict_step',\n",
       " 'prepare_data',\n",
       " 'prepare_data_per_node',\n",
       " 'print',\n",
       " 'random_seed',\n",
       " 'register_backward_hook',\n",
       " 'register_buffer',\n",
       " 'register_forward_hook',\n",
       " 'register_forward_pre_hook',\n",
       " 'register_full_backward_hook',\n",
       " 'register_full_backward_pre_hook',\n",
       " 'register_load_state_dict_post_hook',\n",
       " 'register_load_state_dict_pre_hook',\n",
       " 'register_module',\n",
       " 'register_parameter',\n",
       " 'register_state_dict_post_hook',\n",
       " 'register_state_dict_pre_hook',\n",
       " 'requires_grad_',\n",
       " 'save',\n",
       " 'save_hyperparameters',\n",
       " 'scaler',\n",
       " 'set_extra_state',\n",
       " 'set_submodule',\n",
       " 'set_test_size',\n",
       " 'setup',\n",
       " 'share_memory',\n",
       " 'start_padding_enabled',\n",
       " 'stat_exog_list',\n",
       " 'stat_exog_size',\n",
       " 'state_dict',\n",
       " 'step_size',\n",
       " 'strict_loading',\n",
       " 'teardown',\n",
       " 'temporal_encoder',\n",
       " 'temporal_fusion_decoder',\n",
       " 'test_dataloader',\n",
       " 'test_size',\n",
       " 'test_step',\n",
       " 'tgt_size',\n",
       " 'to',\n",
       " 'to_empty',\n",
       " 'to_onnx',\n",
       " 'to_torchscript',\n",
       " 'toggle_optimizer',\n",
       " 'train',\n",
       " 'train_dataloader',\n",
       " 'train_trajectories',\n",
       " 'trainer',\n",
       " 'trainer_kwargs',\n",
       " 'training',\n",
       " 'training_step',\n",
       " 'transfer_batch_to_device',\n",
       " 'type',\n",
       " 'unfreeze',\n",
       " 'untoggle_optimizer',\n",
       " 'val_check_steps',\n",
       " 'val_dataloader',\n",
       " 'val_size',\n",
       " 'valid_batch_size',\n",
       " 'valid_loss',\n",
       " 'valid_trajectories',\n",
       " 'validation_step',\n",
       " 'validation_step_outputs',\n",
       " 'windows_batch_size',\n",
       " 'xpu',\n",
       " 'zero_grad']"
      ]
     },
     "execution_count": 11,
     "metadata": {},
     "output_type": "execute_result"
    }
   ],
   "source": [
    "mod=forecast_model.models[0]\n",
    "dir(mod)"
   ]
  },
  {
   "cell_type": "code",
   "execution_count": 12,
   "metadata": {},
   "outputs": [
    {
     "data": {
      "text/plain": [
       "{'y': <coreforecast.scalers.LocalRobustScaler at 0x103b47ca0>,\n",
       " 'feature_hour_of_day': <coreforecast.scalers.LocalRobustScaler at 0x168a931c0>,\n",
       " 'feature_day_of_week': <coreforecast.scalers.LocalRobustScaler at 0x168a93f40>,\n",
       " 'feature_day_of_month': <coreforecast.scalers.LocalRobustScaler at 0x168a93fd0>,\n",
       " 'feature_day_of_year': <coreforecast.scalers.LocalRobustScaler at 0x168a92f20>,\n",
       " 'feature_BBANDS_BB_UPPER': <coreforecast.scalers.LocalRobustScaler at 0x168a93ca0>,\n",
       " 'feature_BBANDS_BB_MIDDLE': <coreforecast.scalers.LocalRobustScaler at 0x168a93f70>,\n",
       " 'feature_BBANDS_BB_LOWER': <coreforecast.scalers.LocalRobustScaler at 0x168a93eb0>,\n",
       " 'feature_MACD_MACD': <coreforecast.scalers.LocalRobustScaler at 0x16896dae0>,\n",
       " 'feature_MACD_SIGNAL': <coreforecast.scalers.LocalRobustScaler at 0x168bf2050>,\n",
       " 'feature_14_period_RSI': <coreforecast.scalers.LocalRobustScaler at 0x168bf17e0>,\n",
       " 'feature_14_period_STOCH_%K': <coreforecast.scalers.LocalRobustScaler at 0x168bf2110>}"
      ]
     },
     "execution_count": 12,
     "metadata": {},
     "output_type": "execute_result"
    }
   ],
   "source": [
    "forecast_model.scalers_"
   ]
  },
  {
   "cell_type": "code",
   "execution_count": 13,
   "metadata": {},
   "outputs": [
    {
     "data": {
      "text/plain": [
       "'USDJPY'"
      ]
     },
     "execution_count": 13,
     "metadata": {},
     "output_type": "execute_result"
    }
   ],
   "source": [
    "base_asset=defaults.base_asset\n",
    "quote_asset=defaults.quote_asset   \n",
    "test_net=True\n",
    "time_frame=defaults.time_frame\n",
    "product_type=defaults.product_type\n",
    "exchange=defaults.exchange\n",
    "trade_target=defaults.target_pair\n",
    "trade_target"
   ]
  },
  {
   "cell_type": "code",
   "execution_count": null,
   "metadata": {},
   "outputs": [],
   "source": []
  },
  {
   "cell_type": "code",
   "execution_count": 14,
   "metadata": {},
   "outputs": [
    {
     "name": "stdout",
     "output_type": "stream",
     "text": [
      "Connected to oanda client\n",
      "Getting data\n"
     ]
    },
    {
     "name": "stderr",
     "output_type": "stream",
     "text": [
      "100%|██████████| 78/78 [00:00<00:00, 11944.78it/s]\n",
      "GPU available: True (mps), used: True\n",
      "TPU available: False, using: 0 TPU cores\n",
      "HPU available: False, using: 0 HPUs\n"
     ]
    },
    {
     "data": {
      "application/vnd.jupyter.widget-view+json": {
       "model_id": "ade375ffd00b4436a57eb83243319717",
       "version_major": 2,
       "version_minor": 0
      },
      "text/plain": [
       "Predicting: |          | 0/? [00:00<?, ?it/s]"
      ]
     },
     "metadata": {},
     "output_type": "display_data"
    },
    {
     "name": "stderr",
     "output_type": "stream",
     "text": [
      "GPU available: True (mps), used: True\n",
      "TPU available: False, using: 0 TPU cores\n",
      "HPU available: False, using: 0 HPUs\n"
     ]
    },
    {
     "data": {
      "application/vnd.jupyter.widget-view+json": {
       "model_id": "acd1494e85d34697a9ff3ef37ee276f7",
       "version_major": 2,
       "version_minor": 0
      },
      "text/plain": [
       "Predicting: |          | 0/? [00:00<?, ?it/s]"
      ]
     },
     "metadata": {},
     "output_type": "display_data"
    }
   ],
   "source": [
    "live_env=BaseLiveTradingEnv(\n",
    "            api_key=oanda_api_key,\n",
    "            account_id=oanda_account_id,\n",
    "            paper=test_net,\n",
    "            symbol=trade_target,\n",
    "            time_frame=time_frame,\n",
    "            product_type=product_type,\n",
    "            positions=[-1,1],\n",
    "            history_path='Trade_history/trade.db',\n",
    "            exchange=exchange,\n",
    "            forecast_model=forecast_model,\n",
    "            reward_function=diff_reward_function,\n",
    "            \n",
    "            discord_webhook=discord_forex_webhook\n",
    "\n",
    "            )"
   ]
  },
  {
   "cell_type": "code",
   "execution_count": null,
   "metadata": {},
   "outputs": [],
   "source": [
    "live_env.client.symbol,live_env.client.base_asset,live_env.client.quote_asset"
   ]
  },
  {
   "cell_type": "code",
   "execution_count": null,
   "metadata": {},
   "outputs": [],
   "source": [
    "live_env.reset()\n",
    "# live_env.step(0)"
   ]
  },
  {
   "cell_type": "code",
   "execution_count": null,
   "metadata": {},
   "outputs": [],
   "source": [
    "# live_env.client._position_frame.loc[live_env.symbol,'balance']\n",
    "history"
   ]
  },
  {
   "cell_type": "code",
   "execution_count": null,
   "metadata": {},
   "outputs": [],
   "source": [
    "live_env.client._account\n"
   ]
  },
  {
   "cell_type": "code",
   "execution_count": null,
   "metadata": {},
   "outputs": [],
   "source": [
    "plot_df=live_env.prepare_plot_df()\n",
    "history=live_env.load_history()\n",
    "\n",
    "plot_df['ds']=pd.to_datetime(plot_df['ds']).dt.tz_localize('US/Pacific')\n",
    "plot_df['ds'].reset_index(drop=True)\n",
    "history['date']=pd.to_datetime([pd.Timestamp(d) for d in history['date']]).tz_convert('US/Pacific')\n",
    "history['date']\n",
    "plot_df.iloc[-1]['ds']\n"
   ]
  },
  {
   "cell_type": "code",
   "execution_count": null,
   "metadata": {},
   "outputs": [],
   "source": [
    "history.iloc[0]['date']"
   ]
  },
  {
   "cell_type": "code",
   "execution_count": 104,
   "metadata": {},
   "outputs": [],
   "source": [
    "history=history[history['date']<=plot_df.iloc[-1]['ds']].copy()\n",
    "history=history[history['date']>=plot_df.iloc[0]['ds']].copy()\n",
    "plot_df=plot_df[plot_df['ds']>history.iloc[0]['date']]"
   ]
  },
  {
   "cell_type": "code",
   "execution_count": 105,
   "metadata": {},
   "outputs": [],
   "source": [
    "\n",
    "change_history=history[history['Current_position']!=history['Trade_to']]\n",
    "change_history=change_history[['date','Trade_to','Current_position','price','portfolio_valuation']]\n",
    "change_history['Trade_to']=change_history['Trade_to'].astype(int)\n",
    "change_history['price']=change_history['price'].astype(float)\n",
    "change_history['portfolio_valuation']=change_history['portfolio_valuation'].astype(float)"
   ]
  },
  {
   "cell_type": "code",
   "execution_count": null,
   "metadata": {},
   "outputs": [],
   "source": [
    "\n",
    "buys=change_history[change_history['Trade_to']==1].copy()\n",
    "sells=change_history[change_history['Trade_to']<1].copy()\n",
    "sells"
   ]
  },
  {
   "cell_type": "code",
   "execution_count": 110,
   "metadata": {},
   "outputs": [],
   "source": [
    "plot_df['close']=plot_df['close'].astype(float)"
   ]
  },
  {
   "cell_type": "code",
   "execution_count": null,
   "metadata": {},
   "outputs": [],
   "source": [
    "plot_df['close']"
   ]
  },
  {
   "cell_type": "code",
   "execution_count": null,
   "metadata": {},
   "outputs": [],
   "source": [
    "fig,axes=plt.subplots(sharex=False, sharey=False, figsize=(10, 5))\n",
    "time=pd.Timestamp(plot_df['ds'].values[-1]).strftime('%m-%d-%Y %I:%M%p')\n",
    "plot_df['ds']=pd.to_datetime(plot_df['ds'])\n",
    "axes.plot(plot_df['ds'], plot_df['close'], label='Close Price')\n",
    "\n",
    "\n",
    "# axes.scatter(buys['date'],buys['price'],color='green',label='Buys',marker='^')\n",
    "# axes.scatter(sells['date'],sells['price'],color='red',label='Sells',marker='v')\n",
    "# plot_df['ds'].values[-1]\n",
    "# axes.legend()\n"
   ]
  },
  {
   "cell_type": "code",
   "execution_count": null,
   "metadata": {},
   "outputs": [],
   "source": [
    "live_env.raw_df"
   ]
  },
  {
   "cell_type": "code",
   "execution_count": null,
   "metadata": {},
   "outputs": [],
   "source": [
    "model_name=defaults.model_name\n",
    "agent_path=f'Agent/pearl_{model_name}_model.pkl'\n",
    "agent,learning_params=pearl_utils.load_agent_from_study(study_path=\"sqlite:///pearl_hyper_parameters.sqlite3\",\n",
    "                                        study_name=f'pearl-{model_name}-hp-search',\n",
    "                                        action_space_dim=2,\n",
    "                                            observation_space_dim=30,)\n",
    "agent=pearl_utils.load_agent_weights(agent,weight_path=agent_path)"
   ]
  },
  {
   "cell_type": "code",
   "execution_count": null,
   "metadata": {},
   "outputs": [],
   "source": [
    "from Pearl.pearl.utils.instantiations.environments.gym_environment import \\\n",
    "    GymEnvironment"
   ]
  },
  {
   "cell_type": "code",
   "execution_count": null,
   "metadata": {},
   "outputs": [],
   "source": [
    "live_pearl_env=GymEnvironment(live_env)"
   ]
  },
  {
   "cell_type": "code",
   "execution_count": null,
   "metadata": {},
   "outputs": [],
   "source": [
    "observation,action_space=live_pearl_env.reset()"
   ]
  },
  {
   "cell_type": "code",
   "execution_count": null,
   "metadata": {},
   "outputs": [],
   "source": [
    "agent.observe(observation, action_space)"
   ]
  },
  {
   "cell_type": "code",
   "execution_count": null,
   "metadata": {},
   "outputs": [],
   "source": [
    "action=agent.act(exploit=True)\n",
    "\n",
    "# action=\n",
    "action"
   ]
  },
  {
   "cell_type": "code",
   "execution_count": null,
   "metadata": {},
   "outputs": [],
   "source": [
    "live_env.client.account()"
   ]
  },
  {
   "cell_type": "code",
   "execution_count": null,
   "metadata": {},
   "outputs": [],
   "source": [
    "action_result=live_pearl_env.step(int(action))\n"
   ]
  },
  {
   "cell_type": "code",
   "execution_count": null,
   "metadata": {},
   "outputs": [],
   "source": [
    "len(live_env.client.trade_client.get_fills()['fills'])"
   ]
  },
  {
   "cell_type": "code",
   "execution_count": null,
   "metadata": {},
   "outputs": [],
   "source": [
    "action_result.observation"
   ]
  },
  {
   "cell_type": "code",
   "execution_count": null,
   "metadata": {},
   "outputs": [],
   "source": [
    "df=live_env.df\n",
    "import pandas as pd"
   ]
  },
  {
   "cell_type": "code",
   "execution_count": null,
   "metadata": {},
   "outputs": [],
   "source": [
    "df['ds_pst']=pd.to_datetime(df['ds'],utc=False)\n",
    "df[['ds','ds_pst']]"
   ]
  },
  {
   "cell_type": "code",
   "execution_count": null,
   "metadata": {},
   "outputs": [],
   "source": [
    "live_env.client.get_trade_rules()"
   ]
  },
  {
   "cell_type": "code",
   "execution_count": null,
   "metadata": {},
   "outputs": [],
   "source": []
  }
 ],
 "metadata": {
  "kernelspec": {
   "display_name": "pearlenv",
   "language": "python",
   "name": "python3"
  },
  "language_info": {
   "codemirror_mode": {
    "name": "ipython",
    "version": 3
   },
   "file_extension": ".py",
   "mimetype": "text/x-python",
   "name": "python",
   "nbconvert_exporter": "python",
   "pygments_lexer": "ipython3",
   "version": "3.10.13"
  }
 },
 "nbformat": 4,
 "nbformat_minor": 2
}
