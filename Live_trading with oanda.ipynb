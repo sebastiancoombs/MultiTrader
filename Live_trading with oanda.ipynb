{
 "cells": [
  {
   "cell_type": "code",
   "execution_count": 16,
   "metadata": {},
   "outputs": [],
   "source": [
    "import sqlite3 as db\n",
    "\n",
    "import pandas as pd\n",
    "import numpy as np\n",
    "\n",
    "from utils.clients import OandaClient\n",
    "from utils.trade_urls import *\n",
    "\n",
    "import sys\n",
    "import json\n",
    "import datetime \n",
    "import Keys\n",
    "import warnings \n",
    "warnings.filterwarnings('ignore')\n",
    "import oandapyV20 as oanda\n",
    "from oandapyV20.contrib.factories import InstrumentsCandlesFactory\n",
    "from oandapyV20 import API\n",
    "from oandapyV20.contrib.requests import MarketOrderRequest as OandaMarketOrder\n",
    "import oandapyV20.endpoints.orders as orders\n",
    "\n",
    "from environments.live_environments import OandaTradingEnv\n",
    "from neuralforecast import NeuralForecast\n",
    "from ray.rllib.policy.policy import Policy\n",
    "from utils.utils import build_market_image, sharpe_reward\n",
    "from utils.mappings import symbol_map, binanace_col_map\n",
    "\n",
    "import pytorch_lightning\n",
    "\n",
    "pytorch_lightning._logger.setLevel(0)"
   ]
  },
  {
   "cell_type": "code",
   "execution_count": 17,
   "metadata": {},
   "outputs": [],
   "source": [
    "\n",
    "pair=target_symbol='USD_JPY'\n",
    "base_asset=pair.split('_')[0]\n",
    "quote_asset=pair.split('_')[1]\n"
   ]
  },
  {
   "cell_type": "code",
   "execution_count": 18,
   "metadata": {},
   "outputs": [],
   "source": [
    "api_key=Keys.oanda_paper_api_key\n",
    "account_id=Keys.oanda_paper_account"
   ]
  },
  {
   "cell_type": "code",
   "execution_count": 29,
   "metadata": {},
   "outputs": [
    {
     "name": "stderr",
     "output_type": "stream",
     "text": [
      "Seed set to 2\n",
      "Seed set to 2\n",
      "Seed set to 16\n",
      "Seed set to 16\n",
      "Seed set to 8\n",
      "Seed set to 8\n",
      "Seed set to 5\n",
      "Seed set to 5\n"
     ]
    }
   ],
   "source": [
    "model=NeuralForecast.load(\"FX_forecasting_model\",verbose=0)\n"
   ]
  },
  {
   "cell_type": "code",
   "execution_count": 35,
   "metadata": {},
   "outputs": [],
   "source": [
    "import torch"
   ]
  },
  {
   "cell_type": "code",
   "execution_count": 38,
   "metadata": {},
   "outputs": [
    {
     "data": {
      "text/plain": [
       "'FX_onnx_forecasting_model_AutoPatchTST'"
      ]
     },
     "execution_count": 38,
     "metadata": {},
     "output_type": "execute_result"
    }
   ],
   "source": []
  },
  {
   "cell_type": "code",
   "execution_count": 47,
   "metadata": {},
   "outputs": [
    {
     "data": {
      "text/plain": [
       "\"activation\":                   gelu\n",
       "\"alias\":                        None\n",
       "\"attn_dropout\":                 0.0\n",
       "\"batch_normalization\":          False\n",
       "\"batch_size\":                   128\n",
       "\"drop_last_loader\":             False\n",
       "\"dropout\":                      0.2\n",
       "\"early_stop_patience_steps\":    -1\n",
       "\"enable_progress_bar\":          False\n",
       "\"encoder_layers\":               3\n",
       "\"exclude_insample_y\":           False\n",
       "\"fc_dropout\":                   0.2\n",
       "\"futr_exog_list\":               None\n",
       "\"h\":                            6\n",
       "\"head_dropout\":                 0.0\n",
       "\"hidden_size\":                  128\n",
       "\"hist_exog_list\":               None\n",
       "\"inference_windows_batch_size\": 1024\n",
       "\"input_size\":                   18\n",
       "\"learn_pos_embed\":              True\n",
       "\"learning_rate\":                0.0007622491439073963\n",
       "\"linear_hidden_size\":           256\n",
       "\"loss\":                         MSE()\n",
       "\"max_steps\":                    5000\n",
       "\"n_heads\":                      4\n",
       "\"num_lr_decays\":                -1\n",
       "\"num_workers_loader\":           0\n",
       "\"optimizer\":                    None\n",
       "\"optimizer_kwargs\":             None\n",
       "\"patch_len\":                    24\n",
       "\"random_seed\":                  2\n",
       "\"res_attention\":                True\n",
       "\"revin\":                        False\n",
       "\"revin_affine\":                 False\n",
       "\"revin_subtract_last\":          True\n",
       "\"scaler_type\":                  standard\n",
       "\"start_padding_enabled\":        False\n",
       "\"stat_exog_list\":               None\n",
       "\"step_size\":                    6\n",
       "\"stride\":                       8\n",
       "\"val_check_steps\":              100\n",
       "\"valid_batch_size\":             None\n",
       "\"valid_loss\":                   MSE()\n",
       "\"windows_batch_size\":           256"
      ]
     },
     "execution_count": 47,
     "metadata": {},
     "output_type": "execute_result"
    }
   ],
   "source": [
    "sub_model=model.models[0]\n",
    "# sub_model.to_onnx(f'FX_onnx_forecasting_model{sub_model.__repr__}')\n",
    "# sub_model.example_input_array=np.zeros(sub_model.input_size)\n",
    "input_sample=np.zeros((sub_model.input_size,sub_model.h,1))\n",
    "# model_name=f'FX_onnx_forecasting_model_{sub_model.__repr__()}'\n",
    "sub_model.hparams\n",
    "\n"
   ]
  },
  {
   "cell_type": "code",
   "execution_count": null,
   "metadata": {},
   "outputs": [],
   "source": [
    "for sub_model in model.models:\n",
    "    "
   ]
  },
  {
   "cell_type": "code",
   "execution_count": 6,
   "metadata": {},
   "outputs": [],
   "source": [
    "agent_dir='Agent/final_checkpoints/policies/default_policy'\n",
    "agent= Policy.from_checkpoint(agent_dir)"
   ]
  },
  {
   "cell_type": "code",
   "execution_count": 7,
   "metadata": {},
   "outputs": [],
   "source": [
    "live_env_config=dict(\n",
    "                name=f'{target_symbol}_train',\n",
    "                model=model,\n",
    "                agent=agent,\n",
    "                api_key=api_key,\n",
    "                account_id=account_id,\n",
    "                test_net=True,\n",
    "                restore_trading=False,\n",
    "                target_symbol=target_symbol,\n",
    "                time_frame='1h',\n",
    "                reward_function=sharpe_reward,\n",
    "                positions = [ -.5,-.25,.25, .5], # -1 (=SHORT), 0(=OUT), +1 (=LONG)\n",
    "                trading_fees = 0.01/100, # 0.01% per stock buy / sell (Binance fees)\n",
    "                borrow_interest_rate= 0.0003/100, # 0.0003% per timestep (one timestep = 1h here)\n",
    "                max_episode_duration=168,\n",
    "                verbose=0,\n",
    "                )"
   ]
  },
  {
   "cell_type": "code",
   "execution_count": 8,
   "metadata": {},
   "outputs": [
    {
     "name": "stdout",
     "output_type": "stream",
     "text": [
      "{'order': {'type': 'MARKET', 'timeInForce': 'FOK', 'instrument': 'USD_JPY', 'units': '10', 'positionFill': 'DEFAULT'}}\n",
      "v3/accounts/101-001-22524644-005/orders\n"
     ]
    }
   ],
   "source": [
    "mktOrder=OandaMarketOrder(\n",
    "                instrument=pair,\n",
    "                units=10,\n",
    "\n",
    "                \n",
    "                )\n",
    "print(mktOrder.data)\n",
    "\n",
    "\n",
    "order_params = orders.OrderCreate(account_id, data=mktOrder.data)\n",
    "print(order_params)"
   ]
  },
  {
   "cell_type": "code",
   "execution_count": null,
   "metadata": {},
   "outputs": [],
   "source": []
  },
  {
   "cell_type": "code",
   "execution_count": 9,
   "metadata": {},
   "outputs": [],
   "source": [
    "from oandapyV20.endpoints.pricing import PricingStream"
   ]
  },
  {
   "cell_type": "code",
   "execution_count": 10,
   "metadata": {},
   "outputs": [
    {
     "name": "stdout",
     "output_type": "stream",
     "text": [
      "WARNING: Predict insample might not provide accurate predictions for                       recurrent model AutoLSTM class yet due to scaling.\n"
     ]
    }
   ],
   "source": [
    "self = OandaTradingEnv(**live_env_config)\n"
   ]
  },
  {
   "cell_type": "code",
   "execution_count": 11,
   "metadata": {},
   "outputs": [
    {
     "data": {
      "text/plain": [
       "{'guaranteedStopLossOrderMode': 'DISABLED',\n",
       " 'hedgingEnabled': False,\n",
       " 'id': '101-001-22524644-005',\n",
       " 'createdTime': '2024-06-17T18:20:04.037670480Z',\n",
       " 'currency': 'USD',\n",
       " 'createdByUserID': 22524644,\n",
       " 'alias': 'RL_trader617',\n",
       " 'marginRate': '0.02',\n",
       " 'lastTransactionID': '153',\n",
       " 'balance': '9994.5161',\n",
       " 'openTradeCount': 0,\n",
       " 'openPositionCount': 0,\n",
       " 'pendingOrderCount': 0,\n",
       " 'pl': '-1.0164',\n",
       " 'resettablePL': '-1.0164',\n",
       " 'resettablePLTime': '0',\n",
       " 'financing': '-4.4675',\n",
       " 'commission': '0.0000',\n",
       " 'dividendAdjustment': '0',\n",
       " 'guaranteedExecutionFees': '0.0000',\n",
       " 'orders': [],\n",
       " 'unrealizedPL': '0.0000',\n",
       " 'NAV': '9994.5161',\n",
       " 'marginUsed': '0.0000',\n",
       " 'marginAvailable': '9994.5161',\n",
       " 'positionValue': '0.0000',\n",
       " 'marginCloseoutUnrealizedPL': '0.0000',\n",
       " 'marginCloseoutNAV': '9994.5161',\n",
       " 'marginCloseoutMarginUsed': '0.0000',\n",
       " 'marginCloseoutPositionValue': '0.0000',\n",
       " 'marginCloseoutPercent': '0.00000',\n",
       " 'withdrawalLimit': '9994.5161',\n",
       " 'marginCallMarginUsed': '0.0000',\n",
       " 'marginCallPercent': '0.00000',\n",
       " 'USDJPY': '0.0000',\n",
       " 'cash': '9994.5161'}"
      ]
     },
     "execution_count": 11,
     "metadata": {},
     "output_type": "execute_result"
    }
   ],
   "source": [
    "self.client._account"
   ]
  },
  {
   "cell_type": "code",
   "execution_count": 12,
   "metadata": {},
   "outputs": [
    {
     "data": {
      "text/plain": [
       "{'type': 'PRICE',\n",
       " 'time': '2024-07-01T19:23:09.513895947Z',\n",
       " 'bids': [{'price': '161.466', 'liquidity': 500000},\n",
       "  {'price': '161.465', 'liquidity': 2500000},\n",
       "  {'price': '161.463', 'liquidity': 2000000},\n",
       "  {'price': '161.460', 'liquidity': 5000000}],\n",
       " 'asks': [{'price': '161.481', 'liquidity': 500000},\n",
       "  {'price': '161.482', 'liquidity': 500000},\n",
       "  {'price': '161.483', 'liquidity': 2000000},\n",
       "  {'price': '161.485', 'liquidity': 2000000},\n",
       "  {'price': '161.487', 'liquidity': 5000000}],\n",
       " 'closeoutBid': '161.446',\n",
       " 'closeoutAsk': '161.501',\n",
       " 'status': 'tradeable',\n",
       " 'tradeable': True,\n",
       " 'quoteHomeConversionFactors': {'positiveUnits': '0.00619268',\n",
       "  'negativeUnits': '0.00619325'},\n",
       " 'instrument': 'USD_JPY'}"
      ]
     },
     "execution_count": 12,
     "metadata": {},
     "output_type": "execute_result"
    }
   ],
   "source": [
    "self.client.get_symbol_info()"
   ]
  },
  {
   "cell_type": "code",
   "execution_count": null,
   "metadata": {},
   "outputs": [],
   "source": []
  },
  {
   "cell_type": "code",
   "execution_count": 13,
   "metadata": {},
   "outputs": [
    {
     "name": "stdout",
     "output_type": "stream",
     "text": [
      "Empty DataFrame\n",
      "Columns: []\n",
      "Index: []\n"
     ]
    },
    {
     "data": {
      "text/plain": [
       "array([ 1.6091061e+02,  6.0238528e+00,  1.5643320e+02,  2.4308258e+02,\n",
       "        1.6101401e+02,  1.6089827e+02,  6.0420933e+00,  1.6100119e+02,\n",
       "        2.7986514e+02,  1.6100999e+02,  1.6091504e+02,  6.0288467e+00,\n",
       "        1.6449919e+02,  1.9050620e+02,  1.6106799e+02,  1.6090736e+02,\n",
       "        5.9636574e+00,  1.4775655e+02,  2.3935020e+02,  1.6112500e+02,\n",
       "        1.6091252e+02,  5.9402781e+00,  1.6289398e+02,  2.2744930e+02,\n",
       "        1.6110400e+02,  1.6090013e+02,  5.9422421e+00,  1.5925748e+02,\n",
       "        2.3909331e+02,  1.6135400e+02,  2.1739131e-02, -5.0000000e-01,\n",
       "       -5.0000000e-01, -1.3698631e-03,  1.6097495e+02,  1.6084927e+02,\n",
       "        1.5971036e+02,  1.4202477e-03,  5.3243744e-01,  2.1093914e-03,\n",
       "       -6.6540889e-02,  2.8176550e-03,  5.5452675e-01,  3.2279319e-03,\n",
       "        3.2613087e+00,  3.1222384e-03,  1.4500892e-01,  4.3726233e-03,\n",
       "       -2.7178321e-02,  2.5939385e-03,  1.0212636e-01,  0.0000000e+00,\n",
       "        0.0000000e+00], dtype=float32)"
      ]
     },
     "execution_count": 13,
     "metadata": {},
     "output_type": "execute_result"
    }
   ],
   "source": [
    "obs,info=self.reset(reset_account=True)\n",
    "obs"
   ]
  },
  {
   "cell_type": "code",
   "execution_count": 14,
   "metadata": {},
   "outputs": [
    {
     "name": "stdout",
     "output_type": "stream",
     "text": [
      "--------------- TRADE ------------------\n",
      "Position_change 0.5\n",
      "portfoliio {'asset': 9994.5161, 'fiat': 0, 'borrowed_asset': 0, 'borrowed_fiat': 0, 'interest_asset': 0, 'interest_fiat': 0, 'valuation': 1613839.5009572501}\n",
      "\n",
      "              Trade 0->0.5 \n",
      "\n",
      "              so BUY 4997.26 USD units or \n",
      "\n",
      "              806919.75 JPY \n",
      "              at 161.4725 JPY per USD\n",
      "            \n",
      "{'symbol': 'USD_JPY', 'side': 'BUY', 'type': 'MARKET', 'time_in_force': 'ioc', 'notional': 4997.0}\n"
     ]
    }
   ],
   "source": [
    "self._trade(.5)"
   ]
  },
  {
   "cell_type": "markdown",
   "metadata": {},
   "source": []
  },
  {
   "cell_type": "markdown",
   "metadata": {},
   "source": [
    "Streaming_Steps"
   ]
  },
  {
   "cell_type": "code",
   "execution_count": 15,
   "metadata": {},
   "outputs": [
    {
     "ename": "NameError",
     "evalue": "name 'asfdsf' is not defined",
     "output_type": "error",
     "traceback": [
      "\u001b[0;31m---------------------------------------------------------------------------\u001b[0m",
      "\u001b[0;31mNameError\u001b[0m                                 Traceback (most recent call last)",
      "Cell \u001b[0;32mIn[15], line 2\u001b[0m\n\u001b[1;32m      1\u001b[0m api\u001b[38;5;241m=\u001b[39mAPI(access_token\u001b[38;5;241m=\u001b[39mapi_key)\n\u001b[0;32m----> 2\u001b[0m \u001b[43masfdsf\u001b[49m\n",
      "\u001b[0;31mNameError\u001b[0m: name 'asfdsf' is not defined"
     ]
    }
   ],
   "source": [
    "api=API(access_token=api_key)\n",
    "asfdsf"
   ]
  },
  {
   "cell_type": "code",
   "execution_count": null,
   "metadata": {},
   "outputs": [],
   "source": [
    "import oandapyV20.endpoints.pricing as pricing\n",
    "from oandapyV20.exceptions import StreamTerminated"
   ]
  },
  {
   "cell_type": "code",
   "execution_count": null,
   "metadata": {},
   "outputs": [],
   "source": [
    "instruments = [\"EUR_USD\"]\n",
    "r = pricing.PricingStream(accountID=account_id, params={\"instruments\": \",\".join(instruments)})\n",
    "\n",
    "n = 0\n",
    "stopAfter = 3 # let's terminate after receiving 3 ticks\n",
    "try:\n",
    "    # the stream requests returns a generator so we can do ...\n",
    "    for tick in api.request(r):\n",
    "        print(tick)\n",
    "        time_stamp=pd.Timestamp(tick['time'])\n",
    "        print (f' Minutes {time_stamp.minute}')\n",
    "\n",
    "        if n >= stopAfter:\n",
    "            r.terminate()\n",
    "        n += 1\n",
    "        \n",
    "except StreamTerminated as err:\n",
    "    print(\"Stream processing ended because we made it stop after {} ticks\".format(n))"
   ]
  },
  {
   "cell_type": "markdown",
   "metadata": {},
   "source": []
  },
  {
   "cell_type": "code",
   "execution_count": null,
   "metadata": {},
   "outputs": [],
   "source": [
    "self.client.update_positions()\n",
    "self.client._positions"
   ]
  },
  {
   "cell_type": "code",
   "execution_count": null,
   "metadata": {},
   "outputs": [],
   "source": [
    "req=accounts.AccountDetails(self.account_id)\n",
    "resp=self.api.request(req)['account']\n",
    "positions=resp.pop('positions')\n",
    "trades=resp.pop('trades')\n",
    "positions\n"
   ]
  },
  {
   "cell_type": "code",
   "execution_count": null,
   "metadata": {},
   "outputs": [],
   "source": [
    "delta=pd.Timedelta(self.time_frame)*(48*5)\n",
    "now=datetime.datetime.now()\n",
    "start_date=(now-delta)\n",
    "start_date=start_date.strftime('%Y-%m-%dT%H:%M:%SZ')\n",
    "now=now.strftime('%Y-%m-%dT%H:%M:%SZ')\n",
    "start_date,now"
   ]
  },
  {
   "cell_type": "code",
   "execution_count": null,
   "metadata": {},
   "outputs": [],
   "source": [
    "self.account()"
   ]
  },
  {
   "cell_type": "code",
   "execution_count": null,
   "metadata": {},
   "outputs": [],
   "source": [
    "self.symbol"
   ]
  },
  {
   "cell_type": "code",
   "execution_count": null,
   "metadata": {},
   "outputs": [],
   "source": [
    "price=self.ticker_price(self.symbol)\n",
    "price"
   ]
  },
  {
   "cell_type": "code",
   "execution_count": null,
   "metadata": {},
   "outputs": [],
   "source": [
    "trade_info=self.get_trade_rules()\n",
    "min_asset_size=trade_info['min_asset_size']\n",
    "min_quote_size=min_asset_size*price\n",
    "prec=trade_info['quote_asset_precision']\n",
    "\n",
    "size=min_asset_size*price\n",
    "quant=round(size,prec)\n",
    "quant_norm=max([min_asset_size,quant])\n",
    "quant,quant_norm,min_asset_size"
   ]
  },
  {
   "cell_type": "code",
   "execution_count": null,
   "metadata": {},
   "outputs": [],
   "source": [
    "quant=quant_norm\n",
    "params = {\n",
    "    'symbol': self.symbol,\n",
    "    'side':\"buy\",\n",
    "    'type': 'MARKET',\n",
    "    # 'qty':min_asset_size\n",
    "    'notional':quant,\n",
    "    \"time_in_force\":'ioc'\n",
    "    }"
   ]
  },
  {
   "cell_type": "code",
   "execution_count": null,
   "metadata": {},
   "outputs": [],
   "source": [
    "# preparing market order\n",
    "market_order_data = self.order(params=params)\n",
    "market_order_data"
   ]
  },
  {
   "cell_type": "markdown",
   "metadata": {},
   "source": []
  },
  {
   "cell_type": "code",
   "execution_count": null,
   "metadata": {},
   "outputs": [],
   "source": [
    "positions = self.trade_client.get_all_positions()\n",
    "position_list=[p.dict() for p in positions]\n",
    "pos_frame=pd.DataFrame.from_dict(position_list)\n",
    "pos_frame['symbol']\n",
    "pos_frame=pos_frame.set_index('symbol')\n",
    "pos_frame['qty_available'].to_dict()"
   ]
  },
  {
   "cell_type": "code",
   "execution_count": null,
   "metadata": {},
   "outputs": [],
   "source": [
    "def get_asset_info(self,pair):\n",
    "    info=trading_client.get_asset(pair)\n",
    "    info=info.dict()\n"
   ]
  },
  {
   "cell_type": "code",
   "execution_count": null,
   "metadata": {},
   "outputs": [],
   "source": [
    "def set_trade_rules(self):\n",
    "    assets=trading_client.get_all_assets()\n",
    "    asset_df=pd.DataFrame.from_dict([asset.dict() for asset in assets])\n",
    "    asset_df=asset_df.set_index('symbol')\n",
    "    asset_df.loc[pair]"
   ]
  },
  {
   "cell_type": "code",
   "execution_count": null,
   "metadata": {},
   "outputs": [],
   "source": []
  },
  {
   "cell_type": "code",
   "execution_count": null,
   "metadata": {},
   "outputs": [],
   "source": [
    "account=trading_client.get_account()\n",
    "account.dict()"
   ]
  },
  {
   "cell_type": "code",
   "execution_count": null,
   "metadata": {},
   "outputs": [],
   "source": [
    "\n",
    "cash=account['cash']\n",
    "int(cash)"
   ]
  },
  {
   "cell_type": "code",
   "execution_count": null,
   "metadata": {},
   "outputs": [],
   "source": []
  },
  {
   "cell_type": "code",
   "execution_count": null,
   "metadata": {},
   "outputs": [],
   "source": [
    "renderer=LiveRenderer('Trade_history/trade.db')"
   ]
  },
  {
   "cell_type": "code",
   "execution_count": null,
   "metadata": {},
   "outputs": [],
   "source": [
    "renderer=LiveRenderer('Trade_history/trade.db')\n",
    "renderer.run()\n"
   ]
  },
  {
   "cell_type": "code",
   "execution_count": null,
   "metadata": {},
   "outputs": [],
   "source": []
  },
  {
   "cell_type": "code",
   "execution_count": null,
   "metadata": {},
   "outputs": [],
   "source": [
    "sql_query = \"\"\"SELECT name FROM sqlite_master  \n",
    "  WHERE type='table';\"\"\"\n",
    "\n",
    "cursor.execute(sql_query)\n",
    "render_names=[t[0] for t in cursor.fetchall()]\n",
    "name=render_names[0]\n",
    "df=pd.read_sql(f'select * from {name}',conn)\n",
    "df"
   ]
  },
  {
   "cell_type": "code",
   "execution_count": null,
   "metadata": {},
   "outputs": [],
   "source": []
  },
  {
   "cell_type": "code",
   "execution_count": null,
   "metadata": {},
   "outputs": [],
   "source": []
  },
  {
   "cell_type": "code",
   "execution_count": null,
   "metadata": {},
   "outputs": [],
   "source": [
    "# df.columns=[c.replace('data_','') for c in df.columns]\n",
    "# df['date']=df['date'].apply(pd.to_datetime)\n",
    "# df=df.set_index('date')\n",
    "df"
   ]
  },
  {
   "cell_type": "code",
   "execution_count": null,
   "metadata": {},
   "outputs": [],
   "source": [
    "# df=df[~df.close.isna()]\n",
    "mask=df[(df['date']=='62')==True].index\n",
    "df.loc[mask,'date']=df.loc[mask,'ds'].copy()\n"
   ]
  },
  {
   "cell_type": "code",
   "execution_count": null,
   "metadata": {},
   "outputs": [],
   "source": [
    "df"
   ]
  },
  {
   "cell_type": "code",
   "execution_count": null,
   "metadata": {},
   "outputs": [],
   "source": [
    "df.to_sql(render_names[0],conn,if_exists='replace',index=False)"
   ]
  },
  {
   "cell_type": "code",
   "execution_count": null,
   "metadata": {},
   "outputs": [],
   "source": [
    "import datetime"
   ]
  },
  {
   "cell_type": "code",
   "execution_count": null,
   "metadata": {},
   "outputs": [],
   "source": [
    "df.iloc[[-1]].to_dict('records')[0]"
   ]
  },
  {
   "cell_type": "code",
   "execution_count": null,
   "metadata": {},
   "outputs": [],
   "source": [
    "pd.Timestamp(datetime.datetime.now())"
   ]
  },
  {
   "cell_type": "code",
   "execution_count": null,
   "metadata": {},
   "outputs": [],
   "source": []
  }
 ],
 "metadata": {
  "kernelspec": {
   "display_name": "MLenv",
   "language": "python",
   "name": "python3"
  },
  "language_info": {
   "codemirror_mode": {
    "name": "ipython",
    "version": 3
   },
   "file_extension": ".py",
   "mimetype": "text/x-python",
   "name": "python",
   "nbconvert_exporter": "python",
   "pygments_lexer": "ipython3",
   "version": "3.10.14"
  }
 },
 "nbformat": 4,
 "nbformat_minor": 2
}
