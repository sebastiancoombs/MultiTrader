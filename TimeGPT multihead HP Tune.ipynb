{
 "cells": [
  {
   "cell_type": "code",
   "execution_count": null,
   "metadata": {},
   "outputs": [],
   "source": [
    "\n",
    "import warnings\n",
    "\n",
    "import matplotlib.pyplot as plt\n",
    "# import MultiTrade\n",
    "import numpy as np\n",
    "import pandas as pd\n",
    "from IPython.display import display\n",
    "from neuralforecast.core import NeuralForecast\n",
    "\n",
    "from neuralforecast.auto import AutoBiTCN, AutoNBEATS, AutoTFT\n",
    "from neuralforecast.losses.pytorch import RMSE\n",
    "\n",
    "# from statsforecast import StatsForecast\n",
    "\n",
    "from utils.utils import build_market_image,train_test_split_data\n",
    "from configs import defaults\n",
    "import datetime\n",
    "warnings.filterwarnings(\"ignore\")"
   ]
  },
  {
   "cell_type": "code",
   "execution_count": 2,
   "metadata": {},
   "outputs": [],
   "source": [
    "COIN_PAIRS=defaults.COIN_PAIRS\n",
    "target_pair=defaults.target_pair\n",
    "time_frame=defaults.time_frame\n",
    "DATA_DIR=defaults.DATA_DIR"
   ]
  },
  {
   "cell_type": "code",
   "execution_count": 3,
   "metadata": {},
   "outputs": [],
   "source": [
    "\n",
    "horizon = 7\n",
    "context_length=5*horizon\n",
    "split_n_days=30\n",
    "round_time='H'\n",
    "id_col='symbol'\n",
    "save_path=defaults.forecasting_model_path"
   ]
  },
  {
   "cell_type": "code",
   "execution_count": 4,
   "metadata": {},
   "outputs": [
    {
     "name": "stdout",
     "output_type": "stream",
     "text": [
      "['data/binanceus-DOGEUSDT-1h.pkl']\n"
     ]
    },
    {
     "name": "stderr",
     "output_type": "stream",
     "text": [
      "100%|██████████| 78/78 [00:00<00:00, 11330.46it/s]\n",
      "1it [00:00,  7.19it/s]"
     ]
    },
    {
     "name": "stdout",
     "output_type": "stream",
     "text": [
      "2024-10-20 13:00:00 2024-11-19 13:00:00\n"
     ]
    },
    {
     "name": "stderr",
     "output_type": "stream",
     "text": [
      "\n"
     ]
    },
    {
     "data": {
      "text/html": [
       "<div>\n",
       "<style scoped>\n",
       "    .dataframe tbody tr th:only-of-type {\n",
       "        vertical-align: middle;\n",
       "    }\n",
       "\n",
       "    .dataframe tbody tr th {\n",
       "        vertical-align: top;\n",
       "    }\n",
       "\n",
       "    .dataframe thead th {\n",
       "        text-align: right;\n",
       "    }\n",
       "</style>\n",
       "<table border=\"1\" class=\"dataframe\">\n",
       "  <thead>\n",
       "    <tr style=\"text-align: right;\">\n",
       "      <th></th>\n",
       "      <th>open</th>\n",
       "      <th>high</th>\n",
       "      <th>low</th>\n",
       "      <th>close</th>\n",
       "      <th>volume</th>\n",
       "      <th>y</th>\n",
       "      <th>feature_hour_of_day</th>\n",
       "      <th>feature_day_of_week</th>\n",
       "      <th>feature_day_of_month</th>\n",
       "      <th>feature_day_of_year</th>\n",
       "      <th>feature_BBANDS_BB_UPPER</th>\n",
       "      <th>feature_BBANDS_BB_MIDDLE</th>\n",
       "      <th>feature_BBANDS_BB_LOWER</th>\n",
       "      <th>feature_MACD_MACD</th>\n",
       "      <th>feature_MACD_SIGNAL</th>\n",
       "      <th>feature_14_period_RSI</th>\n",
       "      <th>feature_14_period_STOCH_%K</th>\n",
       "      <th>ds</th>\n",
       "      <th>unique_id</th>\n",
       "      <th>symbol</th>\n",
       "    </tr>\n",
       "    <tr>\n",
       "      <th>date_close</th>\n",
       "      <th></th>\n",
       "      <th></th>\n",
       "      <th></th>\n",
       "      <th></th>\n",
       "      <th></th>\n",
       "      <th></th>\n",
       "      <th></th>\n",
       "      <th></th>\n",
       "      <th></th>\n",
       "      <th></th>\n",
       "      <th></th>\n",
       "      <th></th>\n",
       "      <th></th>\n",
       "      <th></th>\n",
       "      <th></th>\n",
       "      <th></th>\n",
       "      <th></th>\n",
       "      <th></th>\n",
       "      <th></th>\n",
       "      <th></th>\n",
       "    </tr>\n",
       "  </thead>\n",
       "  <tbody>\n",
       "    <tr>\n",
       "      <th>2024-01-01 10:00:00</th>\n",
       "      <td>0.08975</td>\n",
       "      <td>0.08976</td>\n",
       "      <td>0.08975</td>\n",
       "      <td>0.08976</td>\n",
       "      <td>6209.0</td>\n",
       "      <td>0.08976</td>\n",
       "      <td>-0.065217</td>\n",
       "      <td>-0.5</td>\n",
       "      <td>-0.500000</td>\n",
       "      <td>-0.500000</td>\n",
       "      <td>0.000000</td>\n",
       "      <td>0.000000</td>\n",
       "      <td>0.000000</td>\n",
       "      <td>0.000000</td>\n",
       "      <td>0.000000</td>\n",
       "      <td>0.000000</td>\n",
       "      <td>0.000000</td>\n",
       "      <td>2024-01-01 10:00:00</td>\n",
       "      <td>25</td>\n",
       "      <td>DOGEUSDT</td>\n",
       "    </tr>\n",
       "    <tr>\n",
       "      <th>2024-01-01 11:00:00</th>\n",
       "      <td>0.08977</td>\n",
       "      <td>0.09012</td>\n",
       "      <td>0.08972</td>\n",
       "      <td>0.09012</td>\n",
       "      <td>13750.0</td>\n",
       "      <td>0.09012</td>\n",
       "      <td>-0.021739</td>\n",
       "      <td>-0.5</td>\n",
       "      <td>-0.500000</td>\n",
       "      <td>-0.500000</td>\n",
       "      <td>0.000000</td>\n",
       "      <td>0.000000</td>\n",
       "      <td>0.000000</td>\n",
       "      <td>0.000008</td>\n",
       "      <td>0.000004</td>\n",
       "      <td>100.000000</td>\n",
       "      <td>0.000000</td>\n",
       "      <td>2024-01-01 11:00:00</td>\n",
       "      <td>25</td>\n",
       "      <td>DOGEUSDT</td>\n",
       "    </tr>\n",
       "    <tr>\n",
       "      <th>2024-01-01 12:00:00</th>\n",
       "      <td>0.09008</td>\n",
       "      <td>0.09008</td>\n",
       "      <td>0.08992</td>\n",
       "      <td>0.08992</td>\n",
       "      <td>583.0</td>\n",
       "      <td>0.08992</td>\n",
       "      <td>0.021739</td>\n",
       "      <td>-0.5</td>\n",
       "      <td>-0.500000</td>\n",
       "      <td>-0.500000</td>\n",
       "      <td>0.000000</td>\n",
       "      <td>0.000000</td>\n",
       "      <td>0.000000</td>\n",
       "      <td>0.000004</td>\n",
       "      <td>0.000004</td>\n",
       "      <td>62.566845</td>\n",
       "      <td>0.000000</td>\n",
       "      <td>2024-01-01 12:00:00</td>\n",
       "      <td>25</td>\n",
       "      <td>DOGEUSDT</td>\n",
       "    </tr>\n",
       "    <tr>\n",
       "      <th>2024-01-01 13:00:00</th>\n",
       "      <td>0.08995</td>\n",
       "      <td>0.09046</td>\n",
       "      <td>0.08995</td>\n",
       "      <td>0.09040</td>\n",
       "      <td>12750.0</td>\n",
       "      <td>0.09040</td>\n",
       "      <td>0.065217</td>\n",
       "      <td>-0.5</td>\n",
       "      <td>-0.500000</td>\n",
       "      <td>-0.500000</td>\n",
       "      <td>0.000000</td>\n",
       "      <td>0.000000</td>\n",
       "      <td>0.000000</td>\n",
       "      <td>0.000020</td>\n",
       "      <td>0.000009</td>\n",
       "      <td>80.974284</td>\n",
       "      <td>0.000000</td>\n",
       "      <td>2024-01-01 13:00:00</td>\n",
       "      <td>25</td>\n",
       "      <td>DOGEUSDT</td>\n",
       "    </tr>\n",
       "    <tr>\n",
       "      <th>2024-01-01 14:00:00</th>\n",
       "      <td>0.09018</td>\n",
       "      <td>0.09053</td>\n",
       "      <td>0.09018</td>\n",
       "      <td>0.09053</td>\n",
       "      <td>5594.0</td>\n",
       "      <td>0.09053</td>\n",
       "      <td>0.108696</td>\n",
       "      <td>-0.5</td>\n",
       "      <td>-0.500000</td>\n",
       "      <td>-0.500000</td>\n",
       "      <td>0.000000</td>\n",
       "      <td>0.000000</td>\n",
       "      <td>0.000000</td>\n",
       "      <td>0.000033</td>\n",
       "      <td>0.000016</td>\n",
       "      <td>83.360761</td>\n",
       "      <td>0.000000</td>\n",
       "      <td>2024-01-01 14:00:00</td>\n",
       "      <td>25</td>\n",
       "      <td>DOGEUSDT</td>\n",
       "    </tr>\n",
       "    <tr>\n",
       "      <th>...</th>\n",
       "      <td>...</td>\n",
       "      <td>...</td>\n",
       "      <td>...</td>\n",
       "      <td>...</td>\n",
       "      <td>...</td>\n",
       "      <td>...</td>\n",
       "      <td>...</td>\n",
       "      <td>...</td>\n",
       "      <td>...</td>\n",
       "      <td>...</td>\n",
       "      <td>...</td>\n",
       "      <td>...</td>\n",
       "      <td>...</td>\n",
       "      <td>...</td>\n",
       "      <td>...</td>\n",
       "      <td>...</td>\n",
       "      <td>...</td>\n",
       "      <td>...</td>\n",
       "      <td>...</td>\n",
       "      <td>...</td>\n",
       "    </tr>\n",
       "    <tr>\n",
       "      <th>2024-11-17 15:00:00</th>\n",
       "      <td>0.36347</td>\n",
       "      <td>0.36425</td>\n",
       "      <td>0.35770</td>\n",
       "      <td>0.36143</td>\n",
       "      <td>223141.0</td>\n",
       "      <td>0.36143</td>\n",
       "      <td>0.152174</td>\n",
       "      <td>0.5</td>\n",
       "      <td>0.033333</td>\n",
       "      <td>0.379452</td>\n",
       "      <td>0.374743</td>\n",
       "      <td>0.361372</td>\n",
       "      <td>0.348002</td>\n",
       "      <td>-0.001727</td>\n",
       "      <td>-0.002703</td>\n",
       "      <td>47.544678</td>\n",
       "      <td>60.921502</td>\n",
       "      <td>2024-11-17 15:00:00</td>\n",
       "      <td>25</td>\n",
       "      <td>DOGEUSDT</td>\n",
       "    </tr>\n",
       "    <tr>\n",
       "      <th>2024-11-17 16:00:00</th>\n",
       "      <td>0.36137</td>\n",
       "      <td>0.36550</td>\n",
       "      <td>0.35834</td>\n",
       "      <td>0.36372</td>\n",
       "      <td>137563.0</td>\n",
       "      <td>0.36372</td>\n",
       "      <td>0.195652</td>\n",
       "      <td>0.5</td>\n",
       "      <td>0.033333</td>\n",
       "      <td>0.379452</td>\n",
       "      <td>0.373451</td>\n",
       "      <td>0.360964</td>\n",
       "      <td>0.348477</td>\n",
       "      <td>-0.001471</td>\n",
       "      <td>-0.002457</td>\n",
       "      <td>49.746258</td>\n",
       "      <td>67.434585</td>\n",
       "      <td>2024-11-17 16:00:00</td>\n",
       "      <td>25</td>\n",
       "      <td>DOGEUSDT</td>\n",
       "    </tr>\n",
       "    <tr>\n",
       "      <th>2024-11-17 17:00:00</th>\n",
       "      <td>0.36445</td>\n",
       "      <td>0.36762</td>\n",
       "      <td>0.36062</td>\n",
       "      <td>0.36762</td>\n",
       "      <td>196547.0</td>\n",
       "      <td>0.36762</td>\n",
       "      <td>0.239130</td>\n",
       "      <td>0.5</td>\n",
       "      <td>0.033333</td>\n",
       "      <td>0.379452</td>\n",
       "      <td>0.373621</td>\n",
       "      <td>0.361020</td>\n",
       "      <td>0.348419</td>\n",
       "      <td>-0.000942</td>\n",
       "      <td>-0.002154</td>\n",
       "      <td>53.338130</td>\n",
       "      <td>74.415452</td>\n",
       "      <td>2024-11-17 17:00:00</td>\n",
       "      <td>25</td>\n",
       "      <td>DOGEUSDT</td>\n",
       "    </tr>\n",
       "    <tr>\n",
       "      <th>2024-11-17 18:00:00</th>\n",
       "      <td>0.36663</td>\n",
       "      <td>0.37000</td>\n",
       "      <td>0.36445</td>\n",
       "      <td>0.36722</td>\n",
       "      <td>327394.0</td>\n",
       "      <td>0.36722</td>\n",
       "      <td>0.282609</td>\n",
       "      <td>0.5</td>\n",
       "      <td>0.033333</td>\n",
       "      <td>0.379452</td>\n",
       "      <td>0.373282</td>\n",
       "      <td>0.360922</td>\n",
       "      <td>0.348561</td>\n",
       "      <td>-0.000549</td>\n",
       "      <td>-0.001833</td>\n",
       "      <td>52.920342</td>\n",
       "      <td>71.454219</td>\n",
       "      <td>2024-11-17 18:00:00</td>\n",
       "      <td>25</td>\n",
       "      <td>DOGEUSDT</td>\n",
       "    </tr>\n",
       "    <tr>\n",
       "      <th>2024-11-17 19:00:00</th>\n",
       "      <td>0.36748</td>\n",
       "      <td>0.36748</td>\n",
       "      <td>0.36060</td>\n",
       "      <td>0.36147</td>\n",
       "      <td>80811.0</td>\n",
       "      <td>0.36147</td>\n",
       "      <td>0.326087</td>\n",
       "      <td>0.5</td>\n",
       "      <td>0.033333</td>\n",
       "      <td>0.379452</td>\n",
       "      <td>0.373135</td>\n",
       "      <td>0.360825</td>\n",
       "      <td>0.348515</td>\n",
       "      <td>-0.000693</td>\n",
       "      <td>-0.001605</td>\n",
       "      <td>47.197299</td>\n",
       "      <td>47.042907</td>\n",
       "      <td>2024-11-17 19:00:00</td>\n",
       "      <td>25</td>\n",
       "      <td>DOGEUSDT</td>\n",
       "    </tr>\n",
       "  </tbody>\n",
       "</table>\n",
       "<p>7714 rows × 20 columns</p>\n",
       "</div>"
      ],
      "text/plain": [
       "                        open     high      low    close    volume        y  \\\n",
       "date_close                                                                   \n",
       "2024-01-01 10:00:00  0.08975  0.08976  0.08975  0.08976    6209.0  0.08976   \n",
       "2024-01-01 11:00:00  0.08977  0.09012  0.08972  0.09012   13750.0  0.09012   \n",
       "2024-01-01 12:00:00  0.09008  0.09008  0.08992  0.08992     583.0  0.08992   \n",
       "2024-01-01 13:00:00  0.08995  0.09046  0.08995  0.09040   12750.0  0.09040   \n",
       "2024-01-01 14:00:00  0.09018  0.09053  0.09018  0.09053    5594.0  0.09053   \n",
       "...                      ...      ...      ...      ...       ...      ...   \n",
       "2024-11-17 15:00:00  0.36347  0.36425  0.35770  0.36143  223141.0  0.36143   \n",
       "2024-11-17 16:00:00  0.36137  0.36550  0.35834  0.36372  137563.0  0.36372   \n",
       "2024-11-17 17:00:00  0.36445  0.36762  0.36062  0.36762  196547.0  0.36762   \n",
       "2024-11-17 18:00:00  0.36663  0.37000  0.36445  0.36722  327394.0  0.36722   \n",
       "2024-11-17 19:00:00  0.36748  0.36748  0.36060  0.36147   80811.0  0.36147   \n",
       "\n",
       "                     feature_hour_of_day  feature_day_of_week  \\\n",
       "date_close                                                      \n",
       "2024-01-01 10:00:00            -0.065217                 -0.5   \n",
       "2024-01-01 11:00:00            -0.021739                 -0.5   \n",
       "2024-01-01 12:00:00             0.021739                 -0.5   \n",
       "2024-01-01 13:00:00             0.065217                 -0.5   \n",
       "2024-01-01 14:00:00             0.108696                 -0.5   \n",
       "...                                  ...                  ...   \n",
       "2024-11-17 15:00:00             0.152174                  0.5   \n",
       "2024-11-17 16:00:00             0.195652                  0.5   \n",
       "2024-11-17 17:00:00             0.239130                  0.5   \n",
       "2024-11-17 18:00:00             0.282609                  0.5   \n",
       "2024-11-17 19:00:00             0.326087                  0.5   \n",
       "\n",
       "                     feature_day_of_month  feature_day_of_year  \\\n",
       "date_close                                                       \n",
       "2024-01-01 10:00:00             -0.500000            -0.500000   \n",
       "2024-01-01 11:00:00             -0.500000            -0.500000   \n",
       "2024-01-01 12:00:00             -0.500000            -0.500000   \n",
       "2024-01-01 13:00:00             -0.500000            -0.500000   \n",
       "2024-01-01 14:00:00             -0.500000            -0.500000   \n",
       "...                                   ...                  ...   \n",
       "2024-11-17 15:00:00              0.033333             0.379452   \n",
       "2024-11-17 16:00:00              0.033333             0.379452   \n",
       "2024-11-17 17:00:00              0.033333             0.379452   \n",
       "2024-11-17 18:00:00              0.033333             0.379452   \n",
       "2024-11-17 19:00:00              0.033333             0.379452   \n",
       "\n",
       "                     feature_BBANDS_BB_UPPER  feature_BBANDS_BB_MIDDLE  \\\n",
       "date_close                                                               \n",
       "2024-01-01 10:00:00                 0.000000                  0.000000   \n",
       "2024-01-01 11:00:00                 0.000000                  0.000000   \n",
       "2024-01-01 12:00:00                 0.000000                  0.000000   \n",
       "2024-01-01 13:00:00                 0.000000                  0.000000   \n",
       "2024-01-01 14:00:00                 0.000000                  0.000000   \n",
       "...                                      ...                       ...   \n",
       "2024-11-17 15:00:00                 0.374743                  0.361372   \n",
       "2024-11-17 16:00:00                 0.373451                  0.360964   \n",
       "2024-11-17 17:00:00                 0.373621                  0.361020   \n",
       "2024-11-17 18:00:00                 0.373282                  0.360922   \n",
       "2024-11-17 19:00:00                 0.373135                  0.360825   \n",
       "\n",
       "                     feature_BBANDS_BB_LOWER  feature_MACD_MACD  \\\n",
       "date_close                                                        \n",
       "2024-01-01 10:00:00                 0.000000           0.000000   \n",
       "2024-01-01 11:00:00                 0.000000           0.000008   \n",
       "2024-01-01 12:00:00                 0.000000           0.000004   \n",
       "2024-01-01 13:00:00                 0.000000           0.000020   \n",
       "2024-01-01 14:00:00                 0.000000           0.000033   \n",
       "...                                      ...                ...   \n",
       "2024-11-17 15:00:00                 0.348002          -0.001727   \n",
       "2024-11-17 16:00:00                 0.348477          -0.001471   \n",
       "2024-11-17 17:00:00                 0.348419          -0.000942   \n",
       "2024-11-17 18:00:00                 0.348561          -0.000549   \n",
       "2024-11-17 19:00:00                 0.348515          -0.000693   \n",
       "\n",
       "                     feature_MACD_SIGNAL  feature_14_period_RSI  \\\n",
       "date_close                                                        \n",
       "2024-01-01 10:00:00             0.000000               0.000000   \n",
       "2024-01-01 11:00:00             0.000004             100.000000   \n",
       "2024-01-01 12:00:00             0.000004              62.566845   \n",
       "2024-01-01 13:00:00             0.000009              80.974284   \n",
       "2024-01-01 14:00:00             0.000016              83.360761   \n",
       "...                                  ...                    ...   \n",
       "2024-11-17 15:00:00            -0.002703              47.544678   \n",
       "2024-11-17 16:00:00            -0.002457              49.746258   \n",
       "2024-11-17 17:00:00            -0.002154              53.338130   \n",
       "2024-11-17 18:00:00            -0.001833              52.920342   \n",
       "2024-11-17 19:00:00            -0.001605              47.197299   \n",
       "\n",
       "                     feature_14_period_STOCH_%K                  ds  \\\n",
       "date_close                                                            \n",
       "2024-01-01 10:00:00                    0.000000 2024-01-01 10:00:00   \n",
       "2024-01-01 11:00:00                    0.000000 2024-01-01 11:00:00   \n",
       "2024-01-01 12:00:00                    0.000000 2024-01-01 12:00:00   \n",
       "2024-01-01 13:00:00                    0.000000 2024-01-01 13:00:00   \n",
       "2024-01-01 14:00:00                    0.000000 2024-01-01 14:00:00   \n",
       "...                                         ...                 ...   \n",
       "2024-11-17 15:00:00                   60.921502 2024-11-17 15:00:00   \n",
       "2024-11-17 16:00:00                   67.434585 2024-11-17 16:00:00   \n",
       "2024-11-17 17:00:00                   74.415452 2024-11-17 17:00:00   \n",
       "2024-11-17 18:00:00                   71.454219 2024-11-17 18:00:00   \n",
       "2024-11-17 19:00:00                   47.042907 2024-11-17 19:00:00   \n",
       "\n",
       "                     unique_id    symbol  \n",
       "date_close                                \n",
       "2024-01-01 10:00:00         25  DOGEUSDT  \n",
       "2024-01-01 11:00:00         25  DOGEUSDT  \n",
       "2024-01-01 12:00:00         25  DOGEUSDT  \n",
       "2024-01-01 13:00:00         25  DOGEUSDT  \n",
       "2024-01-01 14:00:00         25  DOGEUSDT  \n",
       "...                        ...       ...  \n",
       "2024-11-17 15:00:00         25  DOGEUSDT  \n",
       "2024-11-17 16:00:00         25  DOGEUSDT  \n",
       "2024-11-17 17:00:00         25  DOGEUSDT  \n",
       "2024-11-17 18:00:00         25  DOGEUSDT  \n",
       "2024-11-17 19:00:00         25  DOGEUSDT  \n",
       "\n",
       "[7714 rows x 20 columns]"
      ]
     },
     "execution_count": 4,
     "metadata": {},
     "output_type": "execute_result"
    }
   ],
   "source": [
    "\n",
    "data=build_market_image(target_pair=target_pair,time_frame=time_frame,axis=0,data_dir=DATA_DIR,only_target=True)\n",
    "# data.index\n",
    "\n",
    "train_data,test_data=train_test_split_data(data=data,n_days=30)\n",
    "\n",
    "# data['symbol'].unique()\n",
    "\n",
    "# test_data\n",
    "data"
   ]
  },
  {
   "cell_type": "code",
   "execution_count": 5,
   "metadata": {},
   "outputs": [],
   "source": [
    "front=['y','ds','symbol']\n",
    "exo_gen_cols=data.filter(like='feature_').columns.tolist()\n",
    "cols=front+[c for c in exo_gen_cols if c not in front]\n",
    "\n",
    "train_data=train_data[cols]\n",
    "test_data=test_data[cols]\n",
    "# train_data\n",
    "# data[id_col].unique()\n",
    "# "
   ]
  },
  {
   "cell_type": "markdown",
   "metadata": {},
   "source": []
  },
  {
   "cell_type": "code",
   "execution_count": 6,
   "metadata": {},
   "outputs": [],
   "source": [
    "import optuna\n",
    "optuna.logging.set_verbosity(optuna.logging.WARNING)"
   ]
  },
  {
   "cell_type": "code",
   "execution_count": 7,
   "metadata": {},
   "outputs": [],
   "source": [
    "forecast_horizon=6\n",
    "backend='optuna'\n",
    "BiTCN_config=AutoBiTCN.get_default_config(h=forecast_horizon,backend=backend)\n",
    "\n",
    "TFT_config=AutoTFT.get_default_config(h=forecast_horizon,backend=backend)\n",
    "NBEATS_config=AutoNBEATS.get_default_config(h=forecast_horizon,backend=backend)"
   ]
  },
  {
   "cell_type": "code",
   "execution_count": 8,
   "metadata": {},
   "outputs": [],
   "source": [
    "BiTCN_MODEL= AutoBiTCN(h=forecast_horizon,\n",
    "                  loss=RMSE(),\n",
    "                  config=BiTCN_config,\n",
    "                  search_alg=optuna.samplers.TPESampler(),\n",
    "                  backend='optuna',\n",
    "                  num_samples=10)\n",
    "\n",
    "TFT_MODEL= AutoTFT(h=forecast_horizon,\n",
    "                  loss=RMSE(),\n",
    "                  config=TFT_config,\n",
    "                  search_alg=optuna.samplers.TPESampler(),\n",
    "                  backend='optuna',\n",
    "                  num_samples=10)\n",
    "\n",
    "NBEATS_MODEL= AutoNBEATS(h=forecast_horizon,\n",
    "                  loss=RMSE(),\n",
    "                  config=NBEATS_config,\n",
    "                  search_alg=optuna.samplers.TPESampler(),\n",
    "                  backend='optuna',\n",
    "                  num_samples=10)\n",
    "\n",
    "models=[BiTCN_MODEL,TFT_MODEL,NBEATS_MODEL]"
   ]
  },
  {
   "cell_type": "code",
   "execution_count": 9,
   "metadata": {},
   "outputs": [],
   "source": [
    "\n",
    "model = NeuralForecast(models=models,\n",
    "                    local_scaler_type='robust',\n",
    "                    \n",
    "                     freq='1h')"
   ]
  },
  {
   "cell_type": "code",
   "execution_count": 10,
   "metadata": {},
   "outputs": [
    {
     "name": "stderr",
     "output_type": "stream",
     "text": [
      "Seed set to 7\n",
      "GPU available: True (mps), used: True\n",
      "TPU available: False, using: 0 TPU cores\n",
      "HPU available: False, using: 0 HPUs\n",
      "\n",
      "  | Name          | Type          | Params | Mode \n",
      "--------------------------------------------------------\n",
      "0 | loss          | RMSE          | 0      | train\n",
      "1 | padder_train  | ConstantPad1d | 0      | train\n",
      "2 | scaler        | TemporalNorm  | 0      | train\n",
      "3 | lin_hist      | Linear        | 64     | train\n",
      "4 | drop_hist     | Dropout       | 0      | train\n",
      "5 | net_bwd       | Sequential    | 21.0 K | train\n",
      "6 | drop_temporal | Dropout       | 0      | train\n",
      "7 | temporal_lin1 | Linear        | 608    | train\n",
      "8 | temporal_lin2 | Linear        | 198    | train\n",
      "9 | output_lin    | Linear        | 33     | train\n",
      "--------------------------------------------------------\n",
      "21.9 K    Trainable params\n",
      "0         Non-trainable params\n",
      "21.9 K    Total params\n",
      "0.087     Total estimated model params size (MB)\n",
      "30        Modules in train mode\n",
      "0         Modules in eval mode\n"
     ]
    },
    {
     "data": {
      "application/vnd.jupyter.widget-view+json": {
       "model_id": "b5a4f00c2ab8454b970e0dd210240dc1",
       "version_major": 2,
       "version_minor": 0
      },
      "text/plain": [
       "Sanity Checking: |          | 0/? [00:00<?, ?it/s]"
      ]
     },
     "metadata": {},
     "output_type": "display_data"
    },
    {
     "data": {
      "application/vnd.jupyter.widget-view+json": {
       "model_id": "1a772a56c2994119b1731373394557b8",
       "version_major": 2,
       "version_minor": 0
      },
      "text/plain": [
       "Training: |          | 0/? [00:00<?, ?it/s]"
      ]
     },
     "metadata": {},
     "output_type": "display_data"
    },
    {
     "data": {
      "application/vnd.jupyter.widget-view+json": {
       "model_id": "61e4ea12094249bdbdf00cc70fd5bb6a",
       "version_major": 2,
       "version_minor": 0
      },
      "text/plain": [
       "Validation: |          | 0/? [00:00<?, ?it/s]"
      ]
     },
     "metadata": {},
     "output_type": "display_data"
    },
    {
     "data": {
      "application/vnd.jupyter.widget-view+json": {
       "model_id": "52fa78fdeafb4f488b772cbc0e17b677",
       "version_major": 2,
       "version_minor": 0
      },
      "text/plain": [
       "Validation: |          | 0/? [00:00<?, ?it/s]"
      ]
     },
     "metadata": {},
     "output_type": "display_data"
    },
    {
     "data": {
      "application/vnd.jupyter.widget-view+json": {
       "model_id": "9424eb1b6c50483c957bebea6271d906",
       "version_major": 2,
       "version_minor": 0
      },
      "text/plain": [
       "Validation: |          | 0/? [00:00<?, ?it/s]"
      ]
     },
     "metadata": {},
     "output_type": "display_data"
    },
    {
     "data": {
      "application/vnd.jupyter.widget-view+json": {
       "model_id": "4349064b2b69455d866301efd6be7df8",
       "version_major": 2,
       "version_minor": 0
      },
      "text/plain": [
       "Validation: |          | 0/? [00:00<?, ?it/s]"
      ]
     },
     "metadata": {},
     "output_type": "display_data"
    },
    {
     "data": {
      "application/vnd.jupyter.widget-view+json": {
       "model_id": "dbcf10bdae254c519d934a1955ace6ae",
       "version_major": 2,
       "version_minor": 0
      },
      "text/plain": [
       "Validation: |          | 0/? [00:00<?, ?it/s]"
      ]
     },
     "metadata": {},
     "output_type": "display_data"
    },
    {
     "data": {
      "application/vnd.jupyter.widget-view+json": {
       "model_id": "e4ec258c01b44f6d8d5ee224e8df6fd7",
       "version_major": 2,
       "version_minor": 0
      },
      "text/plain": [
       "Validation: |          | 0/? [00:00<?, ?it/s]"
      ]
     },
     "metadata": {},
     "output_type": "display_data"
    },
    {
     "data": {
      "application/vnd.jupyter.widget-view+json": {
       "model_id": "7991cebf47b4417681ae75f0ee276aee",
       "version_major": 2,
       "version_minor": 0
      },
      "text/plain": [
       "Validation: |          | 0/? [00:00<?, ?it/s]"
      ]
     },
     "metadata": {},
     "output_type": "display_data"
    },
    {
     "data": {
      "application/vnd.jupyter.widget-view+json": {
       "model_id": "8d3211afe6774a5daa786f8e2613cfe1",
       "version_major": 2,
       "version_minor": 0
      },
      "text/plain": [
       "Validation: |          | 0/? [00:00<?, ?it/s]"
      ]
     },
     "metadata": {},
     "output_type": "display_data"
    },
    {
     "data": {
      "application/vnd.jupyter.widget-view+json": {
       "model_id": "17ac35c5c1394309989be8fe120cf131",
       "version_major": 2,
       "version_minor": 0
      },
      "text/plain": [
       "Validation: |          | 0/? [00:00<?, ?it/s]"
      ]
     },
     "metadata": {},
     "output_type": "display_data"
    },
    {
     "data": {
      "application/vnd.jupyter.widget-view+json": {
       "model_id": "130ad072104a4129a902961d5dd8bf15",
       "version_major": 2,
       "version_minor": 0
      },
      "text/plain": [
       "Validation: |          | 0/? [00:00<?, ?it/s]"
      ]
     },
     "metadata": {},
     "output_type": "display_data"
    },
    {
     "name": "stderr",
     "output_type": "stream",
     "text": [
      "`Trainer.fit` stopped: `max_steps=1000` reached.\n",
      "Seed set to 18\n",
      "GPU available: True (mps), used: True\n",
      "TPU available: False, using: 0 TPU cores\n",
      "HPU available: False, using: 0 HPUs\n",
      "\n",
      "  | Name          | Type          | Params | Mode \n",
      "--------------------------------------------------------\n",
      "0 | loss          | RMSE          | 0      | train\n",
      "1 | padder_train  | ConstantPad1d | 0      | train\n",
      "2 | scaler        | TemporalNorm  | 0      | train\n",
      "3 | lin_hist      | Linear        | 64     | train\n",
      "4 | drop_hist     | Dropout       | 0      | train\n",
      "5 | net_bwd       | Sequential    | 12.6 K | train\n",
      "6 | drop_temporal | Dropout       | 0      | train\n",
      "7 | temporal_lin1 | Linear        | 224    | train\n",
      "8 | temporal_lin2 | Linear        | 198    | train\n",
      "9 | output_lin    | Linear        | 33     | train\n",
      "--------------------------------------------------------\n",
      "13.1 K    Trainable params\n",
      "0         Non-trainable params\n",
      "13.1 K    Total params\n",
      "0.052     Total estimated model params size (MB)\n",
      "22        Modules in train mode\n",
      "0         Modules in eval mode\n"
     ]
    },
    {
     "data": {
      "application/vnd.jupyter.widget-view+json": {
       "model_id": "a77d09940b774af9a01c52a5335b8c14",
       "version_major": 2,
       "version_minor": 0
      },
      "text/plain": [
       "Sanity Checking: |          | 0/? [00:00<?, ?it/s]"
      ]
     },
     "metadata": {},
     "output_type": "display_data"
    },
    {
     "data": {
      "application/vnd.jupyter.widget-view+json": {
       "model_id": "dd474002f6434a5a8b225600b135fe28",
       "version_major": 2,
       "version_minor": 0
      },
      "text/plain": [
       "Training: |          | 0/? [00:00<?, ?it/s]"
      ]
     },
     "metadata": {},
     "output_type": "display_data"
    },
    {
     "data": {
      "application/vnd.jupyter.widget-view+json": {
       "model_id": "cc94fc58f1b94b15bd4ac681420d79a6",
       "version_major": 2,
       "version_minor": 0
      },
      "text/plain": [
       "Validation: |          | 0/? [00:00<?, ?it/s]"
      ]
     },
     "metadata": {},
     "output_type": "display_data"
    },
    {
     "data": {
      "application/vnd.jupyter.widget-view+json": {
       "model_id": "b68594871a7346b9a6041cd565846064",
       "version_major": 2,
       "version_minor": 0
      },
      "text/plain": [
       "Validation: |          | 0/? [00:00<?, ?it/s]"
      ]
     },
     "metadata": {},
     "output_type": "display_data"
    },
    {
     "data": {
      "application/vnd.jupyter.widget-view+json": {
       "model_id": "5d8e9bf161ba492a9c96c4922dfe9068",
       "version_major": 2,
       "version_minor": 0
      },
      "text/plain": [
       "Validation: |          | 0/? [00:00<?, ?it/s]"
      ]
     },
     "metadata": {},
     "output_type": "display_data"
    },
    {
     "data": {
      "application/vnd.jupyter.widget-view+json": {
       "model_id": "41bf8fa719674c16908a442e5116978b",
       "version_major": 2,
       "version_minor": 0
      },
      "text/plain": [
       "Validation: |          | 0/? [00:00<?, ?it/s]"
      ]
     },
     "metadata": {},
     "output_type": "display_data"
    },
    {
     "data": {
      "application/vnd.jupyter.widget-view+json": {
       "model_id": "09cc4c1817eb4d6993f9980952b64c16",
       "version_major": 2,
       "version_minor": 0
      },
      "text/plain": [
       "Validation: |          | 0/? [00:00<?, ?it/s]"
      ]
     },
     "metadata": {},
     "output_type": "display_data"
    },
    {
     "data": {
      "application/vnd.jupyter.widget-view+json": {
       "model_id": "1b291a4f5c804cb1a5081e95c35ab79e",
       "version_major": 2,
       "version_minor": 0
      },
      "text/plain": [
       "Validation: |          | 0/? [00:00<?, ?it/s]"
      ]
     },
     "metadata": {},
     "output_type": "display_data"
    },
    {
     "data": {
      "application/vnd.jupyter.widget-view+json": {
       "model_id": "7c189a2fee114619b635bd496ecca22d",
       "version_major": 2,
       "version_minor": 0
      },
      "text/plain": [
       "Validation: |          | 0/? [00:00<?, ?it/s]"
      ]
     },
     "metadata": {},
     "output_type": "display_data"
    },
    {
     "data": {
      "application/vnd.jupyter.widget-view+json": {
       "model_id": "f347837e576143a49a54a0bcfb865076",
       "version_major": 2,
       "version_minor": 0
      },
      "text/plain": [
       "Validation: |          | 0/? [00:00<?, ?it/s]"
      ]
     },
     "metadata": {},
     "output_type": "display_data"
    },
    {
     "data": {
      "application/vnd.jupyter.widget-view+json": {
       "model_id": "5dbfd0d3eb83423f87315d34951b8984",
       "version_major": 2,
       "version_minor": 0
      },
      "text/plain": [
       "Validation: |          | 0/? [00:00<?, ?it/s]"
      ]
     },
     "metadata": {},
     "output_type": "display_data"
    },
    {
     "data": {
      "application/vnd.jupyter.widget-view+json": {
       "model_id": "6ce2ab798cad48daa495524332272ce2",
       "version_major": 2,
       "version_minor": 0
      },
      "text/plain": [
       "Validation: |          | 0/? [00:00<?, ?it/s]"
      ]
     },
     "metadata": {},
     "output_type": "display_data"
    },
    {
     "name": "stderr",
     "output_type": "stream",
     "text": [
      "`Trainer.fit` stopped: `max_steps=1000` reached.\n",
      "Seed set to 17\n",
      "GPU available: True (mps), used: True\n",
      "TPU available: False, using: 0 TPU cores\n",
      "HPU available: False, using: 0 HPUs\n",
      "\n",
      "  | Name          | Type          | Params | Mode \n",
      "--------------------------------------------------------\n",
      "0 | loss          | RMSE          | 0      | train\n",
      "1 | padder_train  | ConstantPad1d | 0      | train\n",
      "2 | scaler        | TemporalNorm  | 0      | train\n",
      "3 | lin_hist      | Linear        | 32     | train\n",
      "4 | drop_hist     | Dropout       | 0      | train\n",
      "5 | net_bwd       | Sequential    | 4.3 K  | train\n",
      "6 | drop_temporal | Dropout       | 0      | train\n",
      "7 | temporal_lin1 | Linear        | 208    | train\n",
      "8 | temporal_lin2 | Linear        | 102    | train\n",
      "9 | output_lin    | Linear        | 17     | train\n",
      "--------------------------------------------------------\n",
      "4.6 K     Trainable params\n",
      "0         Non-trainable params\n",
      "4.6 K     Total params\n",
      "0.019     Total estimated model params size (MB)\n",
      "26        Modules in train mode\n",
      "0         Modules in eval mode\n"
     ]
    },
    {
     "data": {
      "application/vnd.jupyter.widget-view+json": {
       "model_id": "1fbb3f5b55bc4015b586edf86cf90acf",
       "version_major": 2,
       "version_minor": 0
      },
      "text/plain": [
       "Sanity Checking: |          | 0/? [00:00<?, ?it/s]"
      ]
     },
     "metadata": {},
     "output_type": "display_data"
    },
    {
     "data": {
      "application/vnd.jupyter.widget-view+json": {
       "model_id": "81b73b3169634f65985bf3fec7426b7e",
       "version_major": 2,
       "version_minor": 0
      },
      "text/plain": [
       "Training: |          | 0/? [00:00<?, ?it/s]"
      ]
     },
     "metadata": {},
     "output_type": "display_data"
    },
    {
     "data": {
      "application/vnd.jupyter.widget-view+json": {
       "model_id": "6f9341ba30174101becb1f6cabcf9e21",
       "version_major": 2,
       "version_minor": 0
      },
      "text/plain": [
       "Validation: |          | 0/? [00:00<?, ?it/s]"
      ]
     },
     "metadata": {},
     "output_type": "display_data"
    },
    {
     "data": {
      "application/vnd.jupyter.widget-view+json": {
       "model_id": "a85f35432cc348299bc1c9523ee2c42b",
       "version_major": 2,
       "version_minor": 0
      },
      "text/plain": [
       "Validation: |          | 0/? [00:00<?, ?it/s]"
      ]
     },
     "metadata": {},
     "output_type": "display_data"
    },
    {
     "data": {
      "application/vnd.jupyter.widget-view+json": {
       "model_id": "15f01b915b0b486eae32db4cb4a8fbca",
       "version_major": 2,
       "version_minor": 0
      },
      "text/plain": [
       "Validation: |          | 0/? [00:00<?, ?it/s]"
      ]
     },
     "metadata": {},
     "output_type": "display_data"
    },
    {
     "data": {
      "application/vnd.jupyter.widget-view+json": {
       "model_id": "3e554ce07de84de5b664a286ae847cce",
       "version_major": 2,
       "version_minor": 0
      },
      "text/plain": [
       "Validation: |          | 0/? [00:00<?, ?it/s]"
      ]
     },
     "metadata": {},
     "output_type": "display_data"
    },
    {
     "data": {
      "application/vnd.jupyter.widget-view+json": {
       "model_id": "4589a10996334cc4bc91c933c99c27d6",
       "version_major": 2,
       "version_minor": 0
      },
      "text/plain": [
       "Validation: |          | 0/? [00:00<?, ?it/s]"
      ]
     },
     "metadata": {},
     "output_type": "display_data"
    },
    {
     "data": {
      "application/vnd.jupyter.widget-view+json": {
       "model_id": "c55807c71acc484c8f272aec134f0919",
       "version_major": 2,
       "version_minor": 0
      },
      "text/plain": [
       "Validation: |          | 0/? [00:00<?, ?it/s]"
      ]
     },
     "metadata": {},
     "output_type": "display_data"
    },
    {
     "data": {
      "application/vnd.jupyter.widget-view+json": {
       "model_id": "6961c58da9e74b5ab1283384ae9b3efd",
       "version_major": 2,
       "version_minor": 0
      },
      "text/plain": [
       "Validation: |          | 0/? [00:00<?, ?it/s]"
      ]
     },
     "metadata": {},
     "output_type": "display_data"
    },
    {
     "data": {
      "application/vnd.jupyter.widget-view+json": {
       "model_id": "adb924847e1e444e8b54ae6b2365cb3a",
       "version_major": 2,
       "version_minor": 0
      },
      "text/plain": [
       "Validation: |          | 0/? [00:00<?, ?it/s]"
      ]
     },
     "metadata": {},
     "output_type": "display_data"
    },
    {
     "data": {
      "application/vnd.jupyter.widget-view+json": {
       "model_id": "008e305eb7734c99b334b24bdbe73556",
       "version_major": 2,
       "version_minor": 0
      },
      "text/plain": [
       "Validation: |          | 0/? [00:00<?, ?it/s]"
      ]
     },
     "metadata": {},
     "output_type": "display_data"
    },
    {
     "data": {
      "application/vnd.jupyter.widget-view+json": {
       "model_id": "c7930a231dae434fb73377982a49ec86",
       "version_major": 2,
       "version_minor": 0
      },
      "text/plain": [
       "Validation: |          | 0/? [00:00<?, ?it/s]"
      ]
     },
     "metadata": {},
     "output_type": "display_data"
    },
    {
     "name": "stderr",
     "output_type": "stream",
     "text": [
      "`Trainer.fit` stopped: `max_steps=1000` reached.\n",
      "Seed set to 1\n",
      "GPU available: True (mps), used: True\n",
      "TPU available: False, using: 0 TPU cores\n",
      "HPU available: False, using: 0 HPUs\n",
      "\n",
      "  | Name          | Type          | Params | Mode \n",
      "--------------------------------------------------------\n",
      "0 | loss          | RMSE          | 0      | train\n",
      "1 | padder_train  | ConstantPad1d | 0      | train\n",
      "2 | scaler        | TemporalNorm  | 0      | train\n",
      "3 | lin_hist      | Linear        | 64     | train\n",
      "4 | drop_hist     | Dropout       | 0      | train\n",
      "5 | net_bwd       | Sequential    | 21.0 K | train\n",
      "6 | drop_temporal | Dropout       | 0      | train\n",
      "7 | temporal_lin1 | Linear        | 800    | train\n",
      "8 | temporal_lin2 | Linear        | 198    | train\n",
      "9 | output_lin    | Linear        | 33     | train\n",
      "--------------------------------------------------------\n",
      "22.1 K    Trainable params\n",
      "0         Non-trainable params\n",
      "22.1 K    Total params\n",
      "0.088     Total estimated model params size (MB)\n",
      "30        Modules in train mode\n",
      "0         Modules in eval mode\n"
     ]
    },
    {
     "data": {
      "application/vnd.jupyter.widget-view+json": {
       "model_id": "0663c214796d4eb4a32c3f2df457bedc",
       "version_major": 2,
       "version_minor": 0
      },
      "text/plain": [
       "Sanity Checking: |          | 0/? [00:00<?, ?it/s]"
      ]
     },
     "metadata": {},
     "output_type": "display_data"
    },
    {
     "data": {
      "application/vnd.jupyter.widget-view+json": {
       "model_id": "b84a35327b2e4c6a92df418ec6529c44",
       "version_major": 2,
       "version_minor": 0
      },
      "text/plain": [
       "Training: |          | 0/? [00:00<?, ?it/s]"
      ]
     },
     "metadata": {},
     "output_type": "display_data"
    },
    {
     "data": {
      "application/vnd.jupyter.widget-view+json": {
       "model_id": "8d95331467d9407389d261df388df77c",
       "version_major": 2,
       "version_minor": 0
      },
      "text/plain": [
       "Validation: |          | 0/? [00:00<?, ?it/s]"
      ]
     },
     "metadata": {},
     "output_type": "display_data"
    },
    {
     "data": {
      "application/vnd.jupyter.widget-view+json": {
       "model_id": "f8b2530df45f4669bfa868c645994c06",
       "version_major": 2,
       "version_minor": 0
      },
      "text/plain": [
       "Validation: |          | 0/? [00:00<?, ?it/s]"
      ]
     },
     "metadata": {},
     "output_type": "display_data"
    },
    {
     "data": {
      "application/vnd.jupyter.widget-view+json": {
       "model_id": "16e3258425164678b34dc1f8b8f0a7a2",
       "version_major": 2,
       "version_minor": 0
      },
      "text/plain": [
       "Validation: |          | 0/? [00:00<?, ?it/s]"
      ]
     },
     "metadata": {},
     "output_type": "display_data"
    },
    {
     "data": {
      "application/vnd.jupyter.widget-view+json": {
       "model_id": "f15a32956b8b4adb967b8bf5a79fe91c",
       "version_major": 2,
       "version_minor": 0
      },
      "text/plain": [
       "Validation: |          | 0/? [00:00<?, ?it/s]"
      ]
     },
     "metadata": {},
     "output_type": "display_data"
    },
    {
     "data": {
      "application/vnd.jupyter.widget-view+json": {
       "model_id": "d67f0adf049a4d249f3564c084bd9a73",
       "version_major": 2,
       "version_minor": 0
      },
      "text/plain": [
       "Validation: |          | 0/? [00:00<?, ?it/s]"
      ]
     },
     "metadata": {},
     "output_type": "display_data"
    },
    {
     "name": "stderr",
     "output_type": "stream",
     "text": [
      "`Trainer.fit` stopped: `max_steps=500` reached.\n",
      "Seed set to 14\n",
      "GPU available: True (mps), used: True\n",
      "TPU available: False, using: 0 TPU cores\n",
      "HPU available: False, using: 0 HPUs\n",
      "\n",
      "  | Name          | Type          | Params | Mode \n",
      "--------------------------------------------------------\n",
      "0 | loss          | RMSE          | 0      | train\n",
      "1 | padder_train  | ConstantPad1d | 0      | train\n",
      "2 | scaler        | TemporalNorm  | 0      | train\n",
      "3 | lin_hist      | Linear        | 32     | train\n",
      "4 | drop_hist     | Dropout       | 0      | train\n",
      "5 | net_bwd       | Sequential    | 5.4 K  | train\n",
      "6 | drop_temporal | Dropout       | 0      | train\n",
      "7 | temporal_lin1 | Linear        | 496    | train\n",
      "8 | temporal_lin2 | Linear        | 102    | train\n",
      "9 | output_lin    | Linear        | 17     | train\n",
      "--------------------------------------------------------\n",
      "6.0 K     Trainable params\n",
      "0         Non-trainable params\n",
      "6.0 K     Total params\n",
      "0.024     Total estimated model params size (MB)\n",
      "30        Modules in train mode\n",
      "0         Modules in eval mode\n"
     ]
    },
    {
     "data": {
      "application/vnd.jupyter.widget-view+json": {
       "model_id": "75e09b9397854907846710365e878a82",
       "version_major": 2,
       "version_minor": 0
      },
      "text/plain": [
       "Sanity Checking: |          | 0/? [00:00<?, ?it/s]"
      ]
     },
     "metadata": {},
     "output_type": "display_data"
    },
    {
     "data": {
      "application/vnd.jupyter.widget-view+json": {
       "model_id": "5bc021f90aba4ed599cfb462bfbeed9f",
       "version_major": 2,
       "version_minor": 0
      },
      "text/plain": [
       "Training: |          | 0/? [00:00<?, ?it/s]"
      ]
     },
     "metadata": {},
     "output_type": "display_data"
    },
    {
     "data": {
      "application/vnd.jupyter.widget-view+json": {
       "model_id": "5b376fcb94d3496b8cee11cda218f498",
       "version_major": 2,
       "version_minor": 0
      },
      "text/plain": [
       "Validation: |          | 0/? [00:00<?, ?it/s]"
      ]
     },
     "metadata": {},
     "output_type": "display_data"
    },
    {
     "data": {
      "application/vnd.jupyter.widget-view+json": {
       "model_id": "25be88525ab84aa7bedc2a6771f306db",
       "version_major": 2,
       "version_minor": 0
      },
      "text/plain": [
       "Validation: |          | 0/? [00:00<?, ?it/s]"
      ]
     },
     "metadata": {},
     "output_type": "display_data"
    },
    {
     "data": {
      "application/vnd.jupyter.widget-view+json": {
       "model_id": "211ded2ce7e34a948d028411d8521b66",
       "version_major": 2,
       "version_minor": 0
      },
      "text/plain": [
       "Validation: |          | 0/? [00:00<?, ?it/s]"
      ]
     },
     "metadata": {},
     "output_type": "display_data"
    },
    {
     "data": {
      "application/vnd.jupyter.widget-view+json": {
       "model_id": "d29e3d472f7c43f3954578c70fcd30ff",
       "version_major": 2,
       "version_minor": 0
      },
      "text/plain": [
       "Validation: |          | 0/? [00:00<?, ?it/s]"
      ]
     },
     "metadata": {},
     "output_type": "display_data"
    },
    {
     "data": {
      "application/vnd.jupyter.widget-view+json": {
       "model_id": "ea574ceba2954a5ab125a4e56a6608b7",
       "version_major": 2,
       "version_minor": 0
      },
      "text/plain": [
       "Validation: |          | 0/? [00:00<?, ?it/s]"
      ]
     },
     "metadata": {},
     "output_type": "display_data"
    },
    {
     "name": "stderr",
     "output_type": "stream",
     "text": [
      "`Trainer.fit` stopped: `max_steps=500` reached.\n",
      "Seed set to 1\n",
      "GPU available: True (mps), used: True\n",
      "TPU available: False, using: 0 TPU cores\n",
      "HPU available: False, using: 0 HPUs\n",
      "\n",
      "  | Name          | Type          | Params | Mode \n",
      "--------------------------------------------------------\n",
      "0 | loss          | RMSE          | 0      | train\n",
      "1 | padder_train  | ConstantPad1d | 0      | train\n",
      "2 | scaler        | TemporalNorm  | 0      | train\n",
      "3 | lin_hist      | Linear        | 32     | train\n",
      "4 | drop_hist     | Dropout       | 0      | train\n",
      "5 | net_bwd       | Sequential    | 5.4 K  | train\n",
      "6 | drop_temporal | Dropout       | 0      | train\n",
      "7 | temporal_lin1 | Linear        | 304    | train\n",
      "8 | temporal_lin2 | Linear        | 102    | train\n",
      "9 | output_lin    | Linear        | 17     | train\n",
      "--------------------------------------------------------\n",
      "5.8 K     Trainable params\n",
      "0         Non-trainable params\n",
      "5.8 K     Total params\n",
      "0.023     Total estimated model params size (MB)\n",
      "30        Modules in train mode\n",
      "0         Modules in eval mode\n"
     ]
    },
    {
     "data": {
      "application/vnd.jupyter.widget-view+json": {
       "model_id": "c86bcc35648f43619b1ad75d756e5c20",
       "version_major": 2,
       "version_minor": 0
      },
      "text/plain": [
       "Sanity Checking: |          | 0/? [00:00<?, ?it/s]"
      ]
     },
     "metadata": {},
     "output_type": "display_data"
    },
    {
     "data": {
      "application/vnd.jupyter.widget-view+json": {
       "model_id": "c8461d6a5ec34de788314e414a0e358d",
       "version_major": 2,
       "version_minor": 0
      },
      "text/plain": [
       "Training: |          | 0/? [00:00<?, ?it/s]"
      ]
     },
     "metadata": {},
     "output_type": "display_data"
    },
    {
     "data": {
      "application/vnd.jupyter.widget-view+json": {
       "model_id": "295931a9339b4a17bdb887ef2b7e61ac",
       "version_major": 2,
       "version_minor": 0
      },
      "text/plain": [
       "Validation: |          | 0/? [00:00<?, ?it/s]"
      ]
     },
     "metadata": {},
     "output_type": "display_data"
    },
    {
     "data": {
      "application/vnd.jupyter.widget-view+json": {
       "model_id": "9109847c1b2f4c788d4cccd0b91d8150",
       "version_major": 2,
       "version_minor": 0
      },
      "text/plain": [
       "Validation: |          | 0/? [00:00<?, ?it/s]"
      ]
     },
     "metadata": {},
     "output_type": "display_data"
    },
    {
     "data": {
      "application/vnd.jupyter.widget-view+json": {
       "model_id": "136e022fdd694703bc55c1933bf0e699",
       "version_major": 2,
       "version_minor": 0
      },
      "text/plain": [
       "Validation: |          | 0/? [00:00<?, ?it/s]"
      ]
     },
     "metadata": {},
     "output_type": "display_data"
    },
    {
     "data": {
      "application/vnd.jupyter.widget-view+json": {
       "model_id": "e23e7d63ed824eb6bedf6e08ac6b239f",
       "version_major": 2,
       "version_minor": 0
      },
      "text/plain": [
       "Validation: |          | 0/? [00:00<?, ?it/s]"
      ]
     },
     "metadata": {},
     "output_type": "display_data"
    },
    {
     "data": {
      "application/vnd.jupyter.widget-view+json": {
       "model_id": "d437089659ff41c7b17c282b72f18d1a",
       "version_major": 2,
       "version_minor": 0
      },
      "text/plain": [
       "Validation: |          | 0/? [00:00<?, ?it/s]"
      ]
     },
     "metadata": {},
     "output_type": "display_data"
    },
    {
     "name": "stderr",
     "output_type": "stream",
     "text": [
      "`Trainer.fit` stopped: `max_steps=500` reached.\n",
      "Seed set to 4\n",
      "GPU available: True (mps), used: True\n",
      "TPU available: False, using: 0 TPU cores\n",
      "HPU available: False, using: 0 HPUs\n",
      "\n",
      "  | Name          | Type          | Params | Mode \n",
      "--------------------------------------------------------\n",
      "0 | loss          | RMSE          | 0      | train\n",
      "1 | padder_train  | ConstantPad1d | 0      | train\n",
      "2 | scaler        | TemporalNorm  | 0      | train\n",
      "3 | lin_hist      | Linear        | 64     | train\n",
      "4 | drop_hist     | Dropout       | 0      | train\n",
      "5 | net_bwd       | Sequential    | 16.8 K | train\n",
      "6 | drop_temporal | Dropout       | 0      | train\n",
      "7 | temporal_lin1 | Linear        | 416    | train\n",
      "8 | temporal_lin2 | Linear        | 198    | train\n",
      "9 | output_lin    | Linear        | 33     | train\n",
      "--------------------------------------------------------\n",
      "17.5 K    Trainable params\n",
      "0         Non-trainable params\n",
      "17.5 K    Total params\n",
      "0.070     Total estimated model params size (MB)\n",
      "26        Modules in train mode\n",
      "0         Modules in eval mode\n"
     ]
    },
    {
     "data": {
      "application/vnd.jupyter.widget-view+json": {
       "model_id": "e2327e36251844b7a1a64458c3ee0199",
       "version_major": 2,
       "version_minor": 0
      },
      "text/plain": [
       "Sanity Checking: |          | 0/? [00:00<?, ?it/s]"
      ]
     },
     "metadata": {},
     "output_type": "display_data"
    },
    {
     "data": {
      "application/vnd.jupyter.widget-view+json": {
       "model_id": "9fdcbc186d6048ed875434379c12fd7e",
       "version_major": 2,
       "version_minor": 0
      },
      "text/plain": [
       "Training: |          | 0/? [00:00<?, ?it/s]"
      ]
     },
     "metadata": {},
     "output_type": "display_data"
    },
    {
     "data": {
      "application/vnd.jupyter.widget-view+json": {
       "model_id": "0c08438317154ed0ab2d16e460d3eec0",
       "version_major": 2,
       "version_minor": 0
      },
      "text/plain": [
       "Validation: |          | 0/? [00:00<?, ?it/s]"
      ]
     },
     "metadata": {},
     "output_type": "display_data"
    },
    {
     "data": {
      "application/vnd.jupyter.widget-view+json": {
       "model_id": "b993751aa01841db90540c7f8cd1f555",
       "version_major": 2,
       "version_minor": 0
      },
      "text/plain": [
       "Validation: |          | 0/? [00:00<?, ?it/s]"
      ]
     },
     "metadata": {},
     "output_type": "display_data"
    },
    {
     "data": {
      "application/vnd.jupyter.widget-view+json": {
       "model_id": "4518c0a681a041af899d53f7d92578e3",
       "version_major": 2,
       "version_minor": 0
      },
      "text/plain": [
       "Validation: |          | 0/? [00:00<?, ?it/s]"
      ]
     },
     "metadata": {},
     "output_type": "display_data"
    },
    {
     "data": {
      "application/vnd.jupyter.widget-view+json": {
       "model_id": "dadf1a6b2d414f1d805fd17f20226298",
       "version_major": 2,
       "version_minor": 0
      },
      "text/plain": [
       "Validation: |          | 0/? [00:00<?, ?it/s]"
      ]
     },
     "metadata": {},
     "output_type": "display_data"
    },
    {
     "data": {
      "application/vnd.jupyter.widget-view+json": {
       "model_id": "3aeb7a85ddc24852adae8432a93bbb06",
       "version_major": 2,
       "version_minor": 0
      },
      "text/plain": [
       "Validation: |          | 0/? [00:00<?, ?it/s]"
      ]
     },
     "metadata": {},
     "output_type": "display_data"
    },
    {
     "data": {
      "application/vnd.jupyter.widget-view+json": {
       "model_id": "2808f6fe4c7a42a084683b2d719ee67c",
       "version_major": 2,
       "version_minor": 0
      },
      "text/plain": [
       "Validation: |          | 0/? [00:00<?, ?it/s]"
      ]
     },
     "metadata": {},
     "output_type": "display_data"
    },
    {
     "data": {
      "application/vnd.jupyter.widget-view+json": {
       "model_id": "61818bc9195c40fcb19b56862a023700",
       "version_major": 2,
       "version_minor": 0
      },
      "text/plain": [
       "Validation: |          | 0/? [00:00<?, ?it/s]"
      ]
     },
     "metadata": {},
     "output_type": "display_data"
    },
    {
     "data": {
      "application/vnd.jupyter.widget-view+json": {
       "model_id": "be974ceb1fc2437eb705f0a8fd28b66f",
       "version_major": 2,
       "version_minor": 0
      },
      "text/plain": [
       "Validation: |          | 0/? [00:00<?, ?it/s]"
      ]
     },
     "metadata": {},
     "output_type": "display_data"
    },
    {
     "data": {
      "application/vnd.jupyter.widget-view+json": {
       "model_id": "0027d95be2d94fc3aacab4ceea7839d4",
       "version_major": 2,
       "version_minor": 0
      },
      "text/plain": [
       "Validation: |          | 0/? [00:00<?, ?it/s]"
      ]
     },
     "metadata": {},
     "output_type": "display_data"
    },
    {
     "data": {
      "application/vnd.jupyter.widget-view+json": {
       "model_id": "f6eb3694fd0b4d829f264465ff60bd61",
       "version_major": 2,
       "version_minor": 0
      },
      "text/plain": [
       "Validation: |          | 0/? [00:00<?, ?it/s]"
      ]
     },
     "metadata": {},
     "output_type": "display_data"
    },
    {
     "data": {
      "application/vnd.jupyter.widget-view+json": {
       "model_id": "7659a424dd99490686a76ff4a68df7d1",
       "version_major": 2,
       "version_minor": 0
      },
      "text/plain": [
       "Validation: |          | 0/? [00:00<?, ?it/s]"
      ]
     },
     "metadata": {},
     "output_type": "display_data"
    },
    {
     "data": {
      "application/vnd.jupyter.widget-view+json": {
       "model_id": "1cde3956010f4bdfac13e3254e285d33",
       "version_major": 2,
       "version_minor": 0
      },
      "text/plain": [
       "Validation: |          | 0/? [00:00<?, ?it/s]"
      ]
     },
     "metadata": {},
     "output_type": "display_data"
    },
    {
     "data": {
      "application/vnd.jupyter.widget-view+json": {
       "model_id": "8c64d17a442c44c6b160ada0cb4c1026",
       "version_major": 2,
       "version_minor": 0
      },
      "text/plain": [
       "Validation: |          | 0/? [00:00<?, ?it/s]"
      ]
     },
     "metadata": {},
     "output_type": "display_data"
    },
    {
     "data": {
      "application/vnd.jupyter.widget-view+json": {
       "model_id": "d87e8f3319b74009a9a9701b44d0f16a",
       "version_major": 2,
       "version_minor": 0
      },
      "text/plain": [
       "Validation: |          | 0/? [00:00<?, ?it/s]"
      ]
     },
     "metadata": {},
     "output_type": "display_data"
    },
    {
     "data": {
      "application/vnd.jupyter.widget-view+json": {
       "model_id": "4e5c865e42cd46958d955e8d0f52b0e4",
       "version_major": 2,
       "version_minor": 0
      },
      "text/plain": [
       "Validation: |          | 0/? [00:00<?, ?it/s]"
      ]
     },
     "metadata": {},
     "output_type": "display_data"
    },
    {
     "data": {
      "application/vnd.jupyter.widget-view+json": {
       "model_id": "10058882845f48589fe6b4db215ee500",
       "version_major": 2,
       "version_minor": 0
      },
      "text/plain": [
       "Validation: |          | 0/? [00:00<?, ?it/s]"
      ]
     },
     "metadata": {},
     "output_type": "display_data"
    },
    {
     "data": {
      "application/vnd.jupyter.widget-view+json": {
       "model_id": "58c1078793e84b84ae013ed089b4731f",
       "version_major": 2,
       "version_minor": 0
      },
      "text/plain": [
       "Validation: |          | 0/? [00:00<?, ?it/s]"
      ]
     },
     "metadata": {},
     "output_type": "display_data"
    },
    {
     "data": {
      "application/vnd.jupyter.widget-view+json": {
       "model_id": "ca6a5d9acd7442289ad9f4befdfaa147",
       "version_major": 2,
       "version_minor": 0
      },
      "text/plain": [
       "Validation: |          | 0/? [00:00<?, ?it/s]"
      ]
     },
     "metadata": {},
     "output_type": "display_data"
    },
    {
     "data": {
      "application/vnd.jupyter.widget-view+json": {
       "model_id": "ba57b349113a4dd4998685d567678c2d",
       "version_major": 2,
       "version_minor": 0
      },
      "text/plain": [
       "Validation: |          | 0/? [00:00<?, ?it/s]"
      ]
     },
     "metadata": {},
     "output_type": "display_data"
    },
    {
     "data": {
      "application/vnd.jupyter.widget-view+json": {
       "model_id": "fd01e8edf9404e9281e8e269242ee1ba",
       "version_major": 2,
       "version_minor": 0
      },
      "text/plain": [
       "Validation: |          | 0/? [00:00<?, ?it/s]"
      ]
     },
     "metadata": {},
     "output_type": "display_data"
    },
    {
     "name": "stderr",
     "output_type": "stream",
     "text": [
      "`Trainer.fit` stopped: `max_steps=2000` reached.\n",
      "Seed set to 1\n",
      "GPU available: True (mps), used: True\n",
      "TPU available: False, using: 0 TPU cores\n",
      "HPU available: False, using: 0 HPUs\n",
      "\n",
      "  | Name          | Type          | Params | Mode \n",
      "--------------------------------------------------------\n",
      "0 | loss          | RMSE          | 0      | train\n",
      "1 | padder_train  | ConstantPad1d | 0      | train\n",
      "2 | scaler        | TemporalNorm  | 0      | train\n",
      "3 | lin_hist      | Linear        | 64     | train\n",
      "4 | drop_hist     | Dropout       | 0      | train\n",
      "5 | net_bwd       | Sequential    | 16.8 K | train\n",
      "6 | drop_temporal | Dropout       | 0      | train\n",
      "7 | temporal_lin1 | Linear        | 416    | train\n",
      "8 | temporal_lin2 | Linear        | 198    | train\n",
      "9 | output_lin    | Linear        | 33     | train\n",
      "--------------------------------------------------------\n",
      "17.5 K    Trainable params\n",
      "0         Non-trainable params\n",
      "17.5 K    Total params\n",
      "0.070     Total estimated model params size (MB)\n",
      "26        Modules in train mode\n",
      "0         Modules in eval mode\n"
     ]
    },
    {
     "data": {
      "application/vnd.jupyter.widget-view+json": {
       "model_id": "597cecb3c698422fb2733c1a28ada6b8",
       "version_major": 2,
       "version_minor": 0
      },
      "text/plain": [
       "Sanity Checking: |          | 0/? [00:00<?, ?it/s]"
      ]
     },
     "metadata": {},
     "output_type": "display_data"
    },
    {
     "data": {
      "application/vnd.jupyter.widget-view+json": {
       "model_id": "4010b0df116f4575803b15da5c7eb1d8",
       "version_major": 2,
       "version_minor": 0
      },
      "text/plain": [
       "Training: |          | 0/? [00:00<?, ?it/s]"
      ]
     },
     "metadata": {},
     "output_type": "display_data"
    },
    {
     "data": {
      "application/vnd.jupyter.widget-view+json": {
       "model_id": "4a11cff3094b4ba18ca1d991a3aa4a78",
       "version_major": 2,
       "version_minor": 0
      },
      "text/plain": [
       "Validation: |          | 0/? [00:00<?, ?it/s]"
      ]
     },
     "metadata": {},
     "output_type": "display_data"
    },
    {
     "data": {
      "application/vnd.jupyter.widget-view+json": {
       "model_id": "1a5468f38c0b48ceb0e3e2d30fe25cb5",
       "version_major": 2,
       "version_minor": 0
      },
      "text/plain": [
       "Validation: |          | 0/? [00:00<?, ?it/s]"
      ]
     },
     "metadata": {},
     "output_type": "display_data"
    },
    {
     "data": {
      "application/vnd.jupyter.widget-view+json": {
       "model_id": "b9d3224ddef74136ab8f6532bc356626",
       "version_major": 2,
       "version_minor": 0
      },
      "text/plain": [
       "Validation: |          | 0/? [00:00<?, ?it/s]"
      ]
     },
     "metadata": {},
     "output_type": "display_data"
    },
    {
     "data": {
      "application/vnd.jupyter.widget-view+json": {
       "model_id": "ac93d82b570641359b67e4477b7064cd",
       "version_major": 2,
       "version_minor": 0
      },
      "text/plain": [
       "Validation: |          | 0/? [00:00<?, ?it/s]"
      ]
     },
     "metadata": {},
     "output_type": "display_data"
    },
    {
     "data": {
      "application/vnd.jupyter.widget-view+json": {
       "model_id": "ad67f645baa54691bb7df991596dca73",
       "version_major": 2,
       "version_minor": 0
      },
      "text/plain": [
       "Validation: |          | 0/? [00:00<?, ?it/s]"
      ]
     },
     "metadata": {},
     "output_type": "display_data"
    },
    {
     "data": {
      "application/vnd.jupyter.widget-view+json": {
       "model_id": "9ea407a413334e868d10e53978ed27a2",
       "version_major": 2,
       "version_minor": 0
      },
      "text/plain": [
       "Validation: |          | 0/? [00:00<?, ?it/s]"
      ]
     },
     "metadata": {},
     "output_type": "display_data"
    },
    {
     "data": {
      "application/vnd.jupyter.widget-view+json": {
       "model_id": "21e8f921d8884f9f826994fe4fdaa415",
       "version_major": 2,
       "version_minor": 0
      },
      "text/plain": [
       "Validation: |          | 0/? [00:00<?, ?it/s]"
      ]
     },
     "metadata": {},
     "output_type": "display_data"
    },
    {
     "data": {
      "application/vnd.jupyter.widget-view+json": {
       "model_id": "b962df4575d34edba66a837ce9380916",
       "version_major": 2,
       "version_minor": 0
      },
      "text/plain": [
       "Validation: |          | 0/? [00:00<?, ?it/s]"
      ]
     },
     "metadata": {},
     "output_type": "display_data"
    },
    {
     "data": {
      "application/vnd.jupyter.widget-view+json": {
       "model_id": "e14f9b93167c4f0ab8da1a70d8091623",
       "version_major": 2,
       "version_minor": 0
      },
      "text/plain": [
       "Validation: |          | 0/? [00:00<?, ?it/s]"
      ]
     },
     "metadata": {},
     "output_type": "display_data"
    },
    {
     "data": {
      "application/vnd.jupyter.widget-view+json": {
       "model_id": "f5e50bfdb371466085052715f9c0c655",
       "version_major": 2,
       "version_minor": 0
      },
      "text/plain": [
       "Validation: |          | 0/? [00:00<?, ?it/s]"
      ]
     },
     "metadata": {},
     "output_type": "display_data"
    },
    {
     "name": "stderr",
     "output_type": "stream",
     "text": [
      "`Trainer.fit` stopped: `max_steps=1000` reached.\n",
      "Seed set to 2\n",
      "GPU available: True (mps), used: True\n",
      "TPU available: False, using: 0 TPU cores\n",
      "HPU available: False, using: 0 HPUs\n",
      "\n",
      "  | Name          | Type          | Params | Mode \n",
      "--------------------------------------------------------\n",
      "0 | loss          | RMSE          | 0      | train\n",
      "1 | padder_train  | ConstantPad1d | 0      | train\n",
      "2 | scaler        | TemporalNorm  | 0      | train\n",
      "3 | lin_hist      | Linear        | 32     | train\n",
      "4 | drop_hist     | Dropout       | 0      | train\n",
      "5 | net_bwd       | Sequential    | 5.4 K  | train\n",
      "6 | drop_temporal | Dropout       | 0      | train\n",
      "7 | temporal_lin1 | Linear        | 400    | train\n",
      "8 | temporal_lin2 | Linear        | 102    | train\n",
      "9 | output_lin    | Linear        | 17     | train\n",
      "--------------------------------------------------------\n",
      "5.9 K     Trainable params\n",
      "0         Non-trainable params\n",
      "5.9 K     Total params\n",
      "0.024     Total estimated model params size (MB)\n",
      "30        Modules in train mode\n",
      "0         Modules in eval mode\n"
     ]
    },
    {
     "data": {
      "application/vnd.jupyter.widget-view+json": {
       "model_id": "a3e40ee8919c45d0b5add63e9a74ba4a",
       "version_major": 2,
       "version_minor": 0
      },
      "text/plain": [
       "Sanity Checking: |          | 0/? [00:00<?, ?it/s]"
      ]
     },
     "metadata": {},
     "output_type": "display_data"
    },
    {
     "data": {
      "application/vnd.jupyter.widget-view+json": {
       "model_id": "2e14419c850b45ce835c1552c226cef9",
       "version_major": 2,
       "version_minor": 0
      },
      "text/plain": [
       "Training: |          | 0/? [00:00<?, ?it/s]"
      ]
     },
     "metadata": {},
     "output_type": "display_data"
    },
    {
     "data": {
      "application/vnd.jupyter.widget-view+json": {
       "model_id": "ea847a4616534da4add4a17083b8cce6",
       "version_major": 2,
       "version_minor": 0
      },
      "text/plain": [
       "Validation: |          | 0/? [00:00<?, ?it/s]"
      ]
     },
     "metadata": {},
     "output_type": "display_data"
    },
    {
     "data": {
      "application/vnd.jupyter.widget-view+json": {
       "model_id": "ba90fa47fde4452cbafacfb0f6727585",
       "version_major": 2,
       "version_minor": 0
      },
      "text/plain": [
       "Validation: |          | 0/? [00:00<?, ?it/s]"
      ]
     },
     "metadata": {},
     "output_type": "display_data"
    },
    {
     "data": {
      "application/vnd.jupyter.widget-view+json": {
       "model_id": "cbe9ee40643b4d7d8722e35a3d30ae30",
       "version_major": 2,
       "version_minor": 0
      },
      "text/plain": [
       "Validation: |          | 0/? [00:00<?, ?it/s]"
      ]
     },
     "metadata": {},
     "output_type": "display_data"
    },
    {
     "data": {
      "application/vnd.jupyter.widget-view+json": {
       "model_id": "9c6076127fd84ec7ba1c74a1631b1273",
       "version_major": 2,
       "version_minor": 0
      },
      "text/plain": [
       "Validation: |          | 0/? [00:00<?, ?it/s]"
      ]
     },
     "metadata": {},
     "output_type": "display_data"
    },
    {
     "data": {
      "application/vnd.jupyter.widget-view+json": {
       "model_id": "1d47cca4cc3d436f872e5af6a9cdfd1c",
       "version_major": 2,
       "version_minor": 0
      },
      "text/plain": [
       "Validation: |          | 0/? [00:00<?, ?it/s]"
      ]
     },
     "metadata": {},
     "output_type": "display_data"
    },
    {
     "data": {
      "application/vnd.jupyter.widget-view+json": {
       "model_id": "abbf697231f54bb09d3810596a184844",
       "version_major": 2,
       "version_minor": 0
      },
      "text/plain": [
       "Validation: |          | 0/? [00:00<?, ?it/s]"
      ]
     },
     "metadata": {},
     "output_type": "display_data"
    },
    {
     "data": {
      "application/vnd.jupyter.widget-view+json": {
       "model_id": "67950224dc184f4eb5ced3fda46e3632",
       "version_major": 2,
       "version_minor": 0
      },
      "text/plain": [
       "Validation: |          | 0/? [00:00<?, ?it/s]"
      ]
     },
     "metadata": {},
     "output_type": "display_data"
    },
    {
     "data": {
      "application/vnd.jupyter.widget-view+json": {
       "model_id": "a441da575edb4a659e7783c04c0c34fe",
       "version_major": 2,
       "version_minor": 0
      },
      "text/plain": [
       "Validation: |          | 0/? [00:00<?, ?it/s]"
      ]
     },
     "metadata": {},
     "output_type": "display_data"
    },
    {
     "data": {
      "application/vnd.jupyter.widget-view+json": {
       "model_id": "a82b7962014947ff868a23797410d870",
       "version_major": 2,
       "version_minor": 0
      },
      "text/plain": [
       "Validation: |          | 0/? [00:00<?, ?it/s]"
      ]
     },
     "metadata": {},
     "output_type": "display_data"
    },
    {
     "data": {
      "application/vnd.jupyter.widget-view+json": {
       "model_id": "7b7575fa09c948afa42b77fa7cb4b167",
       "version_major": 2,
       "version_minor": 0
      },
      "text/plain": [
       "Validation: |          | 0/? [00:00<?, ?it/s]"
      ]
     },
     "metadata": {},
     "output_type": "display_data"
    },
    {
     "data": {
      "application/vnd.jupyter.widget-view+json": {
       "model_id": "cd44ce39b4394acc8f040cb9527ef1fa",
       "version_major": 2,
       "version_minor": 0
      },
      "text/plain": [
       "Validation: |          | 0/? [00:00<?, ?it/s]"
      ]
     },
     "metadata": {},
     "output_type": "display_data"
    },
    {
     "data": {
      "application/vnd.jupyter.widget-view+json": {
       "model_id": "62f0ac4ae63c4a63b2a9199c82b6226a",
       "version_major": 2,
       "version_minor": 0
      },
      "text/plain": [
       "Validation: |          | 0/? [00:00<?, ?it/s]"
      ]
     },
     "metadata": {},
     "output_type": "display_data"
    },
    {
     "data": {
      "application/vnd.jupyter.widget-view+json": {
       "model_id": "78d8870b2ac2426a89d68df6713181d0",
       "version_major": 2,
       "version_minor": 0
      },
      "text/plain": [
       "Validation: |          | 0/? [00:00<?, ?it/s]"
      ]
     },
     "metadata": {},
     "output_type": "display_data"
    },
    {
     "data": {
      "application/vnd.jupyter.widget-view+json": {
       "model_id": "1844ac1df7f944c4b443e0d18f37c9d1",
       "version_major": 2,
       "version_minor": 0
      },
      "text/plain": [
       "Validation: |          | 0/? [00:00<?, ?it/s]"
      ]
     },
     "metadata": {},
     "output_type": "display_data"
    },
    {
     "data": {
      "application/vnd.jupyter.widget-view+json": {
       "model_id": "4384f9c575ab48638ff58b6dc3f24999",
       "version_major": 2,
       "version_minor": 0
      },
      "text/plain": [
       "Validation: |          | 0/? [00:00<?, ?it/s]"
      ]
     },
     "metadata": {},
     "output_type": "display_data"
    },
    {
     "data": {
      "application/vnd.jupyter.widget-view+json": {
       "model_id": "fc3668e0af454306a02e5115eeb8efa3",
       "version_major": 2,
       "version_minor": 0
      },
      "text/plain": [
       "Validation: |          | 0/? [00:00<?, ?it/s]"
      ]
     },
     "metadata": {},
     "output_type": "display_data"
    },
    {
     "data": {
      "application/vnd.jupyter.widget-view+json": {
       "model_id": "4b3b1cf0ee0145e6a050faae244146f4",
       "version_major": 2,
       "version_minor": 0
      },
      "text/plain": [
       "Validation: |          | 0/? [00:00<?, ?it/s]"
      ]
     },
     "metadata": {},
     "output_type": "display_data"
    },
    {
     "data": {
      "application/vnd.jupyter.widget-view+json": {
       "model_id": "74b092897190418f9ce090f2b9c19126",
       "version_major": 2,
       "version_minor": 0
      },
      "text/plain": [
       "Validation: |          | 0/? [00:00<?, ?it/s]"
      ]
     },
     "metadata": {},
     "output_type": "display_data"
    },
    {
     "data": {
      "application/vnd.jupyter.widget-view+json": {
       "model_id": "6f183cad4a7e489db77bbafb132951a2",
       "version_major": 2,
       "version_minor": 0
      },
      "text/plain": [
       "Validation: |          | 0/? [00:00<?, ?it/s]"
      ]
     },
     "metadata": {},
     "output_type": "display_data"
    },
    {
     "data": {
      "application/vnd.jupyter.widget-view+json": {
       "model_id": "2b3c796516c04ffd8a4d0a6a088088d9",
       "version_major": 2,
       "version_minor": 0
      },
      "text/plain": [
       "Validation: |          | 0/? [00:00<?, ?it/s]"
      ]
     },
     "metadata": {},
     "output_type": "display_data"
    },
    {
     "name": "stderr",
     "output_type": "stream",
     "text": [
      "`Trainer.fit` stopped: `max_steps=2000` reached.\n",
      "Seed set to 17\n",
      "GPU available: True (mps), used: True\n",
      "TPU available: False, using: 0 TPU cores\n",
      "HPU available: False, using: 0 HPUs\n",
      "\n",
      "  | Name          | Type          | Params | Mode \n",
      "--------------------------------------------------------\n",
      "0 | loss          | RMSE          | 0      | train\n",
      "1 | padder_train  | ConstantPad1d | 0      | train\n",
      "2 | scaler        | TemporalNorm  | 0      | train\n",
      "3 | lin_hist      | Linear        | 64     | train\n",
      "4 | drop_hist     | Dropout       | 0      | train\n",
      "5 | net_bwd       | Sequential    | 12.6 K | train\n",
      "6 | drop_temporal | Dropout       | 0      | train\n",
      "7 | temporal_lin1 | Linear        | 224    | train\n",
      "8 | temporal_lin2 | Linear        | 198    | train\n",
      "9 | output_lin    | Linear        | 33     | train\n",
      "--------------------------------------------------------\n",
      "13.1 K    Trainable params\n",
      "0         Non-trainable params\n",
      "13.1 K    Total params\n",
      "0.052     Total estimated model params size (MB)\n",
      "22        Modules in train mode\n",
      "0         Modules in eval mode\n"
     ]
    },
    {
     "data": {
      "application/vnd.jupyter.widget-view+json": {
       "model_id": "96e26cb4267d4ce580930ec7acabfed5",
       "version_major": 2,
       "version_minor": 0
      },
      "text/plain": [
       "Sanity Checking: |          | 0/? [00:00<?, ?it/s]"
      ]
     },
     "metadata": {},
     "output_type": "display_data"
    },
    {
     "data": {
      "application/vnd.jupyter.widget-view+json": {
       "model_id": "a9070c322c164848bfc1bcae6692c14c",
       "version_major": 2,
       "version_minor": 0
      },
      "text/plain": [
       "Training: |          | 0/? [00:00<?, ?it/s]"
      ]
     },
     "metadata": {},
     "output_type": "display_data"
    },
    {
     "data": {
      "application/vnd.jupyter.widget-view+json": {
       "model_id": "ce58e54162ea4c82ac40f26d085a9ec2",
       "version_major": 2,
       "version_minor": 0
      },
      "text/plain": [
       "Validation: |          | 0/? [00:00<?, ?it/s]"
      ]
     },
     "metadata": {},
     "output_type": "display_data"
    },
    {
     "data": {
      "application/vnd.jupyter.widget-view+json": {
       "model_id": "5cda5b505f004ba09c4ce4026868f467",
       "version_major": 2,
       "version_minor": 0
      },
      "text/plain": [
       "Validation: |          | 0/? [00:00<?, ?it/s]"
      ]
     },
     "metadata": {},
     "output_type": "display_data"
    },
    {
     "data": {
      "application/vnd.jupyter.widget-view+json": {
       "model_id": "491f4a3052234711b23ba6c0ccdbe80d",
       "version_major": 2,
       "version_minor": 0
      },
      "text/plain": [
       "Validation: |          | 0/? [00:00<?, ?it/s]"
      ]
     },
     "metadata": {},
     "output_type": "display_data"
    },
    {
     "data": {
      "application/vnd.jupyter.widget-view+json": {
       "model_id": "ab1e99d8daf64d5ab47ebd85785aff9e",
       "version_major": 2,
       "version_minor": 0
      },
      "text/plain": [
       "Validation: |          | 0/? [00:00<?, ?it/s]"
      ]
     },
     "metadata": {},
     "output_type": "display_data"
    },
    {
     "data": {
      "application/vnd.jupyter.widget-view+json": {
       "model_id": "7a9d05453b784ab486c18701d9f7f184",
       "version_major": 2,
       "version_minor": 0
      },
      "text/plain": [
       "Validation: |          | 0/? [00:00<?, ?it/s]"
      ]
     },
     "metadata": {},
     "output_type": "display_data"
    },
    {
     "data": {
      "application/vnd.jupyter.widget-view+json": {
       "model_id": "06275ff5c776479ab4b3f985e2af1083",
       "version_major": 2,
       "version_minor": 0
      },
      "text/plain": [
       "Validation: |          | 0/? [00:00<?, ?it/s]"
      ]
     },
     "metadata": {},
     "output_type": "display_data"
    },
    {
     "data": {
      "application/vnd.jupyter.widget-view+json": {
       "model_id": "e114014ae3bd4f2584cf428b6dbc122c",
       "version_major": 2,
       "version_minor": 0
      },
      "text/plain": [
       "Validation: |          | 0/? [00:00<?, ?it/s]"
      ]
     },
     "metadata": {},
     "output_type": "display_data"
    },
    {
     "data": {
      "application/vnd.jupyter.widget-view+json": {
       "model_id": "b7762a7977ac4238952c70e6ecd47eaf",
       "version_major": 2,
       "version_minor": 0
      },
      "text/plain": [
       "Validation: |          | 0/? [00:00<?, ?it/s]"
      ]
     },
     "metadata": {},
     "output_type": "display_data"
    },
    {
     "data": {
      "application/vnd.jupyter.widget-view+json": {
       "model_id": "f99da620c1284ac8a3b75d29b223684f",
       "version_major": 2,
       "version_minor": 0
      },
      "text/plain": [
       "Validation: |          | 0/? [00:00<?, ?it/s]"
      ]
     },
     "metadata": {},
     "output_type": "display_data"
    },
    {
     "data": {
      "application/vnd.jupyter.widget-view+json": {
       "model_id": "0dd44bb8a4e1420d8103a86c59634b1f",
       "version_major": 2,
       "version_minor": 0
      },
      "text/plain": [
       "Validation: |          | 0/? [00:00<?, ?it/s]"
      ]
     },
     "metadata": {},
     "output_type": "display_data"
    },
    {
     "name": "stderr",
     "output_type": "stream",
     "text": [
      "`Trainer.fit` stopped: `max_steps=1000` reached.\n",
      "Seed set to 17\n",
      "GPU available: True (mps), used: True\n",
      "TPU available: False, using: 0 TPU cores\n",
      "HPU available: False, using: 0 HPUs\n",
      "\n",
      "  | Name          | Type          | Params | Mode \n",
      "--------------------------------------------------------\n",
      "0 | loss          | RMSE          | 0      | train\n",
      "1 | padder_train  | ConstantPad1d | 0      | train\n",
      "2 | scaler        | TemporalNorm  | 0      | train\n",
      "3 | lin_hist      | Linear        | 64     | train\n",
      "4 | drop_hist     | Dropout       | 0      | train\n",
      "5 | net_bwd       | Sequential    | 12.6 K | train\n",
      "6 | drop_temporal | Dropout       | 0      | train\n",
      "7 | temporal_lin1 | Linear        | 224    | train\n",
      "8 | temporal_lin2 | Linear        | 198    | train\n",
      "9 | output_lin    | Linear        | 33     | train\n",
      "--------------------------------------------------------\n",
      "13.1 K    Trainable params\n",
      "0         Non-trainable params\n",
      "13.1 K    Total params\n",
      "0.052     Total estimated model params size (MB)\n",
      "22        Modules in train mode\n",
      "0         Modules in eval mode\n"
     ]
    },
    {
     "data": {
      "application/vnd.jupyter.widget-view+json": {
       "model_id": "aa1ff7adeb4643018ec7027476b9645e",
       "version_major": 2,
       "version_minor": 0
      },
      "text/plain": [
       "Sanity Checking: |          | 0/? [00:00<?, ?it/s]"
      ]
     },
     "metadata": {},
     "output_type": "display_data"
    },
    {
     "data": {
      "application/vnd.jupyter.widget-view+json": {
       "model_id": "28887f5b918e4cd696f782a8af5abb3d",
       "version_major": 2,
       "version_minor": 0
      },
      "text/plain": [
       "Training: |          | 0/? [00:00<?, ?it/s]"
      ]
     },
     "metadata": {},
     "output_type": "display_data"
    },
    {
     "data": {
      "application/vnd.jupyter.widget-view+json": {
       "model_id": "2cb7733ced9e4556aa8ef4c96441af0e",
       "version_major": 2,
       "version_minor": 0
      },
      "text/plain": [
       "Validation: |          | 0/? [00:00<?, ?it/s]"
      ]
     },
     "metadata": {},
     "output_type": "display_data"
    },
    {
     "data": {
      "application/vnd.jupyter.widget-view+json": {
       "model_id": "ea483dcf4a364a04ba4812ff02e1a057",
       "version_major": 2,
       "version_minor": 0
      },
      "text/plain": [
       "Validation: |          | 0/? [00:00<?, ?it/s]"
      ]
     },
     "metadata": {},
     "output_type": "display_data"
    },
    {
     "data": {
      "application/vnd.jupyter.widget-view+json": {
       "model_id": "f4774fc4c82b403fb677c53f5fd17529",
       "version_major": 2,
       "version_minor": 0
      },
      "text/plain": [
       "Validation: |          | 0/? [00:00<?, ?it/s]"
      ]
     },
     "metadata": {},
     "output_type": "display_data"
    },
    {
     "data": {
      "application/vnd.jupyter.widget-view+json": {
       "model_id": "995fb7a326094539b7b3e84ae24fa90e",
       "version_major": 2,
       "version_minor": 0
      },
      "text/plain": [
       "Validation: |          | 0/? [00:00<?, ?it/s]"
      ]
     },
     "metadata": {},
     "output_type": "display_data"
    },
    {
     "data": {
      "application/vnd.jupyter.widget-view+json": {
       "model_id": "921ea39040104481ade07b86115b6200",
       "version_major": 2,
       "version_minor": 0
      },
      "text/plain": [
       "Validation: |          | 0/? [00:00<?, ?it/s]"
      ]
     },
     "metadata": {},
     "output_type": "display_data"
    },
    {
     "data": {
      "application/vnd.jupyter.widget-view+json": {
       "model_id": "b3577ab377294b91af8d6a56fc28a53f",
       "version_major": 2,
       "version_minor": 0
      },
      "text/plain": [
       "Validation: |          | 0/? [00:00<?, ?it/s]"
      ]
     },
     "metadata": {},
     "output_type": "display_data"
    },
    {
     "data": {
      "application/vnd.jupyter.widget-view+json": {
       "model_id": "ec140562ecc944f9adddda25d3342590",
       "version_major": 2,
       "version_minor": 0
      },
      "text/plain": [
       "Validation: |          | 0/? [00:00<?, ?it/s]"
      ]
     },
     "metadata": {},
     "output_type": "display_data"
    },
    {
     "data": {
      "application/vnd.jupyter.widget-view+json": {
       "model_id": "6edb51aad24442adb15d784178788377",
       "version_major": 2,
       "version_minor": 0
      },
      "text/plain": [
       "Validation: |          | 0/? [00:00<?, ?it/s]"
      ]
     },
     "metadata": {},
     "output_type": "display_data"
    },
    {
     "data": {
      "application/vnd.jupyter.widget-view+json": {
       "model_id": "e913bd7219254b33a18d155536a50432",
       "version_major": 2,
       "version_minor": 0
      },
      "text/plain": [
       "Validation: |          | 0/? [00:00<?, ?it/s]"
      ]
     },
     "metadata": {},
     "output_type": "display_data"
    },
    {
     "data": {
      "application/vnd.jupyter.widget-view+json": {
       "model_id": "40a7fa4026a04296901be068f875b2b4",
       "version_major": 2,
       "version_minor": 0
      },
      "text/plain": [
       "Validation: |          | 0/? [00:00<?, ?it/s]"
      ]
     },
     "metadata": {},
     "output_type": "display_data"
    },
    {
     "name": "stderr",
     "output_type": "stream",
     "text": [
      "`Trainer.fit` stopped: `max_steps=1000` reached.\n",
      "Seed set to 5\n",
      "GPU available: True (mps), used: True\n",
      "TPU available: False, using: 0 TPU cores\n",
      "HPU available: False, using: 0 HPUs\n",
      "\n",
      "  | Name                    | Type                     | Params | Mode \n",
      "-----------------------------------------------------------------------------\n",
      "0 | loss                    | RMSE                     | 0      | train\n",
      "1 | padder_train            | ConstantPad1d            | 0      | train\n",
      "2 | scaler                  | TemporalNorm             | 0      | train\n",
      "3 | embedding               | TFTEmbedding             | 512    | train\n",
      "4 | temporal_encoder        | TemporalCovariateEncoder | 613 K  | train\n",
      "5 | temporal_fusion_decoder | TemporalFusionDecoder    | 256 K  | train\n",
      "6 | output_adapter          | Linear                   | 129    | train\n",
      "-----------------------------------------------------------------------------\n",
      "870 K     Trainable params\n",
      "0         Non-trainable params\n",
      "870 K     Total params\n",
      "3.481     Total estimated model params size (MB)\n",
      "88        Modules in train mode\n",
      "0         Modules in eval mode\n"
     ]
    },
    {
     "data": {
      "application/vnd.jupyter.widget-view+json": {
       "model_id": "4ab18ac4e7de457f89ba7c88d51b4add",
       "version_major": 2,
       "version_minor": 0
      },
      "text/plain": [
       "Sanity Checking: |          | 0/? [00:00<?, ?it/s]"
      ]
     },
     "metadata": {},
     "output_type": "display_data"
    },
    {
     "data": {
      "application/vnd.jupyter.widget-view+json": {
       "model_id": "682e3514c3d747e793f95df16c33fdcf",
       "version_major": 2,
       "version_minor": 0
      },
      "text/plain": [
       "Training: |          | 0/? [00:00<?, ?it/s]"
      ]
     },
     "metadata": {},
     "output_type": "display_data"
    },
    {
     "data": {
      "application/vnd.jupyter.widget-view+json": {
       "model_id": "6841c697df2544639dcd07beac3446fd",
       "version_major": 2,
       "version_minor": 0
      },
      "text/plain": [
       "Validation: |          | 0/? [00:00<?, ?it/s]"
      ]
     },
     "metadata": {},
     "output_type": "display_data"
    },
    {
     "data": {
      "application/vnd.jupyter.widget-view+json": {
       "model_id": "cf3c21e96d4644eeaba7c6dfdf19edb7",
       "version_major": 2,
       "version_minor": 0
      },
      "text/plain": [
       "Validation: |          | 0/? [00:00<?, ?it/s]"
      ]
     },
     "metadata": {},
     "output_type": "display_data"
    },
    {
     "data": {
      "application/vnd.jupyter.widget-view+json": {
       "model_id": "93206ceceac84ad386cf65a6dd3d74be",
       "version_major": 2,
       "version_minor": 0
      },
      "text/plain": [
       "Validation: |          | 0/? [00:00<?, ?it/s]"
      ]
     },
     "metadata": {},
     "output_type": "display_data"
    },
    {
     "data": {
      "application/vnd.jupyter.widget-view+json": {
       "model_id": "0d54a4b06ae948e7ad67a97d18f42d8f",
       "version_major": 2,
       "version_minor": 0
      },
      "text/plain": [
       "Validation: |          | 0/? [00:00<?, ?it/s]"
      ]
     },
     "metadata": {},
     "output_type": "display_data"
    },
    {
     "data": {
      "application/vnd.jupyter.widget-view+json": {
       "model_id": "19e98f48b5604302a899cab35ec6a715",
       "version_major": 2,
       "version_minor": 0
      },
      "text/plain": [
       "Validation: |          | 0/? [00:00<?, ?it/s]"
      ]
     },
     "metadata": {},
     "output_type": "display_data"
    },
    {
     "data": {
      "application/vnd.jupyter.widget-view+json": {
       "model_id": "df600f2d2235421aa7f47a8c666c980b",
       "version_major": 2,
       "version_minor": 0
      },
      "text/plain": [
       "Validation: |          | 0/? [00:00<?, ?it/s]"
      ]
     },
     "metadata": {},
     "output_type": "display_data"
    },
    {
     "data": {
      "application/vnd.jupyter.widget-view+json": {
       "model_id": "3c4f2cf63a4f4dc5a35aa0d35e7c73a3",
       "version_major": 2,
       "version_minor": 0
      },
      "text/plain": [
       "Validation: |          | 0/? [00:00<?, ?it/s]"
      ]
     },
     "metadata": {},
     "output_type": "display_data"
    },
    {
     "data": {
      "application/vnd.jupyter.widget-view+json": {
       "model_id": "2f6d360656154adc8c054d891a24e912",
       "version_major": 2,
       "version_minor": 0
      },
      "text/plain": [
       "Validation: |          | 0/? [00:00<?, ?it/s]"
      ]
     },
     "metadata": {},
     "output_type": "display_data"
    },
    {
     "data": {
      "application/vnd.jupyter.widget-view+json": {
       "model_id": "9750d35bfeed493bb44b1f347553b224",
       "version_major": 2,
       "version_minor": 0
      },
      "text/plain": [
       "Validation: |          | 0/? [00:00<?, ?it/s]"
      ]
     },
     "metadata": {},
     "output_type": "display_data"
    },
    {
     "data": {
      "application/vnd.jupyter.widget-view+json": {
       "model_id": "2ca0556cbcbe46a2a77274d92807e3c3",
       "version_major": 2,
       "version_minor": 0
      },
      "text/plain": [
       "Validation: |          | 0/? [00:00<?, ?it/s]"
      ]
     },
     "metadata": {},
     "output_type": "display_data"
    },
    {
     "data": {
      "application/vnd.jupyter.widget-view+json": {
       "model_id": "50afc3ef2044467190ff3adc310bbd47",
       "version_major": 2,
       "version_minor": 0
      },
      "text/plain": [
       "Validation: |          | 0/? [00:00<?, ?it/s]"
      ]
     },
     "metadata": {},
     "output_type": "display_data"
    },
    {
     "data": {
      "application/vnd.jupyter.widget-view+json": {
       "model_id": "607454d5822f4b10a57898fff102b00d",
       "version_major": 2,
       "version_minor": 0
      },
      "text/plain": [
       "Validation: |          | 0/? [00:00<?, ?it/s]"
      ]
     },
     "metadata": {},
     "output_type": "display_data"
    },
    {
     "data": {
      "application/vnd.jupyter.widget-view+json": {
       "model_id": "50e9a83b58674406a2e97e056cebb13b",
       "version_major": 2,
       "version_minor": 0
      },
      "text/plain": [
       "Validation: |          | 0/? [00:00<?, ?it/s]"
      ]
     },
     "metadata": {},
     "output_type": "display_data"
    },
    {
     "data": {
      "application/vnd.jupyter.widget-view+json": {
       "model_id": "76116450ebd94f64969aa117d57a26c5",
       "version_major": 2,
       "version_minor": 0
      },
      "text/plain": [
       "Validation: |          | 0/? [00:00<?, ?it/s]"
      ]
     },
     "metadata": {},
     "output_type": "display_data"
    },
    {
     "data": {
      "application/vnd.jupyter.widget-view+json": {
       "model_id": "5eb1d9464a8d4b7aa4b6e89aab78068b",
       "version_major": 2,
       "version_minor": 0
      },
      "text/plain": [
       "Validation: |          | 0/? [00:00<?, ?it/s]"
      ]
     },
     "metadata": {},
     "output_type": "display_data"
    },
    {
     "data": {
      "application/vnd.jupyter.widget-view+json": {
       "model_id": "d96cae6d402a475990f7ccb29a3084ce",
       "version_major": 2,
       "version_minor": 0
      },
      "text/plain": [
       "Validation: |          | 0/? [00:00<?, ?it/s]"
      ]
     },
     "metadata": {},
     "output_type": "display_data"
    },
    {
     "data": {
      "application/vnd.jupyter.widget-view+json": {
       "model_id": "309022acbaa44bbe9ebe3f450a1ced52",
       "version_major": 2,
       "version_minor": 0
      },
      "text/plain": [
       "Validation: |          | 0/? [00:00<?, ?it/s]"
      ]
     },
     "metadata": {},
     "output_type": "display_data"
    },
    {
     "data": {
      "application/vnd.jupyter.widget-view+json": {
       "model_id": "d3a9135f5698434f872bcbcd0b711018",
       "version_major": 2,
       "version_minor": 0
      },
      "text/plain": [
       "Validation: |          | 0/? [00:00<?, ?it/s]"
      ]
     },
     "metadata": {},
     "output_type": "display_data"
    },
    {
     "data": {
      "application/vnd.jupyter.widget-view+json": {
       "model_id": "0cef4343e84841728d8bb7b0d868da6b",
       "version_major": 2,
       "version_minor": 0
      },
      "text/plain": [
       "Validation: |          | 0/? [00:00<?, ?it/s]"
      ]
     },
     "metadata": {},
     "output_type": "display_data"
    },
    {
     "data": {
      "application/vnd.jupyter.widget-view+json": {
       "model_id": "00acaa38221b458dacc4956436623dbf",
       "version_major": 2,
       "version_minor": 0
      },
      "text/plain": [
       "Validation: |          | 0/? [00:00<?, ?it/s]"
      ]
     },
     "metadata": {},
     "output_type": "display_data"
    },
    {
     "name": "stderr",
     "output_type": "stream",
     "text": [
      "`Trainer.fit` stopped: `max_steps=2000` reached.\n",
      "Seed set to 20\n",
      "GPU available: True (mps), used: True\n",
      "TPU available: False, using: 0 TPU cores\n",
      "HPU available: False, using: 0 HPUs\n",
      "\n",
      "  | Name                    | Type                     | Params | Mode \n",
      "-----------------------------------------------------------------------------\n",
      "0 | loss                    | RMSE                     | 0      | train\n",
      "1 | padder_train            | ConstantPad1d            | 0      | train\n",
      "2 | scaler                  | TemporalNorm             | 0      | train\n",
      "3 | embedding               | TFTEmbedding             | 512    | train\n",
      "4 | temporal_encoder        | TemporalCovariateEncoder | 613 K  | train\n",
      "5 | temporal_fusion_decoder | TemporalFusionDecoder    | 252 K  | train\n",
      "6 | output_adapter          | Linear                   | 129    | train\n",
      "-----------------------------------------------------------------------------\n",
      "866 K     Trainable params\n",
      "0         Non-trainable params\n",
      "866 K     Total params\n",
      "3.464     Total estimated model params size (MB)\n",
      "88        Modules in train mode\n",
      "0         Modules in eval mode\n"
     ]
    },
    {
     "data": {
      "application/vnd.jupyter.widget-view+json": {
       "model_id": "48194f02fa144d03bfc787a27abf5e8f",
       "version_major": 2,
       "version_minor": 0
      },
      "text/plain": [
       "Sanity Checking: |          | 0/? [00:00<?, ?it/s]"
      ]
     },
     "metadata": {},
     "output_type": "display_data"
    },
    {
     "data": {
      "application/vnd.jupyter.widget-view+json": {
       "model_id": "28c35db69af94fce9d46fba69b14212f",
       "version_major": 2,
       "version_minor": 0
      },
      "text/plain": [
       "Training: |          | 0/? [00:00<?, ?it/s]"
      ]
     },
     "metadata": {},
     "output_type": "display_data"
    },
    {
     "data": {
      "application/vnd.jupyter.widget-view+json": {
       "model_id": "8aa89861502040e6b09375f115381641",
       "version_major": 2,
       "version_minor": 0
      },
      "text/plain": [
       "Validation: |          | 0/? [00:00<?, ?it/s]"
      ]
     },
     "metadata": {},
     "output_type": "display_data"
    },
    {
     "data": {
      "application/vnd.jupyter.widget-view+json": {
       "model_id": "f14b1190be3b4807bc89b4dd0649168b",
       "version_major": 2,
       "version_minor": 0
      },
      "text/plain": [
       "Validation: |          | 0/? [00:00<?, ?it/s]"
      ]
     },
     "metadata": {},
     "output_type": "display_data"
    },
    {
     "data": {
      "application/vnd.jupyter.widget-view+json": {
       "model_id": "60cf007e71eb4ee7b32cd029d1493f3e",
       "version_major": 2,
       "version_minor": 0
      },
      "text/plain": [
       "Validation: |          | 0/? [00:00<?, ?it/s]"
      ]
     },
     "metadata": {},
     "output_type": "display_data"
    },
    {
     "data": {
      "application/vnd.jupyter.widget-view+json": {
       "model_id": "4925801ae43c4f238775e73cb8737d3a",
       "version_major": 2,
       "version_minor": 0
      },
      "text/plain": [
       "Validation: |          | 0/? [00:00<?, ?it/s]"
      ]
     },
     "metadata": {},
     "output_type": "display_data"
    },
    {
     "data": {
      "application/vnd.jupyter.widget-view+json": {
       "model_id": "96bd1ae2b0204c11aba212ed6a38793b",
       "version_major": 2,
       "version_minor": 0
      },
      "text/plain": [
       "Validation: |          | 0/? [00:00<?, ?it/s]"
      ]
     },
     "metadata": {},
     "output_type": "display_data"
    },
    {
     "data": {
      "application/vnd.jupyter.widget-view+json": {
       "model_id": "c6c6ee11c2304dbf820338f98b0ef040",
       "version_major": 2,
       "version_minor": 0
      },
      "text/plain": [
       "Validation: |          | 0/? [00:00<?, ?it/s]"
      ]
     },
     "metadata": {},
     "output_type": "display_data"
    },
    {
     "data": {
      "application/vnd.jupyter.widget-view+json": {
       "model_id": "c24b7b3e0837419889d3cb348b4232bd",
       "version_major": 2,
       "version_minor": 0
      },
      "text/plain": [
       "Validation: |          | 0/? [00:00<?, ?it/s]"
      ]
     },
     "metadata": {},
     "output_type": "display_data"
    },
    {
     "data": {
      "application/vnd.jupyter.widget-view+json": {
       "model_id": "2082a3aad3d94c6abc86e24a4650f137",
       "version_major": 2,
       "version_minor": 0
      },
      "text/plain": [
       "Validation: |          | 0/? [00:00<?, ?it/s]"
      ]
     },
     "metadata": {},
     "output_type": "display_data"
    },
    {
     "data": {
      "application/vnd.jupyter.widget-view+json": {
       "model_id": "ea89804df2814899a2f66c8336c0e9df",
       "version_major": 2,
       "version_minor": 0
      },
      "text/plain": [
       "Validation: |          | 0/? [00:00<?, ?it/s]"
      ]
     },
     "metadata": {},
     "output_type": "display_data"
    },
    {
     "data": {
      "application/vnd.jupyter.widget-view+json": {
       "model_id": "2fddf22d00a248fe9c60c47de8629004",
       "version_major": 2,
       "version_minor": 0
      },
      "text/plain": [
       "Validation: |          | 0/? [00:00<?, ?it/s]"
      ]
     },
     "metadata": {},
     "output_type": "display_data"
    },
    {
     "name": "stderr",
     "output_type": "stream",
     "text": [
      "`Trainer.fit` stopped: `max_steps=1000` reached.\n",
      "Seed set to 9\n",
      "GPU available: True (mps), used: True\n",
      "TPU available: False, using: 0 TPU cores\n",
      "HPU available: False, using: 0 HPUs\n",
      "\n",
      "  | Name                    | Type                     | Params | Mode \n",
      "-----------------------------------------------------------------------------\n",
      "0 | loss                    | RMSE                     | 0      | train\n",
      "1 | padder_train            | ConstantPad1d            | 0      | train\n",
      "2 | scaler                  | TemporalNorm             | 0      | train\n",
      "3 | embedding               | TFTEmbedding             | 512    | train\n",
      "4 | temporal_encoder        | TemporalCovariateEncoder | 613 K  | train\n",
      "5 | temporal_fusion_decoder | TemporalFusionDecoder    | 252 K  | train\n",
      "6 | output_adapter          | Linear                   | 129    | train\n",
      "-----------------------------------------------------------------------------\n",
      "866 K     Trainable params\n",
      "0         Non-trainable params\n",
      "866 K     Total params\n",
      "3.464     Total estimated model params size (MB)\n",
      "88        Modules in train mode\n",
      "0         Modules in eval mode\n"
     ]
    },
    {
     "data": {
      "application/vnd.jupyter.widget-view+json": {
       "model_id": "a63eb866dc0f4aca97ed9e18ac03126d",
       "version_major": 2,
       "version_minor": 0
      },
      "text/plain": [
       "Sanity Checking: |          | 0/? [00:00<?, ?it/s]"
      ]
     },
     "metadata": {},
     "output_type": "display_data"
    },
    {
     "data": {
      "application/vnd.jupyter.widget-view+json": {
       "model_id": "26d15fb5b72c42ac90991dfc27d203ca",
       "version_major": 2,
       "version_minor": 0
      },
      "text/plain": [
       "Training: |          | 0/? [00:00<?, ?it/s]"
      ]
     },
     "metadata": {},
     "output_type": "display_data"
    },
    {
     "data": {
      "application/vnd.jupyter.widget-view+json": {
       "model_id": "0e127d0321344079849f10069524f7f9",
       "version_major": 2,
       "version_minor": 0
      },
      "text/plain": [
       "Validation: |          | 0/? [00:00<?, ?it/s]"
      ]
     },
     "metadata": {},
     "output_type": "display_data"
    },
    {
     "data": {
      "application/vnd.jupyter.widget-view+json": {
       "model_id": "43338e66b10a41558f20bd7c429df4fe",
       "version_major": 2,
       "version_minor": 0
      },
      "text/plain": [
       "Validation: |          | 0/? [00:00<?, ?it/s]"
      ]
     },
     "metadata": {},
     "output_type": "display_data"
    },
    {
     "data": {
      "application/vnd.jupyter.widget-view+json": {
       "model_id": "e86d36f6c2b84bbe9fc651d03002cf56",
       "version_major": 2,
       "version_minor": 0
      },
      "text/plain": [
       "Validation: |          | 0/? [00:00<?, ?it/s]"
      ]
     },
     "metadata": {},
     "output_type": "display_data"
    },
    {
     "data": {
      "application/vnd.jupyter.widget-view+json": {
       "model_id": "8cb9e05c3d804b2b9dd3b28b213689fd",
       "version_major": 2,
       "version_minor": 0
      },
      "text/plain": [
       "Validation: |          | 0/? [00:00<?, ?it/s]"
      ]
     },
     "metadata": {},
     "output_type": "display_data"
    },
    {
     "data": {
      "application/vnd.jupyter.widget-view+json": {
       "model_id": "4ce7e753227e448c9f50c2321d55febe",
       "version_major": 2,
       "version_minor": 0
      },
      "text/plain": [
       "Validation: |          | 0/? [00:00<?, ?it/s]"
      ]
     },
     "metadata": {},
     "output_type": "display_data"
    },
    {
     "name": "stderr",
     "output_type": "stream",
     "text": [
      "`Trainer.fit` stopped: `max_steps=500` reached.\n",
      "Seed set to 17\n",
      "GPU available: True (mps), used: True\n",
      "TPU available: False, using: 0 TPU cores\n",
      "HPU available: False, using: 0 HPUs\n",
      "\n",
      "  | Name                    | Type                     | Params | Mode \n",
      "-----------------------------------------------------------------------------\n",
      "0 | loss                    | RMSE                     | 0      | train\n",
      "1 | padder_train            | ConstantPad1d            | 0      | train\n",
      "2 | scaler                  | TemporalNorm             | 0      | train\n",
      "3 | embedding               | TFTEmbedding             | 512    | train\n",
      "4 | temporal_encoder        | TemporalCovariateEncoder | 613 K  | train\n",
      "5 | temporal_fusion_decoder | TemporalFusionDecoder    | 256 K  | train\n",
      "6 | output_adapter          | Linear                   | 129    | train\n",
      "-----------------------------------------------------------------------------\n",
      "870 K     Trainable params\n",
      "0         Non-trainable params\n",
      "870 K     Total params\n",
      "3.481     Total estimated model params size (MB)\n",
      "88        Modules in train mode\n",
      "0         Modules in eval mode\n"
     ]
    },
    {
     "data": {
      "application/vnd.jupyter.widget-view+json": {
       "model_id": "a930f3cd691d4315a1dc2d63f26b4be7",
       "version_major": 2,
       "version_minor": 0
      },
      "text/plain": [
       "Sanity Checking: |          | 0/? [00:00<?, ?it/s]"
      ]
     },
     "metadata": {},
     "output_type": "display_data"
    },
    {
     "data": {
      "application/vnd.jupyter.widget-view+json": {
       "model_id": "9814bb3ef4bc421d9a723e39b4f39924",
       "version_major": 2,
       "version_minor": 0
      },
      "text/plain": [
       "Training: |          | 0/? [00:00<?, ?it/s]"
      ]
     },
     "metadata": {},
     "output_type": "display_data"
    },
    {
     "data": {
      "application/vnd.jupyter.widget-view+json": {
       "model_id": "616def1040e0474097f2d85a3327632f",
       "version_major": 2,
       "version_minor": 0
      },
      "text/plain": [
       "Validation: |          | 0/? [00:00<?, ?it/s]"
      ]
     },
     "metadata": {},
     "output_type": "display_data"
    },
    {
     "data": {
      "application/vnd.jupyter.widget-view+json": {
       "model_id": "efbe887fbb5a4f0fb6217978d35655a9",
       "version_major": 2,
       "version_minor": 0
      },
      "text/plain": [
       "Validation: |          | 0/? [00:00<?, ?it/s]"
      ]
     },
     "metadata": {},
     "output_type": "display_data"
    },
    {
     "data": {
      "application/vnd.jupyter.widget-view+json": {
       "model_id": "57b6eeedb0cb4890962acb21ea12611e",
       "version_major": 2,
       "version_minor": 0
      },
      "text/plain": [
       "Validation: |          | 0/? [00:00<?, ?it/s]"
      ]
     },
     "metadata": {},
     "output_type": "display_data"
    },
    {
     "data": {
      "application/vnd.jupyter.widget-view+json": {
       "model_id": "3f6eb17363e447c78248db075dc90f01",
       "version_major": 2,
       "version_minor": 0
      },
      "text/plain": [
       "Validation: |          | 0/? [00:00<?, ?it/s]"
      ]
     },
     "metadata": {},
     "output_type": "display_data"
    },
    {
     "data": {
      "application/vnd.jupyter.widget-view+json": {
       "model_id": "91563fc388da46bcb2e72c9db4681c2b",
       "version_major": 2,
       "version_minor": 0
      },
      "text/plain": [
       "Validation: |          | 0/? [00:00<?, ?it/s]"
      ]
     },
     "metadata": {},
     "output_type": "display_data"
    },
    {
     "name": "stderr",
     "output_type": "stream",
     "text": [
      "`Trainer.fit` stopped: `max_steps=500` reached.\n",
      "Seed set to 1\n",
      "GPU available: True (mps), used: True\n",
      "TPU available: False, using: 0 TPU cores\n",
      "HPU available: False, using: 0 HPUs\n",
      "\n",
      "  | Name                    | Type                     | Params | Mode \n",
      "-----------------------------------------------------------------------------\n",
      "0 | loss                    | RMSE                     | 0      | train\n",
      "1 | padder_train            | ConstantPad1d            | 0      | train\n",
      "2 | scaler                  | TemporalNorm             | 0      | train\n",
      "3 | embedding               | TFTEmbedding             | 256    | train\n",
      "4 | temporal_encoder        | TemporalCovariateEncoder | 154 K  | train\n",
      "5 | temporal_fusion_decoder | TemporalFusionDecoder    | 64.8 K | train\n",
      "6 | output_adapter          | Linear                   | 65     | train\n",
      "-----------------------------------------------------------------------------\n",
      "220 K     Trainable params\n",
      "0         Non-trainable params\n",
      "220 K     Total params\n",
      "0.880     Total estimated model params size (MB)\n",
      "88        Modules in train mode\n",
      "0         Modules in eval mode\n"
     ]
    },
    {
     "data": {
      "application/vnd.jupyter.widget-view+json": {
       "model_id": "998d5591014640b4aa0fd6476040debb",
       "version_major": 2,
       "version_minor": 0
      },
      "text/plain": [
       "Sanity Checking: |          | 0/? [00:00<?, ?it/s]"
      ]
     },
     "metadata": {},
     "output_type": "display_data"
    },
    {
     "data": {
      "application/vnd.jupyter.widget-view+json": {
       "model_id": "b26b7c4e612a421a87faecb657de4b65",
       "version_major": 2,
       "version_minor": 0
      },
      "text/plain": [
       "Training: |          | 0/? [00:00<?, ?it/s]"
      ]
     },
     "metadata": {},
     "output_type": "display_data"
    },
    {
     "data": {
      "application/vnd.jupyter.widget-view+json": {
       "model_id": "0cab010d322c4923acefba88222dd689",
       "version_major": 2,
       "version_minor": 0
      },
      "text/plain": [
       "Validation: |          | 0/? [00:00<?, ?it/s]"
      ]
     },
     "metadata": {},
     "output_type": "display_data"
    },
    {
     "data": {
      "application/vnd.jupyter.widget-view+json": {
       "model_id": "bd68dba7a8f642df81b7a0e0c3caa501",
       "version_major": 2,
       "version_minor": 0
      },
      "text/plain": [
       "Validation: |          | 0/? [00:00<?, ?it/s]"
      ]
     },
     "metadata": {},
     "output_type": "display_data"
    },
    {
     "data": {
      "application/vnd.jupyter.widget-view+json": {
       "model_id": "49b87d0b635a4aeb9cc50f663878f5f6",
       "version_major": 2,
       "version_minor": 0
      },
      "text/plain": [
       "Validation: |          | 0/? [00:00<?, ?it/s]"
      ]
     },
     "metadata": {},
     "output_type": "display_data"
    },
    {
     "data": {
      "application/vnd.jupyter.widget-view+json": {
       "model_id": "adf05366a018454b91eb9b41c4706ac5",
       "version_major": 2,
       "version_minor": 0
      },
      "text/plain": [
       "Validation: |          | 0/? [00:00<?, ?it/s]"
      ]
     },
     "metadata": {},
     "output_type": "display_data"
    },
    {
     "data": {
      "application/vnd.jupyter.widget-view+json": {
       "model_id": "6103d8c28d024db48f48a5c2214c42b6",
       "version_major": 2,
       "version_minor": 0
      },
      "text/plain": [
       "Validation: |          | 0/? [00:00<?, ?it/s]"
      ]
     },
     "metadata": {},
     "output_type": "display_data"
    },
    {
     "name": "stderr",
     "output_type": "stream",
     "text": [
      "`Trainer.fit` stopped: `max_steps=500` reached.\n",
      "Seed set to 13\n",
      "GPU available: True (mps), used: True\n",
      "TPU available: False, using: 0 TPU cores\n",
      "HPU available: False, using: 0 HPUs\n",
      "\n",
      "  | Name                    | Type                     | Params | Mode \n",
      "-----------------------------------------------------------------------------\n",
      "0 | loss                    | RMSE                     | 0      | train\n",
      "1 | padder_train            | ConstantPad1d            | 0      | train\n",
      "2 | scaler                  | TemporalNorm             | 0      | train\n",
      "3 | embedding               | TFTEmbedding             | 512    | train\n",
      "4 | temporal_encoder        | TemporalCovariateEncoder | 613 K  | train\n",
      "5 | temporal_fusion_decoder | TemporalFusionDecoder    | 256 K  | train\n",
      "6 | output_adapter          | Linear                   | 129    | train\n",
      "-----------------------------------------------------------------------------\n",
      "870 K     Trainable params\n",
      "0         Non-trainable params\n",
      "870 K     Total params\n",
      "3.481     Total estimated model params size (MB)\n",
      "88        Modules in train mode\n",
      "0         Modules in eval mode\n"
     ]
    },
    {
     "data": {
      "application/vnd.jupyter.widget-view+json": {
       "model_id": "6d32b25066874a699e1f75e3c88aae2e",
       "version_major": 2,
       "version_minor": 0
      },
      "text/plain": [
       "Sanity Checking: |          | 0/? [00:00<?, ?it/s]"
      ]
     },
     "metadata": {},
     "output_type": "display_data"
    },
    {
     "data": {
      "application/vnd.jupyter.widget-view+json": {
       "model_id": "e065602866264892a8ac618d73ff39ae",
       "version_major": 2,
       "version_minor": 0
      },
      "text/plain": [
       "Training: |          | 0/? [00:00<?, ?it/s]"
      ]
     },
     "metadata": {},
     "output_type": "display_data"
    },
    {
     "data": {
      "application/vnd.jupyter.widget-view+json": {
       "model_id": "fef9818055e149b68b9d857f93bab32a",
       "version_major": 2,
       "version_minor": 0
      },
      "text/plain": [
       "Validation: |          | 0/? [00:00<?, ?it/s]"
      ]
     },
     "metadata": {},
     "output_type": "display_data"
    },
    {
     "data": {
      "application/vnd.jupyter.widget-view+json": {
       "model_id": "d08af58a05624215a381902dc02c488d",
       "version_major": 2,
       "version_minor": 0
      },
      "text/plain": [
       "Validation: |          | 0/? [00:00<?, ?it/s]"
      ]
     },
     "metadata": {},
     "output_type": "display_data"
    },
    {
     "data": {
      "application/vnd.jupyter.widget-view+json": {
       "model_id": "2ee79e27ec7f48b3aa42fd4d24a327ec",
       "version_major": 2,
       "version_minor": 0
      },
      "text/plain": [
       "Validation: |          | 0/? [00:00<?, ?it/s]"
      ]
     },
     "metadata": {},
     "output_type": "display_data"
    },
    {
     "data": {
      "application/vnd.jupyter.widget-view+json": {
       "model_id": "b6ae683fb0b044d89940d6041739120f",
       "version_major": 2,
       "version_minor": 0
      },
      "text/plain": [
       "Validation: |          | 0/? [00:00<?, ?it/s]"
      ]
     },
     "metadata": {},
     "output_type": "display_data"
    },
    {
     "data": {
      "application/vnd.jupyter.widget-view+json": {
       "model_id": "eaeefbaa38c04757acbed30630ae6bf8",
       "version_major": 2,
       "version_minor": 0
      },
      "text/plain": [
       "Validation: |          | 0/? [00:00<?, ?it/s]"
      ]
     },
     "metadata": {},
     "output_type": "display_data"
    },
    {
     "data": {
      "application/vnd.jupyter.widget-view+json": {
       "model_id": "88e14c09f90c40849d06685338016744",
       "version_major": 2,
       "version_minor": 0
      },
      "text/plain": [
       "Validation: |          | 0/? [00:00<?, ?it/s]"
      ]
     },
     "metadata": {},
     "output_type": "display_data"
    },
    {
     "data": {
      "application/vnd.jupyter.widget-view+json": {
       "model_id": "5643ef4a084449a0883f085aa36894ca",
       "version_major": 2,
       "version_minor": 0
      },
      "text/plain": [
       "Validation: |          | 0/? [00:00<?, ?it/s]"
      ]
     },
     "metadata": {},
     "output_type": "display_data"
    },
    {
     "data": {
      "application/vnd.jupyter.widget-view+json": {
       "model_id": "9a6bb29ddab54e9289c62c89de1e5b76",
       "version_major": 2,
       "version_minor": 0
      },
      "text/plain": [
       "Validation: |          | 0/? [00:00<?, ?it/s]"
      ]
     },
     "metadata": {},
     "output_type": "display_data"
    },
    {
     "data": {
      "application/vnd.jupyter.widget-view+json": {
       "model_id": "28266238337a46b9bfe11d43a9d7b38e",
       "version_major": 2,
       "version_minor": 0
      },
      "text/plain": [
       "Validation: |          | 0/? [00:00<?, ?it/s]"
      ]
     },
     "metadata": {},
     "output_type": "display_data"
    },
    {
     "data": {
      "application/vnd.jupyter.widget-view+json": {
       "model_id": "f1abc2c5876c400e908e02d98150cd9f",
       "version_major": 2,
       "version_minor": 0
      },
      "text/plain": [
       "Validation: |          | 0/? [00:00<?, ?it/s]"
      ]
     },
     "metadata": {},
     "output_type": "display_data"
    },
    {
     "name": "stderr",
     "output_type": "stream",
     "text": [
      "`Trainer.fit` stopped: `max_steps=1000` reached.\n",
      "Seed set to 12\n",
      "GPU available: True (mps), used: True\n",
      "TPU available: False, using: 0 TPU cores\n",
      "HPU available: False, using: 0 HPUs\n",
      "\n",
      "  | Name                    | Type                     | Params | Mode \n",
      "-----------------------------------------------------------------------------\n",
      "0 | loss                    | RMSE                     | 0      | train\n",
      "1 | padder_train            | ConstantPad1d            | 0      | train\n",
      "2 | scaler                  | TemporalNorm             | 0      | train\n",
      "3 | embedding               | TFTEmbedding             | 1.0 K  | train\n",
      "4 | temporal_encoder        | TemporalCovariateEncoder | 2.4 M  | train\n",
      "5 | temporal_fusion_decoder | TemporalFusionDecoder    | 1.0 M  | train\n",
      "6 | output_adapter          | Linear                   | 257    | train\n",
      "-----------------------------------------------------------------------------\n",
      "3.5 M     Trainable params\n",
      "0         Non-trainable params\n",
      "3.5 M     Total params\n",
      "13.842    Total estimated model params size (MB)\n",
      "88        Modules in train mode\n",
      "0         Modules in eval mode\n"
     ]
    },
    {
     "data": {
      "application/vnd.jupyter.widget-view+json": {
       "model_id": "cd8316dc5c1949dfa134333eafaa486e",
       "version_major": 2,
       "version_minor": 0
      },
      "text/plain": [
       "Sanity Checking: |          | 0/? [00:00<?, ?it/s]"
      ]
     },
     "metadata": {},
     "output_type": "display_data"
    },
    {
     "data": {
      "application/vnd.jupyter.widget-view+json": {
       "model_id": "0d6867fdb9664917bc82b9044a875e33",
       "version_major": 2,
       "version_minor": 0
      },
      "text/plain": [
       "Training: |          | 0/? [00:00<?, ?it/s]"
      ]
     },
     "metadata": {},
     "output_type": "display_data"
    },
    {
     "data": {
      "application/vnd.jupyter.widget-view+json": {
       "model_id": "b9a860600b8d45189932dc6ddccba36e",
       "version_major": 2,
       "version_minor": 0
      },
      "text/plain": [
       "Validation: |          | 0/? [00:00<?, ?it/s]"
      ]
     },
     "metadata": {},
     "output_type": "display_data"
    },
    {
     "data": {
      "application/vnd.jupyter.widget-view+json": {
       "model_id": "aa5c83ce10244239a5c6d3dc5e51f905",
       "version_major": 2,
       "version_minor": 0
      },
      "text/plain": [
       "Validation: |          | 0/? [00:00<?, ?it/s]"
      ]
     },
     "metadata": {},
     "output_type": "display_data"
    },
    {
     "data": {
      "application/vnd.jupyter.widget-view+json": {
       "model_id": "8cbf8a6a9ea748739a45a64a75d1bd24",
       "version_major": 2,
       "version_minor": 0
      },
      "text/plain": [
       "Validation: |          | 0/? [00:00<?, ?it/s]"
      ]
     },
     "metadata": {},
     "output_type": "display_data"
    },
    {
     "data": {
      "application/vnd.jupyter.widget-view+json": {
       "model_id": "6b971afb4133433a88b51316018c8d12",
       "version_major": 2,
       "version_minor": 0
      },
      "text/plain": [
       "Validation: |          | 0/? [00:00<?, ?it/s]"
      ]
     },
     "metadata": {},
     "output_type": "display_data"
    },
    {
     "data": {
      "application/vnd.jupyter.widget-view+json": {
       "model_id": "08d2cf0af742464b8d8376b124c20a16",
       "version_major": 2,
       "version_minor": 0
      },
      "text/plain": [
       "Validation: |          | 0/? [00:00<?, ?it/s]"
      ]
     },
     "metadata": {},
     "output_type": "display_data"
    },
    {
     "data": {
      "application/vnd.jupyter.widget-view+json": {
       "model_id": "f0383b49d6b9428b8b29130ce9735e85",
       "version_major": 2,
       "version_minor": 0
      },
      "text/plain": [
       "Validation: |          | 0/? [00:00<?, ?it/s]"
      ]
     },
     "metadata": {},
     "output_type": "display_data"
    },
    {
     "data": {
      "application/vnd.jupyter.widget-view+json": {
       "model_id": "4b02a82fa622453d916602f52dcc8744",
       "version_major": 2,
       "version_minor": 0
      },
      "text/plain": [
       "Validation: |          | 0/? [00:00<?, ?it/s]"
      ]
     },
     "metadata": {},
     "output_type": "display_data"
    },
    {
     "data": {
      "application/vnd.jupyter.widget-view+json": {
       "model_id": "789e4a42b0774ceab532baa88c526e22",
       "version_major": 2,
       "version_minor": 0
      },
      "text/plain": [
       "Validation: |          | 0/? [00:00<?, ?it/s]"
      ]
     },
     "metadata": {},
     "output_type": "display_data"
    },
    {
     "data": {
      "application/vnd.jupyter.widget-view+json": {
       "model_id": "696f0cdf254a453da5b809a3c9426d46",
       "version_major": 2,
       "version_minor": 0
      },
      "text/plain": [
       "Validation: |          | 0/? [00:00<?, ?it/s]"
      ]
     },
     "metadata": {},
     "output_type": "display_data"
    },
    {
     "data": {
      "application/vnd.jupyter.widget-view+json": {
       "model_id": "6becb083fabc4019b1fe36865da94041",
       "version_major": 2,
       "version_minor": 0
      },
      "text/plain": [
       "Validation: |          | 0/? [00:00<?, ?it/s]"
      ]
     },
     "metadata": {},
     "output_type": "display_data"
    },
    {
     "data": {
      "application/vnd.jupyter.widget-view+json": {
       "model_id": "0133872b597a4feeaed813b354bbb5ae",
       "version_major": 2,
       "version_minor": 0
      },
      "text/plain": [
       "Validation: |          | 0/? [00:00<?, ?it/s]"
      ]
     },
     "metadata": {},
     "output_type": "display_data"
    },
    {
     "data": {
      "application/vnd.jupyter.widget-view+json": {
       "model_id": "21b11ab1b9824f00a5c5f36e586d9163",
       "version_major": 2,
       "version_minor": 0
      },
      "text/plain": [
       "Validation: |          | 0/? [00:00<?, ?it/s]"
      ]
     },
     "metadata": {},
     "output_type": "display_data"
    },
    {
     "data": {
      "application/vnd.jupyter.widget-view+json": {
       "model_id": "1298c4af0a9f4db59e2d108f303969e0",
       "version_major": 2,
       "version_minor": 0
      },
      "text/plain": [
       "Validation: |          | 0/? [00:00<?, ?it/s]"
      ]
     },
     "metadata": {},
     "output_type": "display_data"
    },
    {
     "data": {
      "application/vnd.jupyter.widget-view+json": {
       "model_id": "04c531ea7a5b447f8ec59b6efbbf87e9",
       "version_major": 2,
       "version_minor": 0
      },
      "text/plain": [
       "Validation: |          | 0/? [00:00<?, ?it/s]"
      ]
     },
     "metadata": {},
     "output_type": "display_data"
    },
    {
     "data": {
      "application/vnd.jupyter.widget-view+json": {
       "model_id": "65593e2c79d74252ac0d9cfeeb7f5061",
       "version_major": 2,
       "version_minor": 0
      },
      "text/plain": [
       "Validation: |          | 0/? [00:00<?, ?it/s]"
      ]
     },
     "metadata": {},
     "output_type": "display_data"
    },
    {
     "data": {
      "application/vnd.jupyter.widget-view+json": {
       "model_id": "3956304a2f71499887dcf15c1466ca39",
       "version_major": 2,
       "version_minor": 0
      },
      "text/plain": [
       "Validation: |          | 0/? [00:00<?, ?it/s]"
      ]
     },
     "metadata": {},
     "output_type": "display_data"
    },
    {
     "data": {
      "application/vnd.jupyter.widget-view+json": {
       "model_id": "fcd2ac05f5f04d5783103c6cd4ba9a58",
       "version_major": 2,
       "version_minor": 0
      },
      "text/plain": [
       "Validation: |          | 0/? [00:00<?, ?it/s]"
      ]
     },
     "metadata": {},
     "output_type": "display_data"
    },
    {
     "data": {
      "application/vnd.jupyter.widget-view+json": {
       "model_id": "aa1d3a2c8e3846f78ff9bc19cc37c3fe",
       "version_major": 2,
       "version_minor": 0
      },
      "text/plain": [
       "Validation: |          | 0/? [00:00<?, ?it/s]"
      ]
     },
     "metadata": {},
     "output_type": "display_data"
    },
    {
     "data": {
      "application/vnd.jupyter.widget-view+json": {
       "model_id": "26f3d201527144088eb59c5673930db9",
       "version_major": 2,
       "version_minor": 0
      },
      "text/plain": [
       "Validation: |          | 0/? [00:00<?, ?it/s]"
      ]
     },
     "metadata": {},
     "output_type": "display_data"
    },
    {
     "data": {
      "application/vnd.jupyter.widget-view+json": {
       "model_id": "f2a1d6c582d941b98c4697f10419948b",
       "version_major": 2,
       "version_minor": 0
      },
      "text/plain": [
       "Validation: |          | 0/? [00:00<?, ?it/s]"
      ]
     },
     "metadata": {},
     "output_type": "display_data"
    },
    {
     "name": "stderr",
     "output_type": "stream",
     "text": [
      "`Trainer.fit` stopped: `max_steps=2000` reached.\n",
      "Seed set to 16\n",
      "GPU available: True (mps), used: True\n",
      "TPU available: False, using: 0 TPU cores\n",
      "HPU available: False, using: 0 HPUs\n",
      "\n",
      "  | Name                    | Type                     | Params | Mode \n",
      "-----------------------------------------------------------------------------\n",
      "0 | loss                    | RMSE                     | 0      | train\n",
      "1 | padder_train            | ConstantPad1d            | 0      | train\n",
      "2 | scaler                  | TemporalNorm             | 0      | train\n",
      "3 | embedding               | TFTEmbedding             | 256    | train\n",
      "4 | temporal_encoder        | TemporalCovariateEncoder | 154 K  | train\n",
      "5 | temporal_fusion_decoder | TemporalFusionDecoder    | 64.8 K | train\n",
      "6 | output_adapter          | Linear                   | 65     | train\n",
      "-----------------------------------------------------------------------------\n",
      "220 K     Trainable params\n",
      "0         Non-trainable params\n",
      "220 K     Total params\n",
      "0.880     Total estimated model params size (MB)\n",
      "88        Modules in train mode\n",
      "0         Modules in eval mode\n"
     ]
    },
    {
     "data": {
      "application/vnd.jupyter.widget-view+json": {
       "model_id": "56b0eed952b04568afb0c205f1d2c218",
       "version_major": 2,
       "version_minor": 0
      },
      "text/plain": [
       "Sanity Checking: |          | 0/? [00:00<?, ?it/s]"
      ]
     },
     "metadata": {},
     "output_type": "display_data"
    },
    {
     "data": {
      "application/vnd.jupyter.widget-view+json": {
       "model_id": "3ef6479990ae401e8bd87b166d308c24",
       "version_major": 2,
       "version_minor": 0
      },
      "text/plain": [
       "Training: |          | 0/? [00:00<?, ?it/s]"
      ]
     },
     "metadata": {},
     "output_type": "display_data"
    },
    {
     "data": {
      "application/vnd.jupyter.widget-view+json": {
       "model_id": "6e0e31d36cd644c48c7b3a55202c4799",
       "version_major": 2,
       "version_minor": 0
      },
      "text/plain": [
       "Validation: |          | 0/? [00:00<?, ?it/s]"
      ]
     },
     "metadata": {},
     "output_type": "display_data"
    },
    {
     "data": {
      "application/vnd.jupyter.widget-view+json": {
       "model_id": "c55e6471b615469b8dccc48eb20a1063",
       "version_major": 2,
       "version_minor": 0
      },
      "text/plain": [
       "Validation: |          | 0/? [00:00<?, ?it/s]"
      ]
     },
     "metadata": {},
     "output_type": "display_data"
    },
    {
     "data": {
      "application/vnd.jupyter.widget-view+json": {
       "model_id": "01214020115e46848f1cb86ebd73682c",
       "version_major": 2,
       "version_minor": 0
      },
      "text/plain": [
       "Validation: |          | 0/? [00:00<?, ?it/s]"
      ]
     },
     "metadata": {},
     "output_type": "display_data"
    },
    {
     "data": {
      "application/vnd.jupyter.widget-view+json": {
       "model_id": "9c7b9022645344b285442d46c89f0eff",
       "version_major": 2,
       "version_minor": 0
      },
      "text/plain": [
       "Validation: |          | 0/? [00:00<?, ?it/s]"
      ]
     },
     "metadata": {},
     "output_type": "display_data"
    },
    {
     "data": {
      "application/vnd.jupyter.widget-view+json": {
       "model_id": "0b5948bdd3b441f3a41afe33b422a6a3",
       "version_major": 2,
       "version_minor": 0
      },
      "text/plain": [
       "Validation: |          | 0/? [00:00<?, ?it/s]"
      ]
     },
     "metadata": {},
     "output_type": "display_data"
    },
    {
     "data": {
      "application/vnd.jupyter.widget-view+json": {
       "model_id": "2c811215dab6426289353e43eb8488fb",
       "version_major": 2,
       "version_minor": 0
      },
      "text/plain": [
       "Validation: |          | 0/? [00:00<?, ?it/s]"
      ]
     },
     "metadata": {},
     "output_type": "display_data"
    },
    {
     "data": {
      "application/vnd.jupyter.widget-view+json": {
       "model_id": "9afb85b722744cebb50d291730fc2ae5",
       "version_major": 2,
       "version_minor": 0
      },
      "text/plain": [
       "Validation: |          | 0/? [00:00<?, ?it/s]"
      ]
     },
     "metadata": {},
     "output_type": "display_data"
    },
    {
     "data": {
      "application/vnd.jupyter.widget-view+json": {
       "model_id": "a1fa30971bbd48eeaec97789fabb2302",
       "version_major": 2,
       "version_minor": 0
      },
      "text/plain": [
       "Validation: |          | 0/? [00:00<?, ?it/s]"
      ]
     },
     "metadata": {},
     "output_type": "display_data"
    },
    {
     "data": {
      "application/vnd.jupyter.widget-view+json": {
       "model_id": "220e9f86486a4b75a8f996aa726f4a19",
       "version_major": 2,
       "version_minor": 0
      },
      "text/plain": [
       "Validation: |          | 0/? [00:00<?, ?it/s]"
      ]
     },
     "metadata": {},
     "output_type": "display_data"
    },
    {
     "data": {
      "application/vnd.jupyter.widget-view+json": {
       "model_id": "6a31f88f99124b42baf15ce4af7eb807",
       "version_major": 2,
       "version_minor": 0
      },
      "text/plain": [
       "Validation: |          | 0/? [00:00<?, ?it/s]"
      ]
     },
     "metadata": {},
     "output_type": "display_data"
    },
    {
     "name": "stderr",
     "output_type": "stream",
     "text": [
      "`Trainer.fit` stopped: `max_steps=1000` reached.\n",
      "Seed set to 12\n",
      "GPU available: True (mps), used: True\n",
      "TPU available: False, using: 0 TPU cores\n",
      "HPU available: False, using: 0 HPUs\n",
      "\n",
      "  | Name                    | Type                     | Params | Mode \n",
      "-----------------------------------------------------------------------------\n",
      "0 | loss                    | RMSE                     | 0      | train\n",
      "1 | padder_train            | ConstantPad1d            | 0      | train\n",
      "2 | scaler                  | TemporalNorm             | 0      | train\n",
      "3 | embedding               | TFTEmbedding             | 512    | train\n",
      "4 | temporal_encoder        | TemporalCovariateEncoder | 613 K  | train\n",
      "5 | temporal_fusion_decoder | TemporalFusionDecoder    | 256 K  | train\n",
      "6 | output_adapter          | Linear                   | 129    | train\n",
      "-----------------------------------------------------------------------------\n",
      "870 K     Trainable params\n",
      "0         Non-trainable params\n",
      "870 K     Total params\n",
      "3.481     Total estimated model params size (MB)\n",
      "88        Modules in train mode\n",
      "0         Modules in eval mode\n"
     ]
    },
    {
     "data": {
      "application/vnd.jupyter.widget-view+json": {
       "model_id": "78252896aa904c15a6e5bf47344705b7",
       "version_major": 2,
       "version_minor": 0
      },
      "text/plain": [
       "Sanity Checking: |          | 0/? [00:00<?, ?it/s]"
      ]
     },
     "metadata": {},
     "output_type": "display_data"
    },
    {
     "data": {
      "application/vnd.jupyter.widget-view+json": {
       "model_id": "f3b4dd591cad46d79bb00927a2d67e94",
       "version_major": 2,
       "version_minor": 0
      },
      "text/plain": [
       "Training: |          | 0/? [00:00<?, ?it/s]"
      ]
     },
     "metadata": {},
     "output_type": "display_data"
    },
    {
     "data": {
      "application/vnd.jupyter.widget-view+json": {
       "model_id": "55650c6345e540ca842dada5aa28b588",
       "version_major": 2,
       "version_minor": 0
      },
      "text/plain": [
       "Validation: |          | 0/? [00:00<?, ?it/s]"
      ]
     },
     "metadata": {},
     "output_type": "display_data"
    },
    {
     "data": {
      "application/vnd.jupyter.widget-view+json": {
       "model_id": "a928dd88862446c7b244eb888d66d150",
       "version_major": 2,
       "version_minor": 0
      },
      "text/plain": [
       "Validation: |          | 0/? [00:00<?, ?it/s]"
      ]
     },
     "metadata": {},
     "output_type": "display_data"
    },
    {
     "data": {
      "application/vnd.jupyter.widget-view+json": {
       "model_id": "e258bc4e72bd472fbc7defbe064d36c3",
       "version_major": 2,
       "version_minor": 0
      },
      "text/plain": [
       "Validation: |          | 0/? [00:00<?, ?it/s]"
      ]
     },
     "metadata": {},
     "output_type": "display_data"
    },
    {
     "data": {
      "application/vnd.jupyter.widget-view+json": {
       "model_id": "180030de19e748f98ce514cd174d689b",
       "version_major": 2,
       "version_minor": 0
      },
      "text/plain": [
       "Validation: |          | 0/? [00:00<?, ?it/s]"
      ]
     },
     "metadata": {},
     "output_type": "display_data"
    },
    {
     "data": {
      "application/vnd.jupyter.widget-view+json": {
       "model_id": "d8967f6c78c34e249ee5440f5db6552f",
       "version_major": 2,
       "version_minor": 0
      },
      "text/plain": [
       "Validation: |          | 0/? [00:00<?, ?it/s]"
      ]
     },
     "metadata": {},
     "output_type": "display_data"
    },
    {
     "name": "stderr",
     "output_type": "stream",
     "text": [
      "`Trainer.fit` stopped: `max_steps=500` reached.\n",
      "Seed set to 10\n",
      "GPU available: True (mps), used: True\n",
      "TPU available: False, using: 0 TPU cores\n",
      "HPU available: False, using: 0 HPUs\n",
      "\n",
      "  | Name                    | Type                     | Params | Mode \n",
      "-----------------------------------------------------------------------------\n",
      "0 | loss                    | RMSE                     | 0      | train\n",
      "1 | padder_train            | ConstantPad1d            | 0      | train\n",
      "2 | scaler                  | TemporalNorm             | 0      | train\n",
      "3 | embedding               | TFTEmbedding             | 256    | train\n",
      "4 | temporal_encoder        | TemporalCovariateEncoder | 154 K  | train\n",
      "5 | temporal_fusion_decoder | TemporalFusionDecoder    | 64.8 K | train\n",
      "6 | output_adapter          | Linear                   | 65     | train\n",
      "-----------------------------------------------------------------------------\n",
      "220 K     Trainable params\n",
      "0         Non-trainable params\n",
      "220 K     Total params\n",
      "0.880     Total estimated model params size (MB)\n",
      "88        Modules in train mode\n",
      "0         Modules in eval mode\n"
     ]
    },
    {
     "data": {
      "application/vnd.jupyter.widget-view+json": {
       "model_id": "988446dabcaa4a50862ab9dd401567e1",
       "version_major": 2,
       "version_minor": 0
      },
      "text/plain": [
       "Sanity Checking: |          | 0/? [00:00<?, ?it/s]"
      ]
     },
     "metadata": {},
     "output_type": "display_data"
    },
    {
     "data": {
      "application/vnd.jupyter.widget-view+json": {
       "model_id": "39475bbf9b7a4d4cad5caf209564cdf0",
       "version_major": 2,
       "version_minor": 0
      },
      "text/plain": [
       "Training: |          | 0/? [00:00<?, ?it/s]"
      ]
     },
     "metadata": {},
     "output_type": "display_data"
    },
    {
     "data": {
      "application/vnd.jupyter.widget-view+json": {
       "model_id": "87cbd374619a4fdf8f320c7247f5a320",
       "version_major": 2,
       "version_minor": 0
      },
      "text/plain": [
       "Validation: |          | 0/? [00:00<?, ?it/s]"
      ]
     },
     "metadata": {},
     "output_type": "display_data"
    },
    {
     "data": {
      "application/vnd.jupyter.widget-view+json": {
       "model_id": "548e2080c1ae49f1a23c46ce1edd45b0",
       "version_major": 2,
       "version_minor": 0
      },
      "text/plain": [
       "Validation: |          | 0/? [00:00<?, ?it/s]"
      ]
     },
     "metadata": {},
     "output_type": "display_data"
    },
    {
     "data": {
      "application/vnd.jupyter.widget-view+json": {
       "model_id": "5b02e1bee0f14ef1a01fb84b5071d1cc",
       "version_major": 2,
       "version_minor": 0
      },
      "text/plain": [
       "Validation: |          | 0/? [00:00<?, ?it/s]"
      ]
     },
     "metadata": {},
     "output_type": "display_data"
    },
    {
     "data": {
      "application/vnd.jupyter.widget-view+json": {
       "model_id": "0af06a0ef518414c892626713e5f5ba9",
       "version_major": 2,
       "version_minor": 0
      },
      "text/plain": [
       "Validation: |          | 0/? [00:00<?, ?it/s]"
      ]
     },
     "metadata": {},
     "output_type": "display_data"
    },
    {
     "data": {
      "application/vnd.jupyter.widget-view+json": {
       "model_id": "5f5072f166094ebd85a7a76df7c3e12f",
       "version_major": 2,
       "version_minor": 0
      },
      "text/plain": [
       "Validation: |          | 0/? [00:00<?, ?it/s]"
      ]
     },
     "metadata": {},
     "output_type": "display_data"
    },
    {
     "name": "stderr",
     "output_type": "stream",
     "text": [
      "`Trainer.fit` stopped: `max_steps=500` reached.\n",
      "Seed set to 20\n",
      "GPU available: True (mps), used: True\n",
      "TPU available: False, using: 0 TPU cores\n",
      "HPU available: False, using: 0 HPUs\n",
      "\n",
      "  | Name                    | Type                     | Params | Mode \n",
      "-----------------------------------------------------------------------------\n",
      "0 | loss                    | RMSE                     | 0      | train\n",
      "1 | padder_train            | ConstantPad1d            | 0      | train\n",
      "2 | scaler                  | TemporalNorm             | 0      | train\n",
      "3 | embedding               | TFTEmbedding             | 512    | train\n",
      "4 | temporal_encoder        | TemporalCovariateEncoder | 613 K  | train\n",
      "5 | temporal_fusion_decoder | TemporalFusionDecoder    | 252 K  | train\n",
      "6 | output_adapter          | Linear                   | 129    | train\n",
      "-----------------------------------------------------------------------------\n",
      "866 K     Trainable params\n",
      "0         Non-trainable params\n",
      "866 K     Total params\n",
      "3.464     Total estimated model params size (MB)\n",
      "88        Modules in train mode\n",
      "0         Modules in eval mode\n"
     ]
    },
    {
     "data": {
      "application/vnd.jupyter.widget-view+json": {
       "model_id": "468687611188425199bc53563e0cba81",
       "version_major": 2,
       "version_minor": 0
      },
      "text/plain": [
       "Sanity Checking: |          | 0/? [00:00<?, ?it/s]"
      ]
     },
     "metadata": {},
     "output_type": "display_data"
    },
    {
     "data": {
      "application/vnd.jupyter.widget-view+json": {
       "model_id": "cc6724b5e47d42e39d5705a7adfded50",
       "version_major": 2,
       "version_minor": 0
      },
      "text/plain": [
       "Training: |          | 0/? [00:00<?, ?it/s]"
      ]
     },
     "metadata": {},
     "output_type": "display_data"
    },
    {
     "data": {
      "application/vnd.jupyter.widget-view+json": {
       "model_id": "b1a6be831c95461dbf5bcf0210848871",
       "version_major": 2,
       "version_minor": 0
      },
      "text/plain": [
       "Validation: |          | 0/? [00:00<?, ?it/s]"
      ]
     },
     "metadata": {},
     "output_type": "display_data"
    },
    {
     "data": {
      "application/vnd.jupyter.widget-view+json": {
       "model_id": "e7ef6a98b5054bbfb334a3b99d7b1861",
       "version_major": 2,
       "version_minor": 0
      },
      "text/plain": [
       "Validation: |          | 0/? [00:00<?, ?it/s]"
      ]
     },
     "metadata": {},
     "output_type": "display_data"
    },
    {
     "data": {
      "application/vnd.jupyter.widget-view+json": {
       "model_id": "f96f782cfea2491bb51807096d0e31de",
       "version_major": 2,
       "version_minor": 0
      },
      "text/plain": [
       "Validation: |          | 0/? [00:00<?, ?it/s]"
      ]
     },
     "metadata": {},
     "output_type": "display_data"
    },
    {
     "data": {
      "application/vnd.jupyter.widget-view+json": {
       "model_id": "cbe788bfe40747ab9c283af6a3dc8f3d",
       "version_major": 2,
       "version_minor": 0
      },
      "text/plain": [
       "Validation: |          | 0/? [00:00<?, ?it/s]"
      ]
     },
     "metadata": {},
     "output_type": "display_data"
    },
    {
     "data": {
      "application/vnd.jupyter.widget-view+json": {
       "model_id": "9cb454604988416daa580bcf38361ac0",
       "version_major": 2,
       "version_minor": 0
      },
      "text/plain": [
       "Validation: |          | 0/? [00:00<?, ?it/s]"
      ]
     },
     "metadata": {},
     "output_type": "display_data"
    },
    {
     "data": {
      "application/vnd.jupyter.widget-view+json": {
       "model_id": "0c00fe844644474a885a24e1a78e3a38",
       "version_major": 2,
       "version_minor": 0
      },
      "text/plain": [
       "Validation: |          | 0/? [00:00<?, ?it/s]"
      ]
     },
     "metadata": {},
     "output_type": "display_data"
    },
    {
     "data": {
      "application/vnd.jupyter.widget-view+json": {
       "model_id": "c315d465332f45f1bd7b2247386c20d0",
       "version_major": 2,
       "version_minor": 0
      },
      "text/plain": [
       "Validation: |          | 0/? [00:00<?, ?it/s]"
      ]
     },
     "metadata": {},
     "output_type": "display_data"
    },
    {
     "data": {
      "application/vnd.jupyter.widget-view+json": {
       "model_id": "c617a124ef4c493b90607c2c5e4938ef",
       "version_major": 2,
       "version_minor": 0
      },
      "text/plain": [
       "Validation: |          | 0/? [00:00<?, ?it/s]"
      ]
     },
     "metadata": {},
     "output_type": "display_data"
    },
    {
     "data": {
      "application/vnd.jupyter.widget-view+json": {
       "model_id": "2c3cd6c282024a09a4bb055eb13f9353",
       "version_major": 2,
       "version_minor": 0
      },
      "text/plain": [
       "Validation: |          | 0/? [00:00<?, ?it/s]"
      ]
     },
     "metadata": {},
     "output_type": "display_data"
    },
    {
     "data": {
      "application/vnd.jupyter.widget-view+json": {
       "model_id": "2a896a98761c4e92a4602e962e445da9",
       "version_major": 2,
       "version_minor": 0
      },
      "text/plain": [
       "Validation: |          | 0/? [00:00<?, ?it/s]"
      ]
     },
     "metadata": {},
     "output_type": "display_data"
    },
    {
     "name": "stderr",
     "output_type": "stream",
     "text": [
      "`Trainer.fit` stopped: `max_steps=1000` reached.\n",
      "Seed set to 13\n",
      "GPU available: True (mps), used: True\n",
      "TPU available: False, using: 0 TPU cores\n",
      "HPU available: False, using: 0 HPUs\n",
      "\n",
      "  | Name         | Type          | Params | Mode \n",
      "-------------------------------------------------------\n",
      "0 | loss         | RMSE          | 0      | train\n",
      "1 | padder_train | ConstantPad1d | 0      | train\n",
      "2 | scaler       | TemporalNorm  | 0      | train\n",
      "3 | blocks       | ModuleList    | 2.4 M  | train\n",
      "-------------------------------------------------------\n",
      "2.4 M     Trainable params\n",
      "390       Non-trainable params\n",
      "2.4 M     Total params\n",
      "9.726     Total estimated model params size (MB)\n",
      "31        Modules in train mode\n",
      "0         Modules in eval mode\n"
     ]
    },
    {
     "data": {
      "application/vnd.jupyter.widget-view+json": {
       "model_id": "2a6e654eb31947a4a732f7d88cad2b8b",
       "version_major": 2,
       "version_minor": 0
      },
      "text/plain": [
       "Sanity Checking: |          | 0/? [00:00<?, ?it/s]"
      ]
     },
     "metadata": {},
     "output_type": "display_data"
    },
    {
     "data": {
      "application/vnd.jupyter.widget-view+json": {
       "model_id": "59b8be51ffdf4fd282e19b748686a63c",
       "version_major": 2,
       "version_minor": 0
      },
      "text/plain": [
       "Training: |          | 0/? [00:00<?, ?it/s]"
      ]
     },
     "metadata": {},
     "output_type": "display_data"
    },
    {
     "data": {
      "application/vnd.jupyter.widget-view+json": {
       "model_id": "5e8783438d504f7fa6fc816c8a8cec10",
       "version_major": 2,
       "version_minor": 0
      },
      "text/plain": [
       "Validation: |          | 0/? [00:00<?, ?it/s]"
      ]
     },
     "metadata": {},
     "output_type": "display_data"
    },
    {
     "data": {
      "application/vnd.jupyter.widget-view+json": {
       "model_id": "9d332c072eb743c98085ab3cc2d92134",
       "version_major": 2,
       "version_minor": 0
      },
      "text/plain": [
       "Validation: |          | 0/? [00:00<?, ?it/s]"
      ]
     },
     "metadata": {},
     "output_type": "display_data"
    },
    {
     "data": {
      "application/vnd.jupyter.widget-view+json": {
       "model_id": "42b01603668d4fbab4c55c6bf56a2f44",
       "version_major": 2,
       "version_minor": 0
      },
      "text/plain": [
       "Validation: |          | 0/? [00:00<?, ?it/s]"
      ]
     },
     "metadata": {},
     "output_type": "display_data"
    },
    {
     "data": {
      "application/vnd.jupyter.widget-view+json": {
       "model_id": "d86096218eff40f387fcd27734adee9e",
       "version_major": 2,
       "version_minor": 0
      },
      "text/plain": [
       "Validation: |          | 0/? [00:00<?, ?it/s]"
      ]
     },
     "metadata": {},
     "output_type": "display_data"
    },
    {
     "data": {
      "application/vnd.jupyter.widget-view+json": {
       "model_id": "a533d64dbf0d4373894932cf667c8b18",
       "version_major": 2,
       "version_minor": 0
      },
      "text/plain": [
       "Validation: |          | 0/? [00:00<?, ?it/s]"
      ]
     },
     "metadata": {},
     "output_type": "display_data"
    },
    {
     "data": {
      "application/vnd.jupyter.widget-view+json": {
       "model_id": "feb6769a7c2f492fb3835344712fc8ef",
       "version_major": 2,
       "version_minor": 0
      },
      "text/plain": [
       "Validation: |          | 0/? [00:00<?, ?it/s]"
      ]
     },
     "metadata": {},
     "output_type": "display_data"
    },
    {
     "data": {
      "application/vnd.jupyter.widget-view+json": {
       "model_id": "195fe75f826f423fabe3d0471ce6c4c8",
       "version_major": 2,
       "version_minor": 0
      },
      "text/plain": [
       "Validation: |          | 0/? [00:00<?, ?it/s]"
      ]
     },
     "metadata": {},
     "output_type": "display_data"
    },
    {
     "data": {
      "application/vnd.jupyter.widget-view+json": {
       "model_id": "4a3206f288cd45d09c830a7135e4f2ac",
       "version_major": 2,
       "version_minor": 0
      },
      "text/plain": [
       "Validation: |          | 0/? [00:00<?, ?it/s]"
      ]
     },
     "metadata": {},
     "output_type": "display_data"
    },
    {
     "data": {
      "application/vnd.jupyter.widget-view+json": {
       "model_id": "6914d158037044b9b092ba932d6ef792",
       "version_major": 2,
       "version_minor": 0
      },
      "text/plain": [
       "Validation: |          | 0/? [00:00<?, ?it/s]"
      ]
     },
     "metadata": {},
     "output_type": "display_data"
    },
    {
     "data": {
      "application/vnd.jupyter.widget-view+json": {
       "model_id": "b62e137dd755495d911d2b0869ba4b1b",
       "version_major": 2,
       "version_minor": 0
      },
      "text/plain": [
       "Validation: |          | 0/? [00:00<?, ?it/s]"
      ]
     },
     "metadata": {},
     "output_type": "display_data"
    },
    {
     "name": "stderr",
     "output_type": "stream",
     "text": [
      "`Trainer.fit` stopped: `max_steps=1000` reached.\n",
      "Seed set to 3\n",
      "GPU available: True (mps), used: True\n",
      "TPU available: False, using: 0 TPU cores\n",
      "HPU available: False, using: 0 HPUs\n",
      "\n",
      "  | Name         | Type          | Params | Mode \n",
      "-------------------------------------------------------\n",
      "0 | loss         | RMSE          | 0      | train\n",
      "1 | padder_train | ConstantPad1d | 0      | train\n",
      "2 | scaler       | TemporalNorm  | 0      | train\n",
      "3 | blocks       | ModuleList    | 2.4 M  | train\n",
      "-------------------------------------------------------\n",
      "2.4 M     Trainable params\n",
      "234       Non-trainable params\n",
      "2.4 M     Total params\n",
      "9.627     Total estimated model params size (MB)\n",
      "31        Modules in train mode\n",
      "0         Modules in eval mode\n"
     ]
    },
    {
     "data": {
      "application/vnd.jupyter.widget-view+json": {
       "model_id": "1c48fbae60784dbd84afd542d985898f",
       "version_major": 2,
       "version_minor": 0
      },
      "text/plain": [
       "Sanity Checking: |          | 0/? [00:00<?, ?it/s]"
      ]
     },
     "metadata": {},
     "output_type": "display_data"
    },
    {
     "data": {
      "application/vnd.jupyter.widget-view+json": {
       "model_id": "ecc22cd675fc46229c86c09e58ac053f",
       "version_major": 2,
       "version_minor": 0
      },
      "text/plain": [
       "Training: |          | 0/? [00:00<?, ?it/s]"
      ]
     },
     "metadata": {},
     "output_type": "display_data"
    },
    {
     "data": {
      "application/vnd.jupyter.widget-view+json": {
       "model_id": "c43cb962ac2d491f9f945ee24c432f6a",
       "version_major": 2,
       "version_minor": 0
      },
      "text/plain": [
       "Validation: |          | 0/? [00:00<?, ?it/s]"
      ]
     },
     "metadata": {},
     "output_type": "display_data"
    },
    {
     "data": {
      "application/vnd.jupyter.widget-view+json": {
       "model_id": "4b1f39c0930a44e2b5b10d9cf42530f1",
       "version_major": 2,
       "version_minor": 0
      },
      "text/plain": [
       "Validation: |          | 0/? [00:00<?, ?it/s]"
      ]
     },
     "metadata": {},
     "output_type": "display_data"
    },
    {
     "data": {
      "application/vnd.jupyter.widget-view+json": {
       "model_id": "f1ef9f5b3b154a918860c200c06346d4",
       "version_major": 2,
       "version_minor": 0
      },
      "text/plain": [
       "Validation: |          | 0/? [00:00<?, ?it/s]"
      ]
     },
     "metadata": {},
     "output_type": "display_data"
    },
    {
     "data": {
      "application/vnd.jupyter.widget-view+json": {
       "model_id": "e3d384dcb77e40b1b45f31001df9123d",
       "version_major": 2,
       "version_minor": 0
      },
      "text/plain": [
       "Validation: |          | 0/? [00:00<?, ?it/s]"
      ]
     },
     "metadata": {},
     "output_type": "display_data"
    },
    {
     "data": {
      "application/vnd.jupyter.widget-view+json": {
       "model_id": "b75ec49baa824b1cb1ae67499842b099",
       "version_major": 2,
       "version_minor": 0
      },
      "text/plain": [
       "Validation: |          | 0/? [00:00<?, ?it/s]"
      ]
     },
     "metadata": {},
     "output_type": "display_data"
    },
    {
     "name": "stderr",
     "output_type": "stream",
     "text": [
      "`Trainer.fit` stopped: `max_steps=500` reached.\n",
      "Seed set to 1\n",
      "GPU available: True (mps), used: True\n",
      "TPU available: False, using: 0 TPU cores\n",
      "HPU available: False, using: 0 HPUs\n",
      "\n",
      "  | Name         | Type          | Params | Mode \n",
      "-------------------------------------------------------\n",
      "0 | loss         | RMSE          | 0      | train\n",
      "1 | padder_train | ConstantPad1d | 0      | train\n",
      "2 | scaler       | TemporalNorm  | 0      | train\n",
      "3 | blocks       | ModuleList    | 2.4 M  | train\n",
      "-------------------------------------------------------\n",
      "2.4 M     Trainable params\n",
      "390       Non-trainable params\n",
      "2.4 M     Total params\n",
      "9.726     Total estimated model params size (MB)\n",
      "31        Modules in train mode\n",
      "0         Modules in eval mode\n"
     ]
    },
    {
     "data": {
      "application/vnd.jupyter.widget-view+json": {
       "model_id": "932d6a60a8f143f0beeb75318918e370",
       "version_major": 2,
       "version_minor": 0
      },
      "text/plain": [
       "Sanity Checking: |          | 0/? [00:00<?, ?it/s]"
      ]
     },
     "metadata": {},
     "output_type": "display_data"
    },
    {
     "data": {
      "application/vnd.jupyter.widget-view+json": {
       "model_id": "f7b8a3f2cd58436c848da5f2f016d3f5",
       "version_major": 2,
       "version_minor": 0
      },
      "text/plain": [
       "Training: |          | 0/? [00:00<?, ?it/s]"
      ]
     },
     "metadata": {},
     "output_type": "display_data"
    },
    {
     "data": {
      "application/vnd.jupyter.widget-view+json": {
       "model_id": "2608c12551ad41b99b24ce0b955f0635",
       "version_major": 2,
       "version_minor": 0
      },
      "text/plain": [
       "Validation: |          | 0/? [00:00<?, ?it/s]"
      ]
     },
     "metadata": {},
     "output_type": "display_data"
    },
    {
     "data": {
      "application/vnd.jupyter.widget-view+json": {
       "model_id": "46ea689cf8714aa686ef0d39edb45af4",
       "version_major": 2,
       "version_minor": 0
      },
      "text/plain": [
       "Validation: |          | 0/? [00:00<?, ?it/s]"
      ]
     },
     "metadata": {},
     "output_type": "display_data"
    },
    {
     "data": {
      "application/vnd.jupyter.widget-view+json": {
       "model_id": "6be382608d4e41b7a970a9f4a3c31b80",
       "version_major": 2,
       "version_minor": 0
      },
      "text/plain": [
       "Validation: |          | 0/? [00:00<?, ?it/s]"
      ]
     },
     "metadata": {},
     "output_type": "display_data"
    },
    {
     "data": {
      "application/vnd.jupyter.widget-view+json": {
       "model_id": "75db1b443af04a6e85167ea216c23f8e",
       "version_major": 2,
       "version_minor": 0
      },
      "text/plain": [
       "Validation: |          | 0/? [00:00<?, ?it/s]"
      ]
     },
     "metadata": {},
     "output_type": "display_data"
    },
    {
     "data": {
      "application/vnd.jupyter.widget-view+json": {
       "model_id": "133dbe40efe649b4bdf72a5eb064822c",
       "version_major": 2,
       "version_minor": 0
      },
      "text/plain": [
       "Validation: |          | 0/? [00:00<?, ?it/s]"
      ]
     },
     "metadata": {},
     "output_type": "display_data"
    },
    {
     "name": "stderr",
     "output_type": "stream",
     "text": [
      "`Trainer.fit` stopped: `max_steps=500` reached.\n",
      "Seed set to 13\n",
      "GPU available: True (mps), used: True\n",
      "TPU available: False, using: 0 TPU cores\n",
      "HPU available: False, using: 0 HPUs\n",
      "\n",
      "  | Name         | Type          | Params | Mode \n",
      "-------------------------------------------------------\n",
      "0 | loss         | RMSE          | 0      | train\n",
      "1 | padder_train | ConstantPad1d | 0      | train\n",
      "2 | scaler       | TemporalNorm  | 0      | train\n",
      "3 | blocks       | ModuleList    | 2.4 M  | train\n",
      "-------------------------------------------------------\n",
      "2.4 M     Trainable params\n",
      "234       Non-trainable params\n",
      "2.4 M     Total params\n",
      "9.627     Total estimated model params size (MB)\n",
      "31        Modules in train mode\n",
      "0         Modules in eval mode\n"
     ]
    },
    {
     "data": {
      "application/vnd.jupyter.widget-view+json": {
       "model_id": "2de564898b4340ffa1ce66ada95f2511",
       "version_major": 2,
       "version_minor": 0
      },
      "text/plain": [
       "Sanity Checking: |          | 0/? [00:00<?, ?it/s]"
      ]
     },
     "metadata": {},
     "output_type": "display_data"
    },
    {
     "data": {
      "application/vnd.jupyter.widget-view+json": {
       "model_id": "5e0cd61cb35c46cca64053612c230b99",
       "version_major": 2,
       "version_minor": 0
      },
      "text/plain": [
       "Training: |          | 0/? [00:00<?, ?it/s]"
      ]
     },
     "metadata": {},
     "output_type": "display_data"
    },
    {
     "data": {
      "application/vnd.jupyter.widget-view+json": {
       "model_id": "f6b5dc4281b540d086fdfca07e0cdf7f",
       "version_major": 2,
       "version_minor": 0
      },
      "text/plain": [
       "Validation: |          | 0/? [00:00<?, ?it/s]"
      ]
     },
     "metadata": {},
     "output_type": "display_data"
    },
    {
     "data": {
      "application/vnd.jupyter.widget-view+json": {
       "model_id": "2e9eb4d029a14baf8a36a5e9bb4cf310",
       "version_major": 2,
       "version_minor": 0
      },
      "text/plain": [
       "Validation: |          | 0/? [00:00<?, ?it/s]"
      ]
     },
     "metadata": {},
     "output_type": "display_data"
    },
    {
     "data": {
      "application/vnd.jupyter.widget-view+json": {
       "model_id": "e5ab726bbc564fb5a70ef0ddfa6eb81d",
       "version_major": 2,
       "version_minor": 0
      },
      "text/plain": [
       "Validation: |          | 0/? [00:00<?, ?it/s]"
      ]
     },
     "metadata": {},
     "output_type": "display_data"
    },
    {
     "data": {
      "application/vnd.jupyter.widget-view+json": {
       "model_id": "e6f51b6a017249299c523dac6605bc58",
       "version_major": 2,
       "version_minor": 0
      },
      "text/plain": [
       "Validation: |          | 0/? [00:00<?, ?it/s]"
      ]
     },
     "metadata": {},
     "output_type": "display_data"
    },
    {
     "data": {
      "application/vnd.jupyter.widget-view+json": {
       "model_id": "030980fb9e2a4710b48f375adf7da507",
       "version_major": 2,
       "version_minor": 0
      },
      "text/plain": [
       "Validation: |          | 0/? [00:00<?, ?it/s]"
      ]
     },
     "metadata": {},
     "output_type": "display_data"
    },
    {
     "name": "stderr",
     "output_type": "stream",
     "text": [
      "`Trainer.fit` stopped: `max_steps=500` reached.\n",
      "Seed set to 17\n",
      "GPU available: True (mps), used: True\n",
      "TPU available: False, using: 0 TPU cores\n",
      "HPU available: False, using: 0 HPUs\n",
      "\n",
      "  | Name         | Type          | Params | Mode \n",
      "-------------------------------------------------------\n",
      "0 | loss         | RMSE          | 0      | train\n",
      "1 | padder_train | ConstantPad1d | 0      | train\n",
      "2 | scaler       | TemporalNorm  | 0      | train\n",
      "3 | blocks       | ModuleList    | 2.4 M  | train\n",
      "-------------------------------------------------------\n",
      "2.4 M     Trainable params\n",
      "156       Non-trainable params\n",
      "2.4 M     Total params\n",
      "9.577     Total estimated model params size (MB)\n",
      "31        Modules in train mode\n",
      "0         Modules in eval mode\n"
     ]
    },
    {
     "data": {
      "application/vnd.jupyter.widget-view+json": {
       "model_id": "8c4dc47ea6c9492db03b5ae1869a2935",
       "version_major": 2,
       "version_minor": 0
      },
      "text/plain": [
       "Sanity Checking: |          | 0/? [00:00<?, ?it/s]"
      ]
     },
     "metadata": {},
     "output_type": "display_data"
    },
    {
     "data": {
      "application/vnd.jupyter.widget-view+json": {
       "model_id": "c05457fd68ab41f8a4fb8d14a7c153a6",
       "version_major": 2,
       "version_minor": 0
      },
      "text/plain": [
       "Training: |          | 0/? [00:00<?, ?it/s]"
      ]
     },
     "metadata": {},
     "output_type": "display_data"
    },
    {
     "data": {
      "application/vnd.jupyter.widget-view+json": {
       "model_id": "bd0f04643ec440c6b1b64b05380473e7",
       "version_major": 2,
       "version_minor": 0
      },
      "text/plain": [
       "Validation: |          | 0/? [00:00<?, ?it/s]"
      ]
     },
     "metadata": {},
     "output_type": "display_data"
    },
    {
     "data": {
      "application/vnd.jupyter.widget-view+json": {
       "model_id": "c82077fb85354a5282e445679018b0c4",
       "version_major": 2,
       "version_minor": 0
      },
      "text/plain": [
       "Validation: |          | 0/? [00:00<?, ?it/s]"
      ]
     },
     "metadata": {},
     "output_type": "display_data"
    },
    {
     "data": {
      "application/vnd.jupyter.widget-view+json": {
       "model_id": "4d7fcfee5e8d49218800bd11adaa2864",
       "version_major": 2,
       "version_minor": 0
      },
      "text/plain": [
       "Validation: |          | 0/? [00:00<?, ?it/s]"
      ]
     },
     "metadata": {},
     "output_type": "display_data"
    },
    {
     "data": {
      "application/vnd.jupyter.widget-view+json": {
       "model_id": "6e83f47ed5d6418b8ab8bbfd3804f812",
       "version_major": 2,
       "version_minor": 0
      },
      "text/plain": [
       "Validation: |          | 0/? [00:00<?, ?it/s]"
      ]
     },
     "metadata": {},
     "output_type": "display_data"
    },
    {
     "data": {
      "application/vnd.jupyter.widget-view+json": {
       "model_id": "feae61a267ec4807bccf600a0d791376",
       "version_major": 2,
       "version_minor": 0
      },
      "text/plain": [
       "Validation: |          | 0/? [00:00<?, ?it/s]"
      ]
     },
     "metadata": {},
     "output_type": "display_data"
    },
    {
     "data": {
      "application/vnd.jupyter.widget-view+json": {
       "model_id": "05c6e40465f74e8db584cb425237e94b",
       "version_major": 2,
       "version_minor": 0
      },
      "text/plain": [
       "Validation: |          | 0/? [00:00<?, ?it/s]"
      ]
     },
     "metadata": {},
     "output_type": "display_data"
    },
    {
     "data": {
      "application/vnd.jupyter.widget-view+json": {
       "model_id": "a29912a1bd2749b6a85f73558ea95e6e",
       "version_major": 2,
       "version_minor": 0
      },
      "text/plain": [
       "Validation: |          | 0/? [00:00<?, ?it/s]"
      ]
     },
     "metadata": {},
     "output_type": "display_data"
    },
    {
     "data": {
      "application/vnd.jupyter.widget-view+json": {
       "model_id": "9b7f01ddaf524c38b96f4d29c6f0a5f8",
       "version_major": 2,
       "version_minor": 0
      },
      "text/plain": [
       "Validation: |          | 0/? [00:00<?, ?it/s]"
      ]
     },
     "metadata": {},
     "output_type": "display_data"
    },
    {
     "data": {
      "application/vnd.jupyter.widget-view+json": {
       "model_id": "ff9f537dbefe42ce9dab5ed2f5c23a51",
       "version_major": 2,
       "version_minor": 0
      },
      "text/plain": [
       "Validation: |          | 0/? [00:00<?, ?it/s]"
      ]
     },
     "metadata": {},
     "output_type": "display_data"
    },
    {
     "data": {
      "application/vnd.jupyter.widget-view+json": {
       "model_id": "1799e31aa625406e9ed3006ac83e0160",
       "version_major": 2,
       "version_minor": 0
      },
      "text/plain": [
       "Validation: |          | 0/? [00:00<?, ?it/s]"
      ]
     },
     "metadata": {},
     "output_type": "display_data"
    },
    {
     "name": "stderr",
     "output_type": "stream",
     "text": [
      "`Trainer.fit` stopped: `max_steps=1000` reached.\n",
      "Seed set to 14\n",
      "GPU available: True (mps), used: True\n",
      "TPU available: False, using: 0 TPU cores\n",
      "HPU available: False, using: 0 HPUs\n",
      "\n",
      "  | Name         | Type          | Params | Mode \n",
      "-------------------------------------------------------\n",
      "0 | loss         | RMSE          | 0      | train\n",
      "1 | padder_train | ConstantPad1d | 0      | train\n",
      "2 | scaler       | TemporalNorm  | 0      | train\n",
      "3 | blocks       | ModuleList    | 2.4 M  | train\n",
      "-------------------------------------------------------\n",
      "2.4 M     Trainable params\n",
      "312       Non-trainable params\n",
      "2.4 M     Total params\n",
      "9.676     Total estimated model params size (MB)\n",
      "31        Modules in train mode\n",
      "0         Modules in eval mode\n"
     ]
    },
    {
     "data": {
      "application/vnd.jupyter.widget-view+json": {
       "model_id": "60aa2730591a49cf8d0933d6969a322d",
       "version_major": 2,
       "version_minor": 0
      },
      "text/plain": [
       "Sanity Checking: |          | 0/? [00:00<?, ?it/s]"
      ]
     },
     "metadata": {},
     "output_type": "display_data"
    },
    {
     "data": {
      "application/vnd.jupyter.widget-view+json": {
       "model_id": "26fe162145d74095969c642f7ba8e342",
       "version_major": 2,
       "version_minor": 0
      },
      "text/plain": [
       "Training: |          | 0/? [00:00<?, ?it/s]"
      ]
     },
     "metadata": {},
     "output_type": "display_data"
    },
    {
     "data": {
      "application/vnd.jupyter.widget-view+json": {
       "model_id": "157b18ece3f1491fb94eada139f74efe",
       "version_major": 2,
       "version_minor": 0
      },
      "text/plain": [
       "Validation: |          | 0/? [00:00<?, ?it/s]"
      ]
     },
     "metadata": {},
     "output_type": "display_data"
    },
    {
     "data": {
      "application/vnd.jupyter.widget-view+json": {
       "model_id": "89527ec93e0243188eb52923d1bafd02",
       "version_major": 2,
       "version_minor": 0
      },
      "text/plain": [
       "Validation: |          | 0/? [00:00<?, ?it/s]"
      ]
     },
     "metadata": {},
     "output_type": "display_data"
    },
    {
     "data": {
      "application/vnd.jupyter.widget-view+json": {
       "model_id": "260aaed3af1447788a352a5d03373080",
       "version_major": 2,
       "version_minor": 0
      },
      "text/plain": [
       "Validation: |          | 0/? [00:00<?, ?it/s]"
      ]
     },
     "metadata": {},
     "output_type": "display_data"
    },
    {
     "data": {
      "application/vnd.jupyter.widget-view+json": {
       "model_id": "ff1dc7c51c634358b1cc676cf71499f3",
       "version_major": 2,
       "version_minor": 0
      },
      "text/plain": [
       "Validation: |          | 0/? [00:00<?, ?it/s]"
      ]
     },
     "metadata": {},
     "output_type": "display_data"
    },
    {
     "data": {
      "application/vnd.jupyter.widget-view+json": {
       "model_id": "6572e29f3a0c47f9a14665f53558dac3",
       "version_major": 2,
       "version_minor": 0
      },
      "text/plain": [
       "Validation: |          | 0/? [00:00<?, ?it/s]"
      ]
     },
     "metadata": {},
     "output_type": "display_data"
    },
    {
     "name": "stderr",
     "output_type": "stream",
     "text": [
      "`Trainer.fit` stopped: `max_steps=500` reached.\n",
      "Seed set to 3\n",
      "GPU available: True (mps), used: True\n",
      "TPU available: False, using: 0 TPU cores\n",
      "HPU available: False, using: 0 HPUs\n",
      "\n",
      "  | Name         | Type          | Params | Mode \n",
      "-------------------------------------------------------\n",
      "0 | loss         | RMSE          | 0      | train\n",
      "1 | padder_train | ConstantPad1d | 0      | train\n",
      "2 | scaler       | TemporalNorm  | 0      | train\n",
      "3 | blocks       | ModuleList    | 2.4 M  | train\n",
      "-------------------------------------------------------\n",
      "2.4 M     Trainable params\n",
      "390       Non-trainable params\n",
      "2.4 M     Total params\n",
      "9.726     Total estimated model params size (MB)\n",
      "31        Modules in train mode\n",
      "0         Modules in eval mode\n"
     ]
    },
    {
     "data": {
      "application/vnd.jupyter.widget-view+json": {
       "model_id": "29bf97bc93bf4b30969f9f5c804acbea",
       "version_major": 2,
       "version_minor": 0
      },
      "text/plain": [
       "Sanity Checking: |          | 0/? [00:00<?, ?it/s]"
      ]
     },
     "metadata": {},
     "output_type": "display_data"
    },
    {
     "data": {
      "application/vnd.jupyter.widget-view+json": {
       "model_id": "29a8b073e01f4ec8a7a26987c35ef692",
       "version_major": 2,
       "version_minor": 0
      },
      "text/plain": [
       "Training: |          | 0/? [00:00<?, ?it/s]"
      ]
     },
     "metadata": {},
     "output_type": "display_data"
    },
    {
     "data": {
      "application/vnd.jupyter.widget-view+json": {
       "model_id": "a572a8806d0e4ac8be508d3f385497bf",
       "version_major": 2,
       "version_minor": 0
      },
      "text/plain": [
       "Validation: |          | 0/? [00:00<?, ?it/s]"
      ]
     },
     "metadata": {},
     "output_type": "display_data"
    },
    {
     "data": {
      "application/vnd.jupyter.widget-view+json": {
       "model_id": "cfcdc24870f64656ab6a413229a05e69",
       "version_major": 2,
       "version_minor": 0
      },
      "text/plain": [
       "Validation: |          | 0/? [00:00<?, ?it/s]"
      ]
     },
     "metadata": {},
     "output_type": "display_data"
    },
    {
     "data": {
      "application/vnd.jupyter.widget-view+json": {
       "model_id": "0e43f533ac4b49fe957facdd508c9329",
       "version_major": 2,
       "version_minor": 0
      },
      "text/plain": [
       "Validation: |          | 0/? [00:00<?, ?it/s]"
      ]
     },
     "metadata": {},
     "output_type": "display_data"
    },
    {
     "data": {
      "application/vnd.jupyter.widget-view+json": {
       "model_id": "2e40c47b19764fd0aca9617a708b8943",
       "version_major": 2,
       "version_minor": 0
      },
      "text/plain": [
       "Validation: |          | 0/? [00:00<?, ?it/s]"
      ]
     },
     "metadata": {},
     "output_type": "display_data"
    },
    {
     "data": {
      "application/vnd.jupyter.widget-view+json": {
       "model_id": "066e4399fdd6427ca686ebd18a17da5c",
       "version_major": 2,
       "version_minor": 0
      },
      "text/plain": [
       "Validation: |          | 0/? [00:00<?, ?it/s]"
      ]
     },
     "metadata": {},
     "output_type": "display_data"
    },
    {
     "name": "stderr",
     "output_type": "stream",
     "text": [
      "`Trainer.fit` stopped: `max_steps=500` reached.\n",
      "Seed set to 9\n",
      "GPU available: True (mps), used: True\n",
      "TPU available: False, using: 0 TPU cores\n",
      "HPU available: False, using: 0 HPUs\n",
      "\n",
      "  | Name         | Type          | Params | Mode \n",
      "-------------------------------------------------------\n",
      "0 | loss         | RMSE          | 0      | train\n",
      "1 | padder_train | ConstantPad1d | 0      | train\n",
      "2 | scaler       | TemporalNorm  | 0      | train\n",
      "3 | blocks       | ModuleList    | 2.4 M  | train\n",
      "-------------------------------------------------------\n",
      "2.4 M     Trainable params\n",
      "156       Non-trainable params\n",
      "2.4 M     Total params\n",
      "9.577     Total estimated model params size (MB)\n",
      "31        Modules in train mode\n",
      "0         Modules in eval mode\n"
     ]
    },
    {
     "data": {
      "application/vnd.jupyter.widget-view+json": {
       "model_id": "c1711dda76514dffa69a493ae44b094d",
       "version_major": 2,
       "version_minor": 0
      },
      "text/plain": [
       "Sanity Checking: |          | 0/? [00:00<?, ?it/s]"
      ]
     },
     "metadata": {},
     "output_type": "display_data"
    },
    {
     "data": {
      "application/vnd.jupyter.widget-view+json": {
       "model_id": "cddacb58e67241d8a9e273f381b8ae75",
       "version_major": 2,
       "version_minor": 0
      },
      "text/plain": [
       "Training: |          | 0/? [00:00<?, ?it/s]"
      ]
     },
     "metadata": {},
     "output_type": "display_data"
    },
    {
     "data": {
      "application/vnd.jupyter.widget-view+json": {
       "model_id": "77272b856aca4cc993b8e538cf3cda4e",
       "version_major": 2,
       "version_minor": 0
      },
      "text/plain": [
       "Validation: |          | 0/? [00:00<?, ?it/s]"
      ]
     },
     "metadata": {},
     "output_type": "display_data"
    },
    {
     "data": {
      "application/vnd.jupyter.widget-view+json": {
       "model_id": "a63e60da5dca4bc0b8112e1a4765032c",
       "version_major": 2,
       "version_minor": 0
      },
      "text/plain": [
       "Validation: |          | 0/? [00:00<?, ?it/s]"
      ]
     },
     "metadata": {},
     "output_type": "display_data"
    },
    {
     "data": {
      "application/vnd.jupyter.widget-view+json": {
       "model_id": "bf3a52ccadfa4026ba033a7acf33a3f4",
       "version_major": 2,
       "version_minor": 0
      },
      "text/plain": [
       "Validation: |          | 0/? [00:00<?, ?it/s]"
      ]
     },
     "metadata": {},
     "output_type": "display_data"
    },
    {
     "data": {
      "application/vnd.jupyter.widget-view+json": {
       "model_id": "c21f79e1a262400b84a8b59f5a73f9fc",
       "version_major": 2,
       "version_minor": 0
      },
      "text/plain": [
       "Validation: |          | 0/? [00:00<?, ?it/s]"
      ]
     },
     "metadata": {},
     "output_type": "display_data"
    },
    {
     "data": {
      "application/vnd.jupyter.widget-view+json": {
       "model_id": "3beedcce2e994fe090f59022510bf0bd",
       "version_major": 2,
       "version_minor": 0
      },
      "text/plain": [
       "Validation: |          | 0/? [00:00<?, ?it/s]"
      ]
     },
     "metadata": {},
     "output_type": "display_data"
    },
    {
     "data": {
      "application/vnd.jupyter.widget-view+json": {
       "model_id": "2a2301e9e07a47bd8f3f83fa9a567858",
       "version_major": 2,
       "version_minor": 0
      },
      "text/plain": [
       "Validation: |          | 0/? [00:00<?, ?it/s]"
      ]
     },
     "metadata": {},
     "output_type": "display_data"
    },
    {
     "data": {
      "application/vnd.jupyter.widget-view+json": {
       "model_id": "288a38f2330042ad8e1849e75a55fbef",
       "version_major": 2,
       "version_minor": 0
      },
      "text/plain": [
       "Validation: |          | 0/? [00:00<?, ?it/s]"
      ]
     },
     "metadata": {},
     "output_type": "display_data"
    },
    {
     "data": {
      "application/vnd.jupyter.widget-view+json": {
       "model_id": "218c6092fca24f9f9d4709cf39ba6063",
       "version_major": 2,
       "version_minor": 0
      },
      "text/plain": [
       "Validation: |          | 0/? [00:00<?, ?it/s]"
      ]
     },
     "metadata": {},
     "output_type": "display_data"
    },
    {
     "data": {
      "application/vnd.jupyter.widget-view+json": {
       "model_id": "d65ed98d79b141a5a4fe855e5d8daf8e",
       "version_major": 2,
       "version_minor": 0
      },
      "text/plain": [
       "Validation: |          | 0/? [00:00<?, ?it/s]"
      ]
     },
     "metadata": {},
     "output_type": "display_data"
    },
    {
     "data": {
      "application/vnd.jupyter.widget-view+json": {
       "model_id": "fff27f99c7c3461598106331f00c7400",
       "version_major": 2,
       "version_minor": 0
      },
      "text/plain": [
       "Validation: |          | 0/? [00:00<?, ?it/s]"
      ]
     },
     "metadata": {},
     "output_type": "display_data"
    },
    {
     "name": "stderr",
     "output_type": "stream",
     "text": [
      "`Trainer.fit` stopped: `max_steps=1000` reached.\n",
      "Seed set to 3\n",
      "GPU available: True (mps), used: True\n",
      "TPU available: False, using: 0 TPU cores\n",
      "HPU available: False, using: 0 HPUs\n",
      "\n",
      "  | Name         | Type          | Params | Mode \n",
      "-------------------------------------------------------\n",
      "0 | loss         | RMSE          | 0      | train\n",
      "1 | padder_train | ConstantPad1d | 0      | train\n",
      "2 | scaler       | TemporalNorm  | 0      | train\n",
      "3 | blocks       | ModuleList    | 2.4 M  | train\n",
      "-------------------------------------------------------\n",
      "2.4 M     Trainable params\n",
      "390       Non-trainable params\n",
      "2.4 M     Total params\n",
      "9.726     Total estimated model params size (MB)\n",
      "31        Modules in train mode\n",
      "0         Modules in eval mode\n"
     ]
    },
    {
     "data": {
      "application/vnd.jupyter.widget-view+json": {
       "model_id": "b0a4d63778104696b9b1da9f36965d35",
       "version_major": 2,
       "version_minor": 0
      },
      "text/plain": [
       "Sanity Checking: |          | 0/? [00:00<?, ?it/s]"
      ]
     },
     "metadata": {},
     "output_type": "display_data"
    },
    {
     "data": {
      "application/vnd.jupyter.widget-view+json": {
       "model_id": "245d99eadb4b46b286a535702dfc8e62",
       "version_major": 2,
       "version_minor": 0
      },
      "text/plain": [
       "Training: |          | 0/? [00:00<?, ?it/s]"
      ]
     },
     "metadata": {},
     "output_type": "display_data"
    },
    {
     "data": {
      "application/vnd.jupyter.widget-view+json": {
       "model_id": "423b0741db5341ecad37494bd80b9968",
       "version_major": 2,
       "version_minor": 0
      },
      "text/plain": [
       "Validation: |          | 0/? [00:00<?, ?it/s]"
      ]
     },
     "metadata": {},
     "output_type": "display_data"
    },
    {
     "data": {
      "application/vnd.jupyter.widget-view+json": {
       "model_id": "5c992372c8924bb2ae839d67efd69bd3",
       "version_major": 2,
       "version_minor": 0
      },
      "text/plain": [
       "Validation: |          | 0/? [00:00<?, ?it/s]"
      ]
     },
     "metadata": {},
     "output_type": "display_data"
    },
    {
     "data": {
      "application/vnd.jupyter.widget-view+json": {
       "model_id": "da186c0a1e074339a865d5d8764abb26",
       "version_major": 2,
       "version_minor": 0
      },
      "text/plain": [
       "Validation: |          | 0/? [00:00<?, ?it/s]"
      ]
     },
     "metadata": {},
     "output_type": "display_data"
    },
    {
     "data": {
      "application/vnd.jupyter.widget-view+json": {
       "model_id": "105612f56f514f81ad460e2325f1ea9f",
       "version_major": 2,
       "version_minor": 0
      },
      "text/plain": [
       "Validation: |          | 0/? [00:00<?, ?it/s]"
      ]
     },
     "metadata": {},
     "output_type": "display_data"
    },
    {
     "data": {
      "application/vnd.jupyter.widget-view+json": {
       "model_id": "ee5822972b7f43e991459268d8e1a538",
       "version_major": 2,
       "version_minor": 0
      },
      "text/plain": [
       "Validation: |          | 0/? [00:00<?, ?it/s]"
      ]
     },
     "metadata": {},
     "output_type": "display_data"
    },
    {
     "name": "stderr",
     "output_type": "stream",
     "text": [
      "`Trainer.fit` stopped: `max_steps=500` reached.\n",
      "Seed set to 6\n",
      "GPU available: True (mps), used: True\n",
      "TPU available: False, using: 0 TPU cores\n",
      "HPU available: False, using: 0 HPUs\n",
      "\n",
      "  | Name         | Type          | Params | Mode \n",
      "-------------------------------------------------------\n",
      "0 | loss         | RMSE          | 0      | train\n",
      "1 | padder_train | ConstantPad1d | 0      | train\n",
      "2 | scaler       | TemporalNorm  | 0      | train\n",
      "3 | blocks       | ModuleList    | 2.4 M  | train\n",
      "-------------------------------------------------------\n",
      "2.4 M     Trainable params\n",
      "390       Non-trainable params\n",
      "2.4 M     Total params\n",
      "9.726     Total estimated model params size (MB)\n",
      "31        Modules in train mode\n",
      "0         Modules in eval mode\n"
     ]
    },
    {
     "data": {
      "application/vnd.jupyter.widget-view+json": {
       "model_id": "a70844a73d3f4cefa9b24612975d47f2",
       "version_major": 2,
       "version_minor": 0
      },
      "text/plain": [
       "Sanity Checking: |          | 0/? [00:00<?, ?it/s]"
      ]
     },
     "metadata": {},
     "output_type": "display_data"
    },
    {
     "data": {
      "application/vnd.jupyter.widget-view+json": {
       "model_id": "2c28049982a747c5b92229bd735b0e29",
       "version_major": 2,
       "version_minor": 0
      },
      "text/plain": [
       "Training: |          | 0/? [00:00<?, ?it/s]"
      ]
     },
     "metadata": {},
     "output_type": "display_data"
    },
    {
     "data": {
      "application/vnd.jupyter.widget-view+json": {
       "model_id": "29c9a8ac26e14b1a9e2202b4557266ff",
       "version_major": 2,
       "version_minor": 0
      },
      "text/plain": [
       "Validation: |          | 0/? [00:00<?, ?it/s]"
      ]
     },
     "metadata": {},
     "output_type": "display_data"
    },
    {
     "data": {
      "application/vnd.jupyter.widget-view+json": {
       "model_id": "54b75de321c74ef998d2dd32e7ebc4d0",
       "version_major": 2,
       "version_minor": 0
      },
      "text/plain": [
       "Validation: |          | 0/? [00:00<?, ?it/s]"
      ]
     },
     "metadata": {},
     "output_type": "display_data"
    },
    {
     "data": {
      "application/vnd.jupyter.widget-view+json": {
       "model_id": "15398e17442840b0982b770b679f0334",
       "version_major": 2,
       "version_minor": 0
      },
      "text/plain": [
       "Validation: |          | 0/? [00:00<?, ?it/s]"
      ]
     },
     "metadata": {},
     "output_type": "display_data"
    },
    {
     "data": {
      "application/vnd.jupyter.widget-view+json": {
       "model_id": "61d2d2fe8cfb4f37a50094678fd22123",
       "version_major": 2,
       "version_minor": 0
      },
      "text/plain": [
       "Validation: |          | 0/? [00:00<?, ?it/s]"
      ]
     },
     "metadata": {},
     "output_type": "display_data"
    },
    {
     "data": {
      "application/vnd.jupyter.widget-view+json": {
       "model_id": "9c70a1323bc04cfcb6a59cfa68a8514a",
       "version_major": 2,
       "version_minor": 0
      },
      "text/plain": [
       "Validation: |          | 0/? [00:00<?, ?it/s]"
      ]
     },
     "metadata": {},
     "output_type": "display_data"
    },
    {
     "data": {
      "application/vnd.jupyter.widget-view+json": {
       "model_id": "8f37ae3733ef45e5aa5bb772a2e2a6c6",
       "version_major": 2,
       "version_minor": 0
      },
      "text/plain": [
       "Validation: |          | 0/? [00:00<?, ?it/s]"
      ]
     },
     "metadata": {},
     "output_type": "display_data"
    },
    {
     "data": {
      "application/vnd.jupyter.widget-view+json": {
       "model_id": "3a8a947f0f854554bb099c9c88b0c234",
       "version_major": 2,
       "version_minor": 0
      },
      "text/plain": [
       "Validation: |          | 0/? [00:00<?, ?it/s]"
      ]
     },
     "metadata": {},
     "output_type": "display_data"
    },
    {
     "data": {
      "application/vnd.jupyter.widget-view+json": {
       "model_id": "70a8fd0087d64163818e7523e2df609b",
       "version_major": 2,
       "version_minor": 0
      },
      "text/plain": [
       "Validation: |          | 0/? [00:00<?, ?it/s]"
      ]
     },
     "metadata": {},
     "output_type": "display_data"
    },
    {
     "data": {
      "application/vnd.jupyter.widget-view+json": {
       "model_id": "5504ddf05661419b98a60112b02b08c3",
       "version_major": 2,
       "version_minor": 0
      },
      "text/plain": [
       "Validation: |          | 0/? [00:00<?, ?it/s]"
      ]
     },
     "metadata": {},
     "output_type": "display_data"
    },
    {
     "data": {
      "application/vnd.jupyter.widget-view+json": {
       "model_id": "77d38dbdb67d4a22b2cdce7917e9f182",
       "version_major": 2,
       "version_minor": 0
      },
      "text/plain": [
       "Validation: |          | 0/? [00:00<?, ?it/s]"
      ]
     },
     "metadata": {},
     "output_type": "display_data"
    },
    {
     "name": "stderr",
     "output_type": "stream",
     "text": [
      "`Trainer.fit` stopped: `max_steps=1000` reached.\n",
      "Seed set to 17\n",
      "GPU available: True (mps), used: True\n",
      "TPU available: False, using: 0 TPU cores\n",
      "HPU available: False, using: 0 HPUs\n",
      "\n",
      "  | Name         | Type          | Params | Mode \n",
      "-------------------------------------------------------\n",
      "0 | loss         | RMSE          | 0      | train\n",
      "1 | padder_train | ConstantPad1d | 0      | train\n",
      "2 | scaler       | TemporalNorm  | 0      | train\n",
      "3 | blocks       | ModuleList    | 2.4 M  | train\n",
      "-------------------------------------------------------\n",
      "2.4 M     Trainable params\n",
      "156       Non-trainable params\n",
      "2.4 M     Total params\n",
      "9.577     Total estimated model params size (MB)\n",
      "31        Modules in train mode\n",
      "0         Modules in eval mode\n"
     ]
    },
    {
     "data": {
      "application/vnd.jupyter.widget-view+json": {
       "model_id": "3bf7163c338e443fa3e9a350584331c3",
       "version_major": 2,
       "version_minor": 0
      },
      "text/plain": [
       "Sanity Checking: |          | 0/? [00:00<?, ?it/s]"
      ]
     },
     "metadata": {},
     "output_type": "display_data"
    },
    {
     "data": {
      "application/vnd.jupyter.widget-view+json": {
       "model_id": "e76424c36eec4c889de7309baab5c3ff",
       "version_major": 2,
       "version_minor": 0
      },
      "text/plain": [
       "Training: |          | 0/? [00:00<?, ?it/s]"
      ]
     },
     "metadata": {},
     "output_type": "display_data"
    },
    {
     "data": {
      "application/vnd.jupyter.widget-view+json": {
       "model_id": "24e03da9c24d4c54ab316456e5976b33",
       "version_major": 2,
       "version_minor": 0
      },
      "text/plain": [
       "Validation: |          | 0/? [00:00<?, ?it/s]"
      ]
     },
     "metadata": {},
     "output_type": "display_data"
    },
    {
     "data": {
      "application/vnd.jupyter.widget-view+json": {
       "model_id": "234e1c0b9f4b4f16aa41f01021f553f5",
       "version_major": 2,
       "version_minor": 0
      },
      "text/plain": [
       "Validation: |          | 0/? [00:00<?, ?it/s]"
      ]
     },
     "metadata": {},
     "output_type": "display_data"
    },
    {
     "data": {
      "application/vnd.jupyter.widget-view+json": {
       "model_id": "8d8efa9cc9654f4da3c84cdbca9aefc1",
       "version_major": 2,
       "version_minor": 0
      },
      "text/plain": [
       "Validation: |          | 0/? [00:00<?, ?it/s]"
      ]
     },
     "metadata": {},
     "output_type": "display_data"
    },
    {
     "data": {
      "application/vnd.jupyter.widget-view+json": {
       "model_id": "b5df405113814504a9358605476c8226",
       "version_major": 2,
       "version_minor": 0
      },
      "text/plain": [
       "Validation: |          | 0/? [00:00<?, ?it/s]"
      ]
     },
     "metadata": {},
     "output_type": "display_data"
    },
    {
     "data": {
      "application/vnd.jupyter.widget-view+json": {
       "model_id": "531064dd1f1a4752bc4c7c85a3fa1ab1",
       "version_major": 2,
       "version_minor": 0
      },
      "text/plain": [
       "Validation: |          | 0/? [00:00<?, ?it/s]"
      ]
     },
     "metadata": {},
     "output_type": "display_data"
    },
    {
     "data": {
      "application/vnd.jupyter.widget-view+json": {
       "model_id": "1f24a8cb7a0f4a5d8511b161c027a4e0",
       "version_major": 2,
       "version_minor": 0
      },
      "text/plain": [
       "Validation: |          | 0/? [00:00<?, ?it/s]"
      ]
     },
     "metadata": {},
     "output_type": "display_data"
    },
    {
     "data": {
      "application/vnd.jupyter.widget-view+json": {
       "model_id": "f8b99063854540b6a10ec920a445d29b",
       "version_major": 2,
       "version_minor": 0
      },
      "text/plain": [
       "Validation: |          | 0/? [00:00<?, ?it/s]"
      ]
     },
     "metadata": {},
     "output_type": "display_data"
    },
    {
     "data": {
      "application/vnd.jupyter.widget-view+json": {
       "model_id": "06ac5d41d0d14d6bbcc81ed6a592538b",
       "version_major": 2,
       "version_minor": 0
      },
      "text/plain": [
       "Validation: |          | 0/? [00:00<?, ?it/s]"
      ]
     },
     "metadata": {},
     "output_type": "display_data"
    },
    {
     "data": {
      "application/vnd.jupyter.widget-view+json": {
       "model_id": "56b2303eb3e643d59a0f7f80233aa7a0",
       "version_major": 2,
       "version_minor": 0
      },
      "text/plain": [
       "Validation: |          | 0/? [00:00<?, ?it/s]"
      ]
     },
     "metadata": {},
     "output_type": "display_data"
    },
    {
     "data": {
      "application/vnd.jupyter.widget-view+json": {
       "model_id": "d1d2b30cd61c4b5a8051c68463a3b9ea",
       "version_major": 2,
       "version_minor": 0
      },
      "text/plain": [
       "Validation: |          | 0/? [00:00<?, ?it/s]"
      ]
     },
     "metadata": {},
     "output_type": "display_data"
    },
    {
     "name": "stderr",
     "output_type": "stream",
     "text": [
      "`Trainer.fit` stopped: `max_steps=1000` reached.\n"
     ]
    }
   ],
   "source": [
    "model.fit(train_data,\n",
    "        val_size=horizon,\n",
    "        time_col='ds',                    \n",
    "        target_col='y',\n",
    "        id_col=id_col,\n",
    "        \n",
    "        )\n"
   ]
  },
  {
   "cell_type": "code",
   "execution_count": 16,
   "metadata": {},
   "outputs": [
    {
     "data": {
      "text/plain": [
       "'DOGEUSDTForecastingModel/'"
      ]
     },
     "execution_count": 16,
     "metadata": {},
     "output_type": "execute_result"
    }
   ],
   "source": [
    "model.save(save_path,overwrite=True)\n",
    "save_path"
   ]
  },
  {
   "cell_type": "code",
   "execution_count": 12,
   "metadata": {},
   "outputs": [],
   "source": [
    "test_dates=test_data.sort_values('ds')['ds'].unique()\n",
    "last_date=train_data['ds'].unique()[-1]"
   ]
  },
  {
   "cell_type": "code",
   "execution_count": 13,
   "metadata": {},
   "outputs": [
    {
     "data": {
      "text/html": [
       "<div>\n",
       "<style scoped>\n",
       "    .dataframe tbody tr th:only-of-type {\n",
       "        vertical-align: middle;\n",
       "    }\n",
       "\n",
       "    .dataframe tbody tr th {\n",
       "        vertical-align: top;\n",
       "    }\n",
       "\n",
       "    .dataframe thead th {\n",
       "        text-align: right;\n",
       "    }\n",
       "</style>\n",
       "<table border=\"1\" class=\"dataframe\">\n",
       "  <thead>\n",
       "    <tr style=\"text-align: right;\">\n",
       "      <th></th>\n",
       "      <th>y</th>\n",
       "      <th>ds</th>\n",
       "      <th>symbol</th>\n",
       "      <th>feature_hour_of_day</th>\n",
       "      <th>feature_day_of_week</th>\n",
       "      <th>feature_day_of_month</th>\n",
       "      <th>feature_day_of_year</th>\n",
       "      <th>feature_BBANDS_BB_UPPER</th>\n",
       "      <th>feature_BBANDS_BB_MIDDLE</th>\n",
       "      <th>feature_BBANDS_BB_LOWER</th>\n",
       "      <th>feature_MACD_MACD</th>\n",
       "      <th>feature_MACD_SIGNAL</th>\n",
       "      <th>feature_14_period_RSI</th>\n",
       "      <th>feature_14_period_STOCH_%K</th>\n",
       "    </tr>\n",
       "  </thead>\n",
       "  <tbody>\n",
       "    <tr>\n",
       "      <th>0</th>\n",
       "      <td>0.13779</td>\n",
       "      <td>2024-10-20 13:00:00</td>\n",
       "      <td>DOGEUSDT</td>\n",
       "      <td>0.065217</td>\n",
       "      <td>0.5</td>\n",
       "      <td>0.133333</td>\n",
       "      <td>0.302740</td>\n",
       "      <td>0.144459</td>\n",
       "      <td>0.141576</td>\n",
       "      <td>0.138693</td>\n",
       "      <td>-0.000004</td>\n",
       "      <td>0.000345</td>\n",
       "      <td>38.159728</td>\n",
       "      <td>0.000000</td>\n",
       "    </tr>\n",
       "    <tr>\n",
       "      <th>1</th>\n",
       "      <td>0.13922</td>\n",
       "      <td>2024-10-20 14:00:00</td>\n",
       "      <td>DOGEUSDT</td>\n",
       "      <td>0.108696</td>\n",
       "      <td>0.5</td>\n",
       "      <td>0.133333</td>\n",
       "      <td>0.302740</td>\n",
       "      <td>0.144532</td>\n",
       "      <td>0.141533</td>\n",
       "      <td>0.138535</td>\n",
       "      <td>-0.000193</td>\n",
       "      <td>0.000237</td>\n",
       "      <td>43.262934</td>\n",
       "      <td>23.275862</td>\n",
       "    </tr>\n",
       "    <tr>\n",
       "      <th>2</th>\n",
       "      <td>0.13905</td>\n",
       "      <td>2024-10-20 15:00:00</td>\n",
       "      <td>DOGEUSDT</td>\n",
       "      <td>0.152174</td>\n",
       "      <td>0.5</td>\n",
       "      <td>0.133333</td>\n",
       "      <td>0.302740</td>\n",
       "      <td>0.144605</td>\n",
       "      <td>0.141494</td>\n",
       "      <td>0.138384</td>\n",
       "      <td>-0.000352</td>\n",
       "      <td>0.000119</td>\n",
       "      <td>42.810640</td>\n",
       "      <td>27.741935</td>\n",
       "    </tr>\n",
       "    <tr>\n",
       "      <th>3</th>\n",
       "      <td>0.13857</td>\n",
       "      <td>2024-10-20 16:00:00</td>\n",
       "      <td>DOGEUSDT</td>\n",
       "      <td>0.195652</td>\n",
       "      <td>0.5</td>\n",
       "      <td>0.133333</td>\n",
       "      <td>0.302740</td>\n",
       "      <td>0.144737</td>\n",
       "      <td>0.141423</td>\n",
       "      <td>0.138109</td>\n",
       "      <td>-0.000511</td>\n",
       "      <td>-0.000007</td>\n",
       "      <td>41.491646</td>\n",
       "      <td>20.000000</td>\n",
       "    </tr>\n",
       "    <tr>\n",
       "      <th>4</th>\n",
       "      <td>0.14008</td>\n",
       "      <td>2024-10-20 17:00:00</td>\n",
       "      <td>DOGEUSDT</td>\n",
       "      <td>0.239130</td>\n",
       "      <td>0.5</td>\n",
       "      <td>0.133333</td>\n",
       "      <td>0.302740</td>\n",
       "      <td>0.144745</td>\n",
       "      <td>0.141389</td>\n",
       "      <td>0.138032</td>\n",
       "      <td>-0.000510</td>\n",
       "      <td>-0.000107</td>\n",
       "      <td>47.021470</td>\n",
       "      <td>44.354839</td>\n",
       "    </tr>\n",
       "    <tr>\n",
       "      <th>...</th>\n",
       "      <td>...</td>\n",
       "      <td>...</td>\n",
       "      <td>...</td>\n",
       "      <td>...</td>\n",
       "      <td>...</td>\n",
       "      <td>...</td>\n",
       "      <td>...</td>\n",
       "      <td>...</td>\n",
       "      <td>...</td>\n",
       "      <td>...</td>\n",
       "      <td>...</td>\n",
       "      <td>...</td>\n",
       "      <td>...</td>\n",
       "      <td>...</td>\n",
       "    </tr>\n",
       "    <tr>\n",
       "      <th>674</th>\n",
       "      <td>0.36143</td>\n",
       "      <td>2024-11-17 15:00:00</td>\n",
       "      <td>DOGEUSDT</td>\n",
       "      <td>0.152174</td>\n",
       "      <td>0.5</td>\n",
       "      <td>0.033333</td>\n",
       "      <td>0.379452</td>\n",
       "      <td>0.374743</td>\n",
       "      <td>0.361372</td>\n",
       "      <td>0.348002</td>\n",
       "      <td>-0.001727</td>\n",
       "      <td>-0.002703</td>\n",
       "      <td>47.544678</td>\n",
       "      <td>60.921502</td>\n",
       "    </tr>\n",
       "    <tr>\n",
       "      <th>675</th>\n",
       "      <td>0.36372</td>\n",
       "      <td>2024-11-17 16:00:00</td>\n",
       "      <td>DOGEUSDT</td>\n",
       "      <td>0.195652</td>\n",
       "      <td>0.5</td>\n",
       "      <td>0.033333</td>\n",
       "      <td>0.379452</td>\n",
       "      <td>0.373451</td>\n",
       "      <td>0.360964</td>\n",
       "      <td>0.348477</td>\n",
       "      <td>-0.001471</td>\n",
       "      <td>-0.002457</td>\n",
       "      <td>49.746258</td>\n",
       "      <td>67.434585</td>\n",
       "    </tr>\n",
       "    <tr>\n",
       "      <th>676</th>\n",
       "      <td>0.36762</td>\n",
       "      <td>2024-11-17 17:00:00</td>\n",
       "      <td>DOGEUSDT</td>\n",
       "      <td>0.239130</td>\n",
       "      <td>0.5</td>\n",
       "      <td>0.033333</td>\n",
       "      <td>0.379452</td>\n",
       "      <td>0.373621</td>\n",
       "      <td>0.361020</td>\n",
       "      <td>0.348419</td>\n",
       "      <td>-0.000942</td>\n",
       "      <td>-0.002154</td>\n",
       "      <td>53.338130</td>\n",
       "      <td>74.415452</td>\n",
       "    </tr>\n",
       "    <tr>\n",
       "      <th>677</th>\n",
       "      <td>0.36722</td>\n",
       "      <td>2024-11-17 18:00:00</td>\n",
       "      <td>DOGEUSDT</td>\n",
       "      <td>0.282609</td>\n",
       "      <td>0.5</td>\n",
       "      <td>0.033333</td>\n",
       "      <td>0.379452</td>\n",
       "      <td>0.373282</td>\n",
       "      <td>0.360922</td>\n",
       "      <td>0.348561</td>\n",
       "      <td>-0.000549</td>\n",
       "      <td>-0.001833</td>\n",
       "      <td>52.920342</td>\n",
       "      <td>71.454219</td>\n",
       "    </tr>\n",
       "    <tr>\n",
       "      <th>678</th>\n",
       "      <td>0.36147</td>\n",
       "      <td>2024-11-17 19:00:00</td>\n",
       "      <td>DOGEUSDT</td>\n",
       "      <td>0.326087</td>\n",
       "      <td>0.5</td>\n",
       "      <td>0.033333</td>\n",
       "      <td>0.379452</td>\n",
       "      <td>0.373135</td>\n",
       "      <td>0.360825</td>\n",
       "      <td>0.348515</td>\n",
       "      <td>-0.000693</td>\n",
       "      <td>-0.001605</td>\n",
       "      <td>47.197299</td>\n",
       "      <td>47.042907</td>\n",
       "    </tr>\n",
       "  </tbody>\n",
       "</table>\n",
       "<p>679 rows × 14 columns</p>\n",
       "</div>"
      ],
      "text/plain": [
       "           y                  ds    symbol  feature_hour_of_day  \\\n",
       "0    0.13779 2024-10-20 13:00:00  DOGEUSDT             0.065217   \n",
       "1    0.13922 2024-10-20 14:00:00  DOGEUSDT             0.108696   \n",
       "2    0.13905 2024-10-20 15:00:00  DOGEUSDT             0.152174   \n",
       "3    0.13857 2024-10-20 16:00:00  DOGEUSDT             0.195652   \n",
       "4    0.14008 2024-10-20 17:00:00  DOGEUSDT             0.239130   \n",
       "..       ...                 ...       ...                  ...   \n",
       "674  0.36143 2024-11-17 15:00:00  DOGEUSDT             0.152174   \n",
       "675  0.36372 2024-11-17 16:00:00  DOGEUSDT             0.195652   \n",
       "676  0.36762 2024-11-17 17:00:00  DOGEUSDT             0.239130   \n",
       "677  0.36722 2024-11-17 18:00:00  DOGEUSDT             0.282609   \n",
       "678  0.36147 2024-11-17 19:00:00  DOGEUSDT             0.326087   \n",
       "\n",
       "     feature_day_of_week  feature_day_of_month  feature_day_of_year  \\\n",
       "0                    0.5              0.133333             0.302740   \n",
       "1                    0.5              0.133333             0.302740   \n",
       "2                    0.5              0.133333             0.302740   \n",
       "3                    0.5              0.133333             0.302740   \n",
       "4                    0.5              0.133333             0.302740   \n",
       "..                   ...                   ...                  ...   \n",
       "674                  0.5              0.033333             0.379452   \n",
       "675                  0.5              0.033333             0.379452   \n",
       "676                  0.5              0.033333             0.379452   \n",
       "677                  0.5              0.033333             0.379452   \n",
       "678                  0.5              0.033333             0.379452   \n",
       "\n",
       "     feature_BBANDS_BB_UPPER  feature_BBANDS_BB_MIDDLE  \\\n",
       "0                   0.144459                  0.141576   \n",
       "1                   0.144532                  0.141533   \n",
       "2                   0.144605                  0.141494   \n",
       "3                   0.144737                  0.141423   \n",
       "4                   0.144745                  0.141389   \n",
       "..                       ...                       ...   \n",
       "674                 0.374743                  0.361372   \n",
       "675                 0.373451                  0.360964   \n",
       "676                 0.373621                  0.361020   \n",
       "677                 0.373282                  0.360922   \n",
       "678                 0.373135                  0.360825   \n",
       "\n",
       "     feature_BBANDS_BB_LOWER  feature_MACD_MACD  feature_MACD_SIGNAL  \\\n",
       "0                   0.138693          -0.000004             0.000345   \n",
       "1                   0.138535          -0.000193             0.000237   \n",
       "2                   0.138384          -0.000352             0.000119   \n",
       "3                   0.138109          -0.000511            -0.000007   \n",
       "4                   0.138032          -0.000510            -0.000107   \n",
       "..                       ...                ...                  ...   \n",
       "674                 0.348002          -0.001727            -0.002703   \n",
       "675                 0.348477          -0.001471            -0.002457   \n",
       "676                 0.348419          -0.000942            -0.002154   \n",
       "677                 0.348561          -0.000549            -0.001833   \n",
       "678                 0.348515          -0.000693            -0.001605   \n",
       "\n",
       "     feature_14_period_RSI  feature_14_period_STOCH_%K  \n",
       "0                38.159728                    0.000000  \n",
       "1                43.262934                   23.275862  \n",
       "2                42.810640                   27.741935  \n",
       "3                41.491646                   20.000000  \n",
       "4                47.021470                   44.354839  \n",
       "..                     ...                         ...  \n",
       "674              47.544678                   60.921502  \n",
       "675              49.746258                   67.434585  \n",
       "676              53.338130                   74.415452  \n",
       "677              52.920342                   71.454219  \n",
       "678              47.197299                   47.042907  \n",
       "\n",
       "[679 rows x 14 columns]"
      ]
     },
     "execution_count": 13,
     "metadata": {},
     "output_type": "execute_result"
    }
   ],
   "source": [
    "test_data"
   ]
  },
  {
   "cell_type": "code",
   "execution_count": null,
   "metadata": {},
   "outputs": [],
   "source": []
  },
  {
   "cell_type": "code",
   "execution_count": 14,
   "metadata": {},
   "outputs": [
    {
     "name": "stderr",
     "output_type": "stream",
     "text": [
      "GPU available: True (mps), used: True\n",
      "TPU available: False, using: 0 TPU cores\n",
      "HPU available: False, using: 0 HPUs\n"
     ]
    },
    {
     "data": {
      "application/vnd.jupyter.widget-view+json": {
       "model_id": "85567790c0f44e62bca69f93aa7111df",
       "version_major": 2,
       "version_minor": 0
      },
      "text/plain": [
       "Predicting: |          | 0/? [00:00<?, ?it/s]"
      ]
     },
     "metadata": {},
     "output_type": "display_data"
    },
    {
     "name": "stderr",
     "output_type": "stream",
     "text": [
      "GPU available: True (mps), used: True\n",
      "TPU available: False, using: 0 TPU cores\n",
      "HPU available: False, using: 0 HPUs\n"
     ]
    },
    {
     "data": {
      "application/vnd.jupyter.widget-view+json": {
       "model_id": "578c1d1c7477404b93b78b2e2ab4094e",
       "version_major": 2,
       "version_minor": 0
      },
      "text/plain": [
       "Predicting: |          | 0/? [00:00<?, ?it/s]"
      ]
     },
     "metadata": {},
     "output_type": "display_data"
    },
    {
     "name": "stderr",
     "output_type": "stream",
     "text": [
      "GPU available: True (mps), used: True\n",
      "TPU available: False, using: 0 TPU cores\n",
      "HPU available: False, using: 0 HPUs\n"
     ]
    },
    {
     "data": {
      "application/vnd.jupyter.widget-view+json": {
       "model_id": "e9c85bfe59c7426a8e956fda10202739",
       "version_major": 2,
       "version_minor": 0
      },
      "text/plain": [
       "Predicting: |          | 0/? [00:00<?, ?it/s]"
      ]
     },
     "metadata": {},
     "output_type": "display_data"
    },
    {
     "data": {
      "text/html": [
       "<div>\n",
       "<style scoped>\n",
       "    .dataframe tbody tr th:only-of-type {\n",
       "        vertical-align: middle;\n",
       "    }\n",
       "\n",
       "    .dataframe tbody tr th {\n",
       "        vertical-align: top;\n",
       "    }\n",
       "\n",
       "    .dataframe thead th {\n",
       "        text-align: right;\n",
       "    }\n",
       "</style>\n",
       "<table border=\"1\" class=\"dataframe\">\n",
       "  <thead>\n",
       "    <tr style=\"text-align: right;\">\n",
       "      <th></th>\n",
       "      <th>y</th>\n",
       "      <th>ds</th>\n",
       "      <th>symbol</th>\n",
       "      <th>feature_hour_of_day</th>\n",
       "      <th>feature_day_of_week</th>\n",
       "      <th>feature_day_of_month</th>\n",
       "      <th>feature_day_of_year</th>\n",
       "      <th>feature_BBANDS_BB_UPPER</th>\n",
       "      <th>feature_BBANDS_BB_MIDDLE</th>\n",
       "      <th>feature_BBANDS_BB_LOWER</th>\n",
       "      <th>feature_MACD_MACD</th>\n",
       "      <th>feature_MACD_SIGNAL</th>\n",
       "      <th>feature_14_period_RSI</th>\n",
       "      <th>feature_14_period_STOCH_%K</th>\n",
       "    </tr>\n",
       "  </thead>\n",
       "  <tbody>\n",
       "    <tr>\n",
       "      <th>7001</th>\n",
       "      <td>0.14529</td>\n",
       "      <td>2024-10-19 03:00:00</td>\n",
       "      <td>DOGEUSDT</td>\n",
       "      <td>-0.369565</td>\n",
       "      <td>0.333333</td>\n",
       "      <td>0.100000</td>\n",
       "      <td>0.30000</td>\n",
       "      <td>0.143898</td>\n",
       "      <td>0.137359</td>\n",
       "      <td>0.130820</td>\n",
       "      <td>0.003088</td>\n",
       "      <td>0.002703</td>\n",
       "      <td>76.546688</td>\n",
       "      <td>93.529412</td>\n",
       "    </tr>\n",
       "    <tr>\n",
       "      <th>7002</th>\n",
       "      <td>0.14422</td>\n",
       "      <td>2024-10-19 04:00:00</td>\n",
       "      <td>DOGEUSDT</td>\n",
       "      <td>-0.326087</td>\n",
       "      <td>0.333333</td>\n",
       "      <td>0.100000</td>\n",
       "      <td>0.30000</td>\n",
       "      <td>0.144923</td>\n",
       "      <td>0.137834</td>\n",
       "      <td>0.130745</td>\n",
       "      <td>0.003247</td>\n",
       "      <td>0.002812</td>\n",
       "      <td>72.104398</td>\n",
       "      <td>84.375000</td>\n",
       "    </tr>\n",
       "    <tr>\n",
       "      <th>7003</th>\n",
       "      <td>0.14320</td>\n",
       "      <td>2024-10-19 05:00:00</td>\n",
       "      <td>DOGEUSDT</td>\n",
       "      <td>-0.282609</td>\n",
       "      <td>0.333333</td>\n",
       "      <td>0.100000</td>\n",
       "      <td>0.30000</td>\n",
       "      <td>0.145575</td>\n",
       "      <td>0.138256</td>\n",
       "      <td>0.130937</td>\n",
       "      <td>0.003254</td>\n",
       "      <td>0.002901</td>\n",
       "      <td>68.050147</td>\n",
       "      <td>72.268908</td>\n",
       "    </tr>\n",
       "    <tr>\n",
       "      <th>7004</th>\n",
       "      <td>0.14412</td>\n",
       "      <td>2024-10-19 06:00:00</td>\n",
       "      <td>DOGEUSDT</td>\n",
       "      <td>-0.239130</td>\n",
       "      <td>0.333333</td>\n",
       "      <td>0.100000</td>\n",
       "      <td>0.30000</td>\n",
       "      <td>0.146302</td>\n",
       "      <td>0.138718</td>\n",
       "      <td>0.131134</td>\n",
       "      <td>0.003296</td>\n",
       "      <td>0.002980</td>\n",
       "      <td>69.704757</td>\n",
       "      <td>79.622266</td>\n",
       "    </tr>\n",
       "    <tr>\n",
       "      <th>7005</th>\n",
       "      <td>0.14515</td>\n",
       "      <td>2024-10-19 07:00:00</td>\n",
       "      <td>DOGEUSDT</td>\n",
       "      <td>-0.195652</td>\n",
       "      <td>0.333333</td>\n",
       "      <td>0.100000</td>\n",
       "      <td>0.30000</td>\n",
       "      <td>0.147127</td>\n",
       "      <td>0.139214</td>\n",
       "      <td>0.131302</td>\n",
       "      <td>0.003373</td>\n",
       "      <td>0.003058</td>\n",
       "      <td>71.485212</td>\n",
       "      <td>89.860835</td>\n",
       "    </tr>\n",
       "    <tr>\n",
       "      <th>7006</th>\n",
       "      <td>0.14383</td>\n",
       "      <td>2024-10-19 08:00:00</td>\n",
       "      <td>DOGEUSDT</td>\n",
       "      <td>-0.152174</td>\n",
       "      <td>0.333333</td>\n",
       "      <td>0.100000</td>\n",
       "      <td>0.30000</td>\n",
       "      <td>0.147411</td>\n",
       "      <td>0.139734</td>\n",
       "      <td>0.132057</td>\n",
       "      <td>0.003290</td>\n",
       "      <td>0.003105</td>\n",
       "      <td>66.122011</td>\n",
       "      <td>76.739563</td>\n",
       "    </tr>\n",
       "    <tr>\n",
       "      <th>7007</th>\n",
       "      <td>0.14473</td>\n",
       "      <td>2024-10-19 09:00:00</td>\n",
       "      <td>DOGEUSDT</td>\n",
       "      <td>-0.108696</td>\n",
       "      <td>0.333333</td>\n",
       "      <td>0.100000</td>\n",
       "      <td>0.30000</td>\n",
       "      <td>0.147677</td>\n",
       "      <td>0.140300</td>\n",
       "      <td>0.132923</td>\n",
       "      <td>0.003259</td>\n",
       "      <td>0.003135</td>\n",
       "      <td>67.890857</td>\n",
       "      <td>85.685885</td>\n",
       "    </tr>\n",
       "    <tr>\n",
       "      <th>7008</th>\n",
       "      <td>0.14459</td>\n",
       "      <td>2024-10-19 10:00:00</td>\n",
       "      <td>DOGEUSDT</td>\n",
       "      <td>-0.065217</td>\n",
       "      <td>0.333333</td>\n",
       "      <td>0.100000</td>\n",
       "      <td>0.30000</td>\n",
       "      <td>0.147880</td>\n",
       "      <td>0.140807</td>\n",
       "      <td>0.133733</td>\n",
       "      <td>0.003186</td>\n",
       "      <td>0.003146</td>\n",
       "      <td>67.302187</td>\n",
       "      <td>84.294235</td>\n",
       "    </tr>\n",
       "    <tr>\n",
       "      <th>7009</th>\n",
       "      <td>0.14623</td>\n",
       "      <td>2024-10-19 11:00:00</td>\n",
       "      <td>DOGEUSDT</td>\n",
       "      <td>-0.021739</td>\n",
       "      <td>0.333333</td>\n",
       "      <td>0.100000</td>\n",
       "      <td>0.30000</td>\n",
       "      <td>0.148351</td>\n",
       "      <td>0.141342</td>\n",
       "      <td>0.134334</td>\n",
       "      <td>0.003224</td>\n",
       "      <td>0.003161</td>\n",
       "      <td>70.526201</td>\n",
       "      <td>97.207859</td>\n",
       "    </tr>\n",
       "    <tr>\n",
       "      <th>7010</th>\n",
       "      <td>0.14239</td>\n",
       "      <td>2024-10-19 12:00:00</td>\n",
       "      <td>DOGEUSDT</td>\n",
       "      <td>0.021739</td>\n",
       "      <td>0.333333</td>\n",
       "      <td>0.100000</td>\n",
       "      <td>0.30000</td>\n",
       "      <td>0.148376</td>\n",
       "      <td>0.141582</td>\n",
       "      <td>0.134788</td>\n",
       "      <td>0.002911</td>\n",
       "      <td>0.003111</td>\n",
       "      <td>56.482950</td>\n",
       "      <td>56.415695</td>\n",
       "    </tr>\n",
       "    <tr>\n",
       "      <th>7011</th>\n",
       "      <td>0.14528</td>\n",
       "      <td>2024-10-19 13:00:00</td>\n",
       "      <td>DOGEUSDT</td>\n",
       "      <td>0.065217</td>\n",
       "      <td>0.333333</td>\n",
       "      <td>0.100000</td>\n",
       "      <td>0.30000</td>\n",
       "      <td>0.148784</td>\n",
       "      <td>0.141869</td>\n",
       "      <td>0.134953</td>\n",
       "      <td>0.002862</td>\n",
       "      <td>0.003061</td>\n",
       "      <td>62.530103</td>\n",
       "      <td>87.062566</td>\n",
       "    </tr>\n",
       "    <tr>\n",
       "      <th>7012</th>\n",
       "      <td>0.14456</td>\n",
       "      <td>2024-10-19 14:00:00</td>\n",
       "      <td>DOGEUSDT</td>\n",
       "      <td>0.108696</td>\n",
       "      <td>0.333333</td>\n",
       "      <td>0.100000</td>\n",
       "      <td>0.30000</td>\n",
       "      <td>0.149052</td>\n",
       "      <td>0.142100</td>\n",
       "      <td>0.135148</td>\n",
       "      <td>0.002734</td>\n",
       "      <td>0.002996</td>\n",
       "      <td>60.282588</td>\n",
       "      <td>79.251337</td>\n",
       "    </tr>\n",
       "    <tr>\n",
       "      <th>7013</th>\n",
       "      <td>0.14600</td>\n",
       "      <td>2024-10-19 15:00:00</td>\n",
       "      <td>DOGEUSDT</td>\n",
       "      <td>0.152174</td>\n",
       "      <td>0.333333</td>\n",
       "      <td>0.100000</td>\n",
       "      <td>0.30000</td>\n",
       "      <td>0.149433</td>\n",
       "      <td>0.142464</td>\n",
       "      <td>0.135495</td>\n",
       "      <td>0.002718</td>\n",
       "      <td>0.002940</td>\n",
       "      <td>63.136404</td>\n",
       "      <td>94.054697</td>\n",
       "    </tr>\n",
       "    <tr>\n",
       "      <th>7014</th>\n",
       "      <td>0.14393</td>\n",
       "      <td>2024-10-19 16:00:00</td>\n",
       "      <td>DOGEUSDT</td>\n",
       "      <td>0.195652</td>\n",
       "      <td>0.333333</td>\n",
       "      <td>0.100000</td>\n",
       "      <td>0.30000</td>\n",
       "      <td>0.149272</td>\n",
       "      <td>0.142823</td>\n",
       "      <td>0.136375</td>\n",
       "      <td>0.002509</td>\n",
       "      <td>0.002854</td>\n",
       "      <td>56.816479</td>\n",
       "      <td>48.975791</td>\n",
       "    </tr>\n",
       "    <tr>\n",
       "      <th>7015</th>\n",
       "      <td>0.14186</td>\n",
       "      <td>2024-10-19 17:00:00</td>\n",
       "      <td>DOGEUSDT</td>\n",
       "      <td>0.239130</td>\n",
       "      <td>0.333333</td>\n",
       "      <td>0.100000</td>\n",
       "      <td>0.30000</td>\n",
       "      <td>0.148937</td>\n",
       "      <td>0.143064</td>\n",
       "      <td>0.137192</td>\n",
       "      <td>0.002151</td>\n",
       "      <td>0.002714</td>\n",
       "      <td>51.287692</td>\n",
       "      <td>10.428305</td>\n",
       "    </tr>\n",
       "    <tr>\n",
       "      <th>7016</th>\n",
       "      <td>0.14007</td>\n",
       "      <td>2024-10-19 18:00:00</td>\n",
       "      <td>DOGEUSDT</td>\n",
       "      <td>0.282609</td>\n",
       "      <td>0.333333</td>\n",
       "      <td>0.100000</td>\n",
       "      <td>0.30000</td>\n",
       "      <td>0.148742</td>\n",
       "      <td>0.143163</td>\n",
       "      <td>0.137585</td>\n",
       "      <td>0.001704</td>\n",
       "      <td>0.002512</td>\n",
       "      <td>47.026190</td>\n",
       "      <td>8.205841</td>\n",
       "    </tr>\n",
       "    <tr>\n",
       "      <th>7017</th>\n",
       "      <td>0.13983</td>\n",
       "      <td>2024-10-19 19:00:00</td>\n",
       "      <td>DOGEUSDT</td>\n",
       "      <td>0.326087</td>\n",
       "      <td>0.333333</td>\n",
       "      <td>0.100000</td>\n",
       "      <td>0.30000</td>\n",
       "      <td>0.148529</td>\n",
       "      <td>0.143255</td>\n",
       "      <td>0.137981</td>\n",
       "      <td>0.001315</td>\n",
       "      <td>0.002272</td>\n",
       "      <td>46.468680</td>\n",
       "      <td>4.867872</td>\n",
       "    </tr>\n",
       "    <tr>\n",
       "      <th>7018</th>\n",
       "      <td>0.14000</td>\n",
       "      <td>2024-10-19 20:00:00</td>\n",
       "      <td>DOGEUSDT</td>\n",
       "      <td>0.369565</td>\n",
       "      <td>0.333333</td>\n",
       "      <td>0.100000</td>\n",
       "      <td>0.30000</td>\n",
       "      <td>0.148102</td>\n",
       "      <td>0.143397</td>\n",
       "      <td>0.138692</td>\n",
       "      <td>0.001009</td>\n",
       "      <td>0.002020</td>\n",
       "      <td>46.948450</td>\n",
       "      <td>11.066667</td>\n",
       "    </tr>\n",
       "    <tr>\n",
       "      <th>7019</th>\n",
       "      <td>0.14077</td>\n",
       "      <td>2024-10-19 21:00:00</td>\n",
       "      <td>DOGEUSDT</td>\n",
       "      <td>0.413043</td>\n",
       "      <td>0.333333</td>\n",
       "      <td>0.100000</td>\n",
       "      <td>0.30000</td>\n",
       "      <td>0.147627</td>\n",
       "      <td>0.143551</td>\n",
       "      <td>0.139476</td>\n",
       "      <td>0.000819</td>\n",
       "      <td>0.001779</td>\n",
       "      <td>49.170569</td>\n",
       "      <td>21.333333</td>\n",
       "    </tr>\n",
       "    <tr>\n",
       "      <th>7020</th>\n",
       "      <td>0.14138</td>\n",
       "      <td>2024-10-19 22:00:00</td>\n",
       "      <td>DOGEUSDT</td>\n",
       "      <td>0.456522</td>\n",
       "      <td>0.333333</td>\n",
       "      <td>0.100000</td>\n",
       "      <td>0.30000</td>\n",
       "      <td>0.147499</td>\n",
       "      <td>0.143371</td>\n",
       "      <td>0.139244</td>\n",
       "      <td>0.000709</td>\n",
       "      <td>0.001565</td>\n",
       "      <td>50.924286</td>\n",
       "      <td>29.466667</td>\n",
       "    </tr>\n",
       "    <tr>\n",
       "      <th>7021</th>\n",
       "      <td>0.14335</td>\n",
       "      <td>2024-10-19 23:00:00</td>\n",
       "      <td>DOGEUSDT</td>\n",
       "      <td>0.500000</td>\n",
       "      <td>0.333333</td>\n",
       "      <td>0.100000</td>\n",
       "      <td>0.30000</td>\n",
       "      <td>0.147302</td>\n",
       "      <td>0.143275</td>\n",
       "      <td>0.139247</td>\n",
       "      <td>0.000772</td>\n",
       "      <td>0.001407</td>\n",
       "      <td>56.182227</td>\n",
       "      <td>55.733333</td>\n",
       "    </tr>\n",
       "    <tr>\n",
       "      <th>7022</th>\n",
       "      <td>0.14400</td>\n",
       "      <td>2024-10-20 00:00:00</td>\n",
       "      <td>DOGEUSDT</td>\n",
       "      <td>-0.500000</td>\n",
       "      <td>0.500000</td>\n",
       "      <td>0.133333</td>\n",
       "      <td>0.30274</td>\n",
       "      <td>0.147282</td>\n",
       "      <td>0.143263</td>\n",
       "      <td>0.139245</td>\n",
       "      <td>0.000865</td>\n",
       "      <td>0.001298</td>\n",
       "      <td>57.789185</td>\n",
       "      <td>64.400000</td>\n",
       "    </tr>\n",
       "    <tr>\n",
       "      <th>7023</th>\n",
       "      <td>0.14210</td>\n",
       "      <td>2024-10-20 01:00:00</td>\n",
       "      <td>DOGEUSDT</td>\n",
       "      <td>-0.456522</td>\n",
       "      <td>0.500000</td>\n",
       "      <td>0.133333</td>\n",
       "      <td>0.30274</td>\n",
       "      <td>0.147260</td>\n",
       "      <td>0.143209</td>\n",
       "      <td>0.139157</td>\n",
       "      <td>0.000776</td>\n",
       "      <td>0.001194</td>\n",
       "      <td>51.808138</td>\n",
       "      <td>39.066667</td>\n",
       "    </tr>\n",
       "    <tr>\n",
       "      <th>7024</th>\n",
       "      <td>0.14190</td>\n",
       "      <td>2024-10-20 02:00:00</td>\n",
       "      <td>DOGEUSDT</td>\n",
       "      <td>-0.413043</td>\n",
       "      <td>0.500000</td>\n",
       "      <td>0.133333</td>\n",
       "      <td>0.30274</td>\n",
       "      <td>0.147166</td>\n",
       "      <td>0.143098</td>\n",
       "      <td>0.139029</td>\n",
       "      <td>0.000682</td>\n",
       "      <td>0.001091</td>\n",
       "      <td>51.207346</td>\n",
       "      <td>36.400000</td>\n",
       "    </tr>\n",
       "    <tr>\n",
       "      <th>7025</th>\n",
       "      <td>0.14178</td>\n",
       "      <td>2024-10-20 03:00:00</td>\n",
       "      <td>DOGEUSDT</td>\n",
       "      <td>-0.369565</td>\n",
       "      <td>0.500000</td>\n",
       "      <td>0.133333</td>\n",
       "      <td>0.30274</td>\n",
       "      <td>0.146918</td>\n",
       "      <td>0.142929</td>\n",
       "      <td>0.138940</td>\n",
       "      <td>0.000590</td>\n",
       "      <td>0.000991</td>\n",
       "      <td>50.826498</td>\n",
       "      <td>34.800000</td>\n",
       "    </tr>\n",
       "    <tr>\n",
       "      <th>7026</th>\n",
       "      <td>0.14127</td>\n",
       "      <td>2024-10-20 04:00:00</td>\n",
       "      <td>DOGEUSDT</td>\n",
       "      <td>-0.326087</td>\n",
       "      <td>0.500000</td>\n",
       "      <td>0.133333</td>\n",
       "      <td>0.30274</td>\n",
       "      <td>0.146832</td>\n",
       "      <td>0.142801</td>\n",
       "      <td>0.138770</td>\n",
       "      <td>0.000471</td>\n",
       "      <td>0.000887</td>\n",
       "      <td>49.153304</td>\n",
       "      <td>28.000000</td>\n",
       "    </tr>\n",
       "    <tr>\n",
       "      <th>7027</th>\n",
       "      <td>0.14148</td>\n",
       "      <td>2024-10-20 05:00:00</td>\n",
       "      <td>DOGEUSDT</td>\n",
       "      <td>-0.282609</td>\n",
       "      <td>0.500000</td>\n",
       "      <td>0.133333</td>\n",
       "      <td>0.30274</td>\n",
       "      <td>0.146604</td>\n",
       "      <td>0.142639</td>\n",
       "      <td>0.138673</td>\n",
       "      <td>0.000390</td>\n",
       "      <td>0.000788</td>\n",
       "      <td>49.884879</td>\n",
       "      <td>30.800000</td>\n",
       "    </tr>\n",
       "    <tr>\n",
       "      <th>7028</th>\n",
       "      <td>0.14087</td>\n",
       "      <td>2024-10-20 06:00:00</td>\n",
       "      <td>DOGEUSDT</td>\n",
       "      <td>-0.239130</td>\n",
       "      <td>0.500000</td>\n",
       "      <td>0.133333</td>\n",
       "      <td>0.30274</td>\n",
       "      <td>0.146381</td>\n",
       "      <td>0.142453</td>\n",
       "      <td>0.138524</td>\n",
       "      <td>0.000272</td>\n",
       "      <td>0.000685</td>\n",
       "      <td>47.736354</td>\n",
       "      <td>23.097826</td>\n",
       "    </tr>\n",
       "    <tr>\n",
       "      <th>7029</th>\n",
       "      <td>0.14165</td>\n",
       "      <td>2024-10-20 07:00:00</td>\n",
       "      <td>DOGEUSDT</td>\n",
       "      <td>-0.195652</td>\n",
       "      <td>0.500000</td>\n",
       "      <td>0.133333</td>\n",
       "      <td>0.30274</td>\n",
       "      <td>0.145737</td>\n",
       "      <td>0.142224</td>\n",
       "      <td>0.138710</td>\n",
       "      <td>0.000240</td>\n",
       "      <td>0.000596</td>\n",
       "      <td>50.662513</td>\n",
       "      <td>33.695652</td>\n",
       "    </tr>\n",
       "    <tr>\n",
       "      <th>7030</th>\n",
       "      <td>0.14284</td>\n",
       "      <td>2024-10-20 08:00:00</td>\n",
       "      <td>DOGEUSDT</td>\n",
       "      <td>-0.152174</td>\n",
       "      <td>0.500000</td>\n",
       "      <td>0.133333</td>\n",
       "      <td>0.30274</td>\n",
       "      <td>0.145770</td>\n",
       "      <td>0.142246</td>\n",
       "      <td>0.138722</td>\n",
       "      <td>0.000306</td>\n",
       "      <td>0.000538</td>\n",
       "      <td>54.818690</td>\n",
       "      <td>49.864130</td>\n",
       "    </tr>\n",
       "    <tr>\n",
       "      <th>7031</th>\n",
       "      <td>0.14202</td>\n",
       "      <td>2024-10-20 09:00:00</td>\n",
       "      <td>DOGEUSDT</td>\n",
       "      <td>-0.108696</td>\n",
       "      <td>0.500000</td>\n",
       "      <td>0.133333</td>\n",
       "      <td>0.30274</td>\n",
       "      <td>0.145304</td>\n",
       "      <td>0.142083</td>\n",
       "      <td>0.138862</td>\n",
       "      <td>0.000289</td>\n",
       "      <td>0.000488</td>\n",
       "      <td>51.593442</td>\n",
       "      <td>38.722826</td>\n",
       "    </tr>\n",
       "    <tr>\n",
       "      <th>7032</th>\n",
       "      <td>0.14319</td>\n",
       "      <td>2024-10-20 10:00:00</td>\n",
       "      <td>DOGEUSDT</td>\n",
       "      <td>-0.065217</td>\n",
       "      <td>0.500000</td>\n",
       "      <td>0.133333</td>\n",
       "      <td>0.30274</td>\n",
       "      <td>0.145068</td>\n",
       "      <td>0.142014</td>\n",
       "      <td>0.138961</td>\n",
       "      <td>0.000366</td>\n",
       "      <td>0.000464</td>\n",
       "      <td>55.606797</td>\n",
       "      <td>48.851455</td>\n",
       "    </tr>\n",
       "    <tr>\n",
       "      <th>7033</th>\n",
       "      <td>0.14248</td>\n",
       "      <td>2024-10-20 11:00:00</td>\n",
       "      <td>DOGEUSDT</td>\n",
       "      <td>-0.021739</td>\n",
       "      <td>0.500000</td>\n",
       "      <td>0.133333</td>\n",
       "      <td>0.30274</td>\n",
       "      <td>0.144266</td>\n",
       "      <td>0.141839</td>\n",
       "      <td>0.139411</td>\n",
       "      <td>0.000366</td>\n",
       "      <td>0.000444</td>\n",
       "      <td>52.748729</td>\n",
       "      <td>30.172414</td>\n",
       "    </tr>\n",
       "    <tr>\n",
       "      <th>7034</th>\n",
       "      <td>0.14275</td>\n",
       "      <td>2024-10-20 12:00:00</td>\n",
       "      <td>DOGEUSDT</td>\n",
       "      <td>0.021739</td>\n",
       "      <td>0.500000</td>\n",
       "      <td>0.133333</td>\n",
       "      <td>0.30274</td>\n",
       "      <td>0.144045</td>\n",
       "      <td>0.141780</td>\n",
       "      <td>0.139514</td>\n",
       "      <td>0.000383</td>\n",
       "      <td>0.000432</td>\n",
       "      <td>53.722825</td>\n",
       "      <td>34.827586</td>\n",
       "    </tr>\n",
       "    <tr>\n",
       "      <th>7035</th>\n",
       "      <td>0.13779</td>\n",
       "      <td>2024-10-20 13:00:00</td>\n",
       "      <td>DOGEUSDT</td>\n",
       "      <td>0.065217</td>\n",
       "      <td>0.500000</td>\n",
       "      <td>0.133333</td>\n",
       "      <td>0.30274</td>\n",
       "      <td>0.144459</td>\n",
       "      <td>0.141576</td>\n",
       "      <td>0.138693</td>\n",
       "      <td>-0.000004</td>\n",
       "      <td>0.000345</td>\n",
       "      <td>38.159728</td>\n",
       "      <td>0.000000</td>\n",
       "    </tr>\n",
       "  </tbody>\n",
       "</table>\n",
       "</div>"
      ],
      "text/plain": [
       "            y                  ds    symbol  feature_hour_of_day  \\\n",
       "7001  0.14529 2024-10-19 03:00:00  DOGEUSDT            -0.369565   \n",
       "7002  0.14422 2024-10-19 04:00:00  DOGEUSDT            -0.326087   \n",
       "7003  0.14320 2024-10-19 05:00:00  DOGEUSDT            -0.282609   \n",
       "7004  0.14412 2024-10-19 06:00:00  DOGEUSDT            -0.239130   \n",
       "7005  0.14515 2024-10-19 07:00:00  DOGEUSDT            -0.195652   \n",
       "7006  0.14383 2024-10-19 08:00:00  DOGEUSDT            -0.152174   \n",
       "7007  0.14473 2024-10-19 09:00:00  DOGEUSDT            -0.108696   \n",
       "7008  0.14459 2024-10-19 10:00:00  DOGEUSDT            -0.065217   \n",
       "7009  0.14623 2024-10-19 11:00:00  DOGEUSDT            -0.021739   \n",
       "7010  0.14239 2024-10-19 12:00:00  DOGEUSDT             0.021739   \n",
       "7011  0.14528 2024-10-19 13:00:00  DOGEUSDT             0.065217   \n",
       "7012  0.14456 2024-10-19 14:00:00  DOGEUSDT             0.108696   \n",
       "7013  0.14600 2024-10-19 15:00:00  DOGEUSDT             0.152174   \n",
       "7014  0.14393 2024-10-19 16:00:00  DOGEUSDT             0.195652   \n",
       "7015  0.14186 2024-10-19 17:00:00  DOGEUSDT             0.239130   \n",
       "7016  0.14007 2024-10-19 18:00:00  DOGEUSDT             0.282609   \n",
       "7017  0.13983 2024-10-19 19:00:00  DOGEUSDT             0.326087   \n",
       "7018  0.14000 2024-10-19 20:00:00  DOGEUSDT             0.369565   \n",
       "7019  0.14077 2024-10-19 21:00:00  DOGEUSDT             0.413043   \n",
       "7020  0.14138 2024-10-19 22:00:00  DOGEUSDT             0.456522   \n",
       "7021  0.14335 2024-10-19 23:00:00  DOGEUSDT             0.500000   \n",
       "7022  0.14400 2024-10-20 00:00:00  DOGEUSDT            -0.500000   \n",
       "7023  0.14210 2024-10-20 01:00:00  DOGEUSDT            -0.456522   \n",
       "7024  0.14190 2024-10-20 02:00:00  DOGEUSDT            -0.413043   \n",
       "7025  0.14178 2024-10-20 03:00:00  DOGEUSDT            -0.369565   \n",
       "7026  0.14127 2024-10-20 04:00:00  DOGEUSDT            -0.326087   \n",
       "7027  0.14148 2024-10-20 05:00:00  DOGEUSDT            -0.282609   \n",
       "7028  0.14087 2024-10-20 06:00:00  DOGEUSDT            -0.239130   \n",
       "7029  0.14165 2024-10-20 07:00:00  DOGEUSDT            -0.195652   \n",
       "7030  0.14284 2024-10-20 08:00:00  DOGEUSDT            -0.152174   \n",
       "7031  0.14202 2024-10-20 09:00:00  DOGEUSDT            -0.108696   \n",
       "7032  0.14319 2024-10-20 10:00:00  DOGEUSDT            -0.065217   \n",
       "7033  0.14248 2024-10-20 11:00:00  DOGEUSDT            -0.021739   \n",
       "7034  0.14275 2024-10-20 12:00:00  DOGEUSDT             0.021739   \n",
       "7035  0.13779 2024-10-20 13:00:00  DOGEUSDT             0.065217   \n",
       "\n",
       "      feature_day_of_week  feature_day_of_month  feature_day_of_year  \\\n",
       "7001             0.333333              0.100000              0.30000   \n",
       "7002             0.333333              0.100000              0.30000   \n",
       "7003             0.333333              0.100000              0.30000   \n",
       "7004             0.333333              0.100000              0.30000   \n",
       "7005             0.333333              0.100000              0.30000   \n",
       "7006             0.333333              0.100000              0.30000   \n",
       "7007             0.333333              0.100000              0.30000   \n",
       "7008             0.333333              0.100000              0.30000   \n",
       "7009             0.333333              0.100000              0.30000   \n",
       "7010             0.333333              0.100000              0.30000   \n",
       "7011             0.333333              0.100000              0.30000   \n",
       "7012             0.333333              0.100000              0.30000   \n",
       "7013             0.333333              0.100000              0.30000   \n",
       "7014             0.333333              0.100000              0.30000   \n",
       "7015             0.333333              0.100000              0.30000   \n",
       "7016             0.333333              0.100000              0.30000   \n",
       "7017             0.333333              0.100000              0.30000   \n",
       "7018             0.333333              0.100000              0.30000   \n",
       "7019             0.333333              0.100000              0.30000   \n",
       "7020             0.333333              0.100000              0.30000   \n",
       "7021             0.333333              0.100000              0.30000   \n",
       "7022             0.500000              0.133333              0.30274   \n",
       "7023             0.500000              0.133333              0.30274   \n",
       "7024             0.500000              0.133333              0.30274   \n",
       "7025             0.500000              0.133333              0.30274   \n",
       "7026             0.500000              0.133333              0.30274   \n",
       "7027             0.500000              0.133333              0.30274   \n",
       "7028             0.500000              0.133333              0.30274   \n",
       "7029             0.500000              0.133333              0.30274   \n",
       "7030             0.500000              0.133333              0.30274   \n",
       "7031             0.500000              0.133333              0.30274   \n",
       "7032             0.500000              0.133333              0.30274   \n",
       "7033             0.500000              0.133333              0.30274   \n",
       "7034             0.500000              0.133333              0.30274   \n",
       "7035             0.500000              0.133333              0.30274   \n",
       "\n",
       "      feature_BBANDS_BB_UPPER  feature_BBANDS_BB_MIDDLE  \\\n",
       "7001                 0.143898                  0.137359   \n",
       "7002                 0.144923                  0.137834   \n",
       "7003                 0.145575                  0.138256   \n",
       "7004                 0.146302                  0.138718   \n",
       "7005                 0.147127                  0.139214   \n",
       "7006                 0.147411                  0.139734   \n",
       "7007                 0.147677                  0.140300   \n",
       "7008                 0.147880                  0.140807   \n",
       "7009                 0.148351                  0.141342   \n",
       "7010                 0.148376                  0.141582   \n",
       "7011                 0.148784                  0.141869   \n",
       "7012                 0.149052                  0.142100   \n",
       "7013                 0.149433                  0.142464   \n",
       "7014                 0.149272                  0.142823   \n",
       "7015                 0.148937                  0.143064   \n",
       "7016                 0.148742                  0.143163   \n",
       "7017                 0.148529                  0.143255   \n",
       "7018                 0.148102                  0.143397   \n",
       "7019                 0.147627                  0.143551   \n",
       "7020                 0.147499                  0.143371   \n",
       "7021                 0.147302                  0.143275   \n",
       "7022                 0.147282                  0.143263   \n",
       "7023                 0.147260                  0.143209   \n",
       "7024                 0.147166                  0.143098   \n",
       "7025                 0.146918                  0.142929   \n",
       "7026                 0.146832                  0.142801   \n",
       "7027                 0.146604                  0.142639   \n",
       "7028                 0.146381                  0.142453   \n",
       "7029                 0.145737                  0.142224   \n",
       "7030                 0.145770                  0.142246   \n",
       "7031                 0.145304                  0.142083   \n",
       "7032                 0.145068                  0.142014   \n",
       "7033                 0.144266                  0.141839   \n",
       "7034                 0.144045                  0.141780   \n",
       "7035                 0.144459                  0.141576   \n",
       "\n",
       "      feature_BBANDS_BB_LOWER  feature_MACD_MACD  feature_MACD_SIGNAL  \\\n",
       "7001                 0.130820           0.003088             0.002703   \n",
       "7002                 0.130745           0.003247             0.002812   \n",
       "7003                 0.130937           0.003254             0.002901   \n",
       "7004                 0.131134           0.003296             0.002980   \n",
       "7005                 0.131302           0.003373             0.003058   \n",
       "7006                 0.132057           0.003290             0.003105   \n",
       "7007                 0.132923           0.003259             0.003135   \n",
       "7008                 0.133733           0.003186             0.003146   \n",
       "7009                 0.134334           0.003224             0.003161   \n",
       "7010                 0.134788           0.002911             0.003111   \n",
       "7011                 0.134953           0.002862             0.003061   \n",
       "7012                 0.135148           0.002734             0.002996   \n",
       "7013                 0.135495           0.002718             0.002940   \n",
       "7014                 0.136375           0.002509             0.002854   \n",
       "7015                 0.137192           0.002151             0.002714   \n",
       "7016                 0.137585           0.001704             0.002512   \n",
       "7017                 0.137981           0.001315             0.002272   \n",
       "7018                 0.138692           0.001009             0.002020   \n",
       "7019                 0.139476           0.000819             0.001779   \n",
       "7020                 0.139244           0.000709             0.001565   \n",
       "7021                 0.139247           0.000772             0.001407   \n",
       "7022                 0.139245           0.000865             0.001298   \n",
       "7023                 0.139157           0.000776             0.001194   \n",
       "7024                 0.139029           0.000682             0.001091   \n",
       "7025                 0.138940           0.000590             0.000991   \n",
       "7026                 0.138770           0.000471             0.000887   \n",
       "7027                 0.138673           0.000390             0.000788   \n",
       "7028                 0.138524           0.000272             0.000685   \n",
       "7029                 0.138710           0.000240             0.000596   \n",
       "7030                 0.138722           0.000306             0.000538   \n",
       "7031                 0.138862           0.000289             0.000488   \n",
       "7032                 0.138961           0.000366             0.000464   \n",
       "7033                 0.139411           0.000366             0.000444   \n",
       "7034                 0.139514           0.000383             0.000432   \n",
       "7035                 0.138693          -0.000004             0.000345   \n",
       "\n",
       "      feature_14_period_RSI  feature_14_period_STOCH_%K  \n",
       "7001              76.546688                   93.529412  \n",
       "7002              72.104398                   84.375000  \n",
       "7003              68.050147                   72.268908  \n",
       "7004              69.704757                   79.622266  \n",
       "7005              71.485212                   89.860835  \n",
       "7006              66.122011                   76.739563  \n",
       "7007              67.890857                   85.685885  \n",
       "7008              67.302187                   84.294235  \n",
       "7009              70.526201                   97.207859  \n",
       "7010              56.482950                   56.415695  \n",
       "7011              62.530103                   87.062566  \n",
       "7012              60.282588                   79.251337  \n",
       "7013              63.136404                   94.054697  \n",
       "7014              56.816479                   48.975791  \n",
       "7015              51.287692                   10.428305  \n",
       "7016              47.026190                    8.205841  \n",
       "7017              46.468680                    4.867872  \n",
       "7018              46.948450                   11.066667  \n",
       "7019              49.170569                   21.333333  \n",
       "7020              50.924286                   29.466667  \n",
       "7021              56.182227                   55.733333  \n",
       "7022              57.789185                   64.400000  \n",
       "7023              51.808138                   39.066667  \n",
       "7024              51.207346                   36.400000  \n",
       "7025              50.826498                   34.800000  \n",
       "7026              49.153304                   28.000000  \n",
       "7027              49.884879                   30.800000  \n",
       "7028              47.736354                   23.097826  \n",
       "7029              50.662513                   33.695652  \n",
       "7030              54.818690                   49.864130  \n",
       "7031              51.593442                   38.722826  \n",
       "7032              55.606797                   48.851455  \n",
       "7033              52.748729                   30.172414  \n",
       "7034              53.722825                   34.827586  \n",
       "7035              38.159728                    0.000000  "
      ]
     },
     "execution_count": 14,
     "metadata": {},
     "output_type": "execute_result"
    }
   ],
   "source": [
    "fcst_df = model.predict()\n",
    "plot_df=train_data.groupby('symbol').tail(context_length)\n",
    "plot_df\n",
    "# fcst_df.tail()"
   ]
  },
  {
   "cell_type": "code",
   "execution_count": 15,
   "metadata": {},
   "outputs": [
    {
     "ename": "ModuleNotFoundError",
     "evalue": "No module named 'statsforecast'",
     "output_type": "error",
     "traceback": [
      "\u001b[0;31m---------------------------------------------------------------------------\u001b[0m",
      "\u001b[0;31mModuleNotFoundError\u001b[0m                       Traceback (most recent call last)",
      "\u001b[1;32m/Users/sebastiancoombs/Documents/Git/MultiTrader/TimeGPT multihead HP Tune.ipynb Cell 17\u001b[0m line \u001b[0;36m1\n\u001b[0;32m----> <a href='vscode-notebook-cell:/Users/sebastiancoombs/Documents/Git/MultiTrader/TimeGPT%20multihead%20HP%20Tune.ipynb#X22sZmlsZQ%3D%3D?line=0'>1</a>\u001b[0m \u001b[39mfrom\u001b[39;00m \u001b[39mstatsforecast\u001b[39;00m \u001b[39mimport\u001b[39;00m StatsForecast\n",
      "\u001b[0;31mModuleNotFoundError\u001b[0m: No module named 'statsforecast'"
     ]
    }
   ],
   "source": [
    "from statsforecast import StatsForecast\n"
   ]
  },
  {
   "cell_type": "code",
   "execution_count": null,
   "metadata": {},
   "outputs": [],
   "source": [
    "StatsForecast.plot(plot_df, fcst_df, engine='matplotlib',id_col=id_col, max_insample_length=context_length,)\n"
   ]
  },
  {
   "cell_type": "code",
   "execution_count": null,
   "metadata": {},
   "outputs": [],
   "source": [
    "pred_frame=test_data.copy()"
   ]
  },
  {
   "cell_type": "code",
   "execution_count": null,
   "metadata": {},
   "outputs": [],
   "source": [
    "model=NeuralForecast.load(save_path)"
   ]
  },
  {
   "cell_type": "code",
   "execution_count": null,
   "metadata": {},
   "outputs": [],
   "source": [
    "fcst_df = model.predict(pred_frame)\n",
    "\n",
    "# fcst_df.head()"
   ]
  },
  {
   "cell_type": "code",
   "execution_count": null,
   "metadata": {},
   "outputs": [],
   "source": []
  },
  {
   "cell_type": "code",
   "execution_count": null,
   "metadata": {},
   "outputs": [],
   "source": [
    "StatsForecast.plot(pred_frame, fcst_df, engine='matplotlib',id_col=id_col, max_insample_length=context_length,)\n"
   ]
  },
  {
   "cell_type": "code",
   "execution_count": null,
   "metadata": {},
   "outputs": [],
   "source": [
    "test_data"
   ]
  },
  {
   "cell_type": "code",
   "execution_count": null,
   "metadata": {},
   "outputs": [],
   "source": [
    "# test_data=test_data.drop('close_date',axis=1)\n",
    "test_data[exo_gen_cols].values.dtype"
   ]
  },
  {
   "cell_type": "code",
   "execution_count": null,
   "metadata": {},
   "outputs": [],
   "source": [
    "model.dataset, model.uids, model.last_dates, model.ds = model._prepare_fit(\n",
    "                df=test_data,\n",
    "                static_df=None,\n",
    "                sort_df=model.sort_df,\n",
    "                predict_only=False,\n",
    "                id_col=model.id_col,\n",
    "                time_col=model.time_col,\n",
    "                target_col=model.target_col,\n",
    "            )\n"
   ]
  },
  {
   "cell_type": "code",
   "execution_count": null,
   "metadata": {},
   "outputs": [],
   "source": [
    "test_pred_insample = model.predict_insample(step_size=horizon)\n"
   ]
  },
  {
   "cell_type": "code",
   "execution_count": null,
   "metadata": {},
   "outputs": [],
   "source": [
    "test_pred_insample['mean']=test_pred_insample.filter(like='Auto').mean(axis=1)\n",
    "# test_pred_insample['mean']\n",
    "# test_pred_insample['mean']\n",
    "# test_pred_insample.filter(like='Auto').mean(axis=1)\n",
    "# test_pred_insample.filter(like='Auto').mean(axis=1)"
   ]
  },
  {
   "cell_type": "code",
   "execution_count": null,
   "metadata": {},
   "outputs": [],
   "source": []
  },
  {
   "cell_type": "code",
   "execution_count": null,
   "metadata": {},
   "outputs": [],
   "source": [
    "# test_pred_insample.columns=test_pred_insample.columns.str.replace('Auto','')"
   ]
  },
  {
   "cell_type": "code",
   "execution_count": null,
   "metadata": {},
   "outputs": [],
   "source": [
    "test_data['close']=test_data['y'].copy()\n"
   ]
  },
  {
   "cell_type": "code",
   "execution_count": null,
   "metadata": {},
   "outputs": [],
   "source": [
    "idx,cut_data=next(iter(test_pred_insample.groupby(['cutoff','symbol'])))\n",
    "def flatten_preds(idx,cut_data):\n",
    "    t_off_pred,symb=idx\n",
    "    pred_cols=cut_data.filter(like='Auto').columns\n",
    "    cut_data['mean_pred']=cut_data[pred_cols].mean(axis=1)\n",
    "    cut_data=cut_data.drop(pred_cols,axis=1)\n",
    "    t_cut=cut_data.T\n",
    "\n",
    "    t_cut=t_cut.drop('cutoff')\n",
    "    t_cut=t_cut.drop('ds')\n",
    "    t_cut=t_cut.drop('y')\n",
    "    # print(t_cut)\n",
    "    h_cols=[f'H{i}' for i in range(horizon-1)]\n",
    "    # print (h_cols)\n",
    "    t_cut.columns=h_cols\n",
    "\n",
    "\n",
    "    flat_cols=[f'feature_{model}_{horizon}' for model in t_cut.index for horizon in t_cut.columns]\n",
    "    pred_values=t_cut.values.flatten()\n",
    "\n",
    "    flat_df=pd.DataFrame([pred_values],columns=flat_cols)\n",
    "    id_cols=['ds','symbol']\n",
    "\n",
    "    flat_df[id_cols]=t_off_pred,symb\n",
    "    flat_df=  flat_df[id_cols+flat_cols]\n",
    "    return flat_df\n",
    "\n",
    "def simulate_forecasts(model,df):\n",
    "    model.dataset, model.uids, model.last_dates, model.ds = model._prepare_fit(\n",
    "                df=test_data,\n",
    "                static_df=None,\n",
    "                sort_df=model.sort_df,\n",
    "                predict_only=True,\n",
    "                id_col=model.id_col,\n",
    "                time_col=model.time_col,\n",
    "                target_col=model.target_col,\n",
    "            )\n",
    "    \n",
    "    \n",
    "    return model.predict_insample(step_size=1)\n",
    "\n",
    "def prepare_forecast_data(model,test_data):\n",
    "    \n",
    "    pred_df= simulate_forecasts(model,test_data)\n",
    "    flattened_preds=pd.concat([flatten_preds(idx,cut_data) for idx,cut_data in pred_df.groupby(['cutoff','symbol'])])\n",
    "    return flattened_preds\n",
    "\n",
    "\n",
    "\n",
    "prepare_forecast_data(model,test_data)"
   ]
  },
  {
   "cell_type": "code",
   "execution_count": null,
   "metadata": {},
   "outputs": [],
   "source": [
    "cut_data\n",
    "for symb,cut in test_pred_insample.groupby('symbol'):\n",
    "    cut['mean']=cut.filter(like='Auto').mean(axis=1)\n",
    "\n",
    "    plt.figure(figsize=(10, 5))\n",
    "    \n",
    "    plt.plot(cut['ds'], cut['y'], label='True')\n",
    "    plt.plot(cut['ds'], cut['mean'] ,label='mean Forecast')\n",
    "    for model in cut.filter(like='Auto').columns:\n",
    "        plt.plot(cut['ds'], cut[model], label=f'{model} Forecast')\n",
    "    # plt.plot(cut['ds'], cut['NBEATS'], label='NBEATS Forecast')\n",
    "    # plt.plot(cut['ds'], cut['BiTCN'], label='BiTCN Forecast')\n",
    "    # plt.plot(cut['ds'], cut['TFT'], label='TFT Forecast')\n",
    "    # plt.axvline(cut['ds'].iloc[-12], color='black', linestyle='--', label='Train-Test Split')\n",
    "    plt.xlabel('Timestamp [t]')\n",
    "    plt.ylabel(f'{symb} Price')\n",
    "    plt.grid()\n",
    "    plt.legend()"
   ]
  },
  {
   "cell_type": "code",
   "execution_count": null,
   "metadata": {},
   "outputs": [],
   "source": [
    "# StatsForecast.plot(test_pred_insample, engine='matplotlib',time_col='ds',id_col=id_col, max_insample_length=horizon,)\n",
    "# StatsForecast.plot(test_pred_insample, engine='matplotlib',time_col='ds',id_col=id_col,target_col='AutoNBEATS', max_insample_length=horizon,)\n"
   ]
  },
  {
   "cell_type": "code",
   "execution_count": null,
   "metadata": {},
   "outputs": [],
   "source": []
  }
 ],
 "metadata": {
  "kernelspec": {
   "display_name": "base",
   "language": "python",
   "name": "python3"
  },
  "language_info": {
   "codemirror_mode": {
    "name": "ipython",
    "version": 3
   },
   "file_extension": ".py",
   "mimetype": "text/x-python",
   "name": "python",
   "nbconvert_exporter": "python",
   "pygments_lexer": "ipython3",
   "version": "3.10.13"
  }
 },
 "nbformat": 4,
 "nbformat_minor": 2
}
