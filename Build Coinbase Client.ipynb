{
 "cells": [
  {
   "cell_type": "code",
   "execution_count": 7,
   "metadata": {},
   "outputs": [],
   "source": [
    "from utils.utils import build_market_image, prepare_forecast_data\n",
    "# from environments.live_environments import LiveTradingEnv\n",
    "from utils.clients import CoinbaseClient\n",
    "from Keys import *\n",
    "# from utils.mappings import oanda_time_map\n",
    "from utils.reward_functions import sharpe_reward_function\n",
    "import pandas as pd\n",
    "from json import dumps\n",
    "\n",
    "import time\n",
    "import datetime\n",
    "\n"
   ]
  },
  {
   "cell_type": "code",
   "execution_count": 8,
   "metadata": {},
   "outputs": [],
   "source": [
    "# from neuralforecast.core import NeuralForecast\n",
    "# forecasting_model=NeuralForecast.load('MultiHeadForecastingModel/')\n",
    "# agent_dir='Agent/final_checkpoints/policies/default_policy'\n",
    "# agent= Policy.from_checkpoint(agent_dir)"
   ]
  },
  {
   "cell_type": "code",
   "execution_count": 9,
   "metadata": {},
   "outputs": [
    {
     "data": {
      "text/plain": [
       "('DOGE/USDC', 'SPOT')"
      ]
     },
     "execution_count": 9,
     "metadata": {},
     "output_type": "execute_result"
    }
   ],
   "source": [
    "base_asset='DOGE'\n",
    "quote_asset='USDC'\n",
    "test_net=False\n",
    "time_frame='1h'\n",
    "product_type='SPOT'\n",
    "futures_target='SHB-29NOV24-CDE'\n",
    "exchange='coinbase'\n",
    "trade_target='/'.join([base_asset,quote_asset]) if product_type=='SPOT' else  futures_target\n",
    "\n",
    "positions = [-1,0,1]\n",
    "trade_target,product_type"
   ]
  },
  {
   "cell_type": "code",
   "execution_count": 10,
   "metadata": {},
   "outputs": [
    {
     "data": {
      "text/plain": [
       "'2.1.4'"
      ]
     },
     "execution_count": 10,
     "metadata": {},
     "output_type": "execute_result"
    }
   ],
   "source": [
    "pd.__version__"
   ]
  },
  {
   "cell_type": "code",
   "execution_count": 11,
   "metadata": {},
   "outputs": [
    {
     "name": "stdout",
     "output_type": "stream",
     "text": [
      "Paper TradingFalse on coinbase at api.coinbase.com\n",
      " got symbol DOGE/USDC\n",
      "final symbol DOGE-USDC\n"
     ]
    },
    {
     "data": {
      "text/plain": [
       "('api.coinbase.com', 'DOGE', 'USDC', 'DOGE-USDC', '1h')"
      ]
     },
     "execution_count": 11,
     "metadata": {},
     "output_type": "execute_result"
    }
   ],
   "source": [
    "client=CoinbaseClient(api_key=coinbase_api_key,\n",
    "                    api_secret=coinbase_api_secret,\n",
    "                \n",
    "                    paper=test_net,\n",
    "                    symbol=trade_target,\n",
    "                    time_frame=time_frame,\n",
    "                    product_type=product_type\n",
    "\n",
    "                    )\n",
    "client.trade_client.base_url,client.base_asset,client.quote_asset,client.symbol,client.time_frame\n",
    "\n"
   ]
  },
  {
   "cell_type": "code",
   "execution_count": null,
   "metadata": {},
   "outputs": [],
   "source": []
  },
  {
   "cell_type": "code",
   "execution_count": 12,
   "metadata": {},
   "outputs": [
    {
     "ename": "TypeError",
     "evalue": "BaseClient.get_positions() missing 1 required positional argument: 'symbol'",
     "output_type": "error",
     "traceback": [
      "\u001b[0;31m---------------------------------------------------------------------------\u001b[0m",
      "\u001b[0;31mTypeError\u001b[0m                                 Traceback (most recent call last)",
      "\u001b[1;32m/Users/sebastiancoombs/Documents/Git/MultiTrader/Build Coinbase Client.ipynb Cell 7\u001b[0m line \u001b[0;36m1\n\u001b[0;32m----> <a href='vscode-notebook-cell:/Users/sebastiancoombs/Documents/Git/MultiTrader/Build%20Coinbase%20Client.ipynb#W5sZmlsZQ%3D%3D?line=0'>1</a>\u001b[0m account\u001b[39m=\u001b[39mclient\u001b[39m.\u001b[39;49mget_positions()\n\u001b[1;32m      <a href='vscode-notebook-cell:/Users/sebastiancoombs/Documents/Git/MultiTrader/Build%20Coinbase%20Client.ipynb#W5sZmlsZQ%3D%3D?line=1'>2</a>\u001b[0m account\n",
      "\u001b[0;31mTypeError\u001b[0m: BaseClient.get_positions() missing 1 required positional argument: 'symbol'"
     ]
    }
   ],
   "source": [
    "account=client.get_positions()\n",
    "account\n",
    "\n"
   ]
  },
  {
   "cell_type": "code",
   "execution_count": null,
   "metadata": {},
   "outputs": [],
   "source": [
    "client"
   ]
  },
  {
   "cell_type": "code",
   "execution_count": null,
   "metadata": {},
   "outputs": [],
   "source": [
    "client.get_products()"
   ]
  },
  {
   "cell_type": "code",
   "execution_count": null,
   "metadata": {},
   "outputs": [],
   "source": [
    "positions=client.trade_client.list_futures_positions()\n",
    "positions=pd.DataFrame(positions['positions'])\n",
    "positions=positions.set_index('product_id')\n",
    "positions"
   ]
  },
  {
   "cell_type": "code",
   "execution_count": null,
   "metadata": {},
   "outputs": [],
   "source": [
    "positions"
   ]
  },
  {
   "cell_type": "code",
   "execution_count": null,
   "metadata": {},
   "outputs": [],
   "source": [
    "\n",
    "product_frame=pd.DataFrame(products['products'])\n",
    "product_frame=product_frame[product_frame['view_only']==False]\n",
    "\n",
    "# product_frame=product_frame[product_frame['trading_disabled']==False]\n",
    "\n",
    "product_frame"
   ]
  },
  {
   "cell_type": "code",
   "execution_count": null,
   "metadata": {},
   "outputs": [],
   "source": [
    "trade_info"
   ]
  },
  {
   "cell_type": "code",
   "execution_count": null,
   "metadata": {},
   "outputs": [],
   "source": [
    "# products=client.trade_client.get_products()\n",
    "now=datetime.datetime.now()\n",
    "start_time=now-datetime.timedelta(hours=input_size*2)\n",
    "\n",
    "int(now.timestamp())"
   ]
  },
  {
   "cell_type": "code",
   "execution_count": null,
   "metadata": {},
   "outputs": [],
   "source": [
    "fills=client.get_orders()\n",
    "fills"
   ]
  },
  {
   "cell_type": "code",
   "execution_count": null,
   "metadata": {},
   "outputs": [],
   "source": [
    "time.sleep(10)"
   ]
  },
  {
   "cell_type": "code",
   "execution_count": null,
   "metadata": {},
   "outputs": [],
   "source": [
    "client.sell('BTC-USDC',base_size='.000014')"
   ]
  },
  {
   "cell_type": "code",
   "execution_count": null,
   "metadata": {},
   "outputs": [],
   "source": [
    "time.sleep(10)"
   ]
  },
  {
   "cell_type": "code",
   "execution_count": null,
   "metadata": {},
   "outputs": [],
   "source": [
    "fills=client.get_orders()\n",
    "fills"
   ]
  },
  {
   "cell_type": "code",
   "execution_count": null,
   "metadata": {},
   "outputs": [],
   "source": []
  }
 ],
 "metadata": {
  "kernelspec": {
   "display_name": "agent_env",
   "language": "python",
   "name": "python3"
  },
  "language_info": {
   "codemirror_mode": {
    "name": "ipython",
    "version": 3
   },
   "file_extension": ".py",
   "mimetype": "text/x-python",
   "name": "python",
   "nbconvert_exporter": "python",
   "pygments_lexer": "ipython3",
   "version": "3.10.13"
  }
 },
 "nbformat": 4,
 "nbformat_minor": 2
}
