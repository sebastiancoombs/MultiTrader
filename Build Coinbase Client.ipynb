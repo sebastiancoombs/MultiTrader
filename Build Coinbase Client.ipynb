{
 "cells": [
  {
   "cell_type": "code",
   "execution_count": 1,
   "metadata": {},
   "outputs": [
    {
     "name": "stdout",
     "output_type": "stream",
     "text": [
      "need to install oandapyV20\n",
      "need to install alpaca\n"
     ]
    }
   ],
   "source": [
    "from utils.utils import build_market_image, prepare_forecast_data\n",
    "# from environments.live_environments import LiveTradingEnv\n",
    "from utils.clients import CoinbaseClient\n",
    "from Keys import *\n",
    "# from utils.mappings import oanda_time_map\n",
    "from utils.reward_functions import sharpe_reward_function\n",
    "import pandas as pd\n",
    "from json import dumps\n",
    "\n",
    "import time\n",
    "import datetime\n",
    "\n"
   ]
  },
  {
   "cell_type": "code",
   "execution_count": 2,
   "metadata": {},
   "outputs": [],
   "source": [
    "# from neuralforecast.core import NeuralForecast\n",
    "# forecasting_model=NeuralForecast.load('MultiHeadForecastingModel/')\n",
    "# agent_dir='Agent/final_checkpoints/policies/default_policy'\n",
    "# agent= Policy.from_checkpoint(agent_dir)"
   ]
  },
  {
   "cell_type": "code",
   "execution_count": 3,
   "metadata": {},
   "outputs": [
    {
     "data": {
      "text/plain": [
       "('DOGE/USDC', 'SPOT')"
      ]
     },
     "execution_count": 3,
     "metadata": {},
     "output_type": "execute_result"
    }
   ],
   "source": [
    "base_asset='DOGE'\n",
    "quote_asset='USDC'\n",
    "test_net=False\n",
    "time_frame='1h'\n",
    "product_type='SPOT'\n",
    "futures_target='SHB-29NOV24-CDE'\n",
    "exchange='coinbase'\n",
    "trade_target='/'.join([base_asset,quote_asset]) if product_type=='SPOT' else  futures_target\n",
    "\n",
    "positions = [-1,0,1]\n",
    "trade_target,product_type"
   ]
  },
  {
   "cell_type": "code",
   "execution_count": 4,
   "metadata": {},
   "outputs": [
    {
     "data": {
      "text/plain": [
       "'2.1.4'"
      ]
     },
     "execution_count": 4,
     "metadata": {},
     "output_type": "execute_result"
    }
   ],
   "source": [
    "pd.__version__"
   ]
  },
  {
   "cell_type": "code",
   "execution_count": 5,
   "metadata": {},
   "outputs": [
    {
     "name": "stdout",
     "output_type": "stream",
     "text": [
      " got symbol DOGE/USDC\n",
      "final symbol DOGE-USDC\n"
     ]
    },
    {
     "data": {
      "text/plain": [
       "('api.coinbase.com', 'DOGE', 'USDC', 'DOGE-USDC', '1h')"
      ]
     },
     "execution_count": 5,
     "metadata": {},
     "output_type": "execute_result"
    }
   ],
   "source": [
    "client=CoinbaseClient(api_key=coinbase_api_key,\n",
    "                    api_secret=coinbase_api_secret,\n",
    "                \n",
    "                    paper=test_net,\n",
    "                    symbol=trade_target,\n",
    "                    time_frame=time_frame,\n",
    "                    product_type=product_type\n",
    "\n",
    "                    )\n",
    "client.trade_client.base_url,client.base_asset,client.quote_asset,client.symbol,client.time_frame\n",
    "\n"
   ]
  },
  {
   "cell_type": "code",
   "execution_count": 6,
   "metadata": {},
   "outputs": [
    {
     "data": {
      "text/html": [
       "<div>\n",
       "<style scoped>\n",
       "    .dataframe tbody tr th:only-of-type {\n",
       "        vertical-align: middle;\n",
       "    }\n",
       "\n",
       "    .dataframe tbody tr th {\n",
       "        vertical-align: top;\n",
       "    }\n",
       "\n",
       "    .dataframe thead th {\n",
       "        text-align: right;\n",
       "    }\n",
       "</style>\n",
       "<table border=\"1\" class=\"dataframe\">\n",
       "  <thead>\n",
       "    <tr style=\"text-align: right;\">\n",
       "      <th></th>\n",
       "      <th>uuid</th>\n",
       "      <th>name</th>\n",
       "      <th>default</th>\n",
       "      <th>active</th>\n",
       "      <th>type</th>\n",
       "      <th>ready</th>\n",
       "      <th>hold</th>\n",
       "      <th>retail_portfolio_id</th>\n",
       "      <th>position_value</th>\n",
       "      <th>balance</th>\n",
       "    </tr>\n",
       "    <tr>\n",
       "      <th>currency</th>\n",
       "      <th></th>\n",
       "      <th></th>\n",
       "      <th></th>\n",
       "      <th></th>\n",
       "      <th></th>\n",
       "      <th></th>\n",
       "      <th></th>\n",
       "      <th></th>\n",
       "      <th></th>\n",
       "      <th></th>\n",
       "    </tr>\n",
       "  </thead>\n",
       "  <tbody>\n",
       "    <tr>\n",
       "      <th>CORECHAIN</th>\n",
       "      <td>e03f1ea5-e129-564c-889b-194077bbf294</td>\n",
       "      <td>CORECHAIN Wallet</td>\n",
       "      <td>True</td>\n",
       "      <td>True</td>\n",
       "      <td>ACCOUNT_TYPE_CRYPTO</td>\n",
       "      <td>True</td>\n",
       "      <td>{'value': '0', 'currency': 'CORECHAIN'}</td>\n",
       "      <td>3f98d482-321e-54af-baa5-9b5927e52212</td>\n",
       "      <td>0</td>\n",
       "      <td>5.255967</td>\n",
       "    </tr>\n",
       "    <tr>\n",
       "      <th>NEAR</th>\n",
       "      <td>405446ef-08b1-5205-86e4-e505ab64ae5f</td>\n",
       "      <td>NEAR Wallet</td>\n",
       "      <td>True</td>\n",
       "      <td>True</td>\n",
       "      <td>ACCOUNT_TYPE_CRYPTO</td>\n",
       "      <td>True</td>\n",
       "      <td>{'value': '0', 'currency': 'NEAR'}</td>\n",
       "      <td>3f98d482-321e-54af-baa5-9b5927e52212</td>\n",
       "      <td>0</td>\n",
       "      <td>0.575780</td>\n",
       "    </tr>\n",
       "    <tr>\n",
       "      <th>SUI</th>\n",
       "      <td>a064f48a-1267-5b19-b0ff-d754d09c6f6b</td>\n",
       "      <td>SUI Wallet</td>\n",
       "      <td>True</td>\n",
       "      <td>True</td>\n",
       "      <td>ACCOUNT_TYPE_CRYPTO</td>\n",
       "      <td>True</td>\n",
       "      <td>{'value': '0', 'currency': 'SUI'}</td>\n",
       "      <td>3f98d482-321e-54af-baa5-9b5927e52212</td>\n",
       "      <td>0</td>\n",
       "      <td>66.104049</td>\n",
       "    </tr>\n",
       "    <tr>\n",
       "      <th>ETH2</th>\n",
       "      <td>12d0e91c-efa7-52b4-87f2-2953c6ea0180</td>\n",
       "      <td>ETH2 Wallet</td>\n",
       "      <td>True</td>\n",
       "      <td>True</td>\n",
       "      <td>ACCOUNT_TYPE_CRYPTO</td>\n",
       "      <td>False</td>\n",
       "      <td>{'value': '0', 'currency': 'ETH2'}</td>\n",
       "      <td>3f98d482-321e-54af-baa5-9b5927e52212</td>\n",
       "      <td>0</td>\n",
       "      <td>0.000298</td>\n",
       "    </tr>\n",
       "    <tr>\n",
       "      <th>ATOM</th>\n",
       "      <td>99b5bef3-be97-5d57-b704-68532088d286</td>\n",
       "      <td>ATOM Wallet</td>\n",
       "      <td>True</td>\n",
       "      <td>True</td>\n",
       "      <td>ACCOUNT_TYPE_CRYPTO</td>\n",
       "      <td>True</td>\n",
       "      <td>{'value': '0', 'currency': 'ATOM'}</td>\n",
       "      <td>3f98d482-321e-54af-baa5-9b5927e52212</td>\n",
       "      <td>0</td>\n",
       "      <td>167.549281</td>\n",
       "    </tr>\n",
       "    <tr>\n",
       "      <th>USDC</th>\n",
       "      <td>c041014b-790b-5f17-8469-ced1f456940d</td>\n",
       "      <td>USDC Wallet</td>\n",
       "      <td>True</td>\n",
       "      <td>True</td>\n",
       "      <td>ACCOUNT_TYPE_CRYPTO</td>\n",
       "      <td>True</td>\n",
       "      <td>{'value': '0', 'currency': 'USDC'}</td>\n",
       "      <td>3f98d482-321e-54af-baa5-9b5927e52212</td>\n",
       "      <td>0</td>\n",
       "      <td>500.878828</td>\n",
       "    </tr>\n",
       "    <tr>\n",
       "      <th>USD</th>\n",
       "      <td>cfc0be7a-b031-500b-853f-963313341334</td>\n",
       "      <td>Cash (USD)</td>\n",
       "      <td>False</td>\n",
       "      <td>True</td>\n",
       "      <td>ACCOUNT_TYPE_FIAT</td>\n",
       "      <td>True</td>\n",
       "      <td>{'value': '0', 'currency': 'USD'}</td>\n",
       "      <td>3f98d482-321e-54af-baa5-9b5927e52212</td>\n",
       "      <td>0</td>\n",
       "      <td>647.830000</td>\n",
       "    </tr>\n",
       "    <tr>\n",
       "      <th>ETH</th>\n",
       "      <td>9834b834-02c5-50ca-bffa-2674c9c0650e</td>\n",
       "      <td>ETH Wallet</td>\n",
       "      <td>True</td>\n",
       "      <td>True</td>\n",
       "      <td>ACCOUNT_TYPE_CRYPTO</td>\n",
       "      <td>True</td>\n",
       "      <td>{'value': '0', 'currency': 'ETH'}</td>\n",
       "      <td>3f98d482-321e-54af-baa5-9b5927e52212</td>\n",
       "      <td>0</td>\n",
       "      <td>0.011981</td>\n",
       "    </tr>\n",
       "    <tr>\n",
       "      <th>BTC</th>\n",
       "      <td>c6ae0023-f397-5897-b65b-5268feb36aaa</td>\n",
       "      <td>BTC Wallet</td>\n",
       "      <td>True</td>\n",
       "      <td>True</td>\n",
       "      <td>ACCOUNT_TYPE_CRYPTO</td>\n",
       "      <td>True</td>\n",
       "      <td>{'value': '0', 'currency': 'BTC'}</td>\n",
       "      <td>3f98d482-321e-54af-baa5-9b5927e52212</td>\n",
       "      <td>0</td>\n",
       "      <td>0.000013</td>\n",
       "    </tr>\n",
       "  </tbody>\n",
       "</table>\n",
       "</div>"
      ],
      "text/plain": [
       "                                           uuid              name  default  \\\n",
       "currency                                                                     \n",
       "CORECHAIN  e03f1ea5-e129-564c-889b-194077bbf294  CORECHAIN Wallet     True   \n",
       "NEAR       405446ef-08b1-5205-86e4-e505ab64ae5f       NEAR Wallet     True   \n",
       "SUI        a064f48a-1267-5b19-b0ff-d754d09c6f6b        SUI Wallet     True   \n",
       "ETH2       12d0e91c-efa7-52b4-87f2-2953c6ea0180       ETH2 Wallet     True   \n",
       "ATOM       99b5bef3-be97-5d57-b704-68532088d286       ATOM Wallet     True   \n",
       "USDC       c041014b-790b-5f17-8469-ced1f456940d       USDC Wallet     True   \n",
       "USD        cfc0be7a-b031-500b-853f-963313341334        Cash (USD)    False   \n",
       "ETH        9834b834-02c5-50ca-bffa-2674c9c0650e        ETH Wallet     True   \n",
       "BTC        c6ae0023-f397-5897-b65b-5268feb36aaa        BTC Wallet     True   \n",
       "\n",
       "           active                 type  ready  \\\n",
       "currency                                        \n",
       "CORECHAIN    True  ACCOUNT_TYPE_CRYPTO   True   \n",
       "NEAR         True  ACCOUNT_TYPE_CRYPTO   True   \n",
       "SUI          True  ACCOUNT_TYPE_CRYPTO   True   \n",
       "ETH2         True  ACCOUNT_TYPE_CRYPTO  False   \n",
       "ATOM         True  ACCOUNT_TYPE_CRYPTO   True   \n",
       "USDC         True  ACCOUNT_TYPE_CRYPTO   True   \n",
       "USD          True    ACCOUNT_TYPE_FIAT   True   \n",
       "ETH          True  ACCOUNT_TYPE_CRYPTO   True   \n",
       "BTC          True  ACCOUNT_TYPE_CRYPTO   True   \n",
       "\n",
       "                                              hold  \\\n",
       "currency                                             \n",
       "CORECHAIN  {'value': '0', 'currency': 'CORECHAIN'}   \n",
       "NEAR            {'value': '0', 'currency': 'NEAR'}   \n",
       "SUI              {'value': '0', 'currency': 'SUI'}   \n",
       "ETH2            {'value': '0', 'currency': 'ETH2'}   \n",
       "ATOM            {'value': '0', 'currency': 'ATOM'}   \n",
       "USDC            {'value': '0', 'currency': 'USDC'}   \n",
       "USD              {'value': '0', 'currency': 'USD'}   \n",
       "ETH              {'value': '0', 'currency': 'ETH'}   \n",
       "BTC              {'value': '0', 'currency': 'BTC'}   \n",
       "\n",
       "                            retail_portfolio_id position_value     balance  \n",
       "currency                                                                    \n",
       "CORECHAIN  3f98d482-321e-54af-baa5-9b5927e52212              0    5.255967  \n",
       "NEAR       3f98d482-321e-54af-baa5-9b5927e52212              0    0.575780  \n",
       "SUI        3f98d482-321e-54af-baa5-9b5927e52212              0   66.104049  \n",
       "ETH2       3f98d482-321e-54af-baa5-9b5927e52212              0    0.000298  \n",
       "ATOM       3f98d482-321e-54af-baa5-9b5927e52212              0  167.549281  \n",
       "USDC       3f98d482-321e-54af-baa5-9b5927e52212              0  500.878828  \n",
       "USD        3f98d482-321e-54af-baa5-9b5927e52212              0  647.830000  \n",
       "ETH        3f98d482-321e-54af-baa5-9b5927e52212              0    0.011981  \n",
       "BTC        3f98d482-321e-54af-baa5-9b5927e52212              0    0.000013  "
      ]
     },
     "execution_count": 6,
     "metadata": {},
     "output_type": "execute_result"
    }
   ],
   "source": [
    "account=client.account()\n",
    "account\n",
    "\n"
   ]
  },
  {
   "cell_type": "code",
   "execution_count": null,
   "metadata": {},
   "outputs": [],
   "source": [
    "client"
   ]
  },
  {
   "cell_type": "code",
   "execution_count": null,
   "metadata": {},
   "outputs": [],
   "source": [
    "client.get_products()"
   ]
  },
  {
   "cell_type": "code",
   "execution_count": null,
   "metadata": {},
   "outputs": [],
   "source": [
    "positions=client.trade_client.list_futures_positions()\n",
    "positions=pd.DataFrame(positions['positions'])\n",
    "positions=positions.set_index('product_id')\n",
    "positions"
   ]
  },
  {
   "cell_type": "code",
   "execution_count": null,
   "metadata": {},
   "outputs": [],
   "source": [
    "positions"
   ]
  },
  {
   "cell_type": "code",
   "execution_count": null,
   "metadata": {},
   "outputs": [],
   "source": [
    "\n",
    "product_frame=pd.DataFrame(products['products'])\n",
    "product_frame=product_frame[product_frame['view_only']==False]\n",
    "\n",
    "# product_frame=product_frame[product_frame['trading_disabled']==False]\n",
    "\n",
    "product_frame"
   ]
  },
  {
   "cell_type": "code",
   "execution_count": null,
   "metadata": {},
   "outputs": [],
   "source": [
    "trade_info"
   ]
  },
  {
   "cell_type": "code",
   "execution_count": null,
   "metadata": {},
   "outputs": [],
   "source": [
    "# products=client.trade_client.get_products()\n",
    "now=datetime.datetime.now()\n",
    "start_time=now-datetime.timedelta(hours=input_size*2)\n",
    "\n",
    "int(now.timestamp())"
   ]
  },
  {
   "cell_type": "code",
   "execution_count": null,
   "metadata": {},
   "outputs": [],
   "source": [
    "fills=client.get_orders()\n",
    "fills"
   ]
  },
  {
   "cell_type": "code",
   "execution_count": null,
   "metadata": {},
   "outputs": [],
   "source": [
    "time.sleep(10)"
   ]
  },
  {
   "cell_type": "code",
   "execution_count": null,
   "metadata": {},
   "outputs": [],
   "source": [
    "client.sell('BTC-USDC',base_size='.000014')"
   ]
  },
  {
   "cell_type": "code",
   "execution_count": null,
   "metadata": {},
   "outputs": [],
   "source": [
    "time.sleep(10)"
   ]
  },
  {
   "cell_type": "code",
   "execution_count": null,
   "metadata": {},
   "outputs": [],
   "source": [
    "fills=client.get_orders()\n",
    "fills"
   ]
  },
  {
   "cell_type": "code",
   "execution_count": null,
   "metadata": {},
   "outputs": [],
   "source": []
  }
 ],
 "metadata": {
  "kernelspec": {
   "display_name": "agent_env",
   "language": "python",
   "name": "python3"
  },
  "language_info": {
   "codemirror_mode": {
    "name": "ipython",
    "version": 3
   },
   "file_extension": ".py",
   "mimetype": "text/x-python",
   "name": "python",
   "nbconvert_exporter": "python",
   "pygments_lexer": "ipython3",
   "version": "3.10.13"
  }
 },
 "nbformat": 4,
 "nbformat_minor": 2
}
