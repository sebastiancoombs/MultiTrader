{
 "cells": [
  {
   "cell_type": "code",
   "execution_count": 2,
   "metadata": {},
   "outputs": [],
   "source": [
    "import sqlite3 as db\n",
    "from utils.rendering import LiveRenderer\n",
    "import binance\n",
    "import pandas as pd\n",
    "from binance import Client, ThreadedWebsocketManager, ThreadedDepthCacheManager\n"
   ]
  },
  {
   "cell_type": "code",
   "execution_count": 3,
   "metadata": {},
   "outputs": [],
   "source": [
    "api_key='ZGvDtoVQM9O1xb0PXaSPzMffWtGH3ofxVSbsuzGQNDBwklCHkKm4x1g3nrImqQXF'\n",
    "api_secret='BUDui1xmoP11wGmSV3RqTrtrkmYU5EyogHMtigVQgTGoQxjcibkuwjN5Et169f4o'"
   ]
  },
  {
   "cell_type": "code",
   "execution_count": null,
   "metadata": {},
   "outputs": [],
   "source": [
    "\n"
   ]
  },
  {
   "cell_type": "code",
   "execution_count": 4,
   "metadata": {},
   "outputs": [],
   "source": [
    "conn = db.connect('Trade_history/trade.db')\n",
    "cursor=conn.cursor()"
   ]
  },
  {
   "cell_type": "code",
   "execution_count": 5,
   "metadata": {},
   "outputs": [
    {
     "data": {
      "text/html": [
       "<div>\n",
       "<style scoped>\n",
       "    .dataframe tbody tr th:only-of-type {\n",
       "        vertical-align: middle;\n",
       "    }\n",
       "\n",
       "    .dataframe tbody tr th {\n",
       "        vertical-align: top;\n",
       "    }\n",
       "\n",
       "    .dataframe thead th {\n",
       "        text-align: right;\n",
       "    }\n",
       "</style>\n",
       "<table border=\"1\" class=\"dataframe\">\n",
       "  <thead>\n",
       "    <tr style=\"text-align: right;\">\n",
       "      <th></th>\n",
       "      <th>idx</th>\n",
       "      <th>step</th>\n",
       "      <th>date</th>\n",
       "      <th>position_index</th>\n",
       "      <th>position</th>\n",
       "      <th>real_position</th>\n",
       "      <th>portfolio_valuation</th>\n",
       "      <th>portfolio_distribution_asset</th>\n",
       "      <th>portfolio_distribution_fiat</th>\n",
       "      <th>portfolio_distribution_borrowed_asset</th>\n",
       "      <th>...</th>\n",
       "      <th>feature_log_volume_20</th>\n",
       "      <th>feature_log_return_25</th>\n",
       "      <th>feature_log_volume_25</th>\n",
       "      <th>feature_log_return_30</th>\n",
       "      <th>feature_log_volume_30</th>\n",
       "      <th>ds</th>\n",
       "      <th>symbol</th>\n",
       "      <th>unique_id</th>\n",
       "      <th>dynamic_feature__0</th>\n",
       "      <th>dynamic_feature__1</th>\n",
       "    </tr>\n",
       "  </thead>\n",
       "  <tbody>\n",
       "    <tr>\n",
       "      <th>0</th>\n",
       "      <td>-1</td>\n",
       "      <td>0</td>\n",
       "      <td>2024-04-26 07:14:33.797780</td>\n",
       "      <td>0</td>\n",
       "      <td>0</td>\n",
       "      <td>0</td>\n",
       "      <td>11203.645089</td>\n",
       "      <td>0</td>\n",
       "      <td>11203.645089</td>\n",
       "      <td>0</td>\n",
       "      <td>...</td>\n",
       "      <td>-1.200549</td>\n",
       "      <td>0.821016</td>\n",
       "      <td>-0.883985</td>\n",
       "      <td>0.878187</td>\n",
       "      <td>-0.974972</td>\n",
       "      <td>2024-04-26 11:59:59.999000</td>\n",
       "      <td>ETHUSDT</td>\n",
       "      <td>8</td>\n",
       "      <td>0</td>\n",
       "      <td>0</td>\n",
       "    </tr>\n",
       "  </tbody>\n",
       "</table>\n",
       "<p>1 rows × 46 columns</p>\n",
       "</div>"
      ],
      "text/plain": [
       "   idx  step                        date  position_index  position  \\\n",
       "0   -1     0  2024-04-26 07:14:33.797780               0         0   \n",
       "\n",
       "   real_position  portfolio_valuation  portfolio_distribution_asset  \\\n",
       "0              0         11203.645089                             0   \n",
       "\n",
       "   portfolio_distribution_fiat  portfolio_distribution_borrowed_asset  ...  \\\n",
       "0                 11203.645089                                      0  ...   \n",
       "\n",
       "   feature_log_volume_20  feature_log_return_25  feature_log_volume_25  \\\n",
       "0              -1.200549               0.821016              -0.883985   \n",
       "\n",
       "   feature_log_return_30  feature_log_volume_30                          ds  \\\n",
       "0               0.878187              -0.974972  2024-04-26 11:59:59.999000   \n",
       "\n",
       "    symbol  unique_id  dynamic_feature__0  dynamic_feature__1  \n",
       "0  ETHUSDT          8                   0                   0  \n",
       "\n",
       "[1 rows x 46 columns]"
      ]
     },
     "execution_count": 5,
     "metadata": {},
     "output_type": "execute_result"
    }
   ],
   "source": [
    "sql_query = \"\"\"SELECT name FROM sqlite_master  \n",
    "  WHERE type='table';\"\"\"\n",
    "\n",
    "cursor.execute(sql_query)\n",
    "render_names=[t[0] for t in cursor.fetchall()]\n",
    "name=render_names[0]\n",
    "df=pd.read_sql(f'select * from {name}',conn)\n",
    "df"
   ]
  },
  {
   "cell_type": "code",
   "execution_count": null,
   "metadata": {},
   "outputs": [],
   "source": []
  },
  {
   "cell_type": "code",
   "execution_count": null,
   "metadata": {},
   "outputs": [],
   "source": []
  },
  {
   "cell_type": "code",
   "execution_count": 6,
   "metadata": {},
   "outputs": [],
   "source": [
    "renderer=LiveRenderer('C:/Users/standard/Git/MultiTrader/Trade_history/trade.db')"
   ]
  },
  {
   "cell_type": "code",
   "execution_count": 7,
   "metadata": {},
   "outputs": [
    {
     "name": "stdout",
     "output_type": "stream",
     "text": [
      " * Serving Flask app 'gym_trading_env.renderer'\n",
      " * Debug mode: off\n"
     ]
    },
    {
     "name": "stderr",
     "output_type": "stream",
     "text": [
      "WARNING: This is a development server. Do not use it in a production deployment. Use a production WSGI server instead.\n",
      " * Running on http://127.0.0.1:5000\n",
      "Press CTRL+C to quit\n",
      "127.0.0.1 - - [26/Apr/2024 07:39:07] \"GET / HTTP/1.1\" 200 -\n",
      "127.0.0.1 - - [26/Apr/2024 07:39:08] \"GET /update_data/ETHUSDT_trade_history HTTP/1.1\" 200 -\n",
      "127.0.0.1 - - [26/Apr/2024 07:39:08] \"GET /metrics HTTP/1.1\" 200 -\n"
     ]
    }
   ],
   "source": [
    "renderer.run()\n"
   ]
  },
  {
   "cell_type": "code",
   "execution_count": null,
   "metadata": {},
   "outputs": [],
   "source": []
  },
  {
   "cell_type": "code",
   "execution_count": null,
   "metadata": {},
   "outputs": [],
   "source": [
    "sql_query = \"\"\"SELECT name FROM sqlite_master  \n",
    "  WHERE type='table';\"\"\"\n",
    "\n",
    "cursor.execute(sql_query)\n",
    "render_names=[t[0] for t in cursor.fetchall()]\n",
    "name=render_names[0]\n",
    "df=pd.read_sql(f'select * from {name}',conn)\n",
    "df"
   ]
  },
  {
   "cell_type": "code",
   "execution_count": null,
   "metadata": {},
   "outputs": [],
   "source": []
  },
  {
   "cell_type": "code",
   "execution_count": null,
   "metadata": {},
   "outputs": [],
   "source": []
  },
  {
   "cell_type": "code",
   "execution_count": null,
   "metadata": {},
   "outputs": [],
   "source": [
    "# df.columns=[c.replace('data_','') for c in df.columns]\n",
    "# df['date']=df['date'].apply(pd.to_datetime)\n",
    "# df=df.set_index('date')\n",
    "df"
   ]
  },
  {
   "cell_type": "code",
   "execution_count": null,
   "metadata": {},
   "outputs": [],
   "source": [
    "# df=df[~df.close.isna()]\n",
    "mask=df[(df['date']=='62')==True].index\n",
    "df.loc[mask,'date']=df.loc[mask,'ds'].copy()\n"
   ]
  },
  {
   "cell_type": "code",
   "execution_count": null,
   "metadata": {},
   "outputs": [],
   "source": [
    "df"
   ]
  },
  {
   "cell_type": "code",
   "execution_count": null,
   "metadata": {},
   "outputs": [],
   "source": [
    "df.to_sql(render_names[0],conn,if_exists='replace',index=False)"
   ]
  },
  {
   "cell_type": "code",
   "execution_count": null,
   "metadata": {},
   "outputs": [],
   "source": [
    "import datetime"
   ]
  },
  {
   "cell_type": "code",
   "execution_count": null,
   "metadata": {},
   "outputs": [],
   "source": [
    "df.iloc[[-1]].to_dict('records')[0]"
   ]
  },
  {
   "cell_type": "code",
   "execution_count": null,
   "metadata": {},
   "outputs": [],
   "source": [
    "pd.Timestamp(datetime.datetime.now())"
   ]
  },
  {
   "cell_type": "code",
   "execution_count": null,
   "metadata": {},
   "outputs": [],
   "source": []
  }
 ],
 "metadata": {
  "kernelspec": {
   "display_name": "MLenv",
   "language": "python",
   "name": "python3"
  },
  "language_info": {
   "codemirror_mode": {
    "name": "ipython",
    "version": 3
   },
   "file_extension": ".py",
   "mimetype": "text/x-python",
   "name": "python",
   "nbconvert_exporter": "python",
   "pygments_lexer": "ipython3",
   "version": "3.9.19"
  }
 },
 "nbformat": 4,
 "nbformat_minor": 2
}
