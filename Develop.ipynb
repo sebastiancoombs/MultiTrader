{
 "cells": [
  {
   "cell_type": "code",
   "execution_count": 2,
   "metadata": {},
   "outputs": [],
   "source": [
    "from gym_trading_env.downloader import download\n",
    "from typing import Dict\n",
    "import datetime\n",
    "import pandas as pd\n",
    "import glob\n",
    "import numpy as np\n",
    "import gymnasium as gym\n",
    "import gym_trading_env\n",
    "import torch\n",
    "from environments.environments import NeuralForecastingTradingEnv\n",
    "from neuralforecast import NeuralForecast\n",
    "from utils.utils import sharpe_reward,build_market_image,prep_forecasts\n",
    "from utils.mappings import symbol_map\n",
    "import tqdm.autonotebook as tqdm"
   ]
  },
  {
   "cell_type": "code",
   "execution_count": 3,
   "metadata": {},
   "outputs": [
    {
     "data": {
      "text/plain": [
       "True"
      ]
     },
     "execution_count": 3,
     "metadata": {},
     "output_type": "execute_result"
    }
   ],
   "source": [
    "torch.mps.is_available()"
   ]
  },
  {
   "cell_type": "code",
   "execution_count": 4,
   "metadata": {},
   "outputs": [
    {
     "data": {
      "text/plain": [
       "device(type='cpu')"
      ]
     },
     "execution_count": 4,
     "metadata": {},
     "output_type": "execute_result"
    }
   ],
   "source": [
    "# class MultiPorfolio():\n",
    "torch.tensor(0).device"
   ]
  },
  {
   "cell_type": "code",
   "execution_count": 13,
   "metadata": {},
   "outputs": [
    {
     "ename": "RuntimeError",
     "evalue": "Attempting to deserialize object on a CUDA device but torch.cuda.is_available() is False. If you are running on a CPU-only machine, please use torch.load with map_location=torch.device('cpu') to map your storages to the CPU.",
     "output_type": "error",
     "traceback": [
      "\u001b[0;31m---------------------------------------------------------------------------\u001b[0m",
      "\u001b[0;31mRuntimeError\u001b[0m                              Traceback (most recent call last)",
      "\u001b[1;32m/Users/sebastiancoombs/Documents/Git/MultiTrader/Develop.ipynb Cell 4\u001b[0m line \u001b[0;36m1\n\u001b[0;32m----> <a href='vscode-notebook-cell:/Users/sebastiancoombs/Documents/Git/MultiTrader/Develop.ipynb#X13sZmlsZQ%3D%3D?line=0'>1</a>\u001b[0m agent\u001b[39m=\u001b[39mtorch\u001b[39m.\u001b[39;49mload(map_location\u001b[39m=\u001b[39;49mtorch\u001b[39m.\u001b[39;49mdevice(\u001b[39m'\u001b[39;49m\u001b[39mcpu\u001b[39;49m\u001b[39m'\u001b[39;49m),f\u001b[39m=\u001b[39;49m\u001b[39m'\u001b[39;49m\u001b[39mAgent/pearl_DOGEUSDTSPOT_model.pkl\u001b[39;49m\u001b[39m'\u001b[39;49m,)\n\u001b[1;32m      <a href='vscode-notebook-cell:/Users/sebastiancoombs/Documents/Git/MultiTrader/Develop.ipynb#X13sZmlsZQ%3D%3D?line=1'>2</a>\u001b[0m \u001b[39m# torch.load()\u001b[39;00m\n",
      "File \u001b[0;32m~/anaconda3/envs/pearlenv/lib/python3.10/site-packages/torch/serialization.py:1384\u001b[0m, in \u001b[0;36mload\u001b[0;34m(f, map_location, pickle_module, weights_only, mmap, **pickle_load_args)\u001b[0m\n\u001b[1;32m   1382\u001b[0m     \u001b[39mexcept\u001b[39;00m pickle\u001b[39m.\u001b[39mUnpicklingError \u001b[39mas\u001b[39;00m e:\n\u001b[1;32m   1383\u001b[0m         \u001b[39mraise\u001b[39;00m pickle\u001b[39m.\u001b[39mUnpicklingError(_get_wo_message(\u001b[39mstr\u001b[39m(e))) \u001b[39mfrom\u001b[39;00m \u001b[39mNone\u001b[39;00m\n\u001b[0;32m-> 1384\u001b[0m \u001b[39mreturn\u001b[39;00m _legacy_load(\n\u001b[1;32m   1385\u001b[0m     opened_file, map_location, pickle_module, \u001b[39m*\u001b[39;49m\u001b[39m*\u001b[39;49mpickle_load_args\n\u001b[1;32m   1386\u001b[0m )\n",
      "File \u001b[0;32m~/anaconda3/envs/pearlenv/lib/python3.10/site-packages/torch/serialization.py:1628\u001b[0m, in \u001b[0;36m_legacy_load\u001b[0;34m(f, map_location, pickle_module, **pickle_load_args)\u001b[0m\n\u001b[1;32m   1621\u001b[0m \u001b[39mif\u001b[39;00m \u001b[39mnot\u001b[39;00m \u001b[39mhasattr\u001b[39m(f, \u001b[39m\"\u001b[39m\u001b[39mreadinto\u001b[39m\u001b[39m\"\u001b[39m) \u001b[39mand\u001b[39;00m (\u001b[39m3\u001b[39m, \u001b[39m8\u001b[39m, \u001b[39m0\u001b[39m) \u001b[39m<\u001b[39m\u001b[39m=\u001b[39m sys\u001b[39m.\u001b[39mversion_info \u001b[39m<\u001b[39m (\u001b[39m3\u001b[39m, \u001b[39m8\u001b[39m, \u001b[39m2\u001b[39m):\n\u001b[1;32m   1622\u001b[0m     \u001b[39mraise\u001b[39;00m \u001b[39mRuntimeError\u001b[39;00m(\n\u001b[1;32m   1623\u001b[0m         \u001b[39m\"\u001b[39m\u001b[39mtorch.load does not work with file-like objects that do not implement readinto on Python 3.8.0 and 3.8.1. \u001b[39m\u001b[39m\"\u001b[39m\n\u001b[1;32m   1624\u001b[0m         \u001b[39mf\u001b[39m\u001b[39m'\u001b[39m\u001b[39mReceived object of type \u001b[39m\u001b[39m\"\u001b[39m\u001b[39m{\u001b[39;00m\u001b[39mtype\u001b[39m(f)\u001b[39m}\u001b[39;00m\u001b[39m\"\u001b[39m\u001b[39m. Please update to Python 3.8.2 or newer to restore this \u001b[39m\u001b[39m'\u001b[39m\n\u001b[1;32m   1625\u001b[0m         \u001b[39m\"\u001b[39m\u001b[39mfunctionality.\u001b[39m\u001b[39m\"\u001b[39m\n\u001b[1;32m   1626\u001b[0m     )\n\u001b[0;32m-> 1628\u001b[0m magic_number \u001b[39m=\u001b[39m pickle_module\u001b[39m.\u001b[39;49mload(f, \u001b[39m*\u001b[39;49m\u001b[39m*\u001b[39;49mpickle_load_args)\n\u001b[1;32m   1629\u001b[0m \u001b[39mif\u001b[39;00m magic_number \u001b[39m!=\u001b[39m MAGIC_NUMBER:\n\u001b[1;32m   1630\u001b[0m     \u001b[39mraise\u001b[39;00m \u001b[39mRuntimeError\u001b[39;00m(\u001b[39m\"\u001b[39m\u001b[39mInvalid magic number; corrupt file?\u001b[39m\u001b[39m\"\u001b[39m)\n",
      "File \u001b[0;32m~/anaconda3/envs/pearlenv/lib/python3.10/site-packages/torch/storage.py:520\u001b[0m, in \u001b[0;36m_load_from_bytes\u001b[0;34m(b)\u001b[0m\n\u001b[1;32m    519\u001b[0m \u001b[39mdef\u001b[39;00m \u001b[39m_load_from_bytes\u001b[39m(b):\n\u001b[0;32m--> 520\u001b[0m     \u001b[39mreturn\u001b[39;00m torch\u001b[39m.\u001b[39;49mload(io\u001b[39m.\u001b[39;49mBytesIO(b), weights_only\u001b[39m=\u001b[39;49m\u001b[39mFalse\u001b[39;49;00m)\n",
      "File \u001b[0;32m~/anaconda3/envs/pearlenv/lib/python3.10/site-packages/torch/serialization.py:1384\u001b[0m, in \u001b[0;36mload\u001b[0;34m(f, map_location, pickle_module, weights_only, mmap, **pickle_load_args)\u001b[0m\n\u001b[1;32m   1382\u001b[0m     \u001b[39mexcept\u001b[39;00m pickle\u001b[39m.\u001b[39mUnpicklingError \u001b[39mas\u001b[39;00m e:\n\u001b[1;32m   1383\u001b[0m         \u001b[39mraise\u001b[39;00m pickle\u001b[39m.\u001b[39mUnpicklingError(_get_wo_message(\u001b[39mstr\u001b[39m(e))) \u001b[39mfrom\u001b[39;00m \u001b[39mNone\u001b[39;00m\n\u001b[0;32m-> 1384\u001b[0m \u001b[39mreturn\u001b[39;00m _legacy_load(\n\u001b[1;32m   1385\u001b[0m     opened_file, map_location, pickle_module, \u001b[39m*\u001b[39;49m\u001b[39m*\u001b[39;49mpickle_load_args\n\u001b[1;32m   1386\u001b[0m )\n",
      "File \u001b[0;32m~/anaconda3/envs/pearlenv/lib/python3.10/site-packages/torch/serialization.py:1638\u001b[0m, in \u001b[0;36m_legacy_load\u001b[0;34m(f, map_location, pickle_module, **pickle_load_args)\u001b[0m\n\u001b[1;32m   1636\u001b[0m unpickler \u001b[39m=\u001b[39m UnpicklerWrapper(f, \u001b[39m*\u001b[39m\u001b[39m*\u001b[39mpickle_load_args)\n\u001b[1;32m   1637\u001b[0m unpickler\u001b[39m.\u001b[39mpersistent_load \u001b[39m=\u001b[39m persistent_load\n\u001b[0;32m-> 1638\u001b[0m result \u001b[39m=\u001b[39m unpickler\u001b[39m.\u001b[39;49mload()\n\u001b[1;32m   1640\u001b[0m deserialized_storage_keys \u001b[39m=\u001b[39m pickle_module\u001b[39m.\u001b[39mload(f, \u001b[39m*\u001b[39m\u001b[39m*\u001b[39mpickle_load_args)\n\u001b[1;32m   1642\u001b[0m \u001b[39mif\u001b[39;00m torch\u001b[39m.\u001b[39m_guards\u001b[39m.\u001b[39mactive_fake_mode() \u001b[39mis\u001b[39;00m \u001b[39mNone\u001b[39;00m:\n",
      "File \u001b[0;32m~/anaconda3/envs/pearlenv/lib/python3.10/site-packages/torch/serialization.py:1566\u001b[0m, in \u001b[0;36m_legacy_load.<locals>.persistent_load\u001b[0;34m(saved_id)\u001b[0m\n\u001b[1;32m   1564\u001b[0m     obj \u001b[39m=\u001b[39m cast(Storage, torch\u001b[39m.\u001b[39mUntypedStorage(nbytes))\n\u001b[1;32m   1565\u001b[0m     obj\u001b[39m.\u001b[39m_torch_load_uninitialized \u001b[39m=\u001b[39m \u001b[39mTrue\u001b[39;00m\n\u001b[0;32m-> 1566\u001b[0m     obj \u001b[39m=\u001b[39m restore_location(obj, location)\n\u001b[1;32m   1567\u001b[0m \u001b[39m# TODO: Once we decide to break serialization FC, we can\u001b[39;00m\n\u001b[1;32m   1568\u001b[0m \u001b[39m# stop wrapping with TypedStorage\u001b[39;00m\n\u001b[1;32m   1569\u001b[0m typed_storage \u001b[39m=\u001b[39m torch\u001b[39m.\u001b[39mstorage\u001b[39m.\u001b[39mTypedStorage(\n\u001b[1;32m   1570\u001b[0m     wrap_storage\u001b[39m=\u001b[39mobj, dtype\u001b[39m=\u001b[39mdtype, _internal\u001b[39m=\u001b[39m\u001b[39mTrue\u001b[39;00m\n\u001b[1;32m   1571\u001b[0m )\n",
      "File \u001b[0;32m~/anaconda3/envs/pearlenv/lib/python3.10/site-packages/torch/serialization.py:601\u001b[0m, in \u001b[0;36mdefault_restore_location\u001b[0;34m(storage, location)\u001b[0m\n\u001b[1;32m    581\u001b[0m \u001b[39m\u001b[39m\u001b[39m\"\"\"\u001b[39;00m\n\u001b[1;32m    582\u001b[0m \u001b[39mRestores `storage` using a deserializer function registered for the `location`.\u001b[39;00m\n\u001b[1;32m    583\u001b[0m \n\u001b[0;32m   (...)\u001b[0m\n\u001b[1;32m    598\u001b[0m \u001b[39m       all matching ones return `None`.\u001b[39;00m\n\u001b[1;32m    599\u001b[0m \u001b[39m\"\"\"\u001b[39;00m\n\u001b[1;32m    600\u001b[0m \u001b[39mfor\u001b[39;00m _, _, fn \u001b[39min\u001b[39;00m _package_registry:\n\u001b[0;32m--> 601\u001b[0m     result \u001b[39m=\u001b[39m fn(storage, location)\n\u001b[1;32m    602\u001b[0m     \u001b[39mif\u001b[39;00m result \u001b[39mis\u001b[39;00m \u001b[39mnot\u001b[39;00m \u001b[39mNone\u001b[39;00m:\n\u001b[1;32m    603\u001b[0m         \u001b[39mreturn\u001b[39;00m result\n",
      "File \u001b[0;32m~/anaconda3/envs/pearlenv/lib/python3.10/site-packages/torch/serialization.py:539\u001b[0m, in \u001b[0;36m_deserialize\u001b[0;34m(backend_name, obj, location)\u001b[0m\n\u001b[1;32m    537\u001b[0m     backend_name \u001b[39m=\u001b[39m torch\u001b[39m.\u001b[39m_C\u001b[39m.\u001b[39m_get_privateuse1_backend_name()\n\u001b[1;32m    538\u001b[0m \u001b[39mif\u001b[39;00m location\u001b[39m.\u001b[39mstartswith(backend_name):\n\u001b[0;32m--> 539\u001b[0m     device \u001b[39m=\u001b[39m _validate_device(location, backend_name)\n\u001b[1;32m    540\u001b[0m     \u001b[39mreturn\u001b[39;00m obj\u001b[39m.\u001b[39mto(device\u001b[39m=\u001b[39mdevice)\n",
      "File \u001b[0;32m~/anaconda3/envs/pearlenv/lib/python3.10/site-packages/torch/serialization.py:508\u001b[0m, in \u001b[0;36m_validate_device\u001b[0;34m(location, backend_name)\u001b[0m\n\u001b[1;32m    506\u001b[0m     device_index \u001b[39m=\u001b[39m device\u001b[39m.\u001b[39mindex \u001b[39mif\u001b[39;00m device\u001b[39m.\u001b[39mindex \u001b[39melse\u001b[39;00m \u001b[39m0\u001b[39m\n\u001b[1;32m    507\u001b[0m \u001b[39mif\u001b[39;00m \u001b[39mhasattr\u001b[39m(device_module, \u001b[39m\"\u001b[39m\u001b[39mis_available\u001b[39m\u001b[39m\"\u001b[39m) \u001b[39mand\u001b[39;00m \u001b[39mnot\u001b[39;00m device_module\u001b[39m.\u001b[39mis_available():\n\u001b[0;32m--> 508\u001b[0m     \u001b[39mraise\u001b[39;00m \u001b[39mRuntimeError\u001b[39;00m(\n\u001b[1;32m    509\u001b[0m         \u001b[39mf\u001b[39m\u001b[39m\"\u001b[39m\u001b[39mAttempting to deserialize object on a \u001b[39m\u001b[39m{\u001b[39;00mbackend_name\u001b[39m.\u001b[39mupper()\u001b[39m}\u001b[39;00m\u001b[39m \u001b[39m\u001b[39m\"\u001b[39m\n\u001b[1;32m    510\u001b[0m         \u001b[39mf\u001b[39m\u001b[39m\"\u001b[39m\u001b[39mdevice but torch.\u001b[39m\u001b[39m{\u001b[39;00mbackend_name\u001b[39m}\u001b[39;00m\u001b[39m.is_available() is False. \u001b[39m\u001b[39m\"\u001b[39m\n\u001b[1;32m    511\u001b[0m         \u001b[39m\"\u001b[39m\u001b[39mIf you are running on a CPU-only machine, \u001b[39m\u001b[39m\"\u001b[39m\n\u001b[1;32m    512\u001b[0m         \u001b[39m\"\u001b[39m\u001b[39mplease use torch.load with map_location=torch.device(\u001b[39m\u001b[39m'\u001b[39m\u001b[39mcpu\u001b[39m\u001b[39m'\u001b[39m\u001b[39m) \u001b[39m\u001b[39m\"\u001b[39m\n\u001b[1;32m    513\u001b[0m         \u001b[39m\"\u001b[39m\u001b[39mto map your storages to the CPU.\u001b[39m\u001b[39m\"\u001b[39m\n\u001b[1;32m    514\u001b[0m     )\n\u001b[1;32m    515\u001b[0m \u001b[39mif\u001b[39;00m \u001b[39mhasattr\u001b[39m(device_module, \u001b[39m\"\u001b[39m\u001b[39mdevice_count\u001b[39m\u001b[39m\"\u001b[39m):\n\u001b[1;32m    516\u001b[0m     device_count \u001b[39m=\u001b[39m device_module\u001b[39m.\u001b[39mdevice_count()\n",
      "\u001b[0;31mRuntimeError\u001b[0m: Attempting to deserialize object on a CUDA device but torch.cuda.is_available() is False. If you are running on a CPU-only machine, please use torch.load with map_location=torch.device('cpu') to map your storages to the CPU."
     ]
    }
   ],
   "source": [
    "agent=torch.load(map_location=torch.device('cpu'),f='Agent/pearl_DOGEUSDTSPOT_model.pkl',)\n",
    "# torch.load()"
   ]
  },
  {
   "cell_type": "code",
   "execution_count": 4,
   "metadata": {},
   "outputs": [],
   "source": [
    "class MultiAssetTradingEnv():\n",
    "\n",
    "    def __init__(self,assets,time_frame,model,positions) -> None:\n",
    "        self.assets=assets\n",
    "        self.time_frame=time_frame\n",
    "        self.model=model\n",
    "        self.positions=positions\n",
    "        self.action_map=self.make_action_map()\n",
    "        self.env_map=self.make_env_map()\n",
    "    \n",
    "    def build_env_config(self,pair):\n",
    "\n",
    "        symbol =  pair.replace('/','')\n",
    "        context_length=max([sub_model.hparams['input_size'] for sub_model in self.model.models])\n",
    "\n",
    "\n",
    "        data=build_market_image(target_pair=pair,time_frame=time_frame,axis=0)\n",
    "        data=data[data['symbol']==symbol].copy()\n",
    "\n",
    "        forecasts,train_df=prep_forecasts(data,model=model)\n",
    "        env_config=dict(\n",
    "                        name=f'{symbol}_train',\n",
    "                        forecast_horizon=model.h,\n",
    "                        context_length=context_length,\n",
    "                        initial_position=0,\n",
    "                        reward_function=sharpe_reward,\n",
    "                        model=model,\n",
    "                        df = train_df, # Your dataset with your custom features\n",
    "                        positions = self.positions, # -1 (=SHORT), 0(=OUT), +1 (=LONG)\n",
    "                        trading_fees = 0.01/100, # 0.01% per stock buy / sell (Binance fees)\n",
    "                        borrow_interest_rate= 0.0003/100, # 0.0003% per timestep (one timestep = 1h here)\n",
    "                        max_episode_duration=168,\n",
    "                        verbose=0\n",
    "                        )\n",
    "        \n",
    "        return env_config\n",
    "    \n",
    "\n",
    "    def get_action_for_env(self,action):\n",
    "        action=self.action_map[action]\n",
    "        for symb,act_list in self.env_map.items():\n",
    "            if action in act_list:\n",
    "                env=self.env_map[symb]\n",
    "                break\n",
    "\n",
    "        return env,action\n",
    "        \n",
    "\n",
    "    def make_action_map(self):\n",
    "        action_map={}\n",
    "        action_id=0\n",
    "        for symbol in self.assets:\n",
    "            env_action_id=0\n",
    "            for p in positions:\n",
    "                action_map[action_id]=env_action_id\n",
    "                env_action_id+=1\n",
    "                action_id+=1\n",
    "\n",
    "        return action_map\n",
    "    \n",
    "    \n",
    "    def make_env_map(self)-> Dict:\n",
    "        env_map={}\n",
    "        for symbol in self.assets:\n",
    "            config= self.build_env_config(symbol)\n",
    "            env=NeuralForecastingTradingEnv(config)\n",
    "            env_map[symbol]=env\n",
    "        \n",
    "        return env_map\n"
   ]
  },
  {
   "cell_type": "code",
   "execution_count": 5,
   "metadata": {},
   "outputs": [],
   "source": [
    "self=MultiAssetTradingEnv(\n",
    "    assets=COIN_PAIRS,\n",
    "    time_frame=time_frame,\n",
    "    model=model,\n",
    "    positions=positions\n",
    "\n",
    "    )"
   ]
  },
  {
   "cell_type": "code",
   "execution_count": 12,
   "metadata": {},
   "outputs": [],
   "source": [
    "# self.build_config(COIN_PAIRS[0])"
   ]
  },
  {
   "cell_type": "code",
   "execution_count": 7,
   "metadata": {},
   "outputs": [
    {
     "ename": "UserWarning",
     "evalue": "Predict insample might not provide accurate predictions for                        recurrent model AutoLSTM class yet due to scaling.",
     "output_type": "error",
     "traceback": [
      "\u001b[0;31m---------------------------------------------------------------------------\u001b[0m",
      "\u001b[0;31mUserWarning\u001b[0m                               Traceback (most recent call last)",
      "\u001b[1;32m/Users/sebastiancoombs/Documents/Git/MultiTrader/Develop.ipynb Cell 7\u001b[0m line \u001b[0;36m4\n\u001b[1;32m      <a href='vscode-notebook-cell:/Users/sebastiancoombs/Documents/Git/MultiTrader/Develop.ipynb#W6sZmlsZQ%3D%3D?line=1'>2</a>\u001b[0m symbol\u001b[39m=\u001b[39m\u001b[39m'\u001b[39m\u001b[39mETHUSD\u001b[39m\u001b[39m'\u001b[39m\n\u001b[1;32m      <a href='vscode-notebook-cell:/Users/sebastiancoombs/Documents/Git/MultiTrader/Develop.ipynb#W6sZmlsZQ%3D%3D?line=2'>3</a>\u001b[0m \u001b[39mfor\u001b[39;00m pair \u001b[39min\u001b[39;00m COIN_PAIRS:\n\u001b[0;32m----> <a href='vscode-notebook-cell:/Users/sebastiancoombs/Documents/Git/MultiTrader/Develop.ipynb#W6sZmlsZQ%3D%3D?line=3'>4</a>\u001b[0m     env_config\u001b[39m=\u001b[39m\u001b[39mself\u001b[39;49m\u001b[39m.\u001b[39;49mbuild_config(pair\u001b[39m=\u001b[39;49mpair,)\n\u001b[1;32m      <a href='vscode-notebook-cell:/Users/sebastiancoombs/Documents/Git/MultiTrader/Develop.ipynb#W6sZmlsZQ%3D%3D?line=4'>5</a>\u001b[0m     train_env\u001b[39m=\u001b[39mNeuralForecastingTradingEnv(env_config)\n\u001b[1;32m      <a href='vscode-notebook-cell:/Users/sebastiancoombs/Documents/Git/MultiTrader/Develop.ipynb#W6sZmlsZQ%3D%3D?line=5'>6</a>\u001b[0m     base_envs[symbol]\u001b[39m=\u001b[39mtrain_env\n",
      "\u001b[1;32m/Users/sebastiancoombs/Documents/Git/MultiTrader/Develop.ipynb Cell 7\u001b[0m line \u001b[0;36m1\n\u001b[1;32m     <a href='vscode-notebook-cell:/Users/sebastiancoombs/Documents/Git/MultiTrader/Develop.ipynb#W6sZmlsZQ%3D%3D?line=14'>15</a>\u001b[0m data\u001b[39m=\u001b[39mbuild_market_image(target_pair\u001b[39m=\u001b[39mpair,time_frame\u001b[39m=\u001b[39mtime_frame,axis\u001b[39m=\u001b[39m\u001b[39m0\u001b[39m)\n\u001b[1;32m     <a href='vscode-notebook-cell:/Users/sebastiancoombs/Documents/Git/MultiTrader/Develop.ipynb#W6sZmlsZQ%3D%3D?line=15'>16</a>\u001b[0m data\u001b[39m=\u001b[39mdata[data[\u001b[39m'\u001b[39m\u001b[39msymbol\u001b[39m\u001b[39m'\u001b[39m]\u001b[39m==\u001b[39msymbol]\u001b[39m.\u001b[39mcopy()\n\u001b[0;32m---> <a href='vscode-notebook-cell:/Users/sebastiancoombs/Documents/Git/MultiTrader/Develop.ipynb#W6sZmlsZQ%3D%3D?line=17'>18</a>\u001b[0m forecasts,train_df\u001b[39m=\u001b[39mprep_forecasts(data,model\u001b[39m=\u001b[39;49mmodel)\n\u001b[1;32m     <a href='vscode-notebook-cell:/Users/sebastiancoombs/Documents/Git/MultiTrader/Develop.ipynb#W6sZmlsZQ%3D%3D?line=18'>19</a>\u001b[0m env_config\u001b[39m=\u001b[39m\u001b[39mdict\u001b[39m(\n\u001b[1;32m     <a href='vscode-notebook-cell:/Users/sebastiancoombs/Documents/Git/MultiTrader/Develop.ipynb#W6sZmlsZQ%3D%3D?line=19'>20</a>\u001b[0m                 name\u001b[39m=\u001b[39m\u001b[39mf\u001b[39m\u001b[39m'\u001b[39m\u001b[39m{\u001b[39;00msymbol\u001b[39m}\u001b[39;00m\u001b[39m_train\u001b[39m\u001b[39m'\u001b[39m,\n\u001b[1;32m     <a href='vscode-notebook-cell:/Users/sebastiancoombs/Documents/Git/MultiTrader/Develop.ipynb#W6sZmlsZQ%3D%3D?line=20'>21</a>\u001b[0m                 forecast_horizon\u001b[39m=\u001b[39mmodel\u001b[39m.\u001b[39mh,\n\u001b[0;32m   (...)\u001b[0m\n\u001b[1;32m     <a href='vscode-notebook-cell:/Users/sebastiancoombs/Documents/Git/MultiTrader/Develop.ipynb#W6sZmlsZQ%3D%3D?line=30'>31</a>\u001b[0m                 verbose\u001b[39m=\u001b[39m\u001b[39m0\u001b[39m\n\u001b[1;32m     <a href='vscode-notebook-cell:/Users/sebastiancoombs/Documents/Git/MultiTrader/Develop.ipynb#W6sZmlsZQ%3D%3D?line=31'>32</a>\u001b[0m                 )\n\u001b[1;32m     <a href='vscode-notebook-cell:/Users/sebastiancoombs/Documents/Git/MultiTrader/Develop.ipynb#W6sZmlsZQ%3D%3D?line=32'>33</a>\u001b[0m \u001b[39mreturn\u001b[39;00m env_config\n",
      "File \u001b[0;32m~/Documents/Git/MultiTrader/utils/utils.py:153\u001b[0m, in \u001b[0;36mprep_forecasts\u001b[0;34m(df, model)\u001b[0m\n\u001b[1;32m    144\u001b[0m \u001b[39m# print(self.df.columns)\u001b[39;00m\n\u001b[1;32m    146\u001b[0m model\u001b[39m.\u001b[39mdataset, model\u001b[39m.\u001b[39muids, model\u001b[39m.\u001b[39mlast_dates, model\u001b[39m.\u001b[39mds\u001b[39m=\u001b[39mmodel\u001b[39m.\u001b[39m_prepare_fit(df[[\u001b[39m'\u001b[39m\u001b[39mds\u001b[39m\u001b[39m'\u001b[39m,\u001b[39m'\u001b[39m\u001b[39munique_id\u001b[39m\u001b[39m'\u001b[39m,\u001b[39m'\u001b[39m\u001b[39my\u001b[39m\u001b[39m'\u001b[39m]],\n\u001b[1;32m    147\u001b[0m                                                                                     static_df\u001b[39m=\u001b[39m\u001b[39mNone\u001b[39;00m, \n\u001b[1;32m    148\u001b[0m                                                                                     sort_df\u001b[39m=\u001b[39m\u001b[39mNone\u001b[39;00m,\n\u001b[0;32m   (...)\u001b[0m\n\u001b[1;32m    151\u001b[0m                                                                                     time_col\u001b[39m=\u001b[39m\u001b[39m'\u001b[39m\u001b[39mds\u001b[39m\u001b[39m'\u001b[39m, \n\u001b[1;32m    152\u001b[0m                                                                                     target_col\u001b[39m=\u001b[39m\u001b[39m'\u001b[39m\u001b[39my\u001b[39m\u001b[39m'\u001b[39m)\n\u001b[0;32m--> 153\u001b[0m forecasts\u001b[39m=\u001b[39mmodel\u001b[39m.\u001b[39;49mpredict_insample()\n\u001b[1;32m    154\u001b[0m forecasts_series\u001b[39m=\u001b[39mforecasts\u001b[39m.\u001b[39mgroupby(\u001b[39m'\u001b[39m\u001b[39mcutoff\u001b[39m\u001b[39m'\u001b[39m)\u001b[39m.\u001b[39mapply(\u001b[39mlambda\u001b[39;00m x: x\u001b[39m.\u001b[39mselect_dtypes(np\u001b[39m.\u001b[39mnumber)\u001b[39m.\u001b[39mvalues\u001b[39m.\u001b[39mflatten())\n\u001b[1;32m    155\u001b[0m new_df\u001b[39m=\u001b[39mdf[df[\u001b[39m'\u001b[39m\u001b[39mds\u001b[39m\u001b[39m'\u001b[39m]\u001b[39m.\u001b[39misin([c \u001b[39mfor\u001b[39;00m c \u001b[39min\u001b[39;00m forecasts_series\u001b[39m.\u001b[39mindex])]\n",
      "File \u001b[0;32m~/anaconda3/envs/agent_env/lib/python3.10/site-packages/neuralforecast/core.py:1108\u001b[0m, in \u001b[0;36mNeuralForecast.predict_insample\u001b[0;34m(self, step_size)\u001b[0m\n\u001b[1;32m   1106\u001b[0m \u001b[39mfor\u001b[39;00m model \u001b[39min\u001b[39;00m \u001b[39mself\u001b[39m\u001b[39m.\u001b[39mmodels:\n\u001b[1;32m   1107\u001b[0m     \u001b[39mif\u001b[39;00m model\u001b[39m.\u001b[39mSAMPLING_TYPE \u001b[39m==\u001b[39m \u001b[39m\"\u001b[39m\u001b[39mrecurrent\u001b[39m\u001b[39m\"\u001b[39m:\n\u001b[0;32m-> 1108\u001b[0m         warnings\u001b[39m.\u001b[39;49mwarn(\n\u001b[1;32m   1109\u001b[0m             \u001b[39mf\u001b[39;49m\u001b[39m\"\u001b[39;49m\u001b[39mPredict insample might not provide accurate predictions for \u001b[39;49m\u001b[39m\\\u001b[39;49;00m\n\u001b[1;32m   1110\u001b[0m \u001b[39m               recurrent model \u001b[39;49m\u001b[39m{\u001b[39;49;00m\u001b[39mrepr\u001b[39;49m(model)\u001b[39m}\u001b[39;49;00m\u001b[39m class yet due to scaling.\u001b[39;49m\u001b[39m\"\u001b[39;49m\n\u001b[1;32m   1111\u001b[0m         )\n\u001b[1;32m   1112\u001b[0m         \u001b[39mprint\u001b[39m(\n\u001b[1;32m   1113\u001b[0m             \u001b[39mf\u001b[39m\u001b[39m\"\u001b[39m\u001b[39mWARNING: Predict insample might not provide accurate predictions for \u001b[39m\u001b[39m\\\u001b[39;00m\n\u001b[1;32m   1114\u001b[0m \u001b[39m              recurrent model \u001b[39m\u001b[39m{\u001b[39;00m\u001b[39mrepr\u001b[39m(model)\u001b[39m}\u001b[39;00m\u001b[39m class yet due to scaling.\u001b[39m\u001b[39m\"\u001b[39m\n\u001b[1;32m   1115\u001b[0m         )\n\u001b[1;32m   1117\u001b[0m cols \u001b[39m=\u001b[39m []\n",
      "\u001b[0;31mUserWarning\u001b[0m: Predict insample might not provide accurate predictions for                        recurrent model AutoLSTM class yet due to scaling."
     ]
    }
   ],
   "source": [
    "base_envs={}\n",
    "symbol='ETHUSD'\n",
    "for pair in COIN_PAIRS:\n",
    "    env_config=self.build_config(pair=pair,)\n",
    "    train_env=NeuralForecastingTradingEnv(env_config)\n",
    "    base_envs[symbol]=train_env\n",
    "\n",
    "\n",
    "base_envs"
   ]
  },
  {
   "cell_type": "code",
   "execution_count": 10,
   "metadata": {},
   "outputs": [
    {
     "data": {
      "text/plain": [
       "{'BTC/USDT': [0, 1, 2, 3, 4],\n",
       " 'ETH/USDT': [5, 6, 7, 8, 9],\n",
       " 'SOL/USDT': [10, 11, 12, 13, 14],\n",
       " 'BNB/USDT': [15, 16, 17, 18, 19],\n",
       " 'XRP/USDT': [20, 21, 22, 23, 24],\n",
       " 'ADA/USDT': [25, 26, 27, 28, 29]}"
      ]
     },
     "execution_count": 10,
     "metadata": {},
     "output_type": "execute_result"
    }
   ],
   "source": [
    "env_map={}\n",
    "action_id=0\n",
    "for symbol in COIN_PAIRS:\n",
    "    env_map[symbol]=[]\n",
    "    env_action_id=0\n",
    "\n",
    "    for p in positions:\n",
    "        env_map[symbol].append(action_id)\n",
    "        env_action_id+=1\n",
    "        action_id+=1\n",
    "\n",
    "env_map"
   ]
  },
  {
   "cell_type": "code",
   "execution_count": 8,
   "metadata": {},
   "outputs": [
    {
     "data": {
      "text/plain": [
       "{0: 0,\n",
       " 1: 1,\n",
       " 2: 2,\n",
       " 3: 3,\n",
       " 4: 4,\n",
       " 5: 0,\n",
       " 6: 1,\n",
       " 7: 2,\n",
       " 8: 3,\n",
       " 9: 4,\n",
       " 10: 0,\n",
       " 11: 1,\n",
       " 12: 2,\n",
       " 13: 3,\n",
       " 14: 4,\n",
       " 15: 0,\n",
       " 16: 1,\n",
       " 17: 2,\n",
       " 18: 3,\n",
       " 19: 4,\n",
       " 20: 0,\n",
       " 21: 1,\n",
       " 22: 2,\n",
       " 23: 3,\n",
       " 24: 4,\n",
       " 25: 0,\n",
       " 26: 1,\n",
       " 27: 2,\n",
       " 28: 3,\n",
       " 29: 4}"
      ]
     },
     "execution_count": 8,
     "metadata": {},
     "output_type": "execute_result"
    }
   ],
   "source": [
    "action_map={}\n",
    "action_id=0\n",
    "for symbol in COIN_PAIRS:\n",
    "    env_action_id=0\n",
    "    for p in positions:\n",
    "        action_map[action_id]=env_action_id\n",
    "        env_action_id+=1\n",
    "        action_id+=1\n",
    "\n",
    "action_map"
   ]
  },
  {
   "cell_type": "code",
   "execution_count": null,
   "metadata": {},
   "outputs": [],
   "source": []
  }
 ],
 "metadata": {
  "kernelspec": {
   "display_name": "base",
   "language": "python",
   "name": "python3"
  },
  "language_info": {
   "codemirror_mode": {
    "name": "ipython",
    "version": 3
   },
   "file_extension": ".py",
   "mimetype": "text/x-python",
   "name": "python",
   "nbconvert_exporter": "python",
   "pygments_lexer": "ipython3",
   "version": "3.10.13"
  }
 },
 "nbformat": 4,
 "nbformat_minor": 2
}
