{
 "cells": [
  {
   "cell_type": "code",
   "execution_count": 4,
   "metadata": {},
   "outputs": [],
   "source": [
    "from gym_trading_env.downloader import download\n",
    "import datetime\n",
    "import pandas as pd\n",
    "import glob\n",
    "import numpy as np\n",
    "import gymnasium as gym\n",
    "import gym_trading_env\n",
    "import torch"
   ]
  },
  {
   "cell_type": "code",
   "execution_count": 49,
   "metadata": {},
   "outputs": [],
   "source": [
    "COIN_PAIRS=['BTC/USDT','ETH/USDT','SOL/USDT','BNB/USDT','XRP/USDT','ADA/USDT']"
   ]
  },
  {
   "cell_type": "code",
   "execution_count": 50,
   "metadata": {},
   "outputs": [],
   "source": [
    "# download(exchange_names = [\"binance\"],\n",
    "#     symbols= COIN_PAIRS,\n",
    "#     timeframe= \"1h\",\n",
    "#     dir = \"data\",\n",
    "#     since= datetime.datetime(year= 2023, month= 1, day=1),\n",
    "# )"
   ]
  },
  {
   "cell_type": "code",
   "execution_count": 37,
   "metadata": {},
   "outputs": [],
   "source": [
    "\n",
    "# returns=[2,5,10,15,20,25,30]\n",
    "files=glob.glob('data/**.pkl',)\n",
    "\n",
    "# dates=[]\n",
    "# for file in files:\n",
    "#     data=pd.read_pickle(file)\n",
    "#     for r in returns:\n",
    "#         data[f'feature_log_return_{r}'] = np.log(1 + data.close.pct_change(r)+1e-15)\n",
    "#         data[f'feature_log_volume_{r}'] = np.log(1 + data.volume.pct_change(r)+1e-15)\n",
    "#         data = data.replace((np.inf, -np.inf,np.nan), 0)\n",
    "#         data[f'feature_log_return_{r}']=data[f'feature_log_return_{r}'].values/np.linalg.norm(data[f'feature_log_return_{r}'].values)#.rolling(window=96).apply(compute_z)\n",
    "#         data[f'feature_log_volume_{r}']=data[f'feature_log_volume_{r}'].values/np.linalg.norm(data[f'feature_log_volume_{r}'].values)#.rolling(window=96).apply(compute_z)\n",
    "#     dates.append(data.reset_index()[['date_open']].rename(columns={'date_open':file.split('-')[1]}))\n",
    "#     data = data.replace((np.inf, -np.inf), np.nan)\n",
    "#     data=data.to_pickle(file)"
   ]
  },
  {
   "cell_type": "code",
   "execution_count": 53,
   "metadata": {},
   "outputs": [],
   "source": [
    "def dynamic_feature_last_position_taken(history):\n",
    "    return history['position', -1]\n",
    "\n",
    "def dynamic_feature_real_position(history):\n",
    "    return history['real_position', -1]"
   ]
  },
  {
   "cell_type": "code",
   "execution_count": 54,
   "metadata": {},
   "outputs": [],
   "source": [
    "train_envs={}\n",
    "test_envs={}\n",
    "start_date=datetime.datetime(year= 2023, month= 9, day=1)\n",
    "split_date=start_date+datetime.timedelta(days=7)\n",
    "end_date=split_date+datetime.timedelta(days=7)\n",
    "\n",
    "for file in files:\n",
    "    data=pd.read_pickle(file)\n",
    "    name=file.split('-')[1]\n",
    "    train_data=data[start_date:split_date]\n",
    "    train_envs[name] = gym.make(\"TradingEnv\",\n",
    "            name=name,\n",
    "            df = train_data, # Your dataset with your custom features\n",
    "            positions = [ -1, 0, 1], # -1 (=SHORT), 0(=OUT), +1 (=LONG)\n",
    "            trading_fees = 0.01/100, # 0.01% per stock buy / sell (Binance fees)\n",
    "            borrow_interest_rate= 0.0003/100, # 0.0003% per timestep (one timestep = 1h here)\n",
    "            dynamic_feature_functions = [dynamic_feature_last_position_taken, dynamic_feature_real_position],\n",
    "        )\n",
    "    \n",
    "    test_data=data[split_date:end_date]\n",
    "    test_envs[name] = gym.make(\"TradingEnv\",\n",
    "            name=name,\n",
    "            df = test_data, # Your dataset with your custom features\n",
    "            positions = [ -.25, 0, .25], # -1 (=SHORT), 0(=OUT), +1 (=LONG)\n",
    "            trading_fees = 0.01/100, # 0.01% per stock buy / sell (Binance fees)\n",
    "            borrow_interest_rate= 0.0003/100, # 0.0003% per timestep (one timestep = 1h here)\n",
    "            dynamic_feature_functions = [dynamic_feature_last_position_taken, dynamic_feature_real_position],\n",
    "        )"
   ]
  },
  {
   "cell_type": "code",
   "execution_count": 55,
   "metadata": {},
   "outputs": [],
   "source": [
    "env=train_envs['BTCUSDT']"
   ]
  },
  {
   "cell_type": "code",
   "execution_count": 64,
   "metadata": {},
   "outputs": [
    {
     "data": {
      "text/plain": [
       "{'idx': 5,\n",
       " 'step': 5,\n",
       " 'date': numpy.datetime64('2023-09-01T05:00:00.000000000'),\n",
       " 'position_index': 2,\n",
       " 'position': 1,\n",
       " 'real_position': 0.9999970006798082,\n",
       " 'data_close': 26027.27,\n",
       " 'data_low': 26025.4,\n",
       " 'data_date_close': Timestamp('2023-09-01 06:00:00'),\n",
       " 'data_high': 26057.54,\n",
       " 'data_open': 26044.46,\n",
       " 'data_volume': 557.51426,\n",
       " 'portfolio_valuation': 1004.5350526213272,\n",
       " 'portfolio_distribution_asset': 0.03859536707841662,\n",
       " 'portfolio_distribution_fiat': 0.0030129222666346323,\n",
       " 'portfolio_distribution_borrowed_asset': 0,\n",
       " 'portfolio_distribution_borrowed_fiat': 0,\n",
       " 'portfolio_distribution_interest_asset': 0.0,\n",
       " 'portfolio_distribution_interest_fiat': 0.0,\n",
       " 'reward': -0.0008571554522183696}"
      ]
     },
     "execution_count": 64,
     "metadata": {},
     "output_type": "execute_result"
    }
   ],
   "source": [
    "obs=env.reset()\n",
    "# env.action_space.sa\n",
    "for i in range(5):\n",
    "    act=env.action_space.sample()\n",
    "    obs, rew, dun,trunc, info=env.step(act)\n",
    "info"
   ]
  },
  {
   "cell_type": "code",
   "execution_count": null,
   "metadata": {},
   "outputs": [],
   "source": [
    "class multiTradeEnv():\n",
    "    def __init__(self,\n",
    "                 pairs=[],\n",
    "                 data_dict={},\n",
    "                 positions=[-1,0,1],\n",
    "\n",
    "                 ):\n",
    "        self.envs={}\n",
    "        self.pairs=pairs\n",
    "        n_pairs=len(pairs)\n",
    "\n",
    "        for name,data in data_dict.items():\n",
    "            self.envs[name]=self.make_env(name,data,positions=positions)\n",
    "        \n",
    "        self.action_space=NotImplemented\n",
    "        self.observation_space=NotImplemented\n",
    "\n",
    "\n",
    "        def step(self,action):\n",
    "            action=action/len(action)## normalize actions by the total so they are percentages of the total portfolio\n",
    "            observations=[]\n",
    "            rewards=[]\n",
    "            dones=[]\n",
    "            truncateds=[]\n",
    "            infos={}\n",
    "            for name,act in zip(action,self.pairs):\n",
    "                obs, rew, dun,trunc, info=self.envs[name].step(act)\n",
    "                observations.append(obs)\n",
    "                rewards.append(rew)\n",
    "                dones.append(dun)\n",
    "                truncateds.append(trunc)\n",
    "                for i in info.keys():\n",
    "                    infos[f'{name}_{i}']=info[i]\n",
    "            \n",
    "            observation=np.array(observations).flatten()\n",
    "            reward=sum(rewards)\n",
    "            done=any(done)\n",
    "            truncated=any(truncateds)\n",
    "            return observation,reward,done,truncated,infos\n",
    "        \n",
    "\n",
    "\n",
    "        def reset(self):\n",
    "            observations=[]\n",
    "            for name,env in self.envs.items():\n",
    "                obs=env.reset()\n",
    "                observations.append(obs)\n",
    "\n",
    "            observation=np.array(observations).flatten()\n",
    "            return observation\n",
    "\n",
    "        def make_env(self,name,data,positions=positions):\n",
    "            env=gym.make(\"TradingEnv\",\n",
    "                name=name,\n",
    "                df = data, # Your dataset with your custom features\n",
    "                positions = [ -1, 0, 1], # -1 (=SHORT), 0(=OUT), +1 (=LONG)\n",
    "                trading_fees = 0.01/100, # 0.01% per stock buy / sell (Binance fees)\n",
    "                borrow_interest_rate= 0.0003/100, # 0.0003% per timestep (one timestep = 1h here)\n",
    "                dynamic_feature_functions = [self.dynamic_feature_last_position_taken,self.dynamic_feature_real_position],\n",
    "            )\n",
    "            return env\n",
    "    \n",
    "    def dynamic_feature_last_position_taken(self,history):\n",
    "        return history['position', -1]\n",
    "\n",
    "    def dynamic_feature_real_position(self,history):\n",
    "        return history['real_position', -1]"
   ]
  },
  {
   "cell_type": "code",
   "execution_count": null,
   "metadata": {},
   "outputs": [],
   "source": []
  }
 ],
 "metadata": {
  "kernelspec": {
   "display_name": "base",
   "language": "python",
   "name": "python3"
  },
  "language_info": {
   "codemirror_mode": {
    "name": "ipython",
    "version": 3
   },
   "file_extension": ".py",
   "mimetype": "text/x-python",
   "name": "python",
   "nbconvert_exporter": "python",
   "pygments_lexer": "ipython3",
   "version": "3.11.5"
  }
 },
 "nbformat": 4,
 "nbformat_minor": 2
}
