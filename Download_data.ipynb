{
 "cells": [
  {
   "cell_type": "code",
   "execution_count": 1,
   "metadata": {},
   "outputs": [],
   "source": [
    "import warnings\n",
    "# warnings.filterwarnings(\"ignore\")"
   ]
  },
  {
   "cell_type": "code",
   "execution_count": 7,
   "metadata": {},
   "outputs": [],
   "source": [
    "import datetime\n",
    "import glob\n",
    "from functools import lru_cache, partial\n",
    "from pprint import pprint\n",
    "import ray\n",
    "\n",
    "import gym_trading_env\n",
    "import gymnasium as gym\n",
    "import matplotlib.pyplot as plt\n",
    "import MultiTrade\n",
    "import numpy as np\n",
    "import pandas as pd\n",
    "import torch\n",
    "from gym_trading_env.downloader import download, EXCHANGE_LIMIT_RATES\n",
    "from gym_trading_env.environments import TradingEnv\n",
    "from gym_trading_env.renderer import Renderer\n",
    "from IPython.display import display\n",
    "from ray import train, tune\n",
    "from tqdm.autonotebook import tqdm\n",
    "from utils.utils import build_dataset, build_market_image,preprocess_data,stack_arrays\n",
    "from utils.forecast_utils import create_ts_preprocessor,create_ts_dataset\n",
    "\n",
    "import datetime\n"
   ]
  },
  {
   "cell_type": "code",
   "execution_count": 12,
   "metadata": {},
   "outputs": [],
   "source": [
    "\n",
    "EXCHANGE_LIMIT_RATES[\"binanceus\"] = {\n",
    "    \"limit\" : 200, # One request will query 200 data points (aka candlesticks).\n",
    "    \"pause_every\" : 120, # it will pause every 120 requests.\n",
    "    \"pause\" : 2, # the pause will last 2 seconds.\n",
    "}\n",
    "\n",
    "import warnings\n",
    "warnings.filterwarnings('ignore')\n",
    "warnings.simplefilter('ignore')\n"
   ]
  },
  {
   "cell_type": "code",
   "execution_count": null,
   "metadata": {},
   "outputs": [],
   "source": []
  },
  {
   "cell_type": "code",
   "execution_count": 13,
   "metadata": {},
   "outputs": [],
   "source": [
    "COIN_PAIRS=['BTC/USDT','ETH/USDT','SOL/USDT','BNB/USDT','XRP/USDT','ADA/USDT',\n",
    "            'ETH/BTC','SOL/ETH',\n",
    "            ]\n",
    "target_pair='ETHUSDT'\n",
    "time_frame=\"1h\""
   ]
  },
  {
   "cell_type": "code",
   "execution_count": 14,
   "metadata": {},
   "outputs": [
    {
     "data": {
      "application/vnd.jupyter.widget-view+json": {
       "model_id": "476b30b246d149e1bbfefc38d265324f",
       "version_major": 2,
       "version_minor": 0
      },
      "text/plain": [
       "  0%|          | 0/17 [00:00<?, ?it/s]"
      ]
     },
     "metadata": {},
     "output_type": "display_data"
    },
    {
     "name": "stdout",
     "output_type": "stream",
     "text": [
      "BTC/USDT downloaded from binanceus and stored at data/binanceus-BTCUSDT-1h.pkl\n",
      "ETH/USDT downloaded from binanceus and stored at data/binanceus-ETHUSDT-1h.pkl\n",
      "SOL/USDT downloaded from binanceus and stored at data/binanceus-SOLUSDT-1h.pkl\n",
      "BNB/USDT downloaded from binanceus and stored at data/binanceus-BNBUSDT-1h.pkl\n",
      "XRP/USDT downloaded from binanceus and stored at data/binanceus-XRPUSDT-1h.pkl\n",
      "ADA/USDT downloaded from binanceus and stored at data/binanceus-ADAUSDT-1h.pkl\n",
      "ETH/BTC downloaded from binanceus and stored at data/binanceus-ETHBTC-1h.pkl\n",
      "SOL/ETH downloaded from binanceus and stored at data/binanceus-SOLETH-1h.pkl\n"
     ]
    },
    {
     "ename": "BadSymbol",
     "evalue": "binanceus does not have market symbol BNB/ETH",
     "output_type": "error",
     "traceback": [
      "\u001b[0;31m---------------------------------------------------------------------------\u001b[0m",
      "\u001b[0;31mBadSymbol\u001b[0m                                 Traceback (most recent call last)",
      "\u001b[1;32m/Users/sebastiancoombs/Documents/Git/MultiTrader/Download_data.ipynb Cell 6\u001b[0m line \u001b[0;36m1\n\u001b[0;32m----> <a href='vscode-notebook-cell:/Users/sebastiancoombs/Documents/Git/MultiTrader/Download_data.ipynb#W5sZmlsZQ%3D%3D?line=0'>1</a>\u001b[0m download(exchange_names \u001b[39m=\u001b[39;49m [\u001b[39m\"\u001b[39;49m\u001b[39mbinanceus\u001b[39;49m\u001b[39m\"\u001b[39;49m],\n\u001b[1;32m      <a href='vscode-notebook-cell:/Users/sebastiancoombs/Documents/Git/MultiTrader/Download_data.ipynb#W5sZmlsZQ%3D%3D?line=1'>2</a>\u001b[0m     symbols\u001b[39m=\u001b[39;49m tqdm(COIN_PAIRS),\n\u001b[1;32m      <a href='vscode-notebook-cell:/Users/sebastiancoombs/Documents/Git/MultiTrader/Download_data.ipynb#W5sZmlsZQ%3D%3D?line=2'>3</a>\u001b[0m     timeframe\u001b[39m=\u001b[39;49m time_frame,\n\u001b[1;32m      <a href='vscode-notebook-cell:/Users/sebastiancoombs/Documents/Git/MultiTrader/Download_data.ipynb#W5sZmlsZQ%3D%3D?line=3'>4</a>\u001b[0m     \u001b[39mdir\u001b[39;49m \u001b[39m=\u001b[39;49m \u001b[39m\"\u001b[39;49m\u001b[39mdata\u001b[39;49m\u001b[39m\"\u001b[39;49m,\n\u001b[1;32m      <a href='vscode-notebook-cell:/Users/sebastiancoombs/Documents/Git/MultiTrader/Download_data.ipynb#W5sZmlsZQ%3D%3D?line=4'>5</a>\u001b[0m     since\u001b[39m=\u001b[39;49m datetime\u001b[39m.\u001b[39;49mdatetime(year\u001b[39m=\u001b[39;49m \u001b[39m2022\u001b[39;49m, month\u001b[39m=\u001b[39;49m \u001b[39m1\u001b[39;49m, day\u001b[39m=\u001b[39;49m\u001b[39m1\u001b[39;49m),\n\u001b[1;32m      <a href='vscode-notebook-cell:/Users/sebastiancoombs/Documents/Git/MultiTrader/Download_data.ipynb#W5sZmlsZQ%3D%3D?line=5'>6</a>\u001b[0m )\n",
      "File \u001b[0;32m~/anaconda3/envs/agent_env/lib/python3.10/site-packages/gym_trading_env/downloader.py:86\u001b[0m, in \u001b[0;36mdownload\u001b[0;34m(*args, **kwargs)\u001b[0m\n\u001b[1;32m     84\u001b[0m \u001b[39mdef\u001b[39;00m \u001b[39mdownload\u001b[39m(\u001b[39m*\u001b[39margs, \u001b[39m*\u001b[39m\u001b[39m*\u001b[39mkwargs):\n\u001b[1;32m     85\u001b[0m     loop \u001b[39m=\u001b[39m asyncio\u001b[39m.\u001b[39mget_event_loop()\n\u001b[0;32m---> 86\u001b[0m     loop\u001b[39m.\u001b[39;49mrun_until_complete(\n\u001b[1;32m     87\u001b[0m         _download(\u001b[39m*\u001b[39;49margs, \u001b[39m*\u001b[39;49m\u001b[39m*\u001b[39;49mkwargs)\n\u001b[1;32m     88\u001b[0m     )\n",
      "File \u001b[0;32m~/anaconda3/envs/agent_env/lib/python3.10/site-packages/nest_asyncio.py:98\u001b[0m, in \u001b[0;36m_patch_loop.<locals>.run_until_complete\u001b[0;34m(self, future)\u001b[0m\n\u001b[1;32m     95\u001b[0m \u001b[39mif\u001b[39;00m \u001b[39mnot\u001b[39;00m f\u001b[39m.\u001b[39mdone():\n\u001b[1;32m     96\u001b[0m     \u001b[39mraise\u001b[39;00m \u001b[39mRuntimeError\u001b[39;00m(\n\u001b[1;32m     97\u001b[0m         \u001b[39m'\u001b[39m\u001b[39mEvent loop stopped before Future completed.\u001b[39m\u001b[39m'\u001b[39m)\n\u001b[0;32m---> 98\u001b[0m \u001b[39mreturn\u001b[39;00m f\u001b[39m.\u001b[39;49mresult()\n",
      "File \u001b[0;32m~/anaconda3/envs/agent_env/lib/python3.10/asyncio/futures.py:201\u001b[0m, in \u001b[0;36mFuture.result\u001b[0;34m(self)\u001b[0m\n\u001b[1;32m    199\u001b[0m \u001b[39mself\u001b[39m\u001b[39m.\u001b[39m__log_traceback \u001b[39m=\u001b[39m \u001b[39mFalse\u001b[39;00m\n\u001b[1;32m    200\u001b[0m \u001b[39mif\u001b[39;00m \u001b[39mself\u001b[39m\u001b[39m.\u001b[39m_exception \u001b[39mis\u001b[39;00m \u001b[39mnot\u001b[39;00m \u001b[39mNone\u001b[39;00m:\n\u001b[0;32m--> 201\u001b[0m     \u001b[39mraise\u001b[39;00m \u001b[39mself\u001b[39m\u001b[39m.\u001b[39m_exception\u001b[39m.\u001b[39mwith_traceback(\u001b[39mself\u001b[39m\u001b[39m.\u001b[39m_exception_tb)\n\u001b[1;32m    202\u001b[0m \u001b[39mreturn\u001b[39;00m \u001b[39mself\u001b[39m\u001b[39m.\u001b[39m_result\n",
      "File \u001b[0;32m~/anaconda3/envs/agent_env/lib/python3.10/asyncio/tasks.py:234\u001b[0m, in \u001b[0;36mTask.__step\u001b[0;34m(***failed resolving arguments***)\u001b[0m\n\u001b[1;32m    232\u001b[0m         result \u001b[39m=\u001b[39m coro\u001b[39m.\u001b[39msend(\u001b[39mNone\u001b[39;00m)\n\u001b[1;32m    233\u001b[0m     \u001b[39melse\u001b[39;00m:\n\u001b[0;32m--> 234\u001b[0m         result \u001b[39m=\u001b[39m coro\u001b[39m.\u001b[39;49mthrow(exc)\n\u001b[1;32m    235\u001b[0m \u001b[39mexcept\u001b[39;00m \u001b[39mStopIteration\u001b[39;00m \u001b[39mas\u001b[39;00m exc:\n\u001b[1;32m    236\u001b[0m     \u001b[39mif\u001b[39;00m \u001b[39mself\u001b[39m\u001b[39m.\u001b[39m_must_cancel:\n\u001b[1;32m    237\u001b[0m         \u001b[39m# Task is cancelled right before coro stops.\u001b[39;00m\n",
      "File \u001b[0;32m~/anaconda3/envs/agent_env/lib/python3.10/site-packages/gym_trading_env/downloader.py:83\u001b[0m, in \u001b[0;36m_download\u001b[0;34m(exchange_names, symbols, timeframe, dir, since, until)\u001b[0m\n\u001b[1;32m     75\u001b[0m     pause \u001b[39m=\u001b[39m EXCHANGE_LIMIT_RATES[exchange_name][\u001b[39m\"\u001b[39m\u001b[39mpause\u001b[39m\u001b[39m\"\u001b[39m]\n\u001b[1;32m     76\u001b[0m     tasks\u001b[39m.\u001b[39mappend(\n\u001b[1;32m     77\u001b[0m         _download_symbols(\n\u001b[1;32m     78\u001b[0m             exchange_name \u001b[39m=\u001b[39m exchange_name, symbols\u001b[39m=\u001b[39m symbols, timeframe\u001b[39m=\u001b[39m timeframe, \u001b[39mdir\u001b[39m \u001b[39m=\u001b[39m \u001b[39mdir\u001b[39m,\n\u001b[0;32m   (...)\u001b[0m\n\u001b[1;32m     81\u001b[0m         )\n\u001b[1;32m     82\u001b[0m     )\n\u001b[0;32m---> 83\u001b[0m \u001b[39mawait\u001b[39;00m asyncio\u001b[39m.\u001b[39mgather(\u001b[39m*\u001b[39mtasks)\n",
      "File \u001b[0;32m~/anaconda3/envs/agent_env/lib/python3.10/asyncio/tasks.py:304\u001b[0m, in \u001b[0;36mTask.__wakeup\u001b[0;34m(self, future)\u001b[0m\n\u001b[1;32m    302\u001b[0m \u001b[39mdef\u001b[39;00m \u001b[39m__wakeup\u001b[39m(\u001b[39mself\u001b[39m, future):\n\u001b[1;32m    303\u001b[0m     \u001b[39mtry\u001b[39;00m:\n\u001b[0;32m--> 304\u001b[0m         future\u001b[39m.\u001b[39;49mresult()\n\u001b[1;32m    305\u001b[0m     \u001b[39mexcept\u001b[39;00m \u001b[39mBaseException\u001b[39;00m \u001b[39mas\u001b[39;00m exc:\n\u001b[1;32m    306\u001b[0m         \u001b[39m# This may also be a cancellation.\u001b[39;00m\n\u001b[1;32m    307\u001b[0m         \u001b[39mself\u001b[39m\u001b[39m.\u001b[39m__step(exc)\n",
      "File \u001b[0;32m~/anaconda3/envs/agent_env/lib/python3.10/asyncio/tasks.py:234\u001b[0m, in \u001b[0;36mTask.__step\u001b[0;34m(***failed resolving arguments***)\u001b[0m\n\u001b[1;32m    232\u001b[0m         result \u001b[39m=\u001b[39m coro\u001b[39m.\u001b[39msend(\u001b[39mNone\u001b[39;00m)\n\u001b[1;32m    233\u001b[0m     \u001b[39melse\u001b[39;00m:\n\u001b[0;32m--> 234\u001b[0m         result \u001b[39m=\u001b[39m coro\u001b[39m.\u001b[39;49mthrow(exc)\n\u001b[1;32m    235\u001b[0m \u001b[39mexcept\u001b[39;00m \u001b[39mStopIteration\u001b[39;00m \u001b[39mas\u001b[39;00m exc:\n\u001b[1;32m    236\u001b[0m     \u001b[39mif\u001b[39;00m \u001b[39mself\u001b[39m\u001b[39m.\u001b[39m_must_cancel:\n\u001b[1;32m    237\u001b[0m         \u001b[39m# Task is cancelled right before coro stops.\u001b[39;00m\n",
      "File \u001b[0;32m~/anaconda3/envs/agent_env/lib/python3.10/site-packages/gym_trading_env/downloader.py:63\u001b[0m, in \u001b[0;36m_download_symbols\u001b[0;34m(exchange_name, symbols, dir, timeframe, **kwargs)\u001b[0m\n\u001b[1;32m     61\u001b[0m exchange \u001b[39m=\u001b[39m \u001b[39mgetattr\u001b[39m(ccxt, exchange_name)({ \u001b[39m'\u001b[39m\u001b[39menableRateLimit\u001b[39m\u001b[39m'\u001b[39m: \u001b[39mTrue\u001b[39;00m })\n\u001b[1;32m     62\u001b[0m \u001b[39mfor\u001b[39;00m symbol \u001b[39min\u001b[39;00m symbols:\n\u001b[0;32m---> 63\u001b[0m     df \u001b[39m=\u001b[39m \u001b[39mawait\u001b[39;00m _download_symbol(exchange \u001b[39m=\u001b[39m exchange, symbol \u001b[39m=\u001b[39m symbol, timeframe\u001b[39m=\u001b[39m timeframe, \u001b[39m*\u001b[39m\u001b[39m*\u001b[39mkwargs)\n\u001b[1;32m     64\u001b[0m     save_file \u001b[39m=\u001b[39m \u001b[39mf\u001b[39m\u001b[39m\"\u001b[39m\u001b[39m{\u001b[39;00m\u001b[39mdir\u001b[39m\u001b[39m}\u001b[39;00m\u001b[39m/\u001b[39m\u001b[39m{\u001b[39;00mexchange_name\u001b[39m}\u001b[39;00m\u001b[39m-\u001b[39m\u001b[39m{\u001b[39;00msymbol\u001b[39m.\u001b[39mreplace(\u001b[39m'\u001b[39m\u001b[39m/\u001b[39m\u001b[39m'\u001b[39m,\u001b[39m \u001b[39m\u001b[39m'\u001b[39m\u001b[39m'\u001b[39m)\u001b[39m}\u001b[39;00m\u001b[39m-\u001b[39m\u001b[39m{\u001b[39;00mtimeframe\u001b[39m}\u001b[39;00m\u001b[39m.pkl\u001b[39m\u001b[39m\"\u001b[39m\n\u001b[1;32m     65\u001b[0m     \u001b[39mprint\u001b[39m(\u001b[39mf\u001b[39m\u001b[39m\"\u001b[39m\u001b[39m{\u001b[39;00msymbol\u001b[39m}\u001b[39;00m\u001b[39m downloaded from \u001b[39m\u001b[39m{\u001b[39;00mexchange_name\u001b[39m}\u001b[39;00m\u001b[39m and stored at \u001b[39m\u001b[39m{\u001b[39;00msave_file\u001b[39m}\u001b[39;00m\u001b[39m\"\u001b[39m)\n",
      "File \u001b[0;32m~/anaconda3/envs/agent_env/lib/python3.10/site-packages/gym_trading_env/downloader.py:50\u001b[0m, in \u001b[0;36m_download_symbol\u001b[0;34m(exchange, symbol, timeframe, since, until, limit, pause_every, pause)\u001b[0m\n\u001b[1;32m     48\u001b[0m         tasks \u001b[39m=\u001b[39m []\n\u001b[1;32m     49\u001b[0m \u001b[39mif\u001b[39;00m \u001b[39mlen\u001b[39m(tasks) \u001b[39m>\u001b[39m \u001b[39m0\u001b[39m :\n\u001b[0;32m---> 50\u001b[0m     results\u001b[39m.\u001b[39mextend(\u001b[39mawait\u001b[39;00m asyncio\u001b[39m.\u001b[39mgather(\u001b[39m*\u001b[39mtasks))\n\u001b[1;32m     51\u001b[0m final_df \u001b[39m=\u001b[39m pd\u001b[39m.\u001b[39mconcat(results, ignore_index\u001b[39m=\u001b[39m \u001b[39mTrue\u001b[39;00m)\n\u001b[1;32m     52\u001b[0m final_df \u001b[39m=\u001b[39m final_df\u001b[39m.\u001b[39mloc[(since \u001b[39m<\u001b[39m final_df[\u001b[39m\"\u001b[39m\u001b[39mtimestamp_open\u001b[39m\u001b[39m\"\u001b[39m]) \u001b[39m&\u001b[39m (final_df[\u001b[39m\"\u001b[39m\u001b[39mtimestamp_open\u001b[39m\u001b[39m\"\u001b[39m] \u001b[39m<\u001b[39m until), :]\n",
      "File \u001b[0;32m~/anaconda3/envs/agent_env/lib/python3.10/asyncio/tasks.py:304\u001b[0m, in \u001b[0;36mTask.__wakeup\u001b[0;34m(self, future)\u001b[0m\n\u001b[1;32m    302\u001b[0m \u001b[39mdef\u001b[39;00m \u001b[39m__wakeup\u001b[39m(\u001b[39mself\u001b[39m, future):\n\u001b[1;32m    303\u001b[0m     \u001b[39mtry\u001b[39;00m:\n\u001b[0;32m--> 304\u001b[0m         future\u001b[39m.\u001b[39;49mresult()\n\u001b[1;32m    305\u001b[0m     \u001b[39mexcept\u001b[39;00m \u001b[39mBaseException\u001b[39;00m \u001b[39mas\u001b[39;00m exc:\n\u001b[1;32m    306\u001b[0m         \u001b[39m# This may also be a cancellation.\u001b[39;00m\n\u001b[1;32m    307\u001b[0m         \u001b[39mself\u001b[39m\u001b[39m.\u001b[39m__step(exc)\n",
      "File \u001b[0;32m~/anaconda3/envs/agent_env/lib/python3.10/asyncio/tasks.py:232\u001b[0m, in \u001b[0;36mTask.__step\u001b[0;34m(***failed resolving arguments***)\u001b[0m\n\u001b[1;32m    228\u001b[0m \u001b[39mtry\u001b[39;00m:\n\u001b[1;32m    229\u001b[0m     \u001b[39mif\u001b[39;00m exc \u001b[39mis\u001b[39;00m \u001b[39mNone\u001b[39;00m:\n\u001b[1;32m    230\u001b[0m         \u001b[39m# We use the `send` method directly, because coroutines\u001b[39;00m\n\u001b[1;32m    231\u001b[0m         \u001b[39m# don't have `__iter__` and `__next__` methods.\u001b[39;00m\n\u001b[0;32m--> 232\u001b[0m         result \u001b[39m=\u001b[39m coro\u001b[39m.\u001b[39;49msend(\u001b[39mNone\u001b[39;49;00m)\n\u001b[1;32m    233\u001b[0m     \u001b[39melse\u001b[39;00m:\n\u001b[1;32m    234\u001b[0m         result \u001b[39m=\u001b[39m coro\u001b[39m.\u001b[39mthrow(exc)\n",
      "File \u001b[0;32m~/anaconda3/envs/agent_env/lib/python3.10/site-packages/gym_trading_env/downloader.py:28\u001b[0m, in \u001b[0;36m_ohlcv\u001b[0;34m(exchange, symbol, timeframe, limit, step_since, timedelta)\u001b[0m\n\u001b[1;32m     27\u001b[0m \u001b[39masync\u001b[39;00m \u001b[39mdef\u001b[39;00m \u001b[39m_ohlcv\u001b[39m(exchange, symbol, timeframe, limit, step_since, timedelta):\n\u001b[0;32m---> 28\u001b[0m     result \u001b[39m=\u001b[39m \u001b[39mawait\u001b[39;00m exchange\u001b[39m.\u001b[39mfetch_ohlcv(symbol \u001b[39m=\u001b[39m symbol, timeframe\u001b[39m=\u001b[39m timeframe, limit\u001b[39m=\u001b[39m limit, since\u001b[39m=\u001b[39mstep_since)\n\u001b[1;32m     29\u001b[0m     result_df \u001b[39m=\u001b[39m pd\u001b[39m.\u001b[39mDataFrame(result, columns\u001b[39m=\u001b[39m[\u001b[39m\"\u001b[39m\u001b[39mtimestamp_open\u001b[39m\u001b[39m\"\u001b[39m, \u001b[39m\"\u001b[39m\u001b[39mopen\u001b[39m\u001b[39m\"\u001b[39m, \u001b[39m\"\u001b[39m\u001b[39mhigh\u001b[39m\u001b[39m\"\u001b[39m, \u001b[39m\"\u001b[39m\u001b[39mlow\u001b[39m\u001b[39m\"\u001b[39m, \u001b[39m\"\u001b[39m\u001b[39mclose\u001b[39m\u001b[39m\"\u001b[39m, \u001b[39m\"\u001b[39m\u001b[39mvolume\u001b[39m\u001b[39m\"\u001b[39m])\n\u001b[1;32m     30\u001b[0m     \u001b[39mfor\u001b[39;00m col \u001b[39min\u001b[39;00m [\u001b[39m\"\u001b[39m\u001b[39mopen\u001b[39m\u001b[39m\"\u001b[39m, \u001b[39m\"\u001b[39m\u001b[39mhigh\u001b[39m\u001b[39m\"\u001b[39m, \u001b[39m\"\u001b[39m\u001b[39mlow\u001b[39m\u001b[39m\"\u001b[39m, \u001b[39m\"\u001b[39m\u001b[39mclose\u001b[39m\u001b[39m\"\u001b[39m, \u001b[39m\"\u001b[39m\u001b[39mvolume\u001b[39m\u001b[39m\"\u001b[39m]:\n",
      "File \u001b[0;32m~/anaconda3/envs/agent_env/lib/python3.10/site-packages/ccxt/async_support/binance.py:3012\u001b[0m, in \u001b[0;36mbinance.fetch_ohlcv\u001b[0;34m(self, symbol, timeframe, since, limit, params)\u001b[0m\n\u001b[1;32m   3000\u001b[0m \u001b[39m\u001b[39m\u001b[39m\"\"\"\u001b[39;00m\n\u001b[1;32m   3001\u001b[0m \u001b[39mfetches historical candlestick data containing the open, high, low, and close price, and the volume of a market\u001b[39;00m\n\u001b[1;32m   3002\u001b[0m \u001b[39m:param str symbol: unified symbol of the market to fetch OHLCV data for\u001b[39;00m\n\u001b[0;32m   (...)\u001b[0m\n\u001b[1;32m   3009\u001b[0m \u001b[39m:returns [[int]]: A list of candles ordered, open, high, low, close, volume\u001b[39;00m\n\u001b[1;32m   3010\u001b[0m \u001b[39m\"\"\"\u001b[39;00m\n\u001b[1;32m   3011\u001b[0m \u001b[39mawait\u001b[39;00m \u001b[39mself\u001b[39m\u001b[39m.\u001b[39mload_markets()\n\u001b[0;32m-> 3012\u001b[0m market \u001b[39m=\u001b[39m \u001b[39mself\u001b[39;49m\u001b[39m.\u001b[39;49mmarket(symbol)\n\u001b[1;32m   3013\u001b[0m \u001b[39m# binance docs say that the default limit 500, max 1500 for futures, max 1000 for spot markets\u001b[39;00m\n\u001b[1;32m   3014\u001b[0m \u001b[39m# the reality is that the time range wider than 500 candles won't work right\u001b[39;00m\n\u001b[1;32m   3015\u001b[0m defaultLimit \u001b[39m=\u001b[39m \u001b[39m500\u001b[39m\n",
      "File \u001b[0;32m~/anaconda3/envs/agent_env/lib/python3.10/site-packages/ccxt/async_support/binance.py:1571\u001b[0m, in \u001b[0;36mbinance.market\u001b[0;34m(self, symbol)\u001b[0m\n\u001b[1;32m   1569\u001b[0m     \u001b[39melif\u001b[39;00m (symbol\u001b[39m.\u001b[39mfind(\u001b[39m'\u001b[39m\u001b[39m-C\u001b[39m\u001b[39m'\u001b[39m) \u001b[39m>\u001b[39m \u001b[39m-\u001b[39m\u001b[39m1\u001b[39m) \u001b[39mor\u001b[39;00m (symbol\u001b[39m.\u001b[39mfind(\u001b[39m'\u001b[39m\u001b[39m-P\u001b[39m\u001b[39m'\u001b[39m) \u001b[39m>\u001b[39m \u001b[39m-\u001b[39m\u001b[39m1\u001b[39m):  \u001b[39m# both exchange-id and unified symbols are supported self way regardless of the defaultType\u001b[39;00m\n\u001b[1;32m   1570\u001b[0m         \u001b[39mreturn\u001b[39;00m \u001b[39mself\u001b[39m\u001b[39m.\u001b[39mcreate_expired_option_market(symbol)\n\u001b[0;32m-> 1571\u001b[0m \u001b[39mraise\u001b[39;00m BadSymbol(\u001b[39mself\u001b[39m\u001b[39m.\u001b[39mid \u001b[39m+\u001b[39m \u001b[39m'\u001b[39m\u001b[39m does not have market symbol \u001b[39m\u001b[39m'\u001b[39m \u001b[39m+\u001b[39m symbol)\n",
      "\u001b[0;31mBadSymbol\u001b[0m: binanceus does not have market symbol BNB/ETH"
     ]
    }
   ],
   "source": [
    "\n",
    "download(exchange_names = [\"binanceus\"],\n",
    "    symbols= tqdm(COIN_PAIRS),\n",
    "    timeframe= time_frame,\n",
    "    dir = \"data\",\n",
    "    since= datetime.datetime(year= 2022, month= 1, day=1),\n",
    ")"
   ]
  },
  {
   "cell_type": "code",
   "execution_count": null,
   "metadata": {},
   "outputs": [],
   "source": []
  }
 ],
 "metadata": {
  "kernelspec": {
   "display_name": "base",
   "language": "python",
   "name": "python3"
  },
  "language_info": {
   "codemirror_mode": {
    "name": "ipython",
    "version": 3
   },
   "file_extension": ".py",
   "mimetype": "text/x-python",
   "name": "python",
   "nbconvert_exporter": "python",
   "pygments_lexer": "ipython3",
   "version": "3.10.14"
  }
 },
 "nbformat": 4,
 "nbformat_minor": 2
}
