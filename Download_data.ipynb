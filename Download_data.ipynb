{
 "cells": [
  {
   "cell_type": "code",
   "execution_count": 1,
   "metadata": {},
   "outputs": [],
   "source": [
    "import warnings\n",
    "# warnings.filterwarnings(\"ignore\")"
   ]
  },
  {
   "cell_type": "code",
   "execution_count": 2,
   "metadata": {},
   "outputs": [
    {
     "name": "stderr",
     "output_type": "stream",
     "text": [
      "/var/folders/jc/lq6pqgbn3dlfs9v5g5x4jc_80000gn/T/ipykernel_5400/9826573.py:16: TqdmWarning: IProgress not found. Please update jupyter and ipywidgets. See https://ipywidgets.readthedocs.io/en/stable/user_install.html\n",
      "  from tqdm.autonotebook import tqdm\n"
     ]
    }
   ],
   "source": [
    "import datetime\n",
    "import glob\n",
    "from functools import lru_cache, partial\n",
    "from pprint import pprint\n",
    "import os\n",
    "\n",
    "import gym_trading_env\n",
    "import gymnasium as gym\n",
    "import matplotlib.pyplot as plt\n",
    "\n",
    "import numpy as np\n",
    "import pandas as pd\n",
    "\n",
    "from gym_trading_env.downloader import download, EXCHANGE_LIMIT_RATES\n",
    "\n",
    "from tqdm.autonotebook import tqdm\n",
    "from oandapyV20 import API\n",
    "from oandapyV20.contrib.factories import InstrumentsCandlesFactory\n",
    "import datetime\n",
    "from Keys import oanda_paper_api_key"
   ]
  },
  {
   "cell_type": "code",
   "execution_count": 3,
   "metadata": {},
   "outputs": [],
   "source": [
    "\n",
    "EXCHANGE_LIMIT_RATES[\"binanceus\"] = {\n",
    "    \"limit\" : 200, # One request will query 200 data points (aka candlesticks).\n",
    "    \"pause_every\" : 120, # it will pause every 120 requests.\n",
    "    \"pause\" : 2, # the pause will last 2 seconds.\n",
    "}\n",
    "\n",
    "import warnings\n",
    "warnings.filterwarnings('ignore')\n",
    "warnings.simplefilter('ignore')\n"
   ]
  },
  {
   "cell_type": "code",
   "execution_count": 4,
   "metadata": {},
   "outputs": [],
   "source": [
    "\n",
    "EXCHANGE_LIMIT_RATES[\"binanceus\"] = {\n",
    "    \"limit\" : 200, # One request will query 200 data points (aka candlesticks).\n",
    "    \"pause_every\" : 120, # it will pause every 120 requests.\n",
    "    \"pause\" : 2, # the pause will last 2 seconds.\n",
    "}"
   ]
  },
  {
   "cell_type": "code",
   "execution_count": 5,
   "metadata": {},
   "outputs": [],
   "source": [
    "COIN_PAIRS=['BTC/USDT','ETH/USDT','SOL/USDT','BNB/USDT','XRP/USDT','ADA/USDT',\n",
    "            'ETH/BTC','SOL/ETH',\n",
    "            ]\n",
    "FX_PAIRS=['EUR_USD','AUD_USD','GBP_USD','USD_JPY','NZD_USD','USD_CAD',\n",
    "            'USD_CHF','USD_MXN',\n",
    "            ]\n",
    "target_pair='EUR_USD'\n",
    "time_frame=\"1h\""
   ]
  },
  {
   "cell_type": "code",
   "execution_count": 6,
   "metadata": {},
   "outputs": [],
   "source": [
    "\n",
    "# download(exchange_names = [\"binanceus\"],\n",
    "#     symbols= tqdm(COIN_PAIRS),\n",
    "#     timeframe= time_frame,\n",
    "#     dir = \"data\",\n",
    "#     since= datetime.datetime(year= 2022, month= 1, day=1),\n",
    "# )"
   ]
  },
  {
   "cell_type": "code",
   "execution_count": 7,
   "metadata": {},
   "outputs": [],
   "source": [
    "from oandapyV20.contrib.factories import InstrumentsCandlesFactory"
   ]
  },
  {
   "cell_type": "code",
   "execution_count": 8,
   "metadata": {},
   "outputs": [],
   "source": [
    "def download_forex(symbols,\n",
    "                   timeframe,\n",
    "                    dir = \"forex_data/\",\n",
    "                    since= datetime.datetime(year= 2022, month= 1, day=1),\n",
    "\n",
    "                   ):\n",
    "        api=API(access_token=oanda_paper_api_key,environment='practice')\n",
    "\n",
    "        if not os.path.exists(dir):\n",
    "\n",
    "            os.makedirs(dir+'/')\n",
    "        now=datetime.datetime.now()\n",
    "\n",
    "        start_date=since.strftime('%Y-%m-%dT%H:%M:%SZ')\n",
    "        now=now.strftime('%Y-%m-%dT%H:%M:%SZ')\n",
    "\n",
    "        params={\n",
    "            \"granularity\":timeframe,\n",
    "            \"from\": start_date,\n",
    "            \"to\": now,\n",
    "        }\n",
    "        for symbol in symbols:\n",
    "            klines=InstrumentsCandlesFactory(instrument=symbol, params=params)\n",
    "            candles=[]\n",
    "            for batch in klines:\n",
    "                resp = api.request(batch)\n",
    "                \n",
    "                for candle in resp.get('candles'):\n",
    "\n",
    "                    ctime = candle.get('time')[0:19]\n",
    "                    \n",
    "                    try:\n",
    "                        row = dict(\n",
    "                            date_close=ctime,\n",
    "                            open=candle['mid']['o'],\n",
    "                            high=candle['mid']['h'],\n",
    "                            low=candle['mid']['l'],\n",
    "                            close=candle['mid']['c'],\n",
    "                            volume=candle['volume'],\n",
    "                        )\n",
    "                    \n",
    "                        candles.append(row)\n",
    "                    except Exception as e:\n",
    "\n",
    "                        print(e, klines)\n",
    "                    \n",
    "            candles=pd.DataFrame(candles)\n",
    "            print(symbol,len(candles))\n",
    "            candles.to_pickle(f\"{dir}/Oanda-{symbol}-{time_frame}.pkl\")"
   ]
  },
  {
   "cell_type": "code",
   "execution_count": 9,
   "metadata": {},
   "outputs": [
    {
     "name": "stderr",
     "output_type": "stream",
     "text": [
      "  0%|          | 0/8 [00:00<?, ?it/s]"
     ]
    },
    {
     "name": "stderr",
     "output_type": "stream",
     "text": [
      " 12%|█▎        | 1/8 [00:05<00:38,  5.55s/it]"
     ]
    },
    {
     "name": "stdout",
     "output_type": "stream",
     "text": [
      "EUR_USD 15533\n"
     ]
    },
    {
     "name": "stderr",
     "output_type": "stream",
     "text": [
      " 25%|██▌       | 2/8 [00:10<00:31,  5.27s/it]"
     ]
    },
    {
     "name": "stdout",
     "output_type": "stream",
     "text": [
      "AUD_USD 15528\n"
     ]
    },
    {
     "name": "stderr",
     "output_type": "stream",
     "text": [
      " 38%|███▊      | 3/8 [00:15<00:25,  5.09s/it]"
     ]
    },
    {
     "name": "stdout",
     "output_type": "stream",
     "text": [
      "GBP_USD 15533\n"
     ]
    },
    {
     "name": "stderr",
     "output_type": "stream",
     "text": [
      " 50%|█████     | 4/8 [00:20<00:20,  5.01s/it]"
     ]
    },
    {
     "name": "stdout",
     "output_type": "stream",
     "text": [
      "USD_JPY 15533\n"
     ]
    },
    {
     "name": "stderr",
     "output_type": "stream",
     "text": [
      " 62%|██████▎   | 5/8 [00:25<00:14,  4.92s/it]"
     ]
    },
    {
     "name": "stdout",
     "output_type": "stream",
     "text": [
      "NZD_USD 15535\n"
     ]
    },
    {
     "name": "stderr",
     "output_type": "stream",
     "text": [
      " 75%|███████▌  | 6/8 [00:29<00:09,  4.88s/it]"
     ]
    },
    {
     "name": "stdout",
     "output_type": "stream",
     "text": [
      "USD_CAD 15534\n"
     ]
    },
    {
     "name": "stderr",
     "output_type": "stream",
     "text": [
      " 88%|████████▊ | 7/8 [00:34<00:04,  4.88s/it]"
     ]
    },
    {
     "name": "stdout",
     "output_type": "stream",
     "text": [
      "USD_CHF 15529\n"
     ]
    },
    {
     "name": "stderr",
     "output_type": "stream",
     "text": [
      "100%|██████████| 8/8 [00:39<00:00,  4.95s/it]"
     ]
    },
    {
     "name": "stdout",
     "output_type": "stream",
     "text": [
      "USD_MXN 15529\n"
     ]
    },
    {
     "name": "stderr",
     "output_type": "stream",
     "text": [
      "\n"
     ]
    }
   ],
   "source": [
    "\n",
    "download_forex(\n",
    "    symbols= tqdm(FX_PAIRS),\n",
    "    timeframe= 'H1',\n",
    "    dir = \"data_forex\",\n",
    "    since= datetime.datetime(year= 2022, month= 1, day=1),\n",
    ")"
   ]
  },
  {
   "cell_type": "code",
   "execution_count": null,
   "metadata": {},
   "outputs": [],
   "source": []
  }
 ],
 "metadata": {
  "kernelspec": {
   "display_name": "base",
   "language": "python",
   "name": "python3"
  },
  "language_info": {
   "codemirror_mode": {
    "name": "ipython",
    "version": 3
   },
   "file_extension": ".py",
   "mimetype": "text/x-python",
   "name": "python",
   "nbconvert_exporter": "python",
   "pygments_lexer": "ipython3",
   "version": "3.10.14"
  }
 },
 "nbformat": 4,
 "nbformat_minor": 2
}
