{
 "cells": [
  {
   "cell_type": "code",
   "execution_count": 8,
   "metadata": {},
   "outputs": [
    {
     "name": "stderr",
     "output_type": "stream",
     "text": [
      "/Users/sebastiancoombs/Documents/Git/MultiTrader/environments/live_environments.py:12: TqdmExperimentalWarning: Using `tqdm.autonotebook.tqdm` in notebook mode. Use `tqdm.tqdm` instead to force console mode (e.g. in jupyter console)\n",
      "  from tqdm.autonotebook import tqdm\n"
     ]
    },
    {
     "ename": "ImportError",
     "evalue": "cannot import name 'symbol_map' from 'utils.utils' (/Users/sebastiancoombs/Documents/Git/MultiTrader/utils/utils.py)",
     "output_type": "error",
     "traceback": [
      "\u001b[0;31m---------------------------------------------------------------------------\u001b[0m",
      "\u001b[0;31mImportError\u001b[0m                               Traceback (most recent call last)",
      "\u001b[1;32m/Users/sebastiancoombs/Documents/Git/MultiTrader/Live_Trading.ipynb Cell 1\u001b[0m line \u001b[0;36m1\n\u001b[1;32m     <a href='vscode-notebook-cell:/Users/sebastiancoombs/Documents/Git/MultiTrader/Live_Trading.ipynb#W0sZmlsZQ%3D%3D?line=13'>14</a>\u001b[0m \u001b[39mfrom\u001b[39;00m \u001b[39mIPython\u001b[39;00m\u001b[39m.\u001b[39;00m display \u001b[39mimport\u001b[39;00m \u001b[39mdisplay\u001b[39;00m\n\u001b[1;32m     <a href='vscode-notebook-cell:/Users/sebastiancoombs/Documents/Git/MultiTrader/Live_Trading.ipynb#W0sZmlsZQ%3D%3D?line=14'>15</a>\u001b[0m \u001b[39mfrom\u001b[39;00m \u001b[39mpprint\u001b[39;00m \u001b[39mimport\u001b[39;00m pprint\n\u001b[0;32m---> <a href='vscode-notebook-cell:/Users/sebastiancoombs/Documents/Git/MultiTrader/Live_Trading.ipynb#W0sZmlsZQ%3D%3D?line=15'>16</a>\u001b[0m \u001b[39mfrom\u001b[39;00m \u001b[39mutils\u001b[39;00m\u001b[39m.\u001b[39;00m\u001b[39mutils\u001b[39;00m \u001b[39mimport\u001b[39;00m build_market_image, sharpe_reward, symbol_map, binanace_col_map\n\u001b[1;32m     <a href='vscode-notebook-cell:/Users/sebastiancoombs/Documents/Git/MultiTrader/Live_Trading.ipynb#W0sZmlsZQ%3D%3D?line=16'>17</a>\u001b[0m \u001b[39mimport\u001b[39;00m \u001b[39mjson\u001b[39;00m\n\u001b[1;32m     <a href='vscode-notebook-cell:/Users/sebastiancoombs/Documents/Git/MultiTrader/Live_Trading.ipynb#W0sZmlsZQ%3D%3D?line=17'>18</a>\u001b[0m \u001b[39mimport\u001b[39;00m \u001b[39mast\u001b[39;00m\n",
      "\u001b[0;31mImportError\u001b[0m: cannot import name 'symbol_map' from 'utils.utils' (/Users/sebastiancoombs/Documents/Git/MultiTrader/utils/utils.py)"
     ]
    }
   ],
   "source": [
    "import datetime\n",
    "import warnings\n",
    "# warnings.filterwarnings('ignore')\n",
    "\n",
    "import pandas as pd\n",
    "from binance.spot import Spot\n",
    "from binance.websocket.spot.websocket_stream import SpotWebsocketStreamClient\n",
    "# WebSocket API Client\n",
    "from binance.websocket.spot.websocket_api import SpotWebsocketAPIClient\n",
    "from Keys import *\n",
    "from environments.live_environments import LiveTradingEnv\n",
    "from neuralforecast.core import NeuralForecast\n",
    "from ray.rllib.policy.policy import Policy\n",
    "from IPython. display import display\n",
    "from pprint import pprint\n",
    "from utils.utils import build_market_image, sharpe_reward\n",
    "from utils.mappings import symbol_map, binanace_col_map\n",
    "import json\n",
    "import ast\n",
    "import sqlite3 as db\n",
    "from utils.rendering import LiveRenderer\n",
    "import subprocess\n",
    "import time\n",
    "import threading"
   ]
  },
  {
   "cell_type": "code",
   "execution_count": null,
   "metadata": {},
   "outputs": [],
   "source": [
    "image=build_market_image(target_pair='ETH/USDT',time_frame='1h',axis=0)"
   ]
  },
  {
   "cell_type": "code",
   "execution_count": null,
   "metadata": {},
   "outputs": [
    {
     "data": {
      "text/plain": [
       "datetime.datetime(2024, 6, 3, 9, 52, 8, 779250)"
      ]
     },
     "execution_count": 5,
     "metadata": {},
     "output_type": "execute_result"
    }
   ],
   "source": [
    "datetime. datetime.now()-pd.Timedelta('1h').to_pytimedelta()"
   ]
  },
  {
   "cell_type": "code",
   "execution_count": 6,
   "metadata": {},
   "outputs": [
    {
     "data": {
      "text/plain": [
       "<binance.spot.Spot at 0x153c7a7a0>"
      ]
     },
     "execution_count": 6,
     "metadata": {},
     "output_type": "execute_result"
    }
   ],
   "source": [
    "trade_target='BTC/USDT'\n",
    "api_key=binanace_api_key\n",
    "api_secret=binance_api_secret\n",
    "\n",
    "client =Spot(api_key=api_key,api_secret=api_secret,base_url='https://testnet.binance.vision')\n",
    "client\n"
   ]
  },
  {
   "cell_type": "code",
   "execution_count": null,
   "metadata": {},
   "outputs": [],
   "source": []
  },
  {
   "cell_type": "code",
   "execution_count": 7,
   "metadata": {},
   "outputs": [],
   "source": [
    "binanace_col_map={\n",
    "                    \"t\": \"date_open\",\n",
    "                    \"T\": \"date_close\",\n",
    "                    \"s\": \"symbol\",\n",
    "                    \"o\": \"open\",\n",
    "                    \"c\": \"close\",\n",
    "                    \"h\": \"high\",\n",
    "                    \"l\": \"low\",\n",
    "                    \"v\": \"volume\",\n",
    "                    \"x\": \"is_closed\",\n",
    "                }"
   ]
  },
  {
   "cell_type": "code",
   "execution_count": null,
   "metadata": {},
   "outputs": [],
   "source": []
  },
  {
   "cell_type": "code",
   "execution_count": 8,
   "metadata": {},
   "outputs": [],
   "source": [
    "import pytorch_lightning\n",
    "import logging\n"
   ]
  },
  {
   "cell_type": "code",
   "execution_count": 9,
   "metadata": {},
   "outputs": [],
   "source": [
    "pytorch_lightning._logger.setLevel(0)"
   ]
  },
  {
   "cell_type": "code",
   "execution_count": 10,
   "metadata": {},
   "outputs": [],
   "source": [
    "import logging\n",
    "logging.getLogger('lightning').setLevel(0)"
   ]
  },
  {
   "cell_type": "code",
   "execution_count": 11,
   "metadata": {},
   "outputs": [],
   "source": [
    "symbol=\"ETHUSDT\"\n",
    "history_path='Trade_history/trade.db'\n",
    "\n",
    "conn=db.connect(history_path)"
   ]
  },
  {
   "cell_type": "code",
   "execution_count": 12,
   "metadata": {},
   "outputs": [
    {
     "name": "stderr",
     "output_type": "stream",
     "text": [
      "Seed set to 5\n",
      "Seed set to 11\n",
      "Seed set to 17\n",
      "Seed set to 6\n"
     ]
    }
   ],
   "source": [
    "\n",
    "model=NeuralForecast.load(\"forecasting_model\",verbose=False)\n"
   ]
  },
  {
   "cell_type": "code",
   "execution_count": 13,
   "metadata": {},
   "outputs": [],
   "source": [
    "agent_dir='Agent/final_checkpoints/policies/default_policy'\n",
    "agent= Policy.from_checkpoint(agent_dir)"
   ]
  },
  {
   "cell_type": "code",
   "execution_count": 14,
   "metadata": {},
   "outputs": [],
   "source": [
    "live_env_config=dict(\n",
    "                name='ETHUSDT_train',\n",
    "                model=model,\n",
    "                agent=agent,\n",
    "                api_key=api_key,\n",
    "                api_secret=api_secret,\n",
    "                test_net=True,\n",
    "                restore_trading=False,\n",
    "                target_symbol='ETH/USDT',\n",
    "                time_frame='1h',\n",
    "                reward_function=sharpe_reward,\n",
    "                positions = [ -.5,-.25,.25, .5], # -1 (=SHORT), 0(=OUT), +1 (=LONG)\n",
    "                trading_fees = 0.01/100, # 0.01% per stock buy / sell (Binance fees)\n",
    "                borrow_interest_rate= 0.0003/100, # 0.0003% per timestep (one timestep = 1h here)\n",
    "                max_episode_duration=168,\n",
    "                verbose=0,\n",
    "                )"
   ]
  },
  {
   "cell_type": "code",
   "execution_count": 15,
   "metadata": {},
   "outputs": [
    {
     "name": "stdout",
     "output_type": "stream",
     "text": [
      "WARNING: Predict insample might not provide accurate predictions for                       recurrent model AutoLSTM class yet due to scaling.\n",
      "reset_account\n",
      "{'symbol': 'ETHUSDT', 'side': 'BUY', 'type': 'MARKET', 'quoteOrderQty': 2974.244393}\n"
     ]
    }
   ],
   "source": [
    "self=LiveTradingEnv(**live_env_config)\n",
    "self.df\n",
    "obs,info=self.reset(reset_account=False)\n"
   ]
  },
  {
   "cell_type": "code",
   "execution_count": null,
   "metadata": {},
   "outputs": [],
   "source": []
  },
  {
   "cell_type": "code",
   "execution_count": null,
   "metadata": {},
   "outputs": [],
   "source": [
    "self._portfolio.get_portfolio_distribution()"
   ]
  },
  {
   "cell_type": "code",
   "execution_count": null,
   "metadata": {},
   "outputs": [],
   "source": [
    "\n",
    "def message_handler(client, message):\n",
    "    try:\n",
    "        print(message)\n",
    "        message_data=json.loads(message)\n",
    "        k_data=message_data['k']\n",
    "\n",
    "\n",
    "        # print(type(data),data)\n",
    "        data=pd.DataFrame([k_data])\n",
    "        \n",
    "        data.columns=data.columns.map(binanace_col_map)\n",
    "        data=data[[c for c in binanace_col_map.values() if c in data.columns]]\n",
    "        display(data)\n",
    "        data=data.drop('date_open',axis=1)\n",
    "        data[\"date_close\"]=pd.to_datetime(data[\"date_close\"],unit='ms')\n",
    "        data=data.set_index('date_close')\n",
    "        data['symbol'] = self.symbol\n",
    "        data['unique_id']=symbol_map[self.symbol]\n",
    "\n",
    "        \n",
    "        conn=db.connect(history_path)\n",
    "        data.to_sql(f'{self.symbol}_candle_history',conn,if_exists='append',index=False)\n",
    "        \n",
    "\n",
    "        if k_data['x']:\n",
    "            data=self.get_data()\n",
    "            self._set_df(data)\n",
    "            self._prep_forecasts()\n",
    "            self._set_df(data)\n",
    "\n",
    "            obs = self._get_obs()\n",
    "            \n",
    "            action,_,states=self.agent.compute_single_action(obs,explore=False)\n",
    "            obs, reward, terminated, truncated, info=self.live_step(action,wait=False)\n",
    "\n",
    "            print(obs.shape)\n",
    "\n",
    "    except Exception as e: \n",
    "        print('bad_data',message)\n",
    "        print(e)"
   ]
  },
  {
   "cell_type": "code",
   "execution_count": null,
   "metadata": {},
   "outputs": [],
   "source": [
    "def on_start(message):\n",
    "        obs,info=self.reset(reset_account=True)\n",
    "        start_time=datetime. datetime.now().strftime(\"%m-%d-%Y %H:%M\")\n",
    "        print (f'START trading session at {start_time}')\n",
    "        action,_,states=self.agent.compute_single_action(obs,explore=False)\n",
    "        obs, reward, terminated, truncated, info=self.live_step(action,wait=False)\n",
    "\n",
    "def on_close(_,message):\n",
    "        end_time=datetime. datetime.now().strftime(\"%m-%d-%Y %H:%M\")\n",
    "        print (f'FINISH trading session at {end_time}')\n",
    "        self.reset_account()\n",
    "        "
   ]
  },
  {
   "cell_type": "code",
   "execution_count": null,
   "metadata": {},
   "outputs": [],
   "source": [
    "import sys\n",
    "# mods = [f\"{m.__name__ }\"for m in sys.modules.values() if m]\n",
    "mods=[]\n",
    "for m in sys.modules.values():\n",
    "    if m:\n",
    "        name=m.__name__\n",
    "        name=name.split('.')[0]\n",
    "        mods.append(name)\n",
    "\n",
    "set(mods)"
   ]
  },
  {
   "cell_type": "code",
   "execution_count": null,
   "metadata": {},
   "outputs": [],
   "source": [
    "# my_client = SpotWebsocketAPIClient(api_key=api_key,api_secret=api_secret,on_message=self.stream_step,stream_url='wss://testnet.binance.vision')\n",
    "stream_client = SpotWebsocketStreamClient(\n",
    "                                    on_close=on_close,\n",
    "                                    on_open=on_start,\n",
    "                                    on_error=on_close,\n",
    "                                    on_message=self.stream_step,\n",
    "                                    stream_url='wss://testnet.binance.vision')\n",
    "\n",
    "# renderer=LiveRenderer('Trade_history/trade.db')"
   ]
  },
  {
   "cell_type": "code",
   "execution_count": null,
   "metadata": {},
   "outputs": [],
   "source": [
    "self._listen_key"
   ]
  },
  {
   "cell_type": "code",
   "execution_count": null,
   "metadata": {},
   "outputs": [],
   "source": [
    "class LiveTradingApp(LiveRenderer):\n",
    "        def __init__(self,render_logs_dir,trading_env):\n",
    "                super().__init__(render_logs_dir)\n",
    "                self.trading_env=trading_env\n",
    "                \n",
    "\n",
    "        def run(self):\n",
    "                my_client = SpotWebsocketStreamClient(\n",
    "                        on_close=on_close,\n",
    "                        on_open=on_start,\n",
    "                        on_error=on_close,\n",
    "                        on_message=self.trading_env.stream_step,\n",
    "                        stream_url='wss://testnet.binance.vision')\n",
    "                \n",
    "                my_client.kline(symbol=self.trading_env.symbol,interval=self.trading_env.time_frame)\n",
    "                \n",
    "                super().run()"
   ]
  },
  {
   "cell_type": "code",
   "execution_count": null,
   "metadata": {},
   "outputs": [],
   "source": [
    "renderer=LiveTradingApp('Trade_history/trade.db',self)\n",
    "renderer.run()"
   ]
  },
  {
   "cell_type": "code",
   "execution_count": null,
   "metadata": {},
   "outputs": [],
   "source": []
  },
  {
   "cell_type": "code",
   "execution_count": null,
   "metadata": {},
   "outputs": [],
   "source": [
    "import threading\n",
    "# Subscribe to a single symbol stream\n",
    "app=threading.Thread(target=renderer.run)\n",
    "\n",
    "for i in range(7):\n",
    "    # my_client = SpotWebsocketAPIClient(api_key=api_key,api_secret=api_secret,on_message=self.stream_step,stream_url='wss://testnet.binance.vision')\n",
    "    my_client = SpotWebsocketStreamClient(\n",
    "                                        on_close=on_close,\n",
    "                                        on_open=on_start,\n",
    "                                        on_error=on_close,\n",
    "                                        on_message=self.stream_step,\n",
    "                                        stream_url='wss://testnet.binance.vision')\n",
    "    wait_time=pd.Timedelta(hours=24).total_seconds()\n",
    "    my_client.kline(symbol=\"ETHUSDT\",interval=\"1h\")\n",
    "    # app=threading.Thread(target=renderer.run,kwargs=dict(symbol=\"ETHUSDT\",interval=\"1h\"))\n",
    "    app.start()\n",
    "    print('waiting to reconnect')\n",
    "    time.sleep(wait_time)\n",
    "\n"
   ]
  },
  {
   "cell_type": "code",
   "execution_count": null,
   "metadata": {},
   "outputs": [],
   "source": [
    "pd.Timestamp(1717013599913,unit='ms')"
   ]
  },
  {
   "cell_type": "code",
   "execution_count": null,
   "metadata": {},
   "outputs": [],
   "source": [
    "# client.avg_price('ETHUSDT'),client.ticker_price('ETHUSDT')\n"
   ]
  },
  {
   "cell_type": "code",
   "execution_count": null,
   "metadata": {},
   "outputs": [],
   "source": [
    "obs,info=self.reset(reset_account=False)\n",
    "obs.shape\n"
   ]
  },
  {
   "cell_type": "code",
   "execution_count": null,
   "metadata": {},
   "outputs": [],
   "source": [
    "from ray.rllib.policy.policy import Policy\n",
    "from ray.rllib.algorithms.algorithm import Algorithm\n"
   ]
  },
  {
   "cell_type": "code",
   "execution_count": null,
   "metadata": {},
   "outputs": [],
   "source": [
    "agent_dir='Agent/final_checkpoints/policies/default_policy'\n",
    "agent= Policy.from_checkpoint(agent_dir)\n",
    "\n",
    "# agent.export_model('Agent/final_checkpoints/pretrained_agent')\n"
   ]
  },
  {
   "cell_type": "code",
   "execution_count": null,
   "metadata": {},
   "outputs": [],
   "source": [
    "# action,_,states=agent.compute_single_action(obs)\n",
    "# obs, reward, terminated, truncated, info=self.live_step(action,wait=False)\n",
    "# action,_,states=agent.compute_single_action(obs)\n"
   ]
  },
  {
   "cell_type": "code",
   "execution_count": null,
   "metadata": {},
   "outputs": [],
   "source": [
    "obs,info=self.reset(reset_account=True)\n",
    "i=0\n",
    "for i in range(10):\n",
    "    action,_,states=agent.compute_single_action(obs,explore=False)\n",
    "    obs, reward, terminated, truncated, info=self.live_step(action,wait=False)"
   ]
  },
  {
   "cell_type": "code",
   "execution_count": null,
   "metadata": {},
   "outputs": [],
   "source": [
    "# h=self.historical_info[0]\n",
    "history_df=pd.DataFrame([self.historical_info[-1]])\n",
    "history_df"
   ]
  },
  {
   "cell_type": "code",
   "execution_count": 1,
   "metadata": {},
   "outputs": [],
   "source": [
    "import sqlite3 as db\n",
    "import pandas as pd\n",
    "\n",
    "\n",
    "symbol='ETHUSDT'\n",
    "# connect to a test DB with one three-column table titled \"Demo\"\n",
    "conn = db.connect('Trade_history/trade.db')\n",
    "cur = conn .cursor()"
   ]
  },
  {
   "cell_type": "code",
   "execution_count": 2,
   "metadata": {},
   "outputs": [
    {
     "data": {
      "text/html": [
       "<div>\n",
       "<style scoped>\n",
       "    .dataframe tbody tr th:only-of-type {\n",
       "        vertical-align: middle;\n",
       "    }\n",
       "\n",
       "    .dataframe tbody tr th {\n",
       "        vertical-align: top;\n",
       "    }\n",
       "\n",
       "    .dataframe thead th {\n",
       "        text-align: right;\n",
       "    }\n",
       "</style>\n",
       "<table border=\"1\" class=\"dataframe\">\n",
       "  <thead>\n",
       "    <tr style=\"text-align: right;\">\n",
       "      <th></th>\n",
       "      <th>idx</th>\n",
       "      <th>step</th>\n",
       "      <th>date</th>\n",
       "      <th>position_index</th>\n",
       "      <th>position</th>\n",
       "      <th>real_position</th>\n",
       "      <th>portfolio_valuation</th>\n",
       "      <th>portfolio_distribution_asset</th>\n",
       "      <th>portfolio_distribution_fiat</th>\n",
       "      <th>portfolio_distribution_borrowed_asset</th>\n",
       "      <th>...</th>\n",
       "      <th>feature_log_volume_20</th>\n",
       "      <th>feature_log_return_25</th>\n",
       "      <th>feature_log_volume_25</th>\n",
       "      <th>feature_log_return_30</th>\n",
       "      <th>feature_log_volume_30</th>\n",
       "      <th>ds</th>\n",
       "      <th>symbol</th>\n",
       "      <th>unique_id</th>\n",
       "      <th>dynamic_feature__0</th>\n",
       "      <th>dynamic_feature__1</th>\n",
       "    </tr>\n",
       "  </thead>\n",
       "  <tbody>\n",
       "    <tr>\n",
       "      <th>0</th>\n",
       "      <td>-1</td>\n",
       "      <td>0</td>\n",
       "      <td>2024-06-03 10:34:09.220794</td>\n",
       "      <td>0</td>\n",
       "      <td>0.0</td>\n",
       "      <td>0.0</td>\n",
       "      <td>11896.614065</td>\n",
       "      <td>0.7880</td>\n",
       "      <td>8920.385345</td>\n",
       "      <td>0</td>\n",
       "      <td>...</td>\n",
       "      <td>0.543594</td>\n",
       "      <td>0.429497</td>\n",
       "      <td>0.224960</td>\n",
       "      <td>0.432317</td>\n",
       "      <td>0.025802</td>\n",
       "      <td>2024-06-03 17:59:59.999000</td>\n",
       "      <td>ETHUSDT</td>\n",
       "      <td>8</td>\n",
       "      <td>0</td>\n",
       "      <td>0</td>\n",
       "    </tr>\n",
       "    <tr>\n",
       "      <th>1</th>\n",
       "      <td>-1</td>\n",
       "      <td>1</td>\n",
       "      <td>2024-06-03 10:34:10.962633</td>\n",
       "      <td>0</td>\n",
       "      <td>-0.5</td>\n",
       "      <td>-0.5</td>\n",
       "      <td>11896.138308</td>\n",
       "      <td>0.7874</td>\n",
       "      <td>8922.498586</td>\n",
       "      <td>0</td>\n",
       "      <td>...</td>\n",
       "      <td>0.543594</td>\n",
       "      <td>0.429497</td>\n",
       "      <td>0.224960</td>\n",
       "      <td>0.432317</td>\n",
       "      <td>0.025802</td>\n",
       "      <td>2024-06-03 17:59:59.999000</td>\n",
       "      <td>ETHUSDT</td>\n",
       "      <td>8</td>\n",
       "      <td>0</td>\n",
       "      <td>0</td>\n",
       "    </tr>\n",
       "    <tr>\n",
       "      <th>2</th>\n",
       "      <td>-1</td>\n",
       "      <td>0</td>\n",
       "      <td>2024-06-03 10:37:09.150836</td>\n",
       "      <td>0</td>\n",
       "      <td>-0.5</td>\n",
       "      <td>-0.5</td>\n",
       "      <td>11895.169806</td>\n",
       "      <td>0.7874</td>\n",
       "      <td>8922.498586</td>\n",
       "      <td>0</td>\n",
       "      <td>...</td>\n",
       "      <td>0.587766</td>\n",
       "      <td>0.428959</td>\n",
       "      <td>0.269132</td>\n",
       "      <td>0.431780</td>\n",
       "      <td>0.031369</td>\n",
       "      <td>2024-06-03 17:59:59.999000</td>\n",
       "      <td>ETHUSDT</td>\n",
       "      <td>8</td>\n",
       "      <td>0</td>\n",
       "      <td>0</td>\n",
       "    </tr>\n",
       "    <tr>\n",
       "      <th>3</th>\n",
       "      <td>-1</td>\n",
       "      <td>1</td>\n",
       "      <td>2024-06-03 10:37:11.084760</td>\n",
       "      <td>0</td>\n",
       "      <td>-0.5</td>\n",
       "      <td>-0.5</td>\n",
       "      <td>11895.169806</td>\n",
       "      <td>0.7874</td>\n",
       "      <td>8922.498586</td>\n",
       "      <td>0</td>\n",
       "      <td>...</td>\n",
       "      <td>0.587766</td>\n",
       "      <td>0.428959</td>\n",
       "      <td>0.269132</td>\n",
       "      <td>0.431780</td>\n",
       "      <td>0.031369</td>\n",
       "      <td>2024-06-03 17:59:59.999000</td>\n",
       "      <td>ETHUSDT</td>\n",
       "      <td>8</td>\n",
       "      <td>0</td>\n",
       "      <td>0</td>\n",
       "    </tr>\n",
       "  </tbody>\n",
       "</table>\n",
       "<p>4 rows × 46 columns</p>\n",
       "</div>"
      ],
      "text/plain": [
       "   idx  step                        date  position_index  position  \\\n",
       "0   -1     0  2024-06-03 10:34:09.220794               0       0.0   \n",
       "1   -1     1  2024-06-03 10:34:10.962633               0      -0.5   \n",
       "2   -1     0  2024-06-03 10:37:09.150836               0      -0.5   \n",
       "3   -1     1  2024-06-03 10:37:11.084760               0      -0.5   \n",
       "\n",
       "   real_position  portfolio_valuation  portfolio_distribution_asset  \\\n",
       "0            0.0         11896.614065                        0.7880   \n",
       "1           -0.5         11896.138308                        0.7874   \n",
       "2           -0.5         11895.169806                        0.7874   \n",
       "3           -0.5         11895.169806                        0.7874   \n",
       "\n",
       "   portfolio_distribution_fiat  portfolio_distribution_borrowed_asset  ...  \\\n",
       "0                  8920.385345                                      0  ...   \n",
       "1                  8922.498586                                      0  ...   \n",
       "2                  8922.498586                                      0  ...   \n",
       "3                  8922.498586                                      0  ...   \n",
       "\n",
       "   feature_log_volume_20  feature_log_return_25  feature_log_volume_25  \\\n",
       "0               0.543594               0.429497               0.224960   \n",
       "1               0.543594               0.429497               0.224960   \n",
       "2               0.587766               0.428959               0.269132   \n",
       "3               0.587766               0.428959               0.269132   \n",
       "\n",
       "   feature_log_return_30  feature_log_volume_30                          ds  \\\n",
       "0               0.432317               0.025802  2024-06-03 17:59:59.999000   \n",
       "1               0.432317               0.025802  2024-06-03 17:59:59.999000   \n",
       "2               0.431780               0.031369  2024-06-03 17:59:59.999000   \n",
       "3               0.431780               0.031369  2024-06-03 17:59:59.999000   \n",
       "\n",
       "    symbol  unique_id  dynamic_feature__0  dynamic_feature__1  \n",
       "0  ETHUSDT          8                   0                   0  \n",
       "1  ETHUSDT          8                   0                   0  \n",
       "2  ETHUSDT          8                   0                   0  \n",
       "3  ETHUSDT          8                   0                   0  \n",
       "\n",
       "[4 rows x 46 columns]"
      ]
     },
     "execution_count": 2,
     "metadata": {},
     "output_type": "execute_result"
    }
   ],
   "source": [
    "history_df=pd.read_sql(f'select * from {symbol}_trade_history',conn)\n",
    "history_df"
   ]
  },
  {
   "cell_type": "code",
   "execution_count": null,
   "metadata": {},
   "outputs": [],
   "source": []
  },
  {
   "cell_type": "code",
   "execution_count": null,
   "metadata": {},
   "outputs": [],
   "source": [
    "history_df.to_sql(f'{self.symbol}_candle_history',conn,if_exists='append')"
   ]
  },
  {
   "cell_type": "code",
   "execution_count": null,
   "metadata": {},
   "outputs": [],
   "source": [
    "self.historical_info[-1]"
   ]
  },
  {
   "cell_type": "code",
   "execution_count": null,
   "metadata": {},
   "outputs": [],
   "source": [
    "for h in self.historical_info:\n",
    "    insert_sql = f'INSERT INTO {self.symbol}_trade_history {h}' \n",
    "    conn.execute(insert_sql)"
   ]
  },
  {
   "cell_type": "code",
   "execution_count": null,
   "metadata": {},
   "outputs": [],
   "source": [
    "client.klines(\"BNBUSDT\", \"1h\", limit=1)"
   ]
  },
  {
   "cell_type": "code",
   "execution_count": null,
   "metadata": {},
   "outputs": [],
   "source": [
    "self._get_ticker()"
   ]
  },
  {
   "cell_type": "code",
   "execution_count": null,
   "metadata": {},
   "outputs": [],
   "source": [
    "data_list=client.klines(\"BNBUSDT\", \"1h\", limit=10)\n",
    "columns=['date_open','open','high','low','close','volume','date_close','QA_volume','N_trades','BA_volume','BQ_volume','unused']\n",
    "data=pd.DataFrame(data_list,columns=columns)\n",
    "data['date_close']=data['date_close'].apply(pd.to_datetime,unit='ms')\n",
    "data['date_open']=data['date_open'].apply(pd.to_datetime,unit='ms')\n",
    "\n",
    "# data_list"
   ]
  },
  {
   "cell_type": "code",
   "execution_count": null,
   "metadata": {},
   "outputs": [],
   "source": [
    "data"
   ]
  },
  {
   "cell_type": "code",
   "execution_count": null,
   "metadata": {},
   "outputs": [],
   "source": []
  }
 ],
 "metadata": {
  "kernelspec": {
   "display_name": "Python 3",
   "language": "python",
   "name": "python3"
  },
  "language_info": {
   "codemirror_mode": {
    "name": "ipython",
    "version": 3
   },
   "file_extension": ".py",
   "mimetype": "text/x-python",
   "name": "python",
   "nbconvert_exporter": "python",
   "pygments_lexer": "ipython3",
   "version": "3.10.14"
  }
 },
 "nbformat": 4,
 "nbformat_minor": 2
}
