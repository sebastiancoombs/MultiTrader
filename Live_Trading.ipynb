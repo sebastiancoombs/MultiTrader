{
 "cells": [
  {
   "cell_type": "code",
   "execution_count": 6,
   "metadata": {},
   "outputs": [],
   "source": [
    "import datetime\n",
    "\n",
    "\n",
    "import warnings\n",
    "\n",
    "import pandas as pd\n",
    "from binance.spot import Spot\n",
    "from MultiTrade.live_environments import LiveTradingEnv\n",
    "from neuralforecast.core import NeuralForecast\n",
    "from utils.utils import build_market_image, sharpe_reward\n",
    "\n",
    "warnings.filterwarnings('ignore')\n"
   ]
  },
  {
   "cell_type": "code",
   "execution_count": 5,
   "metadata": {},
   "outputs": [],
   "source": [
    "image=build_market_image(target_pair='ETH/USDT',time_frame='1h',axis=0)"
   ]
  },
  {
   "cell_type": "code",
   "execution_count": null,
   "metadata": {},
   "outputs": [],
   "source": [
    "datetime. datetime.now()-pd.Timedelta('1h').to_pytimedelta()"
   ]
  },
  {
   "cell_type": "code",
   "execution_count": null,
   "metadata": {},
   "outputs": [],
   "source": [
    "trade_target='BTC/USDT'\n",
    "api_key='ZGvDtoVQM9O1xb0PXaSPzMffWtGH3ofxVSbsuzGQNDBwklCHkKm4x1g3nrImqQXF'\n",
    "api_secret='BUDui1xmoP11wGmSV3RqTrtrkmYU5EyogHMtigVQgTGoQxjcibkuwjN5Et169f4o'\n",
    "\n",
    "client =Spot(api_key=api_key,api_secret=api_secret,base_url='https://testnet.binance.vision')\n",
    "client\n"
   ]
  },
  {
   "cell_type": "code",
   "execution_count": null,
   "metadata": {},
   "outputs": [],
   "source": [
    "# account=client.account()"
   ]
  },
  {
   "cell_type": "code",
   "execution_count": null,
   "metadata": {},
   "outputs": [],
   "source": [
    "# client.avg_price('ETHUSDT'),client.ticker_price('ETHUSDT')\n"
   ]
  },
  {
   "cell_type": "code",
   "execution_count": null,
   "metadata": {},
   "outputs": [],
   "source": [
    "\n",
    "model=NeuralForecast.load(\"C:/Users/standard/Git/MultiTrader/forecaster_pretrain/neuralForecast\")"
   ]
  },
  {
   "cell_type": "code",
   "execution_count": null,
   "metadata": {},
   "outputs": [],
   "source": [
    "live_env_config=dict(\n",
    "                name='ETHUSDT_train',\n",
    "                model=model,\n",
    "                api_key=api_key,\n",
    "                api_secret=api_secret,\n",
    "                test_net=True,\n",
    "                restore_trading=False,\n",
    "                target_symbol='ETH/USDT',\n",
    "                time_frame='1h',\n",
    "                reward_function=sharpe_reward,\n",
    "                positions = [ -.5,-.25,.25, .5], # -1 (=SHORT), 0(=OUT), +1 (=LONG)\n",
    "                trading_fees = 0.01/100, # 0.01% per stock buy / sell (Binance fees)\n",
    "                borrow_interest_rate= 0.0003/100, # 0.0003% per timestep (one timestep = 1h here)\n",
    "                max_episode_duration=168,\n",
    "                verbose=0,\n",
    "                )"
   ]
  },
  {
   "cell_type": "code",
   "execution_count": null,
   "metadata": {},
   "outputs": [],
   "source": [
    "self=LiveTradingEnv(**live_env_config)\n",
    "self.df"
   ]
  },
  {
   "cell_type": "code",
   "execution_count": null,
   "metadata": {},
   "outputs": [],
   "source": [
    "obs,info=self.reset(reset_account=False)\n",
    "obs.shape\n"
   ]
  },
  {
   "cell_type": "code",
   "execution_count": null,
   "metadata": {},
   "outputs": [],
   "source": [
    "from ray.rllib.policy.policy import Policy"
   ]
  },
  {
   "cell_type": "code",
   "execution_count": null,
   "metadata": {},
   "outputs": [],
   "source": [
    "agent= Policy.from_checkpoint('C:/Users/standard/Git/MultiTrader/Rayrl_tune/checkpoints/policies/default_policy')\n",
    "\n",
    "agent.export_model('C:/Users/standard/Git/MultiTrader/Rayrl_tune/checkpoints/pretrained_agent')\n"
   ]
  },
  {
   "cell_type": "code",
   "execution_count": null,
   "metadata": {},
   "outputs": [],
   "source": [
    "# action,_,states=agent.compute_single_action(obs)\n",
    "# obs, reward, terminated, truncated, info=self.live_step(action,wait=False)\n",
    "# action,_,states=agent.compute_single_action(obs)\n"
   ]
  },
  {
   "cell_type": "code",
   "execution_count": null,
   "metadata": {},
   "outputs": [],
   "source": [
    "obs,info=self.reset(reset_account=True)\n",
    "while True:\n",
    "    action,_,states=agent.compute_single_action(obs)\n",
    "    obs, reward, terminated, truncated, info=self.live_step(action,wait=True)"
   ]
  },
  {
   "cell_type": "code",
   "execution_count": null,
   "metadata": {},
   "outputs": [],
   "source": [
    "self.df.iloc[-1]"
   ]
  },
  {
   "cell_type": "code",
   "execution_count": null,
   "metadata": {},
   "outputs": [],
   "source": [
    "# h=self.historical_info[0]\n",
    "history_df=pd.DataFrame([self.historical_info[-1]])\n",
    "history_df"
   ]
  },
  {
   "cell_type": "code",
   "execution_count": null,
   "metadata": {},
   "outputs": [],
   "source": [
    "import sqlite3 as db\n",
    "\n",
    "\n",
    "\n",
    "\n",
    "# connect to a test DB with one three-column table titled \"Demo\"\n",
    "conn = db.connect('Trade_history/trade.db')\n",
    "cur = conn .cursor()"
   ]
  },
  {
   "cell_type": "code",
   "execution_count": null,
   "metadata": {},
   "outputs": [],
   "source": [
    "history_df.to_sql(f'{self.symbol}_trade_history',conn,if_exists='append')"
   ]
  },
  {
   "cell_type": "code",
   "execution_count": null,
   "metadata": {},
   "outputs": [],
   "source": [
    "history_df=pd.read_sql(f'select * from {self.symbol}_trade_history',conn)\n",
    "history_df"
   ]
  },
  {
   "cell_type": "code",
   "execution_count": null,
   "metadata": {},
   "outputs": [],
   "source": [
    "self.historical_info[-1]"
   ]
  },
  {
   "cell_type": "code",
   "execution_count": null,
   "metadata": {},
   "outputs": [],
   "source": [
    "for h in self.historical_info:\n",
    "    insert_sql = f'INSERT INTO {self.symbol}_trade_history {h}' \n",
    "    conn.execute(insert_sql)"
   ]
  },
  {
   "cell_type": "code",
   "execution_count": null,
   "metadata": {},
   "outputs": [],
   "source": [
    "client.klines(\"BNBUSDT\", \"1h\", limit=1)"
   ]
  },
  {
   "cell_type": "code",
   "execution_count": null,
   "metadata": {},
   "outputs": [],
   "source": [
    "self._get_ticker()"
   ]
  },
  {
   "cell_type": "code",
   "execution_count": null,
   "metadata": {},
   "outputs": [],
   "source": [
    "data_list=client.klines(\"BNBUSDT\", \"1h\", limit=10)\n",
    "columns=['date_open','open','high','low','close','volume','date_close','QA_volume','N_trades','BA_volume','BQ_volume','unused']\n",
    "data=pd.DataFrame(data_list,columns=columns)\n",
    "data['date_close']=data['date_close'].apply(pd.to_datetime,unit='ms')\n",
    "data['date_open']=data['date_open'].apply(pd.to_datetime,unit='ms')\n",
    "\n",
    "# data_list"
   ]
  },
  {
   "cell_type": "code",
   "execution_count": null,
   "metadata": {},
   "outputs": [],
   "source": [
    "data"
   ]
  },
  {
   "cell_type": "code",
   "execution_count": null,
   "metadata": {},
   "outputs": [],
   "source": []
  }
 ],
 "metadata": {
  "kernelspec": {
   "display_name": "Python 3",
   "language": "python",
   "name": "python3"
  },
  "language_info": {
   "codemirror_mode": {
    "name": "ipython",
    "version": 3
   },
   "file_extension": ".py",
   "mimetype": "text/x-python",
   "name": "python",
   "nbconvert_exporter": "python",
   "pygments_lexer": "ipython3",
   "version": "3.10.14"
  }
 },
 "nbformat": 4,
 "nbformat_minor": 2
}
