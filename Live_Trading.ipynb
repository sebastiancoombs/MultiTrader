{
 "cells": [
  {
   "cell_type": "code",
   "execution_count": 1,
   "metadata": {},
   "outputs": [],
   "source": [
    "import datetime\n",
    "import warnings\n",
    "# warnings.filterwarnings('ignore')\n",
    "\n",
    "import pandas as pd\n",
    "from binance.spot import Spot\n",
    "from binance.websocket.spot.websocket_stream import SpotWebsocketStreamClient\n",
    "# WebSocket API Client\n",
    "from binance.websocket.spot.websocket_api import SpotWebsocketAPIClient\n",
    "from Keys import *\n",
    "from MultiTrade.live_environments import LiveTradingEnv\n",
    "from neuralforecast.core import NeuralForecast\n",
    "from ray.rllib.policy.policy import Policy\n",
    "from IPython. display import display\n",
    "from pprint import pprint\n",
    "from utils.utils import build_market_image, sharpe_reward, symbol_map, binanace_col_map\n",
    "import json\n",
    "import ast\n",
    "import sqlite3 as db\n",
    "from utils.rendering import LiveRenderer\n",
    "import subprocess\n",
    "import time\n",
    "import threading"
   ]
  },
  {
   "cell_type": "code",
   "execution_count": 2,
   "metadata": {},
   "outputs": [],
   "source": [
    "image=build_market_image(target_pair='ETH/USDT',time_frame='1h',axis=0)"
   ]
  },
  {
   "cell_type": "code",
   "execution_count": 3,
   "metadata": {},
   "outputs": [
    {
     "data": {
      "text/plain": [
       "datetime.datetime(2024, 5, 29, 17, 5, 43, 718258)"
      ]
     },
     "execution_count": 3,
     "metadata": {},
     "output_type": "execute_result"
    }
   ],
   "source": [
    "datetime. datetime.now()-pd.Timedelta('1h').to_pytimedelta()"
   ]
  },
  {
   "cell_type": "code",
   "execution_count": 4,
   "metadata": {},
   "outputs": [
    {
     "data": {
      "text/plain": [
       "<binance.spot.Spot at 0x108fd74c0>"
      ]
     },
     "execution_count": 4,
     "metadata": {},
     "output_type": "execute_result"
    }
   ],
   "source": [
    "trade_target='BTC/USDT'\n",
    "api_key=binanace_api_key\n",
    "api_secret=binance_api_secret\n",
    "\n",
    "client =Spot(api_key=api_key,api_secret=api_secret,base_url='https://testnet.binance.vision')\n",
    "client\n"
   ]
  },
  {
   "cell_type": "code",
   "execution_count": 5,
   "metadata": {},
   "outputs": [],
   "source": [
    "binanace_col_map={\n",
    "                    \"t\": \"date_open\",\n",
    "                    \"T\": \"date_close\",\n",
    "                    \"s\": \"symbol\",\n",
    "                    \"o\": \"open\",\n",
    "                    \"c\": \"close\",\n",
    "                    \"h\": \"high\",\n",
    "                    \"l\": \"low\",\n",
    "                    \"v\": \"volume\",\n",
    "                    \"x\": \"is_closed\",\n",
    "                }"
   ]
  },
  {
   "cell_type": "code",
   "execution_count": 6,
   "metadata": {},
   "outputs": [],
   "source": [
    "import pytorch_lightning\n",
    "import logging\n"
   ]
  },
  {
   "cell_type": "code",
   "execution_count": 7,
   "metadata": {},
   "outputs": [],
   "source": [
    "pytorch_lightning._logger.setLevel(0)"
   ]
  },
  {
   "cell_type": "code",
   "execution_count": 8,
   "metadata": {},
   "outputs": [],
   "source": [
    "import logging\n",
    "logging.getLogger('lightning').setLevel(0)"
   ]
  },
  {
   "cell_type": "code",
   "execution_count": 9,
   "metadata": {},
   "outputs": [],
   "source": [
    "symbol=\"ETHUSDT\"\n",
    "history_path='Trade_history/trade.db'\n",
    "\n",
    "conn=db.connect(history_path)"
   ]
  },
  {
   "cell_type": "code",
   "execution_count": 10,
   "metadata": {},
   "outputs": [
    {
     "name": "stderr",
     "output_type": "stream",
     "text": [
      "Seed set to 5\n",
      "Seed set to 11\n",
      "Seed set to 17\n",
      "Seed set to 6\n"
     ]
    }
   ],
   "source": [
    "\n",
    "model=NeuralForecast.load(\"forecasting_model\",verbose=False)\n"
   ]
  },
  {
   "cell_type": "code",
   "execution_count": 11,
   "metadata": {},
   "outputs": [],
   "source": [
    "agent_dir='Agent/final_checkpoints/policies/default_policy'\n",
    "agent= Policy.from_checkpoint(agent_dir)"
   ]
  },
  {
   "cell_type": "markdown",
   "metadata": {},
   "source": []
  },
  {
   "cell_type": "code",
   "execution_count": 12,
   "metadata": {},
   "outputs": [],
   "source": [
    "live_env_config=dict(\n",
    "                name='ETHUSDT_train',\n",
    "                model=model,\n",
    "                agent=agent,\n",
    "                api_key=api_key,\n",
    "                api_secret=api_secret,\n",
    "                test_net=True,\n",
    "                restore_trading=True,\n",
    "                target_symbol='ETH/USDT',\n",
    "                time_frame='1h',\n",
    "                reward_function=sharpe_reward,\n",
    "                positions = [ -.5,-.25,.25, .5], # -1 (=SHORT), 0(=OUT), +1 (=LONG)\n",
    "                trading_fees = 0.01/100, # 0.01% per stock buy / sell (Binance fees)\n",
    "                borrow_interest_rate= 0.0003/100, # 0.0003% per timestep (one timestep = 1h here)\n",
    "                max_episode_duration=168,\n",
    "                verbose=0,\n",
    "                )"
   ]
  },
  {
   "cell_type": "code",
   "execution_count": 13,
   "metadata": {},
   "outputs": [
    {
     "name": "stdout",
     "output_type": "stream",
     "text": [
      "WARNING: Predict insample might not provide accurate predictions for                       recurrent model AutoLSTM class yet due to scaling.\n"
     ]
    }
   ],
   "source": [
    "self=LiveTradingEnv(**live_env_config)\n",
    "self.df\n",
    "obs,info=self.reset(reset_account=False)"
   ]
  },
  {
   "cell_type": "code",
   "execution_count": 14,
   "metadata": {},
   "outputs": [],
   "source": [
    "\n",
    "def message_handler(client, message):\n",
    "    try:\n",
    "        print(message)\n",
    "        message_data=json.loads(message)\n",
    "        k_data=message_data['k']\n",
    "\n",
    "\n",
    "        # print(type(data),data)\n",
    "        data=pd.DataFrame([k_data])\n",
    "        \n",
    "        data.columns=data.columns.map(binanace_col_map)\n",
    "        data=data[[c for c in binanace_col_map.values() if c in data.columns]]\n",
    "        display(data)\n",
    "        data=data.drop('date_open',axis=1)\n",
    "        data[\"date_close\"]=pd.to_datetime(data[\"date_close\"],unit='ms')\n",
    "        data=data.set_index('date_close')\n",
    "        data['symbol'] = self.symbol\n",
    "        data['unique_id']=symbol_map[self.symbol]\n",
    "\n",
    "        \n",
    "        conn=db.connect(history_path)\n",
    "        data.to_sql(f'{self.symbol}_candle_history',conn,if_exists='append',index=False)\n",
    "        \n",
    "\n",
    "        if k_data['x']:\n",
    "            data=self.get_data()\n",
    "            self._set_df(data)\n",
    "            self._prep_forecasts()\n",
    "            self._set_df(data)\n",
    "\n",
    "            obs = self._get_obs()\n",
    "            \n",
    "            action,_,states=self.agent.compute_single_action(obs,explore=False)\n",
    "            obs, reward, terminated, truncated, info=self.live_step(action,wait=False)\n",
    "\n",
    "            print(obs.shape)\n",
    "\n",
    "    except Exception as e: \n",
    "        print('bad_data',message)\n",
    "        print(e)"
   ]
  },
  {
   "cell_type": "code",
   "execution_count": 15,
   "metadata": {},
   "outputs": [],
   "source": [
    "def on_start(message):\n",
    "        obs,info=self.reset(reset_account=False)\n",
    "        start_time=datetime. datetime.now().strftime(\"%m-%d-%Y %H:%M\")\n",
    "        print (f'START trading session at {start_time}')\n",
    "        action,_,states=self.agent.compute_single_action(obs,explore=False)\n",
    "        obs, reward, terminated, truncated, info=self.live_step(action,wait=False)\n",
    "\n",
    "def on_close(_):\n",
    "        end_time=datetime. datetime.now().strftime(\"%m-%d-%Y %H:%M\")\n",
    "        print (f'FINISH trading session at {end_time}')\n",
    "        self.reset_account()\n",
    "        "
   ]
  },
  {
   "cell_type": "code",
   "execution_count": 16,
   "metadata": {},
   "outputs": [
    {
     "name": "stdout",
     "output_type": "stream",
     "text": [
      "START trading session at 05-29-2024 18:05\n",
      "stay in position\n",
      "WARNING: Predict insample might not provide accurate predictions for                       recurrent model AutoLSTM class yet due to scaling.\n"
     ]
    }
   ],
   "source": [
    "# my_client = SpotWebsocketAPIClient(api_key=api_key,api_secret=api_secret,on_message=self.stream_step,stream_url='wss://testnet.binance.vision')\n",
    "my_client = SpotWebsocketStreamClient(\n",
    "                                    on_close=on_close,\n",
    "                                    on_open=on_start,\n",
    "                                    on_error=on_close,\n",
    "                                    on_message=self.stream_step,\n",
    "                                    stream_url='wss://testnet.binance.vision')\n",
    "renderer=LiveRenderer('Trade_history/trade.db')"
   ]
  },
  {
   "cell_type": "code",
   "execution_count": 17,
   "metadata": {},
   "outputs": [
    {
     "name": "stdout",
     "output_type": "stream",
     "text": [
      "START trading session at 05-29-2024 18:05\n",
      "stay in position\n",
      "WARNING: Predict insample might not provide accurate predictions for                       recurrent model AutoLSTM class yet due to scaling.\n",
      "waiting to reconnect\n",
      " * Serving Flask app 'gym_trading_env.renderer'\n",
      " * Debug mode: on\n"
     ]
    },
    {
     "name": "stderr",
     "output_type": "stream",
     "text": [
      "WARNING: This is a development server. Do not use it in a production deployment. Use a production WSGI server instead.\n",
      " * Running on http://127.0.0.1:5000\n",
      "Press CTRL+C to quit\n",
      "Exception in thread Thread-13 (run):\n",
      "Traceback (most recent call last):\n",
      "  File \"/Users/sebastiancoombs/anaconda3/envs/agent_env/lib/python3.10/threading.py\", line 1016, in _bootstrap_inner\n",
      "    self.run()\n",
      "  File \"/Users/sebastiancoombs/anaconda3/envs/agent_env/lib/python3.10/site-packages/ipykernel/ipkernel.py\", line 761, in run_closure\n",
      "    _threading_Thread_run(self)\n",
      "  File \"/Users/sebastiancoombs/anaconda3/envs/agent_env/lib/python3.10/threading.py\", line 953, in run\n",
      "    self._target(*self._args, **self._kwargs)\n",
      "  File \"/Users/sebastiancoombs/Documents/Git/MultiTrader/utils/rendering.py\", line 69, in run\n",
      "    self.app.run()\n",
      "  File \"/Users/sebastiancoombs/anaconda3/envs/agent_env/lib/python3.10/site-packages/flask/app.py\", line 625, in run\n",
      "    run_simple(t.cast(str, host), port, self, **options)\n",
      "  File \"/Users/sebastiancoombs/anaconda3/envs/agent_env/lib/python3.10/site-packages/werkzeug/serving.py\", line 1106, in run_simple\n",
      "    run_with_reloader(\n",
      "  File \"/Users/sebastiancoombs/anaconda3/envs/agent_env/lib/python3.10/site-packages/werkzeug/_reloader.py\", line 441, in run_with_reloader\n",
      "    signal.signal(signal.SIGTERM, lambda *args: sys.exit(0))\n",
      "  File \"/Users/sebastiancoombs/anaconda3/envs/agent_env/lib/python3.10/signal.py\", line 56, in signal\n",
      "    handler = _signal.signal(_enum_to_int(signalnum), _enum_to_int(handler))\n",
      "ValueError: signal only works in main thread of the main interpreter\n"
     ]
    },
    {
     "name": "stdout",
     "output_type": "stream",
     "text": [
      "bad_data {\"result\":null,\"id\":1717031156399}\n",
      "'k'\n"
     ]
    }
   ],
   "source": [
    "import threading\n",
    "# Subscribe to a single symbol stream\n",
    "app=threading.Thread(target=renderer.run)\n",
    "\n",
    "for i in range(7):\n",
    "    # my_client = SpotWebsocketAPIClient(api_key=api_key,api_secret=api_secret,on_message=self.stream_step,stream_url='wss://testnet.binance.vision')\n",
    "    my_client = SpotWebsocketStreamClient(\n",
    "                                        on_close=on_close,\n",
    "                                        on_open=on_start,\n",
    "                                        on_error=on_close,\n",
    "                                        on_message=self.stream_step,\n",
    "                                        stream_url='wss://testnet.binance.vision')\n",
    "    wait_time=pd.Timedelta(hours=24).total_seconds()\n",
    "    my_client.kline(symbol=\"ETHUSDT\",interval=\"1h\")\n",
    "    # app=threading.Thread(target=renderer.run,kwargs=dict(symbol=\"ETHUSDT\",interval=\"1h\"))\n",
    "    app.start()\n",
    "    print('waiting to reconnect')\n",
    "    time.sleep(wait_time)\n",
    "\n"
   ]
  },
  {
   "cell_type": "code",
   "execution_count": null,
   "metadata": {},
   "outputs": [],
   "source": [
    "pd.Timestamp(1717013599913,unit='ms')"
   ]
  },
  {
   "cell_type": "code",
   "execution_count": null,
   "metadata": {},
   "outputs": [],
   "source": [
    "# client.avg_price('ETHUSDT'),client.ticker_price('ETHUSDT')\n"
   ]
  },
  {
   "cell_type": "code",
   "execution_count": null,
   "metadata": {},
   "outputs": [],
   "source": [
    "obs,info=self.reset(reset_account=False)\n",
    "obs.shape\n"
   ]
  },
  {
   "cell_type": "code",
   "execution_count": null,
   "metadata": {},
   "outputs": [],
   "source": [
    "from ray.rllib.policy.policy import Policy\n",
    "from ray.rllib.algorithms.algorithm import Algorithm\n"
   ]
  },
  {
   "cell_type": "code",
   "execution_count": null,
   "metadata": {},
   "outputs": [],
   "source": [
    "agent_dir='Agent/final_checkpoints/policies/default_policy'\n",
    "agent= Policy.from_checkpoint(agent_dir)\n",
    "\n",
    "# agent.export_model('Agent/final_checkpoints/pretrained_agent')\n"
   ]
  },
  {
   "cell_type": "code",
   "execution_count": null,
   "metadata": {},
   "outputs": [],
   "source": [
    "# action,_,states=agent.compute_single_action(obs)\n",
    "# obs, reward, terminated, truncated, info=self.live_step(action,wait=False)\n",
    "# action,_,states=agent.compute_single_action(obs)\n"
   ]
  },
  {
   "cell_type": "code",
   "execution_count": null,
   "metadata": {},
   "outputs": [],
   "source": [
    "obs,info=self.reset(reset_account=True)\n",
    "i=0\n",
    "for i in range(10):\n",
    "    action,_,states=agent.compute_single_action(obs,explore=False)\n",
    "    obs, reward, terminated, truncated, info=self.live_step(action,wait=False)"
   ]
  },
  {
   "cell_type": "code",
   "execution_count": null,
   "metadata": {},
   "outputs": [],
   "source": [
    "# h=self.historical_info[0]\n",
    "history_df=pd.DataFrame([self.historical_info[-1]])\n",
    "history_df"
   ]
  },
  {
   "cell_type": "code",
   "execution_count": null,
   "metadata": {},
   "outputs": [],
   "source": [
    "import sqlite3 as db\n",
    "import pandas as pd\n",
    "\n",
    "\n",
    "\n",
    "# connect to a test DB with one three-column table titled \"Demo\"\n",
    "conn = db.connect('Trade_history/trade.db')\n",
    "cur = conn .cursor()"
   ]
  },
  {
   "cell_type": "code",
   "execution_count": null,
   "metadata": {},
   "outputs": [],
   "source": [
    "history_df=pd.read_sql(f'select * from {symbol}_candle_history',conn)\n",
    "history_df"
   ]
  },
  {
   "cell_type": "code",
   "execution_count": null,
   "metadata": {},
   "outputs": [],
   "source": [
    "history_df.to_sql(f'{self.symbol}_candle_history',conn,if_exists='append')"
   ]
  },
  {
   "cell_type": "code",
   "execution_count": null,
   "metadata": {},
   "outputs": [],
   "source": [
    "self.historical_info[-1]"
   ]
  },
  {
   "cell_type": "code",
   "execution_count": null,
   "metadata": {},
   "outputs": [],
   "source": [
    "for h in self.historical_info:\n",
    "    insert_sql = f'INSERT INTO {self.symbol}_trade_history {h}' \n",
    "    conn.execute(insert_sql)"
   ]
  },
  {
   "cell_type": "code",
   "execution_count": null,
   "metadata": {},
   "outputs": [],
   "source": [
    "client.klines(\"BNBUSDT\", \"1h\", limit=1)"
   ]
  },
  {
   "cell_type": "code",
   "execution_count": null,
   "metadata": {},
   "outputs": [],
   "source": [
    "self._get_ticker()"
   ]
  },
  {
   "cell_type": "code",
   "execution_count": null,
   "metadata": {},
   "outputs": [],
   "source": [
    "data_list=client.klines(\"BNBUSDT\", \"1h\", limit=10)\n",
    "columns=['date_open','open','high','low','close','volume','date_close','QA_volume','N_trades','BA_volume','BQ_volume','unused']\n",
    "data=pd.DataFrame(data_list,columns=columns)\n",
    "data['date_close']=data['date_close'].apply(pd.to_datetime,unit='ms')\n",
    "data['date_open']=data['date_open'].apply(pd.to_datetime,unit='ms')\n",
    "\n",
    "# data_list"
   ]
  },
  {
   "cell_type": "code",
   "execution_count": null,
   "metadata": {},
   "outputs": [],
   "source": [
    "data"
   ]
  },
  {
   "cell_type": "code",
   "execution_count": null,
   "metadata": {},
   "outputs": [],
   "source": []
  }
 ],
 "metadata": {
  "kernelspec": {
   "display_name": "Python 3",
   "language": "python",
   "name": "python3"
  },
  "language_info": {
   "codemirror_mode": {
    "name": "ipython",
    "version": 3
   },
   "file_extension": ".py",
   "mimetype": "text/x-python",
   "name": "python",
   "nbconvert_exporter": "python",
   "pygments_lexer": "ipython3",
   "version": "3.10.14"
  }
 },
 "nbformat": 4,
 "nbformat_minor": 2
}
