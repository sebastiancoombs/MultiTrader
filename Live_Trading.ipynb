{
 "cells": [
  {
   "cell_type": "code",
   "execution_count": 1,
   "metadata": {},
   "outputs": [
    {
     "name": "stderr",
     "output_type": "stream",
     "text": [
      "C:\\Users\\standard\\AppData\\Local\\Temp\\ipykernel_60748\\3683853900.py:4: TqdmExperimentalWarning: Using `tqdm.autonotebook.tqdm` in notebook mode. Use `tqdm.tqdm` instead to force console mode (e.g. in jupyter console)\n",
      "  from tqdm.autonotebook import tqdm\n"
     ]
    }
   ],
   "source": [
    "from binance.spot import Spot\n",
    "from binance.websocket.spot.websocket_api import SpotWebsocketAPIClient\n",
    "from binance.websocket.spot.websocket_stream import SpotWebsocketStreamClient\n",
    "from tqdm.autonotebook import tqdm\n",
    "from utils.utils import build_dataset, build_market_image, preprocess_data,symbol_map,sharpe_reward\n",
    "import pandas as pd\n",
    "from gym_trading_env.downloader import download\n",
    "from gym_trading_env.utils.history import History\n",
    "from gym_trading_env.utils.portfolio import Portfolio, TargetPortfolio\n",
    "import datetime\n",
    "import glob\n",
    "import numpy as np\n",
    "import sqlite3 as db\n",
    "import time\n",
    "import datetime\n",
    "from neuralforecast.core import NeuralForecast\n",
    "from MultiTrade.environments import NeuralForecastingTradingEnv,LiveTradingEnv\n",
    "import warnings\n",
    "warnings.filterwarnings('ignore')\n",
    "from ray.rllib.algorithms.algorithm import Algorithm\n",
    "from ray.tune.registry import register_env\n",
    "import sqlite3 as db\n",
    "\n",
    "from IPython. display import display"
   ]
  },
  {
   "cell_type": "code",
   "execution_count": 2,
   "metadata": {},
   "outputs": [],
   "source": [
    "image=build_market_image(target_pair='ETH/USDT',time_frame='1h',axis=0)"
   ]
  },
  {
   "cell_type": "code",
   "execution_count": 3,
   "metadata": {},
   "outputs": [
    {
     "data": {
      "text/plain": [
       "datetime.datetime(2024, 4, 26, 6, 14, 20, 933581)"
      ]
     },
     "execution_count": 3,
     "metadata": {},
     "output_type": "execute_result"
    }
   ],
   "source": [
    "datetime. datetime.now()-pd.Timedelta('1h').to_pytimedelta()"
   ]
  },
  {
   "cell_type": "code",
   "execution_count": 4,
   "metadata": {},
   "outputs": [
    {
     "data": {
      "text/plain": [
       "<binance.spot.Spot at 0x26c0e1df9a0>"
      ]
     },
     "execution_count": 4,
     "metadata": {},
     "output_type": "execute_result"
    }
   ],
   "source": [
    "trade_target='BTC/USDT'\n",
    "api_key='ZGvDtoVQM9O1xb0PXaSPzMffWtGH3ofxVSbsuzGQNDBwklCHkKm4x1g3nrImqQXF'\n",
    "api_secret='BUDui1xmoP11wGmSV3RqTrtrkmYU5EyogHMtigVQgTGoQxjcibkuwjN5Et169f4o'\n",
    "\n",
    "client =Spot(api_key=api_key,api_secret=api_secret,base_url='https://testnet.binance.vision')\n",
    "client\n"
   ]
  },
  {
   "cell_type": "code",
   "execution_count": 5,
   "metadata": {},
   "outputs": [],
   "source": [
    "# account=client.account()"
   ]
  },
  {
   "cell_type": "code",
   "execution_count": 6,
   "metadata": {},
   "outputs": [],
   "source": [
    "# client.avg_price('ETHUSDT'),client.ticker_price('ETHUSDT')\n"
   ]
  },
  {
   "cell_type": "code",
   "execution_count": 7,
   "metadata": {},
   "outputs": [
    {
     "name": "stderr",
     "output_type": "stream",
     "text": [
      "Seed set to 1\n",
      "Seed set to 1\n",
      "Seed set to 1\n"
     ]
    }
   ],
   "source": [
    "\n",
    "model=NeuralForecast.load(\"C:/Users/standard/Git/MultiTrader/forecaster_pretrain/neuralForecast\")"
   ]
  },
  {
   "cell_type": "code",
   "execution_count": 8,
   "metadata": {},
   "outputs": [],
   "source": [
    "live_env_config=dict(\n",
    "                name='ETHUSDT_train',\n",
    "                model=model,\n",
    "                api_key=api_key,\n",
    "                api_secret=api_secret,\n",
    "                test_net=True,\n",
    "                restore_trading=False,\n",
    "                target_symbol='ETH/USDT',\n",
    "                time_frame='1h',\n",
    "                reward_function=sharpe_reward,\n",
    "                positions = [ -.5,-.25,.25, .5], # -1 (=SHORT), 0(=OUT), +1 (=LONG)\n",
    "                trading_fees = 0.01/100, # 0.01% per stock buy / sell (Binance fees)\n",
    "                borrow_interest_rate= 0.0003/100, # 0.0003% per timestep (one timestep = 1h here)\n",
    "                max_episode_duration=168,\n",
    "                verbose=0,\n",
    "                )"
   ]
  },
  {
   "cell_type": "code",
   "execution_count": 9,
   "metadata": {},
   "outputs": [
    {
     "data": {
      "text/html": [
       "<div>\n",
       "<style scoped>\n",
       "    .dataframe tbody tr th:only-of-type {\n",
       "        vertical-align: middle;\n",
       "    }\n",
       "\n",
       "    .dataframe tbody tr th {\n",
       "        vertical-align: top;\n",
       "    }\n",
       "\n",
       "    .dataframe thead th {\n",
       "        text-align: right;\n",
       "    }\n",
       "</style>\n",
       "<table border=\"1\" class=\"dataframe\">\n",
       "  <thead>\n",
       "    <tr style=\"text-align: right;\">\n",
       "      <th></th>\n",
       "      <th>open</th>\n",
       "      <th>high</th>\n",
       "      <th>low</th>\n",
       "      <th>close</th>\n",
       "      <th>volume</th>\n",
       "      <th>y</th>\n",
       "      <th>feature_hour_of_day</th>\n",
       "      <th>feature_day_of_week</th>\n",
       "      <th>feature_day_of_month</th>\n",
       "      <th>feature_day_of_year</th>\n",
       "      <th>...</th>\n",
       "      <th>feature_log_volume_20</th>\n",
       "      <th>feature_log_return_25</th>\n",
       "      <th>feature_log_volume_25</th>\n",
       "      <th>feature_log_return_30</th>\n",
       "      <th>feature_log_volume_30</th>\n",
       "      <th>ds</th>\n",
       "      <th>symbol</th>\n",
       "      <th>unique_id</th>\n",
       "      <th>dynamic_feature__0</th>\n",
       "      <th>dynamic_feature__1</th>\n",
       "    </tr>\n",
       "    <tr>\n",
       "      <th>date_close</th>\n",
       "      <th></th>\n",
       "      <th></th>\n",
       "      <th></th>\n",
       "      <th></th>\n",
       "      <th></th>\n",
       "      <th></th>\n",
       "      <th></th>\n",
       "      <th></th>\n",
       "      <th></th>\n",
       "      <th></th>\n",
       "      <th></th>\n",
       "      <th></th>\n",
       "      <th></th>\n",
       "      <th></th>\n",
       "      <th></th>\n",
       "      <th></th>\n",
       "      <th></th>\n",
       "      <th></th>\n",
       "      <th></th>\n",
       "      <th></th>\n",
       "      <th></th>\n",
       "    </tr>\n",
       "  </thead>\n",
       "  <tbody>\n",
       "    <tr>\n",
       "      <th>2024-04-23 14:59:59.999</th>\n",
       "      <td>3176.969664</td>\n",
       "      <td>3261.212108</td>\n",
       "      <td>3192.878325</td>\n",
       "      <td>3232.715073</td>\n",
       "      <td>217.073978</td>\n",
       "      <td>3232.715073</td>\n",
       "      <td>0.608696</td>\n",
       "      <td>0.333333</td>\n",
       "      <td>-2.1</td>\n",
       "      <td>22.976256</td>\n",
       "      <td>...</td>\n",
       "      <td>0.527503</td>\n",
       "      <td>0.808189</td>\n",
       "      <td>0.564927</td>\n",
       "      <td>0.887166</td>\n",
       "      <td>0.750357</td>\n",
       "      <td>2024-04-23 14:59:59.999</td>\n",
       "      <td>ETHUSDT</td>\n",
       "      <td>8</td>\n",
       "      <td>0</td>\n",
       "      <td>0</td>\n",
       "    </tr>\n",
       "    <tr>\n",
       "      <th>2024-04-23 15:59:59.999</th>\n",
       "      <td>3232.319664</td>\n",
       "      <td>4863.752108</td>\n",
       "      <td>3150.458325</td>\n",
       "      <td>3210.595073</td>\n",
       "      <td>237.855078</td>\n",
       "      <td>3210.595073</td>\n",
       "      <td>0.652174</td>\n",
       "      <td>0.333333</td>\n",
       "      <td>-2.1</td>\n",
       "      <td>22.976256</td>\n",
       "      <td>...</td>\n",
       "      <td>0.527503</td>\n",
       "      <td>0.808189</td>\n",
       "      <td>0.564927</td>\n",
       "      <td>0.887166</td>\n",
       "      <td>0.750357</td>\n",
       "      <td>2024-04-23 15:59:59.999</td>\n",
       "      <td>ETHUSDT</td>\n",
       "      <td>8</td>\n",
       "      <td>0</td>\n",
       "      <td>0</td>\n",
       "    </tr>\n",
       "    <tr>\n",
       "      <th>2024-04-23 16:59:59.999</th>\n",
       "      <td>3210.439664</td>\n",
       "      <td>3242.552108</td>\n",
       "      <td>3217.368325</td>\n",
       "      <td>3216.245073</td>\n",
       "      <td>169.812478</td>\n",
       "      <td>3216.245073</td>\n",
       "      <td>0.695652</td>\n",
       "      <td>0.333333</td>\n",
       "      <td>-2.1</td>\n",
       "      <td>22.976256</td>\n",
       "      <td>...</td>\n",
       "      <td>0.527503</td>\n",
       "      <td>0.808189</td>\n",
       "      <td>0.564927</td>\n",
       "      <td>0.887166</td>\n",
       "      <td>0.750357</td>\n",
       "      <td>2024-04-23 16:59:59.999</td>\n",
       "      <td>ETHUSDT</td>\n",
       "      <td>8</td>\n",
       "      <td>0</td>\n",
       "      <td>0</td>\n",
       "    </tr>\n",
       "    <tr>\n",
       "      <th>2024-04-23 17:59:59.999</th>\n",
       "      <td>3215.189664</td>\n",
       "      <td>3243.402108</td>\n",
       "      <td>3225.218325</td>\n",
       "      <td>3226.945073</td>\n",
       "      <td>166.075978</td>\n",
       "      <td>3226.945073</td>\n",
       "      <td>0.739130</td>\n",
       "      <td>0.333333</td>\n",
       "      <td>-2.1</td>\n",
       "      <td>22.976256</td>\n",
       "      <td>...</td>\n",
       "      <td>0.527503</td>\n",
       "      <td>0.808189</td>\n",
       "      <td>0.564927</td>\n",
       "      <td>0.887166</td>\n",
       "      <td>0.750357</td>\n",
       "      <td>2024-04-23 17:59:59.999</td>\n",
       "      <td>ETHUSDT</td>\n",
       "      <td>8</td>\n",
       "      <td>0</td>\n",
       "      <td>0</td>\n",
       "    </tr>\n",
       "    <tr>\n",
       "      <th>2024-04-23 18:59:59.999</th>\n",
       "      <td>3226.859664</td>\n",
       "      <td>3247.652108</td>\n",
       "      <td>3220.078325</td>\n",
       "      <td>3208.445073</td>\n",
       "      <td>174.348078</td>\n",
       "      <td>3208.445073</td>\n",
       "      <td>0.782609</td>\n",
       "      <td>0.333333</td>\n",
       "      <td>-2.1</td>\n",
       "      <td>22.976256</td>\n",
       "      <td>...</td>\n",
       "      <td>0.527503</td>\n",
       "      <td>0.808189</td>\n",
       "      <td>0.564927</td>\n",
       "      <td>0.887166</td>\n",
       "      <td>0.750357</td>\n",
       "      <td>2024-04-23 18:59:59.999</td>\n",
       "      <td>ETHUSDT</td>\n",
       "      <td>8</td>\n",
       "      <td>0</td>\n",
       "      <td>0</td>\n",
       "    </tr>\n",
       "    <tr>\n",
       "      <th>...</th>\n",
       "      <td>...</td>\n",
       "      <td>...</td>\n",
       "      <td>...</td>\n",
       "      <td>...</td>\n",
       "      <td>...</td>\n",
       "      <td>...</td>\n",
       "      <td>...</td>\n",
       "      <td>...</td>\n",
       "      <td>...</td>\n",
       "      <td>...</td>\n",
       "      <td>...</td>\n",
       "      <td>...</td>\n",
       "      <td>...</td>\n",
       "      <td>...</td>\n",
       "      <td>...</td>\n",
       "      <td>...</td>\n",
       "      <td>...</td>\n",
       "      <td>...</td>\n",
       "      <td>...</td>\n",
       "      <td>...</td>\n",
       "      <td>...</td>\n",
       "    </tr>\n",
       "    <tr>\n",
       "      <th>2024-04-26 00:59:59.999</th>\n",
       "      <td>3140.959664</td>\n",
       "      <td>3309.062108</td>\n",
       "      <td>3133.968325</td>\n",
       "      <td>3126.825073</td>\n",
       "      <td>108.683778</td>\n",
       "      <td>3126.825073</td>\n",
       "      <td>0.000000</td>\n",
       "      <td>0.833333</td>\n",
       "      <td>-2.0</td>\n",
       "      <td>22.984475</td>\n",
       "      <td>...</td>\n",
       "      <td>0.309904</td>\n",
       "      <td>0.809443</td>\n",
       "      <td>-0.014214</td>\n",
       "      <td>0.891598</td>\n",
       "      <td>0.249762</td>\n",
       "      <td>2024-04-26 00:59:59.999</td>\n",
       "      <td>ETHUSDT</td>\n",
       "      <td>8</td>\n",
       "      <td>0</td>\n",
       "      <td>0</td>\n",
       "    </tr>\n",
       "    <tr>\n",
       "      <th>2024-04-26 01:59:59.999</th>\n",
       "      <td>3126.859664</td>\n",
       "      <td>3150.132108</td>\n",
       "      <td>3125.768325</td>\n",
       "      <td>3135.565073</td>\n",
       "      <td>134.004178</td>\n",
       "      <td>3135.565073</td>\n",
       "      <td>0.043478</td>\n",
       "      <td>0.833333</td>\n",
       "      <td>-2.0</td>\n",
       "      <td>22.984475</td>\n",
       "      <td>...</td>\n",
       "      <td>0.114413</td>\n",
       "      <td>0.805312</td>\n",
       "      <td>0.265906</td>\n",
       "      <td>0.889580</td>\n",
       "      <td>-0.658777</td>\n",
       "      <td>2024-04-26 01:59:59.999</td>\n",
       "      <td>ETHUSDT</td>\n",
       "      <td>8</td>\n",
       "      <td>0</td>\n",
       "      <td>0</td>\n",
       "    </tr>\n",
       "    <tr>\n",
       "      <th>2024-04-26 02:59:59.999</th>\n",
       "      <td>3135.459664</td>\n",
       "      <td>3342.162108</td>\n",
       "      <td>3088.748325</td>\n",
       "      <td>3139.025073</td>\n",
       "      <td>129.019178</td>\n",
       "      <td>3139.025073</td>\n",
       "      <td>0.086957</td>\n",
       "      <td>0.833333</td>\n",
       "      <td>-2.0</td>\n",
       "      <td>22.984475</td>\n",
       "      <td>...</td>\n",
       "      <td>0.351348</td>\n",
       "      <td>0.807732</td>\n",
       "      <td>0.183101</td>\n",
       "      <td>0.893949</td>\n",
       "      <td>0.179200</td>\n",
       "      <td>2024-04-26 02:59:59.999</td>\n",
       "      <td>ETHUSDT</td>\n",
       "      <td>8</td>\n",
       "      <td>0</td>\n",
       "      <td>0</td>\n",
       "    </tr>\n",
       "    <tr>\n",
       "      <th>2024-04-26 03:59:59.999</th>\n",
       "      <td>3138.359664</td>\n",
       "      <td>3154.382108</td>\n",
       "      <td>3141.308325</td>\n",
       "      <td>3125.565073</td>\n",
       "      <td>102.275478</td>\n",
       "      <td>3125.565073</td>\n",
       "      <td>0.130435</td>\n",
       "      <td>0.833333</td>\n",
       "      <td>-2.0</td>\n",
       "      <td>22.984475</td>\n",
       "      <td>...</td>\n",
       "      <td>-0.056798</td>\n",
       "      <td>0.803549</td>\n",
       "      <td>-0.083225</td>\n",
       "      <td>0.885150</td>\n",
       "      <td>0.262736</td>\n",
       "      <td>2024-04-26 03:59:59.999</td>\n",
       "      <td>ETHUSDT</td>\n",
       "      <td>8</td>\n",
       "      <td>0</td>\n",
       "      <td>0</td>\n",
       "    </tr>\n",
       "    <tr>\n",
       "      <th>2024-04-26 04:59:59.999</th>\n",
       "      <td>3125.399664</td>\n",
       "      <td>3140.622108</td>\n",
       "      <td>999.558325</td>\n",
       "      <td>3119.465073</td>\n",
       "      <td>135.530078</td>\n",
       "      <td>3119.465073</td>\n",
       "      <td>0.173913</td>\n",
       "      <td>0.833333</td>\n",
       "      <td>-2.0</td>\n",
       "      <td>22.984475</td>\n",
       "      <td>...</td>\n",
       "      <td>0.509235</td>\n",
       "      <td>0.803369</td>\n",
       "      <td>0.115625</td>\n",
       "      <td>0.887890</td>\n",
       "      <td>0.511045</td>\n",
       "      <td>2024-04-26 04:59:59.999</td>\n",
       "      <td>ETHUSDT</td>\n",
       "      <td>8</td>\n",
       "      <td>0</td>\n",
       "      <td>0</td>\n",
       "    </tr>\n",
       "  </tbody>\n",
       "</table>\n",
       "<p>63 rows × 32 columns</p>\n",
       "</div>"
      ],
      "text/plain": [
       "                                open         high          low        close  \\\n",
       "date_close                                                                    \n",
       "2024-04-23 14:59:59.999  3176.969664  3261.212108  3192.878325  3232.715073   \n",
       "2024-04-23 15:59:59.999  3232.319664  4863.752108  3150.458325  3210.595073   \n",
       "2024-04-23 16:59:59.999  3210.439664  3242.552108  3217.368325  3216.245073   \n",
       "2024-04-23 17:59:59.999  3215.189664  3243.402108  3225.218325  3226.945073   \n",
       "2024-04-23 18:59:59.999  3226.859664  3247.652108  3220.078325  3208.445073   \n",
       "...                              ...          ...          ...          ...   \n",
       "2024-04-26 00:59:59.999  3140.959664  3309.062108  3133.968325  3126.825073   \n",
       "2024-04-26 01:59:59.999  3126.859664  3150.132108  3125.768325  3135.565073   \n",
       "2024-04-26 02:59:59.999  3135.459664  3342.162108  3088.748325  3139.025073   \n",
       "2024-04-26 03:59:59.999  3138.359664  3154.382108  3141.308325  3125.565073   \n",
       "2024-04-26 04:59:59.999  3125.399664  3140.622108   999.558325  3119.465073   \n",
       "\n",
       "                             volume            y  feature_hour_of_day  \\\n",
       "date_close                                                              \n",
       "2024-04-23 14:59:59.999  217.073978  3232.715073             0.608696   \n",
       "2024-04-23 15:59:59.999  237.855078  3210.595073             0.652174   \n",
       "2024-04-23 16:59:59.999  169.812478  3216.245073             0.695652   \n",
       "2024-04-23 17:59:59.999  166.075978  3226.945073             0.739130   \n",
       "2024-04-23 18:59:59.999  174.348078  3208.445073             0.782609   \n",
       "...                             ...          ...                  ...   \n",
       "2024-04-26 00:59:59.999  108.683778  3126.825073             0.000000   \n",
       "2024-04-26 01:59:59.999  134.004178  3135.565073             0.043478   \n",
       "2024-04-26 02:59:59.999  129.019178  3139.025073             0.086957   \n",
       "2024-04-26 03:59:59.999  102.275478  3125.565073             0.130435   \n",
       "2024-04-26 04:59:59.999  135.530078  3119.465073             0.173913   \n",
       "\n",
       "                         feature_day_of_week  feature_day_of_month  \\\n",
       "date_close                                                           \n",
       "2024-04-23 14:59:59.999             0.333333                  -2.1   \n",
       "2024-04-23 15:59:59.999             0.333333                  -2.1   \n",
       "2024-04-23 16:59:59.999             0.333333                  -2.1   \n",
       "2024-04-23 17:59:59.999             0.333333                  -2.1   \n",
       "2024-04-23 18:59:59.999             0.333333                  -2.1   \n",
       "...                                      ...                   ...   \n",
       "2024-04-26 00:59:59.999             0.833333                  -2.0   \n",
       "2024-04-26 01:59:59.999             0.833333                  -2.0   \n",
       "2024-04-26 02:59:59.999             0.833333                  -2.0   \n",
       "2024-04-26 03:59:59.999             0.833333                  -2.0   \n",
       "2024-04-26 04:59:59.999             0.833333                  -2.0   \n",
       "\n",
       "                         feature_day_of_year  ...  feature_log_volume_20  \\\n",
       "date_close                                    ...                          \n",
       "2024-04-23 14:59:59.999            22.976256  ...               0.527503   \n",
       "2024-04-23 15:59:59.999            22.976256  ...               0.527503   \n",
       "2024-04-23 16:59:59.999            22.976256  ...               0.527503   \n",
       "2024-04-23 17:59:59.999            22.976256  ...               0.527503   \n",
       "2024-04-23 18:59:59.999            22.976256  ...               0.527503   \n",
       "...                                      ...  ...                    ...   \n",
       "2024-04-26 00:59:59.999            22.984475  ...               0.309904   \n",
       "2024-04-26 01:59:59.999            22.984475  ...               0.114413   \n",
       "2024-04-26 02:59:59.999            22.984475  ...               0.351348   \n",
       "2024-04-26 03:59:59.999            22.984475  ...              -0.056798   \n",
       "2024-04-26 04:59:59.999            22.984475  ...               0.509235   \n",
       "\n",
       "                         feature_log_return_25  feature_log_volume_25  \\\n",
       "date_close                                                              \n",
       "2024-04-23 14:59:59.999               0.808189               0.564927   \n",
       "2024-04-23 15:59:59.999               0.808189               0.564927   \n",
       "2024-04-23 16:59:59.999               0.808189               0.564927   \n",
       "2024-04-23 17:59:59.999               0.808189               0.564927   \n",
       "2024-04-23 18:59:59.999               0.808189               0.564927   \n",
       "...                                        ...                    ...   \n",
       "2024-04-26 00:59:59.999               0.809443              -0.014214   \n",
       "2024-04-26 01:59:59.999               0.805312               0.265906   \n",
       "2024-04-26 02:59:59.999               0.807732               0.183101   \n",
       "2024-04-26 03:59:59.999               0.803549              -0.083225   \n",
       "2024-04-26 04:59:59.999               0.803369               0.115625   \n",
       "\n",
       "                         feature_log_return_30  feature_log_volume_30  \\\n",
       "date_close                                                              \n",
       "2024-04-23 14:59:59.999               0.887166               0.750357   \n",
       "2024-04-23 15:59:59.999               0.887166               0.750357   \n",
       "2024-04-23 16:59:59.999               0.887166               0.750357   \n",
       "2024-04-23 17:59:59.999               0.887166               0.750357   \n",
       "2024-04-23 18:59:59.999               0.887166               0.750357   \n",
       "...                                        ...                    ...   \n",
       "2024-04-26 00:59:59.999               0.891598               0.249762   \n",
       "2024-04-26 01:59:59.999               0.889580              -0.658777   \n",
       "2024-04-26 02:59:59.999               0.893949               0.179200   \n",
       "2024-04-26 03:59:59.999               0.885150               0.262736   \n",
       "2024-04-26 04:59:59.999               0.887890               0.511045   \n",
       "\n",
       "                                             ds   symbol  unique_id  \\\n",
       "date_close                                                            \n",
       "2024-04-23 14:59:59.999 2024-04-23 14:59:59.999  ETHUSDT          8   \n",
       "2024-04-23 15:59:59.999 2024-04-23 15:59:59.999  ETHUSDT          8   \n",
       "2024-04-23 16:59:59.999 2024-04-23 16:59:59.999  ETHUSDT          8   \n",
       "2024-04-23 17:59:59.999 2024-04-23 17:59:59.999  ETHUSDT          8   \n",
       "2024-04-23 18:59:59.999 2024-04-23 18:59:59.999  ETHUSDT          8   \n",
       "...                                         ...      ...        ...   \n",
       "2024-04-26 00:59:59.999 2024-04-26 00:59:59.999  ETHUSDT          8   \n",
       "2024-04-26 01:59:59.999 2024-04-26 01:59:59.999  ETHUSDT          8   \n",
       "2024-04-26 02:59:59.999 2024-04-26 02:59:59.999  ETHUSDT          8   \n",
       "2024-04-26 03:59:59.999 2024-04-26 03:59:59.999  ETHUSDT          8   \n",
       "2024-04-26 04:59:59.999 2024-04-26 04:59:59.999  ETHUSDT          8   \n",
       "\n",
       "                         dynamic_feature__0  dynamic_feature__1  \n",
       "date_close                                                       \n",
       "2024-04-23 14:59:59.999                   0                   0  \n",
       "2024-04-23 15:59:59.999                   0                   0  \n",
       "2024-04-23 16:59:59.999                   0                   0  \n",
       "2024-04-23 17:59:59.999                   0                   0  \n",
       "2024-04-23 18:59:59.999                   0                   0  \n",
       "...                                     ...                 ...  \n",
       "2024-04-26 00:59:59.999                   0                   0  \n",
       "2024-04-26 01:59:59.999                   0                   0  \n",
       "2024-04-26 02:59:59.999                   0                   0  \n",
       "2024-04-26 03:59:59.999                   0                   0  \n",
       "2024-04-26 04:59:59.999                   0                   0  \n",
       "\n",
       "[63 rows x 32 columns]"
      ]
     },
     "execution_count": 9,
     "metadata": {},
     "output_type": "execute_result"
    }
   ],
   "source": [
    "self=LiveTradingEnv(**live_env_config)\n",
    "self.df"
   ]
  },
  {
   "cell_type": "code",
   "execution_count": 10,
   "metadata": {},
   "outputs": [
    {
     "data": {
      "text/plain": [
       "(51,)"
      ]
     },
     "execution_count": 10,
     "metadata": {},
     "output_type": "execute_result"
    }
   ],
   "source": [
    "obs,info=self.reset(reset_account=False)\n",
    "obs.shape\n"
   ]
  },
  {
   "cell_type": "code",
   "execution_count": 11,
   "metadata": {},
   "outputs": [],
   "source": [
    "from ray.rllib.policy.policy import Policy"
   ]
  },
  {
   "cell_type": "code",
   "execution_count": 12,
   "metadata": {},
   "outputs": [],
   "source": [
    "agent= Policy.from_checkpoint('C:/Users/standard/Git/MultiTrader/Rayrl_tune/checkpoints/policies/default_policy')\n",
    "\n",
    "agent.export_model('C:/Users/standard/Git/MultiTrader/Rayrl_tune/checkpoints/pretrained_agent')\n"
   ]
  },
  {
   "cell_type": "code",
   "execution_count": 13,
   "metadata": {},
   "outputs": [],
   "source": [
    "# action,_,states=agent.compute_single_action(obs)\n",
    "# obs, reward, terminated, truncated, info=self.live_step(action,wait=False)\n",
    "# action,_,states=agent.compute_single_action(obs)\n"
   ]
  },
  {
   "cell_type": "code",
   "execution_count": 14,
   "metadata": {},
   "outputs": [
    {
     "name": "stdout",
     "output_type": "stream",
     "text": [
      "reset_account\n",
      "{'symbol': 'ETHUSDT', 'side': 'BUY', 'type': 'MARKET', 'quoteOrderQty': 5228.2486005}\n",
      " 0.5\n",
      "portfoliio {'asset': 1.9094, 'fiat': 5975.405565, 'borrowed_asset': 0, 'borrowed_fiat': 0, 'interest_asset': 0, 'interest_fiat': 0, 'valuation': 11952.018505}\n",
      "Trade 0->0.5\n",
      "              0.5, so 2987.7USDT/ 1.9090142695121561ETH,\n",
      "              BUY ETH:1.9090142695121561 for 2987.70$ at 3130.1 ETHUSDT\n",
      "{'symbol': 'ETHUSDT', 'side': 'BUY', 'type': 'MARKET', 'quoteOrderQty': 2987.7027825}\n"
     ]
    },
    {
     "data": {
      "application/vnd.jupyter.widget-view+json": {
       "model_id": "887891922ae4401f8bcb0b6b486561ac",
       "version_major": 2,
       "version_minor": 0
      },
      "text/plain": [
       "  0%|          | 0/2723 [00:00<?, ?it/s]"
      ]
     },
     "metadata": {},
     "output_type": "display_data"
    }
   ],
   "source": [
    "obs,info=self.reset(reset_account=True)\n",
    "while True:\n",
    "    action,_,states=agent.compute_single_action(obs)\n",
    "    obs, reward, terminated, truncated, info=self.live_step(action,wait=True)"
   ]
  },
  {
   "cell_type": "code",
   "execution_count": null,
   "metadata": {},
   "outputs": [],
   "source": [
    "self.df.iloc[-1]"
   ]
  },
  {
   "cell_type": "code",
   "execution_count": null,
   "metadata": {},
   "outputs": [],
   "source": [
    "# h=self.historical_info[0]\n",
    "history_df=pd.DataFrame([self.historical_info[-1]])\n",
    "history_df"
   ]
  },
  {
   "cell_type": "code",
   "execution_count": null,
   "metadata": {},
   "outputs": [],
   "source": [
    "import sqlite3 as db\n",
    "\n",
    "\n",
    "\n",
    "\n",
    "# connect to a test DB with one three-column table titled \"Demo\"\n",
    "conn = db.connect('Trade_history/trade.db')\n",
    "cur = conn .cursor()"
   ]
  },
  {
   "cell_type": "code",
   "execution_count": null,
   "metadata": {},
   "outputs": [],
   "source": [
    "history_df.to_sql(f'{self.symbol}_trade_history',conn,if_exists='append')"
   ]
  },
  {
   "cell_type": "code",
   "execution_count": null,
   "metadata": {},
   "outputs": [],
   "source": [
    "history_df=pd.read_sql(f'select * from {self.symbol}_trade_history',conn)\n",
    "history_df"
   ]
  },
  {
   "cell_type": "code",
   "execution_count": null,
   "metadata": {},
   "outputs": [],
   "source": [
    "self.historical_info[-1]"
   ]
  },
  {
   "cell_type": "code",
   "execution_count": null,
   "metadata": {},
   "outputs": [],
   "source": [
    "for h in self.historical_info:\n",
    "    insert_sql = f'INSERT INTO {self.symbol}_trade_history {h}' \n",
    "    conn.execute(insert_sql)"
   ]
  },
  {
   "cell_type": "code",
   "execution_count": null,
   "metadata": {},
   "outputs": [],
   "source": [
    "client.klines(\"BNBUSDT\", \"1h\", limit=1)"
   ]
  },
  {
   "cell_type": "code",
   "execution_count": null,
   "metadata": {},
   "outputs": [],
   "source": [
    "self._get_ticker()"
   ]
  },
  {
   "cell_type": "code",
   "execution_count": null,
   "metadata": {},
   "outputs": [],
   "source": [
    "data_list=client.klines(\"BNBUSDT\", \"1h\", limit=10)\n",
    "columns=['date_open','open','high','low','close','volume','date_close','QA_volume','N_trades','BA_volume','BQ_volume','unused']\n",
    "data=pd.DataFrame(data_list,columns=columns)\n",
    "data['date_close']=data['date_close'].apply(pd.to_datetime,unit='ms')\n",
    "data['date_open']=data['date_open'].apply(pd.to_datetime,unit='ms')\n",
    "\n",
    "# data_list"
   ]
  },
  {
   "cell_type": "code",
   "execution_count": null,
   "metadata": {},
   "outputs": [],
   "source": [
    "data"
   ]
  },
  {
   "cell_type": "code",
   "execution_count": null,
   "metadata": {},
   "outputs": [],
   "source": []
  }
 ],
 "metadata": {
  "kernelspec": {
   "display_name": "Python 3",
   "language": "python",
   "name": "python3"
  },
  "language_info": {
   "codemirror_mode": {
    "name": "ipython",
    "version": 3
   },
   "file_extension": ".py",
   "mimetype": "text/x-python",
   "name": "python",
   "nbconvert_exporter": "python",
   "pygments_lexer": "ipython3",
   "version": "3.9.19"
  }
 },
 "nbformat": 4,
 "nbformat_minor": 2
}
