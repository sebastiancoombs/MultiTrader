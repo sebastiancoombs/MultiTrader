{
 "cells": [
  {
   "cell_type": "code",
   "execution_count": 2,
   "metadata": {},
   "outputs": [],
   "source": [
    "import datetime\n",
    "import warnings\n",
    "# warnings.filterwarnings('ignore')\n",
    "\n",
    "import pandas as pd\n",
    "from binance.spot import Spot\n",
    "from binance.websocket.spot.websocket_stream import SpotWebsocketStreamClient\n",
    "# WebSocket API Client\n",
    "from binance.websocket.spot.websocket_api import SpotWebsocketAPIClient\n",
    "from Keys import *\n",
    "from MultiTrade.live_environments import LiveTradingEnv\n",
    "from neuralforecast.core import NeuralForecast\n",
    "from ray.rllib.policy.policy import Policy\n",
    "from IPython. display import display\n",
    "from pprint import pprint\n",
    "from utils.utils import build_market_image, sharpe_reward, symbol_map, binanace_col_map\n",
    "import json\n",
    "import ast\n",
    "import sqlite3 as db\n",
    "from utils.rendering import LiveRenderer\n",
    "import subprocess\n",
    "import time\n",
    "import threading"
   ]
  },
  {
   "cell_type": "code",
   "execution_count": 3,
   "metadata": {},
   "outputs": [],
   "source": [
    "image=build_market_image(target_pair='ETH/USDT',time_frame='1h',axis=0)"
   ]
  },
  {
   "cell_type": "code",
   "execution_count": 4,
   "metadata": {},
   "outputs": [
    {
     "data": {
      "text/plain": [
       "datetime.datetime(2024, 5, 30, 9, 9, 7, 809201)"
      ]
     },
     "execution_count": 4,
     "metadata": {},
     "output_type": "execute_result"
    }
   ],
   "source": [
    "datetime. datetime.now()-pd.Timedelta('1h').to_pytimedelta()"
   ]
  },
  {
   "cell_type": "code",
   "execution_count": 5,
   "metadata": {},
   "outputs": [
    {
     "data": {
      "text/plain": [
       "<binance.spot.Spot at 0x108409630>"
      ]
     },
     "execution_count": 5,
     "metadata": {},
     "output_type": "execute_result"
    }
   ],
   "source": [
    "trade_target='BTC/USDT'\n",
    "api_key=binanace_api_key\n",
    "api_secret=binance_api_secret\n",
    "\n",
    "client =Spot(api_key=api_key,api_secret=api_secret,base_url='https://testnet.binance.vision')\n",
    "client\n"
   ]
  },
  {
   "cell_type": "code",
   "execution_count": null,
   "metadata": {},
   "outputs": [],
   "source": []
  },
  {
   "cell_type": "code",
   "execution_count": 6,
   "metadata": {},
   "outputs": [],
   "source": [
    "binanace_col_map={\n",
    "                    \"t\": \"date_open\",\n",
    "                    \"T\": \"date_close\",\n",
    "                    \"s\": \"symbol\",\n",
    "                    \"o\": \"open\",\n",
    "                    \"c\": \"close\",\n",
    "                    \"h\": \"high\",\n",
    "                    \"l\": \"low\",\n",
    "                    \"v\": \"volume\",\n",
    "                    \"x\": \"is_closed\",\n",
    "                }"
   ]
  },
  {
   "cell_type": "code",
   "execution_count": null,
   "metadata": {},
   "outputs": [],
   "source": []
  },
  {
   "cell_type": "code",
   "execution_count": 7,
   "metadata": {},
   "outputs": [],
   "source": [
    "import pytorch_lightning\n",
    "import logging\n"
   ]
  },
  {
   "cell_type": "code",
   "execution_count": 8,
   "metadata": {},
   "outputs": [],
   "source": [
    "pytorch_lightning._logger.setLevel(0)"
   ]
  },
  {
   "cell_type": "code",
   "execution_count": 9,
   "metadata": {},
   "outputs": [],
   "source": [
    "import logging\n",
    "logging.getLogger('lightning').setLevel(0)"
   ]
  },
  {
   "cell_type": "code",
   "execution_count": 10,
   "metadata": {},
   "outputs": [],
   "source": [
    "symbol=\"ETHUSDT\"\n",
    "history_path='Trade_history/trade.db'\n",
    "\n",
    "conn=db.connect(history_path)"
   ]
  },
  {
   "cell_type": "code",
   "execution_count": 11,
   "metadata": {},
   "outputs": [
    {
     "name": "stderr",
     "output_type": "stream",
     "text": [
      "Seed set to 5\n"
     ]
    },
    {
     "name": "stderr",
     "output_type": "stream",
     "text": [
      "Seed set to 11\n",
      "Seed set to 17\n",
      "Seed set to 6\n"
     ]
    }
   ],
   "source": [
    "\n",
    "model=NeuralForecast.load(\"forecasting_model\",verbose=False)\n"
   ]
  },
  {
   "cell_type": "code",
   "execution_count": 12,
   "metadata": {},
   "outputs": [],
   "source": [
    "agent_dir='Agent/final_checkpoints/policies/default_policy'\n",
    "agent= Policy.from_checkpoint(agent_dir)"
   ]
  },
  {
   "cell_type": "code",
   "execution_count": 13,
   "metadata": {},
   "outputs": [],
   "source": [
    "live_env_config=dict(\n",
    "                name='ETHUSDT_train',\n",
    "                model=model,\n",
    "                agent=agent,\n",
    "                api_key=api_key,\n",
    "                api_secret=api_secret,\n",
    "                test_net=True,\n",
    "                restore_trading=False,\n",
    "                target_symbol='ETH/USDT',\n",
    "                time_frame='1h',\n",
    "                reward_function=sharpe_reward,\n",
    "                positions = [ -.5,-.25,.25, .5], # -1 (=SHORT), 0(=OUT), +1 (=LONG)\n",
    "                trading_fees = 0.01/100, # 0.01% per stock buy / sell (Binance fees)\n",
    "                borrow_interest_rate= 0.0003/100, # 0.0003% per timestep (one timestep = 1h here)\n",
    "                max_episode_duration=168,\n",
    "                verbose=0,\n",
    "                )"
   ]
  },
  {
   "cell_type": "code",
   "execution_count": 14,
   "metadata": {},
   "outputs": [
    {
     "name": "stdout",
     "output_type": "stream",
     "text": [
      "WARNING: Predict insample might not provide accurate predictions for                       recurrent model AutoLSTM class yet due to scaling.\n",
      "reset_account\n",
      "{'symbol': 'ETHUSDT', 'side': 'BUY', 'type': 'MARKET', 'quoteOrderQty': 3204.6784485}\n"
     ]
    }
   ],
   "source": [
    "self=LiveTradingEnv(**live_env_config)\n",
    "self.df\n",
    "obs,info=self.reset(reset_account=False)\n"
   ]
  },
  {
   "cell_type": "code",
   "execution_count": 15,
   "metadata": {},
   "outputs": [
    {
     "data": {
      "text/plain": [
       "1.6929"
      ]
     },
     "execution_count": 15,
     "metadata": {},
     "output_type": "execute_result"
    }
   ],
   "source": [
    "float(self.get_account().loc[self.quote_asset,'free'])\n",
    "float(self.get_account().loc[self.base_asset,'free'])"
   ]
  },
  {
   "cell_type": "code",
   "execution_count": 16,
   "metadata": {},
   "outputs": [],
   "source": [
    "\n",
    "def message_handler(client, message):\n",
    "    try:\n",
    "        print(message)\n",
    "        message_data=json.loads(message)\n",
    "        k_data=message_data['k']\n",
    "\n",
    "\n",
    "        # print(type(data),data)\n",
    "        data=pd.DataFrame([k_data])\n",
    "        \n",
    "        data.columns=data.columns.map(binanace_col_map)\n",
    "        data=data[[c for c in binanace_col_map.values() if c in data.columns]]\n",
    "        display(data)\n",
    "        data=data.drop('date_open',axis=1)\n",
    "        data[\"date_close\"]=pd.to_datetime(data[\"date_close\"],unit='ms')\n",
    "        data=data.set_index('date_close')\n",
    "        data['symbol'] = self.symbol\n",
    "        data['unique_id']=symbol_map[self.symbol]\n",
    "\n",
    "        \n",
    "        conn=db.connect(history_path)\n",
    "        data.to_sql(f'{self.symbol}_candle_history',conn,if_exists='append',index=False)\n",
    "        \n",
    "\n",
    "        if k_data['x']:\n",
    "            data=self.get_data()\n",
    "            self._set_df(data)\n",
    "            self._prep_forecasts()\n",
    "            self._set_df(data)\n",
    "\n",
    "            obs = self._get_obs()\n",
    "            \n",
    "            action,_,states=self.agent.compute_single_action(obs,explore=False)\n",
    "            obs, reward, terminated, truncated, info=self.live_step(action,wait=False)\n",
    "\n",
    "            print(obs.shape)\n",
    "\n",
    "    except Exception as e: \n",
    "        print('bad_data',message)\n",
    "        print(e)"
   ]
  },
  {
   "cell_type": "code",
   "execution_count": 17,
   "metadata": {},
   "outputs": [],
   "source": [
    "def on_start(message):\n",
    "        obs,info=self.reset(reset_account=True)\n",
    "        start_time=datetime. datetime.now().strftime(\"%m-%d-%Y %H:%M\")\n",
    "        print (f'START trading session at {start_time}')\n",
    "        action,_,states=self.agent.compute_single_action(obs,explore=False)\n",
    "        obs, reward, terminated, truncated, info=self.live_step(action,wait=False)\n",
    "\n",
    "def on_close(_,message):\n",
    "        end_time=datetime. datetime.now().strftime(\"%m-%d-%Y %H:%M\")\n",
    "        print (f'FINISH trading session at {end_time}')\n",
    "        self.reset_account()\n",
    "        "
   ]
  },
  {
   "cell_type": "code",
   "execution_count": 18,
   "metadata": {},
   "outputs": [
    {
     "name": "stdout",
     "output_type": "stream",
     "text": [
      "reset_account\n",
      "{'symbol': 'ETHUSDT', 'side': 'BUY', 'type': 'MARKET', 'quoteOrderQty': 0.7301555}\n",
      "(400, -1013, 'Filter failure: NOTIONAL', {'Content-Type': 'application/json;charset=UTF-8', 'Content-Length': '47', 'Connection': 'keep-alive', 'Date': 'Thu, 30 May 2024 17:09:14 GMT', 'Server': 'nginx', 'x-mbx-uuid': '54a81a44-e2ca-47b0-acda-82ffd7cbc009', 'x-mbx-used-weight': '212', 'x-mbx-used-weight-1m': '212', 'Strict-Transport-Security': 'max-age=31536000; includeSubdomains', 'X-Frame-Options': 'SAMEORIGIN', 'X-Xss-Protection': '1; mode=block', 'X-Content-Type-Options': 'nosniff', 'Content-Security-Policy': \"default-src 'self'\", 'X-Content-Security-Policy': \"default-src 'self'\", 'X-WebKit-CSP': \"default-src 'self'\", 'Cache-Control': 'no-cache, no-store, must-revalidate', 'Pragma': 'no-cache', 'Expires': '0', 'X-Cache': 'Error from cloudfront', 'Via': '1.1 fa29d6aa47b7c482fa023ba4aba3882c.cloudfront.net (CloudFront)', 'X-Amz-Cf-Pop': 'LAX53-P1', 'X-Amz-Cf-Id': 'jB-Mn9YW3GlcxfPDue0M9rnIaL5eXzbHI_D5wGugDmw1CmvDhK1yAQ=='}, None)\n",
      "START trading session at 05-30-2024 10:09\n",
      " -0.5\n",
      "portfoliio {'asset': 1.6929, 'fiat': 6404.465194, 'borrowed_asset': 0, 'borrowed_fiat': 0, 'interest_asset': 0, 'interest_fiat': 0, 'valuation': 12807.470077000002}\n",
      "Trade 0->-0.5\n",
      "              -0.5, so 3201.5USDT / 0.84645000 ETH,\n",
      "              SELL ETH:0.84645 for 3201.50$ at 3782.27 ETHUSDT\n",
      "{'symbol': 'ETHUSDT', 'side': 'SELL', 'type': 'MARKET', 'quoteOrderQty': 3201.5024415}\n",
      "WARNING: Predict insample might not provide accurate predictions for                       recurrent model AutoLSTM class yet due to scaling.\n"
     ]
    }
   ],
   "source": [
    "# my_client = SpotWebsocketAPIClient(api_key=api_key,api_secret=api_secret,on_message=self.stream_step,stream_url='wss://testnet.binance.vision')\n",
    "my_client = SpotWebsocketStreamClient(\n",
    "                                    on_close=on_close,\n",
    "                                    on_open=on_start,\n",
    "                                    on_error=on_close,\n",
    "                                    on_message=self.stream_step,\n",
    "                                    stream_url='wss://testnet.binance.vision')\n",
    "# renderer=LiveRenderer('Trade_history/trade.db')"
   ]
  },
  {
   "cell_type": "code",
   "execution_count": 19,
   "metadata": {},
   "outputs": [],
   "source": [
    "class LiveTradingApp(LiveRenderer):\n",
    "        def __init__(self,render_logs_dir,trading_env):\n",
    "                super().__init__(render_logs_dir)\n",
    "                self.trading_env=trading_env\n",
    "                \n",
    "\n",
    "        def run(self):\n",
    "                my_client = SpotWebsocketStreamClient(\n",
    "                        on_close=on_close,\n",
    "                        on_open=on_start,\n",
    "                        on_error=on_close,\n",
    "                        on_message=self.trading_env.stream_step,\n",
    "                        stream_url='wss://testnet.binance.vision')\n",
    "                \n",
    "                my_client.kline(symbol=self.trading_env.symbol,interval=self.trading_env.time_frame)\n",
    "                \n",
    "                super().run()"
   ]
  },
  {
   "cell_type": "code",
   "execution_count": 20,
   "metadata": {},
   "outputs": [
    {
     "name": "stdout",
     "output_type": "stream",
     "text": [
      "reset_account\n",
      "{'symbol': 'ETHUSDT', 'side': 'BUY', 'type': 'MARKET', 'quoteOrderQty': 3202.0434835}\n",
      "START trading session at 05-30-2024 10:09\n",
      " -0.5\n",
      "portfoliio {'asset': 1.6887, 'fiat': 6403.963957, 'borrowed_asset': 0, 'borrowed_fiat': 0, 'interest_asset': 0, 'interest_fiat': 0, 'valuation': 12838.383793}\n",
      "Trade 0->-0.5\n",
      "              -0.5, so 3217.21USDT / 0.84435000 ETH,\n",
      "              SELL ETH:0.84435 for 3217.21$ at 3810.28 ETHUSDT\n",
      "{'symbol': 'ETHUSDT', 'side': 'SELL', 'type': 'MARKET', 'quoteOrderQty': 3217.209918}\n",
      "WARNING: Predict insample might not provide accurate predictions for                       recurrent model AutoLSTM class yet due to scaling.\n",
      " * Serving Flask app 'gym_trading_env.renderer'\n",
      " * Debug mode: off\n"
     ]
    },
    {
     "name": "stderr",
     "output_type": "stream",
     "text": [
      "WARNING: This is a development server. Do not use it in a production deployment. Use a production WSGI server instead.\n",
      " * Running on http://127.0.0.1:5000\n",
      "Press CTRL+C to quit\n"
     ]
    },
    {
     "name": "stdout",
     "output_type": "stream",
     "text": [
      "bad_data {\"result\":null,\"id\":1717088959536}\n",
      "'k'\n"
     ]
    }
   ],
   "source": [
    "renderer=LiveTradingApp('Trade_history/trade.db',self)\n",
    "renderer.run()"
   ]
  },
  {
   "cell_type": "code",
   "execution_count": null,
   "metadata": {},
   "outputs": [
    {
     "name": "stdout",
     "output_type": "stream",
     "text": [
      "reset_account\n",
      "{'symbol': 'ETHUSDT', 'side': 'BUY', 'type': 'MARKET', 'quoteOrderQty': 3202.179427}\n",
      "START trading session at 05-30-2024 09:51\n",
      " -0.5\n",
      "portfoliio {'asset': 1.6931, 'fiat': 6404.77215, 'borrowed_asset': 0, 'borrowed_fiat': 0, 'interest_asset': 0, 'interest_fiat': 0, 'valuation': 12810.108069999998}\n",
      "Trade 0->-0.5\n",
      "              -0.5, so 3202.67USDT / 0.84655000 ETH,\n",
      "              SELL ETH:0.84655 for 3202.67$ at 3783.2 ETHUSDT\n",
      "{'symbol': 'ETHUSDT', 'side': 'SELL', 'type': 'MARKET', 'quoteOrderQty': 3202.66796}\n",
      "WARNING: Predict insample might not provide accurate predictions for                       recurrent model AutoLSTM class yet due to scaling.\n",
      "waiting to reconnect\n",
      " * Serving Flask app 'gym_trading_env.renderer'\n",
      " * Debug mode: off\n"
     ]
    },
    {
     "name": "stderr",
     "output_type": "stream",
     "text": [
      "WARNING: This is a development server. Do not use it in a production deployment. Use a production WSGI server instead.\n",
      " * Running on http://127.0.0.1:5000\n",
      "Press CTRL+C to quit\n"
     ]
    },
    {
     "name": "stdout",
     "output_type": "stream",
     "text": [
      "bad_data {\"result\":null,\"id\":1717087903789}\n",
      "'k'\n",
      "WARNING: Predict insample might not provide accurate predictions for                       recurrent model AutoLSTM class yet due to scaling.\n",
      "stay in position\n",
      "WARNING: Predict insample might not provide accurate predictions for                       recurrent model AutoLSTM class yet due to scaling.\n"
     ]
    }
   ],
   "source": [
    "import threading\n",
    "# Subscribe to a single symbol stream\n",
    "app=threading.Thread(target=renderer.run)\n",
    "\n",
    "for i in range(7):\n",
    "    # my_client = SpotWebsocketAPIClient(api_key=api_key,api_secret=api_secret,on_message=self.stream_step,stream_url='wss://testnet.binance.vision')\n",
    "    my_client = SpotWebsocketStreamClient(\n",
    "                                        on_close=on_close,\n",
    "                                        on_open=on_start,\n",
    "                                        on_error=on_close,\n",
    "                                        on_message=self.stream_step,\n",
    "                                        stream_url='wss://testnet.binance.vision')\n",
    "    wait_time=pd.Timedelta(hours=24).total_seconds()\n",
    "    my_client.kline(symbol=\"ETHUSDT\",interval=\"1h\")\n",
    "    # app=threading.Thread(target=renderer.run,kwargs=dict(symbol=\"ETHUSDT\",interval=\"1h\"))\n",
    "    app.start()\n",
    "    print('waiting to reconnect')\n",
    "    time.sleep(wait_time)\n",
    "\n"
   ]
  },
  {
   "cell_type": "code",
   "execution_count": null,
   "metadata": {},
   "outputs": [],
   "source": [
    "pd.Timestamp(1717013599913,unit='ms')"
   ]
  },
  {
   "cell_type": "code",
   "execution_count": null,
   "metadata": {},
   "outputs": [],
   "source": [
    "# client.avg_price('ETHUSDT'),client.ticker_price('ETHUSDT')\n"
   ]
  },
  {
   "cell_type": "code",
   "execution_count": null,
   "metadata": {},
   "outputs": [],
   "source": [
    "obs,info=self.reset(reset_account=False)\n",
    "obs.shape\n"
   ]
  },
  {
   "cell_type": "code",
   "execution_count": null,
   "metadata": {},
   "outputs": [],
   "source": [
    "from ray.rllib.policy.policy import Policy\n",
    "from ray.rllib.algorithms.algorithm import Algorithm\n"
   ]
  },
  {
   "cell_type": "code",
   "execution_count": null,
   "metadata": {},
   "outputs": [],
   "source": [
    "agent_dir='Agent/final_checkpoints/policies/default_policy'\n",
    "agent= Policy.from_checkpoint(agent_dir)\n",
    "\n",
    "# agent.export_model('Agent/final_checkpoints/pretrained_agent')\n"
   ]
  },
  {
   "cell_type": "code",
   "execution_count": null,
   "metadata": {},
   "outputs": [],
   "source": [
    "# action,_,states=agent.compute_single_action(obs)\n",
    "# obs, reward, terminated, truncated, info=self.live_step(action,wait=False)\n",
    "# action,_,states=agent.compute_single_action(obs)\n"
   ]
  },
  {
   "cell_type": "code",
   "execution_count": null,
   "metadata": {},
   "outputs": [],
   "source": [
    "obs,info=self.reset(reset_account=True)\n",
    "i=0\n",
    "for i in range(10):\n",
    "    action,_,states=agent.compute_single_action(obs,explore=False)\n",
    "    obs, reward, terminated, truncated, info=self.live_step(action,wait=False)"
   ]
  },
  {
   "cell_type": "code",
   "execution_count": null,
   "metadata": {},
   "outputs": [],
   "source": [
    "# h=self.historical_info[0]\n",
    "history_df=pd.DataFrame([self.historical_info[-1]])\n",
    "history_df"
   ]
  },
  {
   "cell_type": "code",
   "execution_count": null,
   "metadata": {},
   "outputs": [],
   "source": [
    "import sqlite3 as db\n",
    "import pandas as pd\n",
    "\n",
    "\n",
    "symbol='ETHUSDT'\n",
    "# connect to a test DB with one three-column table titled \"Demo\"\n",
    "conn = db.connect('Trade_history/trade.db')\n",
    "cur = conn .cursor()"
   ]
  },
  {
   "cell_type": "code",
   "execution_count": null,
   "metadata": {},
   "outputs": [
    {
     "data": {
      "text/html": [
       "<div>\n",
       "<style scoped>\n",
       "    .dataframe tbody tr th:only-of-type {\n",
       "        vertical-align: middle;\n",
       "    }\n",
       "\n",
       "    .dataframe tbody tr th {\n",
       "        vertical-align: top;\n",
       "    }\n",
       "\n",
       "    .dataframe thead th {\n",
       "        text-align: right;\n",
       "    }\n",
       "</style>\n",
       "<table border=\"1\" class=\"dataframe\">\n",
       "  <thead>\n",
       "    <tr style=\"text-align: right;\">\n",
       "      <th></th>\n",
       "      <th>portfolio_valuation</th>\n",
       "      <th>portfolio_distribution_asset</th>\n",
       "      <th>portfolio_distribution_fiat</th>\n",
       "      <th>portfolio_distribution_borrowed_asset</th>\n",
       "      <th>portfolio_distribution_borrowed_fiat</th>\n",
       "      <th>portfolio_distribution_interest_asset</th>\n",
       "      <th>portfolio_distribution_interest_fiat</th>\n",
       "    </tr>\n",
       "  </thead>\n",
       "  <tbody>\n",
       "    <tr>\n",
       "      <th>0</th>\n",
       "      <td>12388.553857</td>\n",
       "      <td>0.0</td>\n",
       "      <td>12388.553857</td>\n",
       "      <td>0.0</td>\n",
       "      <td>0.0</td>\n",
       "      <td>0.0</td>\n",
       "      <td>0.0</td>\n",
       "    </tr>\n",
       "    <tr>\n",
       "      <th>1</th>\n",
       "      <td>12788.485412</td>\n",
       "      <td>NaN</td>\n",
       "      <td>NaN</td>\n",
       "      <td>NaN</td>\n",
       "      <td>NaN</td>\n",
       "      <td>NaN</td>\n",
       "      <td>NaN</td>\n",
       "    </tr>\n",
       "    <tr>\n",
       "      <th>2</th>\n",
       "      <td>9591.069080</td>\n",
       "      <td>NaN</td>\n",
       "      <td>NaN</td>\n",
       "      <td>NaN</td>\n",
       "      <td>NaN</td>\n",
       "      <td>NaN</td>\n",
       "      <td>NaN</td>\n",
       "    </tr>\n",
       "    <tr>\n",
       "      <th>3</th>\n",
       "      <td>9591.069080</td>\n",
       "      <td>NaN</td>\n",
       "      <td>NaN</td>\n",
       "      <td>NaN</td>\n",
       "      <td>NaN</td>\n",
       "      <td>NaN</td>\n",
       "      <td>NaN</td>\n",
       "    </tr>\n",
       "    <tr>\n",
       "      <th>4</th>\n",
       "      <td>9591.069080</td>\n",
       "      <td>NaN</td>\n",
       "      <td>NaN</td>\n",
       "      <td>NaN</td>\n",
       "      <td>NaN</td>\n",
       "      <td>NaN</td>\n",
       "      <td>NaN</td>\n",
       "    </tr>\n",
       "    <tr>\n",
       "      <th>5</th>\n",
       "      <td>9591.069080</td>\n",
       "      <td>NaN</td>\n",
       "      <td>NaN</td>\n",
       "      <td>NaN</td>\n",
       "      <td>NaN</td>\n",
       "      <td>NaN</td>\n",
       "      <td>NaN</td>\n",
       "    </tr>\n",
       "    <tr>\n",
       "      <th>6</th>\n",
       "      <td>9591.069080</td>\n",
       "      <td>NaN</td>\n",
       "      <td>NaN</td>\n",
       "      <td>NaN</td>\n",
       "      <td>NaN</td>\n",
       "      <td>NaN</td>\n",
       "      <td>NaN</td>\n",
       "    </tr>\n",
       "  </tbody>\n",
       "</table>\n",
       "</div>"
      ],
      "text/plain": [
       "   portfolio_valuation  portfolio_distribution_asset  \\\n",
       "0         12388.553857                           0.0   \n",
       "1         12788.485412                           NaN   \n",
       "2          9591.069080                           NaN   \n",
       "3          9591.069080                           NaN   \n",
       "4          9591.069080                           NaN   \n",
       "5          9591.069080                           NaN   \n",
       "6          9591.069080                           NaN   \n",
       "\n",
       "   portfolio_distribution_fiat  portfolio_distribution_borrowed_asset  \\\n",
       "0                 12388.553857                                    0.0   \n",
       "1                          NaN                                    NaN   \n",
       "2                          NaN                                    NaN   \n",
       "3                          NaN                                    NaN   \n",
       "4                          NaN                                    NaN   \n",
       "5                          NaN                                    NaN   \n",
       "6                          NaN                                    NaN   \n",
       "\n",
       "   portfolio_distribution_borrowed_fiat  \\\n",
       "0                                   0.0   \n",
       "1                                   NaN   \n",
       "2                                   NaN   \n",
       "3                                   NaN   \n",
       "4                                   NaN   \n",
       "5                                   NaN   \n",
       "6                                   NaN   \n",
       "\n",
       "   portfolio_distribution_interest_asset  portfolio_distribution_interest_fiat  \n",
       "0                                    0.0                                   0.0  \n",
       "1                                    NaN                                   NaN  \n",
       "2                                    NaN                                   NaN  \n",
       "3                                    NaN                                   NaN  \n",
       "4                                    NaN                                   NaN  \n",
       "5                                    NaN                                   NaN  \n",
       "6                                    NaN                                   NaN  "
      ]
     },
     "execution_count": 10,
     "metadata": {},
     "output_type": "execute_result"
    }
   ],
   "source": [
    "history_df=pd.read_sql(f'select * from {symbol}_trade_history',conn)\n",
    "history_df.filter(like='port')"
   ]
  },
  {
   "cell_type": "code",
   "execution_count": null,
   "metadata": {},
   "outputs": [],
   "source": [
    "history_df.to_sql(f'{self.symbol}_candle_history',conn,if_exists='append')"
   ]
  },
  {
   "cell_type": "code",
   "execution_count": null,
   "metadata": {},
   "outputs": [],
   "source": [
    "self.historical_info[-1]"
   ]
  },
  {
   "cell_type": "code",
   "execution_count": null,
   "metadata": {},
   "outputs": [],
   "source": [
    "for h in self.historical_info:\n",
    "    insert_sql = f'INSERT INTO {self.symbol}_trade_history {h}' \n",
    "    conn.execute(insert_sql)"
   ]
  },
  {
   "cell_type": "code",
   "execution_count": null,
   "metadata": {},
   "outputs": [],
   "source": [
    "client.klines(\"BNBUSDT\", \"1h\", limit=1)"
   ]
  },
  {
   "cell_type": "code",
   "execution_count": null,
   "metadata": {},
   "outputs": [],
   "source": [
    "self._get_ticker()"
   ]
  },
  {
   "cell_type": "code",
   "execution_count": null,
   "metadata": {},
   "outputs": [],
   "source": [
    "data_list=client.klines(\"BNBUSDT\", \"1h\", limit=10)\n",
    "columns=['date_open','open','high','low','close','volume','date_close','QA_volume','N_trades','BA_volume','BQ_volume','unused']\n",
    "data=pd.DataFrame(data_list,columns=columns)\n",
    "data['date_close']=data['date_close'].apply(pd.to_datetime,unit='ms')\n",
    "data['date_open']=data['date_open'].apply(pd.to_datetime,unit='ms')\n",
    "\n",
    "# data_list"
   ]
  },
  {
   "cell_type": "code",
   "execution_count": null,
   "metadata": {},
   "outputs": [],
   "source": [
    "data"
   ]
  },
  {
   "cell_type": "code",
   "execution_count": null,
   "metadata": {},
   "outputs": [],
   "source": []
  }
 ],
 "metadata": {
  "kernelspec": {
   "display_name": "Python 3",
   "language": "python",
   "name": "python3"
  },
  "language_info": {
   "codemirror_mode": {
    "name": "ipython",
    "version": 3
   },
   "file_extension": ".py",
   "mimetype": "text/x-python",
   "name": "python",
   "nbconvert_exporter": "python",
   "pygments_lexer": "ipython3",
   "version": "3.10.14"
  }
 },
 "nbformat": 4,
 "nbformat_minor": 2
}
