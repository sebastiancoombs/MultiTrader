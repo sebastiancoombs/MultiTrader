{
 "cells": [
  {
   "cell_type": "code",
   "execution_count": 1,
   "metadata": {},
   "outputs": [],
   "source": [
    "import os\n",
    "import warnings\n"
   ]
  },
  {
   "cell_type": "code",
   "execution_count": 2,
   "metadata": {},
   "outputs": [],
   "source": [
    "# os.environ[\"PYTHONWARNINGS\"]=\"ignore\"\n",
    "# os.environ[\"PYTORCH_ENABLE_MPS_FALLBACK\"]=\"1\"\n",
    "warnings.filterwarnings(\"ignore\")\n",
    "# os.environ"
   ]
  },
  {
   "cell_type": "code",
   "execution_count": 3,
   "metadata": {},
   "outputs": [],
   "source": [
    "\n",
    "import glob\n",
    "\n",
    "import numpy as np\n",
    "# from ray.tune.search.hyperopt import HyperOptSearch\n",
    "import optuna\n",
    "import pandas as pd\n",
    "import torch\n",
    "from IPython.display import display\n",
    "from neuralforecast.auto import AutoLSTM, AutoNBEATS, AutoNHITS, AutoPatchTST\n",
    "from neuralforecast.core import NeuralForecast\n",
    "from neuralforecast.losses.numpy import mae, mse\n",
    "from neuralforecast.losses.pytorch import MSE\n",
    "from ray import tune\n",
    "from statsforecast import StatsForecast\n",
    "\n",
    "from utils.utils import build_market_image\n",
    "\n",
    "# optuna.logging.set_verbosity(optuna.logging.WARNING) # Use this to disable training prints from optuna"
   ]
  },
  {
   "cell_type": "code",
   "execution_count": 4,
   "metadata": {},
   "outputs": [],
   "source": [
    "COIN_PAIRS=['BTC/USDT','ETH/USDT','SOL/USDT','BNB/USDT','XRP/USDT','ADA/USDT',\n",
    "            'ETH/BTC','SOL/ETH','BNB/ETH','XRP/ETH',\"ADA/ETH\",\n",
    "            'SOL/BTC','SOL/BNB',\n",
    "            'XRP/BTC','XRP/BNB',\n",
    "            'ADA/BTC','ADA/BNB',\n",
    "            ]\n",
    "target_pair='EUR_USD'\n",
    "time_frame=\"1h\""
   ]
  },
  {
   "cell_type": "code",
   "execution_count": 5,
   "metadata": {},
   "outputs": [],
   "source": [
    "data=build_market_image(target_pair='EUR_USD',time_frame='1h',axis=0,dir='data_forex')\n",
    "\n",
    "data=data.groupby('symbol').apply(lambda x: x[:pd.Timestamp('2024-01-01')])\n",
    "\n",
    "data=data.reset_index(level=0,drop=True).reset_index()\n",
    "id_columns=['symbol']\n"
   ]
  },
  {
   "cell_type": "code",
   "execution_count": 6,
   "metadata": {},
   "outputs": [
    {
     "name": "stderr",
     "output_type": "stream",
     "text": [
      "Seed set to 1\n",
      "Seed set to 8\n",
      "Seed set to 18\n",
      "Seed set to 15\n"
     ]
    }
   ],
   "source": [
    "model=NeuralForecast.load(\"FX_forecasting_model/\")"
   ]
  },
  {
   "cell_type": "code",
   "execution_count": null,
   "metadata": {},
   "outputs": [],
   "source": [
    "sub_model=model.models[0]\n",
    "context_length=max([sub_model.hparams['input_size'] for sub_model in model.models])\n",
    "context_length"
   ]
  },
  {
   "cell_type": "code",
   "execution_count": null,
   "metadata": {},
   "outputs": [],
   "source": [
    "front=['y','ds','symbol']\n",
    "data=data[front+[c for c in data.columns if c not in front]]\n",
    "data=data[front]"
   ]
  },
  {
   "cell_type": "markdown",
   "metadata": {},
   "source": []
  },
  {
   "cell_type": "code",
   "execution_count": null,
   "metadata": {},
   "outputs": [],
   "source": [
    "eth_data=data[data['symbol']==target_pair].copy()\n",
    "# data=eth_data\n",
    "split=context_length\n",
    "\n",
    "test=data.groupby('symbol').tail(split)\n",
    "test.groupby('symbol').apply(lambda x: len(x))\n",
    "\n"
   ]
  },
  {
   "cell_type": "code",
   "execution_count": null,
   "metadata": {},
   "outputs": [],
   "source": [
    "preds=model.predict(test)"
   ]
  },
  {
   "cell_type": "code",
   "execution_count": null,
   "metadata": {},
   "outputs": [],
   "source": [
    "StatsForecast.plot(test,preds,id_col='symbol', engine='matplotlib')\n"
   ]
  }
 ],
 "metadata": {
  "kernelspec": {
   "display_name": "base",
   "language": "python",
   "name": "python3"
  },
  "language_info": {
   "codemirror_mode": {
    "name": "ipython",
    "version": 3
   },
   "file_extension": ".py",
   "mimetype": "text/x-python",
   "name": "python",
   "nbconvert_exporter": "python",
   "pygments_lexer": "ipython3",
   "version": "3.10.14"
  }
 },
 "nbformat": 4,
 "nbformat_minor": 2
}
