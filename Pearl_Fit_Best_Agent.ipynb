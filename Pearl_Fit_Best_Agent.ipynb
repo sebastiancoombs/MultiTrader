{
 "cells": [
  {
   "cell_type": "code",
   "execution_count": 8,
   "metadata": {},
   "outputs": [],
   "source": [
    "import warnings\n",
    "import logging\n",
    "\n",
    "\n",
    "warnings.filterwarnings('ignore')\n",
    "warnings.simplefilter('ignore')"
   ]
  },
  {
   "cell_type": "code",
   "execution_count": 9,
   "metadata": {},
   "outputs": [],
   "source": [
    "from utils import make_environments\n",
    "from utils import pearl_utils\n",
    "from configs  import defaults\n",
    "\n",
    "from utils.reward_functions import log_reward_function,cumulative_reward_function,sharpe_reward_function\n",
    "from utils. utils import make_hidden_dims\n",
    "import optuna\n",
    "from optuna.samplers import TPESampler\n",
    "from neuralforecast.core import NeuralForecast\n",
    "from Pearl.pearl.utils.instantiations.environments.gym_environment import GymEnvironment\n",
    "from Pearl.pearl.utils.functional_utils.train_and_eval.online_learning import online_learning\n",
    "import datetime\n",
    "\n",
    "import numpy as np\n",
    "import pickle\n",
    "import boto3\n",
    "import Keys"
   ]
  },
  {
   "cell_type": "code",
   "execution_count": 10,
   "metadata": {},
   "outputs": [],
   "source": [
    "# s3=boto3.client('s3', aws_access_key_id=Keys.AWS_ACCESS_KEY, aws_secret_access_key=Keys.AWS_SECRET_KEY)\n",
    "# agent_path=f'Agent/pearl_{defaults.model_name}_model.pkl'\n",
    "\n",
    "# s3.download_file('coinbasetradehistory',f'pearl_{defaults.model_name}_model.pkl',agent_path)\n"
   ]
  },
  {
   "cell_type": "code",
   "execution_count": 11,
   "metadata": {},
   "outputs": [],
   "source": [
    "from configs import defaults"
   ]
  },
  {
   "cell_type": "code",
   "execution_count": 12,
   "metadata": {},
   "outputs": [],
   "source": [
    "# model=NeuralForecast.load('MultiHeadForecastingModel/')"
   ]
  },
  {
   "cell_type": "code",
   "execution_count": 13,
   "metadata": {},
   "outputs": [
    {
     "name": "stderr",
     "output_type": "stream",
     "text": [
      "Seed set to 12\n",
      "Seed set to 5\n"
     ]
    },
    {
     "name": "stdout",
     "output_type": "stream",
     "text": [
      "['data_forex/oanda-USDJPY-1h.pkl']\n"
     ]
    },
    {
     "name": "stderr",
     "output_type": "stream",
     "text": [
      "100%|██████████| 78/78 [00:00<00:00, 12858.38it/s]\n",
      "1it [00:00,  8.72it/s]\n",
      "GPU available: True (mps), used: True\n",
      "TPU available: False, using: 0 TPU cores\n",
      "HPU available: False, using: 0 HPUs\n"
     ]
    },
    {
     "data": {
      "application/vnd.jupyter.widget-view+json": {
       "model_id": "a545eaf787ef48f4b640ba0c1d7629ac",
       "version_major": 2,
       "version_minor": 0
      },
      "text/plain": [
       "Predicting: |          | 0/? [00:00<?, ?it/s]"
      ]
     },
     "metadata": {},
     "output_type": "display_data"
    },
    {
     "name": "stderr",
     "output_type": "stream",
     "text": [
      "GPU available: True (mps), used: True\n",
      "TPU available: False, using: 0 TPU cores\n",
      "HPU available: False, using: 0 HPUs\n"
     ]
    },
    {
     "data": {
      "application/vnd.jupyter.widget-view+json": {
       "model_id": "99f73405d611455bb9900296418b0721",
       "version_major": 2,
       "version_minor": 0
      },
      "text/plain": [
       "Predicting: |          | 0/? [00:00<?, ?it/s]"
      ]
     },
     "metadata": {},
     "output_type": "display_data"
    },
    {
     "name": "stdout",
     "output_type": "stream",
     "text": [
      "2024-11-05 11:00:00 2024-12-05 11:00:00\n"
     ]
    },
    {
     "data": {
      "text/plain": [
       "((24,), np.int64(2))"
      ]
     },
     "execution_count": 13,
     "metadata": {},
     "output_type": "execute_result"
    }
   ],
   "source": [
    "reward_functions=[log_reward_function,cumulative_reward_function,sharpe_reward_function]\n",
    "train_env,test_env=make_environments.make_envs(reward_function=log_reward_function)\n",
    "study_name=f\"{defaults.model_name}\"\n",
    "storage_name=\"sqlite:///PearlHPTuning.sqlite3\"\n",
    "\n",
    "test_env.observation_space.shape,train_env.action_space.n\n"
   ]
  },
  {
   "cell_type": "code",
   "execution_count": 14,
   "metadata": {},
   "outputs": [],
   "source": [
    "today=datetime.datetime.now().strftime('%Y-%m-%d')\n",
    "study = optuna.load_study(study_name=study_name,\n",
    "                            storage=storage_name,\n",
    "\n",
    "                            )\n"
   ]
  },
  {
   "cell_type": "code",
   "execution_count": 27,
   "metadata": {},
   "outputs": [
    {
     "data": {
      "text/plain": [
       "[FrozenTrial(number=24, state=TrialState.COMPLETE, values=[1155.4950017267067, 60.4], datetime_start=datetime.datetime(2024, 12, 4, 21, 4, 19, 218752), datetime_complete=datetime.datetime(2024, 12, 4, 21, 10, 28, 132784), params={'reward_function': 0, 'algorithm': 'dqn', 'n_layers': 1, 'n_units': 64, 'training_rounds': 27, 'learning_rate': 2.4762447589798305e-05, 'discount_factor': 0.986225305621527, 'batch_size': 64, 'target_update_freq': 24, 'soft_update_tau': 0.5042013854773669, 'is_conservative': False, 'lstm': True, 'conservative_alpha': 0.7217810056026264, 'replay_buffer_size': 589, 'learn_after_episode': True, 'learning_steps': 18, 'n_epochs': 100}, user_attrs={}, system_attrs={}, intermediate_values={}, distributions={'reward_function': CategoricalDistribution(choices=(0, 1, 2)), 'algorithm': CategoricalDistribution(choices=('dqn', 'ddqn')), 'n_layers': IntDistribution(high=3, log=False, low=1, step=1), 'n_units': CategoricalDistribution(choices=(64, 128, 256, 512)), 'training_rounds': IntDistribution(high=30, log=False, low=5, step=1), 'learning_rate': FloatDistribution(high=0.0001, log=False, low=1e-06, step=None), 'discount_factor': FloatDistribution(high=0.99, log=False, low=0.8, step=None), 'batch_size': CategoricalDistribution(choices=(64, 128)), 'target_update_freq': CategoricalDistribution(choices=(1, 5, 10, 24)), 'soft_update_tau': FloatDistribution(high=0.99, log=False, low=0.1, step=None), 'is_conservative': CategoricalDistribution(choices=(True, False)), 'lstm': CategoricalDistribution(choices=(True, False)), 'conservative_alpha': FloatDistribution(high=1.0, log=False, low=0.5, step=None), 'replay_buffer_size': IntDistribution(high=5000, log=False, low=200, step=1), 'learn_after_episode': CategoricalDistribution(choices=(True, False)), 'learning_steps': IntDistribution(high=89, log=False, low=10, step=1), 'n_epochs': CategoricalDistribution(choices=(100, 500))}, trial_id=43, value=None),\n",
       " FrozenTrial(number=60, state=TrialState.COMPLETE, values=[1221.8935314538205, 24.0], datetime_start=datetime.datetime(2024, 12, 5, 0, 49, 10, 341630), datetime_complete=datetime.datetime(2024, 12, 5, 0, 51, 38, 219443), params={'reward_function': 0, 'algorithm': 'dqn', 'n_layers': 1, 'n_units': 64, 'training_rounds': 29, 'learning_rate': 2.9145745030038324e-05, 'discount_factor': 0.9790066725314294, 'batch_size': 64, 'target_update_freq': 1, 'soft_update_tau': 0.6316007340740714, 'is_conservative': False, 'lstm': False, 'conservative_alpha': 0.5432270918199467, 'replay_buffer_size': 215, 'learn_after_episode': False, 'learning_steps': 34, 'n_epochs': 100}, user_attrs={}, system_attrs={}, intermediate_values={}, distributions={'reward_function': CategoricalDistribution(choices=(0, 1, 2)), 'algorithm': CategoricalDistribution(choices=('dqn', 'ddqn')), 'n_layers': IntDistribution(high=3, log=False, low=1, step=1), 'n_units': CategoricalDistribution(choices=(64, 128, 256, 512)), 'training_rounds': IntDistribution(high=30, log=False, low=5, step=1), 'learning_rate': FloatDistribution(high=0.0001, log=False, low=1e-06, step=None), 'discount_factor': FloatDistribution(high=0.99, log=False, low=0.8, step=None), 'batch_size': CategoricalDistribution(choices=(64, 128)), 'target_update_freq': CategoricalDistribution(choices=(1, 5, 10, 24)), 'soft_update_tau': FloatDistribution(high=0.99, log=False, low=0.1, step=None), 'is_conservative': CategoricalDistribution(choices=(True, False)), 'lstm': CategoricalDistribution(choices=(True, False)), 'conservative_alpha': FloatDistribution(high=1.0, log=False, low=0.5, step=None), 'replay_buffer_size': IntDistribution(high=5000, log=False, low=200, step=1), 'learn_after_episode': CategoricalDistribution(choices=(True, False)), 'learning_steps': IntDistribution(high=89, log=False, low=10, step=1), 'n_epochs': CategoricalDistribution(choices=(100, 500))}, trial_id=79, value=None),\n",
       " FrozenTrial(number=73, state=TrialState.COMPLETE, values=[1173.4202837924263, 26.0], datetime_start=datetime.datetime(2024, 12, 5, 2, 4, 25, 760408), datetime_complete=datetime.datetime(2024, 12, 5, 2, 9, 10, 208558), params={'reward_function': 1, 'algorithm': 'ddqn', 'n_layers': 2, 'n_units': 64, 'training_rounds': 7, 'learning_rate': 9.372506329692902e-05, 'discount_factor': 0.9661475981761707, 'batch_size': 64, 'target_update_freq': 5, 'soft_update_tau': 0.5579189619133833, 'is_conservative': False, 'lstm': True, 'conservative_alpha': 0.8293888965733964, 'replay_buffer_size': 2707, 'learn_after_episode': True, 'learning_steps': 14, 'n_epochs': 100}, user_attrs={}, system_attrs={}, intermediate_values={}, distributions={'reward_function': CategoricalDistribution(choices=(0, 1, 2)), 'algorithm': CategoricalDistribution(choices=('dqn', 'ddqn')), 'n_layers': IntDistribution(high=3, log=False, low=1, step=1), 'n_units': CategoricalDistribution(choices=(64, 128, 256, 512)), 'training_rounds': IntDistribution(high=30, log=False, low=5, step=1), 'learning_rate': FloatDistribution(high=0.0001, log=False, low=1e-06, step=None), 'discount_factor': FloatDistribution(high=0.99, log=False, low=0.8, step=None), 'batch_size': CategoricalDistribution(choices=(64, 128)), 'target_update_freq': CategoricalDistribution(choices=(1, 5, 10, 24)), 'soft_update_tau': FloatDistribution(high=0.99, log=False, low=0.1, step=None), 'is_conservative': CategoricalDistribution(choices=(True, False)), 'lstm': CategoricalDistribution(choices=(True, False)), 'conservative_alpha': FloatDistribution(high=1.0, log=False, low=0.5, step=None), 'replay_buffer_size': IntDistribution(high=5000, log=False, low=200, step=1), 'learn_after_episode': CategoricalDistribution(choices=(True, False)), 'learning_steps': IntDistribution(high=89, log=False, low=10, step=1), 'n_epochs': CategoricalDistribution(choices=(100, 500))}, trial_id=92, value=None),\n",
       " FrozenTrial(number=97, state=TrialState.COMPLETE, values=[1242.2589504212876, 21.2], datetime_start=datetime.datetime(2024, 12, 5, 4, 34, 1, 735965), datetime_complete=datetime.datetime(2024, 12, 5, 4, 35, 44, 513641), params={'reward_function': 1, 'algorithm': 'ddqn', 'n_layers': 2, 'n_units': 128, 'training_rounds': 6, 'learning_rate': 9.988529643519465e-05, 'discount_factor': 0.9683804196048948, 'batch_size': 64, 'target_update_freq': 5, 'soft_update_tau': 0.4365939156988392, 'is_conservative': False, 'lstm': False, 'conservative_alpha': 0.9694228166974908, 'replay_buffer_size': 1128, 'learn_after_episode': False, 'learning_steps': 26, 'n_epochs': 100}, user_attrs={}, system_attrs={}, intermediate_values={}, distributions={'reward_function': CategoricalDistribution(choices=(0, 1, 2)), 'algorithm': CategoricalDistribution(choices=('dqn', 'ddqn')), 'n_layers': IntDistribution(high=3, log=False, low=1, step=1), 'n_units': CategoricalDistribution(choices=(64, 128, 256, 512)), 'training_rounds': IntDistribution(high=30, log=False, low=5, step=1), 'learning_rate': FloatDistribution(high=0.0001, log=False, low=1e-06, step=None), 'discount_factor': FloatDistribution(high=0.99, log=False, low=0.8, step=None), 'batch_size': CategoricalDistribution(choices=(64, 128)), 'target_update_freq': CategoricalDistribution(choices=(1, 5, 10, 24)), 'soft_update_tau': FloatDistribution(high=0.99, log=False, low=0.1, step=None), 'is_conservative': CategoricalDistribution(choices=(True, False)), 'lstm': CategoricalDistribution(choices=(True, False)), 'conservative_alpha': FloatDistribution(high=1.0, log=False, low=0.5, step=None), 'replay_buffer_size': IntDistribution(high=5000, log=False, low=200, step=1), 'learn_after_episode': CategoricalDistribution(choices=(True, False)), 'learning_steps': IntDistribution(high=89, log=False, low=10, step=1), 'n_epochs': CategoricalDistribution(choices=(100, 500))}, trial_id=116, value=None)]"
      ]
     },
     "execution_count": 27,
     "metadata": {},
     "output_type": "execute_result"
    }
   ],
   "source": [
    "# print(f\"Best value: {study.best_value} (params: {study.best_params})\")\n",
    "best_trials=study.best_trials\n",
    "best_trials=[best_trials[x] for x in [0,2,-2,-1]]\n",
    "best_trials"
   ]
  },
  {
   "cell_type": "code",
   "execution_count": 19,
   "metadata": {},
   "outputs": [
    {
     "data": {
      "text/plain": [
       "'Agent/pearl_USDJPY_model.pkl'"
      ]
     },
     "execution_count": 19,
     "metadata": {},
     "output_type": "execute_result"
    }
   ],
   "source": [
    "\n",
    "\n",
    "agent_path=f'Agent/pearl_{defaults.model_name}_model.pkl'\n",
    "\n",
    "agent_path\n"
   ]
  },
  {
   "cell_type": "code",
   "execution_count": null,
   "metadata": {},
   "outputs": [],
   "source": []
  },
  {
   "cell_type": "code",
   "execution_count": 20,
   "metadata": {},
   "outputs": [
    {
     "name": "stderr",
     "output_type": "stream",
     "text": [
      "  0%|          | 0/100 [00:00<?, ?it/s]"
     ]
    },
    {
     "data": {
      "application/vnd.jupyter.widget-view+json": {
       "model_id": "8303102aab3d4f3bb2991ee3568840b1",
       "version_major": 2,
       "version_minor": 0
      },
      "text/plain": [
       "  0%|          | 0/100 [00:00<?, ?it/s]"
      ]
     },
     "metadata": {},
     "output_type": "display_data"
    },
    {
     "name": "stderr",
     "output_type": "stream",
     "text": [
      "  0%|          | 0/100 [03:43<?, ?it/s]\n",
      "Profit: 1158.5073339320456, Number of Trades: 18.8: 100%|██████████| 100/100 [02:28<00:00,  1.48s/it]             \n"
     ]
    },
    {
     "name": "stdout",
     "output_type": "stream",
     "text": [
      "Testing Return AVG Profit: 1158.5073339320456, AVG Number of Trades: 18.8\n"
     ]
    },
    {
     "name": "stderr",
     "output_type": "stream",
     "text": [
      "  0%|          | 0/100 [00:00<?, ?it/s]"
     ]
    },
    {
     "data": {
      "application/vnd.jupyter.widget-view+json": {
       "model_id": "48efe0129db54f93b45cfeed674aa124",
       "version_major": 2,
       "version_minor": 0
      },
      "text/plain": [
       "  0%|          | 0/100 [00:00<?, ?it/s]"
      ]
     },
     "metadata": {},
     "output_type": "display_data"
    },
    {
     "name": "stderr",
     "output_type": "stream",
     "text": [
      "  0%|          | 0/100 [04:09<?, ?it/s]\n",
      "  0%|          | 0/100 [00:00<?, ?it/s]"
     ]
    },
    {
     "data": {
      "application/vnd.jupyter.widget-view+json": {
       "model_id": "35490e4c91624b239abd3f11bf8dc2d8",
       "version_major": 2,
       "version_minor": 0
      },
      "text/plain": [
       "  0%|          | 0/100 [00:00<?, ?it/s]"
      ]
     },
     "metadata": {},
     "output_type": "display_data"
    },
    {
     "name": "stderr",
     "output_type": "stream",
     "text": [
      "  0%|          | 0/100 [03:38<?, ?it/s]\n",
      "Profit: 1228.9217851381718, Number of Trades: 16.4: 100%|██████████| 100/100 [02:14<00:00,  1.35s/it]             \n"
     ]
    },
    {
     "name": "stdout",
     "output_type": "stream",
     "text": [
      "Testing Return AVG Profit: 1228.9217851381718, AVG Number of Trades: 16.4\n"
     ]
    },
    {
     "name": "stderr",
     "output_type": "stream",
     "text": [
      "  0%|          | 0/100 [00:00<?, ?it/s]"
     ]
    },
    {
     "data": {
      "application/vnd.jupyter.widget-view+json": {
       "model_id": "72f2c3ee8a9549f0b05c67f95877eb24",
       "version_major": 2,
       "version_minor": 0
      },
      "text/plain": [
       "  0%|          | 0/100 [00:00<?, ?it/s]"
      ]
     },
     "metadata": {},
     "output_type": "display_data"
    },
    {
     "name": "stderr",
     "output_type": "stream",
     "text": [
      "  0%|          | 0/100 [03:17<?, ?it/s]\n",
      "  0%|          | 0/100 [00:00<?, ?it/s]"
     ]
    },
    {
     "data": {
      "application/vnd.jupyter.widget-view+json": {
       "model_id": "a22dc885eaaa4539980ff814b6a3bf9b",
       "version_major": 2,
       "version_minor": 0
      },
      "text/plain": [
       "  0%|          | 0/16800 [00:00<?, ?it/s]"
      ]
     },
     "metadata": {},
     "output_type": "display_data"
    },
    {
     "name": "stderr",
     "output_type": "stream",
     "text": [
      "  0%|          | 0/100 [01:52<?, ?it/s]\n",
      "Profit: 829.9526389650495, Number of Trades: 19.2: 100%|██████████| 100/100 [00:35<00:00,  2.83it/s]             \n"
     ]
    },
    {
     "name": "stdout",
     "output_type": "stream",
     "text": [
      "Testing Return AVG Profit: 829.9526389650495, AVG Number of Trades: 19.2\n"
     ]
    },
    {
     "name": "stderr",
     "output_type": "stream",
     "text": [
      "  0%|          | 0/100 [00:00<?, ?it/s]"
     ]
    },
    {
     "data": {
      "application/vnd.jupyter.widget-view+json": {
       "model_id": "dd70a6406b4e43219781eb8c9088a12b",
       "version_major": 2,
       "version_minor": 0
      },
      "text/plain": [
       "  0%|          | 0/16800 [00:00<?, ?it/s]"
      ]
     },
     "metadata": {},
     "output_type": "display_data"
    },
    {
     "name": "stderr",
     "output_type": "stream",
     "text": [
      "  0%|          | 0/100 [01:51<?, ?it/s]\n",
      "  0%|          | 0/100 [00:00<?, ?it/s]"
     ]
    },
    {
     "data": {
      "application/vnd.jupyter.widget-view+json": {
       "model_id": "00858e0262de45cda61d9f786dacf052",
       "version_major": 2,
       "version_minor": 0
      },
      "text/plain": [
       "  0%|          | 0/100 [00:00<?, ?it/s]"
      ]
     },
     "metadata": {},
     "output_type": "display_data"
    },
    {
     "name": "stderr",
     "output_type": "stream",
     "text": [
      "  0%|          | 0/100 [02:37<?, ?it/s]\n",
      "Profit: 820.4595693067306, Number of Trades: 19.6: 100%|██████████| 100/100 [02:08<00:00,  1.28s/it]             \n"
     ]
    },
    {
     "name": "stdout",
     "output_type": "stream",
     "text": [
      "Testing Return AVG Profit: 820.4595693067306, AVG Number of Trades: 19.6\n"
     ]
    },
    {
     "name": "stderr",
     "output_type": "stream",
     "text": [
      "  0%|          | 0/100 [00:00<?, ?it/s]"
     ]
    },
    {
     "data": {
      "application/vnd.jupyter.widget-view+json": {
       "model_id": "da1f4420b7c44c96bc33cc3d2182b0bc",
       "version_major": 2,
       "version_minor": 0
      },
      "text/plain": [
       "  0%|          | 0/100 [00:00<?, ?it/s]"
      ]
     },
     "metadata": {},
     "output_type": "display_data"
    },
    {
     "name": "stderr",
     "output_type": "stream",
     "text": [
      "  0%|          | 0/100 [02:40<?, ?it/s]\n"
     ]
    }
   ],
   "source": [
    "best_agents={}\n",
    "for i in range(len(best_trials)):\n",
    "    agent,learning_params=pearl_utils.load_agent_from_study(study_path=storage_name,\n",
    "                                            study_name=study_name,\n",
    "                                            action_space_dim=train_env.action_space.n,\n",
    "                                            observation_space_dim=train_env.observation_space.shape[0],\n",
    "                                            version=i)\n",
    "    \n",
    "    agent,profit,n_trades=pearl_utils.train_production_agent(agent,\n",
    "                                learning_params,\n",
    "                                train_env=train_env,\n",
    "                                test_env=test_env,\n",
    "                                save_path=agent_path)\n",
    "    best_agents[profit]=agent\n",
    "agent=best_agents[max(best_agents)]\n",
    "    "
   ]
  },
  {
   "cell_type": "code",
   "execution_count": 21,
   "metadata": {},
   "outputs": [],
   "source": [
    "# agent,learning_params=pearl_utils.load_agent_from_study(study_path=\"sqlite:///pearl_hyper_parameters.sqlite3\",\n",
    "#                                             study_name='pearl-2024-11-12-hp-search',\n",
    "#                                             action_space_dim=2,\n",
    "#                                             observation_space_dim=30,\n",
    "#                                             version=1)\n",
    "\n",
    "# agent=pearl_utils.train_production_agent(agent,\n",
    "#                              learning_params,\n",
    "#                              train_env=train_env,\n",
    "#                              test_env=train_env,\n",
    "#                              save_path=agent_path)"
   ]
  },
  {
   "cell_type": "code",
   "execution_count": 22,
   "metadata": {},
   "outputs": [],
   "source": [
    "agent=best_agents[max(best_agents)]\n"
   ]
  },
  {
   "cell_type": "code",
   "execution_count": 23,
   "metadata": {},
   "outputs": [
    {
     "data": {
      "text/plain": [
       "({np.float64(1158.5073339320456): <Pearl.pearl.pearl_agent.PearlAgent at 0x3755ca620>,\n",
       "  np.float64(1228.9217851381718): <Pearl.pearl.pearl_agent.PearlAgent at 0x375243b20>,\n",
       "  np.float64(829.9526389650495): <Pearl.pearl.pearl_agent.PearlAgent at 0x30f9fa500>,\n",
       "  np.float64(820.4595693067306): <Pearl.pearl.pearl_agent.PearlAgent at 0x37557e8c0>},\n",
       " np.float64(1228.9217851381718))"
      ]
     },
     "execution_count": 23,
     "metadata": {},
     "output_type": "execute_result"
    }
   ],
   "source": [
    "best_agents,max(best_agents)\n"
   ]
  },
  {
   "cell_type": "code",
   "execution_count": 24,
   "metadata": {},
   "outputs": [
    {
     "name": "stderr",
     "output_type": "stream",
     "text": [
      "Profit: 1185.1559115659747, Number of Trades: 20.4: 100%|██████████| 100/100 [02:07<00:00,  1.27s/it]             "
     ]
    },
    {
     "name": "stdout",
     "output_type": "stream",
     "text": [
      "Testing Return AVG Profit: 1185.1559115659747, AVG Number of Trades: 20.4\n"
     ]
    },
    {
     "name": "stderr",
     "output_type": "stream",
     "text": [
      "\n"
     ]
    }
   ],
   "source": [
    "profit,n_trades=pearl_utils.test_pearl_model(agent,test_env)\n",
    "print(f\"Testing Return AVG Profit: {profit}, AVG Number of Trades: {n_trades}\")"
   ]
  },
  {
   "cell_type": "code",
   "execution_count": 25,
   "metadata": {},
   "outputs": [],
   "source": [
    "from utils import save_utils\n"
   ]
  },
  {
   "cell_type": "code",
   "execution_count": 26,
   "metadata": {},
   "outputs": [
    {
     "name": "stdout",
     "output_type": "stream",
     "text": [
      "Device: mps:0\n"
     ]
    }
   ],
   "source": [
    "save_utils.save_agent(agent,agent_path)"
   ]
  },
  {
   "cell_type": "code",
   "execution_count": null,
   "metadata": {},
   "outputs": [],
   "source": []
  },
  {
   "cell_type": "code",
   "execution_count": null,
   "metadata": {},
   "outputs": [],
   "source": [
    "# pickle.dump(agent.policy_learner.state_dict(),open(agent_path,'wb'))"
   ]
  },
  {
   "cell_type": "code",
   "execution_count": null,
   "metadata": {},
   "outputs": [],
   "source": [
    "# weights=pickle.load(open(agent_path,'rb'))"
   ]
  },
  {
   "cell_type": "code",
   "execution_count": null,
   "metadata": {},
   "outputs": [],
   "source": [
    "# agent.policy_learner.load_state_dict(weights)"
   ]
  },
  {
   "cell_type": "code",
   "execution_count": null,
   "metadata": {},
   "outputs": [],
   "source": [
    "\n",
    "# agent,learning_params=pearl_utils.load_agent_from_study(study_path=\"sqlite:///pearl_hyper_parameters.sqlite3\",\n",
    "#                                         study_name='pearl-2024-11-12-hp-search',\n",
    "#                                         action_space_dim=2,\n",
    "#                                         observation_space_dim=30)\n",
    "# agent=load_agent_weights(agent,weight_path=agent_path)"
   ]
  },
  {
   "cell_type": "code",
   "execution_count": null,
   "metadata": {},
   "outputs": [],
   "source": [
    "# profit,n_trades=pearl_utils.test_pearl_model(agent,test_env)\n",
    "# print(f\"Testing Return AVG Profit: {profit}, AVG Number of Trades: {n_trades}\")"
   ]
  },
  {
   "cell_type": "code",
   "execution_count": null,
   "metadata": {},
   "outputs": [],
   "source": []
  }
 ],
 "metadata": {
  "kernelspec": {
   "display_name": "agent_env",
   "language": "python",
   "name": "python3"
  },
  "language_info": {
   "codemirror_mode": {
    "name": "ipython",
    "version": 3
   },
   "file_extension": ".py",
   "mimetype": "text/x-python",
   "name": "python",
   "nbconvert_exporter": "python",
   "pygments_lexer": "ipython3",
   "version": "3.10.13"
  }
 },
 "nbformat": 4,
 "nbformat_minor": 2
}
