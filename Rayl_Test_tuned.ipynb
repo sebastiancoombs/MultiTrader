{
 "cells": [
  {
   "cell_type": "code",
   "execution_count": 1,
   "metadata": {},
   "outputs": [],
   "source": [
    "import warnings\n",
    "import logging\n",
    "# warnings.filterwarnings(\"ignore\")"
   ]
  },
  {
   "cell_type": "code",
   "execution_count": 5,
   "metadata": {},
   "outputs": [
    {
     "name": "stderr",
     "output_type": "stream",
     "text": [
      "2024-10-04 07:32:01,631\tWARNING deprecation.py:50 -- DeprecationWarning: `WorkerSet` has been deprecated. Use `ray.rllib.env.env_runner_group.EnvRunnerGroup` instead. This will raise an error in the future!\n"
     ]
    }
   ],
   "source": [
    "import datetime\n",
    "import glob\n",
    "from functools import lru_cache, partial\n",
    "from pprint import pprint\n",
    "import ray\n",
    "\n",
    "import gym_trading_env\n",
    "import gymnasium as gym\n",
    "import matplotlib.pyplot as plt\n",
    "import numpy as np\n",
    "import pandas as pd\n",
    "import copy\n",
    "import torch\n",
    "from gym_trading_env.downloader import download\n",
    "from gym_trading_env.environments import TradingEnv\n",
    "from gym_trading_env.renderer import Renderer\n",
    "from IPython.display import display\n",
    "from ray import train, tune\n",
    "from tqdm.autonotebook import tqdm\n",
    "from utils.utils import  build_market_image,preprocess_data,stack_arrays\n",
    "\n",
    "from utils.utils import build_market_image\n",
    "from environments.environments import NeuralForecastingTradingEnv\n",
    "import warnings\n",
    "warnings.filterwarnings('ignore')\n",
    "warnings.simplefilter('ignore')\n",
    "\n",
    "from neuralforecast.core import NeuralForecast\n",
    "from ray.tune.schedulers import HyperBandScheduler\n",
    "from ray.tune import ProgressReporter,JupyterNotebookReporter\n",
    "from ray.tune.search import ConcurrencyLimiter\n",
    "from ray.tune.search.optuna import OptunaSearch \n",
    "from ray.tune.search.hyperopt import HyperOptSearch\n",
    "\n",
    "from ray.rllib.algorithms.ppo import PPOConfig\n",
    "from ray.rllib.algorithms.appo import APPOConfig\n",
    "from ray.rllib.algorithms.dreamerv3 import DreamerV3Config\n",
    "from ray.tune.logger import pretty_print\n",
    "from ray.rllib.algorithms.algorithm import Algorithm\n",
    "from ray.rllib.algorithms.algorithm_config import AlgorithmConfig\n",
    "from ray.rllib.evaluation.worker_set import WorkerSet\n",
    "from ray.rllib.evaluation.metrics import summarize_episodes\n",
    "from ray.rllib.env import BaseEnv\n",
    "from ray.rllib.policy import Policy\n",
    "from ray.rllib.evaluation import Episode, RolloutWorker\n",
    "from ray.rllib.algorithms.callbacks import DefaultCallbacks\n",
    "from typing import Dict, Tuple\n",
    "from ray.tune.registry import register_env\n",
    "from ray.rllib.algorithms import ppo"
   ]
  },
  {
   "cell_type": "code",
   "execution_count": 6,
   "metadata": {},
   "outputs": [
    {
     "data": {
      "text/html": [
       "<link rel=\"stylesheet\" type=\"text/css\" href=\"./custom.css\">"
      ],
      "text/plain": [
       "<IPython.core.display.HTML object>"
      ]
     },
     "metadata": {},
     "output_type": "display_data"
    }
   ],
   "source": [
    "from IPython.display import display, HTML\n",
    "import tensorboard\n",
    "\n",
    "# Load custom CSS file\n",
    "css = HTML('<link rel=\"stylesheet\" type=\"text/css\" href=\"./custom.css\">') # make sure the path is correct, it fails silently otherwise\n",
    "display(css)"
   ]
  },
  {
   "cell_type": "code",
   "execution_count": 7,
   "metadata": {},
   "outputs": [
    {
     "data": {
      "text/plain": [
       "'BNBUSDT'"
      ]
     },
     "execution_count": 7,
     "metadata": {},
     "output_type": "execute_result"
    }
   ],
   "source": [
    "COIN_PAIRS=['BTC/USDT','ETH/USDT','SOL/USDT','BNB/USDT','XRP/USDT','ADA/USDT',\n",
    "            'ETH/BTC','SOL/ETH','BNB/ETH','XRP/ETH',\"ADA/ETH\",\n",
    "            'SOL/BTC','SOL/BNB',\n",
    "            'XRP/BTC','XRP/BNB',\n",
    "            'ADA/BTC','ADA/BNB',\n",
    "            ]\n",
    "target_pair='BNB/USDT'\n",
    "time_frame=\"1h\"\n",
    "symbol=target_pair.replace('/','')\n",
    "symbol"
   ]
  },
  {
   "cell_type": "code",
   "execution_count": 8,
   "metadata": {},
   "outputs": [],
   "source": [
    "\n",
    "# download(exchange_names = [\"binance\"],\n",
    "#     symbols= tqdm(COIN_PAIRS),\n",
    "#     timeframe= time_frame,\n",
    "#     dir = \"data\",\n",
    "#     since= datetime.datetime(year= 2022, month= 1, day=1),\n",
    "# )"
   ]
  },
  {
   "cell_type": "code",
   "execution_count": 11,
   "metadata": {},
   "outputs": [
    {
     "name": "stderr",
     "output_type": "stream",
     "text": [
      "Seed set to 5\n",
      "Seed set to 11\n",
      "Seed set to 17\n",
      "Seed set to 6\n"
     ]
    }
   ],
   "source": [
    "model=NeuralForecast.load(\"forecasting_model/\")"
   ]
  },
  {
   "cell_type": "code",
   "execution_count": 12,
   "metadata": {},
   "outputs": [],
   "source": [
    "import warnings\n",
    "warnings.filterwarnings('ignore')"
   ]
  },
  {
   "cell_type": "code",
   "execution_count": 13,
   "metadata": {},
   "outputs": [
    {
     "data": {
      "text/plain": [
       "'BNBUSDT'"
      ]
     },
     "execution_count": 13,
     "metadata": {},
     "output_type": "execute_result"
    }
   ],
   "source": [
    "symbol"
   ]
  },
  {
   "cell_type": "code",
   "execution_count": 15,
   "metadata": {},
   "outputs": [
    {
     "name": "stdout",
     "output_type": "stream",
     "text": [
      "['data/binanceus-BNBUSDT-1h.pkl']\n"
     ]
    },
    {
     "data": {
      "application/vnd.jupyter.widget-view+json": {
       "model_id": "01f5f690d1aa4e76b288833e66f507f8",
       "version_major": 2,
       "version_minor": 0
      },
      "text/plain": [
       "0it [00:00, ?it/s]"
      ]
     },
     "metadata": {},
     "output_type": "display_data"
    },
    {
     "data": {
      "application/vnd.jupyter.widget-view+json": {
       "model_id": "d4c2c996883a4348a61faa59cb6c0189",
       "version_major": 2,
       "version_minor": 0
      },
      "text/plain": [
       "  0%|          | 0/78 [00:00<?, ?it/s]"
      ]
     },
     "metadata": {},
     "output_type": "display_data"
    }
   ],
   "source": [
    "data=build_market_image(target_pair=symbol,time_frame='1h',axis=0,only_target=True)\n",
    "data=data[data['symbol']==symbol].copy()\n",
    "data['ds']=data.index"
   ]
  },
  {
   "cell_type": "code",
   "execution_count": 16,
   "metadata": {},
   "outputs": [],
   "source": [
    "split_date=datetime.datetime(year= 2024, month= 4, day=1)\n",
    "end_date=split_date+datetime.timedelta(days=14)\n",
    "\n",
    "\n",
    "hf_data=data.copy()\n",
    "\n",
    "hf_train_data=hf_data.groupby('symbol').apply(lambda x: x[:split_date])\n",
    "hf_test_data=hf_data.groupby('symbol').apply(lambda x: x[split_date:])\n",
    "\n",
    "hf_train_data=hf_train_data.reset_index(level=0,drop=True).reset_index()\n",
    "hf_test_data=hf_test_data.reset_index(level=0,drop=True).reset_index()\n",
    "\n",
    "\n",
    "trade_data=data[data['symbol']==symbol].copy()\n",
    "train_data=trade_data[:split_date]\n",
    "test_data=trade_data[split_date:end_date]\n",
    "# hf_test_data"
   ]
  },
  {
   "cell_type": "code",
   "execution_count": 17,
   "metadata": {},
   "outputs": [
    {
     "data": {
      "text/html": [
       "<div>\n",
       "<style scoped>\n",
       "    .dataframe tbody tr th:only-of-type {\n",
       "        vertical-align: middle;\n",
       "    }\n",
       "\n",
       "    .dataframe tbody tr th {\n",
       "        vertical-align: top;\n",
       "    }\n",
       "\n",
       "    .dataframe thead th {\n",
       "        text-align: right;\n",
       "    }\n",
       "</style>\n",
       "<table border=\"1\" class=\"dataframe\">\n",
       "  <thead>\n",
       "    <tr style=\"text-align: right;\">\n",
       "      <th></th>\n",
       "      <th>open</th>\n",
       "      <th>high</th>\n",
       "      <th>low</th>\n",
       "      <th>close</th>\n",
       "      <th>volume</th>\n",
       "      <th>y</th>\n",
       "      <th>feature_hour_of_day</th>\n",
       "      <th>feature_day_of_week</th>\n",
       "      <th>feature_day_of_month</th>\n",
       "      <th>feature_day_of_year</th>\n",
       "      <th>feature_MFV</th>\n",
       "      <th>feature_14_period_ADX</th>\n",
       "      <th>feature_AO</th>\n",
       "      <th>feature_APZ_UPPER</th>\n",
       "      <th>feature_APZ_LOWER</th>\n",
       "      <th>feature_14_period_ATR</th>\n",
       "      <th>feature_BASP_Buy</th>\n",
       "      <th>feature_BASP_Sell</th>\n",
       "      <th>feature_BASPN_Buy</th>\n",
       "      <th>feature_BASPN_Sell</th>\n",
       "      <th>feature_BBANDS_BB_UPPER</th>\n",
       "      <th>feature_BBANDS_BB_MIDDLE</th>\n",
       "      <th>feature_BBANDS_BB_LOWER</th>\n",
       "      <th>feature_20_period_BBWITH</th>\n",
       "      <th>feature_Balance_Of_Power</th>\n",
       "      <th>feature_20_period_CCI</th>\n",
       "      <th>feature_CFI</th>\n",
       "      <th>feature_CHANDELIER_Short</th>\n",
       "      <th>feature_CHANDELIER_Long</th>\n",
       "      <th>feature_CMO</th>\n",
       "      <th>feature_Coppock_Curve</th>\n",
       "      <th>feature_9_period_DEMA</th>\n",
       "      <th>feature_DMI_DI+</th>\n",
       "      <th>feature_DMI_DI-</th>\n",
       "      <th>feature_DO_LOWER</th>\n",
       "      <th>feature_DO_MIDDLE</th>\n",
       "      <th>feature_DO_UPPER</th>\n",
       "      <th>feature_EBBP_Bull</th>\n",
       "      <th>feature_EBBP_Bear</th>\n",
       "      <th>feature_13_period_Force_Index</th>\n",
       "      <th>...</th>\n",
       "      <th>feature_14_period_PZO</th>\n",
       "      <th>feature_ROC</th>\n",
       "      <th>feature_14_period_RSI</th>\n",
       "      <th>feature_41_period_SMA</th>\n",
       "      <th>feature_9_period_SMM</th>\n",
       "      <th>feature_SMMA</th>\n",
       "      <th>feature_20_period_SQZMI</th>\n",
       "      <th>feature_9_period_SSMA</th>\n",
       "      <th>feature_10_period_STC</th>\n",
       "      <th>feature_14_period_STOCH_%K</th>\n",
       "      <th>feature_3_period_STOCH_%D</th>\n",
       "      <th>feature_14_period_stochastic_RSI</th>\n",
       "      <th>feature_9_period_TEMA</th>\n",
       "      <th>feature_TP</th>\n",
       "      <th>feature_TR</th>\n",
       "      <th>feature_18_period_TRIMA</th>\n",
       "      <th>feature_20_period_TRIX</th>\n",
       "      <th>feature_TSI_TSI</th>\n",
       "      <th>feature_TSI_signal</th>\n",
       "      <th>feature_8_period_VAMA</th>\n",
       "      <th>feature_VBM</th>\n",
       "      <th>feature_VFI</th>\n",
       "      <th>feature_VORTEX_VIm</th>\n",
       "      <th>feature_VORTEX_VIp</th>\n",
       "      <th>feature_VPT</th>\n",
       "      <th>feature_VWAP</th>\n",
       "      <th>feature_VW_MACD_MACD</th>\n",
       "      <th>feature_VW_MACD_SIGNAL</th>\n",
       "      <th>feature_VZO</th>\n",
       "      <th>feature_14_Williams_%R</th>\n",
       "      <th>feature_WILLIAMS_FRACTAL_BearishFractal</th>\n",
       "      <th>feature_WILLIAMS_FRACTAL_BullishFractal</th>\n",
       "      <th>feature_9_period_WMA</th>\n",
       "      <th>feature_WOBV</th>\n",
       "      <th>feature_WTO_WT1</th>\n",
       "      <th>feature_WTO_WT2</th>\n",
       "      <th>feature_26_period_ZLEMA</th>\n",
       "      <th>ds</th>\n",
       "      <th>unique_id</th>\n",
       "      <th>symbol</th>\n",
       "    </tr>\n",
       "    <tr>\n",
       "      <th>date_close</th>\n",
       "      <th></th>\n",
       "      <th></th>\n",
       "      <th></th>\n",
       "      <th></th>\n",
       "      <th></th>\n",
       "      <th></th>\n",
       "      <th></th>\n",
       "      <th></th>\n",
       "      <th></th>\n",
       "      <th></th>\n",
       "      <th></th>\n",
       "      <th></th>\n",
       "      <th></th>\n",
       "      <th></th>\n",
       "      <th></th>\n",
       "      <th></th>\n",
       "      <th></th>\n",
       "      <th></th>\n",
       "      <th></th>\n",
       "      <th></th>\n",
       "      <th></th>\n",
       "      <th></th>\n",
       "      <th></th>\n",
       "      <th></th>\n",
       "      <th></th>\n",
       "      <th></th>\n",
       "      <th></th>\n",
       "      <th></th>\n",
       "      <th></th>\n",
       "      <th></th>\n",
       "      <th></th>\n",
       "      <th></th>\n",
       "      <th></th>\n",
       "      <th></th>\n",
       "      <th></th>\n",
       "      <th></th>\n",
       "      <th></th>\n",
       "      <th></th>\n",
       "      <th></th>\n",
       "      <th></th>\n",
       "      <th></th>\n",
       "      <th></th>\n",
       "      <th></th>\n",
       "      <th></th>\n",
       "      <th></th>\n",
       "      <th></th>\n",
       "      <th></th>\n",
       "      <th></th>\n",
       "      <th></th>\n",
       "      <th></th>\n",
       "      <th></th>\n",
       "      <th></th>\n",
       "      <th></th>\n",
       "      <th></th>\n",
       "      <th></th>\n",
       "      <th></th>\n",
       "      <th></th>\n",
       "      <th></th>\n",
       "      <th></th>\n",
       "      <th></th>\n",
       "      <th></th>\n",
       "      <th></th>\n",
       "      <th></th>\n",
       "      <th></th>\n",
       "      <th></th>\n",
       "      <th></th>\n",
       "      <th></th>\n",
       "      <th></th>\n",
       "      <th></th>\n",
       "      <th></th>\n",
       "      <th></th>\n",
       "      <th></th>\n",
       "      <th></th>\n",
       "      <th></th>\n",
       "      <th></th>\n",
       "      <th></th>\n",
       "      <th></th>\n",
       "      <th></th>\n",
       "      <th></th>\n",
       "      <th></th>\n",
       "      <th></th>\n",
       "    </tr>\n",
       "  </thead>\n",
       "  <tbody>\n",
       "    <tr>\n",
       "      <th>2022-01-01 10:00:00</th>\n",
       "      <td>515.7360</td>\n",
       "      <td>516.9400</td>\n",
       "      <td>513.7700</td>\n",
       "      <td>515.3371</td>\n",
       "      <td>170.18</td>\n",
       "      <td>515.3371</td>\n",
       "      <td>-0.065217</td>\n",
       "      <td>0.333333</td>\n",
       "      <td>-0.5</td>\n",
       "      <td>-0.5</td>\n",
       "      <td>0.0</td>\n",
       "      <td>0.0</td>\n",
       "      <td>0.0</td>\n",
       "      <td>521.677100</td>\n",
       "      <td>508.997100</td>\n",
       "      <td>0.0</td>\n",
       "      <td>1.000000</td>\n",
       "      <td>1.000000</td>\n",
       "      <td>1.000000</td>\n",
       "      <td>1.000000</td>\n",
       "      <td>0.0</td>\n",
       "      <td>0.0</td>\n",
       "      <td>0.0</td>\n",
       "      <td>0.0</td>\n",
       "      <td>-0.125836</td>\n",
       "      <td>0.000000</td>\n",
       "      <td>0.0</td>\n",
       "      <td>0.0</td>\n",
       "      <td>0.0</td>\n",
       "      <td>0.000000</td>\n",
       "      <td>0.0</td>\n",
       "      <td>515.337100</td>\n",
       "      <td>0.0</td>\n",
       "      <td>0.0</td>\n",
       "      <td>0.0000</td>\n",
       "      <td>0.0</td>\n",
       "      <td>0.0</td>\n",
       "      <td>1.602900</td>\n",
       "      <td>-1.567100</td>\n",
       "      <td>0.000000</td>\n",
       "      <td>...</td>\n",
       "      <td>0.000000</td>\n",
       "      <td>0.0</td>\n",
       "      <td>0.000000</td>\n",
       "      <td>0.0</td>\n",
       "      <td>0.0</td>\n",
       "      <td>515.337100</td>\n",
       "      <td>False</td>\n",
       "      <td>515.337100</td>\n",
       "      <td>0.0</td>\n",
       "      <td>0.0</td>\n",
       "      <td>0.0</td>\n",
       "      <td>0.0</td>\n",
       "      <td>515.337100</td>\n",
       "      <td>515.349033</td>\n",
       "      <td>3.1700</td>\n",
       "      <td>0.0</td>\n",
       "      <td>0.000000</td>\n",
       "      <td>0.0</td>\n",
       "      <td>0.0</td>\n",
       "      <td>0.0</td>\n",
       "      <td>0.0</td>\n",
       "      <td>0.0</td>\n",
       "      <td>0.0</td>\n",
       "      <td>0.0</td>\n",
       "      <td>-42.829528</td>\n",
       "      <td>515.349033</td>\n",
       "      <td>0.000000</td>\n",
       "      <td>0.000000</td>\n",
       "      <td>0.000000</td>\n",
       "      <td>0.0</td>\n",
       "      <td>0.0</td>\n",
       "      <td>0.0</td>\n",
       "      <td>0.0</td>\n",
       "      <td>0.000000</td>\n",
       "      <td>0.000000</td>\n",
       "      <td>0.00000</td>\n",
       "      <td>0.0</td>\n",
       "      <td>2022-01-01 10:00:00</td>\n",
       "      <td>5</td>\n",
       "      <td>BNBUSDT</td>\n",
       "    </tr>\n",
       "    <tr>\n",
       "      <th>2022-01-01 11:00:00</th>\n",
       "      <td>516.0451</td>\n",
       "      <td>516.1901</td>\n",
       "      <td>512.6315</td>\n",
       "      <td>515.0445</td>\n",
       "      <td>77.30</td>\n",
       "      <td>515.0445</td>\n",
       "      <td>-0.021739</td>\n",
       "      <td>0.333333</td>\n",
       "      <td>-0.5</td>\n",
       "      <td>-0.5</td>\n",
       "      <td>0.0</td>\n",
       "      <td>0.0</td>\n",
       "      <td>0.0</td>\n",
       "      <td>521.664095</td>\n",
       "      <td>508.557604</td>\n",
       "      <td>0.0</td>\n",
       "      <td>0.760598</td>\n",
       "      <td>0.527887</td>\n",
       "      <td>0.874314</td>\n",
       "      <td>0.752141</td>\n",
       "      <td>0.0</td>\n",
       "      <td>0.0</td>\n",
       "      <td>0.0</td>\n",
       "      <td>0.0</td>\n",
       "      <td>-0.281178</td>\n",
       "      <td>-66.666667</td>\n",
       "      <td>0.0</td>\n",
       "      <td>0.0</td>\n",
       "      <td>0.0</td>\n",
       "      <td>-100.000000</td>\n",
       "      <td>0.0</td>\n",
       "      <td>515.102298</td>\n",
       "      <td>0.0</td>\n",
       "      <td>0.0</td>\n",
       "      <td>0.0000</td>\n",
       "      <td>0.0</td>\n",
       "      <td>0.0</td>\n",
       "      <td>1.010554</td>\n",
       "      <td>-2.548046</td>\n",
       "      <td>-22.617980</td>\n",
       "      <td>...</td>\n",
       "      <td>-53.557302</td>\n",
       "      <td>0.0</td>\n",
       "      <td>0.000000</td>\n",
       "      <td>0.0</td>\n",
       "      <td>0.0</td>\n",
       "      <td>515.189037</td>\n",
       "      <td>False</td>\n",
       "      <td>515.182194</td>\n",
       "      <td>0.0</td>\n",
       "      <td>0.0</td>\n",
       "      <td>0.0</td>\n",
       "      <td>0.0</td>\n",
       "      <td>515.070188</td>\n",
       "      <td>514.622033</td>\n",
       "      <td>3.5586</td>\n",
       "      <td>0.0</td>\n",
       "      <td>-0.008217</td>\n",
       "      <td>0.0</td>\n",
       "      <td>0.0</td>\n",
       "      <td>0.0</td>\n",
       "      <td>0.0</td>\n",
       "      <td>0.0</td>\n",
       "      <td>0.0</td>\n",
       "      <td>0.0</td>\n",
       "      <td>-86.299646</td>\n",
       "      <td>515.121956</td>\n",
       "      <td>-0.005907</td>\n",
       "      <td>-0.003282</td>\n",
       "      <td>-34.387753</td>\n",
       "      <td>0.0</td>\n",
       "      <td>0.0</td>\n",
       "      <td>0.0</td>\n",
       "      <td>0.0</td>\n",
       "      <td>-22.617980</td>\n",
       "      <td>-121.212121</td>\n",
       "      <td>0.00000</td>\n",
       "      <td>0.0</td>\n",
       "      <td>2022-01-01 11:00:00</td>\n",
       "      <td>5</td>\n",
       "      <td>BNBUSDT</td>\n",
       "    </tr>\n",
       "    <tr>\n",
       "      <th>2022-01-01 12:00:00</th>\n",
       "      <td>515.1545</td>\n",
       "      <td>515.6547</td>\n",
       "      <td>513.9585</td>\n",
       "      <td>514.1481</td>\n",
       "      <td>28.27</td>\n",
       "      <td>514.1481</td>\n",
       "      <td>0.021739</td>\n",
       "      <td>0.333333</td>\n",
       "      <td>-0.5</td>\n",
       "      <td>-0.5</td>\n",
       "      <td>0.0</td>\n",
       "      <td>0.0</td>\n",
       "      <td>0.0</td>\n",
       "      <td>520.694507</td>\n",
       "      <td>508.342883</td>\n",
       "      <td>0.0</td>\n",
       "      <td>0.043797</td>\n",
       "      <td>0.335650</td>\n",
       "      <td>0.569353</td>\n",
       "      <td>0.599208</td>\n",
       "      <td>0.0</td>\n",
       "      <td>0.0</td>\n",
       "      <td>0.0</td>\n",
       "      <td>0.0</td>\n",
       "      <td>-0.593326</td>\n",
       "      <td>-53.519298</td>\n",
       "      <td>0.0</td>\n",
       "      <td>0.0</td>\n",
       "      <td>0.0</td>\n",
       "      <td>-100.000000</td>\n",
       "      <td>0.0</td>\n",
       "      <td>514.462966</td>\n",
       "      <td>0.0</td>\n",
       "      <td>0.0</td>\n",
       "      <td>0.0000</td>\n",
       "      <td>0.0</td>\n",
       "      <td>0.0</td>\n",
       "      <td>0.873113</td>\n",
       "      <td>-0.823087</td>\n",
       "      <td>-24.084344</td>\n",
       "      <td>...</td>\n",
       "      <td>-71.276585</td>\n",
       "      <td>0.0</td>\n",
       "      <td>0.000000</td>\n",
       "      <td>0.0</td>\n",
       "      <td>0.0</td>\n",
       "      <td>514.833664</td>\n",
       "      <td>False</td>\n",
       "      <td>514.796196</td>\n",
       "      <td>0.0</td>\n",
       "      <td>0.0</td>\n",
       "      <td>0.0</td>\n",
       "      <td>0.0</td>\n",
       "      <td>514.314973</td>\n",
       "      <td>514.587100</td>\n",
       "      <td>1.6962</td>\n",
       "      <td>0.0</td>\n",
       "      <td>-0.014589</td>\n",
       "      <td>0.0</td>\n",
       "      <td>0.0</td>\n",
       "      <td>0.0</td>\n",
       "      <td>0.0</td>\n",
       "      <td>0.0</td>\n",
       "      <td>0.0</td>\n",
       "      <td>0.0</td>\n",
       "      <td>-119.846312</td>\n",
       "      <td>515.067122</td>\n",
       "      <td>-0.022760</td>\n",
       "      <td>-0.011265</td>\n",
       "      <td>-42.702243</td>\n",
       "      <td>0.0</td>\n",
       "      <td>0.0</td>\n",
       "      <td>0.0</td>\n",
       "      <td>0.0</td>\n",
       "      <td>-47.959208</td>\n",
       "      <td>-96.566945</td>\n",
       "      <td>0.00000</td>\n",
       "      <td>0.0</td>\n",
       "      <td>2022-01-01 12:00:00</td>\n",
       "      <td>5</td>\n",
       "      <td>BNBUSDT</td>\n",
       "    </tr>\n",
       "    <tr>\n",
       "      <th>2022-01-01 13:00:00</th>\n",
       "      <td>514.9197</td>\n",
       "      <td>517.1231</td>\n",
       "      <td>514.6964</td>\n",
       "      <td>516.9275</td>\n",
       "      <td>32.00</td>\n",
       "      <td>516.9275</td>\n",
       "      <td>0.065217</td>\n",
       "      <td>0.333333</td>\n",
       "      <td>-0.5</td>\n",
       "      <td>-0.5</td>\n",
       "      <td>0.0</td>\n",
       "      <td>0.0</td>\n",
       "      <td>0.0</td>\n",
       "      <td>521.576676</td>\n",
       "      <td>509.710558</td>\n",
       "      <td>0.0</td>\n",
       "      <td>0.602740</td>\n",
       "      <td>0.077647</td>\n",
       "      <td>0.578991</td>\n",
       "      <td>0.448641</td>\n",
       "      <td>0.0</td>\n",
       "      <td>0.0</td>\n",
       "      <td>0.0</td>\n",
       "      <td>0.0</td>\n",
       "      <td>0.827379</td>\n",
       "      <td>116.897131</td>\n",
       "      <td>0.0</td>\n",
       "      <td>0.0</td>\n",
       "      <td>0.0</td>\n",
       "      <td>45.397820</td>\n",
       "      <td>0.0</td>\n",
       "      <td>515.784727</td>\n",
       "      <td>0.0</td>\n",
       "      <td>0.0</td>\n",
       "      <td>0.0000</td>\n",
       "      <td>0.0</td>\n",
       "      <td>0.0</td>\n",
       "      <td>1.675406</td>\n",
       "      <td>-0.751294</td>\n",
       "      <td>19.523782</td>\n",
       "      <td>...</td>\n",
       "      <td>-18.727149</td>\n",
       "      <td>0.0</td>\n",
       "      <td>71.929445</td>\n",
       "      <td>0.0</td>\n",
       "      <td>0.0</td>\n",
       "      <td>515.376193</td>\n",
       "      <td>False</td>\n",
       "      <td>515.426509</td>\n",
       "      <td>0.0</td>\n",
       "      <td>0.0</td>\n",
       "      <td>0.0</td>\n",
       "      <td>0.0</td>\n",
       "      <td>516.073985</td>\n",
       "      <td>516.249000</td>\n",
       "      <td>2.9750</td>\n",
       "      <td>0.0</td>\n",
       "      <td>-0.001977</td>\n",
       "      <td>0.0</td>\n",
       "      <td>0.0</td>\n",
       "      <td>0.0</td>\n",
       "      <td>0.0</td>\n",
       "      <td>0.0</td>\n",
       "      <td>0.0</td>\n",
       "      <td>0.0</td>\n",
       "      <td>-66.894073</td>\n",
       "      <td>515.190015</td>\n",
       "      <td>0.027731</td>\n",
       "      <td>0.001945</td>\n",
       "      <td>-22.437654</td>\n",
       "      <td>0.0</td>\n",
       "      <td>0.0</td>\n",
       "      <td>0.0</td>\n",
       "      <td>0.0</td>\n",
       "      <td>40.981592</td>\n",
       "      <td>-8.757052</td>\n",
       "      <td>0.00000</td>\n",
       "      <td>0.0</td>\n",
       "      <td>2022-01-01 13:00:00</td>\n",
       "      <td>5</td>\n",
       "      <td>BNBUSDT</td>\n",
       "    </tr>\n",
       "    <tr>\n",
       "      <th>2022-01-01 14:00:00</th>\n",
       "      <td>517.4822</td>\n",
       "      <td>517.8325</td>\n",
       "      <td>516.4450</td>\n",
       "      <td>516.9602</td>\n",
       "      <td>9.41</td>\n",
       "      <td>516.9602</td>\n",
       "      <td>0.108696</td>\n",
       "      <td>0.333333</td>\n",
       "      <td>-0.5</td>\n",
       "      <td>-0.5</td>\n",
       "      <td>0.0</td>\n",
       "      <td>0.0</td>\n",
       "      <td>0.0</td>\n",
       "      <td>521.882637</td>\n",
       "      <td>510.599879</td>\n",
       "      <td>0.0</td>\n",
       "      <td>0.059590</td>\n",
       "      <td>0.131867</td>\n",
       "      <td>0.453352</td>\n",
       "      <td>0.372016</td>\n",
       "      <td>0.0</td>\n",
       "      <td>0.0</td>\n",
       "      <td>0.0</td>\n",
       "      <td>0.0</td>\n",
       "      <td>-0.376216</td>\n",
       "      <td>115.162454</td>\n",
       "      <td>0.0</td>\n",
       "      <td>0.0</td>\n",
       "      <td>0.0</td>\n",
       "      <td>45.911845</td>\n",
       "      <td>0.0</td>\n",
       "      <td>516.441612</td>\n",
       "      <td>0.0</td>\n",
       "      <td>0.0</td>\n",
       "      <td>512.6315</td>\n",
       "      <td>0.0</td>\n",
       "      <td>0.0</td>\n",
       "      <td>1.982688</td>\n",
       "      <td>0.595188</td>\n",
       "      <td>13.558973</td>\n",
       "      <td>...</td>\n",
       "      <td>12.316001</td>\n",
       "      <td>0.0</td>\n",
       "      <td>72.182957</td>\n",
       "      <td>0.0</td>\n",
       "      <td>0.0</td>\n",
       "      <td>515.708444</td>\n",
       "      <td>False</td>\n",
       "      <td>515.809392</td>\n",
       "      <td>0.0</td>\n",
       "      <td>0.0</td>\n",
       "      <td>0.0</td>\n",
       "      <td>0.0</td>\n",
       "      <td>516.799091</td>\n",
       "      <td>517.079233</td>\n",
       "      <td>1.3875</td>\n",
       "      <td>0.0</td>\n",
       "      <td>0.005699</td>\n",
       "      <td>0.0</td>\n",
       "      <td>0.0</td>\n",
       "      <td>0.0</td>\n",
       "      <td>0.0</td>\n",
       "      <td>0.0</td>\n",
       "      <td>0.0</td>\n",
       "      <td>0.0</td>\n",
       "      <td>-73.974462</td>\n",
       "      <td>515.246067</td>\n",
       "      <td>0.045237</td>\n",
       "      <td>0.014824</td>\n",
       "      <td>-16.809417</td>\n",
       "      <td>0.0</td>\n",
       "      <td>0.0</td>\n",
       "      <td>0.0</td>\n",
       "      <td>0.0</td>\n",
       "      <td>41.289299</td>\n",
       "      <td>29.354997</td>\n",
       "      <td>-49.29528</td>\n",
       "      <td>0.0</td>\n",
       "      <td>2022-01-01 14:00:00</td>\n",
       "      <td>5</td>\n",
       "      <td>BNBUSDT</td>\n",
       "    </tr>\n",
       "  </tbody>\n",
       "</table>\n",
       "<p>5 rows × 132 columns</p>\n",
       "</div>"
      ],
      "text/plain": [
       "                         open      high  ...  unique_id   symbol\n",
       "date_close                               ...                    \n",
       "2022-01-01 10:00:00  515.7360  516.9400  ...          5  BNBUSDT\n",
       "2022-01-01 11:00:00  516.0451  516.1901  ...          5  BNBUSDT\n",
       "2022-01-01 12:00:00  515.1545  515.6547  ...          5  BNBUSDT\n",
       "2022-01-01 13:00:00  514.9197  517.1231  ...          5  BNBUSDT\n",
       "2022-01-01 14:00:00  517.4822  517.8325  ...          5  BNBUSDT\n",
       "\n",
       "[5 rows x 132 columns]"
      ]
     },
     "execution_count": 17,
     "metadata": {},
     "output_type": "execute_result"
    }
   ],
   "source": [
    "train_data.head(5)"
   ]
  },
  {
   "cell_type": "code",
   "execution_count": 18,
   "metadata": {},
   "outputs": [],
   "source": [
    "def prep_forecasts(df):\n",
    "    forecast_array=[]\n",
    "    # print(self.df.columns)\n",
    "\n",
    "    model.dataset, model.uids, model.last_dates, model.ds=model._prepare_fit(df[['ds','unique_id','y']],\n",
    "                                                                                        static_df=None, \n",
    "                                                                                        sort_df=None,\n",
    "                                                                                        predict_only=False,\n",
    "                                                                                        id_col='unique_id', \n",
    "                                                                                        time_col='ds', \n",
    "                                                                                        target_col='y')\n",
    "    forecasts=model.predict_insample()\n",
    "    forecasts_series=forecasts.groupby('cutoff').apply(lambda x: x.select_dtypes(np.number).values.flatten())\n",
    "    new_df=df[df['ds'].isin([c for c in forecasts_series.index])]\n",
    "    forecasts_series=forecasts_series[new_df.index]\n",
    "    forecast_array=[c for c in forecasts_series]\n",
    "    return forecast_array,new_df"
   ]
  },
  {
   "cell_type": "code",
   "execution_count": 19,
   "metadata": {},
   "outputs": [
    {
     "name": "stdout",
     "output_type": "stream",
     "text": [
      "WARNING: Predict insample might not provide accurate predictions for                       recurrent model AutoLSTM class yet due to scaling.\n"
     ]
    },
    {
     "name": "stderr",
     "output_type": "stream",
     "text": [
      "GPU available: True (mps), used: True\n",
      "TPU available: False, using: 0 TPU cores\n",
      "IPU available: False, using: 0 IPUs\n",
      "HPU available: False, using: 0 HPUs\n",
      "GPU available: True (mps), used: True\n",
      "TPU available: False, using: 0 TPU cores\n",
      "IPU available: False, using: 0 IPUs\n",
      "HPU available: False, using: 0 HPUs\n",
      "GPU available: True (mps), used: True\n",
      "TPU available: False, using: 0 TPU cores\n",
      "IPU available: False, using: 0 IPUs\n",
      "HPU available: False, using: 0 HPUs\n",
      "GPU available: True (mps), used: True\n",
      "TPU available: False, using: 0 TPU cores\n",
      "IPU available: False, using: 0 IPUs\n",
      "HPU available: False, using: 0 HPUs\n",
      "GPU available: True (mps), used: True\n",
      "TPU available: False, using: 0 TPU cores\n",
      "IPU available: False, using: 0 IPUs\n",
      "HPU available: False, using: 0 HPUs\n"
     ]
    },
    {
     "name": "stdout",
     "output_type": "stream",
     "text": [
      "WARNING: Predict insample might not provide accurate predictions for                       recurrent model AutoLSTM class yet due to scaling.\n"
     ]
    },
    {
     "name": "stderr",
     "output_type": "stream",
     "text": [
      "GPU available: True (mps), used: True\n",
      "TPU available: False, using: 0 TPU cores\n",
      "IPU available: False, using: 0 IPUs\n",
      "HPU available: False, using: 0 HPUs\n",
      "GPU available: True (mps), used: True\n",
      "TPU available: False, using: 0 TPU cores\n",
      "IPU available: False, using: 0 IPUs\n",
      "HPU available: False, using: 0 HPUs\n",
      "GPU available: True (mps), used: True\n",
      "TPU available: False, using: 0 TPU cores\n",
      "IPU available: False, using: 0 IPUs\n",
      "HPU available: False, using: 0 HPUs\n"
     ]
    }
   ],
   "source": [
    "train_forecast_array,train_df=prep_forecasts(train_data)\n",
    "test_forecast_array,test_df=prep_forecasts(test_data)"
   ]
  },
  {
   "cell_type": "code",
   "execution_count": 20,
   "metadata": {},
   "outputs": [],
   "source": [
    "def rew_func(history):\n",
    "    portfolio_initial_value= history[\"portfolio_valuation\",0]\n",
    "    current_position=history['position',-1]\n",
    "    portfolio_return=history[\"portfolio_valuation\"]\n",
    "    portfolio_pct_change=pd.Series(np.array(portfolio_return)).pct_change().fillna(0)\n",
    "    # print(portfolio_pct_change)\n",
    "    reward = (portfolio_pct_change.mean() / portfolio_pct_change.std())\n",
    "    \n",
    "    # print(np.isnan(reward),reward)\n",
    "    reward = 0 if np.isnan(reward) else reward\n",
    "    # print(np.isnan(reward),reward)\n",
    "    return float(reward)\n"
   ]
  },
  {
   "cell_type": "code",
   "execution_count": 27,
   "metadata": {},
   "outputs": [],
   "source": [
    "train_env_config=dict(\n",
    "                name=f'{symbol}_train',\n",
    "                forecast_horizon=7,\n",
    "                context_length=35,\n",
    "                # initial_position=0,\n",
    "                reward_function=rew_func,\n",
    "                forecasts=train_forecast_array,\n",
    "                df = train_df, # Your dataset with your custom features\n",
    "                positions = [ -1, -.5, 0, .5 , 1], # -1 (=SHORT), 0(=OUT), +1 (=LONG)\n",
    "                trading_fees = 0.01/100, # 0.01% per stock buy / sell (Binance fees)\n",
    "                borrow_interest_rate= 0.0003/100, # 0.0003% per timestep (one timestep = 1h here)\n",
    "                max_episode_duration=168,\n",
    "                verbose=0\n",
    "                )\n",
    "\n",
    "test_env_config=copy.deepcopy(train_env_config)\n",
    "test_env_config['name']=f'{symbol}_test'\n",
    "test_env_config['df'] = test_df\n",
    "test_env_config['forecasts']=test_forecast_array\n",
    "\n"
   ]
  },
  {
   "cell_type": "code",
   "execution_count": 28,
   "metadata": {},
   "outputs": [],
   "source": [
    "train_env=NeuralForecastingTradingEnv(**train_env_config)"
   ]
  },
  {
   "cell_type": "code",
   "execution_count": 29,
   "metadata": {},
   "outputs": [
    {
     "data": {
      "text/plain": [
       "-0.023083280056553683"
      ]
     },
     "execution_count": 29,
     "metadata": {},
     "output_type": "execute_result"
    }
   ],
   "source": [
    "obs=train_env.reset()\n",
    "terminated = truncated = False\n",
    "# env.action_space.sa\n",
    "while not terminated and not truncated:\n",
    "    action = train_env.action_space.sample()\n",
    "    obs, reward, terminated, truncated, info = train_env.step(action)\n",
    "info['reward']\n",
    "# train_env.results_metrics\n",
    "# train_env.historical_info.columns"
   ]
  },
  {
   "cell_type": "code",
   "execution_count": 30,
   "metadata": {},
   "outputs": [],
   "source": [
    "\n",
    "\n",
    "register_env(\"train_env\", lambda config: NeuralForecastingTradingEnv(**train_env_config))\n",
    "register_env(\"test_env\", lambda config: NeuralForecastingTradingEnv(**test_env_config))\n"
   ]
  },
  {
   "cell_type": "code",
   "execution_count": 31,
   "metadata": {},
   "outputs": [],
   "source": [
    "\n",
    "def trial_str_creator(trial):\n",
    "    return \"{}_{}_trading_agent\".format(trial.trainable_name, trial.trial_id)\n",
    "\n"
   ]
  },
  {
   "cell_type": "code",
   "execution_count": 32,
   "metadata": {},
   "outputs": [],
   "source": [
    "from ray.rllib.algorithms.algorithm import Algorithm"
   ]
  },
  {
   "cell_type": "code",
   "execution_count": 33,
   "metadata": {},
   "outputs": [
    {
     "name": "stderr",
     "output_type": "stream",
     "text": [
      "2024-10-04 07:37:39,269\tWARNING util.py:61 -- Install gputil for GPU system monitoring.\n"
     ]
    }
   ],
   "source": [
    "agent= Algorithm.from_checkpoint('Agent/final_checkpoints')"
   ]
  },
  {
   "cell_type": "code",
   "execution_count": 34,
   "metadata": {},
   "outputs": [],
   "source": [
    "test_env=NeuralForecastingTradingEnv(**test_env_config)"
   ]
  },
  {
   "cell_type": "code",
   "execution_count": 35,
   "metadata": {},
   "outputs": [],
   "source": [
    "# obs,info=train_env.reset()\n",
    "# action=None\n",
    "# reward=0\n",
    "# terminated = truncated = False\n",
    "\n",
    "# while not terminated and not truncated:\n",
    "\n",
    "#     action = agent.compute_single_action(obs,explore=False)\n",
    "#     action = train_env.action_space.sample()\n",
    "#     # print(action)\n",
    "#     next_obs, reward, terminated, truncated, info = train_env.step(action)\n",
    "\n",
    "#     obs=next_obs\n",
    "# info\n",
    "# train_env.get_metrics(),info['portfolio_valuation']"
   ]
  },
  {
   "cell_type": "code",
   "execution_count": 36,
   "metadata": {},
   "outputs": [],
   "source": [
    "# eval_profit=[]\n",
    "# for i in tqdm( range(100)):\n",
    "#     obs,info=train_env.reset()\n",
    "#     action=None\n",
    "#     reward=0\n",
    "#     terminated = truncated = False\n",
    "\n",
    "#     while not terminated and not truncated:\n",
    "\n",
    "#         action = agent.compute_single_action(obs,explore=False)\n",
    "#         # action = train_env.action_space.sample()\n",
    "#         # print(action)\n",
    "#         next_obs, reward, terminated, truncated, info = train_env.step(action)\n",
    "\n",
    "#         obs=next_obs\n",
    "\n",
    "#     eval_profit.append(info['portfolio_valuation'])\n",
    "#     info['portfolio_valuation']\n",
    "# profits=[e for e in eval_profit]\n",
    "# plt.plot(profits)\n",
    "# np.mean(profits)"
   ]
  },
  {
   "cell_type": "code",
   "execution_count": 37,
   "metadata": {},
   "outputs": [
    {
     "data": {
      "application/vnd.jupyter.widget-view+json": {
       "model_id": "e1f5975696604eb4802e61674c9e5674",
       "version_major": 2,
       "version_minor": 0
      },
      "text/plain": [
       "  0%|          | 0/100 [00:00<?, ?it/s]"
      ]
     },
     "metadata": {},
     "output_type": "display_data"
    }
   ],
   "source": [
    "eval_profit=[]\n",
    "eval_market=[]\n",
    "for i in tqdm( range(100)):\n",
    "    obs,info=test_env.reset()\n",
    "    action=None\n",
    "    reward=0\n",
    "    terminated = truncated = False\n",
    "\n",
    "    while not terminated and not truncated:\n",
    "\n",
    "        action = agent.compute_single_action(obs,explore=False)\n",
    "        # action = train_env.action_space.sample()\n",
    "        # print(action)\n",
    "        next_obs, reward, terminated, truncated, info = test_env.step(action)\n",
    "\n",
    "        obs=next_obs\n",
    "    metrics=test_env.get_metrics()\n",
    "    eval_market.append(float(metrics['Market Return'].replace('%','')))\n",
    "    eval_profit.append(float(metrics['Portfolio Return'].replace('%','')))\n",
    "\n",
    "    # info['portfolio_valuation']\n"
   ]
  },
  {
   "cell_type": "code",
   "execution_count": 38,
   "metadata": {},
   "outputs": [
    {
     "data": {
      "text/plain": [
       "array([-4.12, -3.92,  2.25, -4.99, -2.44, -3.5 ,  4.02, -3.42, -3.76,\n",
       "       -3.33, -3.25, -4.04, -3.29, -2.7 , -4.36, -5.4 , -3.26, -3.81,\n",
       "       -2.45, -6.95, -4.36, -7.13, -3.05,  1.26, -7.59, -2.95, -3.86,\n",
       "       -3.18, -5.26, -4.16, -3.5 ,  4.02, -6.95, -2.43, -2.23, -3.09,\n",
       "       -4.36, -7.57, -0.47, -6.95, -4.5 , -2.56,  4.03,  2.9 , -0.11,\n",
       "       -2.79,  3.53, -2.79, -3.27, -3.79, -4.37,  2.24,  0.52, -2.58,\n",
       "       -5.  , -3.92, -4.88, -3.08,  4.65,  2.5 , -4.86, -4.65, -3.47,\n",
       "        4.46, -2.55, -3.38, -3.33, -7.23,  1.42, -4.8 , -3.13, -3.18,\n",
       "       -4.39, -4.81, -4.55, -2.85, -3.43, -3.8 , -3.55,  4.65, -3.05,\n",
       "       -4.66, -4.66, -4.24, -3.48, -3.02, -3.21, -3.74, -4.51, -3.53,\n",
       "       -5.53, -3.42, -5.53, -3.88,  1.07, -0.47, -2.96, -2.59, -4.81,\n",
       "       -4.26])"
      ]
     },
     "execution_count": 38,
     "metadata": {},
     "output_type": "execute_result"
    }
   ],
   "source": [
    "pd.to_numeric(eval_profit)"
   ]
  },
  {
   "cell_type": "code",
   "execution_count": 53,
   "metadata": {},
   "outputs": [
    {
     "data": {
      "text/plain": [
       "(18.341600000000007, 2.3903)"
      ]
     },
     "execution_count": 53,
     "metadata": {},
     "output_type": "execute_result"
    },
    {
     "data": {
      "image/png": "[encoded data removed]",
      "text/plain": [
       "<Figure size 640x480 with 1 Axes>"
      ]
     },
     "metadata": {},
     "output_type": "display_data"
    }
   ],
   "source": [
    "\n",
    "plt.plot(eval_profit,label='agent_return')\n",
    "plt.plot(eval_market,label='market_return')\n",
    "plt.legend()\n",
    "np.mean(eval_profit),np.mean(eval_market)"
   ]
  },
  {
   "cell_type": "code",
   "execution_count": 39,
   "metadata": {},
   "outputs": [],
   "source": [
    "render_dir=\"PPO_test_render_logs\"\n",
    "renderer = Renderer(render_logs_dir=render_dir)"
   ]
  },
  {
   "cell_type": "code",
   "execution_count": 40,
   "metadata": {},
   "outputs": [
    {
     "data": {
      "text/plain": [
       "(-0.06972639759268905,\n",
       " 956.2868850972924,\n",
       " {'Market Return': ' 4.09%',\n",
       "  'Portfolio Return': '-4.37%',\n",
       "  'Position Changes': 29,\n",
       "  'Episode Length': 168})"
      ]
     },
     "execution_count": 40,
     "metadata": {},
     "output_type": "execute_result"
    }
   ],
   "source": [
    "obs,info=test_env.reset()\n",
    "action=None\n",
    "reward=0\n",
    "terminated = truncated = False\n",
    "\n",
    "\n",
    "while not terminated and not truncated:\n",
    "\n",
    "    action = agent.compute_single_action(obs,explore=False)\n",
    "    # action = train_env.action_space.sample()\n",
    "    # print(action)\n",
    "    next_obs, reward, terminated, truncated, info = test_env.step(action)\n",
    "\n",
    "    obs=next_obs\n",
    "info['reward'],info[ 'portfolio_valuation'],test_env.get_metrics()\n",
    "\n",
    "\n"
   ]
  },
  {
   "cell_type": "code",
   "execution_count": 41,
   "metadata": {},
   "outputs": [],
   "source": [
    "\n",
    "test_env.save_for_render(dir = render_dir)"
   ]
  },
  {
   "cell_type": "code",
   "execution_count": 42,
   "metadata": {},
   "outputs": [],
   "source": [
    "renderer = Renderer(render_logs_dir=render_dir)"
   ]
  },
  {
   "cell_type": "code",
   "execution_count": 58,
   "metadata": {},
   "outputs": [
    {
     "name": "stdout",
     "output_type": "stream",
     "text": [
      " * Serving Flask app 'gym_trading_env.renderer'\n",
      " * Debug mode: off\n"
     ]
    },
    {
     "name": "stderr",
     "output_type": "stream",
     "text": [
      "WARNING: This is a development server. Do not use it in a production deployment. Use a production WSGI server instead.\n",
      " * Running on http://127.0.0.1:5000\n",
      "Press CTRL+C to quit\n",
      "127.0.0.1 - - [04/Oct/2024 07:38:14] \"GET / HTTP/1.1\" 200 -\n",
      "127.0.0.1 - - [04/Oct/2024 07:38:18] \"GET /update_data/ETHUSDT_test_2024-08-22_15-08-17.pkl HTTP/1.1\" 200 -\n",
      "127.0.0.1 - - [04/Oct/2024 07:38:18] \"GET /metrics HTTP/1.1\" 200 -\n",
      "127.0.0.1 - - [04/Oct/2024 07:38:18] \"GET /favicon.ico HTTP/1.1\" 404 -\n",
      "127.0.0.1 - - [04/Oct/2024 07:38:41] \"GET /update_data/BNBUSDT_test_2024-10-04_07-38-09.pkl HTTP/1.1\" 200 -\n",
      "127.0.0.1 - - [04/Oct/2024 07:38:41] \"GET /metrics HTTP/1.1\" 200 -\n"
     ]
    }
   ],
   "source": [
    "# Add Custom Metrics (Annualized metrics)\n",
    "renderer.add_metric(\n",
    "    name = \"Annual Market Return\",\n",
    "    function = lambda df : f\"{ ((df['close'].iloc[-1] / df['close'].iloc[0])**(pd.Timedelta(days=365)/(df.index.values[-1] - df.index.values[0]))-1)*100:0.2f}%\"\n",
    ")\n",
    "renderer.add_metric(\n",
    "        name = \"Annual Portfolio Return\",\n",
    "        function = lambda df : f\"{((df['portfolio_valuation'].iloc[-1] / df['portfolio_valuation'].iloc[0])**(pd.Timedelta(days=365)/(df.index.values[-1] - df.index.values[0]))-1)*100:0.2f}%\"\n",
    ")\n",
    "\n",
    "renderer.run()"
   ]
  },
  {
   "cell_type": "code",
   "execution_count": null,
   "metadata": {},
   "outputs": [],
   "source": []
  }
 ],
 "metadata": {
  "kernelspec": {
   "display_name": "base",
   "language": "python",
   "name": "python3"
  },
  "language_info": {
   "codemirror_mode": {
    "name": "ipython",
    "version": 3
   },
   "file_extension": ".py",
   "mimetype": "text/x-python",
   "name": "python",
   "nbconvert_exporter": "python",
   "pygments_lexer": "ipython3",
   "version": "3.10.13"
  }
 },
 "nbformat": 4,
 "nbformat_minor": 2
}
