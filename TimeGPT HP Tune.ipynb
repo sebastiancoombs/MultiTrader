{
 "cells": [
  {
   "cell_type": "code",
   "execution_count": null,
   "metadata": {},
   "outputs": [],
   "source": [
    "import os\n",
    "import warnings\n"
   ]
  },
  {
   "cell_type": "code",
   "execution_count": null,
   "metadata": {},
   "outputs": [],
   "source": [
    "# os.environ[\"PYTHONWARNINGS\"]=\"ignore\"\n",
    "# os.environ[\"PYTORCH_ENABLE_MPS_FALLBACK\"]=\"1\"\n",
    "warnings.filterwarnings(\"ignore\")\n",
    "# os.environ"
   ]
  },
  {
   "cell_type": "code",
   "execution_count": null,
   "metadata": {},
   "outputs": [],
   "source": [
    "import datetime\n",
    "import glob\n",
    "from functools import lru_cache, partial\n",
    "from pprint import pprint\n",
    "\n",
    "import gym_trading_env\n",
    "import gymnasium as gym\n",
    "import matplotlib.pyplot as plt\n",
    "import MultiTrade\n",
    "import numpy as np\n",
    "import pandas as pd\n",
    "import torch\n",
    "from gym_trading_env.downloader import download\n",
    "from gym_trading_env.environments import TradingEnv\n",
    "\n",
    "from gym_trading_env.renderer import Renderer\n",
    "from IPython.display import display\n",
    "\n",
    "\n",
    "from tqdm.autonotebook import tqdm\n",
    "from utils.utils import build_dataset, build_market_image,preprocess_data\n",
    "from utils.forecast_utils import build_model_get_data,get_dataset_columns\n",
    "\n",
    "import ray                              \n",
    "\n",
    "from statsforecast import StatsForecast\n",
    "\n",
    "from neuralforecast.core import NeuralForecast\n",
    "from neuralforecast.models import NHITS, NBEATS, PatchTST\n",
    "from neuralforecast.auto import AutoNHITS, AutoLSTM,AutoPatchTST,AutoNBEATS\n",
    "from neuralforecast.losses.numpy import mae, mse\n",
    "from ray import tune\n",
    "from neuralforecast.losses.pytorch import MAE, MSE\n",
    "# from ray.tune.search.hyperopt import HyperOptSearch\n",
    "import optuna\n",
    "from optuna import trial\n",
    "# optuna.logging.set_verbosity(optuna.logging.WARNING) # Use this to disable training prints from optuna"
   ]
  },
  {
   "cell_type": "code",
   "execution_count": null,
   "metadata": {},
   "outputs": [],
   "source": [
    "COIN_PAIRS=['BTC/USDT','ETH/USDT','SOL/USDT','BNB/USDT','XRP/USDT','ADA/USDT',\n",
    "            'ETH/BTC','SOL/ETH','BNB/ETH','XRP/ETH',\"ADA/ETH\",\n",
    "            'SOL/BTC','SOL/BNB',\n",
    "            'XRP/BTC','XRP/BNB',\n",
    "            'ADA/BTC','ADA/BNB',\n",
    "            ]\n",
    "target_pair='ETHUSDT'\n",
    "time_frame=\"1h\""
   ]
  },
  {
   "cell_type": "code",
   "execution_count": null,
   "metadata": {},
   "outputs": [],
   "source": [
    "import gluonts"
   ]
  },
  {
   "cell_type": "code",
   "execution_count": null,
   "metadata": {},
   "outputs": [],
   "source": [
    "from gluonts.time_feature import time_features_from_frequency_str"
   ]
  },
  {
   "cell_type": "code",
   "execution_count": null,
   "metadata": {},
   "outputs": [],
   "source": [
    "files=glob.glob(f'data/**{time_frame}.pkl',recursive=True)\n",
    "time_funcs=time_features_from_frequency_str(time_frame)\n",
    "t_func=time_funcs[0]\n",
    "t_func"
   ]
  },
  {
   "cell_type": "code",
   "execution_count": null,
   "metadata": {},
   "outputs": [],
   "source": [
    "data=pd.read_pickle(files[0])\n"
   ]
  },
  {
   "cell_type": "code",
   "execution_count": null,
   "metadata": {},
   "outputs": [],
   "source": [
    "t_func(data.index)"
   ]
  },
  {
   "cell_type": "code",
   "execution_count": null,
   "metadata": {},
   "outputs": [],
   "source": [
    "data=build_market_image(target_pair='ETH/USDT',time_frame='1h',axis=0)\n",
    "\n",
    "data=data.groupby('symbol').apply(lambda x: x[:pd.Timestamp('2024-01-01')])\n",
    "\n",
    "data=data.reset_index(level=0,drop=True).reset_index()\n",
    "id_columns=['symbol']\n",
    "output_columns,feature_columns,drop_columns=get_dataset_columns(data,id_columns=id_columns)\n",
    "len(output_columns)+len(data[id_columns[0]].unique())"
   ]
  },
  {
   "cell_type": "code",
   "execution_count": null,
   "metadata": {},
   "outputs": [],
   "source": [
    "data.head(5)"
   ]
  },
  {
   "cell_type": "code",
   "execution_count": null,
   "metadata": {},
   "outputs": [],
   "source": [
    "front=['y','ds','symbol']\n",
    "data=data[front+[c for c in data.columns if c not in front]]\n",
    "data=data[front]"
   ]
  },
  {
   "cell_type": "markdown",
   "metadata": {},
   "source": []
  },
  {
   "cell_type": "code",
   "execution_count": null,
   "metadata": {},
   "outputs": [],
   "source": [
    "data"
   ]
  },
  {
   "cell_type": "code",
   "execution_count": null,
   "metadata": {},
   "outputs": [],
   "source": [
    "StatsForecast.plot(data,id_col='symbol', engine='matplotlib')"
   ]
  },
  {
   "cell_type": "code",
   "execution_count": null,
   "metadata": {},
   "outputs": [],
   "source": [
    "eth_data=data[data['symbol']=='ETHUSDT'].copy()\n",
    "# data=eth_data\n",
    "split=int(len(eth_data)*.7)\n",
    "print(split)\n",
    "data.groupby('symbol').apply(lambda x: x.reset_index(drop=True)[:split])\n",
    "train = data[:split]\n",
    "test = data[split:]\n",
    "future_exog = test[['symbol','y']]\n"
   ]
  },
  {
   "cell_type": "code",
   "execution_count": null,
   "metadata": {},
   "outputs": [],
   "source": []
  },
  {
   "cell_type": "code",
   "execution_count": null,
   "metadata": {},
   "outputs": [],
   "source": [
    "search_space={\n",
    "\n",
    "    \"loss\":MSE(),\n",
    "\n",
    "    \"input_size\": tune.choice([12, 24, 48, 64]),              # Length of input window\n",
    "    \"start_padding_enabled\": True,\n",
    "    \"n_blocks\": 5*[1],                                              # Length of input window\n",
    "    \"mlp_units\": 5 * [[64, 64]],                                  # Length of input window\n",
    "    \"n_pool_kernel_size\": tune.choice([5*[1], 5*[2], 5*[4],         \n",
    "                                      [8, 4, 2, 1, 1]]),            # MaxPooling Kernel size\n",
    "    \"n_freq_downsample\": tune.choice([[8, 4, 2, 1, 1],\n",
    "                                      [1, 1, 1, 1, 1]]),\n",
    "                                                              # Interpolation expressivity ratios\n",
    "    \"learning_rate\": tune.loguniform(1e-6, 1e-2),                   # Initial Learning rate\n",
    "    \"scaler_type\": tune.choice([None]),                             # Scaler type\n",
    "    \"max_steps\": tune.choice([1000]),                               # Max number of training iterations\n",
    "    \"batch_size\": tune.choice([1, 4, 10]),                          # Number of series in batch\n",
    "    \"windows_batch_size\": tune.choice([128, 256, 512]),             # Number of windows in batch\n",
    "    \"random_seed\": tune.randint(1, 20),                             # Random seed\n",
    "}\n"
   ]
  },
  {
   "cell_type": "code",
   "execution_count": null,
   "metadata": {},
   "outputs": [],
   "source": [
    "forecast_horizon=6\n",
    "backend='optuna'\n",
    "PatchTST_config=AutoPatchTST.get_default_config(h=forecast_horizon,backend='ray')\n",
    "NHITS_config=AutoNHITS.get_default_config(h=forecast_horizon,backend='ray')\n",
    "NBEATS_config=AutoNBEATS.get_default_config(h=forecast_horizon,backend='ray')\n",
    "PatchTST_config"
   ]
  },
  {
   "cell_type": "code",
   "execution_count": null,
   "metadata": {},
   "outputs": [],
   "source": [
    "keys=set.intersection(*[set(PatchTST_config.keys()),set(NBEATS_config.keys()),list(NHITS_config.keys())])\n",
    "keys"
   ]
  },
  {
   "cell_type": "code",
   "execution_count": null,
   "metadata": {},
   "outputs": [],
   "source": [
    "def config_patchTST(trial):\n",
    "\n",
    "    auto_config=AutoPatchTST.get_default_config(h=forecast_horizon,backend='optuna')\n",
    "\n",
    "    config = {**auto_config(trial)}\n",
    "    config.update({\n",
    "                    \"enable_progress_bar\":False,\n",
    "                    \"max_steps\":5000\n",
    "                   })\n",
    "    return config\n",
    "\n",
    "def config_nhits(trial):\n",
    "    auto_config=AutoNHITS.get_default_config(h=forecast_horizon,backend='optuna')\n",
    "\n",
    "    config = {**auto_config(trial)}\n",
    "    config.update({\n",
    "                    \"enable_progress_bar\":False,\n",
    "                    \"max_steps\":5000\n",
    "                   })\n",
    "    return config\n",
    "\n",
    "def config_nbeats(trial):\n",
    "    auto_config=AutoNBEATS.get_default_config(h=forecast_horizon,backend='optuna')\n",
    "    config = {**auto_config(trial)}\n",
    "    config.update({\n",
    "                    \"enable_progress_bar\":False,\n",
    "                    \"max_steps\":5000\n",
    "                   })\n",
    "    return config\n",
    "\n",
    "def config_lstm(trial):\n",
    "    auto_config=AutoLSTM.get_default_config(h=forecast_horizon,backend='optuna')\n",
    "    config = {**auto_config(trial)}\n",
    "    config.update({\n",
    "                    \"enable_progress_bar\":False,\n",
    "                    \"max_steps\":5000\n",
    "                   })\n",
    "    return config"
   ]
  },
  {
   "cell_type": "code",
   "execution_count": null,
   "metadata": {},
   "outputs": [],
   "source": [
    "PatchTST_config.update({x:y for x,y in search_space.items() if x in PatchTST_config})\n",
    "NHITS_config.update({x:y for x,y in search_space.items() if x in NHITS_config})\n",
    "NBEATS_config.update({x:y for x,y in search_space.items() if x in NBEATS_config})\n",
    "PatchTST_config"
   ]
  },
  {
   "cell_type": "code",
   "execution_count": null,
   "metadata": {},
   "outputs": [],
   "source": [
    "PatchTST_config[\"input_size\"]=tune.choice([12, 24, 48, 64])"
   ]
  },
  {
   "cell_type": "code",
   "execution_count": null,
   "metadata": {},
   "outputs": [],
   "source": [
    "horizon = 6\n",
    "context_length=5*horizon\n",
    "max_steps=2000\n",
    "models = [AutoNHITS(\n",
    "                    h = forecast_horizon,\n",
    "                    loss = MSE(),\n",
    "                    num_samples = 30,\n",
    "                    search_alg = optuna.samplers.TPESampler(),\n",
    "                    backend = 'optuna',\n",
    "                    # enable_progress_bar=False,\n",
    "                    config = config_nhits,\n",
    "                    ),\n",
    "         AutoNBEATS(\n",
    "                    h = forecast_horizon,\n",
    "                    loss = MSE(),\n",
    "                    num_samples = 30,\n",
    "                    search_alg = optuna.samplers.TPESampler(),\n",
    "                    backend = 'optuna',\n",
    "                    # enable_progress_bar=False,\n",
    "                    config=config_nbeats,\n",
    "                    ),\n",
    "         AutoPatchTST(\n",
    "                    h = forecast_horizon,\n",
    "                    loss = MSE(),\n",
    "                    num_samples = 30,\n",
    "                    search_alg = optuna.samplers.TPESampler(),\n",
    "                    backend = 'optuna',\n",
    "                    # enable_progress_bar=False,\n",
    "                    config = config_patchTST),\n",
    "        AutoLSTM(\n",
    "                    h = forecast_horizon,\n",
    "                    loss = MSE(),\n",
    "                    num_samples = 30,\n",
    "                    search_alg = optuna.samplers.TPESampler(),\n",
    "                    backend = 'optuna',\n",
    "                    \n",
    "                    # enable_progress_bar=False,\n",
    "                    config = config_lstm)\n",
    "          ]\n",
    "\n",
    "nf = NeuralForecast(models = models,\n",
    "                     freq = '1h')"
   ]
  },
  {
   "cell_type": "code",
   "execution_count": null,
   "metadata": {},
   "outputs": [],
   "source": [
    "mps_device = torch.device(\"mps\")\n",
    "z = torch.ones(5, device=mps_device)\n",
    "z"
   ]
  },
  {
   "cell_type": "code",
   "execution_count": null,
   "metadata": {},
   "outputs": [],
   "source": [
    "nf.fit(train,\n",
    "        val_size=horizon,\n",
    "        time_col='ds',                    \n",
    "        target_col='y',\n",
    "        id_col='symbol'\n",
    "        \n",
    "        )\n"
   ]
  },
  {
   "cell_type": "code",
   "execution_count": null,
   "metadata": {},
   "outputs": [],
   "source": [
    "model_path='forecasting_model/'\n",
    "nf.save(model_path,overwrite=True)\n",
    "# nf.load(model_path)"
   ]
  },
  {
   "cell_type": "code",
   "execution_count": null,
   "metadata": {},
   "outputs": [],
   "source": [
    "\n",
    "Y_pred = nf.predict().reset_index()\n",
    "preds_df=Y_pred\n",
    "preds_df['mean_pred']=preds_df.filter(like='Auto').mean(1)\n",
    "preds_df= preds_df.merge(test, how='left', on=['symbol', 'ds'])\n",
    "preds_df=pd.concat([train.tail(48),preds_df]).reset_index()\n",
    "preds_df.tail(10)"
   ]
  },
  {
   "cell_type": "code",
   "execution_count": null,
   "metadata": {},
   "outputs": [],
   "source": [
    "fcst_df = nf.predict()\n",
    "fcst_df['mean_pred']=fcst_df[['AutoNHITS', 'AutoNBEATS','AutoPatchTST']].mean(1)\n",
    "fcst_df.head()"
   ]
  },
  {
   "cell_type": "code",
   "execution_count": null,
   "metadata": {},
   "outputs": [],
   "source": [
    "StatsForecast.plot(preds_df, fcst_df, id_col='symbol',engine='matplotlib', max_insample_length=100)"
   ]
  },
  {
   "cell_type": "code",
   "execution_count": null,
   "metadata": {},
   "outputs": [],
   "source": [
    "model=nf.models[0]\n",
    "model.max_steps\n",
    "test_df=test.reset_index(drop=True)\n",
    "model.max_steps,model.step_size,"
   ]
  },
  {
   "cell_type": "code",
   "execution_count": null,
   "metadata": {},
   "outputs": [],
   "source": [
    "plot_size=500\n",
    "context_length=5*horizon\n",
    "end=np.random.randint(0,len(test)-plot_size)\n",
    "end=end if end>0 else 1\n",
    "start=end-context_length if (end-context_length)>0 else 0\n",
    "pred_ids=test_df.index[start:end]\n",
    "df=test_df.loc[pred_ids]\n",
    "df=df[['ds','unique_id','y']]\n",
    "df_plot=test_df.iloc[start:end+horizon].copy().reset_index(drop=True)\n",
    "\n",
    "nf.dataset, nf.uids, nf.last_dates, nf.ds=nf._prepare_fit(df,\n",
    "                static_df=None, \n",
    "                sort_df=None,\n",
    "                predict_only=False,\n",
    "                id_col='unique_id', \n",
    "                time_col='ds', \n",
    "                target_col='y')\n",
    "\n",
    "\n",
    "preds_array=np.array([model.predict(nf.dataset) for model in nf.models]).squeeze().mean(0)\n",
    "\n",
    "# preds_array\n",
    "df_plot['mean_pred']=np.nan\n",
    "n_values=int(-preds_array.shape[0])\n",
    "ids=df_plot.index[n_values:]\n",
    "df_plot.loc[ids,'mean_pred']=[c for c in preds_array]\n",
    "\n",
    "plot_preds(df_plot)\n",
    "# df"
   ]
  },
  {
   "cell_type": "code",
   "execution_count": null,
   "metadata": {},
   "outputs": [],
   "source": [
    "nf.dataset, nf.uids, nf.last_dates, nf.ds=nf._prepare_fit(test_df,\n",
    "                static_df=None, \n",
    "                sort_df=None,\n",
    "                predict_only=False,\n",
    "                id_col='unique_id', \n",
    "                time_col='ds', \n",
    "                target_col='y')"
   ]
  },
  {
   "cell_type": "code",
   "execution_count": null,
   "metadata": {},
   "outputs": [],
   "source": [
    "from itertools import Counter"
   ]
  },
  {
   "cell_type": "code",
   "execution_count": null,
   "metadata": {},
   "outputs": [],
   "source": []
  },
  {
   "cell_type": "code",
   "execution_count": null,
   "metadata": {},
   "outputs": [],
   "source": [
    "all_predictions=nf.predict_insample()\n"
   ]
  },
  {
   "cell_type": "code",
   "execution_count": null,
   "metadata": {},
   "outputs": [],
   "source": [
    "all_predictions['ds']"
   ]
  },
  {
   "cell_type": "code",
   "execution_count": null,
   "metadata": {},
   "outputs": [],
   "source": [
    "\n",
    "forecasts_series=all_predictions.groupby('cutoff').apply(lambda x: x.select_dtypes(np.number).values.flatten())\n",
    "forecasts_array=[c for c in forecasts_series]\n",
    "\n",
    "new_df=test_df[test_df['ds'].isin([c for c in forecasts_series.index])]\n",
    "print(len(test_df),len(forecasts_array),len(new_df))"
   ]
  },
  {
   "cell_type": "code",
   "execution_count": null,
   "metadata": {},
   "outputs": [],
   "source": [
    "for model in nf.models:\n",
    "    model.enable_progress_bar=False"
   ]
  },
  {
   "cell_type": "code",
   "execution_count": null,
   "metadata": {},
   "outputs": [],
   "source": []
  },
  {
   "cell_type": "code",
   "execution_count": null,
   "metadata": {},
   "outputs": [],
   "source": [
    "nf.dataset, nf.uids, nf.last_dates, nf.ds=nf._prepare_fit(test_df[['ds','unique_id','y']].tail(horizon),\n",
    "                static_df=None, \n",
    "                sort_df=None ,\n",
    "                predict_only=True,\n",
    "                id_col='unique_id', \n",
    "                time_col='ds', \n",
    "                target_col='y')"
   ]
  },
  {
   "cell_type": "code",
   "execution_count": null,
   "metadata": {},
   "outputs": [],
   "source": [
    "i=0\n",
    "test_df=test.reset_index(drop=True)\n",
    "test_df.tail(horizon)\n"
   ]
  },
  {
   "cell_type": "code",
   "execution_count": null,
   "metadata": {},
   "outputs": [],
   "source": [
    "future=nf.make_future_dataframe()\n",
    "nf.predict()"
   ]
  },
  {
   "cell_type": "code",
   "execution_count": null,
   "metadata": {},
   "outputs": [],
   "source": [
    "test_pred_df=nf.predict_insample().reset_index()\n",
    "test_pred_df['mean_pred']=test_pred_df[['NHITS', 'NBEATS','PatchTST']].mean(1)\n",
    "# test_pred_df['mean_pred']=test_pred_df[['mean_pred']].rolling(horizon).mean(1)\n",
    "test_pred_df\n"
   ]
  },
  {
   "cell_type": "code",
   "execution_count": null,
   "metadata": {},
   "outputs": [],
   "source": [
    "plot_preds(test_pred_df)\n",
    "# test_pred_df\n"
   ]
  },
  {
   "cell_type": "code",
   "execution_count": null,
   "metadata": {},
   "outputs": [],
   "source": [
    "plot_size=500\n",
    "start=np.random.randint(0,len(test)-plot_size)\n",
    "plot_df=test_pred_df.iloc[start:start+plot_size]\n",
    "plot_df=plot_df.sort_values('ds')\n",
    "# plot_df=plot_df.groupby('cutoff').mean()\n",
    "plot_df['mean_pred']=plot_df[['mean_pred']].rolling(horizon).mean()\n",
    "plot_preds(plot_df,cut=True)"
   ]
  },
  {
   "cell_type": "code",
   "execution_count": null,
   "metadata": {},
   "outputs": [],
   "source": [
    "groups=plot_df.groupby('cutoff')\n",
    "i=0\n",
    "max_i=10\n",
    "for name, df in groups:\n",
    "    i+=1\n",
    "    display(df)\n",
    "    if i>max_i:\n",
    "        break"
   ]
  },
  {
   "cell_type": "code",
   "execution_count": null,
   "metadata": {},
   "outputs": [],
   "source": [
    "plot_df.groupby('cutoff')['mean_pred'].mean()"
   ]
  },
  {
   "cell_type": "code",
   "execution_count": null,
   "metadata": {},
   "outputs": [],
   "source": [
    "preds_df[['mean_pred','y']].plot()"
   ]
  },
  {
   "cell_type": "code",
   "execution_count": null,
   "metadata": {},
   "outputs": [],
   "source": [
    "preds_df = preds_df.round({\n",
    "    'NHITS': 4,\n",
    "    'NBEATS': 4,\n",
    "    'PatchTST': 4,\n",
    "\n",
    "})\n",
    "\n",
    "data = {'N-HiTS': [mae(preds_df['NHITS'], preds_df['y']), mse(preds_df['NHITS'], preds_df['y'])],\n",
    "       'N-BEATS': [mae(preds_df['NBEATS'], preds_df['y']), mse(preds_df['NBEATS'], preds_df['y'])],\n",
    "       'PatchTST': [mae(preds_df['PatchTST'], preds_df['y']), mse(preds_df['PatchTST'], preds_df['y'])],\n",
    "       }\n",
    "\n",
    "metrics_df = pd.DataFrame(data=data)\n",
    "metrics_df.index = ['mae', 'mse']\n",
    "\n",
    "metrics_df.style.highlight_min(color='lightgreen', axis=1)"
   ]
  },
  {
   "cell_type": "code",
   "execution_count": null,
   "metadata": {},
   "outputs": [],
   "source": []
  },
  {
   "cell_type": "code",
   "execution_count": null,
   "metadata": {},
   "outputs": [],
   "source": []
  },
  {
   "cell_type": "code",
   "execution_count": null,
   "metadata": {},
   "outputs": [],
   "source": []
  }
 ],
 "metadata": {
  "kernelspec": {
   "display_name": "base",
   "language": "python",
   "name": "python3"
  },
  "language_info": {
   "codemirror_mode": {
    "name": "ipython",
    "version": 3
   },
   "file_extension": ".py",
   "mimetype": "text/x-python",
   "name": "python",
   "nbconvert_exporter": "python",
   "pygments_lexer": "ipython3",
   "version": "3.10.14"
  }
 },
 "nbformat": 4,
 "nbformat_minor": 2
}
