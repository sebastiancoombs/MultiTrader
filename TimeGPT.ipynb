{
 "cells": [
  {
   "cell_type": "code",
   "execution_count": null,
   "metadata": {},
   "outputs": [],
   "source": [
    "import torch"
   ]
  },
  {
   "cell_type": "code",
   "execution_count": null,
   "metadata": {},
   "outputs": [],
   "source": []
  },
  {
   "cell_type": "code",
   "execution_count": null,
   "metadata": {},
   "outputs": [],
   "source": [
    "import datetime\n",
    "import glob\n",
    "from functools import lru_cache, partial\n",
    "from pprint import pprint\n",
    "\n",
    "import gym_trading_env\n",
    "import gymnasium as gym\n",
    "import matplotlib.pyplot as plt\n",
    "import MultiTrade\n",
    "import numpy as np\n",
    "import pandas as pd\n",
    "import torch\n",
    "from gym_trading_env.downloader import download\n",
    "from gym_trading_env.environments import TradingEnv\n",
    "\n",
    "from gym_trading_env.renderer import Renderer\n",
    "from IPython.display import display\n",
    "from ray import train, tune\n",
    "from tqdm.autonotebook import tqdm\n",
    "from utils.utils import build_dataset, build_market_image,preprocess_data\n",
    "from utils.forecast_utils import build_model_get_data,get_dataset_columns\n",
    "\n",
    "import ray\n",
    "\n",
    "from statsforecast import StatsForecast\n",
    "\n",
    "StatsForecast.plot(Y_df, engine='matplotlib')\n",
    "\n",
    "\n",
    "import warnings\n",
    "warnings.filterwarnings(\"ignore\")\n",
    "\n",
    "from neuralforecast.core import NeuralForecast\n",
    "from neuralforecast.models import NHITS, NBEATS, PatchTST\n",
    "from neuralforecast.auto import AutoNHITS, AutoLSTM,AutoPatchTST\n",
    "from neuralforecast.losses.numpy import mae, mse"
   ]
  },
  {
   "cell_type": "code",
   "execution_count": null,
   "metadata": {},
   "outputs": [],
   "source": [
    "COIN_PAIRS=['BTC/USDT','ETH/USDT','SOL/USDT','BNB/USDT','XRP/USDT','ADA/USDT',\n",
    "            'ETH/BTC','SOL/ETH','BNB/ETH','XRP/ETH',\"ADA/ETH\",\n",
    "            'SOL/BTC','SOL/BNB',\n",
    "            'XRP/BTC','XRP/BNB',\n",
    "            'ADA/BTC','ADA/BNB',\n",
    "            ]\n",
    "target_pair='ETHUSDT'\n",
    "time_frame=\"1h\""
   ]
  },
  {
   "cell_type": "code",
   "execution_count": null,
   "metadata": {},
   "outputs": [],
   "source": [
    "data=build_market_image(target_pair='ETH/USDT',time_frame='1h',axis=0)\n",
    "data\n",
    "data=data.groupby('symbol').apply(lambda x: x[:pd.Timestamp('2024-01-01')])\n",
    "\n",
    "# # data.to_csv('data/binance-market-1h.csv')\n",
    "\n",
    "# data=data.groupby('symbol').apply(lambda x: x[:pd.Timestamp('2024-01-01')])\n",
    "\n",
    "data=data.reset_index(level=0,drop=True).reset_index()\n",
    "data=data[data['symbol']=='ETHUSDT'].copy()\n",
    "data['symbol'].unique()\n",
    "id_columns=['symbol']\n",
    "output_columns,feature_columns,drop_columns=get_dataset_columns(data,id_columns=['symbol'])\n",
    "len(output_columns)+len(data[id_columns[0]].unique())"
   ]
  },
  {
   "cell_type": "code",
   "execution_count": null,
   "metadata": {},
   "outputs": [],
   "source": [
    "data"
   ]
  },
  {
   "cell_type": "code",
   "execution_count": null,
   "metadata": {},
   "outputs": [],
   "source": [
    "\n",
    "data['ds']=data['date_open']\n",
    "data=data.drop(['date_open','symbol'],axis=1)\n",
    "front=['y','ds','unique_id']\n",
    "data=data[front+[c for c in data.columns if c not in front]]\n",
    "data=data[front]"
   ]
  },
  {
   "cell_type": "markdown",
   "metadata": {},
   "source": []
  },
  {
   "cell_type": "code",
   "execution_count": null,
   "metadata": {},
   "outputs": [],
   "source": [
    "data"
   ]
  },
  {
   "cell_type": "code",
   "execution_count": null,
   "metadata": {},
   "outputs": [],
   "source": [
    "\n",
    "\n",
    "fig, ax = plt.subplots(figsize=(12,8))\n",
    "\n",
    "ax.plot(data['ds'], data['y'])\n",
    "# ax.scatter(data['ds'], data['y'], marker='o', color='red', label='New article')\n",
    "ax.set_xlabel('Day')\n",
    "ax.set_ylabel('Total views')\n",
    "ax.legend(loc='best')\n",
    "\n",
    "fig.autofmt_xdate()\n",
    "\n",
    "\n",
    "plt.tight_layout()"
   ]
  },
  {
   "cell_type": "code",
   "execution_count": null,
   "metadata": {},
   "outputs": [],
   "source": [
    "split=int(len(data)*.7)\n",
    "print(split)\n",
    "train = data[:split]\n",
    "test = data[split:]\n",
    "future_exog = test[['unique_id','y']]\n"
   ]
  },
  {
   "cell_type": "code",
   "execution_count": null,
   "metadata": {},
   "outputs": [],
   "source": [
    "horizon = 7\n",
    "context_length=5*horizon\n",
    "max_steps=2000\n",
    "models = [NHITS(h=horizon,\n",
    "               input_size=context_length,\n",
    "               max_steps=20000,\n",
    "               enable_progress_bar=False\n",
    "               ),\n",
    "         NBEATS(h=horizon,\n",
    "               input_size=context_length,\n",
    "               max_steps=20000,\n",
    "               enable_progress_bar=False\n",
    "               \n",
    "               ),\n",
    "         PatchTST(h=horizon,\n",
    "                 input_size=context_length,\n",
    "                 max_steps=20000,\n",
    "               enable_progress_bar=False\n",
    "                 \n",
    "                 )\n",
    "                 ]\n",
    "nf = NeuralForecast(models=models,\n",
    "\n",
    "                     freq='1h')"
   ]
  },
  {
   "cell_type": "code",
   "execution_count": null,
   "metadata": {},
   "outputs": [],
   "source": [
    "nf.fit(train,\n",
    "        val_size=horizon,\n",
    "        time_col='ds',                    \n",
    "        target_col='y',\n",
    "        \n",
    "        )\n"
   ]
  },
  {
   "cell_type": "code",
   "execution_count": null,
   "metadata": {},
   "outputs": [],
   "source": [
    "nf.save('/Users/sebastiancoombs/Documents/Git/MultiTrader/MultiTrade',overwrite=True)"
   ]
  },
  {
   "cell_type": "code",
   "execution_count": null,
   "metadata": {},
   "outputs": [],
   "source": [
    "\n",
    "Y_pred = nf.predict().reset_index()\n",
    "preds_df=Y_pred\n",
    "preds_df['mean_pred']=preds_df[['NHITS', 'NBEATS','PatchTST']].mean(1)\n",
    "preds_df= preds_df.merge(test, how='left', on=['unique_id', 'ds'])\n",
    "preds_df=pd.concat([train.tail(48),preds_df])\n",
    "preds_df"
   ]
  },
  {
   "cell_type": "code",
   "execution_count": null,
   "metadata": {},
   "outputs": [],
   "source": [
    "def plot_preds(plotting_df,col='mean_pred',cut=False):\n",
    "    plotting_df=plotting_df.reset_index()\n",
    "    plt.figure(figsize=(10, 5))\n",
    "    plt.plot(plotting_df['ds'], plotting_df['y'], label='True')\n",
    "\n",
    "    plot_col='cutoff' if (('cutoff' in plotting_df.columns) and (cut)) else 'ds'\n",
    "    plt.plot(plotting_df[plot_col], plotting_df[col], label='Forecast')\n",
    "    # plt.axvline(preds_df['ds'].iloc[horizon], color='black', linestyle='--', label='Train-Test Split')\n",
    "    plt.xlabel('Timestamp [t]')\n",
    "    plt.ylabel('Eth_price')\n",
    "    plt.grid()\n",
    "    plt.legend()\n",
    "    \n"
   ]
  },
  {
   "cell_type": "code",
   "execution_count": null,
   "metadata": {},
   "outputs": [],
   "source": [
    "model=nf.models[0]\n",
    "model.max_steps\n",
    "test_df=test.reset_index(drop=True)\n",
    "model.max_steps,model.step_size,"
   ]
  },
  {
   "cell_type": "code",
   "execution_count": null,
   "metadata": {},
   "outputs": [],
   "source": [
    "plot_size=500\n",
    "context_length=5*horizon\n",
    "end=np.random.randint(0,len(test)-plot_size)\n",
    "end=end if end>0 else 1\n",
    "start=end-context_length if (end-context_length)>0 else 0\n",
    "pred_ids=test_df.index[start:end]\n",
    "df=test_df.loc[pred_ids]\n",
    "df=df[['ds','unique_id','y']]\n",
    "df_plot=test_df.iloc[start:end+horizon].copy().reset_index(drop=True)\n",
    "\n",
    "nf.dataset, nf.uids, nf.last_dates, nf.ds=nf._prepare_fit(df,\n",
    "                static_df=None, \n",
    "                sort_df=None,\n",
    "                predict_only=False,\n",
    "                id_col='unique_id', \n",
    "                time_col='ds', \n",
    "                target_col='y')\n",
    "\n",
    "\n",
    "preds_array=np.array([model.predict(nf.dataset) for model in nf.models]).squeeze().mean(0)\n",
    "\n",
    "# preds_array\n",
    "df_plot['mean_pred']=np.nan\n",
    "n_values=int(-preds_array.shape[0])\n",
    "ids=df_plot.index[n_values:]\n",
    "df_plot.loc[ids,'mean_pred']=[c for c in preds_array]\n",
    "\n",
    "plot_preds(df_plot)\n",
    "# df"
   ]
  },
  {
   "cell_type": "code",
   "execution_count": null,
   "metadata": {},
   "outputs": [],
   "source": [
    "nf.dataset, nf.uids, nf.last_dates, nf.ds=nf._prepare_fit(test_df,\n",
    "                static_df=None, \n",
    "                sort_df=None,\n",
    "                predict_only=False,\n",
    "                id_col='unique_id', \n",
    "                time_col='ds', \n",
    "                target_col='y')"
   ]
  },
  {
   "cell_type": "code",
   "execution_count": null,
   "metadata": {},
   "outputs": [],
   "source": [
    "from itertools import Counter"
   ]
  },
  {
   "cell_type": "code",
   "execution_count": null,
   "metadata": {},
   "outputs": [],
   "source": []
  },
  {
   "cell_type": "code",
   "execution_count": null,
   "metadata": {},
   "outputs": [],
   "source": [
    "all_predictions=nf.predict_insample()\n"
   ]
  },
  {
   "cell_type": "code",
   "execution_count": null,
   "metadata": {},
   "outputs": [],
   "source": [
    "all_predictions['ds']"
   ]
  },
  {
   "cell_type": "code",
   "execution_count": null,
   "metadata": {},
   "outputs": [],
   "source": [
    "\n",
    "forecasts_series=all_predictions.groupby('cutoff').apply(lambda x: x.select_dtypes(np.number).values.flatten())\n",
    "forecasts_array=[c for c in forecasts_series]\n",
    "\n",
    "new_df=test_df[test_df['ds'].isin([c for c in forecasts_series.index])]\n",
    "print(len(test_df),len(forecasts_array),len(new_df))"
   ]
  },
  {
   "cell_type": "code",
   "execution_count": null,
   "metadata": {},
   "outputs": [],
   "source": [
    "for model in nf.models:\n",
    "    model.enable_progress_bar=False"
   ]
  },
  {
   "cell_type": "code",
   "execution_count": null,
   "metadata": {},
   "outputs": [],
   "source": []
  },
  {
   "cell_type": "code",
   "execution_count": null,
   "metadata": {},
   "outputs": [],
   "source": [
    "nf.dataset, nf.uids, nf.last_dates, nf.ds=nf._prepare_fit(test_df[['ds','unique_id','y']].tail(horizon),\n",
    "                static_df=None, \n",
    "                sort_df=None ,\n",
    "                predict_only=True,\n",
    "                id_col='unique_id', \n",
    "                time_col='ds', \n",
    "                target_col='y')"
   ]
  },
  {
   "cell_type": "code",
   "execution_count": null,
   "metadata": {},
   "outputs": [],
   "source": [
    "i=0\n",
    "test_df=test.reset_index(drop=True)\n",
    "test_df.tail(horizon)\n"
   ]
  },
  {
   "cell_type": "code",
   "execution_count": null,
   "metadata": {},
   "outputs": [],
   "source": [
    "future=nf.make_future_dataframe()\n",
    "nf.predict()"
   ]
  },
  {
   "cell_type": "code",
   "execution_count": null,
   "metadata": {},
   "outputs": [],
   "source": [
    "test_pred_df=nf.predict_insample().reset_index()\n",
    "test_pred_df['mean_pred']=test_pred_df[['NHITS', 'NBEATS','PatchTST']].mean(1)\n",
    "# test_pred_df['mean_pred']=test_pred_df[['mean_pred']].rolling(horizon).mean(1)\n",
    "test_pred_df\n"
   ]
  },
  {
   "cell_type": "code",
   "execution_count": null,
   "metadata": {},
   "outputs": [],
   "source": [
    "plot_preds(test_pred_df)\n",
    "# test_pred_df\n"
   ]
  },
  {
   "cell_type": "code",
   "execution_count": null,
   "metadata": {},
   "outputs": [],
   "source": [
    "plot_size=500\n",
    "start=np.random.randint(0,len(test)-plot_size)\n",
    "plot_df=test_pred_df.iloc[start:start+plot_size]\n",
    "plot_df=plot_df.sort_values('ds')\n",
    "# plot_df=plot_df.groupby('cutoff').mean()\n",
    "plot_df['mean_pred']=plot_df[['mean_pred']].rolling(horizon).mean()\n",
    "plot_preds(plot_df,cut=True)"
   ]
  },
  {
   "cell_type": "code",
   "execution_count": null,
   "metadata": {},
   "outputs": [],
   "source": [
    "groups=plot_df.groupby('cutoff')\n",
    "i=0\n",
    "max_i=10\n",
    "for name, df in groups:\n",
    "    i+=1\n",
    "    display(df)\n",
    "    if i>max_i:\n",
    "        break"
   ]
  },
  {
   "cell_type": "code",
   "execution_count": null,
   "metadata": {},
   "outputs": [],
   "source": [
    "plot_df.groupby('cutoff')['mean_pred'].mean()"
   ]
  },
  {
   "cell_type": "code",
   "execution_count": null,
   "metadata": {},
   "outputs": [],
   "source": [
    "preds_df[['mean_pred','y']].plot()"
   ]
  },
  {
   "cell_type": "code",
   "execution_count": null,
   "metadata": {},
   "outputs": [],
   "source": [
    "preds_df = preds_df.round({\n",
    "    'NHITS': 4,\n",
    "    'NBEATS': 4,\n",
    "    'PatchTST': 4,\n",
    "\n",
    "})\n",
    "\n",
    "data = {'N-HiTS': [mae(preds_df['NHITS'], preds_df['y']), mse(preds_df['NHITS'], preds_df['y'])],\n",
    "       'N-BEATS': [mae(preds_df['NBEATS'], preds_df['y']), mse(preds_df['NBEATS'], preds_df['y'])],\n",
    "       'PatchTST': [mae(preds_df['PatchTST'], preds_df['y']), mse(preds_df['PatchTST'], preds_df['y'])],\n",
    "       }\n",
    "\n",
    "metrics_df = pd.DataFrame(data=data)\n",
    "metrics_df.index = ['mae', 'mse']\n",
    "\n",
    "metrics_df.style.highlight_min(color='lightgreen', axis=1)"
   ]
  },
  {
   "cell_type": "code",
   "execution_count": null,
   "metadata": {},
   "outputs": [],
   "source": []
  },
  {
   "cell_type": "code",
   "execution_count": null,
   "metadata": {},
   "outputs": [],
   "source": []
  },
  {
   "cell_type": "code",
   "execution_count": null,
   "metadata": {},
   "outputs": [],
   "source": []
  }
 ],
 "metadata": {
  "kernelspec": {
   "display_name": "base",
   "language": "python",
   "name": "python3"
  },
  "language_info": {
   "codemirror_mode": {
    "name": "ipython",
    "version": 3
   },
   "file_extension": ".py",
   "mimetype": "text/x-python",
   "name": "python",
   "nbconvert_exporter": "python",
   "pygments_lexer": "ipython3",
   "version": "3.9.18"
  }
 },
 "nbformat": 4,
 "nbformat_minor": 2
}
