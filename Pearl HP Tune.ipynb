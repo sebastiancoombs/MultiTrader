{
 "cells": [
  {
   "cell_type": "code",
   "execution_count": 5,
   "metadata": {},
   "outputs": [],
   "source": [
    "import warnings\n",
    "import logging\n",
    "\n",
    "\n",
    "warnings.filterwarnings('ignore')\n",
    "warnings.simplefilter('ignore')"
   ]
  },
  {
   "cell_type": "code",
   "execution_count": 6,
   "metadata": {},
   "outputs": [],
   "source": [
    "from utils import make_environments\n",
    "from utils import pearl_utils\n",
    "from configs import futures_defaults as defaults\n",
    "from utils.reward_functions import log_reward_function,cumulative_reward_function,sharpe_reward_function\n",
    "from utils. utils import make_hidden_dims\n",
    "import optuna\n",
    "from optuna.samplers import TPESampler\n",
    "from neuralforecast.core import NeuralForecast\n",
    "from Pearl.pearl.utils.instantiations.environments.gym_environment import GymEnvironment\n",
    "from Pearl.pearl.utils.functional_utils.train_and_eval.online_learning import \\\n",
    "    online_learning\n",
    "import datetime"
   ]
  },
  {
   "cell_type": "code",
   "execution_count": 7,
   "metadata": {},
   "outputs": [],
   "source": [
    "# model=NeuralForecast.load('MultiHeadForecastingModel/')"
   ]
  },
  {
   "cell_type": "code",
   "execution_count": 8,
   "metadata": {},
   "outputs": [
    {
     "name": "stderr",
     "output_type": "stream",
     "text": [
      "Seed set to 13\n",
      "Seed set to 16\n",
      "Seed set to 11\n"
     ]
    },
    {
     "name": "stdout",
     "output_type": "stream",
     "text": [
      "['data_futures/coinbase-DOGEUSD_Futures-1h.pkl']\n"
     ]
    },
    {
     "name": "stderr",
     "output_type": "stream",
     "text": [
      "100%|██████████| 78/78 [00:00<00:00, 12862.42it/s]\n",
      "1it [00:00,  9.42it/s]\n"
     ]
    },
    {
     "data": {
      "text/html": [
       "<div>\n",
       "<style scoped>\n",
       "    .dataframe tbody tr th:only-of-type {\n",
       "        vertical-align: middle;\n",
       "    }\n",
       "\n",
       "    .dataframe tbody tr th {\n",
       "        vertical-align: top;\n",
       "    }\n",
       "\n",
       "    .dataframe thead th {\n",
       "        text-align: right;\n",
       "    }\n",
       "</style>\n",
       "<table border=\"1\" class=\"dataframe\">\n",
       "  <thead>\n",
       "    <tr style=\"text-align: right;\">\n",
       "      <th></th>\n",
       "      <th>low</th>\n",
       "      <th>high</th>\n",
       "      <th>open</th>\n",
       "      <th>close</th>\n",
       "      <th>volume</th>\n",
       "      <th>symbol</th>\n",
       "      <th>y</th>\n",
       "      <th>feature_hour_of_day</th>\n",
       "      <th>feature_day_of_week</th>\n",
       "      <th>feature_day_of_month</th>\n",
       "      <th>feature_day_of_year</th>\n",
       "      <th>feature_BBANDS_BB_UPPER</th>\n",
       "      <th>feature_BBANDS_BB_MIDDLE</th>\n",
       "      <th>feature_BBANDS_BB_LOWER</th>\n",
       "      <th>feature_MACD_MACD</th>\n",
       "      <th>feature_MACD_SIGNAL</th>\n",
       "      <th>feature_14_period_RSI</th>\n",
       "      <th>feature_14_period_STOCH_%K</th>\n",
       "      <th>ds</th>\n",
       "      <th>unique_id</th>\n",
       "    </tr>\n",
       "    <tr>\n",
       "      <th>date_close</th>\n",
       "      <th></th>\n",
       "      <th></th>\n",
       "      <th></th>\n",
       "      <th></th>\n",
       "      <th></th>\n",
       "      <th></th>\n",
       "      <th></th>\n",
       "      <th></th>\n",
       "      <th></th>\n",
       "      <th></th>\n",
       "      <th></th>\n",
       "      <th></th>\n",
       "      <th></th>\n",
       "      <th></th>\n",
       "      <th></th>\n",
       "      <th></th>\n",
       "      <th></th>\n",
       "      <th></th>\n",
       "      <th></th>\n",
       "      <th></th>\n",
       "    </tr>\n",
       "  </thead>\n",
       "  <tbody>\n",
       "    <tr>\n",
       "      <th>2024-05-15 14:00:32</th>\n",
       "      <td>0.15106</td>\n",
       "      <td>0.15283</td>\n",
       "      <td>0.15135</td>\n",
       "      <td>0.15268</td>\n",
       "      <td>12076044</td>\n",
       "      <td>DOGEUSD_Futures</td>\n",
       "      <td>0.15268</td>\n",
       "      <td>0.108696</td>\n",
       "      <td>-0.166667</td>\n",
       "      <td>-0.033333</td>\n",
       "      <td>-0.130137</td>\n",
       "      <td>0.0</td>\n",
       "      <td>0.0</td>\n",
       "      <td>0.0</td>\n",
       "      <td>0.000000</td>\n",
       "      <td>0.000000</td>\n",
       "      <td>0.000000</td>\n",
       "      <td>0.0</td>\n",
       "      <td>2024-05-15 14:00:32</td>\n",
       "      <td>29</td>\n",
       "    </tr>\n",
       "    <tr>\n",
       "      <th>2024-05-15 13:00:48</th>\n",
       "      <td>0.15096</td>\n",
       "      <td>0.15374</td>\n",
       "      <td>0.15198</td>\n",
       "      <td>0.15135</td>\n",
       "      <td>13639206</td>\n",
       "      <td>DOGEUSD_Futures</td>\n",
       "      <td>0.15135</td>\n",
       "      <td>0.065217</td>\n",
       "      <td>-0.166667</td>\n",
       "      <td>-0.033333</td>\n",
       "      <td>-0.130137</td>\n",
       "      <td>0.0</td>\n",
       "      <td>0.0</td>\n",
       "      <td>0.0</td>\n",
       "      <td>-0.000030</td>\n",
       "      <td>-0.000017</td>\n",
       "      <td>0.000000</td>\n",
       "      <td>0.0</td>\n",
       "      <td>2024-05-15 13:00:48</td>\n",
       "      <td>29</td>\n",
       "    </tr>\n",
       "    <tr>\n",
       "      <th>2024-05-15 12:01:04</th>\n",
       "      <td>0.14797</td>\n",
       "      <td>0.15447</td>\n",
       "      <td>0.14936</td>\n",
       "      <td>0.15199</td>\n",
       "      <td>18400456</td>\n",
       "      <td>DOGEUSD_Futures</td>\n",
       "      <td>0.15199</td>\n",
       "      <td>0.021739</td>\n",
       "      <td>-0.166667</td>\n",
       "      <td>-0.033333</td>\n",
       "      <td>-0.130137</td>\n",
       "      <td>0.0</td>\n",
       "      <td>0.0</td>\n",
       "      <td>0.0</td>\n",
       "      <td>-0.000018</td>\n",
       "      <td>-0.000017</td>\n",
       "      <td>34.133333</td>\n",
       "      <td>0.0</td>\n",
       "      <td>2024-05-15 12:01:04</td>\n",
       "      <td>29</td>\n",
       "    </tr>\n",
       "    <tr>\n",
       "      <th>2024-05-15 10:59:12</th>\n",
       "      <td>0.14814</td>\n",
       "      <td>0.15093</td>\n",
       "      <td>0.15016</td>\n",
       "      <td>0.14934</td>\n",
       "      <td>14101743</td>\n",
       "      <td>DOGEUSD_Futures</td>\n",
       "      <td>0.14934</td>\n",
       "      <td>-0.065217</td>\n",
       "      <td>-0.166667</td>\n",
       "      <td>-0.033333</td>\n",
       "      <td>-0.130137</td>\n",
       "      <td>0.0</td>\n",
       "      <td>0.0</td>\n",
       "      <td>0.0</td>\n",
       "      <td>-0.000108</td>\n",
       "      <td>-0.000048</td>\n",
       "      <td>13.533957</td>\n",
       "      <td>0.0</td>\n",
       "      <td>2024-05-15 10:59:12</td>\n",
       "      <td>29</td>\n",
       "    </tr>\n",
       "    <tr>\n",
       "      <th>2024-05-15 09:59:28</th>\n",
       "      <td>0.14894</td>\n",
       "      <td>0.15095</td>\n",
       "      <td>0.15034</td>\n",
       "      <td>0.15018</td>\n",
       "      <td>14066598</td>\n",
       "      <td>DOGEUSD_Futures</td>\n",
       "      <td>0.15018</td>\n",
       "      <td>-0.108696</td>\n",
       "      <td>-0.166667</td>\n",
       "      <td>-0.033333</td>\n",
       "      <td>-0.130137</td>\n",
       "      <td>0.0</td>\n",
       "      <td>0.0</td>\n",
       "      <td>0.0</td>\n",
       "      <td>-0.000121</td>\n",
       "      <td>-0.000070</td>\n",
       "      <td>28.304187</td>\n",
       "      <td>0.0</td>\n",
       "      <td>2024-05-15 09:59:28</td>\n",
       "      <td>29</td>\n",
       "    </tr>\n",
       "  </tbody>\n",
       "</table>\n",
       "</div>"
      ],
      "text/plain": [
       "                         low     high     open    close    volume  \\\n",
       "date_close                                                          \n",
       "2024-05-15 14:00:32  0.15106  0.15283  0.15135  0.15268  12076044   \n",
       "2024-05-15 13:00:48  0.15096  0.15374  0.15198  0.15135  13639206   \n",
       "2024-05-15 12:01:04  0.14797  0.15447  0.14936  0.15199  18400456   \n",
       "2024-05-15 10:59:12  0.14814  0.15093  0.15016  0.14934  14101743   \n",
       "2024-05-15 09:59:28  0.14894  0.15095  0.15034  0.15018  14066598   \n",
       "\n",
       "                              symbol        y  feature_hour_of_day  \\\n",
       "date_close                                                           \n",
       "2024-05-15 14:00:32  DOGEUSD_Futures  0.15268             0.108696   \n",
       "2024-05-15 13:00:48  DOGEUSD_Futures  0.15135             0.065217   \n",
       "2024-05-15 12:01:04  DOGEUSD_Futures  0.15199             0.021739   \n",
       "2024-05-15 10:59:12  DOGEUSD_Futures  0.14934            -0.065217   \n",
       "2024-05-15 09:59:28  DOGEUSD_Futures  0.15018            -0.108696   \n",
       "\n",
       "                     feature_day_of_week  feature_day_of_month  \\\n",
       "date_close                                                       \n",
       "2024-05-15 14:00:32            -0.166667             -0.033333   \n",
       "2024-05-15 13:00:48            -0.166667             -0.033333   \n",
       "2024-05-15 12:01:04            -0.166667             -0.033333   \n",
       "2024-05-15 10:59:12            -0.166667             -0.033333   \n",
       "2024-05-15 09:59:28            -0.166667             -0.033333   \n",
       "\n",
       "                     feature_day_of_year  feature_BBANDS_BB_UPPER  \\\n",
       "date_close                                                          \n",
       "2024-05-15 14:00:32            -0.130137                      0.0   \n",
       "2024-05-15 13:00:48            -0.130137                      0.0   \n",
       "2024-05-15 12:01:04            -0.130137                      0.0   \n",
       "2024-05-15 10:59:12            -0.130137                      0.0   \n",
       "2024-05-15 09:59:28            -0.130137                      0.0   \n",
       "\n",
       "                     feature_BBANDS_BB_MIDDLE  feature_BBANDS_BB_LOWER  \\\n",
       "date_close                                                               \n",
       "2024-05-15 14:00:32                       0.0                      0.0   \n",
       "2024-05-15 13:00:48                       0.0                      0.0   \n",
       "2024-05-15 12:01:04                       0.0                      0.0   \n",
       "2024-05-15 10:59:12                       0.0                      0.0   \n",
       "2024-05-15 09:59:28                       0.0                      0.0   \n",
       "\n",
       "                     feature_MACD_MACD  feature_MACD_SIGNAL  \\\n",
       "date_close                                                    \n",
       "2024-05-15 14:00:32           0.000000             0.000000   \n",
       "2024-05-15 13:00:48          -0.000030            -0.000017   \n",
       "2024-05-15 12:01:04          -0.000018            -0.000017   \n",
       "2024-05-15 10:59:12          -0.000108            -0.000048   \n",
       "2024-05-15 09:59:28          -0.000121            -0.000070   \n",
       "\n",
       "                     feature_14_period_RSI  feature_14_period_STOCH_%K  \\\n",
       "date_close                                                               \n",
       "2024-05-15 14:00:32               0.000000                         0.0   \n",
       "2024-05-15 13:00:48               0.000000                         0.0   \n",
       "2024-05-15 12:01:04              34.133333                         0.0   \n",
       "2024-05-15 10:59:12              13.533957                         0.0   \n",
       "2024-05-15 09:59:28              28.304187                         0.0   \n",
       "\n",
       "                                     ds  unique_id  \n",
       "date_close                                          \n",
       "2024-05-15 14:00:32 2024-05-15 14:00:32         29  \n",
       "2024-05-15 13:00:48 2024-05-15 13:00:48         29  \n",
       "2024-05-15 12:01:04 2024-05-15 12:01:04         29  \n",
       "2024-05-15 10:59:12 2024-05-15 10:59:12         29  \n",
       "2024-05-15 09:59:28 2024-05-15 09:59:28         29  "
      ]
     },
     "metadata": {},
     "output_type": "display_data"
    },
    {
     "name": "stderr",
     "output_type": "stream",
     "text": [
      "GPU available: True (mps), used: True\n",
      "TPU available: False, using: 0 TPU cores\n",
      "HPU available: False, using: 0 HPUs\n"
     ]
    },
    {
     "name": "stdout",
     "output_type": "stream",
     "text": [
      "Index(['low', 'high', 'open', 'close', 'volume', 'symbol', 'y',\n",
      "       'feature_hour_of_day', 'feature_day_of_week', 'feature_day_of_month',\n",
      "       'feature_day_of_year', 'feature_BBANDS_BB_UPPER',\n",
      "       'feature_BBANDS_BB_MIDDLE', 'feature_BBANDS_BB_LOWER',\n",
      "       'feature_MACD_MACD', 'feature_MACD_SIGNAL', 'feature_14_period_RSI',\n",
      "       'feature_14_period_STOCH_%K', 'ds', 'unique_id'],\n",
      "      dtype='object')\n"
     ]
    },
    {
     "data": {
      "application/vnd.jupyter.widget-view+json": {
       "model_id": "46356788524c42c7848636e26b85b925",
       "version_major": 2,
       "version_minor": 0
      },
      "text/plain": [
       "Predicting: |          | 0/? [00:00<?, ?it/s]"
      ]
     },
     "metadata": {},
     "output_type": "display_data"
    },
    {
     "name": "stderr",
     "output_type": "stream",
     "text": [
      "GPU available: True (mps), used: True\n",
      "TPU available: False, using: 0 TPU cores\n",
      "HPU available: False, using: 0 HPUs\n"
     ]
    },
    {
     "data": {
      "application/vnd.jupyter.widget-view+json": {
       "model_id": "ba6a6fb52bad4d078758b453ea8ade65",
       "version_major": 2,
       "version_minor": 0
      },
      "text/plain": [
       "Predicting: |          | 0/? [00:00<?, ?it/s]"
      ]
     },
     "metadata": {},
     "output_type": "display_data"
    },
    {
     "name": "stderr",
     "output_type": "stream",
     "text": [
      "GPU available: True (mps), used: True\n",
      "TPU available: False, using: 0 TPU cores\n",
      "HPU available: False, using: 0 HPUs\n"
     ]
    },
    {
     "data": {
      "application/vnd.jupyter.widget-view+json": {
       "model_id": "26366696430a4c5ea64870786b53a0d7",
       "version_major": 2,
       "version_minor": 0
      },
      "text/plain": [
       "Predicting: |          | 0/? [00:00<?, ?it/s]"
      ]
     },
     "metadata": {},
     "output_type": "display_data"
    },
    {
     "name": "stdout",
     "output_type": "stream",
     "text": [
      "2024-10-16 13:00:00 2024-11-15 13:00:00\n"
     ]
    },
    {
     "data": {
      "image/png": "[encoded data removed]",
      "text/plain": [
       "<Figure size 1000x500 with 1 Axes>"
      ]
     },
     "metadata": {},
     "output_type": "display_data"
    }
   ],
   "source": [
    "reward_functions=[log_reward_function,cumulative_reward_function,sharpe_reward_function]\n",
    "train_env,test_env=make_environments.make_envs(reward_function=log_reward_function)\n"
   ]
  },
  {
   "cell_type": "code",
   "execution_count": 9,
   "metadata": {},
   "outputs": [
    {
     "data": {
      "text/plain": [
       "'DOGEUSD_Futures_train'"
      ]
     },
     "execution_count": 9,
     "metadata": {},
     "output_type": "execute_result"
    }
   ],
   "source": [
    "sp=train_env.positions\n",
    "train_env.action_space.n\n",
    "train_env.name"
   ]
  },
  {
   "cell_type": "code",
   "execution_count": 10,
   "metadata": {},
   "outputs": [
    {
     "data": {
      "text/plain": [
       "[64, 64, 64]"
      ]
     },
     "execution_count": 10,
     "metadata": {},
     "output_type": "execute_result"
    }
   ],
   "source": [
    "make_hidden_dims(n_layers=3, n_units=64)"
   ]
  },
  {
   "cell_type": "code",
   "execution_count": 11,
   "metadata": {},
   "outputs": [],
   "source": [
    "agent=pearl_utils.create_ddqn_model(\n",
    "\n",
    "        observation_space_dim=train_env.observation_space.shape[0], \n",
    "        action_space_dim=train_env.action_space.n,\n",
    "        hidden_dims=[64,64, 64], \n",
    "        training_rounds=20,\n",
    "        learning_rate = 0.001,\n",
    "        discount_factor = 0.99,\n",
    "        batch_size = 128,\n",
    "        target_update_freq = 10,\n",
    "        soft_update_tau = 0.75,  # a value of 1 indicates no soft updates\n",
    "        is_conservative = False,\n",
    "        conservative_alpha = False,\n",
    "        replay_buffer_size = 10_000,\n",
    "        lstm=False)"
   ]
  },
  {
   "cell_type": "code",
   "execution_count": 12,
   "metadata": {},
   "outputs": [
    {
     "data": {
      "text/plain": [
       "((30,), 3)"
      ]
     },
     "execution_count": 12,
     "metadata": {},
     "output_type": "execute_result"
    }
   ],
   "source": [
    "test_env.observation_space.shape,train_env.action_space.n"
   ]
  },
  {
   "cell_type": "code",
   "execution_count": 13,
   "metadata": {},
   "outputs": [],
   "source": [
    "env=GymEnvironment(train_env)\n",
    "\n",
    "obs,action_space=env.reset()\n",
    "agent.reset(   obs, action_space)"
   ]
  },
  {
   "cell_type": "code",
   "execution_count": 14,
   "metadata": {},
   "outputs": [],
   "source": [
    "# done = False\n",
    "# while not done:\n",
    "#     action = agent.act(exploit=False)\n",
    "#     action_result = env.step(action)\n",
    "    \n",
    "#     agent.observe(action_result)\n",
    "#     loss=agent.learn()\n",
    "\n",
    "#     done = action_result.done"
   ]
  },
  {
   "cell_type": "code",
   "execution_count": 15,
   "metadata": {},
   "outputs": [
    {
     "data": {
      "application/vnd.jupyter.widget-view+json": {
       "model_id": "888e0d772273448285d2db2f4bbad05f",
       "version_major": 2,
       "version_minor": 0
      },
      "text/plain": [
       "  0%|          | 0/168 [00:00<?, ?it/s]"
      ]
     },
     "metadata": {},
     "output_type": "display_data"
    }
   ],
   "source": [
    "info = online_learning(\n",
    "        agent=agent,\n",
    "        env=env,\n",
    "        # number_of_episodes=10,\n",
    "        number_of_steps=168,\n",
    "        print_every_x_episodes=2,   # print returns after every 10 episdoes\n",
    "        print_every_x_steps=1,   # print returns after every 10 episdoes\n",
    "        learn_every_k_steps=20,   # print returns after every 10 episdoes\n",
    "        learn_after_episode=False,\n",
    "        record_period=169,   # instead of updating after every environment interaction, Q networks are updates at the end of each episode\n",
    "        seed=0\n",
    "    )"
   ]
  },
  {
   "cell_type": "code",
   "execution_count": 16,
   "metadata": {},
   "outputs": [
    {
     "data": {
      "text/plain": [
       "33"
      ]
     },
     "execution_count": 16,
     "metadata": {},
     "output_type": "execute_result"
    }
   ],
   "source": [
    "33//1"
   ]
  },
  {
   "cell_type": "code",
   "execution_count": null,
   "metadata": {},
   "outputs": [],
   "source": []
  },
  {
   "cell_type": "code",
   "execution_count": 17,
   "metadata": {},
   "outputs": [],
   "source": [
    "\n",
    "\n",
    "def objective_function(trial):\n",
    " \n",
    "    reward_id=trial.suggest_categorical('reward_function', [0,1,2])\n",
    "    algo=trial.suggest_categorical('algorithm', ['dqn','ddqn'])    \n",
    "\n",
    "    # reward_id=0\n",
    "    \n",
    "    reward_func=reward_functions[reward_id]\n",
    "    train_env.reward_func=reward_func\n",
    "    test_env.reward_func=reward_func\n",
    "    \n",
    "    observation_space_dim=train_env.observation_space.shape[0]\n",
    "    action_space_dim=len(train_env.positions)\n",
    "    n_layers=trial.suggest_int('n_layers', 1, 3)\n",
    "    n_units=trial.suggest_categorical('n_units', [64,128,256,512])\n",
    "    \n",
    "    hidden_dims=make_hidden_dims(n_layers= n_layers, n_units=n_units)\n",
    "    \n",
    "    search_space={\n",
    "                'observation_space_dim': observation_space_dim,\n",
    "                'action_space_dim': action_space_dim,\n",
    "                'hidden_dims': hidden_dims,\n",
    "                'training_rounds': trial.suggest_int('training_rounds', 5, 30),\n",
    "                'learning_rate': trial.suggest_float('learning_rate', 1e-6, 1e-4),\n",
    "                'discount_factor': trial.suggest_float('discount_factor', 0.8, 0.99), # gamma (greediness)\n",
    "                'batch_size': trial.suggest_categorical('batch_size', [64, 128]),\n",
    "                'target_update_freq': trial.suggest_categorical('target_update_freq', [1, 5, 10, 24]),\n",
    "                'soft_update_tau': trial.suggest_float('soft_update_tau', 0.1, .99), \n",
    "                'is_conservative': trial.suggest_categorical('is_conservative', [True, False]),\n",
    "                'lstm': trial.suggest_categorical('lstm', [True, False]),\n",
    "                'conservative_alpha': trial.suggest_float('conservative_alpha', 0.5, 1.0),\n",
    "                }\n",
    "\n",
    "    learning_space={'learn_after_episode':trial.suggest_categorical('learn_after_episode', [True, False]),\n",
    "                    'learning_steps':trial.suggest_int('learning_steps', 10, 89),\n",
    "                    'n_epochs':trial.suggest_categorical('n_epochs',[100,500]),\n",
    "                    }\n",
    "    #\n",
    "    # print('n_epochs',n_epochs)\n",
    "    if algo=='dqn':\n",
    "        agent=pearl_utils.create_dqn_model(**search_space)\n",
    "    elif algo=='ddqn':\n",
    "        agent=pearl_utils.create_ddqn_model(**search_space)\n",
    "\n",
    "        \n",
    "    agent=pearl_utils.train_pearl_model(agent,train_env,**learning_space)\n",
    "    profit,n_trades=pearl_utils.test_pearl_model(agent,test_env)\n",
    "\n",
    "    print('profit',profit,'n_trades',n_trades)\n",
    "    return profit ,n_trades"
   ]
  },
  {
   "cell_type": "code",
   "execution_count": 18,
   "metadata": {},
   "outputs": [
    {
     "data": {
      "text/plain": [
       "'DOGEUSDFutures'"
      ]
     },
     "execution_count": 18,
     "metadata": {},
     "output_type": "execute_result"
    }
   ],
   "source": [
    "model_name=defaults.model_name\n",
    "model_name"
   ]
  },
  {
   "cell_type": "code",
   "execution_count": 19,
   "metadata": {},
   "outputs": [
    {
     "name": "stderr",
     "output_type": "stream",
     "text": [
      "[I 2024-11-15 12:53:42,442] Using an existing study with name 'pearl-DOGEUSDFutures-hp-search' instead of creating a new one.\n"
     ]
    }
   ],
   "source": [
    "today=datetime.datetime.now().strftime('%Y-%m-%d')\n",
    "study = optuna.create_study(study_name=f\"pearl-{model_name}-hp-search\",\n",
    "                            directions=[\"maximize\", \"maximize\"],\n",
    "                            storage=\"sqlite:///pearl_hyper_parameters.sqlite3\",\n",
    "                            load_if_exists=True,\n",
    "                            sampler=TPESampler()\n",
    "                            )\n"
   ]
  },
  {
   "cell_type": "code",
   "execution_count": null,
   "metadata": {},
   "outputs": [
    {
     "name": "stderr",
     "output_type": "stream",
     "text": []
    },
    {
     "data": {
      "application/vnd.jupyter.widget-view+json": {
       "model_id": "48a4f07c0c8d412f83350cb854693e56",
       "version_major": 2,
       "version_minor": 0
      },
      "text/plain": [
       "  0%|          | 0/84000 [00:00<?, ?it/s]"
      ]
     },
     "metadata": {},
     "output_type": "display_data"
    },
    {
     "name": "stderr",
     "output_type": "stream",
     "text": [
      "  0%|          | 0/500 [36:56<?, ?it/s]\n",
      "[I 2024-11-15 13:32:35,357] Trial 3 finished with values: [799.6119499605857, 0.99] and parameters: {'reward_function': 0, 'algorithm': 'ddqn', 'n_layers': 1, 'n_units': 512, 'training_rounds': 14, 'learning_rate': 1.3960573597922878e-05, 'discount_factor': 0.8635381182419978, 'batch_size': 64, 'target_update_freq': 1, 'soft_update_tau': 0.8916753769162811, 'is_conservative': True, 'lstm': True, 'conservative_alpha': 0.9465702386006113, 'learn_after_episode': False, 'learning_steps': 51, 'n_epochs': 500}.\n"
     ]
    },
    {
     "name": "stdout",
     "output_type": "stream",
     "text": [
      "profit 799.6119499605857 n_trades 0.99\n"
     ]
    },
    {
     "name": "stderr",
     "output_type": "stream",
     "text": [
      "  0%|          | 0/500 [00:00<?, ?it/s]"
     ]
    },
    {
     "data": {
      "application/vnd.jupyter.widget-view+json": {
       "model_id": "923e3a68864e439089b308142fd2ba8c",
       "version_major": 2,
       "version_minor": 0
      },
      "text/plain": [
       "  0%|          | 0/500 [00:00<?, ?it/s]"
      ]
     },
     "metadata": {},
     "output_type": "display_data"
    },
    {
     "name": "stderr",
     "output_type": "stream",
     "text": [
      "  0%|          | 0/500 [00:22<?, ?it/s]\n",
      "[I 2024-11-15 13:32:59,688] Trial 4 finished with values: [851.7813116361198, 46.19] and parameters: {'reward_function': 0, 'algorithm': 'dqn', 'n_layers': 2, 'n_units': 64, 'training_rounds': 15, 'learning_rate': 4.054520562046531e-05, 'discount_factor': 0.9427272142130948, 'batch_size': 128, 'target_update_freq': 1, 'soft_update_tau': 0.842841975344867, 'is_conservative': False, 'lstm': False, 'conservative_alpha': 0.755978558002309, 'learn_after_episode': True, 'learning_steps': 17, 'n_epochs': 500}.\n"
     ]
    },
    {
     "name": "stdout",
     "output_type": "stream",
     "text": [
      "profit 851.7813116361198 n_trades 46.19\n"
     ]
    },
    {
     "name": "stderr",
     "output_type": "stream",
     "text": [
      "  0%|          | 0/500 [00:00<?, ?it/s]"
     ]
    },
    {
     "data": {
      "application/vnd.jupyter.widget-view+json": {
       "model_id": "cbe38f2d46554a10b08c7b964d25db0a",
       "version_major": 2,
       "version_minor": 0
      },
      "text/plain": [
       "  0%|          | 0/84000 [00:00<?, ?it/s]"
      ]
     },
     "metadata": {},
     "output_type": "display_data"
    },
    {
     "name": "stderr",
     "output_type": "stream",
     "text": [
      "  0%|          | 0/500 [00:40<?, ?it/s]\n",
      "[I 2024-11-15 13:33:42,362] Trial 5 finished with values: [796.6223607647315, 99.83] and parameters: {'reward_function': 0, 'algorithm': 'dqn', 'n_layers': 1, 'n_units': 128, 'training_rounds': 17, 'learning_rate': 8.922585384293464e-05, 'discount_factor': 0.8241519742917153, 'batch_size': 128, 'target_update_freq': 24, 'soft_update_tau': 0.7761716908166678, 'is_conservative': False, 'lstm': False, 'conservative_alpha': 0.7218626114022653, 'learn_after_episode': False, 'learning_steps': 45, 'n_epochs': 500}.\n"
     ]
    },
    {
     "name": "stdout",
     "output_type": "stream",
     "text": [
      "profit 796.6223607647315 n_trades 99.83\n"
     ]
    },
    {
     "name": "stderr",
     "output_type": "stream",
     "text": [
      "  0%|          | 0/100 [00:00<?, ?it/s]"
     ]
    },
    {
     "data": {
      "application/vnd.jupyter.widget-view+json": {
       "model_id": "11b70c39d6de42fca779595893a29cdb",
       "version_major": 2,
       "version_minor": 0
      },
      "text/plain": [
       "  0%|          | 0/16800 [00:00<?, ?it/s]"
      ]
     },
     "metadata": {},
     "output_type": "display_data"
    },
    {
     "name": "stderr",
     "output_type": "stream",
     "text": [
      "  0%|          | 0/100 [09:04<?, ?it/s]\n",
      "[I 2024-11-15 13:44:47,353] Trial 6 finished with values: [999.9369970997099, 0.63] and parameters: {'reward_function': 0, 'algorithm': 'ddqn', 'n_layers': 3, 'n_units': 512, 'training_rounds': 29, 'learning_rate': 3.639789123108986e-05, 'discount_factor': 0.9547956051292215, 'batch_size': 64, 'target_update_freq': 10, 'soft_update_tau': 0.33860447402144644, 'is_conservative': False, 'lstm': True, 'conservative_alpha': 0.7902357321792972, 'learn_after_episode': False, 'learning_steps': 80, 'n_epochs': 100}.\n"
     ]
    },
    {
     "name": "stdout",
     "output_type": "stream",
     "text": [
      "profit 999.9369970997099 n_trades 0.63\n"
     ]
    },
    {
     "name": "stderr",
     "output_type": "stream",
     "text": [
      "  0%|          | 0/500 [00:00<?, ?it/s]"
     ]
    },
    {
     "data": {
      "application/vnd.jupyter.widget-view+json": {
       "model_id": "0d90c140f7ef4bd5a00e6d71b35d7247",
       "version_major": 2,
       "version_minor": 0
      },
      "text/plain": [
       "  0%|          | 0/84000 [00:00<?, ?it/s]"
      ]
     },
     "metadata": {},
     "output_type": "display_data"
    }
   ],
   "source": [
    "study.optimize(objective_function, n_trials=30)\n"
   ]
  },
  {
   "cell_type": "code",
   "execution_count": null,
   "metadata": {},
   "outputs": [],
   "source": [
    "# print(f\"Best value: {study.best_value} (params: {study.best_params})\")\n",
    "best_trials=study.best_trials\n",
    "best_trials"
   ]
  },
  {
   "cell_type": "code",
   "execution_count": null,
   "metadata": {},
   "outputs": [],
   "source": [
    "best_trials=study.best_trials\n",
    "best_trail=best_trials[3]\n",
    "best_params=best_trail.params\n",
    "reward_func=reward_functions[best_params.pop('reward_function')]\n",
    "train_env.reward_func=reward_func\n",
    "test_env.reward_func=reward_func"
   ]
  },
  {
   "cell_type": "code",
   "execution_count": null,
   "metadata": {},
   "outputs": [],
   "source": [
    "algo=best_params.pop('algorithm')\n",
    "\n",
    "learning_params={'learn_after_episode':best_params.pop('learn_after_episode'),\n",
    "                    'learning_steps':best_params.pop('learning_steps'),\n",
    "                    'n_epochs':best_params.pop('n_epochs'),\n",
    "                    }\n",
    "best_params['hidden_dims']=make_hidden_dims(n_layers=best_params.pop('n_layers'),n_units=best_params.pop('n_units'))\n",
    "best_params['lstm']=best_params.pop('use_lstm')\n",
    "if algo=='dqn':\n",
    "    agent=pearl_utils.create_dqn_model(**best_params)\n",
    "elif algo=='ddqn':\n",
    "    agent=pearl_utils.create_ddqn_model(**best_params)\n",
    "\n",
    "best_params,learning_params"
   ]
  },
  {
   "cell_type": "code",
   "execution_count": null,
   "metadata": {},
   "outputs": [],
   "source": [
    "\n",
    "\n",
    "agent=pearl_utils.train_pearl_model(agent,train_env,**learning_params)\n",
    "\n",
    "profit,n_trades=pearl_utils.test_pearl_model(agent,test_env)\n",
    "\n",
    "agent=pearl_utils.train_pearl_model(agent,test_env,**learning_params)"
   ]
  },
  {
   "cell_type": "code",
   "execution_count": null,
   "metadata": {},
   "outputs": [],
   "source": [
    "import pickle\n",
    "import numpy as np\n",
    "\n",
    "if -1 in [np.sign(p) for p in test_env.positions]:\n",
    "    market_type='Futures'\n",
    "else:\n",
    "    market_type='Spot'\n",
    "agent_path=f'Agent/{today}_pearl_{defaults.model_name}_model.pkl'\n",
    "\n",
    "pickle.dump(agent,open(agent_path,'wb'))\n",
    "\n"
   ]
  },
  {
   "cell_type": "code",
   "execution_count": null,
   "metadata": {},
   "outputs": [],
   "source": []
  }
 ],
 "metadata": {
  "kernelspec": {
   "display_name": "agent_env",
   "language": "python",
   "name": "python3"
  },
  "language_info": {
   "codemirror_mode": {
    "name": "ipython",
    "version": 3
   },
   "file_extension": ".py",
   "mimetype": "text/x-python",
   "name": "python",
   "nbconvert_exporter": "python",
   "pygments_lexer": "ipython3",
   "version": "3.10.13"
  }
 },
 "nbformat": 4,
 "nbformat_minor": 2
}
