{
 "cells": [
  {
   "cell_type": "code",
   "execution_count": 1,
   "metadata": {},
   "outputs": [],
   "source": [
    "from gym_trading_env.downloader import download\n",
    "from gym_trading_env.renderer import Renderer\n",
    "import datetime\n",
    "import pandas as pd\n",
    "import glob\n",
    "import numpy as np\n",
    "import gymnasium as gym\n",
    "import gym_trading_env\n",
    "import torch\n",
    "import MultiTrade\n",
    "\n",
    "import matplotlib.pyplot as plt\n",
    "from ray import train, tune"
   ]
  },
  {
   "cell_type": "code",
   "execution_count": 2,
   "metadata": {},
   "outputs": [],
   "source": [
    "from Pearl.pearl.pearl_agent import PearlAgent\n",
    "from Pearl.pearl.utils.instantiations.environments.gym_environment import GymEnvironment\n",
    "from Pearl.pearl.neural_networks.sequential_decision_making.q_value_networks import VanillaQValueNetwork,QValueNetwork\n",
    "from Pearl.pearl.neural_networks.sequential_decision_making.actor_networks import VanillaContinuousActorNetwork,GaussianActorNetwork\n",
    "from Pearl.pearl.policy_learners.exploration_modules.common.normal_distribution_exploration import NormalDistributionExploration\n",
    "from Pearl.pearl.utils.functional_utils.experimentation.set_seed import set_seed\n",
    "from Pearl.pearl.policy_learners.sequential_decision_making.deep_q_learning import DeepQLearning\n",
    "from Pearl.pearl.policy_learners.sequential_decision_making.double_dqn import DoubleDQN\n",
    "from Pearl.pearl.replay_buffers.sequential_decision_making.fifo_off_policy_replay_buffer import FIFOOffPolicyReplayBuffer\n",
    "from Pearl.pearl.utils.functional_utils.train_and_eval.online_learning import online_learning\n",
    "from Pearl.pearl.action_representation_modules.one_hot_action_representation_module import OneHotActionTensorRepresentationModule\n",
    "\n",
    "from Pearl.pearl.policy_learners.sequential_decision_making.td3 import TD3\n",
    "from Pearl.pearl.user_envs.wrappers.gym_avg_torque_cost import GymAvgTorqueWrapper\n",
    "from Pearl.pearl.safety_modules.reward_constrained_safety_module import RCSafetyModuleCostCriticContinuousAction"
   ]
  },
  {
   "cell_type": "code",
   "execution_count": 3,
   "metadata": {},
   "outputs": [],
   "source": [
    "COIN_PAIRS=['BTC/USDT','ETH/USDT','SOL/USDT','BNB/USDT','XRP/USDT','ADA/USDT']\n",
    "time_frame=\"1h\""
   ]
  },
  {
   "cell_type": "code",
   "execution_count": 4,
   "metadata": {},
   "outputs": [],
   "source": [
    "\n",
    "# download(exchange_names = [\"binance\"],\n",
    "#     symbols= COIN_PAIRS,\n",
    "#     timeframe= time_frame,\n",
    "#     dir = \"data\",\n",
    "#     since= datetime.datetime(year= 2024, month= 1, day=1),\n",
    "# )"
   ]
  },
  {
   "cell_type": "code",
   "execution_count": 5,
   "metadata": {},
   "outputs": [],
   "source": [
    "\n",
    "files=glob.glob(f'data/**{time_frame}.pkl',)\n",
    "\n",
    "# dates=[]\n",
    "# returns=[2,5,10,15,20,25,30]\n",
    "# for file in files:\n",
    "#     data=pd.read_pickle(file)\n",
    "#     for r in returns:\n",
    "#         data[f'feature_log_return_{r}'] = np.log(1 + data.close.pct_change(r)+1e-15)\n",
    "#         data[f'feature_log_volume_{r}'] = np.log(1 + data.volume.pct_change(r)+1e-15)\n",
    "#         data = data.replace((np.inf, -np.inf,np.nan), 0)\n",
    "#         data[f'feature_log_return_{r}']=data[f'feature_log_return_{r}'].values/np.linalg.norm(data[f'feature_log_return_{r}'].values)#.rolling(window=96).apply(compute_z)\n",
    "#         data[f'feature_log_volume_{r}']=data[f'feature_log_volume_{r}'].values/np.linalg.norm(data[f'feature_log_volume_{r}'].values)#.rolling(window=96).apply(compute_z)\n",
    "#     dates.append(data.reset_index()[['date_open']].rename(columns={'date_open':file.split('-')[1]}))\n",
    "#     data = data.replace((np.inf, -np.inf), np.nan)\n",
    "#     data=data.to_pickle(dec)"
   ]
  },
  {
   "cell_type": "code",
   "execution_count": 6,
   "metadata": {},
   "outputs": [],
   "source": [
    "train_envs={}\n",
    "test_envs={}\n",
    "start_date=datetime.datetime(year= 2024, month= 2, day=1)\n",
    "split_date=start_date+datetime.timedelta(days=7)\n",
    "end_date=split_date+datetime.timedelta(days=7)\n",
    "## make a dict of training env the big multi env will live ontop of\n",
    "for file in files:\n",
    "    data=pd.read_pickle(file)\n",
    "    name=file.split('-')[1]\n",
    "    train_data=data[start_date:split_date]\n",
    "    train_envs[name] = gym.make(\"BoxTradingEnv\",\n",
    "            name=name,\n",
    "            df = train_data, # Your dataset with your custom features\n",
    "            positions = [ -.25, 0, .25], # -1 (=SHORT), 0(=OUT), +1 (=LONG)\n",
    "            trading_fees = 0.01/100, # 0.01% per stock buy / sell (Binance fees)\n",
    "            borrow_interest_rate= 0.0003/100, # 0.0003% per timestep (one timestep = 1h here)\n",
    "        )\n",
    "    \n",
    "    test_data=data[split_date:end_date]\n",
    "    test_envs[name] = gym.make(\"BoxTradingEnv\",\n",
    "            name=name,\n",
    "            df = test_data, # Your dataset with your custom features\n",
    "            positions = [ -.25, 0, .25], # -1 (=SHORT), 0(=OUT), +1 (=LONG)\n",
    "            trading_fees = 0.01/100, # 0.01% per stock buy / sell (Binance fees)\n",
    "            borrow_interest_rate= 0.0003/100, # 0.0003% per timestep (one timestep = 1h here)\n",
    "\n",
    "        )"
   ]
  },
  {
   "cell_type": "code",
   "execution_count": 7,
   "metadata": {},
   "outputs": [],
   "source": [
    "train_env=train_envs['BTCUSDT']"
   ]
  },
  {
   "cell_type": "code",
   "execution_count": 8,
   "metadata": {},
   "outputs": [
    {
     "data": {
      "text/plain": [
       "Box(-0.25, 0.25, (1,), float32)"
      ]
     },
     "execution_count": 8,
     "metadata": {},
     "output_type": "execute_result"
    }
   ],
   "source": [
    "train_env.action_space"
   ]
  },
  {
   "cell_type": "code",
   "execution_count": 9,
   "metadata": {},
   "outputs": [],
   "source": [
    "train_env=GymEnvironment(train_env)\n",
    "num_actions = train_env.action_space\n",
    "hidden_dims = [64, 64]\n",
    "device = torch.device(\"cuda\" if torch.cuda.is_available() else \"cpu\")\n",
    "\n"
   ]
  },
  {
   "cell_type": "code",
   "execution_count": 10,
   "metadata": {},
   "outputs": [
    {
     "data": {
      "text/plain": [
       "0.9967894196265091"
      ]
     },
     "execution_count": 10,
     "metadata": {},
     "output_type": "execute_result"
    }
   ],
   "source": [
    "obs=train_env.reset()\n",
    "# env.action_space.sa\n",
    "for i in range(20):\n",
    "    act=train_env.action_space.sample()\n",
    "    act_result=train_env.step(act)\n",
    "act_result.info['portfolio_valuation']/1000"
   ]
  },
  {
   "cell_type": "code",
   "execution_count": 11,
   "metadata": {},
   "outputs": [],
   "source": [
    "def _list_value(x):\n",
    "    return[x,x]\n",
    "\n",
    "search_space={\n",
    "            \"actor_hidden_dims\" : _list_value(tune.grid_search([64,128,256])),\n",
    "\n",
    "            'critic_hidden_dims' : _list_value(tune.grid_search([64,128,256])),\n",
    "\n",
    "            'training_rounds' : tune.choice([1, 2, 3]),\n",
    "\n",
    "            'batch_size':  tune.choice([64,128,256]),\n",
    "\n",
    "            'actor_soft_update_tau': tune.uniform(0.0001, 0.05),\n",
    "\n",
    "            'critic_soft_update_tau': tune.uniform(0.0001, 0.05),\n",
    "\n",
    "            'actor_learning_rate': tune.uniform(1e-6, 1e-3),\n",
    "\n",
    "            'critic_learning_rate': tune.uniform(1e-6, 1e-3),\n",
    "            \n",
    "            'discount_factor': tune.uniform(1e-6, 1),\n",
    "\n",
    "            'actor_update_freq': tune.choice([c for c in range(2,60,2)]),\n",
    "\n",
    "            'actor_update_noise':tune.uniform(1e-6, 1),\n",
    "\n",
    "            'actor_update_noise_clip':tune.uniform(1e-6, 1),\n",
    "\n",
    "            'exploration_module':{\n",
    "                                    'mean':tune.uniform(1e-6,.5),\n",
    "                                    'std_dev':tune.uniform(1e-6, .5),\n",
    "                                    },\n",
    "            'RC_module':{\n",
    "                        'critic_hidden_dims':_list_value(tune.grid_search([64,128,256])),\n",
    "                        'constraint_value':tune.choice([.2,.4,.6]),\n",
    "                        'lambda_constraint_ub_value':tune.choice([c for c in range(100,200,2)]),\n",
    "                        'lr_lambda':tune.uniform(1e-6, 1e-3),\n",
    "\n",
    "                                    },\n",
    "            }"
   ]
  },
  {
   "cell_type": "code",
   "execution_count": 12,
   "metadata": {},
   "outputs": [],
   "source": [
    "def objective(config):\n",
    "\n",
    "    train_env=train_envs['BTCUSDT']\n",
    "    test_env=test_envs['BTCUSDT']\n",
    "\n",
    "    exploration_args=config.pop('exploration_module')\n",
    "    RC_args=config.pop('RC_module')\n",
    "\n",
    "    rctd3_agent = PearlAgent(\n",
    "                    policy_learner=TD3(\n",
    "                        \n",
    "                        state_dim=train_env.observation_space.shape[0],\n",
    "                        action_space=train_env.action_space,\n",
    "                        exploration_module=NormalDistributionExploration(exploration_args),\n",
    "                        **config\n",
    "                    ),\n",
    "                    replay_buffer=FIFOOffPolicyReplayBuffer(\n",
    "                        capacity=100000,\n",
    "                        has_cost_available=True\n",
    "                    ),\n",
    "                    safety_module=RCSafetyModuleCostCriticContinuousAction(\n",
    "                        state_dim=train_env.observation_space.shape[0],\n",
    "                        action_space=train_env.action_space,\n",
    "                        **RC_args\n",
    "                    ),\n",
    "                )\n",
    "    \n",
    "    info = online_learning(\n",
    "        agent=rctd3_agent ,\n",
    "        env=train_env,\n",
    "        number_of_episodes=2_000,\n",
    "        print_every_x_episodes=10,   # print returns after every 10 episdoes\n",
    "        learn_after_episode=False,    # updating after every environment interaction, Q networks are updates at the end of each episode\n",
    "        seed=0\n",
    "    )\n",
    "    agent=rctd3_agent\n",
    "    observation, action_space = test_env.reset()\n",
    "    agent.reset(observation, action_space)\n",
    "    done = False\n",
    "    while not done:\n",
    "        action = agent.act(exploit=True)\n",
    "        action_result = test_env.step(action)\n",
    "        agent.observe(action_result)\n",
    "        agent.learn()\n",
    "        done = action_result.done\n",
    "        \n",
    "    score=act_result.info['portfolio_valuation']/1000\n",
    "\n",
    "    return {\"score\": -score}"
   ]
  },
  {
   "cell_type": "code",
   "execution_count": 13,
   "metadata": {},
   "outputs": [],
   "source": [
    "train_env=train_envs['BTCUSDT']\n",
    "train_env=GymEnvironment(train_env)\n",
    "\n",
    "test_env=test_envs['BTCUSDT']\n",
    "test_env=GymEnvironment(test_env)\n",
    "train_env.action_space\n",
    "set_seed(0)\n"
   ]
  },
  {
   "cell_type": "code",
   "execution_count": 14,
   "metadata": {},
   "outputs": [],
   "source": [
    "# setup TD3 algorithm\n",
    "td3_agent = PearlAgent(\n",
    "                        policy_learner=TD3(\n",
    "                                                state_dim=train_env.observation_space.shape[0],\n",
    "                                                action_space=train_env.action_space,\n",
    "                                                actor_hidden_dims= [256, 256],\n",
    "                                                critic_hidden_dims= [256, 256],\n",
    "                                                training_rounds= 10,\n",
    "                                                batch_size= 256,\n",
    "\n",
    "                                                actor_soft_update_tau= 0.5,\n",
    "                                                critic_soft_update_tau= 0.5,\n",
    "                                                actor_learning_rate= 1e-3,\n",
    "                                                critic_learning_rate= 3e-4,\n",
    "                                                discount_factor= 0.99,\n",
    "                                                actor_update_freq= 2,\n",
    "                                                actor_update_noise= 0.2,\n",
    "                                                actor_update_noise_clip= 0.5,\n",
    "\n",
    "                                                exploration_module=NormalDistributionExploration(\n",
    "                                                                                                    mean=0.0,\n",
    "                                                                                                    std_dev=0.1,\n",
    "                                                                                                    ),\n",
    "                                                                                                    \n",
    "                                            ),\n",
    "                        replay_buffer=FIFOOffPolicyReplayBuffer(\n",
    "                            capacity=100000,\n",
    "                            has_cost_available=False\n",
    "                        ),\n",
    "                        safety_module=None,\n",
    "                        device_id=-1,\n",
    "\n",
    "                    )\n"
   ]
  },
  {
   "cell_type": "code",
   "execution_count": 16,
   "metadata": {},
   "outputs": [
    {
     "name": "stdout",
     "output_type": "stream",
     "text": [
      "Market Return :  5.18%   |   Portfolio Return : -1.30%   |   \n",
      "Market Return :  5.18%   |   Portfolio Return : -1.30%   |   \n",
      "Market Return :  5.18%   |   Portfolio Return : -1.30%   |   \n",
      "Market Return :  5.18%   |   Portfolio Return : -1.30%   |   \n",
      "Market Return :  5.18%   |   Portfolio Return : -1.30%   |   \n",
      "Market Return :  5.18%   |   Portfolio Return : -1.30%   |   \n",
      "Market Return :  5.18%   |   Portfolio Return : -1.30%   |   \n",
      "Market Return :  5.18%   |   Portfolio Return : -1.30%   |   \n",
      "Market Return :  5.18%   |   Portfolio Return : -1.30%   |   \n",
      "Market Return :  5.18%   |   Portfolio Return : -1.30%   |   \n",
      "episode 10, step 1680, agent=PearlAgent with TD3, FIFOOffPolicyReplayBuffer, env=BoxTradingEnv\n",
      "return: -0.013090495130199997\n",
      "Market Return :  5.18%   |   Portfolio Return : -1.30%   |   \n",
      "Market Return :  5.18%   |   Portfolio Return : -1.30%   |   \n",
      "Market Return :  5.18%   |   Portfolio Return : -1.30%   |   \n",
      "Market Return :  5.18%   |   Portfolio Return : -1.30%   |   \n",
      "Market Return :  5.18%   |   Portfolio Return : -1.30%   |   \n",
      "Market Return :  5.18%   |   Portfolio Return : -1.30%   |   \n",
      "Market Return :  5.18%   |   Portfolio Return : -1.30%   |   \n",
      "Market Return :  5.18%   |   Portfolio Return : -1.30%   |   \n",
      "Market Return :  5.18%   |   Portfolio Return : -1.30%   |   \n",
      "Market Return :  5.18%   |   Portfolio Return : -1.30%   |   \n",
      "episode 20, step 3360, agent=PearlAgent with TD3, FIFOOffPolicyReplayBuffer, env=BoxTradingEnv\n",
      "return: -0.013090495130199997\n"
     ]
    },
    {
     "data": {
      "image/png": "[encoded data removed]",
      "text/plain": [
       "<Figure size 640x480 with 1 Axes>"
      ]
     },
     "metadata": {},
     "output_type": "display_data"
    }
   ],
   "source": [
    "info = online_learning(\n",
    "    agent=td3_agent ,\n",
    "    env=train_env,\n",
    "    number_of_episodes=2_0,\n",
    "    print_every_x_episodes=10,   # print returns after every 10 episdoes\n",
    "    learn_after_episode=False,    # updating after every environment interaction, Q networks are updates at the end of each episode\n",
    "    seed=0\n",
    "\n",
    ")\n",
    "\n",
    "torch.save(info[\"return\"], \"DQN-return.pt\")   # info[\"return\"] refers to the episodic returns\n",
    "plt.plot(np.arange(len(info[\"return\"])), info[\"return\"], label=\"DQN\")\n",
    "plt.title(\"Episodic returns\")\n",
    "plt.xlabel(\"Episode\")\n",
    "plt.ylabel(\"Return\")\n",
    "plt.legend()\n",
    "plt.show()"
   ]
  },
  {
   "cell_type": "code",
   "execution_count": 17,
   "metadata": {},
   "outputs": [
    {
     "data": {
      "text/html": [],
      "text/plain": [
       "<IPython.core.display.HTML object>"
      ]
     },
     "metadata": {},
     "output_type": "display_data"
    },
    {
     "name": "stderr",
     "output_type": "stream",
     "text": [
      "2024-03-28 13:42:35,272\tWARNING trial.py:648 -- The path to the trial log directory is too long (max length: 260. Consider using `trial_dirname_creator` to shorten the path. Path: C:\\Users\\standard\\AppData\\Local\\Temp\\ray\\session_2024-03-28_13-42-20_595797_7364\\artifacts\\2024-03-28_13-42-24\\objective_2024-03-28_13-42-20\\driver_artifacts\\objective_89675_00000_0_constraint_value=0.2000,0=64,1=64,lambda_constraint_ub_value=156,lr_lambda=0.0001,0=64,1=64,actor_learning_2024-03-28_13-42-35\n"
     ]
    },
    {
     "ename": "FileNotFoundError",
     "evalue": "[WinError 3] The system cannot find the path specified: 'C:\\\\Users\\\\standard\\\\AppData\\\\Local\\\\Temp\\\\ray\\\\session_2024-03-28_13-42-20_595797_7364\\\\artifacts\\\\2024-03-28_13-42-24\\\\objective_2024-03-28_13-42-20\\\\driver_artifacts\\\\objective_89675_00000_0_constraint_value=0.2000,0=64,1=64,lambda_constraint_ub_value=156,lr_lambda=0.0001,0=64,1=64,actor_learning_2024-03-28_13-42-35'",
     "output_type": "error",
     "traceback": [
      "\u001b[1;31m---------------------------------------------------------------------------\u001b[0m",
      "\u001b[1;31mFileNotFoundError\u001b[0m                         Traceback (most recent call last)",
      "File \u001b[1;32mc:\\Python311\\Lib\\pathlib.py:1116\u001b[0m, in \u001b[0;36mPath.mkdir\u001b[1;34m(self, mode, parents, exist_ok)\u001b[0m\n\u001b[0;32m   1115\u001b[0m \u001b[38;5;28;01mtry\u001b[39;00m:\n\u001b[1;32m-> 1116\u001b[0m     os\u001b[38;5;241m.\u001b[39mmkdir(\u001b[38;5;28mself\u001b[39m, mode)\n\u001b[0;32m   1117\u001b[0m \u001b[38;5;28;01mexcept\u001b[39;00m \u001b[38;5;167;01mFileNotFoundError\u001b[39;00m:\n",
      "\u001b[1;31mFileNotFoundError\u001b[0m: [WinError 3] The system cannot find the path specified: 'C:\\\\Users\\\\standard\\\\AppData\\\\Local\\\\Temp\\\\ray\\\\session_2024-03-28_13-42-20_595797_7364\\\\artifacts\\\\2024-03-28_13-42-24\\\\objective_2024-03-28_13-42-20\\\\driver_artifacts\\\\objective_89675_00000_0_constraint_value=0.2000,0=64,1=64,lambda_constraint_ub_value=156,lr_lambda=0.0001,0=64,1=64,actor_learning_2024-03-28_13-42-35'",
      "\nDuring handling of the above exception, another exception occurred:\n",
      "\u001b[1;31mFileNotFoundError\u001b[0m                         Traceback (most recent call last)",
      "Cell \u001b[1;32mIn[17], line 3\u001b[0m\n\u001b[0;32m      1\u001b[0m tuner \u001b[38;5;241m=\u001b[39m tune\u001b[38;5;241m.\u001b[39mTuner(objective, param_space\u001b[38;5;241m=\u001b[39msearch_space)  \u001b[38;5;66;03m# ③\u001b[39;00m\n\u001b[1;32m----> 3\u001b[0m results \u001b[38;5;241m=\u001b[39m \u001b[43mtuner\u001b[49m\u001b[38;5;241;43m.\u001b[39;49m\u001b[43mfit\u001b[49m\u001b[43m(\u001b[49m\u001b[43m)\u001b[49m\n\u001b[0;32m      4\u001b[0m \u001b[38;5;28mprint\u001b[39m(results\u001b[38;5;241m.\u001b[39mget_best_result(metric\u001b[38;5;241m=\u001b[39m\u001b[38;5;124m\"\u001b[39m\u001b[38;5;124mscore\u001b[39m\u001b[38;5;124m\"\u001b[39m, mode\u001b[38;5;241m=\u001b[39m\u001b[38;5;124m\"\u001b[39m\u001b[38;5;124mmin\u001b[39m\u001b[38;5;124m\"\u001b[39m)\u001b[38;5;241m.\u001b[39mconfig)\n",
      "File \u001b[1;32mc:\\Python311\\Lib\\site-packages\\ray\\tune\\tuner.py:379\u001b[0m, in \u001b[0;36mTuner.fit\u001b[1;34m(self)\u001b[0m\n\u001b[0;32m    347\u001b[0m \u001b[38;5;250m\u001b[39m\u001b[38;5;124;03m\"\"\"Executes hyperparameter tuning job as configured and returns result.\u001b[39;00m\n\u001b[0;32m    348\u001b[0m \n\u001b[0;32m    349\u001b[0m \u001b[38;5;124;03mFailure handling:\u001b[39;00m\n\u001b[1;32m   (...)\u001b[0m\n\u001b[0;32m    375\u001b[0m \u001b[38;5;124;03m    RayTaskError: If user-provided trainable raises an exception\u001b[39;00m\n\u001b[0;32m    376\u001b[0m \u001b[38;5;124;03m\"\"\"\u001b[39;00m\n\u001b[0;32m    378\u001b[0m \u001b[38;5;28;01mif\u001b[39;00m \u001b[38;5;129;01mnot\u001b[39;00m \u001b[38;5;28mself\u001b[39m\u001b[38;5;241m.\u001b[39m_is_ray_client:\n\u001b[1;32m--> 379\u001b[0m     \u001b[38;5;28;01mreturn\u001b[39;00m \u001b[38;5;28;43mself\u001b[39;49m\u001b[38;5;241;43m.\u001b[39;49m\u001b[43m_local_tuner\u001b[49m\u001b[38;5;241;43m.\u001b[39;49m\u001b[43mfit\u001b[49m\u001b[43m(\u001b[49m\u001b[43m)\u001b[49m\n\u001b[0;32m    380\u001b[0m \u001b[38;5;28;01melse\u001b[39;00m:\n\u001b[0;32m    381\u001b[0m     (\n\u001b[0;32m    382\u001b[0m         progress_reporter,\n\u001b[0;32m    383\u001b[0m         string_queue,\n\u001b[0;32m    384\u001b[0m     ) \u001b[38;5;241m=\u001b[39m \u001b[38;5;28mself\u001b[39m\u001b[38;5;241m.\u001b[39m_prepare_remote_tuner_for_jupyter_progress_reporting()\n",
      "File \u001b[1;32mc:\\Python311\\Lib\\site-packages\\ray\\tune\\impl\\tuner_internal.py:477\u001b[0m, in \u001b[0;36mTunerInternal.fit\u001b[1;34m(self)\u001b[0m\n\u001b[0;32m    475\u001b[0m param_space \u001b[38;5;241m=\u001b[39m copy\u001b[38;5;241m.\u001b[39mdeepcopy(\u001b[38;5;28mself\u001b[39m\u001b[38;5;241m.\u001b[39mparam_space)\n\u001b[0;32m    476\u001b[0m \u001b[38;5;28;01mif\u001b[39;00m \u001b[38;5;129;01mnot\u001b[39;00m \u001b[38;5;28mself\u001b[39m\u001b[38;5;241m.\u001b[39m_is_restored:\n\u001b[1;32m--> 477\u001b[0m     analysis \u001b[38;5;241m=\u001b[39m \u001b[38;5;28;43mself\u001b[39;49m\u001b[38;5;241;43m.\u001b[39;49m\u001b[43m_fit_internal\u001b[49m\u001b[43m(\u001b[49m\u001b[43mtrainable\u001b[49m\u001b[43m,\u001b[49m\u001b[43m \u001b[49m\u001b[43mparam_space\u001b[49m\u001b[43m)\u001b[49m\n\u001b[0;32m    478\u001b[0m \u001b[38;5;28;01melse\u001b[39;00m:\n\u001b[0;32m    479\u001b[0m     analysis \u001b[38;5;241m=\u001b[39m \u001b[38;5;28mself\u001b[39m\u001b[38;5;241m.\u001b[39m_fit_resume(trainable, param_space)\n",
      "File \u001b[1;32mc:\\Python311\\Lib\\site-packages\\ray\\tune\\impl\\tuner_internal.py:596\u001b[0m, in \u001b[0;36mTunerInternal._fit_internal\u001b[1;34m(self, trainable, param_space)\u001b[0m\n\u001b[0;32m    583\u001b[0m \u001b[38;5;250m\u001b[39m\u001b[38;5;124;03m\"\"\"Fitting for a fresh Tuner.\"\"\"\u001b[39;00m\n\u001b[0;32m    584\u001b[0m args \u001b[38;5;241m=\u001b[39m {\n\u001b[0;32m    585\u001b[0m     \u001b[38;5;241m*\u001b[39m\u001b[38;5;241m*\u001b[39m\u001b[38;5;28mself\u001b[39m\u001b[38;5;241m.\u001b[39m_get_tune_run_arguments(trainable),\n\u001b[0;32m    586\u001b[0m     \u001b[38;5;241m*\u001b[39m\u001b[38;5;241m*\u001b[39m\u001b[38;5;28mdict\u001b[39m(\n\u001b[1;32m   (...)\u001b[0m\n\u001b[0;32m    594\u001b[0m     \u001b[38;5;241m*\u001b[39m\u001b[38;5;241m*\u001b[39m\u001b[38;5;28mself\u001b[39m\u001b[38;5;241m.\u001b[39m_tuner_kwargs,\n\u001b[0;32m    595\u001b[0m }\n\u001b[1;32m--> 596\u001b[0m analysis \u001b[38;5;241m=\u001b[39m \u001b[43mrun\u001b[49m\u001b[43m(\u001b[49m\n\u001b[0;32m    597\u001b[0m \u001b[43m    \u001b[49m\u001b[38;5;241;43m*\u001b[39;49m\u001b[38;5;241;43m*\u001b[39;49m\u001b[43margs\u001b[49m\u001b[43m,\u001b[49m\n\u001b[0;32m    598\u001b[0m \u001b[43m\u001b[49m\u001b[43m)\u001b[49m\n\u001b[0;32m    599\u001b[0m \u001b[38;5;28mself\u001b[39m\u001b[38;5;241m.\u001b[39mclear_remote_string_queue()\n\u001b[0;32m    600\u001b[0m \u001b[38;5;28;01mreturn\u001b[39;00m analysis\n",
      "File \u001b[1;32mc:\\Python311\\Lib\\site-packages\\ray\\tune\\tune.py:1001\u001b[0m, in \u001b[0;36mrun\u001b[1;34m(run_or_experiment, name, metric, mode, stop, time_budget_s, config, resources_per_trial, num_samples, storage_path, storage_filesystem, search_alg, scheduler, checkpoint_config, verbose, progress_reporter, log_to_file, trial_name_creator, trial_dirname_creator, sync_config, export_formats, max_failures, fail_fast, restore, resume, resume_config, reuse_actors, raise_on_failed_trial, callbacks, max_concurrent_trials, keep_checkpoints_num, checkpoint_score_attr, checkpoint_freq, checkpoint_at_end, chdir_to_trial_dir, local_dir, _remote, _remote_string_queue, _entrypoint)\u001b[0m\n\u001b[0;32m    999\u001b[0m \u001b[38;5;28;01mtry\u001b[39;00m:\n\u001b[0;32m   1000\u001b[0m     \u001b[38;5;28;01mwhile\u001b[39;00m \u001b[38;5;129;01mnot\u001b[39;00m runner\u001b[38;5;241m.\u001b[39mis_finished() \u001b[38;5;129;01mand\u001b[39;00m \u001b[38;5;129;01mnot\u001b[39;00m experiment_interrupted_event\u001b[38;5;241m.\u001b[39mis_set():\n\u001b[1;32m-> 1001\u001b[0m         \u001b[43mrunner\u001b[49m\u001b[38;5;241;43m.\u001b[39;49m\u001b[43mstep\u001b[49m\u001b[43m(\u001b[49m\u001b[43m)\u001b[49m\n\u001b[0;32m   1002\u001b[0m         \u001b[38;5;28;01mif\u001b[39;00m has_verbosity(Verbosity\u001b[38;5;241m.\u001b[39mV1_EXPERIMENT):\n\u001b[0;32m   1003\u001b[0m             _report_progress(runner, progress_reporter)\n",
      "File \u001b[1;32mc:\\Python311\\Lib\\site-packages\\ray\\tune\\execution\\tune_controller.py:683\u001b[0m, in \u001b[0;36mTuneController.step\u001b[1;34m(self)\u001b[0m\n\u001b[0;32m    680\u001b[0m \u001b[38;5;28mself\u001b[39m\u001b[38;5;241m.\u001b[39m_maybe_update_trial_queue()\n\u001b[0;32m    682\u001b[0m \u001b[38;5;66;03m# Start actors for added trials\u001b[39;00m\n\u001b[1;32m--> 683\u001b[0m \u001b[38;5;28;43mself\u001b[39;49m\u001b[38;5;241;43m.\u001b[39;49m\u001b[43m_maybe_add_actors\u001b[49m\u001b[43m(\u001b[49m\u001b[43m)\u001b[49m\n\u001b[0;32m    685\u001b[0m \u001b[38;5;66;03m# Handle one event\u001b[39;00m\n\u001b[0;32m    686\u001b[0m \u001b[38;5;28;01mif\u001b[39;00m \u001b[38;5;129;01mnot\u001b[39;00m \u001b[38;5;28mself\u001b[39m\u001b[38;5;241m.\u001b[39m_actor_manager\u001b[38;5;241m.\u001b[39mnext(timeout\u001b[38;5;241m=\u001b[39m\u001b[38;5;241m0.1\u001b[39m):\n\u001b[0;32m    687\u001b[0m     \u001b[38;5;66;03m# If there are no actors running, warn about potentially\u001b[39;00m\n\u001b[0;32m    688\u001b[0m     \u001b[38;5;66;03m# insufficient resources\u001b[39;00m\n",
      "File \u001b[1;32mc:\\Python311\\Lib\\site-packages\\ray\\tune\\execution\\tune_controller.py:861\u001b[0m, in \u001b[0;36mTuneController._maybe_add_actors\u001b[1;34m(self)\u001b[0m\n\u001b[0;32m    859\u001b[0m     \u001b[38;5;28mself\u001b[39m\u001b[38;5;241m.\u001b[39m_actor_cache\u001b[38;5;241m.\u001b[39mincrease_max(trial_to_run\u001b[38;5;241m.\u001b[39mplacement_group_factory)\n\u001b[0;32m    860\u001b[0m     \u001b[38;5;66;03m# schedule_trial_actor also potentially uses cached actors\u001b[39;00m\n\u001b[1;32m--> 861\u001b[0m     \u001b[38;5;28;43mself\u001b[39;49m\u001b[38;5;241;43m.\u001b[39;49m\u001b[43m_schedule_trial_actor\u001b[49m\u001b[43m(\u001b[49m\u001b[43mtrial_to_run\u001b[49m\u001b[43m)\u001b[49m\n\u001b[0;32m    862\u001b[0m \u001b[38;5;28;01melse\u001b[39;00m:\n\u001b[0;32m    863\u001b[0m     \u001b[38;5;66;03m# Otherwise, only try to use the cached actor\u001b[39;00m\n\u001b[0;32m    864\u001b[0m     \u001b[38;5;28;01mif\u001b[39;00m _dedup_logs(\u001b[38;5;124m\"\u001b[39m\u001b[38;5;124mtrial_to_run_reuse\u001b[39m\u001b[38;5;124m\"\u001b[39m, trial_to_run\u001b[38;5;241m.\u001b[39mtrial_id):\n",
      "File \u001b[1;32mc:\\Python311\\Lib\\site-packages\\ray\\tune\\execution\\tune_controller.py:975\u001b[0m, in \u001b[0;36mTuneController._schedule_trial_actor\u001b[1;34m(self, trial)\u001b[0m\n\u001b[0;32m    971\u001b[0m logger\u001b[38;5;241m.\u001b[39mdebug(\u001b[38;5;124mf\u001b[39m\u001b[38;5;124m\"\u001b[39m\u001b[38;5;124mTrying to schedule new ACTOR for trial \u001b[39m\u001b[38;5;132;01m{\u001b[39;00mtrial\u001b[38;5;132;01m}\u001b[39;00m\u001b[38;5;124m\"\u001b[39m)\n\u001b[0;32m    973\u001b[0m \u001b[38;5;28;01massert\u001b[39;00m trial\u001b[38;5;241m.\u001b[39mstatus \u001b[38;5;241m==\u001b[39m Trial\u001b[38;5;241m.\u001b[39mPENDING\n\u001b[1;32m--> 975\u001b[0m \u001b[43mtrial\u001b[49m\u001b[38;5;241;43m.\u001b[39;49m\u001b[43minit_local_path\u001b[49m\u001b[43m(\u001b[49m\u001b[43m)\u001b[49m\n\u001b[0;32m    976\u001b[0m \u001b[38;5;66;03m# We checkpoint metadata here to try mitigating logdir duplication\u001b[39;00m\n\u001b[0;32m    977\u001b[0m \u001b[38;5;28mself\u001b[39m\u001b[38;5;241m.\u001b[39m_mark_trial_to_checkpoint(trial)\n",
      "File \u001b[1;32mc:\\Python311\\Lib\\site-packages\\ray\\tune\\experiment\\trial.py:654\u001b[0m, in \u001b[0;36mTrial.init_local_path\u001b[1;34m(self)\u001b[0m\n\u001b[0;32m    647\u001b[0m \u001b[38;5;28;01mif\u001b[39;00m \u001b[38;5;28mlen\u001b[39m(\u001b[38;5;28mstr\u001b[39m(logdir_path)) \u001b[38;5;241m>\u001b[39m\u001b[38;5;241m=\u001b[39m max_path_length:\n\u001b[0;32m    648\u001b[0m     logger\u001b[38;5;241m.\u001b[39mwarning(\n\u001b[0;32m    649\u001b[0m         \u001b[38;5;124mf\u001b[39m\u001b[38;5;124m\"\u001b[39m\u001b[38;5;124mThe path to the trial log directory is too long \u001b[39m\u001b[38;5;124m\"\u001b[39m\n\u001b[0;32m    650\u001b[0m         \u001b[38;5;124mf\u001b[39m\u001b[38;5;124m\"\u001b[39m\u001b[38;5;124m(max length: \u001b[39m\u001b[38;5;132;01m{\u001b[39;00mmax_path_length\u001b[38;5;132;01m}\u001b[39;00m\u001b[38;5;124m. \u001b[39m\u001b[38;5;124m\"\u001b[39m\n\u001b[0;32m    651\u001b[0m         \u001b[38;5;124mf\u001b[39m\u001b[38;5;124m\"\u001b[39m\u001b[38;5;124mConsider using `trial_dirname_creator` to shorten the path. \u001b[39m\u001b[38;5;124m\"\u001b[39m\n\u001b[0;32m    652\u001b[0m         \u001b[38;5;124mf\u001b[39m\u001b[38;5;124m\"\u001b[39m\u001b[38;5;124mPath: \u001b[39m\u001b[38;5;132;01m{\u001b[39;00mlogdir_path\u001b[38;5;132;01m}\u001b[39;00m\u001b[38;5;124m\"\u001b[39m\n\u001b[0;32m    653\u001b[0m     )\n\u001b[1;32m--> 654\u001b[0m \u001b[43mlogdir_path\u001b[49m\u001b[38;5;241;43m.\u001b[39;49m\u001b[43mmkdir\u001b[49m\u001b[43m(\u001b[49m\u001b[43mparents\u001b[49m\u001b[38;5;241;43m=\u001b[39;49m\u001b[38;5;28;43;01mTrue\u001b[39;49;00m\u001b[43m,\u001b[49m\u001b[43m \u001b[49m\u001b[43mexist_ok\u001b[49m\u001b[38;5;241;43m=\u001b[39;49m\u001b[38;5;28;43;01mTrue\u001b[39;49;00m\u001b[43m)\u001b[49m\n\u001b[0;32m    656\u001b[0m \u001b[38;5;28mself\u001b[39m\u001b[38;5;241m.\u001b[39minvalidate_json_state()\n",
      "File \u001b[1;32mc:\\Python311\\Lib\\pathlib.py:1121\u001b[0m, in \u001b[0;36mPath.mkdir\u001b[1;34m(self, mode, parents, exist_ok)\u001b[0m\n\u001b[0;32m   1119\u001b[0m         \u001b[38;5;28;01mraise\u001b[39;00m\n\u001b[0;32m   1120\u001b[0m     \u001b[38;5;28mself\u001b[39m\u001b[38;5;241m.\u001b[39mparent\u001b[38;5;241m.\u001b[39mmkdir(parents\u001b[38;5;241m=\u001b[39m\u001b[38;5;28;01mTrue\u001b[39;00m, exist_ok\u001b[38;5;241m=\u001b[39m\u001b[38;5;28;01mTrue\u001b[39;00m)\n\u001b[1;32m-> 1121\u001b[0m     \u001b[38;5;28;43mself\u001b[39;49m\u001b[38;5;241;43m.\u001b[39;49m\u001b[43mmkdir\u001b[49m\u001b[43m(\u001b[49m\u001b[43mmode\u001b[49m\u001b[43m,\u001b[49m\u001b[43m \u001b[49m\u001b[43mparents\u001b[49m\u001b[38;5;241;43m=\u001b[39;49m\u001b[38;5;28;43;01mFalse\u001b[39;49;00m\u001b[43m,\u001b[49m\u001b[43m \u001b[49m\u001b[43mexist_ok\u001b[49m\u001b[38;5;241;43m=\u001b[39;49m\u001b[43mexist_ok\u001b[49m\u001b[43m)\u001b[49m\n\u001b[0;32m   1122\u001b[0m \u001b[38;5;28;01mexcept\u001b[39;00m \u001b[38;5;167;01mOSError\u001b[39;00m:\n\u001b[0;32m   1123\u001b[0m     \u001b[38;5;66;03m# Cannot rely on checking for EEXIST, since the operating system\u001b[39;00m\n\u001b[0;32m   1124\u001b[0m     \u001b[38;5;66;03m# could give priority to other errors like EACCES or EROFS\u001b[39;00m\n\u001b[0;32m   1125\u001b[0m     \u001b[38;5;28;01mif\u001b[39;00m \u001b[38;5;129;01mnot\u001b[39;00m exist_ok \u001b[38;5;129;01mor\u001b[39;00m \u001b[38;5;129;01mnot\u001b[39;00m \u001b[38;5;28mself\u001b[39m\u001b[38;5;241m.\u001b[39mis_dir():\n",
      "File \u001b[1;32mc:\\Python311\\Lib\\pathlib.py:1116\u001b[0m, in \u001b[0;36mPath.mkdir\u001b[1;34m(self, mode, parents, exist_ok)\u001b[0m\n\u001b[0;32m   1112\u001b[0m \u001b[38;5;250m\u001b[39m\u001b[38;5;124;03m\"\"\"\u001b[39;00m\n\u001b[0;32m   1113\u001b[0m \u001b[38;5;124;03mCreate a new directory at this given path.\u001b[39;00m\n\u001b[0;32m   1114\u001b[0m \u001b[38;5;124;03m\"\"\"\u001b[39;00m\n\u001b[0;32m   1115\u001b[0m \u001b[38;5;28;01mtry\u001b[39;00m:\n\u001b[1;32m-> 1116\u001b[0m     os\u001b[38;5;241m.\u001b[39mmkdir(\u001b[38;5;28mself\u001b[39m, mode)\n\u001b[0;32m   1117\u001b[0m \u001b[38;5;28;01mexcept\u001b[39;00m \u001b[38;5;167;01mFileNotFoundError\u001b[39;00m:\n\u001b[0;32m   1118\u001b[0m     \u001b[38;5;28;01mif\u001b[39;00m \u001b[38;5;129;01mnot\u001b[39;00m parents \u001b[38;5;129;01mor\u001b[39;00m \u001b[38;5;28mself\u001b[39m\u001b[38;5;241m.\u001b[39mparent \u001b[38;5;241m==\u001b[39m \u001b[38;5;28mself\u001b[39m:\n",
      "\u001b[1;31mFileNotFoundError\u001b[0m: [WinError 3] The system cannot find the path specified: 'C:\\\\Users\\\\standard\\\\AppData\\\\Local\\\\Temp\\\\ray\\\\session_2024-03-28_13-42-20_595797_7364\\\\artifacts\\\\2024-03-28_13-42-24\\\\objective_2024-03-28_13-42-20\\\\driver_artifacts\\\\objective_89675_00000_0_constraint_value=0.2000,0=64,1=64,lambda_constraint_ub_value=156,lr_lambda=0.0001,0=64,1=64,actor_learning_2024-03-28_13-42-35'"
     ]
    }
   ],
   "source": [
    "def trial_str_creator(trial):\n",
    "    return \"{}_{}_123\".format(trial.trainable_name, trial.trial_id)\n",
    "\n",
    "tune_config=tune.TuneConfig(num_samples=13,mode=\"min\",search_alg='hyperopt',\n",
    "                                trial_name_creator=trial_str_creator,\n",
    "                                trial_dirname_creator=trial_str_creator,\n",
    "                            )\n",
    "run_config=train.RunConfig(\n",
    "    storage_path='C:/Users/standard/OneDrive/Documents/Git/MultiTrader/td3_results', \n",
    "\n",
    "    name=\"pearl_experiments\")\n",
    "\n",
    "tuner = tune.Tuner(objective,\n",
    "                   tune_config=tune_config,\n",
    "                   run_config=run_config,\n",
    "                    param_space=search_space)  # ③\n",
    "\n",
    "\n",
    "results = tuner.fit()\n",
    "print(results.get_best_result(metric=\"score\", mode=\"min\").config)"
   ]
  },
  {
   "cell_type": "code",
   "execution_count": null,
   "metadata": {},
   "outputs": [],
   "source": [
    "test_env.env.unwrapped.save_for_render(dir = \"TD3_test_render_logs\")"
   ]
  },
  {
   "cell_type": "code",
   "execution_count": null,
   "metadata": {},
   "outputs": [],
   "source": [
    "\n",
    "renderer = Renderer(render_logs_dir=\"render_logs\")"
   ]
  },
  {
   "cell_type": "code",
   "execution_count": null,
   "metadata": {},
   "outputs": [],
   "source": [
    "# Add Custom Metrics (Annualized metrics)\n",
    "renderer.add_metric(\n",
    "    name = \"Annual Market Return\",\n",
    "    function = lambda df : f\"{ ((df['close'].iloc[-1] / df['close'].iloc[0])**(pd.Timedelta(days=365)/(df.index.values[-1] - df.index.values[0]))-1)*100:0.2f}%\"\n",
    ")\n",
    "renderer.add_metric(\n",
    "        name = \"Annual Portfolio Return\",\n",
    "        function = lambda df : f\"{((df['portfolio_valuation'].iloc[-1] / df['portfolio_valuation'].iloc[0])**(pd.Timedelta(days=365)/(df.index.values[-1] - df.index.values[0]))-1)*100:0.2f}%\"\n",
    ")\n",
    "\n",
    "renderer.run()"
   ]
  }
 ],
 "metadata": {
  "kernelspec": {
   "display_name": "base",
   "language": "python",
   "name": "python3"
  },
  "language_info": {
   "codemirror_mode": {
    "name": "ipython",
    "version": 3
   },
   "file_extension": ".py",
   "mimetype": "text/x-python",
   "name": "python",
   "nbconvert_exporter": "python",
   "pygments_lexer": "ipython3",
   "version": "3.11.5"
  }
 },
 "nbformat": 4,
 "nbformat_minor": 2
}
