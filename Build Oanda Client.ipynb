{
 "cells": [
  {
   "cell_type": "code",
   "execution_count": 1,
   "metadata": {},
   "outputs": [
    {
     "name": "stdout",
     "output_type": "stream",
     "text": [
      "need to install alpaca\n"
     ]
    }
   ],
   "source": [
    "from utils.utils import build_market_image, prepare_forecast_data\n",
    "# from environments.live_environments import LiveTradingEnv\n",
    "from utils.clients import OandaClient\n",
    "from Keys import *\n",
    "# from utils.mappings import oanda_time_map\n",
    "from utils.reward_functions import sharpe_reward_function\n",
    "import pandas as pd\n",
    "from json import dumps\n",
    "\n",
    "import time\n",
    "import datetime\n",
    "\n"
   ]
  },
  {
   "cell_type": "code",
   "execution_count": 2,
   "metadata": {},
   "outputs": [],
   "source": [
    "# from neuralforecast.core import NeuralForecast\n",
    "# forecasting_model=NeuralForecast.load('MultiHeadForecastingModel/')\n",
    "# agent_dir='Agent/final_checkpoints/policies/default_policy'\n"
   ]
  },
  {
   "cell_type": "code",
   "execution_count": 3,
   "metadata": {},
   "outputs": [
    {
     "data": {
      "text/plain": [
       "'USD/JPY'"
      ]
     },
     "execution_count": 3,
     "metadata": {},
     "output_type": "execute_result"
    }
   ],
   "source": [
    "\n",
    "from configs import defaults\n",
    "\n",
    "base_asset=defaults.base_asset\n",
    "quote_asset=defaults.quote_asset\n",
    "test_net=True\n",
    "time_frame=defaults.time_frame\n",
    "positions=defaults.env_config['positions']\n",
    "\n",
    "product_type=defaults.product_type\n",
    "\n",
    "exchange=defaults.exchange\n",
    "trade_target='/'.join([base_asset,quote_asset]) \n",
    "agent_path=defaults.agent_path\n",
    "coin_pairs=defaults.COIN_PAIRS\n",
    "trade_target"
   ]
  },
  {
   "cell_type": "code",
   "execution_count": 4,
   "metadata": {},
   "outputs": [
    {
     "data": {
      "text/plain": [
       "(<oandapyV20.oandapyV20.API at 0x11912a590>,\n",
       " 'USD',\n",
       " 'JPY',\n",
       " 'USD_JPY',\n",
       " '1h',\n",
       " 'H1')"
      ]
     },
     "execution_count": 4,
     "metadata": {},
     "output_type": "execute_result"
    }
   ],
   "source": [
    "client=OandaClient(api_key=oanda_api_key,\n",
    "                    account_id=oanda_account_id,\n",
    "                    paper=test_net,\n",
    "                    symbol=trade_target,\n",
    "                    time_frame=time_frame,\n",
    "                    product_type=product_type\n",
    "\n",
    "                    )\n",
    "client.trade_client,client.base_asset,client.quote_asset,client.symbol,client.time_frame,client.oanda_time_frame\n",
    "\n"
   ]
  },
  {
   "cell_type": "code",
   "execution_count": 5,
   "metadata": {},
   "outputs": [],
   "source": [
    "from oandapyV20.endpoints import accounts, orders, pricing, instruments,transactions\n",
    "import re"
   ]
  },
  {
   "cell_type": "code",
   "execution_count": 6,
   "metadata": {},
   "outputs": [
    {
     "data": {
      "text/html": [
       "<div>\n",
       "<style scoped>\n",
       "    .dataframe tbody tr th:only-of-type {\n",
       "        vertical-align: middle;\n",
       "    }\n",
       "\n",
       "    .dataframe tbody tr th {\n",
       "        vertical-align: top;\n",
       "    }\n",
       "\n",
       "    .dataframe thead th {\n",
       "        text-align: right;\n",
       "    }\n",
       "</style>\n",
       "<table border=\"1\" class=\"dataframe\">\n",
       "  <thead>\n",
       "    <tr style=\"text-align: right;\">\n",
       "      <th></th>\n",
       "      <th>balance</th>\n",
       "      <th>pl</th>\n",
       "      <th>unrealizedPL</th>\n",
       "      <th>NAV</th>\n",
       "      <th>marginUsed</th>\n",
       "      <th>marginAvailable</th>\n",
       "      <th>positionValue</th>\n",
       "      <th>dividendAdjustment</th>\n",
       "      <th>financing</th>\n",
       "      <th>id</th>\n",
       "      <th>initialMarginRequired</th>\n",
       "      <th>initialUnits</th>\n",
       "      <th>openTime</th>\n",
       "      <th>price</th>\n",
       "      <th>realizedPL</th>\n",
       "      <th>state</th>\n",
       "    </tr>\n",
       "  </thead>\n",
       "  <tbody>\n",
       "    <tr>\n",
       "      <th>USD</th>\n",
       "      <td>9985.5252</td>\n",
       "      <td>-19.9431</td>\n",
       "      <td>-253.2716</td>\n",
       "      <td>9732.2536</td>\n",
       "      <td>498.9500</td>\n",
       "      <td>9235.1615</td>\n",
       "      <td>9979.0000</td>\n",
       "      <td>NaN</td>\n",
       "      <td>NaN</td>\n",
       "      <td>NaN</td>\n",
       "      <td>NaN</td>\n",
       "      <td>NaN</td>\n",
       "      <td>NaN</td>\n",
       "      <td>NaN</td>\n",
       "      <td>NaN</td>\n",
       "      <td>NaN</td>\n",
       "    </tr>\n",
       "    <tr>\n",
       "      <th>JPY</th>\n",
       "      <td>9979</td>\n",
       "      <td>NaN</td>\n",
       "      <td>-253.2716</td>\n",
       "      <td>NaN</td>\n",
       "      <td>498.9500</td>\n",
       "      <td>NaN</td>\n",
       "      <td>NaN</td>\n",
       "      <td>0.0000</td>\n",
       "      <td>5.7661</td>\n",
       "      <td>129</td>\n",
       "      <td>498.9500</td>\n",
       "      <td>9979</td>\n",
       "      <td>2024-11-25T23:25:04.046400159Z</td>\n",
       "      <td>154.017</td>\n",
       "      <td>0.0000</td>\n",
       "      <td>OPEN</td>\n",
       "    </tr>\n",
       "  </tbody>\n",
       "</table>\n",
       "</div>"
      ],
      "text/plain": [
       "       balance        pl unrealizedPL        NAV marginUsed marginAvailable  \\\n",
       "USD  9985.5252  -19.9431    -253.2716  9732.2536   498.9500       9235.1615   \n",
       "JPY       9979       NaN    -253.2716        NaN   498.9500             NaN   \n",
       "\n",
       "    positionValue dividendAdjustment financing   id initialMarginRequired  \\\n",
       "USD     9979.0000                NaN       NaN  NaN                   NaN   \n",
       "JPY           NaN             0.0000    5.7661  129              498.9500   \n",
       "\n",
       "    initialUnits                        openTime    price realizedPL state  \n",
       "USD          NaN                             NaN      NaN        NaN   NaN  \n",
       "JPY         9979  2024-11-25T23:25:04.046400159Z  154.017     0.0000  OPEN  "
      ]
     },
     "execution_count": 6,
     "metadata": {},
     "output_type": "execute_result"
    }
   ],
   "source": [
    "account=client.update_account()\n",
    "account"
   ]
  },
  {
   "cell_type": "code",
   "execution_count": 7,
   "metadata": {},
   "outputs": [
    {
     "data": {
      "text/html": [
       "<div>\n",
       "<style scoped>\n",
       "    .dataframe tbody tr th:only-of-type {\n",
       "        vertical-align: middle;\n",
       "    }\n",
       "\n",
       "    .dataframe tbody tr th {\n",
       "        vertical-align: top;\n",
       "    }\n",
       "\n",
       "    .dataframe thead th {\n",
       "        text-align: right;\n",
       "    }\n",
       "</style>\n",
       "<table border=\"1\" class=\"dataframe\">\n",
       "  <thead>\n",
       "    <tr style=\"text-align: right;\">\n",
       "      <th></th>\n",
       "      <th>averagePrice</th>\n",
       "      <th>dividendAdjustment</th>\n",
       "      <th>financing</th>\n",
       "      <th>guaranteedExecutionFees</th>\n",
       "      <th>pl</th>\n",
       "      <th>resettablePL</th>\n",
       "      <th>side</th>\n",
       "      <th>tradeIDs</th>\n",
       "      <th>balance</th>\n",
       "      <th>unrealizedPL</th>\n",
       "    </tr>\n",
       "    <tr>\n",
       "      <th>symbol</th>\n",
       "      <th></th>\n",
       "      <th></th>\n",
       "      <th></th>\n",
       "      <th></th>\n",
       "      <th></th>\n",
       "      <th></th>\n",
       "      <th></th>\n",
       "      <th></th>\n",
       "      <th></th>\n",
       "      <th></th>\n",
       "    </tr>\n",
       "  </thead>\n",
       "  <tbody>\n",
       "    <tr>\n",
       "      <th>USD_JPY</th>\n",
       "      <td>154.090</td>\n",
       "      <td>0.0000</td>\n",
       "      <td>-0.3041</td>\n",
       "      <td>0.0000</td>\n",
       "      <td>-2.4310</td>\n",
       "      <td>-2.4310</td>\n",
       "      <td>sell</td>\n",
       "      <td>[71]</td>\n",
       "      <td>-1464</td>\n",
       "      <td>-0.8589</td>\n",
       "    </tr>\n",
       "  </tbody>\n",
       "</table>\n",
       "</div>"
      ],
      "text/plain": [
       "        averagePrice dividendAdjustment financing guaranteedExecutionFees  \\\n",
       "symbol                                                                      \n",
       "USD_JPY      154.090             0.0000   -0.3041                  0.0000   \n",
       "\n",
       "              pl resettablePL  side tradeIDs balance unrealizedPL  \n",
       "symbol                                                             \n",
       "USD_JPY  -2.4310      -2.4310  sell     [71]   -1464      -0.8589  "
      ]
     },
     "execution_count": 7,
     "metadata": {},
     "output_type": "execute_result"
    }
   ],
   "source": [
    "client._position_frame"
   ]
  },
  {
   "cell_type": "code",
   "execution_count": 8,
   "metadata": {},
   "outputs": [],
   "source": [
    "# req=transactions.TransactionList(accountID=client.account_id)\n",
    "\n",
    "# last_id=client.trade_client.request(req)['lastTransactionID']\n",
    "# first_id='1'\n",
    "# params={'from':first_id,'to':last_id}\n",
    "# t_req=transactions.TransactionIDRange(accountID=client.account_id,params=params)\n",
    "# trans_history=client.trade_client.request(t_req)\n",
    "# trans_history['transactions']\n",
    "# trans_frame=pd.DataFrame(trans_history['transactions'])\n",
    "# trans_frame\n",
    "# trans_frame.to_pickle(f'data_forex/oanda-{client.symbol}-{time_frame}-trans_history.pkl')\n"
   ]
  },
  {
   "cell_type": "code",
   "execution_count": 9,
   "metadata": {},
   "outputs": [
    {
     "data": {
      "text/html": [
       "<div>\n",
       "<style scoped>\n",
       "    .dataframe tbody tr th:only-of-type {\n",
       "        vertical-align: middle;\n",
       "    }\n",
       "\n",
       "    .dataframe tbody tr th {\n",
       "        vertical-align: top;\n",
       "    }\n",
       "\n",
       "    .dataframe thead th {\n",
       "        text-align: right;\n",
       "    }\n",
       "</style>\n",
       "<table border=\"1\" class=\"dataframe\">\n",
       "  <thead>\n",
       "    <tr style=\"text-align: right;\">\n",
       "      <th></th>\n",
       "      <th>averagePrice</th>\n",
       "      <th>dividendAdjustment</th>\n",
       "      <th>financing</th>\n",
       "      <th>guaranteedExecutionFees</th>\n",
       "      <th>pl</th>\n",
       "      <th>resettablePL</th>\n",
       "      <th>side</th>\n",
       "      <th>tradeIDs</th>\n",
       "      <th>balance</th>\n",
       "      <th>unrealizedPL</th>\n",
       "    </tr>\n",
       "    <tr>\n",
       "      <th>symbol</th>\n",
       "      <th></th>\n",
       "      <th></th>\n",
       "      <th></th>\n",
       "      <th></th>\n",
       "      <th></th>\n",
       "      <th></th>\n",
       "      <th></th>\n",
       "      <th></th>\n",
       "      <th></th>\n",
       "      <th></th>\n",
       "    </tr>\n",
       "  </thead>\n",
       "  <tbody>\n",
       "    <tr>\n",
       "      <th>USD_JPY</th>\n",
       "      <td>154.090</td>\n",
       "      <td>0.0000</td>\n",
       "      <td>-0.3041</td>\n",
       "      <td>0.0000</td>\n",
       "      <td>-2.4310</td>\n",
       "      <td>-2.4310</td>\n",
       "      <td>sell</td>\n",
       "      <td>[71]</td>\n",
       "      <td>-1464</td>\n",
       "      <td>-0.8589</td>\n",
       "    </tr>\n",
       "  </tbody>\n",
       "</table>\n",
       "</div>"
      ],
      "text/plain": [
       "        averagePrice dividendAdjustment financing guaranteedExecutionFees  \\\n",
       "symbol                                                                      \n",
       "USD_JPY      154.090             0.0000   -0.3041                  0.0000   \n",
       "\n",
       "              pl resettablePL  side tradeIDs balance unrealizedPL  \n",
       "symbol                                                             \n",
       "USD_JPY  -2.4310      -2.4310  sell     [71]   -1464      -0.8589  "
      ]
     },
     "metadata": {},
     "output_type": "display_data"
    },
    {
     "data": {
      "text/plain": [
       "-0.044289367869961155"
      ]
     },
     "execution_count": 9,
     "metadata": {},
     "output_type": "execute_result"
    }
   ],
   "source": [
    "client.get_forex_position()"
   ]
  },
  {
   "cell_type": "code",
   "execution_count": 10,
   "metadata": {},
   "outputs": [],
   "source": [
    "# for symbol in coin_pairs:\n",
    "#     print(symbol)\n",
    "#     data=client.get_historical_data(symbol=symbol,start_date=datetime.datetime(2024,1,1))\n",
    "#     display(data.head(5))\n",
    "#     pair_name=re.sub(r'/|-|_','',symbol)\n",
    "#     data.to_pickle(f'data_forex/oanda-{pair_name}-{time_frame}.pkl')\n",
    "\n"
   ]
  },
  {
   "cell_type": "code",
   "execution_count": 11,
   "metadata": {},
   "outputs": [
    {
     "name": "stdout",
     "output_type": "stream",
     "text": [
      "{\"orderRejectTransaction\":{\"id\":\"72\",\"accountID\":\"101-001-22524644-006\",\"userID\":22524644,\"batchID\":\"72\",\"requestID\":\"97338894170720384\",\"time\":\"2024-11-25T19:52:39.124664670Z\",\"type\":\"MARKET_ORDER_REJECT\",\"rejectReason\":\"UNITS_INVALID\",\"instrument\":\"USD_JPY\",\"units\":\"0\",\"timeInForce\":\"FOK\",\"positionFill\":\"DEFAULT\",\"reason\":\"CLIENT_ORDER\"},\"relatedTransactionIDs\":[\"72\"],\"lastTransactionID\":\"72\",\"errorMessage\":\"Order units specified are invalid\",\"errorCode\":\"UNITS_INVALID\"}\n"
     ]
    }
   ],
   "source": [
    "resp=client.buy(symbol='USD_JPY',quote_size=1)\n"
   ]
  },
  {
   "cell_type": "code",
   "execution_count": 12,
   "metadata": {},
   "outputs": [
    {
     "data": {
      "text/plain": [
       "{'success': False,\n",
       " 'error': '{\"orderRejectTransaction\":{\"id\":\"72\",\"accountID\":\"101-001-22524644-006\",\"userID\":22524644,\"batchID\":\"72\",\"requestID\":\"97338894170720384\",\"time\":\"2024-11-25T19:52:39.124664670Z\",\"type\":\"MARKET_ORDER_REJECT\",\"rejectReason\":\"UNITS_INVALID\",\"instrument\":\"USD_JPY\",\"units\":\"0\",\"timeInForce\":\"FOK\",\"positionFill\":\"DEFAULT\",\"reason\":\"CLIENT_ORDER\"},\"relatedTransactionIDs\":[\"72\"],\"lastTransactionID\":\"72\",\"errorMessage\":\"Order units specified are invalid\",\"errorCode\":\"UNITS_INVALID\"}'}"
      ]
     },
     "execution_count": 12,
     "metadata": {},
     "output_type": "execute_result"
    }
   ],
   "source": [
    "resp"
   ]
  },
  {
   "cell_type": "code",
   "execution_count": 13,
   "metadata": {},
   "outputs": [
    {
     "ename": "AttributeError",
     "evalue": "module 'oandapyV20.endpoints.instruments' has no attribute 'Instrument'",
     "output_type": "error",
     "traceback": [
      "\u001b[0;31m---------------------------------------------------------------------------\u001b[0m",
      "\u001b[0;31mAttributeError\u001b[0m                            Traceback (most recent call last)",
      "\u001b[1;32m/Users/sebastiancoombs/Documents/Git/MultiTrader/Build Oanda Client.ipynb Cell 13\u001b[0m line \u001b[0;36m3\n\u001b[1;32m      <a href='vscode-notebook-cell:/Users/sebastiancoombs/Documents/Git/MultiTrader/Build%20Oanda%20Client.ipynb#X14sZmlsZQ%3D%3D?line=0'>1</a>\u001b[0m params\u001b[39m=\u001b[39m{\u001b[39m\"\u001b[39m\u001b[39minstruments\u001b[39m\u001b[39m\"\u001b[39m:client\u001b[39m.\u001b[39msymbol}\n\u001b[0;32m----> <a href='vscode-notebook-cell:/Users/sebastiancoombs/Documents/Git/MultiTrader/Build%20Oanda%20Client.ipynb#X14sZmlsZQ%3D%3D?line=2'>3</a>\u001b[0m req\u001b[39m=\u001b[39minstruments\u001b[39m.\u001b[39;49mInstrument(client\u001b[39m.\u001b[39maccount_id, params\u001b[39m=\u001b[39mparams)\n\u001b[1;32m      <a href='vscode-notebook-cell:/Users/sebastiancoombs/Documents/Git/MultiTrader/Build%20Oanda%20Client.ipynb#X14sZmlsZQ%3D%3D?line=3'>4</a>\u001b[0m trade_info\u001b[39m=\u001b[39mclient\u001b[39m.\u001b[39mtrade_client\u001b[39m.\u001b[39mrequest(req)\n\u001b[1;32m      <a href='vscode-notebook-cell:/Users/sebastiancoombs/Documents/Git/MultiTrader/Build%20Oanda%20Client.ipynb#X14sZmlsZQ%3D%3D?line=4'>5</a>\u001b[0m trade_info\u001b[39m.\u001b[39mkeys()\n",
      "\u001b[0;31mAttributeError\u001b[0m: module 'oandapyV20.endpoints.instruments' has no attribute 'Instrument'"
     ]
    }
   ],
   "source": [
    "params={\"instruments\":client.symbol}\n",
    "\n",
    "req=instruments.Instrument(client.account_id, params=params)\n",
    "trade_info=client.trade_client.request(req)\n",
    "trade_info.keys()\n",
    "pricing\n"
   ]
  },
  {
   "cell_type": "code",
   "execution_count": null,
   "metadata": {},
   "outputs": [],
   "source": [
    "strip_symbol=r'/|_|-|USD'\n",
    "symbol='USD-JPY'\n",
    "base_asset= re.sub(strip_symbol,'',symbol)\n",
    "base_asset\n"
   ]
  },
  {
   "cell_type": "code",
   "execution_count": 37,
   "metadata": {},
   "outputs": [],
   "source": [
    "def strip_quote(symbol,quote_asset):\n",
    "    if symbol==quote_asset:\n",
    "        return symbol\n",
    "    else:\n",
    "        strip_pattern=f'/|_|-|{quote_asset}$'\n",
    "        asset=re.sub(strip_pattern,'',symbol)\n",
    "        return asset\n",
    "\n"
   ]
  },
  {
   "cell_type": "code",
   "execution_count": null,
   "metadata": {},
   "outputs": [],
   "source": [
    "[strip_quote(symbol,client.base_asset) for symbol in client._account.index]"
   ]
  },
  {
   "cell_type": "code",
   "execution_count": null,
   "metadata": {},
   "outputs": [],
   "source": [
    "\n",
    "account_frame=pd.DataFrame([account])\n",
    "\n",
    "account_frame.rename(columns={'currency':'symbol'},inplace=True)\n",
    "account_frame.set_index('symbol',inplace=True)\n",
    "\n",
    "account_frame=account_frame[['balance','pl','unrealizedPL','NAV','marginUsed','marginAvailable','positionValue']]\n",
    "\n",
    "account_frame"
   ]
  },
  {
   "cell_type": "code",
   "execution_count": null,
   "metadata": {},
   "outputs": [],
   "source": []
  },
  {
   "cell_type": "code",
   "execution_count": null,
   "metadata": {},
   "outputs": [],
   "source": [
    "trade_frame=pd.DataFrame(trades)\n",
    "trade_frame.rename(columns={'instrument':'symbol','currentUnits':'balance'},inplace=True)\n",
    "trade_frame.set_index('symbol',inplace=True)\n",
    "trade_frame\n",
    "\n",
    "\n"
   ]
  },
  {
   "cell_type": "code",
   "execution_count": null,
   "metadata": {},
   "outputs": [],
   "source": [
    "full_account_frame=pd.concat([account_frame,trade_frame],axis=0)\n",
    "\n",
    "full_account_frame"
   ]
  },
  {
   "cell_type": "code",
   "execution_count": null,
   "metadata": {},
   "outputs": [],
   "source": [
    "positions=client.trade_client.list_futures_positions()\n",
    "positions=pd.DataFrame(positions['positions'])\n",
    "positions=positions.set_index('product_id')\n",
    "positions"
   ]
  },
  {
   "cell_type": "code",
   "execution_count": null,
   "metadata": {},
   "outputs": [],
   "source": [
    "positions"
   ]
  },
  {
   "cell_type": "code",
   "execution_count": null,
   "metadata": {},
   "outputs": [],
   "source": []
  },
  {
   "cell_type": "code",
   "execution_count": null,
   "metadata": {},
   "outputs": [],
   "source": [
    "\n",
    "product_frame=pd.DataFrame(products['products'])\n",
    "product_frame=product_frame[product_frame['view_only']==False]\n",
    "\n",
    "# product_frame=product_frame[product_frame['trading_disabled']==False]\n",
    "\n",
    "product_frame"
   ]
  },
  {
   "cell_type": "code",
   "execution_count": null,
   "metadata": {},
   "outputs": [],
   "source": [
    "trade_info"
   ]
  },
  {
   "cell_type": "code",
   "execution_count": null,
   "metadata": {},
   "outputs": [],
   "source": [
    "# products=client.trade_client.get_products()\n",
    "now=datetime.datetime.now()\n",
    "start_time=now-datetime.timedelta(hours=input_size*2)\n",
    "\n",
    "int(now.timestamp())"
   ]
  },
  {
   "cell_type": "code",
   "execution_count": null,
   "metadata": {},
   "outputs": [],
   "source": [
    "fills=client.get_orders()\n",
    "fills"
   ]
  },
  {
   "cell_type": "code",
   "execution_count": null,
   "metadata": {},
   "outputs": [],
   "source": [
    "time.sleep(10)"
   ]
  },
  {
   "cell_type": "code",
   "execution_count": null,
   "metadata": {},
   "outputs": [],
   "source": [
    "client.sell('BTC-USDC',base_size='.000014')"
   ]
  },
  {
   "cell_type": "code",
   "execution_count": null,
   "metadata": {},
   "outputs": [],
   "source": [
    "time.sleep(10)"
   ]
  },
  {
   "cell_type": "code",
   "execution_count": null,
   "metadata": {},
   "outputs": [],
   "source": [
    "fills=client.get_orders()\n",
    "fills"
   ]
  },
  {
   "cell_type": "code",
   "execution_count": null,
   "metadata": {},
   "outputs": [],
   "source": []
  }
 ],
 "metadata": {
  "kernelspec": {
   "display_name": "agent_env",
   "language": "python",
   "name": "python3"
  },
  "language_info": {
   "codemirror_mode": {
    "name": "ipython",
    "version": 3
   },
   "file_extension": ".py",
   "mimetype": "text/x-python",
   "name": "python",
   "nbconvert_exporter": "python",
   "pygments_lexer": "ipython3",
   "version": "3.10.13"
  }
 },
 "nbformat": 4,
 "nbformat_minor": 2
}
