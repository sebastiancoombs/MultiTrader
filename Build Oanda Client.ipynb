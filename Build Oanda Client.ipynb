{
 "cells": [
  {
   "cell_type": "code",
   "execution_count": 8,
   "metadata": {},
   "outputs": [],
   "source": [
    "from utils.utils import build_market_image, prepare_forecast_data\n",
    "# from environments.live_environments import LiveTradingEnv\n",
    "from utils.clients import OandaClient\n",
    "from Keys import *\n",
    "# from utils.mappings import oanda_time_map\n",
    "from utils.reward_functions import sharpe_reward_function\n",
    "import pandas as pd\n",
    "from json import dumps\n",
    "\n",
    "import time\n",
    "import datetime\n",
    "\n"
   ]
  },
  {
   "cell_type": "code",
   "execution_count": 9,
   "metadata": {},
   "outputs": [],
   "source": [
    "# from neuralforecast.core import NeuralForecast\n",
    "# forecasting_model=NeuralForecast.load('MultiHeadForecastingModel/')\n",
    "# agent_dir='Agent/final_checkpoints/policies/default_policy'\n"
   ]
  },
  {
   "cell_type": "code",
   "execution_count": 10,
   "metadata": {},
   "outputs": [
    {
     "data": {
      "text/plain": [
       "'USD/JPY'"
      ]
     },
     "execution_count": 10,
     "metadata": {},
     "output_type": "execute_result"
    }
   ],
   "source": [
    "\n",
    "from configs import defaults\n",
    "\n",
    "base_asset=defaults.base_asset\n",
    "quote_asset=defaults.quote_asset\n",
    "test_net=True\n",
    "time_frame=defaults.time_frame\n",
    "positions=defaults.env_config['positions']\n",
    "\n",
    "product_type=defaults.product_type\n",
    "\n",
    "exchange=defaults.exchange\n",
    "trade_target='/'.join([base_asset,quote_asset]) \n",
    "agent_path=defaults.agent_path\n",
    "coin_pairs=defaults.COIN_PAIRS\n",
    "trade_target"
   ]
  },
  {
   "cell_type": "code",
   "execution_count": 11,
   "metadata": {},
   "outputs": [
    {
     "data": {
      "text/plain": [
       "(<oandapyV20.oandapyV20.API at 0x12cc6c220>,\n",
       " 'USD',\n",
       " 'JPY',\n",
       " 'USD_JPY',\n",
       " '1h',\n",
       " 'H1')"
      ]
     },
     "execution_count": 11,
     "metadata": {},
     "output_type": "execute_result"
    }
   ],
   "source": [
    "client=OandaClient(api_key=oanda_api_key,\n",
    "                    account_id=oanda_account_id,\n",
    "                    paper=test_net,\n",
    "                    symbol=trade_target,\n",
    "                    time_frame=time_frame,\n",
    "                    product_type=product_type\n",
    "\n",
    "                    )\n",
    "client.trade_client,client.base_asset,client.quote_asset,client.symbol,client.time_frame,client.oanda_time_frame\n",
    "\n"
   ]
  },
  {
   "cell_type": "code",
   "execution_count": 12,
   "metadata": {},
   "outputs": [],
   "source": [
    "from oandapyV20.endpoints import accounts, orders, pricing, instruments,transactions\n",
    "import re"
   ]
  },
  {
   "cell_type": "code",
   "execution_count": 13,
   "metadata": {},
   "outputs": [
    {
     "data": {
      "text/html": [
       "<div>\n",
       "<style scoped>\n",
       "    .dataframe tbody tr th:only-of-type {\n",
       "        vertical-align: middle;\n",
       "    }\n",
       "\n",
       "    .dataframe tbody tr th {\n",
       "        vertical-align: top;\n",
       "    }\n",
       "\n",
       "    .dataframe thead th {\n",
       "        text-align: right;\n",
       "    }\n",
       "</style>\n",
       "<table border=\"1\" class=\"dataframe\">\n",
       "  <thead>\n",
       "    <tr style=\"text-align: right;\">\n",
       "      <th></th>\n",
       "      <th>balance</th>\n",
       "      <th>pl</th>\n",
       "      <th>unrealizedPL</th>\n",
       "      <th>NAV</th>\n",
       "      <th>marginUsed</th>\n",
       "      <th>marginAvailable</th>\n",
       "      <th>positionValue</th>\n",
       "    </tr>\n",
       "  </thead>\n",
       "  <tbody>\n",
       "    <tr>\n",
       "      <th>USD</th>\n",
       "      <td>9997.2558</td>\n",
       "      <td>-2.4401</td>\n",
       "      <td>0.0000</td>\n",
       "      <td>9997.2558</td>\n",
       "      <td>0.0000</td>\n",
       "      <td>9997.2558</td>\n",
       "      <td>0.0000</td>\n",
       "    </tr>\n",
       "  </tbody>\n",
       "</table>\n",
       "</div>"
      ],
      "text/plain": [
       "       balance       pl unrealizedPL        NAV marginUsed marginAvailable  \\\n",
       "USD  9997.2558  -2.4401       0.0000  9997.2558     0.0000       9997.2558   \n",
       "\n",
       "    positionValue  \n",
       "USD        0.0000  "
      ]
     },
     "execution_count": 13,
     "metadata": {},
     "output_type": "execute_result"
    }
   ],
   "source": [
    "account=client.update_account()\n",
    "account"
   ]
  },
  {
   "cell_type": "code",
   "execution_count": 16,
   "metadata": {},
   "outputs": [
    {
     "data": {
      "text/plain": [
       "0"
      ]
     },
     "execution_count": 16,
     "metadata": {},
     "output_type": "execute_result"
    }
   ],
   "source": [
    "client.get_forex_position()"
   ]
  },
  {
   "cell_type": "code",
   "execution_count": 15,
   "metadata": {},
   "outputs": [
    {
     "name": "stdout",
     "output_type": "stream",
     "text": [
      "EUR_USD\n"
     ]
    },
    {
     "data": {
      "text/html": [
       "<div>\n",
       "<style scoped>\n",
       "    .dataframe tbody tr th:only-of-type {\n",
       "        vertical-align: middle;\n",
       "    }\n",
       "\n",
       "    .dataframe tbody tr th {\n",
       "        vertical-align: top;\n",
       "    }\n",
       "\n",
       "    .dataframe thead th {\n",
       "        text-align: right;\n",
       "    }\n",
       "</style>\n",
       "<table border=\"1\" class=\"dataframe\">\n",
       "  <thead>\n",
       "    <tr style=\"text-align: right;\">\n",
       "      <th></th>\n",
       "      <th>date_close</th>\n",
       "      <th>open</th>\n",
       "      <th>high</th>\n",
       "      <th>low</th>\n",
       "      <th>close</th>\n",
       "      <th>volume</th>\n",
       "      <th>symbol</th>\n",
       "    </tr>\n",
       "  </thead>\n",
       "  <tbody>\n",
       "    <tr>\n",
       "      <th>0</th>\n",
       "      <td>2024-01-01T22:00:00</td>\n",
       "      <td>1.10440</td>\n",
       "      <td>1.10453</td>\n",
       "      <td>1.10430</td>\n",
       "      <td>1.10450</td>\n",
       "      <td>188</td>\n",
       "      <td>EUR_USD</td>\n",
       "    </tr>\n",
       "    <tr>\n",
       "      <th>1</th>\n",
       "      <td>2024-01-01T23:00:00</td>\n",
       "      <td>1.10446</td>\n",
       "      <td>1.10446</td>\n",
       "      <td>1.10356</td>\n",
       "      <td>1.10368</td>\n",
       "      <td>1018</td>\n",
       "      <td>EUR_USD</td>\n",
       "    </tr>\n",
       "    <tr>\n",
       "      <th>2</th>\n",
       "      <td>2024-01-02T00:00:00</td>\n",
       "      <td>1.10367</td>\n",
       "      <td>1.10386</td>\n",
       "      <td>1.10342</td>\n",
       "      <td>1.10384</td>\n",
       "      <td>1328</td>\n",
       "      <td>EUR_USD</td>\n",
       "    </tr>\n",
       "    <tr>\n",
       "      <th>3</th>\n",
       "      <td>2024-01-02T01:00:00</td>\n",
       "      <td>1.10380</td>\n",
       "      <td>1.10434</td>\n",
       "      <td>1.10342</td>\n",
       "      <td>1.10350</td>\n",
       "      <td>2435</td>\n",
       "      <td>EUR_USD</td>\n",
       "    </tr>\n",
       "    <tr>\n",
       "      <th>4</th>\n",
       "      <td>2024-01-02T02:00:00</td>\n",
       "      <td>1.10351</td>\n",
       "      <td>1.10359</td>\n",
       "      <td>1.10184</td>\n",
       "      <td>1.10190</td>\n",
       "      <td>1968</td>\n",
       "      <td>EUR_USD</td>\n",
       "    </tr>\n",
       "  </tbody>\n",
       "</table>\n",
       "</div>"
      ],
      "text/plain": [
       "            date_close     open     high      low    close  volume   symbol\n",
       "0  2024-01-01T22:00:00  1.10440  1.10453  1.10430  1.10450     188  EUR_USD\n",
       "1  2024-01-01T23:00:00  1.10446  1.10446  1.10356  1.10368    1018  EUR_USD\n",
       "2  2024-01-02T00:00:00  1.10367  1.10386  1.10342  1.10384    1328  EUR_USD\n",
       "3  2024-01-02T01:00:00  1.10380  1.10434  1.10342  1.10350    2435  EUR_USD\n",
       "4  2024-01-02T02:00:00  1.10351  1.10359  1.10184  1.10190    1968  EUR_USD"
      ]
     },
     "metadata": {},
     "output_type": "display_data"
    },
    {
     "name": "stdout",
     "output_type": "stream",
     "text": [
      "USD_JPY\n"
     ]
    },
    {
     "data": {
      "text/html": [
       "<div>\n",
       "<style scoped>\n",
       "    .dataframe tbody tr th:only-of-type {\n",
       "        vertical-align: middle;\n",
       "    }\n",
       "\n",
       "    .dataframe tbody tr th {\n",
       "        vertical-align: top;\n",
       "    }\n",
       "\n",
       "    .dataframe thead th {\n",
       "        text-align: right;\n",
       "    }\n",
       "</style>\n",
       "<table border=\"1\" class=\"dataframe\">\n",
       "  <thead>\n",
       "    <tr style=\"text-align: right;\">\n",
       "      <th></th>\n",
       "      <th>date_close</th>\n",
       "      <th>open</th>\n",
       "      <th>high</th>\n",
       "      <th>low</th>\n",
       "      <th>close</th>\n",
       "      <th>volume</th>\n",
       "      <th>symbol</th>\n",
       "    </tr>\n",
       "  </thead>\n",
       "  <tbody>\n",
       "    <tr>\n",
       "      <th>0</th>\n",
       "      <td>2024-01-01T22:00:00</td>\n",
       "      <td>140.858</td>\n",
       "      <td>140.993</td>\n",
       "      <td>140.858</td>\n",
       "      <td>140.902</td>\n",
       "      <td>388</td>\n",
       "      <td>USD_JPY</td>\n",
       "    </tr>\n",
       "    <tr>\n",
       "      <th>1</th>\n",
       "      <td>2024-01-01T23:00:00</td>\n",
       "      <td>140.902</td>\n",
       "      <td>141.132</td>\n",
       "      <td>140.811</td>\n",
       "      <td>141.116</td>\n",
       "      <td>3558</td>\n",
       "      <td>USD_JPY</td>\n",
       "    </tr>\n",
       "    <tr>\n",
       "      <th>2</th>\n",
       "      <td>2024-01-02T00:00:00</td>\n",
       "      <td>141.115</td>\n",
       "      <td>141.384</td>\n",
       "      <td>141.100</td>\n",
       "      <td>141.142</td>\n",
       "      <td>3790</td>\n",
       "      <td>USD_JPY</td>\n",
       "    </tr>\n",
       "    <tr>\n",
       "      <th>3</th>\n",
       "      <td>2024-01-02T01:00:00</td>\n",
       "      <td>141.146</td>\n",
       "      <td>141.458</td>\n",
       "      <td>141.142</td>\n",
       "      <td>141.440</td>\n",
       "      <td>4419</td>\n",
       "      <td>USD_JPY</td>\n",
       "    </tr>\n",
       "    <tr>\n",
       "      <th>4</th>\n",
       "      <td>2024-01-02T02:00:00</td>\n",
       "      <td>141.441</td>\n",
       "      <td>141.673</td>\n",
       "      <td>141.366</td>\n",
       "      <td>141.565</td>\n",
       "      <td>3846</td>\n",
       "      <td>USD_JPY</td>\n",
       "    </tr>\n",
       "  </tbody>\n",
       "</table>\n",
       "</div>"
      ],
      "text/plain": [
       "            date_close     open     high      low    close  volume   symbol\n",
       "0  2024-01-01T22:00:00  140.858  140.993  140.858  140.902     388  USD_JPY\n",
       "1  2024-01-01T23:00:00  140.902  141.132  140.811  141.116    3558  USD_JPY\n",
       "2  2024-01-02T00:00:00  141.115  141.384  141.100  141.142    3790  USD_JPY\n",
       "3  2024-01-02T01:00:00  141.146  141.458  141.142  141.440    4419  USD_JPY\n",
       "4  2024-01-02T02:00:00  141.441  141.673  141.366  141.565    3846  USD_JPY"
      ]
     },
     "metadata": {},
     "output_type": "display_data"
    },
    {
     "name": "stdout",
     "output_type": "stream",
     "text": [
      "GBP_USD\n"
     ]
    },
    {
     "data": {
      "text/html": [
       "<div>\n",
       "<style scoped>\n",
       "    .dataframe tbody tr th:only-of-type {\n",
       "        vertical-align: middle;\n",
       "    }\n",
       "\n",
       "    .dataframe tbody tr th {\n",
       "        vertical-align: top;\n",
       "    }\n",
       "\n",
       "    .dataframe thead th {\n",
       "        text-align: right;\n",
       "    }\n",
       "</style>\n",
       "<table border=\"1\" class=\"dataframe\">\n",
       "  <thead>\n",
       "    <tr style=\"text-align: right;\">\n",
       "      <th></th>\n",
       "      <th>date_close</th>\n",
       "      <th>open</th>\n",
       "      <th>high</th>\n",
       "      <th>low</th>\n",
       "      <th>close</th>\n",
       "      <th>volume</th>\n",
       "      <th>symbol</th>\n",
       "    </tr>\n",
       "  </thead>\n",
       "  <tbody>\n",
       "    <tr>\n",
       "      <th>0</th>\n",
       "      <td>2024-01-01T22:00:00</td>\n",
       "      <td>1.27264</td>\n",
       "      <td>1.27333</td>\n",
       "      <td>1.27221</td>\n",
       "      <td>1.27300</td>\n",
       "      <td>374</td>\n",
       "      <td>GBP_USD</td>\n",
       "    </tr>\n",
       "    <tr>\n",
       "      <th>1</th>\n",
       "      <td>2024-01-01T23:00:00</td>\n",
       "      <td>1.27312</td>\n",
       "      <td>1.27356</td>\n",
       "      <td>1.27265</td>\n",
       "      <td>1.27278</td>\n",
       "      <td>1798</td>\n",
       "      <td>GBP_USD</td>\n",
       "    </tr>\n",
       "    <tr>\n",
       "      <th>2</th>\n",
       "      <td>2024-01-02T00:00:00</td>\n",
       "      <td>1.27280</td>\n",
       "      <td>1.27300</td>\n",
       "      <td>1.27217</td>\n",
       "      <td>1.27258</td>\n",
       "      <td>2973</td>\n",
       "      <td>GBP_USD</td>\n",
       "    </tr>\n",
       "    <tr>\n",
       "      <th>3</th>\n",
       "      <td>2024-01-02T01:00:00</td>\n",
       "      <td>1.27256</td>\n",
       "      <td>1.27336</td>\n",
       "      <td>1.27204</td>\n",
       "      <td>1.27210</td>\n",
       "      <td>4508</td>\n",
       "      <td>GBP_USD</td>\n",
       "    </tr>\n",
       "    <tr>\n",
       "      <th>4</th>\n",
       "      <td>2024-01-02T02:00:00</td>\n",
       "      <td>1.27208</td>\n",
       "      <td>1.27258</td>\n",
       "      <td>1.27101</td>\n",
       "      <td>1.27109</td>\n",
       "      <td>3170</td>\n",
       "      <td>GBP_USD</td>\n",
       "    </tr>\n",
       "  </tbody>\n",
       "</table>\n",
       "</div>"
      ],
      "text/plain": [
       "            date_close     open     high      low    close  volume   symbol\n",
       "0  2024-01-01T22:00:00  1.27264  1.27333  1.27221  1.27300     374  GBP_USD\n",
       "1  2024-01-01T23:00:00  1.27312  1.27356  1.27265  1.27278    1798  GBP_USD\n",
       "2  2024-01-02T00:00:00  1.27280  1.27300  1.27217  1.27258    2973  GBP_USD\n",
       "3  2024-01-02T01:00:00  1.27256  1.27336  1.27204  1.27210    4508  GBP_USD\n",
       "4  2024-01-02T02:00:00  1.27208  1.27258  1.27101  1.27109    3170  GBP_USD"
      ]
     },
     "metadata": {},
     "output_type": "display_data"
    },
    {
     "name": "stdout",
     "output_type": "stream",
     "text": [
      "AUD_USD\n"
     ]
    },
    {
     "data": {
      "text/html": [
       "<div>\n",
       "<style scoped>\n",
       "    .dataframe tbody tr th:only-of-type {\n",
       "        vertical-align: middle;\n",
       "    }\n",
       "\n",
       "    .dataframe tbody tr th {\n",
       "        vertical-align: top;\n",
       "    }\n",
       "\n",
       "    .dataframe thead th {\n",
       "        text-align: right;\n",
       "    }\n",
       "</style>\n",
       "<table border=\"1\" class=\"dataframe\">\n",
       "  <thead>\n",
       "    <tr style=\"text-align: right;\">\n",
       "      <th></th>\n",
       "      <th>date_close</th>\n",
       "      <th>open</th>\n",
       "      <th>high</th>\n",
       "      <th>low</th>\n",
       "      <th>close</th>\n",
       "      <th>volume</th>\n",
       "      <th>symbol</th>\n",
       "    </tr>\n",
       "  </thead>\n",
       "  <tbody>\n",
       "    <tr>\n",
       "      <th>0</th>\n",
       "      <td>2024-01-01T22:00:00</td>\n",
       "      <td>0.68116</td>\n",
       "      <td>0.68188</td>\n",
       "      <td>0.68063</td>\n",
       "      <td>0.68074</td>\n",
       "      <td>456</td>\n",
       "      <td>AUD_USD</td>\n",
       "    </tr>\n",
       "    <tr>\n",
       "      <th>1</th>\n",
       "      <td>2024-01-01T23:00:00</td>\n",
       "      <td>0.68074</td>\n",
       "      <td>0.68128</td>\n",
       "      <td>0.68064</td>\n",
       "      <td>0.68094</td>\n",
       "      <td>912</td>\n",
       "      <td>AUD_USD</td>\n",
       "    </tr>\n",
       "    <tr>\n",
       "      <th>2</th>\n",
       "      <td>2024-01-02T00:00:00</td>\n",
       "      <td>0.68098</td>\n",
       "      <td>0.68144</td>\n",
       "      <td>0.68086</td>\n",
       "      <td>0.68140</td>\n",
       "      <td>779</td>\n",
       "      <td>AUD_USD</td>\n",
       "    </tr>\n",
       "    <tr>\n",
       "      <th>3</th>\n",
       "      <td>2024-01-02T01:00:00</td>\n",
       "      <td>0.68137</td>\n",
       "      <td>0.68228</td>\n",
       "      <td>0.68104</td>\n",
       "      <td>0.68124</td>\n",
       "      <td>2603</td>\n",
       "      <td>AUD_USD</td>\n",
       "    </tr>\n",
       "    <tr>\n",
       "      <th>4</th>\n",
       "      <td>2024-01-02T02:00:00</td>\n",
       "      <td>0.68127</td>\n",
       "      <td>0.68138</td>\n",
       "      <td>0.68028</td>\n",
       "      <td>0.68043</td>\n",
       "      <td>1671</td>\n",
       "      <td>AUD_USD</td>\n",
       "    </tr>\n",
       "  </tbody>\n",
       "</table>\n",
       "</div>"
      ],
      "text/plain": [
       "            date_close     open     high      low    close  volume   symbol\n",
       "0  2024-01-01T22:00:00  0.68116  0.68188  0.68063  0.68074     456  AUD_USD\n",
       "1  2024-01-01T23:00:00  0.68074  0.68128  0.68064  0.68094     912  AUD_USD\n",
       "2  2024-01-02T00:00:00  0.68098  0.68144  0.68086  0.68140     779  AUD_USD\n",
       "3  2024-01-02T01:00:00  0.68137  0.68228  0.68104  0.68124    2603  AUD_USD\n",
       "4  2024-01-02T02:00:00  0.68127  0.68138  0.68028  0.68043    1671  AUD_USD"
      ]
     },
     "metadata": {},
     "output_type": "display_data"
    },
    {
     "name": "stdout",
     "output_type": "stream",
     "text": [
      "USD_CAD\n"
     ]
    },
    {
     "data": {
      "text/html": [
       "<div>\n",
       "<style scoped>\n",
       "    .dataframe tbody tr th:only-of-type {\n",
       "        vertical-align: middle;\n",
       "    }\n",
       "\n",
       "    .dataframe tbody tr th {\n",
       "        vertical-align: top;\n",
       "    }\n",
       "\n",
       "    .dataframe thead th {\n",
       "        text-align: right;\n",
       "    }\n",
       "</style>\n",
       "<table border=\"1\" class=\"dataframe\">\n",
       "  <thead>\n",
       "    <tr style=\"text-align: right;\">\n",
       "      <th></th>\n",
       "      <th>date_close</th>\n",
       "      <th>open</th>\n",
       "      <th>high</th>\n",
       "      <th>low</th>\n",
       "      <th>close</th>\n",
       "      <th>volume</th>\n",
       "      <th>symbol</th>\n",
       "    </tr>\n",
       "  </thead>\n",
       "  <tbody>\n",
       "    <tr>\n",
       "      <th>0</th>\n",
       "      <td>2024-01-01T22:00:00</td>\n",
       "      <td>1.32380</td>\n",
       "      <td>1.32563</td>\n",
       "      <td>1.32343</td>\n",
       "      <td>1.32449</td>\n",
       "      <td>306</td>\n",
       "      <td>USD_CAD</td>\n",
       "    </tr>\n",
       "    <tr>\n",
       "      <th>1</th>\n",
       "      <td>2024-01-01T23:00:00</td>\n",
       "      <td>1.32458</td>\n",
       "      <td>1.32484</td>\n",
       "      <td>1.32409</td>\n",
       "      <td>1.32448</td>\n",
       "      <td>873</td>\n",
       "      <td>USD_CAD</td>\n",
       "    </tr>\n",
       "    <tr>\n",
       "      <th>2</th>\n",
       "      <td>2024-01-02T00:00:00</td>\n",
       "      <td>1.32446</td>\n",
       "      <td>1.32478</td>\n",
       "      <td>1.32430</td>\n",
       "      <td>1.32451</td>\n",
       "      <td>913</td>\n",
       "      <td>USD_CAD</td>\n",
       "    </tr>\n",
       "    <tr>\n",
       "      <th>3</th>\n",
       "      <td>2024-01-02T01:00:00</td>\n",
       "      <td>1.32454</td>\n",
       "      <td>1.32454</td>\n",
       "      <td>1.32289</td>\n",
       "      <td>1.32420</td>\n",
       "      <td>2704</td>\n",
       "      <td>USD_CAD</td>\n",
       "    </tr>\n",
       "    <tr>\n",
       "      <th>4</th>\n",
       "      <td>2024-01-02T02:00:00</td>\n",
       "      <td>1.32410</td>\n",
       "      <td>1.32552</td>\n",
       "      <td>1.32395</td>\n",
       "      <td>1.32541</td>\n",
       "      <td>1479</td>\n",
       "      <td>USD_CAD</td>\n",
       "    </tr>\n",
       "  </tbody>\n",
       "</table>\n",
       "</div>"
      ],
      "text/plain": [
       "            date_close     open     high      low    close  volume   symbol\n",
       "0  2024-01-01T22:00:00  1.32380  1.32563  1.32343  1.32449     306  USD_CAD\n",
       "1  2024-01-01T23:00:00  1.32458  1.32484  1.32409  1.32448     873  USD_CAD\n",
       "2  2024-01-02T00:00:00  1.32446  1.32478  1.32430  1.32451     913  USD_CAD\n",
       "3  2024-01-02T01:00:00  1.32454  1.32454  1.32289  1.32420    2704  USD_CAD\n",
       "4  2024-01-02T02:00:00  1.32410  1.32552  1.32395  1.32541    1479  USD_CAD"
      ]
     },
     "metadata": {},
     "output_type": "display_data"
    },
    {
     "name": "stdout",
     "output_type": "stream",
     "text": [
      "USD_CHF\n"
     ]
    },
    {
     "data": {
      "text/html": [
       "<div>\n",
       "<style scoped>\n",
       "    .dataframe tbody tr th:only-of-type {\n",
       "        vertical-align: middle;\n",
       "    }\n",
       "\n",
       "    .dataframe tbody tr th {\n",
       "        vertical-align: top;\n",
       "    }\n",
       "\n",
       "    .dataframe thead th {\n",
       "        text-align: right;\n",
       "    }\n",
       "</style>\n",
       "<table border=\"1\" class=\"dataframe\">\n",
       "  <thead>\n",
       "    <tr style=\"text-align: right;\">\n",
       "      <th></th>\n",
       "      <th>date_close</th>\n",
       "      <th>open</th>\n",
       "      <th>high</th>\n",
       "      <th>low</th>\n",
       "      <th>close</th>\n",
       "      <th>volume</th>\n",
       "      <th>symbol</th>\n",
       "    </tr>\n",
       "  </thead>\n",
       "  <tbody>\n",
       "    <tr>\n",
       "      <th>0</th>\n",
       "      <td>2024-01-01T22:00:00</td>\n",
       "      <td>0.84052</td>\n",
       "      <td>0.84071</td>\n",
       "      <td>0.83969</td>\n",
       "      <td>0.84021</td>\n",
       "      <td>21</td>\n",
       "      <td>USD_CHF</td>\n",
       "    </tr>\n",
       "    <tr>\n",
       "      <th>1</th>\n",
       "      <td>2024-01-01T23:00:00</td>\n",
       "      <td>0.84033</td>\n",
       "      <td>0.84238</td>\n",
       "      <td>0.84033</td>\n",
       "      <td>0.84198</td>\n",
       "      <td>1294</td>\n",
       "      <td>USD_CHF</td>\n",
       "    </tr>\n",
       "    <tr>\n",
       "      <th>2</th>\n",
       "      <td>2024-01-02T00:00:00</td>\n",
       "      <td>0.84200</td>\n",
       "      <td>0.84264</td>\n",
       "      <td>0.84176</td>\n",
       "      <td>0.84255</td>\n",
       "      <td>1113</td>\n",
       "      <td>USD_CHF</td>\n",
       "    </tr>\n",
       "    <tr>\n",
       "      <th>3</th>\n",
       "      <td>2024-01-02T01:00:00</td>\n",
       "      <td>0.84254</td>\n",
       "      <td>0.84266</td>\n",
       "      <td>0.84192</td>\n",
       "      <td>0.84264</td>\n",
       "      <td>1278</td>\n",
       "      <td>USD_CHF</td>\n",
       "    </tr>\n",
       "    <tr>\n",
       "      <th>4</th>\n",
       "      <td>2024-01-02T02:00:00</td>\n",
       "      <td>0.84262</td>\n",
       "      <td>0.84477</td>\n",
       "      <td>0.84256</td>\n",
       "      <td>0.84476</td>\n",
       "      <td>1657</td>\n",
       "      <td>USD_CHF</td>\n",
       "    </tr>\n",
       "  </tbody>\n",
       "</table>\n",
       "</div>"
      ],
      "text/plain": [
       "            date_close     open     high      low    close  volume   symbol\n",
       "0  2024-01-01T22:00:00  0.84052  0.84071  0.83969  0.84021      21  USD_CHF\n",
       "1  2024-01-01T23:00:00  0.84033  0.84238  0.84033  0.84198    1294  USD_CHF\n",
       "2  2024-01-02T00:00:00  0.84200  0.84264  0.84176  0.84255    1113  USD_CHF\n",
       "3  2024-01-02T01:00:00  0.84254  0.84266  0.84192  0.84264    1278  USD_CHF\n",
       "4  2024-01-02T02:00:00  0.84262  0.84477  0.84256  0.84476    1657  USD_CHF"
      ]
     },
     "metadata": {},
     "output_type": "display_data"
    },
    {
     "name": "stdout",
     "output_type": "stream",
     "text": [
      "NZD_USD\n"
     ]
    },
    {
     "data": {
      "text/html": [
       "<div>\n",
       "<style scoped>\n",
       "    .dataframe tbody tr th:only-of-type {\n",
       "        vertical-align: middle;\n",
       "    }\n",
       "\n",
       "    .dataframe tbody tr th {\n",
       "        vertical-align: top;\n",
       "    }\n",
       "\n",
       "    .dataframe thead th {\n",
       "        text-align: right;\n",
       "    }\n",
       "</style>\n",
       "<table border=\"1\" class=\"dataframe\">\n",
       "  <thead>\n",
       "    <tr style=\"text-align: right;\">\n",
       "      <th></th>\n",
       "      <th>date_close</th>\n",
       "      <th>open</th>\n",
       "      <th>high</th>\n",
       "      <th>low</th>\n",
       "      <th>close</th>\n",
       "      <th>volume</th>\n",
       "      <th>symbol</th>\n",
       "    </tr>\n",
       "  </thead>\n",
       "  <tbody>\n",
       "    <tr>\n",
       "      <th>0</th>\n",
       "      <td>2024-01-01T18:00:00</td>\n",
       "      <td>0.63200</td>\n",
       "      <td>0.63259</td>\n",
       "      <td>0.63200</td>\n",
       "      <td>0.63259</td>\n",
       "      <td>2</td>\n",
       "      <td>NZD_USD</td>\n",
       "    </tr>\n",
       "    <tr>\n",
       "      <th>1</th>\n",
       "      <td>2024-01-01T21:00:00</td>\n",
       "      <td>0.63234</td>\n",
       "      <td>0.63273</td>\n",
       "      <td>0.63231</td>\n",
       "      <td>0.63273</td>\n",
       "      <td>11</td>\n",
       "      <td>NZD_USD</td>\n",
       "    </tr>\n",
       "    <tr>\n",
       "      <th>2</th>\n",
       "      <td>2024-01-01T22:00:00</td>\n",
       "      <td>0.63248</td>\n",
       "      <td>0.63290</td>\n",
       "      <td>0.63180</td>\n",
       "      <td>0.63186</td>\n",
       "      <td>433</td>\n",
       "      <td>NZD_USD</td>\n",
       "    </tr>\n",
       "    <tr>\n",
       "      <th>3</th>\n",
       "      <td>2024-01-01T23:00:00</td>\n",
       "      <td>0.63183</td>\n",
       "      <td>0.63228</td>\n",
       "      <td>0.63132</td>\n",
       "      <td>0.63145</td>\n",
       "      <td>1029</td>\n",
       "      <td>NZD_USD</td>\n",
       "    </tr>\n",
       "    <tr>\n",
       "      <th>4</th>\n",
       "      <td>2024-01-02T00:00:00</td>\n",
       "      <td>0.63146</td>\n",
       "      <td>0.63194</td>\n",
       "      <td>0.63118</td>\n",
       "      <td>0.63142</td>\n",
       "      <td>1131</td>\n",
       "      <td>NZD_USD</td>\n",
       "    </tr>\n",
       "  </tbody>\n",
       "</table>\n",
       "</div>"
      ],
      "text/plain": [
       "            date_close     open     high      low    close  volume   symbol\n",
       "0  2024-01-01T18:00:00  0.63200  0.63259  0.63200  0.63259       2  NZD_USD\n",
       "1  2024-01-01T21:00:00  0.63234  0.63273  0.63231  0.63273      11  NZD_USD\n",
       "2  2024-01-01T22:00:00  0.63248  0.63290  0.63180  0.63186     433  NZD_USD\n",
       "3  2024-01-01T23:00:00  0.63183  0.63228  0.63132  0.63145    1029  NZD_USD\n",
       "4  2024-01-02T00:00:00  0.63146  0.63194  0.63118  0.63142    1131  NZD_USD"
      ]
     },
     "metadata": {},
     "output_type": "display_data"
    }
   ],
   "source": [
    "for symbol in coin_pairs:\n",
    "    print(symbol)\n",
    "    data=client.get_historical_data(symbol=symbol,start_date=datetime.datetime(2024,1,1))\n",
    "    display(data.head(5))\n",
    "    pair_name=re.sub(r'/|-|_','',symbol)\n",
    "    data.to_pickle(f'data_forex/oanda-{pair_name}-{time_frame}.pkl')\n",
    "\n"
   ]
  },
  {
   "cell_type": "code",
   "execution_count": null,
   "metadata": {},
   "outputs": [],
   "source": []
  },
  {
   "cell_type": "code",
   "execution_count": 17,
   "metadata": {},
   "outputs": [
    {
     "ename": "AttributeError",
     "evalue": "module 'oandapyV20.endpoints.instruments' has no attribute 'Instrument'",
     "output_type": "error",
     "traceback": [
      "\u001b[0;31m---------------------------------------------------------------------------\u001b[0m",
      "\u001b[0;31mAttributeError\u001b[0m                            Traceback (most recent call last)",
      "\u001b[1;32m/Users/sebastiancoombs/Documents/Git/MultiTrader/Build oanda Client.ipynb Cell 9\u001b[0m line \u001b[0;36m3\n\u001b[1;32m      <a href='vscode-notebook-cell:/Users/sebastiancoombs/Documents/Git/MultiTrader/Build%20oanda%20Client.ipynb#X40sZmlsZQ%3D%3D?line=0'>1</a>\u001b[0m params\u001b[39m=\u001b[39m{\u001b[39m\"\u001b[39m\u001b[39minstruments\u001b[39m\u001b[39m\"\u001b[39m:client\u001b[39m.\u001b[39msymbol}\n\u001b[0;32m----> <a href='vscode-notebook-cell:/Users/sebastiancoombs/Documents/Git/MultiTrader/Build%20oanda%20Client.ipynb#X40sZmlsZQ%3D%3D?line=2'>3</a>\u001b[0m req\u001b[39m=\u001b[39minstruments\u001b[39m.\u001b[39;49mInstrument(client\u001b[39m.\u001b[39maccount_id, params\u001b[39m=\u001b[39mparams)\n\u001b[1;32m      <a href='vscode-notebook-cell:/Users/sebastiancoombs/Documents/Git/MultiTrader/Build%20oanda%20Client.ipynb#X40sZmlsZQ%3D%3D?line=3'>4</a>\u001b[0m trade_info\u001b[39m=\u001b[39mclient\u001b[39m.\u001b[39mtrade_client\u001b[39m.\u001b[39mrequest(req)\n\u001b[1;32m      <a href='vscode-notebook-cell:/Users/sebastiancoombs/Documents/Git/MultiTrader/Build%20oanda%20Client.ipynb#X40sZmlsZQ%3D%3D?line=4'>5</a>\u001b[0m trade_info\u001b[39m.\u001b[39mkeys()\n",
      "\u001b[0;31mAttributeError\u001b[0m: module 'oandapyV20.endpoints.instruments' has no attribute 'Instrument'"
     ]
    }
   ],
   "source": [
    "params={\"instruments\":client.symbol}\n",
    "\n",
    "req=instruments.Instrument(client.account_id, params=params)\n",
    "trade_info=client.trade_client.request(req)\n",
    "trade_info.keys()\n",
    "pricing\n"
   ]
  },
  {
   "cell_type": "code",
   "execution_count": null,
   "metadata": {},
   "outputs": [],
   "source": [
    "strip_symbol=r'/|_|-|USD'\n",
    "symbol='USD-JPY'\n",
    "base_asset= re.sub(strip_symbol,'',symbol)\n",
    "base_asset\n"
   ]
  },
  {
   "cell_type": "code",
   "execution_count": 37,
   "metadata": {},
   "outputs": [],
   "source": [
    "def strip_quote(symbol,quote_asset):\n",
    "    if symbol==quote_asset:\n",
    "        return symbol\n",
    "    else:\n",
    "        strip_pattern=f'/|_|-|{quote_asset}$'\n",
    "        asset=re.sub(strip_pattern,'',symbol)\n",
    "        return asset\n",
    "\n"
   ]
  },
  {
   "cell_type": "code",
   "execution_count": null,
   "metadata": {},
   "outputs": [],
   "source": [
    "[strip_quote(symbol,client.base_asset) for symbol in client._account.index]"
   ]
  },
  {
   "cell_type": "code",
   "execution_count": null,
   "metadata": {},
   "outputs": [],
   "source": [
    "\n",
    "account_frame=pd.DataFrame([account])\n",
    "\n",
    "account_frame.rename(columns={'currency':'symbol'},inplace=True)\n",
    "account_frame.set_index('symbol',inplace=True)\n",
    "\n",
    "account_frame=account_frame[['balance','pl','unrealizedPL','NAV','marginUsed','marginAvailable','positionValue']]\n",
    "\n",
    "account_frame"
   ]
  },
  {
   "cell_type": "code",
   "execution_count": null,
   "metadata": {},
   "outputs": [],
   "source": []
  },
  {
   "cell_type": "code",
   "execution_count": null,
   "metadata": {},
   "outputs": [],
   "source": [
    "trade_frame=pd.DataFrame(trades)\n",
    "trade_frame.rename(columns={'instrument':'symbol','currentUnits':'balance'},inplace=True)\n",
    "trade_frame.set_index('symbol',inplace=True)\n",
    "trade_frame\n",
    "\n",
    "\n"
   ]
  },
  {
   "cell_type": "code",
   "execution_count": null,
   "metadata": {},
   "outputs": [],
   "source": [
    "full_account_frame=pd.concat([account_frame,trade_frame],axis=0)\n",
    "\n",
    "full_account_frame"
   ]
  },
  {
   "cell_type": "code",
   "execution_count": null,
   "metadata": {},
   "outputs": [],
   "source": [
    "positions=client.trade_client.list_futures_positions()\n",
    "positions=pd.DataFrame(positions['positions'])\n",
    "positions=positions.set_index('product_id')\n",
    "positions"
   ]
  },
  {
   "cell_type": "code",
   "execution_count": null,
   "metadata": {},
   "outputs": [],
   "source": [
    "positions"
   ]
  },
  {
   "cell_type": "code",
   "execution_count": null,
   "metadata": {},
   "outputs": [],
   "source": [
    "\n",
    "product_frame=pd.DataFrame(products['products'])\n",
    "product_frame=product_frame[product_frame['view_only']==False]\n",
    "\n",
    "# product_frame=product_frame[product_frame['trading_disabled']==False]\n",
    "\n",
    "product_frame"
   ]
  },
  {
   "cell_type": "code",
   "execution_count": null,
   "metadata": {},
   "outputs": [],
   "source": [
    "trade_info"
   ]
  },
  {
   "cell_type": "code",
   "execution_count": null,
   "metadata": {},
   "outputs": [],
   "source": [
    "# products=client.trade_client.get_products()\n",
    "now=datetime.datetime.now()\n",
    "start_time=now-datetime.timedelta(hours=input_size*2)\n",
    "\n",
    "int(now.timestamp())"
   ]
  },
  {
   "cell_type": "code",
   "execution_count": null,
   "metadata": {},
   "outputs": [],
   "source": [
    "fills=client.get_orders()\n",
    "fills"
   ]
  },
  {
   "cell_type": "code",
   "execution_count": null,
   "metadata": {},
   "outputs": [],
   "source": [
    "time.sleep(10)"
   ]
  },
  {
   "cell_type": "code",
   "execution_count": null,
   "metadata": {},
   "outputs": [],
   "source": [
    "client.sell('BTC-USDC',base_size='.000014')"
   ]
  },
  {
   "cell_type": "code",
   "execution_count": null,
   "metadata": {},
   "outputs": [],
   "source": [
    "time.sleep(10)"
   ]
  },
  {
   "cell_type": "code",
   "execution_count": null,
   "metadata": {},
   "outputs": [],
   "source": [
    "fills=client.get_orders()\n",
    "fills"
   ]
  },
  {
   "cell_type": "code",
   "execution_count": null,
   "metadata": {},
   "outputs": [],
   "source": []
  }
 ],
 "metadata": {
  "kernelspec": {
   "display_name": "agent_env",
   "language": "python",
   "name": "python3"
  },
  "language_info": {
   "codemirror_mode": {
    "name": "ipython",
    "version": 3
   },
   "file_extension": ".py",
   "mimetype": "text/x-python",
   "name": "python",
   "nbconvert_exporter": "python",
   "pygments_lexer": "ipython3",
   "version": "3.10.13"
  }
 },
 "nbformat": 4,
 "nbformat_minor": 2
}
