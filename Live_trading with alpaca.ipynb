{
 "cells": [
  {
   "cell_type": "code",
   "execution_count": 1,
   "metadata": {},
   "outputs": [],
   "source": [
    "import sqlite3 as db\n",
    "\n",
    "import pandas as pd\n",
    "from alpaca.data.historical import CryptoHistoricalDataClient\n",
    "# from alpaca.data.bars import\n",
    "from alpaca.data.requests import CryptoBarsRequest\n",
    "from alpaca.data.timeframe import TimeFrame\n",
    "from alpaca.trading.client import TradingClient\n",
    "from alpaca.trading.requests import GetAssetsRequest\n",
    "from alpaca.trading.requests import MarketOrderRequest\n",
    "from alpaca.trading.enums import OrderSide, TimeInForce\n",
    "from alpaca.data.live.crypto import CryptoDataStream\n",
    "from utils.clients import AlpacaClient\n",
    "from utils.mappings import alpaca_stream_message_map,alpaca_stream_col_map\n",
    "import sys\n",
    "import json\n",
    "import datetime as dt\n",
    "import Keys\n",
    "import asyncio\n",
    "import threading\n",
    "import asyncio\n",
    "from pandas.tseries.offsets import Hour\n"
   ]
  },
  {
   "cell_type": "code",
   "execution_count": 2,
   "metadata": {},
   "outputs": [],
   "source": [
    "t_frame=TimeFrame(1,unit='h')\n"
   ]
  },
  {
   "cell_type": "code",
   "execution_count": 3,
   "metadata": {},
   "outputs": [
    {
     "data": {
      "text/html": [
       "<div>\n",
       "<style scoped>\n",
       "    .dataframe tbody tr th:only-of-type {\n",
       "        vertical-align: middle;\n",
       "    }\n",
       "\n",
       "    .dataframe tbody tr th {\n",
       "        vertical-align: top;\n",
       "    }\n",
       "\n",
       "    .dataframe thead th {\n",
       "        text-align: right;\n",
       "    }\n",
       "</style>\n",
       "<table border=\"1\" class=\"dataframe\">\n",
       "  <thead>\n",
       "    <tr style=\"text-align: right;\">\n",
       "      <th></th>\n",
       "      <th>idx</th>\n",
       "      <th>step</th>\n",
       "      <th>date</th>\n",
       "      <th>position_index</th>\n",
       "      <th>position</th>\n",
       "      <th>real_position</th>\n",
       "      <th>portfolio_valuation</th>\n",
       "      <th>portfolio_distribution_asset</th>\n",
       "      <th>portfolio_distribution_fiat</th>\n",
       "      <th>portfolio_distribution_borrowed_asset</th>\n",
       "      <th>...</th>\n",
       "      <th>feature_log_volume_20</th>\n",
       "      <th>feature_log_return_25</th>\n",
       "      <th>feature_log_volume_25</th>\n",
       "      <th>feature_log_return_30</th>\n",
       "      <th>feature_log_volume_30</th>\n",
       "      <th>ds</th>\n",
       "      <th>symbol</th>\n",
       "      <th>unique_id</th>\n",
       "      <th>dynamic_feature__0</th>\n",
       "      <th>dynamic_feature__1</th>\n",
       "    </tr>\n",
       "  </thead>\n",
       "  <tbody>\n",
       "    <tr>\n",
       "      <th>0</th>\n",
       "      <td>-1</td>\n",
       "      <td>0</td>\n",
       "      <td>2024-06-03 10:52:14.993620</td>\n",
       "      <td>0</td>\n",
       "      <td>0.0</td>\n",
       "      <td>0.0</td>\n",
       "      <td>11897.083188</td>\n",
       "      <td>0.7874</td>\n",
       "      <td>8922.498586</td>\n",
       "      <td>0</td>\n",
       "      <td>...</td>\n",
       "      <td>0.974330</td>\n",
       "      <td>0.429621</td>\n",
       "      <td>0.655696</td>\n",
       "      <td>0.432442</td>\n",
       "      <td>0.202964</td>\n",
       "      <td>2024-06-03 17:59:59.999000</td>\n",
       "      <td>ETHUSDT</td>\n",
       "      <td>8</td>\n",
       "      <td>0</td>\n",
       "      <td>0</td>\n",
       "    </tr>\n",
       "    <tr>\n",
       "      <th>1</th>\n",
       "      <td>-1</td>\n",
       "      <td>0</td>\n",
       "      <td>2024-06-04 15:32:41.674590</td>\n",
       "      <td>0</td>\n",
       "      <td>0.0</td>\n",
       "      <td>0.0</td>\n",
       "      <td>11920.741196</td>\n",
       "      <td>0.7829</td>\n",
       "      <td>8930.650371</td>\n",
       "      <td>0</td>\n",
       "      <td>...</td>\n",
       "      <td>-0.033560</td>\n",
       "      <td>0.566785</td>\n",
       "      <td>-0.345679</td>\n",
       "      <td>0.395415</td>\n",
       "      <td>-0.200718</td>\n",
       "      <td>2024-06-04 22:59:59.999000</td>\n",
       "      <td>ETHUSDT</td>\n",
       "      <td>8</td>\n",
       "      <td>0</td>\n",
       "      <td>0</td>\n",
       "    </tr>\n",
       "    <tr>\n",
       "      <th>2</th>\n",
       "      <td>-1</td>\n",
       "      <td>0</td>\n",
       "      <td>2024-06-04 15:32:42.825506</td>\n",
       "      <td>0</td>\n",
       "      <td>0.0</td>\n",
       "      <td>0.0</td>\n",
       "      <td>11920.741196</td>\n",
       "      <td>0.7829</td>\n",
       "      <td>8930.650371</td>\n",
       "      <td>0</td>\n",
       "      <td>...</td>\n",
       "      <td>-0.029978</td>\n",
       "      <td>0.566806</td>\n",
       "      <td>-0.343017</td>\n",
       "      <td>0.395071</td>\n",
       "      <td>-0.197461</td>\n",
       "      <td>2024-06-04 22:59:59.999000</td>\n",
       "      <td>ETHUSDT</td>\n",
       "      <td>8</td>\n",
       "      <td>0</td>\n",
       "      <td>0</td>\n",
       "    </tr>\n",
       "    <tr>\n",
       "      <th>3</th>\n",
       "      <td>-1</td>\n",
       "      <td>1</td>\n",
       "      <td>2024-06-04 15:32:43.874930</td>\n",
       "      <td>0</td>\n",
       "      <td>-0.5</td>\n",
       "      <td>-0.5</td>\n",
       "      <td>11920.258949</td>\n",
       "      <td>0.7803</td>\n",
       "      <td>8940.402491</td>\n",
       "      <td>0</td>\n",
       "      <td>...</td>\n",
       "      <td>-0.029978</td>\n",
       "      <td>0.566806</td>\n",
       "      <td>-0.343017</td>\n",
       "      <td>0.395071</td>\n",
       "      <td>-0.197461</td>\n",
       "      <td>2024-06-04 22:59:59.999000</td>\n",
       "      <td>ETHUSDT</td>\n",
       "      <td>8</td>\n",
       "      <td>0</td>\n",
       "      <td>0</td>\n",
       "    </tr>\n",
       "    <tr>\n",
       "      <th>4</th>\n",
       "      <td>-1</td>\n",
       "      <td>0</td>\n",
       "      <td>2024-06-04 15:33:51.614968</td>\n",
       "      <td>0</td>\n",
       "      <td>0.0</td>\n",
       "      <td>0.0</td>\n",
       "      <td>11922.498410</td>\n",
       "      <td>0.7803</td>\n",
       "      <td>8940.402491</td>\n",
       "      <td>0</td>\n",
       "      <td>...</td>\n",
       "      <td>-0.010170</td>\n",
       "      <td>0.566898</td>\n",
       "      <td>-0.328377</td>\n",
       "      <td>0.393574</td>\n",
       "      <td>-0.179491</td>\n",
       "      <td>2024-06-04 22:59:59.999000</td>\n",
       "      <td>ETHUSDT</td>\n",
       "      <td>8</td>\n",
       "      <td>0</td>\n",
       "      <td>0</td>\n",
       "    </tr>\n",
       "  </tbody>\n",
       "</table>\n",
       "<p>5 rows × 46 columns</p>\n",
       "</div>"
      ],
      "text/plain": [
       "   idx  step                        date  position_index  position  \\\n",
       "0   -1     0  2024-06-03 10:52:14.993620               0       0.0   \n",
       "1   -1     0  2024-06-04 15:32:41.674590               0       0.0   \n",
       "2   -1     0  2024-06-04 15:32:42.825506               0       0.0   \n",
       "3   -1     1  2024-06-04 15:32:43.874930               0      -0.5   \n",
       "4   -1     0  2024-06-04 15:33:51.614968               0       0.0   \n",
       "\n",
       "   real_position  portfolio_valuation  portfolio_distribution_asset  \\\n",
       "0            0.0         11897.083188                        0.7874   \n",
       "1            0.0         11920.741196                        0.7829   \n",
       "2            0.0         11920.741196                        0.7829   \n",
       "3           -0.5         11920.258949                        0.7803   \n",
       "4            0.0         11922.498410                        0.7803   \n",
       "\n",
       "   portfolio_distribution_fiat  portfolio_distribution_borrowed_asset  ...  \\\n",
       "0                  8922.498586                                      0  ...   \n",
       "1                  8930.650371                                      0  ...   \n",
       "2                  8930.650371                                      0  ...   \n",
       "3                  8940.402491                                      0  ...   \n",
       "4                  8940.402491                                      0  ...   \n",
       "\n",
       "   feature_log_volume_20  feature_log_return_25  feature_log_volume_25  \\\n",
       "0               0.974330               0.429621               0.655696   \n",
       "1              -0.033560               0.566785              -0.345679   \n",
       "2              -0.029978               0.566806              -0.343017   \n",
       "3              -0.029978               0.566806              -0.343017   \n",
       "4              -0.010170               0.566898              -0.328377   \n",
       "\n",
       "   feature_log_return_30  feature_log_volume_30                          ds  \\\n",
       "0               0.432442               0.202964  2024-06-03 17:59:59.999000   \n",
       "1               0.395415              -0.200718  2024-06-04 22:59:59.999000   \n",
       "2               0.395071              -0.197461  2024-06-04 22:59:59.999000   \n",
       "3               0.395071              -0.197461  2024-06-04 22:59:59.999000   \n",
       "4               0.393574              -0.179491  2024-06-04 22:59:59.999000   \n",
       "\n",
       "    symbol  unique_id  dynamic_feature__0  dynamic_feature__1  \n",
       "0  ETHUSDT          8                   0                   0  \n",
       "1  ETHUSDT          8                   0                   0  \n",
       "2  ETHUSDT          8                   0                   0  \n",
       "3  ETHUSDT          8                   0                   0  \n",
       "4  ETHUSDT          8                   0                   0  \n",
       "\n",
       "[5 rows x 46 columns]"
      ]
     },
     "execution_count": 3,
     "metadata": {},
     "output_type": "execute_result"
    }
   ],
   "source": [
    "symbol=\"ETHUSDT\"\n",
    "pair=\"ETH/USD\"\n",
    "base_asset=pair.split('/')[0]\n",
    "quote_asset=pair.split('/')[1]\n",
    "history_path='Trade_history/trade.db'\n",
    "\n",
    "conn=db.connect(history_path)\n",
    "history_df=pd.read_sql(f'select * from {symbol}_trade_history',conn)\n",
    "history_df.head(5)"
   ]
  },
  {
   "cell_type": "code",
   "execution_count": 4,
   "metadata": {},
   "outputs": [],
   "source": [
    "api_key=Keys.alpaca_api_key\n",
    "api_secret=Keys.alpaca_api_secret"
   ]
  },
  {
   "cell_type": "code",
   "execution_count": 5,
   "metadata": {},
   "outputs": [],
   "source": [
    "paper_url='wss://stream.data.paper.alpaca.markets/v1beta3/crypto/us'\n",
    "live_url='wss://stream.data.alpaca.markets/v1beta3/crypto/us'\n"
   ]
  },
  {
   "cell_type": "code",
   "execution_count": 6,
   "metadata": {},
   "outputs": [],
   "source": [
    "sock=CryptoDataStream(api_key=api_key,secret_key=api_secret,raw_data=True)\n",
    "\n",
    "sock._is_running=True"
   ]
  },
  {
   "cell_type": "code",
   "execution_count": 7,
   "metadata": {},
   "outputs": [],
   "source": [
    "example_bars=[{\n",
    "  \"T\": \"b\",\n",
    "  \"S\": \"BTC/USD\",\n",
    "  \"o\": 71856.1435,\n",
    "  \"h\": 71856.1435,\n",
    "  \"l\": 71856.1435,\n",
    "  \"c\": 71856.1435,\n",
    "  \"v\": 0,\n",
    "  \"t\": \"2024-03-12T10:37:00Z\",\n",
    "  \"n\": 0,\n",
    "  \"vw\": 0\n",
    "},{\n",
    "  \"T\": \"b\",\n",
    "  \"S\": \"BTC/USD\",\n",
    "  \"o\": 71856.1435,\n",
    "  \"h\": 71856.1435,\n",
    "  \"l\": 71856.1435,\n",
    "  \"c\": 71856.1435,\n",
    "  \"v\": 0,\n",
    "  \"t\": \"2024-03-12T10:37:00Z\",\n",
    "  \"n\": 0,\n",
    "  \"vw\": 0\n",
    "}]"
   ]
  },
  {
   "cell_type": "code",
   "execution_count": 8,
   "metadata": {},
   "outputs": [],
   "source": [
    "from pandas.tseries.offsets import DateOffset,Hour"
   ]
  },
  {
   "cell_type": "code",
   "execution_count": 9,
   "metadata": {},
   "outputs": [
    {
     "data": {
      "text/plain": [
       "'11:59'"
      ]
     },
     "execution_count": 9,
     "metadata": {},
     "output_type": "execute_result"
    }
   ],
   "source": [
    "bar_time=pd.Timestamp(\"2024-03-12T11:59:00Z\")\n",
    "bar_time.strftime(\"%H:%M\")"
   ]
  },
  {
   "cell_type": "code",
   "execution_count": 10,
   "metadata": {},
   "outputs": [
    {
     "name": "stdout",
     "output_type": "stream",
     "text": [
      "11:00 ####### is on hour? True\n"
     ]
    }
   ],
   "source": [
    "bar_time=pd.Timestamp(\"2024-03-12T11:00:00Z\")\n",
    "print(bar_time.strftime(\"%H:%M\"),\"####### is on hour?\",bar_time.minute==0)"
   ]
  },
  {
   "cell_type": "code",
   "execution_count": 11,
   "metadata": {},
   "outputs": [
    {
     "data": {
      "text/html": [
       "<div>\n",
       "<style scoped>\n",
       "    .dataframe tbody tr th:only-of-type {\n",
       "        vertical-align: middle;\n",
       "    }\n",
       "\n",
       "    .dataframe tbody tr th {\n",
       "        vertical-align: top;\n",
       "    }\n",
       "\n",
       "    .dataframe thead th {\n",
       "        text-align: right;\n",
       "    }\n",
       "</style>\n",
       "<table border=\"1\" class=\"dataframe\">\n",
       "  <thead>\n",
       "    <tr style=\"text-align: right;\">\n",
       "      <th></th>\n",
       "      <th>bar_type</th>\n",
       "      <th>symbol</th>\n",
       "      <th>open</th>\n",
       "      <th>high</th>\n",
       "      <th>low</th>\n",
       "      <th>close</th>\n",
       "      <th>volume</th>\n",
       "      <th>date_close</th>\n",
       "      <th>n</th>\n",
       "      <th>vw</th>\n",
       "    </tr>\n",
       "  </thead>\n",
       "  <tbody>\n",
       "    <tr>\n",
       "      <th>0</th>\n",
       "      <td>Bar</td>\n",
       "      <td>BTC/USD</td>\n",
       "      <td>71856.1435</td>\n",
       "      <td>71856.1435</td>\n",
       "      <td>71856.1435</td>\n",
       "      <td>71856.1435</td>\n",
       "      <td>0</td>\n",
       "      <td>2024-03-12 10:37:00+00:00</td>\n",
       "      <td>0</td>\n",
       "      <td>0</td>\n",
       "    </tr>\n",
       "    <tr>\n",
       "      <th>1</th>\n",
       "      <td>Bar</td>\n",
       "      <td>BTC/USD</td>\n",
       "      <td>71856.1435</td>\n",
       "      <td>71856.1435</td>\n",
       "      <td>71856.1435</td>\n",
       "      <td>71856.1435</td>\n",
       "      <td>0</td>\n",
       "      <td>2024-03-12 10:37:00+00:00</td>\n",
       "      <td>0</td>\n",
       "      <td>0</td>\n",
       "    </tr>\n",
       "  </tbody>\n",
       "</table>\n",
       "</div>"
      ],
      "text/plain": [
       "  bar_type   symbol        open        high         low       close  volume  \\\n",
       "0      Bar  BTC/USD  71856.1435  71856.1435  71856.1435  71856.1435       0   \n",
       "1      Bar  BTC/USD  71856.1435  71856.1435  71856.1435  71856.1435       0   \n",
       "\n",
       "                 date_close  n  vw  \n",
       "0 2024-03-12 10:37:00+00:00  0   0  \n",
       "1 2024-03-12 10:37:00+00:00  0   0  "
      ]
     },
     "execution_count": 11,
     "metadata": {},
     "output_type": "execute_result"
    }
   ],
   "source": [
    "data=pd.DataFrame(example_bars)\n",
    "\n",
    "data=data.rename(columns=alpaca_stream_col_map)\n",
    "data['date_close']=data['date_close'].apply(pd.Timestamp)\n",
    "data['bar_type']=data['bar_type'].map(alpaca_stream_message_map)\n",
    "\n",
    "data"
   ]
  },
  {
   "cell_type": "code",
   "execution_count": 12,
   "metadata": {},
   "outputs": [],
   "source": [
    "import nest_asyncio\n",
    "nest_asyncio.apply()"
   ]
  },
  {
   "cell_type": "code",
   "execution_count": 13,
   "metadata": {},
   "outputs": [],
   "source": [
    "symbol='ETHUSD'"
   ]
  },
  {
   "cell_type": "code",
   "execution_count": 14,
   "metadata": {},
   "outputs": [],
   "source": [
    "self = AlpacaClient(api_key, api_secret,symbol=pair,time_frame='1h',paper=True)\n"
   ]
  },
  {
   "cell_type": "code",
   "execution_count": 15,
   "metadata": {},
   "outputs": [
    {
     "data": {
      "text/plain": [
       "{'id': UUID('dec2a319-e7fb-4e20-80b5-f87228b2bf52'),\n",
       " 'account_number': 'PA3IWKESH30I',\n",
       " 'status': <AccountStatus.ACTIVE: 'ACTIVE'>,\n",
       " 'crypto_status': <AccountStatus.ACTIVE: 'ACTIVE'>,\n",
       " 'currency': 'USD',\n",
       " 'buying_power': '50173.12',\n",
       " 'regt_buying_power': '50173.12',\n",
       " 'daytrading_buying_power': '0',\n",
       " 'non_marginable_buying_power': '25086.56',\n",
       " 'cash': '25086.56',\n",
       " 'accrued_fees': '0',\n",
       " 'pending_transfer_out': None,\n",
       " 'pending_transfer_in': '0',\n",
       " 'portfolio_value': '95206.72',\n",
       " 'pattern_day_trader': False,\n",
       " 'trading_blocked': False,\n",
       " 'transfers_blocked': False,\n",
       " 'account_blocked': False,\n",
       " 'created_at': datetime.datetime(2024, 6, 5, 14, 13, 42, 888418, tzinfo=datetime.timezone.utc),\n",
       " 'trade_suspended_by_user': False,\n",
       " 'multiplier': '2',\n",
       " 'shorting_enabled': True,\n",
       " 'equity': '95206.72',\n",
       " 'last_equity': '98713.8339808224',\n",
       " 'long_market_value': '70120.16',\n",
       " 'short_market_value': '0',\n",
       " 'initial_margin': '0',\n",
       " 'maintenance_margin': '0',\n",
       " 'last_maintenance_margin': '0',\n",
       " 'sma': '99995.07',\n",
       " 'daytrade_count': 0,\n",
       " 'ETHUSD': '19.085248797'}"
      ]
     },
     "execution_count": 15,
     "metadata": {},
     "output_type": "execute_result"
    }
   ],
   "source": [
    "self.account()"
   ]
  },
  {
   "cell_type": "code",
   "execution_count": 16,
   "metadata": {},
   "outputs": [
    {
     "data": {
      "text/plain": [
       "'ETH/USD'"
      ]
     },
     "execution_count": 16,
     "metadata": {},
     "output_type": "execute_result"
    }
   ],
   "source": [
    "self.symbol"
   ]
  },
  {
   "cell_type": "code",
   "execution_count": 17,
   "metadata": {},
   "outputs": [
    {
     "data": {
      "text/html": [
       "<div>\n",
       "<style scoped>\n",
       "    .dataframe tbody tr th:only-of-type {\n",
       "        vertical-align: middle;\n",
       "    }\n",
       "\n",
       "    .dataframe tbody tr th {\n",
       "        vertical-align: top;\n",
       "    }\n",
       "\n",
       "    .dataframe thead th {\n",
       "        text-align: right;\n",
       "    }\n",
       "</style>\n",
       "<table border=\"1\" class=\"dataframe\">\n",
       "  <thead>\n",
       "    <tr style=\"text-align: right;\">\n",
       "      <th></th>\n",
       "      <th>symbol</th>\n",
       "      <th>date_close</th>\n",
       "      <th>open</th>\n",
       "      <th>high</th>\n",
       "      <th>low</th>\n",
       "      <th>close</th>\n",
       "      <th>volume</th>\n",
       "      <th>trade_count</th>\n",
       "      <th>vwap</th>\n",
       "    </tr>\n",
       "  </thead>\n",
       "  <tbody>\n",
       "    <tr>\n",
       "      <th>0</th>\n",
       "      <td>ETH/USD</td>\n",
       "      <td>2024-06-03 16:00:00+00:00</td>\n",
       "      <td>3795.8600</td>\n",
       "      <td>3795.8600</td>\n",
       "      <td>3762.129000</td>\n",
       "      <td>3768.252</td>\n",
       "      <td>1.172982</td>\n",
       "      <td>2.0</td>\n",
       "      <td>3784.721313</td>\n",
       "    </tr>\n",
       "    <tr>\n",
       "      <th>1</th>\n",
       "      <td>ETH/USD</td>\n",
       "      <td>2024-06-03 17:00:00+00:00</td>\n",
       "      <td>3766.6425</td>\n",
       "      <td>3781.3200</td>\n",
       "      <td>3758.000000</td>\n",
       "      <td>3779.850</td>\n",
       "      <td>0.770078</td>\n",
       "      <td>1.0</td>\n",
       "      <td>3773.370000</td>\n",
       "    </tr>\n",
       "    <tr>\n",
       "      <th>2</th>\n",
       "      <td>ETH/USD</td>\n",
       "      <td>2024-06-03 18:00:00+00:00</td>\n",
       "      <td>3782.4250</td>\n",
       "      <td>3785.7850</td>\n",
       "      <td>3775.614500</td>\n",
       "      <td>3778.950</td>\n",
       "      <td>0.574934</td>\n",
       "      <td>5.0</td>\n",
       "      <td>3781.054553</td>\n",
       "    </tr>\n",
       "    <tr>\n",
       "      <th>3</th>\n",
       "      <td>ETH/USD</td>\n",
       "      <td>2024-06-03 19:00:00+00:00</td>\n",
       "      <td>3776.6875</td>\n",
       "      <td>3779.4360</td>\n",
       "      <td>3767.190000</td>\n",
       "      <td>3771.670</td>\n",
       "      <td>8.348204</td>\n",
       "      <td>206.0</td>\n",
       "      <td>3771.216379</td>\n",
       "    </tr>\n",
       "    <tr>\n",
       "      <th>4</th>\n",
       "      <td>ETH/USD</td>\n",
       "      <td>2024-06-03 20:00:00+00:00</td>\n",
       "      <td>3775.3000</td>\n",
       "      <td>3782.3865</td>\n",
       "      <td>3771.613000</td>\n",
       "      <td>3771.613</td>\n",
       "      <td>0.102469</td>\n",
       "      <td>5.0</td>\n",
       "      <td>3775.888703</td>\n",
       "    </tr>\n",
       "    <tr>\n",
       "      <th>...</th>\n",
       "      <td>...</td>\n",
       "      <td>...</td>\n",
       "      <td>...</td>\n",
       "      <td>...</td>\n",
       "      <td>...</td>\n",
       "      <td>...</td>\n",
       "      <td>...</td>\n",
       "      <td>...</td>\n",
       "      <td>...</td>\n",
       "    </tr>\n",
       "    <tr>\n",
       "      <th>98</th>\n",
       "      <td>ETH/USD</td>\n",
       "      <td>2024-06-07 18:00:00+00:00</td>\n",
       "      <td>3721.4095</td>\n",
       "      <td>3721.4095</td>\n",
       "      <td>3598.014888</td>\n",
       "      <td>3676.825</td>\n",
       "      <td>57.610046</td>\n",
       "      <td>39.0</td>\n",
       "      <td>3652.978828</td>\n",
       "    </tr>\n",
       "    <tr>\n",
       "      <th>99</th>\n",
       "      <td>ETH/USD</td>\n",
       "      <td>2024-06-07 19:00:00+00:00</td>\n",
       "      <td>3674.4865</td>\n",
       "      <td>3702.2485</td>\n",
       "      <td>3659.267000</td>\n",
       "      <td>3688.380</td>\n",
       "      <td>1.167807</td>\n",
       "      <td>15.0</td>\n",
       "      <td>3680.177141</td>\n",
       "    </tr>\n",
       "    <tr>\n",
       "      <th>100</th>\n",
       "      <td>ETH/USD</td>\n",
       "      <td>2024-06-07 20:00:00+00:00</td>\n",
       "      <td>3680.0060</td>\n",
       "      <td>3692.0700</td>\n",
       "      <td>3670.400000</td>\n",
       "      <td>3689.905</td>\n",
       "      <td>0.191169</td>\n",
       "      <td>3.0</td>\n",
       "      <td>3674.537783</td>\n",
       "    </tr>\n",
       "    <tr>\n",
       "      <th>101</th>\n",
       "      <td>ETH/USD</td>\n",
       "      <td>2024-06-07 21:00:00+00:00</td>\n",
       "      <td>3687.5315</td>\n",
       "      <td>3697.5655</td>\n",
       "      <td>3683.572000</td>\n",
       "      <td>3694.100</td>\n",
       "      <td>0.000000</td>\n",
       "      <td>0.0</td>\n",
       "      <td>0.000000</td>\n",
       "    </tr>\n",
       "    <tr>\n",
       "      <th>102</th>\n",
       "      <td>ETH/USD</td>\n",
       "      <td>2024-06-07 22:00:00+00:00</td>\n",
       "      <td>3689.8330</td>\n",
       "      <td>3692.0985</td>\n",
       "      <td>3684.101500</td>\n",
       "      <td>3689.923</td>\n",
       "      <td>0.000000</td>\n",
       "      <td>0.0</td>\n",
       "      <td>0.000000</td>\n",
       "    </tr>\n",
       "  </tbody>\n",
       "</table>\n",
       "<p>103 rows × 9 columns</p>\n",
       "</div>"
      ],
      "text/plain": [
       "      symbol                date_close       open       high          low  \\\n",
       "0    ETH/USD 2024-06-03 16:00:00+00:00  3795.8600  3795.8600  3762.129000   \n",
       "1    ETH/USD 2024-06-03 17:00:00+00:00  3766.6425  3781.3200  3758.000000   \n",
       "2    ETH/USD 2024-06-03 18:00:00+00:00  3782.4250  3785.7850  3775.614500   \n",
       "3    ETH/USD 2024-06-03 19:00:00+00:00  3776.6875  3779.4360  3767.190000   \n",
       "4    ETH/USD 2024-06-03 20:00:00+00:00  3775.3000  3782.3865  3771.613000   \n",
       "..       ...                       ...        ...        ...          ...   \n",
       "98   ETH/USD 2024-06-07 18:00:00+00:00  3721.4095  3721.4095  3598.014888   \n",
       "99   ETH/USD 2024-06-07 19:00:00+00:00  3674.4865  3702.2485  3659.267000   \n",
       "100  ETH/USD 2024-06-07 20:00:00+00:00  3680.0060  3692.0700  3670.400000   \n",
       "101  ETH/USD 2024-06-07 21:00:00+00:00  3687.5315  3697.5655  3683.572000   \n",
       "102  ETH/USD 2024-06-07 22:00:00+00:00  3689.8330  3692.0985  3684.101500   \n",
       "\n",
       "        close     volume  trade_count         vwap  \n",
       "0    3768.252   1.172982          2.0  3784.721313  \n",
       "1    3779.850   0.770078          1.0  3773.370000  \n",
       "2    3778.950   0.574934          5.0  3781.054553  \n",
       "3    3771.670   8.348204        206.0  3771.216379  \n",
       "4    3771.613   0.102469          5.0  3775.888703  \n",
       "..        ...        ...          ...          ...  \n",
       "98   3676.825  57.610046         39.0  3652.978828  \n",
       "99   3688.380   1.167807         15.0  3680.177141  \n",
       "100  3689.905   0.191169          3.0  3674.537783  \n",
       "101  3694.100   0.000000          0.0     0.000000  \n",
       "102  3689.923   0.000000          0.0     0.000000  \n",
       "\n",
       "[103 rows x 9 columns]"
      ]
     },
     "execution_count": 17,
     "metadata": {},
     "output_type": "execute_result"
    }
   ],
   "source": [
    "start_date=(dt.datetime.now()-pd.Timedelta(hours=48*2))\n",
    "data=self.get_historical_data(start_date=start_date)\n",
    "data"
   ]
  },
  {
   "cell_type": "code",
   "execution_count": 18,
   "metadata": {},
   "outputs": [
    {
     "ename": "APIError",
     "evalue": "{\"message\":\"invalid symbol: ETHUSD does not match ^[A-Z]+/[A-Z]+$\"}\n",
     "output_type": "error",
     "traceback": [
      "\u001b[0;31m---------------------------------------------------------------------------\u001b[0m",
      "\u001b[0;31mHTTPError\u001b[0m                                 Traceback (most recent call last)",
      "File \u001b[0;32m~/anaconda3/envs/agent_env/lib/python3.10/site-packages/alpaca/common/rest.py:196\u001b[0m, in \u001b[0;36mRESTClient._one_request\u001b[0;34m(self, method, url, opts, retry)\u001b[0m\n\u001b[1;32m    195\u001b[0m \u001b[38;5;28;01mtry\u001b[39;00m:\n\u001b[0;32m--> 196\u001b[0m     \u001b[43mresponse\u001b[49m\u001b[38;5;241;43m.\u001b[39;49m\u001b[43mraise_for_status\u001b[49m\u001b[43m(\u001b[49m\u001b[43m)\u001b[49m\n\u001b[1;32m    197\u001b[0m \u001b[38;5;28;01mexcept\u001b[39;00m HTTPError \u001b[38;5;28;01mas\u001b[39;00m http_error:\n\u001b[1;32m    198\u001b[0m     \u001b[38;5;66;03m# retry if we hit Rate Limit\u001b[39;00m\n",
      "File \u001b[0;32m~/anaconda3/envs/agent_env/lib/python3.10/site-packages/requests/models.py:1024\u001b[0m, in \u001b[0;36mResponse.raise_for_status\u001b[0;34m(self)\u001b[0m\n\u001b[1;32m   1023\u001b[0m \u001b[38;5;28;01mif\u001b[39;00m http_error_msg:\n\u001b[0;32m-> 1024\u001b[0m     \u001b[38;5;28;01mraise\u001b[39;00m HTTPError(http_error_msg, response\u001b[38;5;241m=\u001b[39m\u001b[38;5;28mself\u001b[39m)\n",
      "\u001b[0;31mHTTPError\u001b[0m: 400 Client Error: Bad Request for url: https://data.alpaca.markets/v1beta3/crypto/us/bars?start=2024-06-07T15%3A17%3A33.607840Z&timeframe=1Min&symbols=ETHUSD",
      "\nDuring handling of the above exception, another exception occurred:\n",
      "\u001b[0;31mAPIError\u001b[0m                                  Traceback (most recent call last)",
      "Cell \u001b[0;32mIn[18], line 1\u001b[0m\n\u001b[0;32m----> 1\u001b[0m price\u001b[38;5;241m=\u001b[39m\u001b[38;5;28;43mself\u001b[39;49m\u001b[38;5;241;43m.\u001b[39;49m\u001b[43mticker_price\u001b[49m\u001b[43m(\u001b[49m\u001b[38;5;28;43mself\u001b[39;49m\u001b[38;5;241;43m.\u001b[39;49m\u001b[43msymbol\u001b[49m\u001b[38;5;241;43m.\u001b[39;49m\u001b[43mreplace\u001b[49m\u001b[43m(\u001b[49m\u001b[38;5;124;43m'\u001b[39;49m\u001b[38;5;124;43m/\u001b[39;49m\u001b[38;5;124;43m'\u001b[39;49m\u001b[43m,\u001b[49m\u001b[38;5;124;43m'\u001b[39;49m\u001b[38;5;124;43m'\u001b[39;49m\u001b[43m)\u001b[49m\u001b[43m)\u001b[49m\n\u001b[1;32m      2\u001b[0m price\n",
      "File \u001b[0;32m~/git/MultiTrader/utils/clients.py:152\u001b[0m, in \u001b[0;36mAlpacaClient.ticker_price\u001b[0;34m(self, symbol)\u001b[0m\n\u001b[1;32m    145\u001b[0m start_date\u001b[38;5;241m=\u001b[39mdatetime\u001b[38;5;241m.\u001b[39mdatetime\u001b[38;5;241m.\u001b[39mnow()\u001b[38;5;241m-\u001b[39mpd\u001b[38;5;241m.\u001b[39mTimedelta(minutes\u001b[38;5;241m=\u001b[39m\u001b[38;5;241m4\u001b[39m)\u001b[38;5;241m.\u001b[39mto_pytimedelta()\n\u001b[1;32m    146\u001b[0m request_params \u001b[38;5;241m=\u001b[39m CryptoBarsRequest(\n\u001b[1;32m    147\u001b[0m                 symbol_or_symbols\u001b[38;5;241m=\u001b[39msymbol,\n\u001b[1;32m    148\u001b[0m                 timeframe\u001b[38;5;241m=\u001b[39mTimeFrame\u001b[38;5;241m.\u001b[39mMinute,\n\u001b[1;32m    149\u001b[0m                 start\u001b[38;5;241m=\u001b[39mstart_date\n\u001b[1;32m    150\u001b[0m          )\n\u001b[0;32m--> 152\u001b[0m bars \u001b[38;5;241m=\u001b[39m \u001b[38;5;28;43mself\u001b[39;49m\u001b[38;5;241;43m.\u001b[39;49m\u001b[43mdata_client\u001b[49m\u001b[38;5;241;43m.\u001b[39;49m\u001b[43mget_crypto_bars\u001b[49m\u001b[43m(\u001b[49m\u001b[43mrequest_params\u001b[49m\u001b[43m)\u001b[49m\n\u001b[1;32m    153\u001b[0m data\u001b[38;5;241m=\u001b[39mbars\u001b[38;5;241m.\u001b[39mdf\u001b[38;5;241m.\u001b[39mreset_index()\n\u001b[1;32m    155\u001b[0m price\u001b[38;5;241m=\u001b[39mdata[\u001b[38;5;124m'\u001b[39m\u001b[38;5;124mclose\u001b[39m\u001b[38;5;124m'\u001b[39m]\u001b[38;5;241m.\u001b[39mvalues[\u001b[38;5;241m-\u001b[39m\u001b[38;5;241m1\u001b[39m]\n",
      "File \u001b[0;32m~/anaconda3/envs/agent_env/lib/python3.10/site-packages/alpaca/data/historical/crypto.py:88\u001b[0m, in \u001b[0;36mCryptoHistoricalDataClient.get_crypto_bars\u001b[0;34m(self, request_params, feed)\u001b[0m\n\u001b[1;32m     85\u001b[0m params \u001b[38;5;241m=\u001b[39m request_params\u001b[38;5;241m.\u001b[39mto_request_fields()\n\u001b[1;32m     87\u001b[0m \u001b[38;5;66;03m# paginated get request for crypto market data api\u001b[39;00m\n\u001b[0;32m---> 88\u001b[0m raw_bars \u001b[38;5;241m=\u001b[39m \u001b[38;5;28;43mself\u001b[39;49m\u001b[38;5;241;43m.\u001b[39;49m\u001b[43m_data_get\u001b[49m\u001b[43m(\u001b[49m\n\u001b[1;32m     89\u001b[0m \u001b[43m    \u001b[49m\u001b[43mendpoint_asset_class\u001b[49m\u001b[38;5;241;43m=\u001b[39;49m\u001b[38;5;124;43m\"\u001b[39;49m\u001b[38;5;124;43mcrypto\u001b[39;49m\u001b[38;5;124;43m\"\u001b[39;49m\u001b[43m,\u001b[49m\n\u001b[1;32m     90\u001b[0m \u001b[43m    \u001b[49m\u001b[43mendpoint_data_type\u001b[49m\u001b[38;5;241;43m=\u001b[39;49m\u001b[38;5;124;43m\"\u001b[39;49m\u001b[38;5;124;43mbars\u001b[39;49m\u001b[38;5;124;43m\"\u001b[39;49m\u001b[43m,\u001b[49m\n\u001b[1;32m     91\u001b[0m \u001b[43m    \u001b[49m\u001b[43mapi_version\u001b[49m\u001b[38;5;241;43m=\u001b[39;49m\u001b[38;5;124;43m\"\u001b[39;49m\u001b[38;5;124;43mv1beta3\u001b[39;49m\u001b[38;5;124;43m\"\u001b[39;49m\u001b[43m,\u001b[49m\n\u001b[1;32m     92\u001b[0m \u001b[43m    \u001b[49m\u001b[43mfeed\u001b[49m\u001b[38;5;241;43m=\u001b[39;49m\u001b[43mfeed\u001b[49m\u001b[43m,\u001b[49m\n\u001b[1;32m     93\u001b[0m \u001b[43m    \u001b[49m\u001b[38;5;241;43m*\u001b[39;49m\u001b[38;5;241;43m*\u001b[39;49m\u001b[43mparams\u001b[49m\u001b[43m,\u001b[49m\n\u001b[1;32m     94\u001b[0m \u001b[43m\u001b[49m\u001b[43m)\u001b[49m\n\u001b[1;32m     96\u001b[0m \u001b[38;5;28;01mif\u001b[39;00m \u001b[38;5;28mself\u001b[39m\u001b[38;5;241m.\u001b[39m_use_raw_data:\n\u001b[1;32m     97\u001b[0m     \u001b[38;5;28;01mreturn\u001b[39;00m raw_bars\n",
      "File \u001b[0;32m~/anaconda3/envs/agent_env/lib/python3.10/site-packages/alpaca/data/historical/crypto.py:358\u001b[0m, in \u001b[0;36mCryptoHistoricalDataClient._data_get\u001b[0;34m(self, endpoint_asset_class, endpoint_data_type, api_version, feed, symbol_or_symbols, limit, page_limit, extension, **kwargs)\u001b[0m\n\u001b[1;32m    355\u001b[0m params[\u001b[38;5;124m\"\u001b[39m\u001b[38;5;124mlimit\u001b[39m\u001b[38;5;124m\"\u001b[39m] \u001b[38;5;241m=\u001b[39m actual_limit\n\u001b[1;32m    356\u001b[0m params[\u001b[38;5;124m\"\u001b[39m\u001b[38;5;124mpage_token\u001b[39m\u001b[38;5;124m\"\u001b[39m] \u001b[38;5;241m=\u001b[39m page_token\n\u001b[0;32m--> 358\u001b[0m response \u001b[38;5;241m=\u001b[39m \u001b[38;5;28;43mself\u001b[39;49m\u001b[38;5;241;43m.\u001b[39;49m\u001b[43mget\u001b[49m\u001b[43m(\u001b[49m\u001b[43mpath\u001b[49m\u001b[38;5;241;43m=\u001b[39;49m\u001b[43mpath\u001b[49m\u001b[43m,\u001b[49m\u001b[43m \u001b[49m\u001b[43mdata\u001b[49m\u001b[38;5;241;43m=\u001b[39;49m\u001b[43mparams\u001b[49m\u001b[43m,\u001b[49m\u001b[43m \u001b[49m\u001b[43mapi_version\u001b[49m\u001b[38;5;241;43m=\u001b[39;49m\u001b[43mapi_version\u001b[49m\u001b[43m)\u001b[49m\n\u001b[1;32m    360\u001b[0m \u001b[38;5;66;03m# TODO: Merge parsing if possible\u001b[39;00m\n\u001b[1;32m    361\u001b[0m \u001b[38;5;28;01mif\u001b[39;00m (\n\u001b[1;32m    362\u001b[0m     extension \u001b[38;5;241m==\u001b[39m DataExtensionType\u001b[38;5;241m.\u001b[39mLATEST\n\u001b[1;32m    363\u001b[0m     \u001b[38;5;129;01mor\u001b[39;00m extension \u001b[38;5;241m==\u001b[39m DataExtensionType\u001b[38;5;241m.\u001b[39mSNAPSHOT\n\u001b[1;32m    364\u001b[0m ):\n",
      "File \u001b[0;32m~/anaconda3/envs/agent_env/lib/python3.10/site-packages/alpaca/common/rest.py:221\u001b[0m, in \u001b[0;36mRESTClient.get\u001b[0;34m(self, path, data, **kwargs)\u001b[0m\n\u001b[1;32m    210\u001b[0m \u001b[38;5;28;01mdef\u001b[39;00m \u001b[38;5;21mget\u001b[39m(\u001b[38;5;28mself\u001b[39m, path: \u001b[38;5;28mstr\u001b[39m, data: Union[\u001b[38;5;28mdict\u001b[39m, \u001b[38;5;28mstr\u001b[39m] \u001b[38;5;241m=\u001b[39m \u001b[38;5;28;01mNone\u001b[39;00m, \u001b[38;5;241m*\u001b[39m\u001b[38;5;241m*\u001b[39mkwargs) \u001b[38;5;241m-\u001b[39m\u001b[38;5;241m>\u001b[39m HTTPResult:\n\u001b[1;32m    211\u001b[0m \u001b[38;5;250m    \u001b[39m\u001b[38;5;124;03m\"\"\"Performs a single GET request\u001b[39;00m\n\u001b[1;32m    212\u001b[0m \n\u001b[1;32m    213\u001b[0m \u001b[38;5;124;03m    Args:\u001b[39;00m\n\u001b[0;32m   (...)\u001b[0m\n\u001b[1;32m    219\u001b[0m \u001b[38;5;124;03m        dict: The response\u001b[39;00m\n\u001b[1;32m    220\u001b[0m \u001b[38;5;124;03m    \"\"\"\u001b[39;00m\n\u001b[0;32m--> 221\u001b[0m     \u001b[38;5;28;01mreturn\u001b[39;00m \u001b[38;5;28;43mself\u001b[39;49m\u001b[38;5;241;43m.\u001b[39;49m\u001b[43m_request\u001b[49m\u001b[43m(\u001b[49m\u001b[38;5;124;43m\"\u001b[39;49m\u001b[38;5;124;43mGET\u001b[39;49m\u001b[38;5;124;43m\"\u001b[39;49m\u001b[43m,\u001b[49m\u001b[43m \u001b[49m\u001b[43mpath\u001b[49m\u001b[43m,\u001b[49m\u001b[43m \u001b[49m\u001b[43mdata\u001b[49m\u001b[43m,\u001b[49m\u001b[43m \u001b[49m\u001b[38;5;241;43m*\u001b[39;49m\u001b[38;5;241;43m*\u001b[39;49m\u001b[43mkwargs\u001b[49m\u001b[43m)\u001b[49m\n",
      "File \u001b[0;32m~/anaconda3/envs/agent_env/lib/python3.10/site-packages/alpaca/common/rest.py:129\u001b[0m, in \u001b[0;36mRESTClient._request\u001b[0;34m(self, method, path, data, base_url, api_version)\u001b[0m\n\u001b[1;32m    127\u001b[0m \u001b[38;5;28;01mwhile\u001b[39;00m retry \u001b[38;5;241m>\u001b[39m\u001b[38;5;241m=\u001b[39m \u001b[38;5;241m0\u001b[39m:\n\u001b[1;32m    128\u001b[0m     \u001b[38;5;28;01mtry\u001b[39;00m:\n\u001b[0;32m--> 129\u001b[0m         \u001b[38;5;28;01mreturn\u001b[39;00m \u001b[38;5;28;43mself\u001b[39;49m\u001b[38;5;241;43m.\u001b[39;49m\u001b[43m_one_request\u001b[49m\u001b[43m(\u001b[49m\u001b[43mmethod\u001b[49m\u001b[43m,\u001b[49m\u001b[43m \u001b[49m\u001b[43murl\u001b[49m\u001b[43m,\u001b[49m\u001b[43m \u001b[49m\u001b[43mopts\u001b[49m\u001b[43m,\u001b[49m\u001b[43m \u001b[49m\u001b[43mretry\u001b[49m\u001b[43m)\u001b[49m\n\u001b[1;32m    130\u001b[0m     \u001b[38;5;28;01mexcept\u001b[39;00m RetryException:\n\u001b[1;32m    131\u001b[0m         time\u001b[38;5;241m.\u001b[39msleep(\u001b[38;5;28mself\u001b[39m\u001b[38;5;241m.\u001b[39m_retry_wait)\n",
      "File \u001b[0;32m~/anaconda3/envs/agent_env/lib/python3.10/site-packages/alpaca/common/rest.py:205\u001b[0m, in \u001b[0;36mRESTClient._one_request\u001b[0;34m(self, method, url, opts, retry)\u001b[0m\n\u001b[1;32m    202\u001b[0m     \u001b[38;5;66;03m# raise API error for all other errors\u001b[39;00m\n\u001b[1;32m    203\u001b[0m     error \u001b[38;5;241m=\u001b[39m response\u001b[38;5;241m.\u001b[39mtext\n\u001b[0;32m--> 205\u001b[0m     \u001b[38;5;28;01mraise\u001b[39;00m APIError(error, http_error)\n\u001b[1;32m    207\u001b[0m \u001b[38;5;28;01mif\u001b[39;00m response\u001b[38;5;241m.\u001b[39mtext \u001b[38;5;241m!=\u001b[39m \u001b[38;5;124m\"\u001b[39m\u001b[38;5;124m\"\u001b[39m:\n\u001b[1;32m    208\u001b[0m     \u001b[38;5;28;01mreturn\u001b[39;00m response\u001b[38;5;241m.\u001b[39mjson()\n",
      "\u001b[0;31mAPIError\u001b[0m: {\"message\":\"invalid symbol: ETHUSD does not match ^[A-Z]+/[A-Z]+$\"}\n"
     ]
    }
   ],
   "source": [
    "price=self.ticker_price(self.symbol.replace('/',''))\n",
    "price"
   ]
  },
  {
   "cell_type": "code",
   "execution_count": null,
   "metadata": {},
   "outputs": [],
   "source": [
    "trade_info=self.trade_client.get_asset(self.symbol)\n",
    "trade_info=trade_info.dict()\n",
    "trade_info"
   ]
  },
  {
   "cell_type": "code",
   "execution_count": null,
   "metadata": {},
   "outputs": [],
   "source": [
    "trade_info['min_trade_increment']*2,(trade_info['min_trade_increment'])\n",
    "trade_info['price_increment']"
   ]
  },
  {
   "cell_type": "code",
   "execution_count": null,
   "metadata": {},
   "outputs": [],
   "source": [
    "trade_info=self.get_trade_rules()\n",
    "min_asset_size=trade_info['min_asset_size']\n",
    "min_quote_size=min_asset_size*price\n",
    "prec=trade_info['quote_asset_precision']\n",
    "\n",
    "size=min_asset_size*price\n",
    "quant=round(size,prec)\n",
    "quant_norm=max([min_asset_size,quant])\n",
    "quant,quant_norm,min_asset_size"
   ]
  },
  {
   "cell_type": "code",
   "execution_count": null,
   "metadata": {},
   "outputs": [],
   "source": [
    "quant=quant_norm\n",
    "params = {\n",
    "    'symbol': self.symbol,\n",
    "    'side':\"buy\",\n",
    "    'type': 'MARKET',\n",
    "    # 'qty':min_asset_size\n",
    "    'notional':quant,\n",
    "    \"time_in_force\":'ioc'\n",
    "    }"
   ]
  },
  {
   "cell_type": "code",
   "execution_count": null,
   "metadata": {},
   "outputs": [],
   "source": [
    "# preparing market order\n",
    "market_order_data = self.order(params=params)\n",
    "market_order_data"
   ]
  },
  {
   "cell_type": "markdown",
   "metadata": {},
   "source": []
  },
  {
   "cell_type": "code",
   "execution_count": null,
   "metadata": {},
   "outputs": [],
   "source": [
    "positions = self.trade_client.get_all_positions()\n",
    "position_list=[p.dict() for p in positions]\n",
    "pos_frame=pd.DataFrame.from_dict(position_list)\n",
    "pos_frame['symbol']\n",
    "pos_frame=pos_frame.set_index('symbol')\n",
    "pos_frame['qty_available'].to_dict()"
   ]
  },
  {
   "cell_type": "code",
   "execution_count": null,
   "metadata": {},
   "outputs": [],
   "source": [
    "def get_asset_info(self,pair):\n",
    "    info=trading_client.get_asset(pair)\n",
    "    info=info.dict()\n"
   ]
  },
  {
   "cell_type": "code",
   "execution_count": null,
   "metadata": {},
   "outputs": [],
   "source": [
    "def set_trade_rules(self):\n",
    "    assets=trading_client.get_all_assets()\n",
    "    asset_df=pd.DataFrame.from_dict([asset.dict() for asset in assets])\n",
    "    asset_df=asset_df.set_index('symbol')\n",
    "    asset_df.loc[pair]"
   ]
  },
  {
   "cell_type": "code",
   "execution_count": null,
   "metadata": {},
   "outputs": [],
   "source": []
  },
  {
   "cell_type": "code",
   "execution_count": null,
   "metadata": {},
   "outputs": [],
   "source": [
    "account=trading_client.get_account()\n",
    "account.dict()"
   ]
  },
  {
   "cell_type": "code",
   "execution_count": null,
   "metadata": {},
   "outputs": [],
   "source": [
    "\n",
    "cash=account['cash']\n",
    "int(cash)"
   ]
  },
  {
   "cell_type": "code",
   "execution_count": null,
   "metadata": {},
   "outputs": [],
   "source": []
  },
  {
   "cell_type": "code",
   "execution_count": null,
   "metadata": {},
   "outputs": [],
   "source": [
    "renderer=LiveRenderer('Trade_history/trade.db')"
   ]
  },
  {
   "cell_type": "code",
   "execution_count": null,
   "metadata": {},
   "outputs": [],
   "source": [
    "renderer=LiveRenderer('Trade_history/trade.db')\n",
    "renderer.run()\n"
   ]
  },
  {
   "cell_type": "code",
   "execution_count": null,
   "metadata": {},
   "outputs": [],
   "source": []
  },
  {
   "cell_type": "code",
   "execution_count": null,
   "metadata": {},
   "outputs": [],
   "source": [
    "sql_query = \"\"\"SELECT name FROM sqlite_master  \n",
    "  WHERE type='table';\"\"\"\n",
    "\n",
    "cursor.execute(sql_query)\n",
    "render_names=[t[0] for t in cursor.fetchall()]\n",
    "name=render_names[0]\n",
    "df=pd.read_sql(f'select * from {name}',conn)\n",
    "df"
   ]
  },
  {
   "cell_type": "code",
   "execution_count": null,
   "metadata": {},
   "outputs": [],
   "source": []
  },
  {
   "cell_type": "code",
   "execution_count": null,
   "metadata": {},
   "outputs": [],
   "source": []
  },
  {
   "cell_type": "code",
   "execution_count": null,
   "metadata": {},
   "outputs": [],
   "source": [
    "# df.columns=[c.replace('data_','') for c in df.columns]\n",
    "# df['date']=df['date'].apply(pd.to_datetime)\n",
    "# df=df.set_index('date')\n",
    "df"
   ]
  },
  {
   "cell_type": "code",
   "execution_count": null,
   "metadata": {},
   "outputs": [],
   "source": [
    "# df=df[~df.close.isna()]\n",
    "mask=df[(df['date']=='62')==True].index\n",
    "df.loc[mask,'date']=df.loc[mask,'ds'].copy()\n"
   ]
  },
  {
   "cell_type": "code",
   "execution_count": null,
   "metadata": {},
   "outputs": [],
   "source": [
    "df"
   ]
  },
  {
   "cell_type": "code",
   "execution_count": null,
   "metadata": {},
   "outputs": [],
   "source": [
    "df.to_sql(render_names[0],conn,if_exists='replace',index=False)"
   ]
  },
  {
   "cell_type": "code",
   "execution_count": null,
   "metadata": {},
   "outputs": [],
   "source": [
    "import datetime"
   ]
  },
  {
   "cell_type": "code",
   "execution_count": null,
   "metadata": {},
   "outputs": [],
   "source": [
    "df.iloc[[-1]].to_dict('records')[0]"
   ]
  },
  {
   "cell_type": "code",
   "execution_count": null,
   "metadata": {},
   "outputs": [],
   "source": [
    "pd.Timestamp(datetime.datetime.now())"
   ]
  },
  {
   "cell_type": "code",
   "execution_count": null,
   "metadata": {},
   "outputs": [],
   "source": []
  }
 ],
 "metadata": {
  "kernelspec": {
   "display_name": "MLenv",
   "language": "python",
   "name": "python3"
  },
  "language_info": {
   "codemirror_mode": {
    "name": "ipython",
    "version": 3
   },
   "file_extension": ".py",
   "mimetype": "text/x-python",
   "name": "python",
   "nbconvert_exporter": "python",
   "pygments_lexer": "ipython3",
   "version": "3.10.14"
  }
 },
 "nbformat": 4,
 "nbformat_minor": 2
}
