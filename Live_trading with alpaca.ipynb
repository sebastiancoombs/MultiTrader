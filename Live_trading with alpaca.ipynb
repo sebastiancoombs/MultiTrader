{
 "cells": [
  {
   "cell_type": "code",
   "execution_count": 18,
   "metadata": {},
   "outputs": [],
   "source": [
    "import sqlite3 as db\n",
    "from utils.rendering import LiveRenderer\n",
    "\n",
    "import pandas as pd\n",
    "from alpaca.data.historical import CryptoHistoricalDataClient\n",
    "# from alpaca.data.bars import\n",
    "from alpaca.data.requests import CryptoBarsRequest\n",
    "from alpaca.data.timeframe import TimeFrame\n",
    "from alpaca.trading.client import TradingClient\n",
    "from alpaca.trading.requests import GetAssetsRequest\n",
    "from alpaca.trading.requests import MarketOrderRequest\n",
    "from alpaca.trading.enums import OrderSide, TimeInForce\n",
    "from alpaca.data.live.crypto import CryptoDataStream\n",
    "from utils.clients import AlpacaClient\n",
    "from utils.mappings import alpaca_stream_message_map,alpaca_stream_col_map\n",
    "import sys\n",
    "import json\n",
    "import datetime as dt\n",
    "import Keys\n",
    "import asyncio\n",
    "import threading\n",
    "import asyncio\n",
    "from pandas.tseries.offsets import Hour\n"
   ]
  },
  {
   "cell_type": "code",
   "execution_count": 3,
   "metadata": {},
   "outputs": [],
   "source": [
    "t_frame=TimeFrame(1,unit='h')\n"
   ]
  },
  {
   "cell_type": "code",
   "execution_count": 4,
   "metadata": {},
   "outputs": [
    {
     "data": {
      "text/html": [
       "<div>\n",
       "<style scoped>\n",
       "    .dataframe tbody tr th:only-of-type {\n",
       "        vertical-align: middle;\n",
       "    }\n",
       "\n",
       "    .dataframe tbody tr th {\n",
       "        vertical-align: top;\n",
       "    }\n",
       "\n",
       "    .dataframe thead th {\n",
       "        text-align: right;\n",
       "    }\n",
       "</style>\n",
       "<table border=\"1\" class=\"dataframe\">\n",
       "  <thead>\n",
       "    <tr style=\"text-align: right;\">\n",
       "      <th></th>\n",
       "      <th>idx</th>\n",
       "      <th>step</th>\n",
       "      <th>date</th>\n",
       "      <th>position_index</th>\n",
       "      <th>position</th>\n",
       "      <th>real_position</th>\n",
       "      <th>portfolio_valuation</th>\n",
       "      <th>portfolio_distribution_asset</th>\n",
       "      <th>portfolio_distribution_fiat</th>\n",
       "      <th>portfolio_distribution_borrowed_asset</th>\n",
       "      <th>...</th>\n",
       "      <th>feature_log_volume_20</th>\n",
       "      <th>feature_log_return_25</th>\n",
       "      <th>feature_log_volume_25</th>\n",
       "      <th>feature_log_return_30</th>\n",
       "      <th>feature_log_volume_30</th>\n",
       "      <th>ds</th>\n",
       "      <th>symbol</th>\n",
       "      <th>unique_id</th>\n",
       "      <th>dynamic_feature__0</th>\n",
       "      <th>dynamic_feature__1</th>\n",
       "    </tr>\n",
       "  </thead>\n",
       "  <tbody>\n",
       "    <tr>\n",
       "      <th>0</th>\n",
       "      <td>-1</td>\n",
       "      <td>0</td>\n",
       "      <td>2024-06-03 10:52:14.993620</td>\n",
       "      <td>0</td>\n",
       "      <td>0.0</td>\n",
       "      <td>0.0</td>\n",
       "      <td>11897.083188</td>\n",
       "      <td>0.7874</td>\n",
       "      <td>8922.498586</td>\n",
       "      <td>0</td>\n",
       "      <td>...</td>\n",
       "      <td>0.974330</td>\n",
       "      <td>0.429621</td>\n",
       "      <td>0.655696</td>\n",
       "      <td>0.432442</td>\n",
       "      <td>0.202964</td>\n",
       "      <td>2024-06-03 17:59:59.999000</td>\n",
       "      <td>ETHUSDT</td>\n",
       "      <td>8</td>\n",
       "      <td>0</td>\n",
       "      <td>0</td>\n",
       "    </tr>\n",
       "    <tr>\n",
       "      <th>1</th>\n",
       "      <td>-1</td>\n",
       "      <td>0</td>\n",
       "      <td>2024-06-04 15:32:41.674590</td>\n",
       "      <td>0</td>\n",
       "      <td>0.0</td>\n",
       "      <td>0.0</td>\n",
       "      <td>11920.741196</td>\n",
       "      <td>0.7829</td>\n",
       "      <td>8930.650371</td>\n",
       "      <td>0</td>\n",
       "      <td>...</td>\n",
       "      <td>-0.033560</td>\n",
       "      <td>0.566785</td>\n",
       "      <td>-0.345679</td>\n",
       "      <td>0.395415</td>\n",
       "      <td>-0.200718</td>\n",
       "      <td>2024-06-04 22:59:59.999000</td>\n",
       "      <td>ETHUSDT</td>\n",
       "      <td>8</td>\n",
       "      <td>0</td>\n",
       "      <td>0</td>\n",
       "    </tr>\n",
       "    <tr>\n",
       "      <th>2</th>\n",
       "      <td>-1</td>\n",
       "      <td>0</td>\n",
       "      <td>2024-06-04 15:32:42.825506</td>\n",
       "      <td>0</td>\n",
       "      <td>0.0</td>\n",
       "      <td>0.0</td>\n",
       "      <td>11920.741196</td>\n",
       "      <td>0.7829</td>\n",
       "      <td>8930.650371</td>\n",
       "      <td>0</td>\n",
       "      <td>...</td>\n",
       "      <td>-0.029978</td>\n",
       "      <td>0.566806</td>\n",
       "      <td>-0.343017</td>\n",
       "      <td>0.395071</td>\n",
       "      <td>-0.197461</td>\n",
       "      <td>2024-06-04 22:59:59.999000</td>\n",
       "      <td>ETHUSDT</td>\n",
       "      <td>8</td>\n",
       "      <td>0</td>\n",
       "      <td>0</td>\n",
       "    </tr>\n",
       "    <tr>\n",
       "      <th>3</th>\n",
       "      <td>-1</td>\n",
       "      <td>1</td>\n",
       "      <td>2024-06-04 15:32:43.874930</td>\n",
       "      <td>0</td>\n",
       "      <td>-0.5</td>\n",
       "      <td>-0.5</td>\n",
       "      <td>11920.258949</td>\n",
       "      <td>0.7803</td>\n",
       "      <td>8940.402491</td>\n",
       "      <td>0</td>\n",
       "      <td>...</td>\n",
       "      <td>-0.029978</td>\n",
       "      <td>0.566806</td>\n",
       "      <td>-0.343017</td>\n",
       "      <td>0.395071</td>\n",
       "      <td>-0.197461</td>\n",
       "      <td>2024-06-04 22:59:59.999000</td>\n",
       "      <td>ETHUSDT</td>\n",
       "      <td>8</td>\n",
       "      <td>0</td>\n",
       "      <td>0</td>\n",
       "    </tr>\n",
       "    <tr>\n",
       "      <th>4</th>\n",
       "      <td>-1</td>\n",
       "      <td>0</td>\n",
       "      <td>2024-06-04 15:33:51.614968</td>\n",
       "      <td>0</td>\n",
       "      <td>0.0</td>\n",
       "      <td>0.0</td>\n",
       "      <td>11922.498410</td>\n",
       "      <td>0.7803</td>\n",
       "      <td>8940.402491</td>\n",
       "      <td>0</td>\n",
       "      <td>...</td>\n",
       "      <td>-0.010170</td>\n",
       "      <td>0.566898</td>\n",
       "      <td>-0.328377</td>\n",
       "      <td>0.393574</td>\n",
       "      <td>-0.179491</td>\n",
       "      <td>2024-06-04 22:59:59.999000</td>\n",
       "      <td>ETHUSDT</td>\n",
       "      <td>8</td>\n",
       "      <td>0</td>\n",
       "      <td>0</td>\n",
       "    </tr>\n",
       "  </tbody>\n",
       "</table>\n",
       "<p>5 rows × 46 columns</p>\n",
       "</div>"
      ],
      "text/plain": [
       "   idx  step                        date  position_index  position  \\\n",
       "0   -1     0  2024-06-03 10:52:14.993620               0       0.0   \n",
       "1   -1     0  2024-06-04 15:32:41.674590               0       0.0   \n",
       "2   -1     0  2024-06-04 15:32:42.825506               0       0.0   \n",
       "3   -1     1  2024-06-04 15:32:43.874930               0      -0.5   \n",
       "4   -1     0  2024-06-04 15:33:51.614968               0       0.0   \n",
       "\n",
       "   real_position  portfolio_valuation  portfolio_distribution_asset  \\\n",
       "0            0.0         11897.083188                        0.7874   \n",
       "1            0.0         11920.741196                        0.7829   \n",
       "2            0.0         11920.741196                        0.7829   \n",
       "3           -0.5         11920.258949                        0.7803   \n",
       "4            0.0         11922.498410                        0.7803   \n",
       "\n",
       "   portfolio_distribution_fiat  portfolio_distribution_borrowed_asset  ...  \\\n",
       "0                  8922.498586                                      0  ...   \n",
       "1                  8930.650371                                      0  ...   \n",
       "2                  8930.650371                                      0  ...   \n",
       "3                  8940.402491                                      0  ...   \n",
       "4                  8940.402491                                      0  ...   \n",
       "\n",
       "   feature_log_volume_20  feature_log_return_25  feature_log_volume_25  \\\n",
       "0               0.974330               0.429621               0.655696   \n",
       "1              -0.033560               0.566785              -0.345679   \n",
       "2              -0.029978               0.566806              -0.343017   \n",
       "3              -0.029978               0.566806              -0.343017   \n",
       "4              -0.010170               0.566898              -0.328377   \n",
       "\n",
       "   feature_log_return_30  feature_log_volume_30                          ds  \\\n",
       "0               0.432442               0.202964  2024-06-03 17:59:59.999000   \n",
       "1               0.395415              -0.200718  2024-06-04 22:59:59.999000   \n",
       "2               0.395071              -0.197461  2024-06-04 22:59:59.999000   \n",
       "3               0.395071              -0.197461  2024-06-04 22:59:59.999000   \n",
       "4               0.393574              -0.179491  2024-06-04 22:59:59.999000   \n",
       "\n",
       "    symbol  unique_id  dynamic_feature__0  dynamic_feature__1  \n",
       "0  ETHUSDT          8                   0                   0  \n",
       "1  ETHUSDT          8                   0                   0  \n",
       "2  ETHUSDT          8                   0                   0  \n",
       "3  ETHUSDT          8                   0                   0  \n",
       "4  ETHUSDT          8                   0                   0  \n",
       "\n",
       "[5 rows x 46 columns]"
      ]
     },
     "execution_count": 4,
     "metadata": {},
     "output_type": "execute_result"
    }
   ],
   "source": [
    "symbol=\"ETHUSDT\"\n",
    "pair=\"ETH/USD\"\n",
    "base_asset=pair.split('/')[0]\n",
    "quote_asset=pair.split('/')[1]\n",
    "history_path='Trade_history/trade.db'\n",
    "\n",
    "conn=db.connect(history_path)\n",
    "history_df=pd.read_sql(f'select * from {symbol}_trade_history',conn)\n",
    "history_df.head(5)"
   ]
  },
  {
   "cell_type": "code",
   "execution_count": 5,
   "metadata": {},
   "outputs": [],
   "source": [
    "api_key=Keys.alpaca_api_key\n",
    "api_secret=Keys.alpaca_api_secret"
   ]
  },
  {
   "cell_type": "code",
   "execution_count": 6,
   "metadata": {},
   "outputs": [],
   "source": [
    "paper_url='wss://stream.data.paper.alpaca.markets/v1beta3/crypto/us'\n",
    "live_url='wss://stream.data.alpaca.markets/v1beta3/crypto/us'\n"
   ]
  },
  {
   "cell_type": "code",
   "execution_count": 7,
   "metadata": {},
   "outputs": [],
   "source": [
    "sock=CryptoDataStream(api_key=api_key,secret_key=api_secret,raw_data=True)\n",
    "\n",
    "sock._is_running=True"
   ]
  },
  {
   "cell_type": "code",
   "execution_count": 8,
   "metadata": {},
   "outputs": [],
   "source": [
    "example_bars=[{\n",
    "  \"T\": \"b\",\n",
    "  \"S\": \"BTC/USD\",\n",
    "  \"o\": 71856.1435,\n",
    "  \"h\": 71856.1435,\n",
    "  \"l\": 71856.1435,\n",
    "  \"c\": 71856.1435,\n",
    "  \"v\": 0,\n",
    "  \"t\": \"2024-03-12T10:37:00Z\",\n",
    "  \"n\": 0,\n",
    "  \"vw\": 0\n",
    "},{\n",
    "  \"T\": \"b\",\n",
    "  \"S\": \"BTC/USD\",\n",
    "  \"o\": 71856.1435,\n",
    "  \"h\": 71856.1435,\n",
    "  \"l\": 71856.1435,\n",
    "  \"c\": 71856.1435,\n",
    "  \"v\": 0,\n",
    "  \"t\": \"2024-03-12T10:37:00Z\",\n",
    "  \"n\": 0,\n",
    "  \"vw\": 0\n",
    "}]"
   ]
  },
  {
   "cell_type": "code",
   "execution_count": 27,
   "metadata": {},
   "outputs": [],
   "source": [
    "from pandas.tseries.offsets import DateOffset,Hour"
   ]
  },
  {
   "cell_type": "code",
   "execution_count": 33,
   "metadata": {},
   "outputs": [
    {
     "data": {
      "text/plain": [
       "'11:59'"
      ]
     },
     "execution_count": 33,
     "metadata": {},
     "output_type": "execute_result"
    }
   ],
   "source": [
    "bar_time=pd.Timestamp(\"2024-03-12T11:59:00Z\")\n",
    "bar_time.strftime(\"%H:%M\")"
   ]
  },
  {
   "cell_type": "code",
   "execution_count": 32,
   "metadata": {},
   "outputs": [
    {
     "name": "stdout",
     "output_type": "stream",
     "text": [
      "11:00 ####### is on hour? True\n"
     ]
    }
   ],
   "source": [
    "bar_time=pd.Timestamp(\"2024-03-12T11:00:00Z\")\n",
    "print(bar_time.strftime(\"%H:%M\"),\"####### is on hour?\",bar_time.minute==0)"
   ]
  },
  {
   "cell_type": "code",
   "execution_count": null,
   "metadata": {},
   "outputs": [],
   "source": [
    "data=pd.DataFrame(example_bars)\n",
    "\n",
    "data=data.rename(columns=alpaca_stream_col_map)\n",
    "data['date_close']=data['date_close'].apply(pd.Timestamp)\n",
    "data['bar_type']=data['bar_type'].map(alpaca_stream_message_map)\n",
    "\n",
    "data"
   ]
  },
  {
   "cell_type": "code",
   "execution_count": null,
   "metadata": {},
   "outputs": [],
   "source": [
    "import nest_asyncio\n",
    "nest_asyncio.apply()"
   ]
  },
  {
   "cell_type": "code",
   "execution_count": null,
   "metadata": {},
   "outputs": [],
   "source": [
    "async def on_bar(message):\n",
    "    print('BAR',message,file=sys.stdout)\n",
    "\n",
    "async def on_quote(message):\n",
    "    print('QUOTE',message,file=sys.stdout)\n",
    "sock.subscribe_bars(on_bar,pair)\n",
    "sock.subscribe_quotes(on_quote,pair)\n",
    "sock.run()\n"
   ]
  },
  {
   "cell_type": "code",
   "execution_count": null,
   "metadata": {},
   "outputs": [],
   "source": [
    "sock.subscribe_bars(on_bar,pair)\n",
    "sock.subscribe_quotes(on_quote,pair)"
   ]
  },
  {
   "cell_type": "code",
   "execution_count": null,
   "metadata": {},
   "outputs": [],
   "source": [
    "sock.run()\n"
   ]
  },
  {
   "cell_type": "code",
   "execution_count": null,
   "metadata": {},
   "outputs": [],
   "source": [
    "symbol='ETHUSD'"
   ]
  },
  {
   "cell_type": "code",
   "execution_count": null,
   "metadata": {},
   "outputs": [],
   "source": [
    "sock."
   ]
  },
  {
   "cell_type": "code",
   "execution_count": null,
   "metadata": {},
   "outputs": [],
   "source": [
    "self = AlpacaClient(api_key, api_secret,symbol=pair,time_frame='1h',paper=True)\n"
   ]
  },
  {
   "cell_type": "code",
   "execution_count": null,
   "metadata": {},
   "outputs": [],
   "source": [
    "self.account()"
   ]
  },
  {
   "cell_type": "code",
   "execution_count": null,
   "metadata": {},
   "outputs": [],
   "source": [
    "pd.Timedelta('1h')*48"
   ]
  },
  {
   "cell_type": "code",
   "execution_count": null,
   "metadata": {},
   "outputs": [],
   "source": [
    "start_date=(dt.datetime.now()-pd.Timedelta(hours=48*2))\n",
    "data=self.get_historical_data(start_date=start_date)\n",
    "data"
   ]
  },
  {
   "cell_type": "code",
   "execution_count": null,
   "metadata": {},
   "outputs": [],
   "source": [
    "price=self.ticker_price(self.symbol)"
   ]
  },
  {
   "cell_type": "code",
   "execution_count": null,
   "metadata": {},
   "outputs": [],
   "source": [
    "trade_info=self.trade_client.get_asset(self.symbol)\n",
    "trade_info=trade_info.dict()\n",
    "trade_info"
   ]
  },
  {
   "cell_type": "code",
   "execution_count": null,
   "metadata": {},
   "outputs": [],
   "source": [
    "trade_info['min_trade_increment']*2,(trade_info['min_trade_increment'])\n",
    "trade_info['price_increment']"
   ]
  },
  {
   "cell_type": "code",
   "execution_count": null,
   "metadata": {},
   "outputs": [],
   "source": [
    "trade_info=self.get_trade_rules()\n",
    "min_asset_size=trade_info['min_asset_size']\n",
    "min_quote_size=min_asset_size*price\n",
    "prec=trade_info['quote_asset_precision']\n",
    "\n",
    "size=min_asset_size*price\n",
    "quant=round(size,prec)\n",
    "quant_norm=max([min_asset_size,quant])\n",
    "quant,quant_norm,min_asset_size"
   ]
  },
  {
   "cell_type": "code",
   "execution_count": null,
   "metadata": {},
   "outputs": [],
   "source": [
    "quant=quant_norm\n",
    "params = {\n",
    "    'symbol': self.symbol,\n",
    "    'side':\"buy\",\n",
    "    'type': 'MARKET',\n",
    "    # 'qty':min_asset_size\n",
    "    'notional':quant,\n",
    "    \"time_in_force\":'ioc'\n",
    "    }"
   ]
  },
  {
   "cell_type": "code",
   "execution_count": null,
   "metadata": {},
   "outputs": [],
   "source": [
    "# preparing market order\n",
    "market_order_data = self.order(params=params)\n",
    "market_order_data"
   ]
  },
  {
   "cell_type": "markdown",
   "metadata": {},
   "source": []
  },
  {
   "cell_type": "code",
   "execution_count": null,
   "metadata": {},
   "outputs": [],
   "source": [
    "positions = self.trade_client.get_all_positions()\n",
    "position_list=[p.dict() for p in positions]\n",
    "pos_frame=pd.DataFrame.from_dict(position_list)\n",
    "pos_frame['symbol']\n",
    "pos_frame=pos_frame.set_index('symbol')\n",
    "pos_frame['qty_available'].to_dict()"
   ]
  },
  {
   "cell_type": "code",
   "execution_count": null,
   "metadata": {},
   "outputs": [],
   "source": [
    "def get_asset_info(self,pair):\n",
    "    info=trading_client.get_asset(pair)\n",
    "    info=info.dict()\n"
   ]
  },
  {
   "cell_type": "code",
   "execution_count": null,
   "metadata": {},
   "outputs": [],
   "source": [
    "def set_trade_rules(self):\n",
    "    assets=trading_client.get_all_assets()\n",
    "    asset_df=pd.DataFrame.from_dict([asset.dict() for asset in assets])\n",
    "    asset_df=asset_df.set_index('symbol')\n",
    "    asset_df.loc[pair]"
   ]
  },
  {
   "cell_type": "code",
   "execution_count": null,
   "metadata": {},
   "outputs": [],
   "source": []
  },
  {
   "cell_type": "code",
   "execution_count": null,
   "metadata": {},
   "outputs": [],
   "source": [
    "account=trading_client.get_account()\n",
    "account.dict()"
   ]
  },
  {
   "cell_type": "code",
   "execution_count": null,
   "metadata": {},
   "outputs": [],
   "source": [
    "\n",
    "cash=account['cash']\n",
    "int(cash)"
   ]
  },
  {
   "cell_type": "code",
   "execution_count": null,
   "metadata": {},
   "outputs": [],
   "source": []
  },
  {
   "cell_type": "code",
   "execution_count": null,
   "metadata": {},
   "outputs": [],
   "source": [
    "renderer=LiveRenderer('Trade_history/trade.db')"
   ]
  },
  {
   "cell_type": "code",
   "execution_count": null,
   "metadata": {},
   "outputs": [],
   "source": [
    "renderer=LiveRenderer('Trade_history/trade.db')\n",
    "renderer.run()\n"
   ]
  },
  {
   "cell_type": "code",
   "execution_count": null,
   "metadata": {},
   "outputs": [],
   "source": []
  },
  {
   "cell_type": "code",
   "execution_count": null,
   "metadata": {},
   "outputs": [],
   "source": [
    "sql_query = \"\"\"SELECT name FROM sqlite_master  \n",
    "  WHERE type='table';\"\"\"\n",
    "\n",
    "cursor.execute(sql_query)\n",
    "render_names=[t[0] for t in cursor.fetchall()]\n",
    "name=render_names[0]\n",
    "df=pd.read_sql(f'select * from {name}',conn)\n",
    "df"
   ]
  },
  {
   "cell_type": "code",
   "execution_count": null,
   "metadata": {},
   "outputs": [],
   "source": []
  },
  {
   "cell_type": "code",
   "execution_count": null,
   "metadata": {},
   "outputs": [],
   "source": []
  },
  {
   "cell_type": "code",
   "execution_count": null,
   "metadata": {},
   "outputs": [],
   "source": [
    "# df.columns=[c.replace('data_','') for c in df.columns]\n",
    "# df['date']=df['date'].apply(pd.to_datetime)\n",
    "# df=df.set_index('date')\n",
    "df"
   ]
  },
  {
   "cell_type": "code",
   "execution_count": null,
   "metadata": {},
   "outputs": [],
   "source": [
    "# df=df[~df.close.isna()]\n",
    "mask=df[(df['date']=='62')==True].index\n",
    "df.loc[mask,'date']=df.loc[mask,'ds'].copy()\n"
   ]
  },
  {
   "cell_type": "code",
   "execution_count": null,
   "metadata": {},
   "outputs": [],
   "source": [
    "df"
   ]
  },
  {
   "cell_type": "code",
   "execution_count": null,
   "metadata": {},
   "outputs": [],
   "source": [
    "df.to_sql(render_names[0],conn,if_exists='replace',index=False)"
   ]
  },
  {
   "cell_type": "code",
   "execution_count": null,
   "metadata": {},
   "outputs": [],
   "source": [
    "import datetime"
   ]
  },
  {
   "cell_type": "code",
   "execution_count": null,
   "metadata": {},
   "outputs": [],
   "source": [
    "df.iloc[[-1]].to_dict('records')[0]"
   ]
  },
  {
   "cell_type": "code",
   "execution_count": null,
   "metadata": {},
   "outputs": [],
   "source": [
    "pd.Timestamp(datetime.datetime.now())"
   ]
  },
  {
   "cell_type": "code",
   "execution_count": null,
   "metadata": {},
   "outputs": [],
   "source": []
  }
 ],
 "metadata": {
  "kernelspec": {
   "display_name": "MLenv",
   "language": "python",
   "name": "python3"
  },
  "language_info": {
   "codemirror_mode": {
    "name": "ipython",
    "version": 3
   },
   "file_extension": ".py",
   "mimetype": "text/x-python",
   "name": "python",
   "nbconvert_exporter": "python",
   "pygments_lexer": "ipython3",
   "version": "3.9.19"
  }
 },
 "nbformat": 4,
 "nbformat_minor": 2
}
