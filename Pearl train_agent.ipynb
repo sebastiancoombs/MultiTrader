{
 "cells": [
  {
   "cell_type": "code",
   "execution_count": 1,
   "metadata": {},
   "outputs": [],
   "source": [
    "import warnings\n",
    "import logging\n",
    "\n",
    "\n",
    "warnings.filterwarnings('ignore')\n",
    "warnings.simplefilter('ignore')"
   ]
  },
  {
   "cell_type": "code",
   "execution_count": null,
   "metadata": {},
   "outputs": [
    {
     "ename": "ModuleNotFoundError",
     "evalue": "No module named 'futures_defaults'",
     "output_type": "error",
     "traceback": [
      "\u001b[0;31m---------------------------------------------------------------------------\u001b[0m",
      "\u001b[0;31mModuleNotFoundError\u001b[0m                       Traceback (most recent call last)",
      "\u001b[1;32m/Users/sebastiancoombs/Documents/Git/MultiTrader/Pearl train_agent.ipynb Cell 2\u001b[0m line \u001b[0;36m1\n\u001b[0;32m----> <a href='vscode-notebook-cell:/Users/sebastiancoombs/Documents/Git/MultiTrader/Pearl%20train_agent.ipynb#W1sZmlsZQ%3D%3D?line=0'>1</a>\u001b[0m \u001b[39mfrom\u001b[39;00m \u001b[39mutils\u001b[39;00m \u001b[39mimport\u001b[39;00m make_environments\n\u001b[1;32m      <a href='vscode-notebook-cell:/Users/sebastiancoombs/Documents/Git/MultiTrader/Pearl%20train_agent.ipynb#W1sZmlsZQ%3D%3D?line=1'>2</a>\u001b[0m \u001b[39mfrom\u001b[39;00m \u001b[39mutils\u001b[39;00m \u001b[39mimport\u001b[39;00m pearl_utils\n\u001b[1;32m      <a href='vscode-notebook-cell:/Users/sebastiancoombs/Documents/Git/MultiTrader/Pearl%20train_agent.ipynb#W1sZmlsZQ%3D%3D?line=2'>3</a>\u001b[0m \u001b[39mfrom\u001b[39;00m \u001b[39mconfigs\u001b[39;00m  \u001b[39mimport\u001b[39;00m  spot_defaults \u001b[39mas\u001b[39;00m defaults\n",
      "File \u001b[0;32m~/Documents/Git/MultiTrader/utils/make_environments.py:1\u001b[0m\n\u001b[0;32m----> 1\u001b[0m \u001b[39mfrom\u001b[39;00m \u001b[39mconfigs\u001b[39;00m \u001b[39mimport\u001b[39;00m spot_defaults\n\u001b[1;32m      3\u001b[0m \u001b[39mimport\u001b[39;00m \u001b[39mdatetime\u001b[39;00m\n\u001b[1;32m      4\u001b[0m \u001b[39mfrom\u001b[39;00m \u001b[39mutils\u001b[39;00m\u001b[39m.\u001b[39;00m\u001b[39mutils\u001b[39;00m \u001b[39mimport\u001b[39;00m prepare_forecast_data,build_market_image,train_test_split_data\n",
      "File \u001b[0;32m~/Documents/Git/MultiTrader/configs/__init__.py:1\u001b[0m\n\u001b[0;32m----> 1\u001b[0m \u001b[39mimport\u001b[39;00m \u001b[39mfutures_defaults\u001b[39;00m\n\u001b[1;32m      2\u001b[0m \u001b[39mimport\u001b[39;00m \u001b[39mspot_defaults\u001b[39;00m \u001b[39mas\u001b[39;00m \u001b[39mdefaults\u001b[39;00m\n\u001b[1;32m      3\u001b[0m \u001b[39mimport\u001b[39;00m \u001b[39mfx_defaults\u001b[39;00m\n",
      "\u001b[0;31mModuleNotFoundError\u001b[0m: No module named 'futures_defaults'"
     ]
    }
   ],
   "source": [
    "from utils import make_environments\n",
    "from utils import pearl_utils\n",
    "from configs  import defaults\n",
    "\n",
    "from utils.reward_functions import log_reward_function,cumulative_reward_function,sharpe_reward_function\n",
    "from utils. utils import make_hidden_dims\n",
    "import optuna\n",
    "from optuna.samplers import TPESampler\n",
    "from neuralforecast.core import NeuralForecast\n",
    "from Pearl.pearl.utils.instantiations.environments.gym_environment import GymEnvironment\n",
    "from Pearl.pearl.utils.functional_utils.train_and_eval.online_learning import online_learning\n",
    "import datetime\n",
    "\n",
    "import numpy as np\n",
    "import pickle\n",
    "import boto3"
   ]
  },
  {
   "cell_type": "code",
   "execution_count": 1,
   "metadata": {},
   "outputs": [
    {
     "ename": "ModuleNotFoundError",
     "evalue": "No module named 'futures_defaults'",
     "output_type": "error",
     "traceback": [
      "\u001b[0;31m---------------------------------------------------------------------------\u001b[0m",
      "\u001b[0;31mModuleNotFoundError\u001b[0m                       Traceback (most recent call last)",
      "\u001b[1;32m/Users/sebastiancoombs/Documents/Git/MultiTrader/Pearl train_agent.ipynb Cell 3\u001b[0m line \u001b[0;36m1\n\u001b[0;32m----> <a href='vscode-notebook-cell:/Users/sebastiancoombs/Documents/Git/MultiTrader/Pearl%20train_agent.ipynb#X25sZmlsZQ%3D%3D?line=0'>1</a>\u001b[0m \u001b[39mfrom\u001b[39;00m \u001b[39mconfigs\u001b[39;00m \u001b[39mimport\u001b[39;00m defaults\n",
      "File \u001b[0;32m~/Documents/Git/MultiTrader/configs/__init__.py:1\u001b[0m\n\u001b[0;32m----> 1\u001b[0m \u001b[39mimport\u001b[39;00m \u001b[39mfutures_defaults\u001b[39;00m\n\u001b[1;32m      2\u001b[0m \u001b[39mimport\u001b[39;00m \u001b[39mspot_defaults\u001b[39;00m \u001b[39mas\u001b[39;00m \u001b[39mdefaults\u001b[39;00m\n\u001b[1;32m      3\u001b[0m \u001b[39mimport\u001b[39;00m \u001b[39mfx_defaults\u001b[39;00m\n",
      "\u001b[0;31mModuleNotFoundError\u001b[0m: No module named 'futures_defaults'"
     ]
    }
   ],
   "source": [
    "from configs import defaults"
   ]
  },
  {
   "cell_type": "code",
   "execution_count": 3,
   "metadata": {},
   "outputs": [],
   "source": [
    "# model=NeuralForecast.load('MultiHeadForecastingModel/')"
   ]
  },
  {
   "cell_type": "code",
   "execution_count": null,
   "metadata": {},
   "outputs": [
    {
     "ename": "FutureWarning",
     "evalue": "You are using `torch.load` with `weights_only=False` (the current default value), which uses the default pickle module implicitly. It is possible to construct malicious pickle data which will execute arbitrary code during unpickling (See https://github.com/pytorch/pytorch/blob/main/SECURITY.md#untrusted-models for more details). In a future release, the default value for `weights_only` will be flipped to `True`. This limits the functions that could be executed during unpickling. Arbitrary objects will no longer be allowed to be loaded via this mode unless they are explicitly allowlisted by the user via `torch.serialization.add_safe_globals`. We recommend you start setting `weights_only=True` for any use case where you don't have full control of the loaded file. Please open an issue on GitHub for any issues related to this experimental feature.",
     "output_type": "error",
     "traceback": [
      "\u001b[0;31m---------------------------------------------------------------------------\u001b[0m",
      "\u001b[0;31mFutureWarning\u001b[0m                             Traceback (most recent call last)",
      "\u001b[1;32m/Users/sebastiancoombs/Documents/Git/MultiTrader/Pearl train_agent.ipynb Cell 4\u001b[0m line \u001b[0;36m2\n\u001b[1;32m      <a href='vscode-notebook-cell:/Users/sebastiancoombs/Documents/Git/MultiTrader/Pearl%20train_agent.ipynb#W3sZmlsZQ%3D%3D?line=0'>1</a>\u001b[0m reward_functions\u001b[39m=\u001b[39m[log_reward_function,cumulative_reward_function,sharpe_reward_function]\n\u001b[0;32m----> <a href='vscode-notebook-cell:/Users/sebastiancoombs/Documents/Git/MultiTrader/Pearl%20train_agent.ipynb#W3sZmlsZQ%3D%3D?line=1'>2</a>\u001b[0m train_env,test_env\u001b[39m=\u001b[39mmake_environments\u001b[39m.\u001b[39;49mmake_envs(reward_function\u001b[39m=\u001b[39;49mlog_reward_function)\n",
      "File \u001b[0;32m~/Documents/Git/MultiTrader/utils/make_environments.py:25\u001b[0m, in \u001b[0;36mmake_envs\u001b[0;34m(reward_function)\u001b[0m\n\u001b[1;32m     24\u001b[0m \u001b[39mdef\u001b[39;00m \u001b[39mmake_envs\u001b[39m(reward_function):\n\u001b[0;32m---> 25\u001b[0m     model\u001b[39m=\u001b[39mNeuralForecast\u001b[39m.\u001b[39;49mload(model_path)\n\u001b[1;32m     26\u001b[0m     ohlv_data\u001b[39m=\u001b[39mbuild_market_image(data_dir\u001b[39m=\u001b[39mDATA_DIR,target_pair\u001b[39m=\u001b[39mtarget_pair,time_frame\u001b[39m=\u001b[39m\u001b[39m'\u001b[39m\u001b[39m1h\u001b[39m\u001b[39m'\u001b[39m,axis\u001b[39m=\u001b[39m\u001b[39m0\u001b[39m,verbose\u001b[39m=\u001b[39m\u001b[39m1\u001b[39m,only_target\u001b[39m=\u001b[39m\u001b[39mTrue\u001b[39;00m)\n\u001b[1;32m     27\u001b[0m     display(ohlv_data\u001b[39m.\u001b[39mhead())\n",
      "File \u001b[0;32m~/anaconda3/envs/pearlenv/lib/python3.10/site-packages/neuralforecast/core.py:1507\u001b[0m, in \u001b[0;36mNeuralForecast.load\u001b[0;34m(path, verbose, **kwargs)\u001b[0m\n\u001b[1;32m   1505\u001b[0m model_name \u001b[39m=\u001b[39m \u001b[39m\"\u001b[39m\u001b[39m_\u001b[39m\u001b[39m\"\u001b[39m\u001b[39m.\u001b[39mjoin(model\u001b[39m.\u001b[39msplit(\u001b[39m\"\u001b[39m\u001b[39m_\u001b[39m\u001b[39m\"\u001b[39m)[:\u001b[39m-\u001b[39m\u001b[39m1\u001b[39m])\n\u001b[1;32m   1506\u001b[0m model_class_name \u001b[39m=\u001b[39m alias_to_model\u001b[39m.\u001b[39mget(model_name, model_name)\n\u001b[0;32m-> 1507\u001b[0m loaded_model \u001b[39m=\u001b[39m MODEL_FILENAME_DICT[model_class_name]\u001b[39m.\u001b[39;49mload(\n\u001b[1;32m   1508\u001b[0m     \u001b[39mf\u001b[39;49m\u001b[39m\"\u001b[39;49m\u001b[39m{\u001b[39;49;00mpath\u001b[39m}\u001b[39;49;00m\u001b[39m/\u001b[39;49m\u001b[39m{\u001b[39;49;00mmodel\u001b[39m}\u001b[39;49;00m\u001b[39m\"\u001b[39;49m, \u001b[39m*\u001b[39;49m\u001b[39m*\u001b[39;49mkwargs\n\u001b[1;32m   1509\u001b[0m )\n\u001b[1;32m   1510\u001b[0m loaded_model\u001b[39m.\u001b[39malias \u001b[39m=\u001b[39m model_name\n\u001b[1;32m   1511\u001b[0m models\u001b[39m.\u001b[39mappend(loaded_model)\n",
      "File \u001b[0;32m~/anaconda3/envs/pearlenv/lib/python3.10/site-packages/neuralforecast/common/_base_model.py:444\u001b[0m, in \u001b[0;36mBaseModel.load\u001b[0;34m(cls, path, **kwargs)\u001b[0m\n\u001b[1;32m    441\u001b[0m \u001b[39m@classmethod\u001b[39m\n\u001b[1;32m    442\u001b[0m \u001b[39mdef\u001b[39;00m \u001b[39mload\u001b[39m(\u001b[39mcls\u001b[39m, path, \u001b[39m*\u001b[39m\u001b[39m*\u001b[39mkwargs):\n\u001b[1;32m    443\u001b[0m     \u001b[39mwith\u001b[39;00m fsspec\u001b[39m.\u001b[39mopen(path, \u001b[39m\"\u001b[39m\u001b[39mrb\u001b[39m\u001b[39m\"\u001b[39m) \u001b[39mas\u001b[39;00m f:\n\u001b[0;32m--> 444\u001b[0m         content \u001b[39m=\u001b[39m torch\u001b[39m.\u001b[39;49mload(f, \u001b[39m*\u001b[39;49m\u001b[39m*\u001b[39;49mkwargs)\n\u001b[1;32m    445\u001b[0m     \u001b[39mwith\u001b[39;00m _disable_torch_init():\n\u001b[1;32m    446\u001b[0m         model \u001b[39m=\u001b[39m \u001b[39mcls\u001b[39m(\u001b[39m*\u001b[39m\u001b[39m*\u001b[39mcontent[\u001b[39m\"\u001b[39m\u001b[39mhyper_parameters\u001b[39m\u001b[39m\"\u001b[39m])\n",
      "File \u001b[0;32m~/anaconda3/envs/pearlenv/lib/python3.10/site-packages/torch/serialization.py:1294\u001b[0m, in \u001b[0;36mload\u001b[0;34m(f, map_location, pickle_module, weights_only, mmap, **pickle_load_args)\u001b[0m\n\u001b[1;32m   1292\u001b[0m     \u001b[39mif\u001b[39;00m pickle_module \u001b[39mis\u001b[39;00m \u001b[39mNone\u001b[39;00m:\n\u001b[1;32m   1293\u001b[0m         \u001b[39mif\u001b[39;00m warn_weights_only:\n\u001b[0;32m-> 1294\u001b[0m             warnings\u001b[39m.\u001b[39;49mwarn(\n\u001b[1;32m   1295\u001b[0m                 \u001b[39m\"\u001b[39;49m\u001b[39mYou are using `torch.load` with `weights_only=False` (the current default value), which uses \u001b[39;49m\u001b[39m\"\u001b[39;49m\n\u001b[1;32m   1296\u001b[0m                 \u001b[39m\"\u001b[39;49m\u001b[39mthe default pickle module implicitly. It is possible to construct malicious pickle data \u001b[39;49m\u001b[39m\"\u001b[39;49m\n\u001b[1;32m   1297\u001b[0m                 \u001b[39m\"\u001b[39;49m\u001b[39mwhich will execute arbitrary code during unpickling (See \u001b[39;49m\u001b[39m\"\u001b[39;49m\n\u001b[1;32m   1298\u001b[0m                 \u001b[39m\"\u001b[39;49m\u001b[39mhttps://github.com/pytorch/pytorch/blob/main/SECURITY.md#untrusted-models for more details). \u001b[39;49m\u001b[39m\"\u001b[39;49m\n\u001b[1;32m   1299\u001b[0m                 \u001b[39m\"\u001b[39;49m\u001b[39mIn a future release, the default value for `weights_only` will be flipped to `True`. This \u001b[39;49m\u001b[39m\"\u001b[39;49m\n\u001b[1;32m   1300\u001b[0m                 \u001b[39m\"\u001b[39;49m\u001b[39mlimits the functions that could be executed during unpickling. Arbitrary objects will no \u001b[39;49m\u001b[39m\"\u001b[39;49m\n\u001b[1;32m   1301\u001b[0m                 \u001b[39m\"\u001b[39;49m\u001b[39mlonger be allowed to be loaded via this mode unless they are explicitly allowlisted by the \u001b[39;49m\u001b[39m\"\u001b[39;49m\n\u001b[1;32m   1302\u001b[0m                 \u001b[39m\"\u001b[39;49m\u001b[39muser via `torch.serialization.add_safe_globals`. We recommend you start setting \u001b[39;49m\u001b[39m\"\u001b[39;49m\n\u001b[1;32m   1303\u001b[0m                 \u001b[39m\"\u001b[39;49m\u001b[39m`weights_only=True` for any use case where you don\u001b[39;49m\u001b[39m'\u001b[39;49m\u001b[39mt have full control of the loaded file. \u001b[39;49m\u001b[39m\"\u001b[39;49m\n\u001b[1;32m   1304\u001b[0m                 \u001b[39m\"\u001b[39;49m\u001b[39mPlease open an issue on GitHub for any issues related to this experimental feature.\u001b[39;49m\u001b[39m\"\u001b[39;49m,\n\u001b[1;32m   1305\u001b[0m                 \u001b[39mFutureWarning\u001b[39;49;00m,\n\u001b[1;32m   1306\u001b[0m                 stacklevel\u001b[39m=\u001b[39;49m\u001b[39m2\u001b[39;49m,\n\u001b[1;32m   1307\u001b[0m             )\n\u001b[1;32m   1308\u001b[0m         pickle_module \u001b[39m=\u001b[39m pickle\n\u001b[1;32m   1310\u001b[0m \u001b[39m# make flipping default BC-compatible\u001b[39;00m\n",
      "\u001b[0;31mFutureWarning\u001b[0m: You are using `torch.load` with `weights_only=False` (the current default value), which uses the default pickle module implicitly. It is possible to construct malicious pickle data which will execute arbitrary code during unpickling (See https://github.com/pytorch/pytorch/blob/main/SECURITY.md#untrusted-models for more details). In a future release, the default value for `weights_only` will be flipped to `True`. This limits the functions that could be executed during unpickling. Arbitrary objects will no longer be allowed to be loaded via this mode unless they are explicitly allowlisted by the user via `torch.serialization.add_safe_globals`. We recommend you start setting `weights_only=True` for any use case where you don't have full control of the loaded file. Please open an issue on GitHub for any issues related to this experimental feature."
     ]
    }
   ],
   "source": [
    "reward_functions=[log_reward_function,cumulative_reward_function,sharpe_reward_function]\n",
    "train_env,test_env=make_environments.make_envs(reward_function=log_reward_function)\n",
    "study_name=f\"{defaults.model_name}-hp-search\"\n",
    "study_path=\"sqlite:///pearl_hyper_parameters.sqlite3\""
   ]
  },
  {
   "cell_type": "code",
   "execution_count": null,
   "metadata": {},
   "outputs": [
    {
     "name": "stderr",
     "output_type": "stream",
     "text": [
      "[I 2024-11-17 11:37:39,585] Using an existing study with name 'pearl-2024-11-12-hp-search' instead of creating a new one.\n"
     ]
    }
   ],
   "source": [
    "today=datetime.datetime.now().strftime('%Y-%m-%d')\n",
    "study = optuna.create_study(study_name=study_name,\n",
    "                            directions=[\"maximize\", \"maximize\"],\n",
    "                            storage=study_name,\n",
    "                            load_if_exists=True,\n",
    "                            sampler=TPESampler()\n",
    "                            )\n"
   ]
  },
  {
   "cell_type": "code",
   "execution_count": 12,
   "metadata": {},
   "outputs": [
    {
     "data": {
      "text/plain": [
       "[FrozenTrial(number=16, state=TrialState.COMPLETE, values=[1084.2016722520668, 117.84], datetime_start=datetime.datetime(2024, 11, 12, 13, 32, 22, 388417), datetime_complete=datetime.datetime(2024, 11, 12, 13, 35, 46, 59501), params={'reward_function': 2, 'algorithm': 'ddqn', 'n_layers': 2, 'n_units': 128, 'training_rounds': 13, 'learning_rate': 3.53300011287604e-05, 'discount_factor': 0.8516537625726973, 'batch_size': 128, 'target_update_freq': 5, 'soft_update_tau': 0.6916880729632867, 'is_conservative': True, 'use_lstm': False, 'conservative_alpha': 0.9985474810108794, 'learn_after_episode': False, 'learning_steps': 10, 'n_epochs': 500}, user_attrs={}, system_attrs={}, intermediate_values={}, distributions={'reward_function': CategoricalDistribution(choices=(0, 1, 2)), 'algorithm': CategoricalDistribution(choices=('dqn', 'ddqn')), 'n_layers': IntDistribution(high=3, log=False, low=1, step=1), 'n_units': CategoricalDistribution(choices=(64, 128, 256, 512)), 'training_rounds': IntDistribution(high=30, log=False, low=5, step=1), 'learning_rate': FloatDistribution(high=0.0001, log=False, low=1e-06, step=None), 'discount_factor': FloatDistribution(high=0.99, log=False, low=0.8, step=None), 'batch_size': CategoricalDistribution(choices=(64, 128)), 'target_update_freq': CategoricalDistribution(choices=(1, 5, 10, 24)), 'soft_update_tau': FloatDistribution(high=0.99, log=False, low=0.1, step=None), 'is_conservative': CategoricalDistribution(choices=(True, False)), 'use_lstm': CategoricalDistribution(choices=(True, False)), 'conservative_alpha': FloatDistribution(high=1.0, log=False, low=0.5, step=None), 'learn_after_episode': CategoricalDistribution(choices=(True, False)), 'learning_steps': IntDistribution(high=89, log=False, low=10, step=1), 'n_epochs': CategoricalDistribution(choices=(100, 500))}, trial_id=17, value=None),\n",
       " FrozenTrial(number=17, state=TrialState.COMPLETE, values=[1139.8253713353076, 54.19], datetime_start=datetime.datetime(2024, 11, 12, 13, 35, 46, 65848), datetime_complete=datetime.datetime(2024, 11, 12, 13, 37, 56, 28796), params={'reward_function': 2, 'algorithm': 'ddqn', 'n_layers': 3, 'n_units': 128, 'training_rounds': 9, 'learning_rate': 2.0806196470044027e-06, 'discount_factor': 0.8541973968154928, 'batch_size': 128, 'target_update_freq': 5, 'soft_update_tau': 0.10400101722637872, 'is_conservative': True, 'use_lstm': False, 'conservative_alpha': 0.9533668480759279, 'learn_after_episode': False, 'learning_steps': 15, 'n_epochs': 500}, user_attrs={}, system_attrs={}, intermediate_values={}, distributions={'reward_function': CategoricalDistribution(choices=(0, 1, 2)), 'algorithm': CategoricalDistribution(choices=('dqn', 'ddqn')), 'n_layers': IntDistribution(high=3, log=False, low=1, step=1), 'n_units': CategoricalDistribution(choices=(64, 128, 256, 512)), 'training_rounds': IntDistribution(high=30, log=False, low=5, step=1), 'learning_rate': FloatDistribution(high=0.0001, log=False, low=1e-06, step=None), 'discount_factor': FloatDistribution(high=0.99, log=False, low=0.8, step=None), 'batch_size': CategoricalDistribution(choices=(64, 128)), 'target_update_freq': CategoricalDistribution(choices=(1, 5, 10, 24)), 'soft_update_tau': FloatDistribution(high=0.99, log=False, low=0.1, step=None), 'is_conservative': CategoricalDistribution(choices=(True, False)), 'use_lstm': CategoricalDistribution(choices=(True, False)), 'conservative_alpha': FloatDistribution(high=1.0, log=False, low=0.5, step=None), 'learn_after_episode': CategoricalDistribution(choices=(True, False)), 'learning_steps': IntDistribution(high=89, log=False, low=10, step=1), 'n_epochs': CategoricalDistribution(choices=(100, 500))}, trial_id=18, value=None),\n",
       " FrozenTrial(number=39, state=TrialState.COMPLETE, values=[1195.593004389608, 20.28], datetime_start=datetime.datetime(2024, 11, 13, 9, 17, 35, 824990), datetime_complete=datetime.datetime(2024, 11, 13, 9, 18, 27, 835126), params={'reward_function': 2, 'algorithm': 'ddqn', 'n_layers': 2, 'n_units': 512, 'training_rounds': 15, 'learning_rate': 4.623558836951419e-05, 'discount_factor': 0.9273965992151891, 'batch_size': 64, 'target_update_freq': 5, 'soft_update_tau': 0.36702327017049197, 'is_conservative': True, 'use_lstm': False, 'conservative_alpha': 0.8473891303256786, 'learn_after_episode': True, 'learning_steps': 77, 'n_epochs': 500}, user_attrs={}, system_attrs={}, intermediate_values={}, distributions={'reward_function': CategoricalDistribution(choices=(0, 1, 2)), 'algorithm': CategoricalDistribution(choices=('dqn', 'ddqn')), 'n_layers': IntDistribution(high=3, log=False, low=1, step=1), 'n_units': CategoricalDistribution(choices=(64, 128, 256, 512)), 'training_rounds': IntDistribution(high=30, log=False, low=5, step=1), 'learning_rate': FloatDistribution(high=0.0001, log=False, low=1e-06, step=None), 'discount_factor': FloatDistribution(high=0.99, log=False, low=0.8, step=None), 'batch_size': CategoricalDistribution(choices=(64, 128)), 'target_update_freq': CategoricalDistribution(choices=(1, 5, 10, 24)), 'soft_update_tau': FloatDistribution(high=0.99, log=False, low=0.1, step=None), 'is_conservative': CategoricalDistribution(choices=(True, False)), 'use_lstm': CategoricalDistribution(choices=(True, False)), 'conservative_alpha': FloatDistribution(high=1.0, log=False, low=0.5, step=None), 'learn_after_episode': CategoricalDistribution(choices=(True, False)), 'learning_steps': IntDistribution(high=89, log=False, low=10, step=1), 'n_epochs': CategoricalDistribution(choices=(100, 500))}, trial_id=40, value=None),\n",
       " FrozenTrial(number=40, state=TrialState.COMPLETE, values=[1096.556298653375, 91.73], datetime_start=datetime.datetime(2024, 11, 13, 9, 18, 27, 841419), datetime_complete=datetime.datetime(2024, 11, 13, 9, 18, 52, 274812), params={'reward_function': 1, 'algorithm': 'ddqn', 'n_layers': 2, 'n_units': 128, 'training_rounds': 7, 'learning_rate': 2.1296076947723937e-05, 'discount_factor': 0.8170163944429499, 'batch_size': 128, 'target_update_freq': 5, 'soft_update_tau': 0.24912249082790988, 'is_conservative': True, 'use_lstm': False, 'conservative_alpha': 0.8511160744293506, 'learn_after_episode': True, 'learning_steps': 80, 'n_epochs': 500}, user_attrs={}, system_attrs={}, intermediate_values={}, distributions={'reward_function': CategoricalDistribution(choices=(0, 1, 2)), 'algorithm': CategoricalDistribution(choices=('dqn', 'ddqn')), 'n_layers': IntDistribution(high=3, log=False, low=1, step=1), 'n_units': CategoricalDistribution(choices=(64, 128, 256, 512)), 'training_rounds': IntDistribution(high=30, log=False, low=5, step=1), 'learning_rate': FloatDistribution(high=0.0001, log=False, low=1e-06, step=None), 'discount_factor': FloatDistribution(high=0.99, log=False, low=0.8, step=None), 'batch_size': CategoricalDistribution(choices=(64, 128)), 'target_update_freq': CategoricalDistribution(choices=(1, 5, 10, 24)), 'soft_update_tau': FloatDistribution(high=0.99, log=False, low=0.1, step=None), 'is_conservative': CategoricalDistribution(choices=(True, False)), 'use_lstm': CategoricalDistribution(choices=(True, False)), 'conservative_alpha': FloatDistribution(high=1.0, log=False, low=0.5, step=None), 'learn_after_episode': CategoricalDistribution(choices=(True, False)), 'learning_steps': IntDistribution(high=89, log=False, low=10, step=1), 'n_epochs': CategoricalDistribution(choices=(100, 500))}, trial_id=41, value=None),\n",
       " FrozenTrial(number=43, state=TrialState.COMPLETE, values=[1107.6112104654226, 62.18], datetime_start=datetime.datetime(2024, 11, 13, 9, 19, 40, 915427), datetime_complete=datetime.datetime(2024, 11, 13, 9, 20, 21, 568781), params={'reward_function': 1, 'algorithm': 'ddqn', 'n_layers': 2, 'n_units': 128, 'training_rounds': 25, 'learning_rate': 2.2192240444524422e-05, 'discount_factor': 0.8252051018867268, 'batch_size': 128, 'target_update_freq': 5, 'soft_update_tau': 0.34350295403468445, 'is_conservative': True, 'use_lstm': False, 'conservative_alpha': 0.8823248724681476, 'learn_after_episode': True, 'learning_steps': 89, 'n_epochs': 500}, user_attrs={}, system_attrs={}, intermediate_values={}, distributions={'reward_function': CategoricalDistribution(choices=(0, 1, 2)), 'algorithm': CategoricalDistribution(choices=('dqn', 'ddqn')), 'n_layers': IntDistribution(high=3, log=False, low=1, step=1), 'n_units': CategoricalDistribution(choices=(64, 128, 256, 512)), 'training_rounds': IntDistribution(high=30, log=False, low=5, step=1), 'learning_rate': FloatDistribution(high=0.0001, log=False, low=1e-06, step=None), 'discount_factor': FloatDistribution(high=0.99, log=False, low=0.8, step=None), 'batch_size': CategoricalDistribution(choices=(64, 128)), 'target_update_freq': CategoricalDistribution(choices=(1, 5, 10, 24)), 'soft_update_tau': FloatDistribution(high=0.99, log=False, low=0.1, step=None), 'is_conservative': CategoricalDistribution(choices=(True, False)), 'use_lstm': CategoricalDistribution(choices=(True, False)), 'conservative_alpha': FloatDistribution(high=1.0, log=False, low=0.5, step=None), 'learn_after_episode': CategoricalDistribution(choices=(True, False)), 'learning_steps': IntDistribution(high=89, log=False, low=10, step=1), 'n_epochs': CategoricalDistribution(choices=(100, 500))}, trial_id=44, value=None)]"
      ]
     },
     "execution_count": 12,
     "metadata": {},
     "output_type": "execute_result"
    }
   ],
   "source": [
    "# print(f\"Best value: {study.best_value} (params: {study.best_params})\")\n",
    "best_trials=study.best_trials\n",
    "best_trials"
   ]
  },
  {
   "cell_type": "code",
   "execution_count": null,
   "metadata": {},
   "outputs": [
    {
     "data": {
      "text/plain": [
       "'Agent/pearl_DOGEUSDT_Spot_model.pkl'"
      ]
     },
     "execution_count": 13,
     "metadata": {},
     "output_type": "execute_result"
    }
   ],
   "source": [
    "\n",
    "\n",
    "if -1 in [np.sign(p) for p in test_env.positions]:\n",
    "    market_type='Futures'\n",
    "else:\n",
    "    market_type='Spot'\n",
    "symb=defaults.target_pair.replace('/','')\n",
    "\n",
    "agent_path=f'Agent/pearl_{defaults.model_name}_model.pkl'\n",
    "\n",
    "agent_path\n"
   ]
  },
  {
   "cell_type": "code",
   "execution_count": 15,
   "metadata": {},
   "outputs": [
    {
     "data": {
      "text/plain": [
       "[0, 1, 2, 3, 4]"
      ]
     },
     "execution_count": 15,
     "metadata": {},
     "output_type": "execute_result"
    }
   ],
   "source": [
    "[i for i in range(5)]"
   ]
  },
  {
   "cell_type": "code",
   "execution_count": null,
   "metadata": {},
   "outputs": [
    {
     "name": "stderr",
     "output_type": "stream",
     "text": [
      "[I 2024-11-17 11:37:54,630] Using an existing study with name 'pearl-2024-11-12-hp-search' instead of creating a new one.\n",
      "  0%|          | 0/500 [00:00<?, ?it/s]"
     ]
    },
    {
     "data": {
      "application/vnd.jupyter.widget-view+json": {
       "model_id": "75dbb934752142628994995c9e9211fb",
       "version_major": 2,
       "version_minor": 0
      },
      "text/plain": [
       "  0%|          | 0/84000 [00:00<?, ?it/s]"
      ]
     },
     "metadata": {},
     "output_type": "display_data"
    },
    {
     "name": "stderr",
     "output_type": "stream",
     "text": [
      "  0%|          | 0/500 [03:43<?, ?it/s]\n"
     ]
    },
    {
     "name": "stdout",
     "output_type": "stream",
     "text": [
      "Testing Return AVG Profit: 999.9449999999998, AVG Number of Trades: 0.55\n"
     ]
    },
    {
     "name": "stderr",
     "output_type": "stream",
     "text": [
      "  0%|          | 0/500 [00:00<?, ?it/s]"
     ]
    },
    {
     "data": {
      "application/vnd.jupyter.widget-view+json": {
       "model_id": "680073045fab4e1b8da69319aef6e181",
       "version_major": 2,
       "version_minor": 0
      },
      "text/plain": [
       "  0%|          | 0/84000 [00:00<?, ?it/s]"
      ]
     },
     "metadata": {},
     "output_type": "display_data"
    },
    {
     "name": "stderr",
     "output_type": "stream",
     "text": [
      "  0%|          | 0/500 [03:46<?, ?it/s]\n",
      "[I 2024-11-17 11:45:27,966] Using an existing study with name 'pearl-2024-11-12-hp-search' instead of creating a new one.\n",
      "  0%|          | 0/500 [00:00<?, ?it/s]"
     ]
    },
    {
     "data": {
      "application/vnd.jupyter.widget-view+json": {
       "model_id": "5f1475c2ecd148b897fa5ab7576c0a44",
       "version_major": 2,
       "version_minor": 0
      },
      "text/plain": [
       "  0%|          | 0/84000 [00:00<?, ?it/s]"
      ]
     },
     "metadata": {},
     "output_type": "display_data"
    },
    {
     "name": "stderr",
     "output_type": "stream",
     "text": [
      "  0%|          | 0/500 [02:23<?, ?it/s]\n"
     ]
    },
    {
     "name": "stdout",
     "output_type": "stream",
     "text": [
      "Testing Return AVG Profit: 999.9489999999996, AVG Number of Trades: 0.51\n"
     ]
    },
    {
     "name": "stderr",
     "output_type": "stream",
     "text": [
      "  0%|          | 0/500 [00:00<?, ?it/s]"
     ]
    },
    {
     "data": {
      "application/vnd.jupyter.widget-view+json": {
       "model_id": "1505b023ab6e43ed8719005f89aec64a",
       "version_major": 2,
       "version_minor": 0
      },
      "text/plain": [
       "  0%|          | 0/84000 [00:00<?, ?it/s]"
      ]
     },
     "metadata": {},
     "output_type": "display_data"
    },
    {
     "name": "stderr",
     "output_type": "stream",
     "text": [
      "  0%|          | 0/500 [02:23<?, ?it/s]\n",
      "[I 2024-11-17 11:50:19,106] Using an existing study with name 'pearl-2024-11-12-hp-search' instead of creating a new one.\n",
      "  0%|          | 0/500 [00:00<?, ?it/s]"
     ]
    },
    {
     "data": {
      "application/vnd.jupyter.widget-view+json": {
       "model_id": "0d40c41ddece47e187abdcecab312e96",
       "version_major": 2,
       "version_minor": 0
      },
      "text/plain": [
       "  0%|          | 0/500 [00:00<?, ?it/s]"
      ]
     },
     "metadata": {},
     "output_type": "display_data"
    },
    {
     "name": "stderr",
     "output_type": "stream",
     "text": [
      "  0%|          | 0/500 [00:49<?, ?it/s]\n"
     ]
    },
    {
     "name": "stdout",
     "output_type": "stream",
     "text": [
      "Testing Return AVG Profit: 999.9539999999996, AVG Number of Trades: 0.46\n"
     ]
    },
    {
     "name": "stderr",
     "output_type": "stream",
     "text": [
      "  0%|          | 0/500 [00:00<?, ?it/s]"
     ]
    },
    {
     "data": {
      "application/vnd.jupyter.widget-view+json": {
       "model_id": "1931935f3bdd475e8be9f8705bc4171f",
       "version_major": 2,
       "version_minor": 0
      },
      "text/plain": [
       "  0%|          | 0/500 [00:00<?, ?it/s]"
      ]
     },
     "metadata": {},
     "output_type": "display_data"
    },
    {
     "name": "stderr",
     "output_type": "stream",
     "text": [
      "  0%|          | 0/500 [00:50<?, ?it/s]\n",
      "[I 2024-11-17 11:52:03,614] Using an existing study with name 'pearl-2024-11-12-hp-search' instead of creating a new one.\n",
      "  0%|          | 0/500 [00:00<?, ?it/s]"
     ]
    },
    {
     "data": {
      "application/vnd.jupyter.widget-view+json": {
       "model_id": "78982e80912f4642a41ab3c1cfbd6a02",
       "version_major": 2,
       "version_minor": 0
      },
      "text/plain": [
       "  0%|          | 0/500 [00:00<?, ?it/s]"
      ]
     },
     "metadata": {},
     "output_type": "display_data"
    },
    {
     "name": "stderr",
     "output_type": "stream",
     "text": [
      "  0%|          | 0/500 [00:22<?, ?it/s]\n"
     ]
    },
    {
     "name": "stdout",
     "output_type": "stream",
     "text": [
      "Testing Return AVG Profit: 1012.5094668124718, AVG Number of Trades: 1.9\n"
     ]
    },
    {
     "name": "stderr",
     "output_type": "stream",
     "text": [
      "  0%|          | 0/500 [00:00<?, ?it/s]"
     ]
    },
    {
     "data": {
      "application/vnd.jupyter.widget-view+json": {
       "model_id": "adc680c74063401ba90468002bc5c9f4",
       "version_major": 2,
       "version_minor": 0
      },
      "text/plain": [
       "  0%|          | 0/500 [00:00<?, ?it/s]"
      ]
     },
     "metadata": {},
     "output_type": "display_data"
    },
    {
     "name": "stderr",
     "output_type": "stream",
     "text": [
      "  0%|          | 0/500 [00:22<?, ?it/s]\n"
     ]
    }
   ],
   "source": [
    "best_agents={}\n",
    "for i in range(4):\n",
    "    agent,learning_params=pearl_utils.load_agent_from_study(study_path=study_path,\n",
    "                                            study_name=study_name,\n",
    "                                            action_space_dim=2,\n",
    "                                            observation_space_dim=30,\n",
    "                                            version=i)\n",
    "    \n",
    "    agent,profit,n_trades=pearl_utils.train_production_agent(agent,\n",
    "                                learning_params,\n",
    "                                train_env=train_env,\n",
    "                                test_env=train_env,\n",
    "                                save_path=agent_path)\n",
    "    best_agents[profit]=agent\n",
    "agent=best_agents[max(best_agents)]\n",
    "    "
   ]
  },
  {
   "cell_type": "code",
   "execution_count": 17,
   "metadata": {},
   "outputs": [],
   "source": [
    "# agent,learning_params=pearl_utils.load_agent_from_study(study_path=\"sqlite:///pearl_hyper_parameters.sqlite3\",\n",
    "#                                             study_name='pearl-2024-11-12-hp-search',\n",
    "#                                             action_space_dim=2,\n",
    "#                                             observation_space_dim=30,\n",
    "#                                             version=1)\n",
    "\n",
    "# agent=pearl_utils.train_production_agent(agent,\n",
    "#                              learning_params,\n",
    "#                              train_env=train_env,\n",
    "#                              test_env=train_env,\n",
    "#                              save_path=agent_path)"
   ]
  },
  {
   "cell_type": "code",
   "execution_count": 24,
   "metadata": {},
   "outputs": [
    {
     "data": {
      "text/plain": [
       "{999.9449999999998: <Pearl.pearl.pearl_agent.PearlAgent at 0x345189e70>,\n",
       " 999.9489999999996: <Pearl.pearl.pearl_agent.PearlAgent at 0x345bf86a0>,\n",
       " 999.9539999999996: <Pearl.pearl.pearl_agent.PearlAgent at 0x3a32b46d0>,\n",
       " 1012.5094668124718: <Pearl.pearl.pearl_agent.PearlAgent at 0x3a7f84f10>}"
      ]
     },
     "execution_count": 24,
     "metadata": {},
     "output_type": "execute_result"
    }
   ],
   "source": [
    "best_agents"
   ]
  },
  {
   "cell_type": "code",
   "execution_count": 18,
   "metadata": {},
   "outputs": [
    {
     "name": "stdout",
     "output_type": "stream",
     "text": [
      "Testing Return AVG Profit: 1284.8120247137942, AVG Number of Trades: 34.08\n"
     ]
    }
   ],
   "source": [
    "profit,n_trades=pearl_utils.test_pearl_model(agent,test_env)\n",
    "print(f\"Testing Return AVG Profit: {profit}, AVG Number of Trades: {n_trades}\")"
   ]
  },
  {
   "cell_type": "code",
   "execution_count": null,
   "metadata": {},
   "outputs": [],
   "source": [
    "pickle.dump(agent,open(agent_path,'wb'))\n",
    "\n",
    "import Keys\n",
    "\n",
    "s3=boto3.client('s3', aws_access_key_id=Keys.AWS_ACCESS_KEY, aws_secret_access_key=Keys.AWS_SECRET_KEY)\n",
    "s3.upload_file(agent_path,'coinbasetradehistory',agent_path.split('/')[-1],)\n",
    "\n",
    "agent=pickle.load(open(agent_path,'rb'))"
   ]
  },
  {
   "cell_type": "code",
   "execution_count": 20,
   "metadata": {},
   "outputs": [],
   "source": [
    "# pickle.dump(agent.policy_learner.state_dict(),open(agent_path,'wb'))"
   ]
  },
  {
   "cell_type": "code",
   "execution_count": 21,
   "metadata": {},
   "outputs": [],
   "source": [
    "# weights=pickle.load(open(agent_path,'rb'))"
   ]
  },
  {
   "cell_type": "code",
   "execution_count": 22,
   "metadata": {},
   "outputs": [],
   "source": [
    "# agent.policy_learner.load_state_dict(weights)"
   ]
  },
  {
   "cell_type": "code",
   "execution_count": null,
   "metadata": {},
   "outputs": [],
   "source": [
    "\n",
    "# agent,learning_params=pearl_utils.load_agent_from_study(study_path=\"sqlite:///pearl_hyper_parameters.sqlite3\",\n",
    "#                                         study_name='pearl-2024-11-12-hp-search',\n",
    "#                                         action_space_dim=2,\n",
    "#                                         observation_space_dim=30)\n",
    "# agent=load_agent_weights(agent,weight_path=agent_path)"
   ]
  },
  {
   "cell_type": "code",
   "execution_count": 23,
   "metadata": {},
   "outputs": [
    {
     "name": "stdout",
     "output_type": "stream",
     "text": [
      "Testing Return AVG Profit: 1296.970877901161, AVG Number of Trades: 37.15\n"
     ]
    }
   ],
   "source": [
    "profit,n_trades=pearl_utils.test_pearl_model(agent,test_env)\n",
    "print(f\"Testing Return AVG Profit: {profit}, AVG Number of Trades: {n_trades}\")"
   ]
  },
  {
   "cell_type": "code",
   "execution_count": null,
   "metadata": {},
   "outputs": [],
   "source": []
  }
 ],
 "metadata": {
  "kernelspec": {
   "display_name": "agent_env",
   "language": "python",
   "name": "python3"
  },
  "language_info": {
   "codemirror_mode": {
    "name": "ipython",
    "version": 3
   },
   "file_extension": ".py",
   "mimetype": "text/x-python",
   "name": "python",
   "nbconvert_exporter": "python",
   "pygments_lexer": "ipython3",
   "version": "3.10.13"
  }
 },
 "nbformat": 4,
 "nbformat_minor": 2
}
