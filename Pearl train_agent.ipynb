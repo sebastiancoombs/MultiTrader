{
 "cells": [
  {
   "cell_type": "code",
   "execution_count": 7,
   "metadata": {},
   "outputs": [],
   "source": [
    "import warnings\n",
    "import logging\n",
    "\n",
    "\n",
    "warnings.filterwarnings('ignore')\n",
    "warnings.simplefilter('ignore')"
   ]
  },
  {
   "cell_type": "code",
   "execution_count": 8,
   "metadata": {},
   "outputs": [],
   "source": [
    "from utils import make_environments\n",
    "from utils import pearl_utils\n",
    "from configs  import  spot_defaults as defaults\n",
    "\n",
    "from utils.reward_functions import log_reward_function,cumulative_reward_function,sharpe_reward_function\n",
    "from utils. utils import make_hidden_dims\n",
    "import optuna\n",
    "from optuna.samplers import TPESampler\n",
    "from neuralforecast.core import NeuralForecast\n",
    "from Pearl.pearl.utils.instantiations.environments.gym_environment import GymEnvironment\n",
    "from Pearl.pearl.utils.functional_utils.train_and_eval.online_learning import online_learning\n",
    "import datetime\n",
    "\n",
    "import numpy as np\n",
    "import pickle"
   ]
  },
  {
   "cell_type": "code",
   "execution_count": 9,
   "metadata": {},
   "outputs": [],
   "source": [
    "# model=NeuralForecast.load('MultiHeadForecastingModel/')"
   ]
  },
  {
   "cell_type": "code",
   "execution_count": 10,
   "metadata": {},
   "outputs": [
    {
     "name": "stderr",
     "output_type": "stream",
     "text": [
      "Seed set to 6\n"
     ]
    },
    {
     "name": "stderr",
     "output_type": "stream",
     "text": [
      "Seed set to 19\n",
      "Seed set to 16\n"
     ]
    },
    {
     "name": "stdout",
     "output_type": "stream",
     "text": [
      "['data/binanceus-DOGEUSDT-1h.pkl']\n"
     ]
    },
    {
     "name": "stderr",
     "output_type": "stream",
     "text": [
      "100%|██████████| 78/78 [00:00<00:00, 10919.75it/s]\n",
      "1it [00:00, 16.88it/s]\n"
     ]
    },
    {
     "data": {
      "text/html": [
       "<div>\n",
       "<style scoped>\n",
       "    .dataframe tbody tr th:only-of-type {\n",
       "        vertical-align: middle;\n",
       "    }\n",
       "\n",
       "    .dataframe tbody tr th {\n",
       "        vertical-align: top;\n",
       "    }\n",
       "\n",
       "    .dataframe thead th {\n",
       "        text-align: right;\n",
       "    }\n",
       "</style>\n",
       "<table border=\"1\" class=\"dataframe\">\n",
       "  <thead>\n",
       "    <tr style=\"text-align: right;\">\n",
       "      <th></th>\n",
       "      <th>open</th>\n",
       "      <th>high</th>\n",
       "      <th>low</th>\n",
       "      <th>close</th>\n",
       "      <th>volume</th>\n",
       "      <th>y</th>\n",
       "      <th>feature_hour_of_day</th>\n",
       "      <th>feature_day_of_week</th>\n",
       "      <th>feature_day_of_month</th>\n",
       "      <th>feature_day_of_year</th>\n",
       "      <th>feature_BBANDS_BB_UPPER</th>\n",
       "      <th>feature_BBANDS_BB_MIDDLE</th>\n",
       "      <th>feature_BBANDS_BB_LOWER</th>\n",
       "      <th>feature_MACD_MACD</th>\n",
       "      <th>feature_MACD_SIGNAL</th>\n",
       "      <th>feature_14_period_RSI</th>\n",
       "      <th>feature_14_period_STOCH_%K</th>\n",
       "      <th>ds</th>\n",
       "      <th>unique_id</th>\n",
       "      <th>symbol</th>\n",
       "    </tr>\n",
       "    <tr>\n",
       "      <th>date_close</th>\n",
       "      <th></th>\n",
       "      <th></th>\n",
       "      <th></th>\n",
       "      <th></th>\n",
       "      <th></th>\n",
       "      <th></th>\n",
       "      <th></th>\n",
       "      <th></th>\n",
       "      <th></th>\n",
       "      <th></th>\n",
       "      <th></th>\n",
       "      <th></th>\n",
       "      <th></th>\n",
       "      <th></th>\n",
       "      <th></th>\n",
       "      <th></th>\n",
       "      <th></th>\n",
       "      <th></th>\n",
       "      <th></th>\n",
       "      <th></th>\n",
       "    </tr>\n",
       "  </thead>\n",
       "  <tbody>\n",
       "    <tr>\n",
       "      <th>2024-01-01 10:00:00</th>\n",
       "      <td>0.08975</td>\n",
       "      <td>0.08976</td>\n",
       "      <td>0.08975</td>\n",
       "      <td>0.08976</td>\n",
       "      <td>6209.0</td>\n",
       "      <td>0.08976</td>\n",
       "      <td>-0.065217</td>\n",
       "      <td>-0.5</td>\n",
       "      <td>-0.5</td>\n",
       "      <td>-0.5</td>\n",
       "      <td>0.0</td>\n",
       "      <td>0.0</td>\n",
       "      <td>0.0</td>\n",
       "      <td>0.000000</td>\n",
       "      <td>0.000000</td>\n",
       "      <td>0.000000</td>\n",
       "      <td>0.0</td>\n",
       "      <td>2024-01-01 10:00:00</td>\n",
       "      <td>25</td>\n",
       "      <td>DOGEUSDT</td>\n",
       "    </tr>\n",
       "    <tr>\n",
       "      <th>2024-01-01 11:00:00</th>\n",
       "      <td>0.08977</td>\n",
       "      <td>0.09012</td>\n",
       "      <td>0.08972</td>\n",
       "      <td>0.09012</td>\n",
       "      <td>13750.0</td>\n",
       "      <td>0.09012</td>\n",
       "      <td>-0.021739</td>\n",
       "      <td>-0.5</td>\n",
       "      <td>-0.5</td>\n",
       "      <td>-0.5</td>\n",
       "      <td>0.0</td>\n",
       "      <td>0.0</td>\n",
       "      <td>0.0</td>\n",
       "      <td>0.000008</td>\n",
       "      <td>0.000004</td>\n",
       "      <td>100.000000</td>\n",
       "      <td>0.0</td>\n",
       "      <td>2024-01-01 11:00:00</td>\n",
       "      <td>25</td>\n",
       "      <td>DOGEUSDT</td>\n",
       "    </tr>\n",
       "    <tr>\n",
       "      <th>2024-01-01 12:00:00</th>\n",
       "      <td>0.09008</td>\n",
       "      <td>0.09008</td>\n",
       "      <td>0.08992</td>\n",
       "      <td>0.08992</td>\n",
       "      <td>583.0</td>\n",
       "      <td>0.08992</td>\n",
       "      <td>0.021739</td>\n",
       "      <td>-0.5</td>\n",
       "      <td>-0.5</td>\n",
       "      <td>-0.5</td>\n",
       "      <td>0.0</td>\n",
       "      <td>0.0</td>\n",
       "      <td>0.0</td>\n",
       "      <td>0.000004</td>\n",
       "      <td>0.000004</td>\n",
       "      <td>62.566845</td>\n",
       "      <td>0.0</td>\n",
       "      <td>2024-01-01 12:00:00</td>\n",
       "      <td>25</td>\n",
       "      <td>DOGEUSDT</td>\n",
       "    </tr>\n",
       "    <tr>\n",
       "      <th>2024-01-01 13:00:00</th>\n",
       "      <td>0.08995</td>\n",
       "      <td>0.09046</td>\n",
       "      <td>0.08995</td>\n",
       "      <td>0.09040</td>\n",
       "      <td>12750.0</td>\n",
       "      <td>0.09040</td>\n",
       "      <td>0.065217</td>\n",
       "      <td>-0.5</td>\n",
       "      <td>-0.5</td>\n",
       "      <td>-0.5</td>\n",
       "      <td>0.0</td>\n",
       "      <td>0.0</td>\n",
       "      <td>0.0</td>\n",
       "      <td>0.000020</td>\n",
       "      <td>0.000009</td>\n",
       "      <td>80.974284</td>\n",
       "      <td>0.0</td>\n",
       "      <td>2024-01-01 13:00:00</td>\n",
       "      <td>25</td>\n",
       "      <td>DOGEUSDT</td>\n",
       "    </tr>\n",
       "    <tr>\n",
       "      <th>2024-01-01 14:00:00</th>\n",
       "      <td>0.09018</td>\n",
       "      <td>0.09053</td>\n",
       "      <td>0.09018</td>\n",
       "      <td>0.09053</td>\n",
       "      <td>5594.0</td>\n",
       "      <td>0.09053</td>\n",
       "      <td>0.108696</td>\n",
       "      <td>-0.5</td>\n",
       "      <td>-0.5</td>\n",
       "      <td>-0.5</td>\n",
       "      <td>0.0</td>\n",
       "      <td>0.0</td>\n",
       "      <td>0.0</td>\n",
       "      <td>0.000033</td>\n",
       "      <td>0.000016</td>\n",
       "      <td>83.360761</td>\n",
       "      <td>0.0</td>\n",
       "      <td>2024-01-01 14:00:00</td>\n",
       "      <td>25</td>\n",
       "      <td>DOGEUSDT</td>\n",
       "    </tr>\n",
       "  </tbody>\n",
       "</table>\n",
       "</div>"
      ],
      "text/plain": [
       "                        open     high      low    close   volume        y  \\\n",
       "date_close                                                                  \n",
       "2024-01-01 10:00:00  0.08975  0.08976  0.08975  0.08976   6209.0  0.08976   \n",
       "2024-01-01 11:00:00  0.08977  0.09012  0.08972  0.09012  13750.0  0.09012   \n",
       "2024-01-01 12:00:00  0.09008  0.09008  0.08992  0.08992    583.0  0.08992   \n",
       "2024-01-01 13:00:00  0.08995  0.09046  0.08995  0.09040  12750.0  0.09040   \n",
       "2024-01-01 14:00:00  0.09018  0.09053  0.09018  0.09053   5594.0  0.09053   \n",
       "\n",
       "                     feature_hour_of_day  feature_day_of_week  \\\n",
       "date_close                                                      \n",
       "2024-01-01 10:00:00            -0.065217                 -0.5   \n",
       "2024-01-01 11:00:00            -0.021739                 -0.5   \n",
       "2024-01-01 12:00:00             0.021739                 -0.5   \n",
       "2024-01-01 13:00:00             0.065217                 -0.5   \n",
       "2024-01-01 14:00:00             0.108696                 -0.5   \n",
       "\n",
       "                     feature_day_of_month  feature_day_of_year  \\\n",
       "date_close                                                       \n",
       "2024-01-01 10:00:00                  -0.5                 -0.5   \n",
       "2024-01-01 11:00:00                  -0.5                 -0.5   \n",
       "2024-01-01 12:00:00                  -0.5                 -0.5   \n",
       "2024-01-01 13:00:00                  -0.5                 -0.5   \n",
       "2024-01-01 14:00:00                  -0.5                 -0.5   \n",
       "\n",
       "                     feature_BBANDS_BB_UPPER  feature_BBANDS_BB_MIDDLE  \\\n",
       "date_close                                                               \n",
       "2024-01-01 10:00:00                      0.0                       0.0   \n",
       "2024-01-01 11:00:00                      0.0                       0.0   \n",
       "2024-01-01 12:00:00                      0.0                       0.0   \n",
       "2024-01-01 13:00:00                      0.0                       0.0   \n",
       "2024-01-01 14:00:00                      0.0                       0.0   \n",
       "\n",
       "                     feature_BBANDS_BB_LOWER  feature_MACD_MACD  \\\n",
       "date_close                                                        \n",
       "2024-01-01 10:00:00                      0.0           0.000000   \n",
       "2024-01-01 11:00:00                      0.0           0.000008   \n",
       "2024-01-01 12:00:00                      0.0           0.000004   \n",
       "2024-01-01 13:00:00                      0.0           0.000020   \n",
       "2024-01-01 14:00:00                      0.0           0.000033   \n",
       "\n",
       "                     feature_MACD_SIGNAL  feature_14_period_RSI  \\\n",
       "date_close                                                        \n",
       "2024-01-01 10:00:00             0.000000               0.000000   \n",
       "2024-01-01 11:00:00             0.000004             100.000000   \n",
       "2024-01-01 12:00:00             0.000004              62.566845   \n",
       "2024-01-01 13:00:00             0.000009              80.974284   \n",
       "2024-01-01 14:00:00             0.000016              83.360761   \n",
       "\n",
       "                     feature_14_period_STOCH_%K                  ds  \\\n",
       "date_close                                                            \n",
       "2024-01-01 10:00:00                         0.0 2024-01-01 10:00:00   \n",
       "2024-01-01 11:00:00                         0.0 2024-01-01 11:00:00   \n",
       "2024-01-01 12:00:00                         0.0 2024-01-01 12:00:00   \n",
       "2024-01-01 13:00:00                         0.0 2024-01-01 13:00:00   \n",
       "2024-01-01 14:00:00                         0.0 2024-01-01 14:00:00   \n",
       "\n",
       "                     unique_id    symbol  \n",
       "date_close                                \n",
       "2024-01-01 10:00:00         25  DOGEUSDT  \n",
       "2024-01-01 11:00:00         25  DOGEUSDT  \n",
       "2024-01-01 12:00:00         25  DOGEUSDT  \n",
       "2024-01-01 13:00:00         25  DOGEUSDT  \n",
       "2024-01-01 14:00:00         25  DOGEUSDT  "
      ]
     },
     "metadata": {},
     "output_type": "display_data"
    },
    {
     "name": "stdout",
     "output_type": "stream",
     "text": [
      "Index(['open', 'high', 'low', 'close', 'volume', 'y', 'feature_hour_of_day',\n",
      "       'feature_day_of_week', 'feature_day_of_month', 'feature_day_of_year',\n",
      "       'feature_BBANDS_BB_UPPER', 'feature_BBANDS_BB_MIDDLE',\n",
      "       'feature_BBANDS_BB_LOWER', 'feature_MACD_MACD', 'feature_MACD_SIGNAL',\n",
      "       'feature_14_period_RSI', 'feature_14_period_STOCH_%K', 'ds',\n",
      "       'unique_id', 'symbol'],\n",
      "      dtype='object')\n"
     ]
    },
    {
     "name": "stderr",
     "output_type": "stream",
     "text": [
      "GPU available: True (mps), used: True\n",
      "TPU available: False, using: 0 TPU cores\n",
      "HPU available: False, using: 0 HPUs\n"
     ]
    },
    {
     "data": {
      "application/vnd.jupyter.widget-view+json": {
       "model_id": "4b6991376b454a7088254f825da50496",
       "version_major": 2,
       "version_minor": 0
      },
      "text/plain": [
       "Predicting: |          | 0/? [00:00<?, ?it/s]"
      ]
     },
     "metadata": {},
     "output_type": "display_data"
    },
    {
     "name": "stderr",
     "output_type": "stream",
     "text": [
      "GPU available: True (mps), used: True\n",
      "TPU available: False, using: 0 TPU cores\n",
      "HPU available: False, using: 0 HPUs\n"
     ]
    },
    {
     "data": {
      "application/vnd.jupyter.widget-view+json": {
       "model_id": "e25f054079ff4dec804927c9321cc845",
       "version_major": 2,
       "version_minor": 0
      },
      "text/plain": [
       "Predicting: |          | 0/? [00:00<?, ?it/s]"
      ]
     },
     "metadata": {},
     "output_type": "display_data"
    },
    {
     "name": "stderr",
     "output_type": "stream",
     "text": [
      "GPU available: True (mps), used: True\n",
      "TPU available: False, using: 0 TPU cores\n",
      "HPU available: False, using: 0 HPUs\n"
     ]
    },
    {
     "data": {
      "application/vnd.jupyter.widget-view+json": {
       "model_id": "209403b84f1c4d15a001693a735a02ee",
       "version_major": 2,
       "version_minor": 0
      },
      "text/plain": [
       "Predicting: |          | 0/? [00:00<?, ?it/s]"
      ]
     },
     "metadata": {},
     "output_type": "display_data"
    },
    {
     "name": "stdout",
     "output_type": "stream",
     "text": [
      "2024-10-18 12:00:00 2024-11-17 12:00:00\n"
     ]
    },
    {
     "data": {
      "image/png": "[encoded data removed]",
      "text/plain": [
       "<Figure size 1000x500 with 1 Axes>"
      ]
     },
     "metadata": {},
     "output_type": "display_data"
    }
   ],
   "source": [
    "reward_functions=[log_reward_function,cumulative_reward_function,sharpe_reward_function]\n",
    "train_env,test_env=make_environments.make_envs(reward_function=log_reward_function)\n"
   ]
  },
  {
   "cell_type": "code",
   "execution_count": 11,
   "metadata": {},
   "outputs": [
    {
     "name": "stderr",
     "output_type": "stream",
     "text": [
      "[I 2024-11-17 11:37:39,585] Using an existing study with name 'pearl-2024-11-12-hp-search' instead of creating a new one.\n"
     ]
    }
   ],
   "source": [
    "today=datetime.datetime.now().strftime('%Y-%m-%d')\n",
    "study = optuna.create_study(study_name=f\"pearl-2024-11-12-hp-search\",\n",
    "                            directions=[\"maximize\", \"maximize\"],\n",
    "                            storage=\"sqlite:///pearl_hyper_parameters.sqlite3\",\n",
    "                            load_if_exists=True,\n",
    "                            sampler=TPESampler()\n",
    "                            )\n"
   ]
  },
  {
   "cell_type": "code",
   "execution_count": 12,
   "metadata": {},
   "outputs": [
    {
     "data": {
      "text/plain": [
       "[FrozenTrial(number=16, state=TrialState.COMPLETE, values=[1084.2016722520668, 117.84], datetime_start=datetime.datetime(2024, 11, 12, 13, 32, 22, 388417), datetime_complete=datetime.datetime(2024, 11, 12, 13, 35, 46, 59501), params={'reward_function': 2, 'algorithm': 'ddqn', 'n_layers': 2, 'n_units': 128, 'training_rounds': 13, 'learning_rate': 3.53300011287604e-05, 'discount_factor': 0.8516537625726973, 'batch_size': 128, 'target_update_freq': 5, 'soft_update_tau': 0.6916880729632867, 'is_conservative': True, 'use_lstm': False, 'conservative_alpha': 0.9985474810108794, 'learn_after_episode': False, 'learning_steps': 10, 'n_epochs': 500}, user_attrs={}, system_attrs={}, intermediate_values={}, distributions={'reward_function': CategoricalDistribution(choices=(0, 1, 2)), 'algorithm': CategoricalDistribution(choices=('dqn', 'ddqn')), 'n_layers': IntDistribution(high=3, log=False, low=1, step=1), 'n_units': CategoricalDistribution(choices=(64, 128, 256, 512)), 'training_rounds': IntDistribution(high=30, log=False, low=5, step=1), 'learning_rate': FloatDistribution(high=0.0001, log=False, low=1e-06, step=None), 'discount_factor': FloatDistribution(high=0.99, log=False, low=0.8, step=None), 'batch_size': CategoricalDistribution(choices=(64, 128)), 'target_update_freq': CategoricalDistribution(choices=(1, 5, 10, 24)), 'soft_update_tau': FloatDistribution(high=0.99, log=False, low=0.1, step=None), 'is_conservative': CategoricalDistribution(choices=(True, False)), 'use_lstm': CategoricalDistribution(choices=(True, False)), 'conservative_alpha': FloatDistribution(high=1.0, log=False, low=0.5, step=None), 'learn_after_episode': CategoricalDistribution(choices=(True, False)), 'learning_steps': IntDistribution(high=89, log=False, low=10, step=1), 'n_epochs': CategoricalDistribution(choices=(100, 500))}, trial_id=17, value=None),\n",
       " FrozenTrial(number=17, state=TrialState.COMPLETE, values=[1139.8253713353076, 54.19], datetime_start=datetime.datetime(2024, 11, 12, 13, 35, 46, 65848), datetime_complete=datetime.datetime(2024, 11, 12, 13, 37, 56, 28796), params={'reward_function': 2, 'algorithm': 'ddqn', 'n_layers': 3, 'n_units': 128, 'training_rounds': 9, 'learning_rate': 2.0806196470044027e-06, 'discount_factor': 0.8541973968154928, 'batch_size': 128, 'target_update_freq': 5, 'soft_update_tau': 0.10400101722637872, 'is_conservative': True, 'use_lstm': False, 'conservative_alpha': 0.9533668480759279, 'learn_after_episode': False, 'learning_steps': 15, 'n_epochs': 500}, user_attrs={}, system_attrs={}, intermediate_values={}, distributions={'reward_function': CategoricalDistribution(choices=(0, 1, 2)), 'algorithm': CategoricalDistribution(choices=('dqn', 'ddqn')), 'n_layers': IntDistribution(high=3, log=False, low=1, step=1), 'n_units': CategoricalDistribution(choices=(64, 128, 256, 512)), 'training_rounds': IntDistribution(high=30, log=False, low=5, step=1), 'learning_rate': FloatDistribution(high=0.0001, log=False, low=1e-06, step=None), 'discount_factor': FloatDistribution(high=0.99, log=False, low=0.8, step=None), 'batch_size': CategoricalDistribution(choices=(64, 128)), 'target_update_freq': CategoricalDistribution(choices=(1, 5, 10, 24)), 'soft_update_tau': FloatDistribution(high=0.99, log=False, low=0.1, step=None), 'is_conservative': CategoricalDistribution(choices=(True, False)), 'use_lstm': CategoricalDistribution(choices=(True, False)), 'conservative_alpha': FloatDistribution(high=1.0, log=False, low=0.5, step=None), 'learn_after_episode': CategoricalDistribution(choices=(True, False)), 'learning_steps': IntDistribution(high=89, log=False, low=10, step=1), 'n_epochs': CategoricalDistribution(choices=(100, 500))}, trial_id=18, value=None),\n",
       " FrozenTrial(number=39, state=TrialState.COMPLETE, values=[1195.593004389608, 20.28], datetime_start=datetime.datetime(2024, 11, 13, 9, 17, 35, 824990), datetime_complete=datetime.datetime(2024, 11, 13, 9, 18, 27, 835126), params={'reward_function': 2, 'algorithm': 'ddqn', 'n_layers': 2, 'n_units': 512, 'training_rounds': 15, 'learning_rate': 4.623558836951419e-05, 'discount_factor': 0.9273965992151891, 'batch_size': 64, 'target_update_freq': 5, 'soft_update_tau': 0.36702327017049197, 'is_conservative': True, 'use_lstm': False, 'conservative_alpha': 0.8473891303256786, 'learn_after_episode': True, 'learning_steps': 77, 'n_epochs': 500}, user_attrs={}, system_attrs={}, intermediate_values={}, distributions={'reward_function': CategoricalDistribution(choices=(0, 1, 2)), 'algorithm': CategoricalDistribution(choices=('dqn', 'ddqn')), 'n_layers': IntDistribution(high=3, log=False, low=1, step=1), 'n_units': CategoricalDistribution(choices=(64, 128, 256, 512)), 'training_rounds': IntDistribution(high=30, log=False, low=5, step=1), 'learning_rate': FloatDistribution(high=0.0001, log=False, low=1e-06, step=None), 'discount_factor': FloatDistribution(high=0.99, log=False, low=0.8, step=None), 'batch_size': CategoricalDistribution(choices=(64, 128)), 'target_update_freq': CategoricalDistribution(choices=(1, 5, 10, 24)), 'soft_update_tau': FloatDistribution(high=0.99, log=False, low=0.1, step=None), 'is_conservative': CategoricalDistribution(choices=(True, False)), 'use_lstm': CategoricalDistribution(choices=(True, False)), 'conservative_alpha': FloatDistribution(high=1.0, log=False, low=0.5, step=None), 'learn_after_episode': CategoricalDistribution(choices=(True, False)), 'learning_steps': IntDistribution(high=89, log=False, low=10, step=1), 'n_epochs': CategoricalDistribution(choices=(100, 500))}, trial_id=40, value=None),\n",
       " FrozenTrial(number=40, state=TrialState.COMPLETE, values=[1096.556298653375, 91.73], datetime_start=datetime.datetime(2024, 11, 13, 9, 18, 27, 841419), datetime_complete=datetime.datetime(2024, 11, 13, 9, 18, 52, 274812), params={'reward_function': 1, 'algorithm': 'ddqn', 'n_layers': 2, 'n_units': 128, 'training_rounds': 7, 'learning_rate': 2.1296076947723937e-05, 'discount_factor': 0.8170163944429499, 'batch_size': 128, 'target_update_freq': 5, 'soft_update_tau': 0.24912249082790988, 'is_conservative': True, 'use_lstm': False, 'conservative_alpha': 0.8511160744293506, 'learn_after_episode': True, 'learning_steps': 80, 'n_epochs': 500}, user_attrs={}, system_attrs={}, intermediate_values={}, distributions={'reward_function': CategoricalDistribution(choices=(0, 1, 2)), 'algorithm': CategoricalDistribution(choices=('dqn', 'ddqn')), 'n_layers': IntDistribution(high=3, log=False, low=1, step=1), 'n_units': CategoricalDistribution(choices=(64, 128, 256, 512)), 'training_rounds': IntDistribution(high=30, log=False, low=5, step=1), 'learning_rate': FloatDistribution(high=0.0001, log=False, low=1e-06, step=None), 'discount_factor': FloatDistribution(high=0.99, log=False, low=0.8, step=None), 'batch_size': CategoricalDistribution(choices=(64, 128)), 'target_update_freq': CategoricalDistribution(choices=(1, 5, 10, 24)), 'soft_update_tau': FloatDistribution(high=0.99, log=False, low=0.1, step=None), 'is_conservative': CategoricalDistribution(choices=(True, False)), 'use_lstm': CategoricalDistribution(choices=(True, False)), 'conservative_alpha': FloatDistribution(high=1.0, log=False, low=0.5, step=None), 'learn_after_episode': CategoricalDistribution(choices=(True, False)), 'learning_steps': IntDistribution(high=89, log=False, low=10, step=1), 'n_epochs': CategoricalDistribution(choices=(100, 500))}, trial_id=41, value=None),\n",
       " FrozenTrial(number=43, state=TrialState.COMPLETE, values=[1107.6112104654226, 62.18], datetime_start=datetime.datetime(2024, 11, 13, 9, 19, 40, 915427), datetime_complete=datetime.datetime(2024, 11, 13, 9, 20, 21, 568781), params={'reward_function': 1, 'algorithm': 'ddqn', 'n_layers': 2, 'n_units': 128, 'training_rounds': 25, 'learning_rate': 2.2192240444524422e-05, 'discount_factor': 0.8252051018867268, 'batch_size': 128, 'target_update_freq': 5, 'soft_update_tau': 0.34350295403468445, 'is_conservative': True, 'use_lstm': False, 'conservative_alpha': 0.8823248724681476, 'learn_after_episode': True, 'learning_steps': 89, 'n_epochs': 500}, user_attrs={}, system_attrs={}, intermediate_values={}, distributions={'reward_function': CategoricalDistribution(choices=(0, 1, 2)), 'algorithm': CategoricalDistribution(choices=('dqn', 'ddqn')), 'n_layers': IntDistribution(high=3, log=False, low=1, step=1), 'n_units': CategoricalDistribution(choices=(64, 128, 256, 512)), 'training_rounds': IntDistribution(high=30, log=False, low=5, step=1), 'learning_rate': FloatDistribution(high=0.0001, log=False, low=1e-06, step=None), 'discount_factor': FloatDistribution(high=0.99, log=False, low=0.8, step=None), 'batch_size': CategoricalDistribution(choices=(64, 128)), 'target_update_freq': CategoricalDistribution(choices=(1, 5, 10, 24)), 'soft_update_tau': FloatDistribution(high=0.99, log=False, low=0.1, step=None), 'is_conservative': CategoricalDistribution(choices=(True, False)), 'use_lstm': CategoricalDistribution(choices=(True, False)), 'conservative_alpha': FloatDistribution(high=1.0, log=False, low=0.5, step=None), 'learn_after_episode': CategoricalDistribution(choices=(True, False)), 'learning_steps': IntDistribution(high=89, log=False, low=10, step=1), 'n_epochs': CategoricalDistribution(choices=(100, 500))}, trial_id=44, value=None)]"
      ]
     },
     "execution_count": 12,
     "metadata": {},
     "output_type": "execute_result"
    }
   ],
   "source": [
    "# print(f\"Best value: {study.best_value} (params: {study.best_params})\")\n",
    "best_trials=study.best_trials\n",
    "best_trials"
   ]
  },
  {
   "cell_type": "code",
   "execution_count": 13,
   "metadata": {},
   "outputs": [
    {
     "data": {
      "text/plain": [
       "'Agent/pearl_DOGEUSDT_Spot_model.pkl'"
      ]
     },
     "execution_count": 13,
     "metadata": {},
     "output_type": "execute_result"
    }
   ],
   "source": [
    "\n",
    "\n",
    "if -1 in [np.sign(p) for p in test_env.positions]:\n",
    "    market_type='Futures'\n",
    "else:\n",
    "    market_type='Spot'\n",
    "symb=defaults.target_pair.replace('/','')\n",
    "\n",
    "agent_path=f'Agent/pearl_{symb}_{market_type}_model.pkl'\n",
    "\n",
    "agent_path\n"
   ]
  },
  {
   "cell_type": "code",
   "execution_count": 15,
   "metadata": {},
   "outputs": [
    {
     "data": {
      "text/plain": [
       "[0, 1, 2, 3, 4]"
      ]
     },
     "execution_count": 15,
     "metadata": {},
     "output_type": "execute_result"
    }
   ],
   "source": [
    "[i for i in range(5)]"
   ]
  },
  {
   "cell_type": "code",
   "execution_count": 16,
   "metadata": {},
   "outputs": [
    {
     "name": "stderr",
     "output_type": "stream",
     "text": [
      "[I 2024-11-17 11:37:54,630] Using an existing study with name 'pearl-2024-11-12-hp-search' instead of creating a new one.\n",
      "  0%|          | 0/500 [00:00<?, ?it/s]"
     ]
    },
    {
     "data": {
      "application/vnd.jupyter.widget-view+json": {
       "model_id": "75dbb934752142628994995c9e9211fb",
       "version_major": 2,
       "version_minor": 0
      },
      "text/plain": [
       "  0%|          | 0/84000 [00:00<?, ?it/s]"
      ]
     },
     "metadata": {},
     "output_type": "display_data"
    },
    {
     "name": "stderr",
     "output_type": "stream",
     "text": [
      "  0%|          | 0/500 [03:43<?, ?it/s]\n"
     ]
    },
    {
     "name": "stdout",
     "output_type": "stream",
     "text": [
      "Testing Return AVG Profit: 999.9449999999998, AVG Number of Trades: 0.55\n"
     ]
    },
    {
     "name": "stderr",
     "output_type": "stream",
     "text": [
      "  0%|          | 0/500 [00:00<?, ?it/s]"
     ]
    },
    {
     "data": {
      "application/vnd.jupyter.widget-view+json": {
       "model_id": "680073045fab4e1b8da69319aef6e181",
       "version_major": 2,
       "version_minor": 0
      },
      "text/plain": [
       "  0%|          | 0/84000 [00:00<?, ?it/s]"
      ]
     },
     "metadata": {},
     "output_type": "display_data"
    },
    {
     "name": "stderr",
     "output_type": "stream",
     "text": [
      "  0%|          | 0/500 [03:46<?, ?it/s]\n",
      "[I 2024-11-17 11:45:27,966] Using an existing study with name 'pearl-2024-11-12-hp-search' instead of creating a new one.\n",
      "  0%|          | 0/500 [00:00<?, ?it/s]"
     ]
    },
    {
     "data": {
      "application/vnd.jupyter.widget-view+json": {
       "model_id": "5f1475c2ecd148b897fa5ab7576c0a44",
       "version_major": 2,
       "version_minor": 0
      },
      "text/plain": [
       "  0%|          | 0/84000 [00:00<?, ?it/s]"
      ]
     },
     "metadata": {},
     "output_type": "display_data"
    },
    {
     "name": "stderr",
     "output_type": "stream",
     "text": [
      "  0%|          | 0/500 [02:23<?, ?it/s]\n"
     ]
    },
    {
     "name": "stdout",
     "output_type": "stream",
     "text": [
      "Testing Return AVG Profit: 999.9489999999996, AVG Number of Trades: 0.51\n"
     ]
    },
    {
     "name": "stderr",
     "output_type": "stream",
     "text": [
      "  0%|          | 0/500 [00:00<?, ?it/s]"
     ]
    },
    {
     "data": {
      "application/vnd.jupyter.widget-view+json": {
       "model_id": "1505b023ab6e43ed8719005f89aec64a",
       "version_major": 2,
       "version_minor": 0
      },
      "text/plain": [
       "  0%|          | 0/84000 [00:00<?, ?it/s]"
      ]
     },
     "metadata": {},
     "output_type": "display_data"
    },
    {
     "name": "stderr",
     "output_type": "stream",
     "text": [
      "  0%|          | 0/500 [02:23<?, ?it/s]\n",
      "[I 2024-11-17 11:50:19,106] Using an existing study with name 'pearl-2024-11-12-hp-search' instead of creating a new one.\n",
      "  0%|          | 0/500 [00:00<?, ?it/s]"
     ]
    },
    {
     "data": {
      "application/vnd.jupyter.widget-view+json": {
       "model_id": "0d40c41ddece47e187abdcecab312e96",
       "version_major": 2,
       "version_minor": 0
      },
      "text/plain": [
       "  0%|          | 0/500 [00:00<?, ?it/s]"
      ]
     },
     "metadata": {},
     "output_type": "display_data"
    },
    {
     "name": "stderr",
     "output_type": "stream",
     "text": [
      "  0%|          | 0/500 [00:49<?, ?it/s]\n"
     ]
    },
    {
     "name": "stdout",
     "output_type": "stream",
     "text": [
      "Testing Return AVG Profit: 999.9539999999996, AVG Number of Trades: 0.46\n"
     ]
    },
    {
     "name": "stderr",
     "output_type": "stream",
     "text": [
      "  0%|          | 0/500 [00:00<?, ?it/s]"
     ]
    },
    {
     "data": {
      "application/vnd.jupyter.widget-view+json": {
       "model_id": "1931935f3bdd475e8be9f8705bc4171f",
       "version_major": 2,
       "version_minor": 0
      },
      "text/plain": [
       "  0%|          | 0/500 [00:00<?, ?it/s]"
      ]
     },
     "metadata": {},
     "output_type": "display_data"
    },
    {
     "name": "stderr",
     "output_type": "stream",
     "text": [
      "  0%|          | 0/500 [00:50<?, ?it/s]\n",
      "[I 2024-11-17 11:52:03,614] Using an existing study with name 'pearl-2024-11-12-hp-search' instead of creating a new one.\n",
      "  0%|          | 0/500 [00:00<?, ?it/s]"
     ]
    },
    {
     "data": {
      "application/vnd.jupyter.widget-view+json": {
       "model_id": "78982e80912f4642a41ab3c1cfbd6a02",
       "version_major": 2,
       "version_minor": 0
      },
      "text/plain": [
       "  0%|          | 0/500 [00:00<?, ?it/s]"
      ]
     },
     "metadata": {},
     "output_type": "display_data"
    },
    {
     "name": "stderr",
     "output_type": "stream",
     "text": [
      "  0%|          | 0/500 [00:22<?, ?it/s]\n"
     ]
    },
    {
     "name": "stdout",
     "output_type": "stream",
     "text": [
      "Testing Return AVG Profit: 1012.5094668124718, AVG Number of Trades: 1.9\n"
     ]
    },
    {
     "name": "stderr",
     "output_type": "stream",
     "text": [
      "  0%|          | 0/500 [00:00<?, ?it/s]"
     ]
    },
    {
     "data": {
      "application/vnd.jupyter.widget-view+json": {
       "model_id": "adc680c74063401ba90468002bc5c9f4",
       "version_major": 2,
       "version_minor": 0
      },
      "text/plain": [
       "  0%|          | 0/500 [00:00<?, ?it/s]"
      ]
     },
     "metadata": {},
     "output_type": "display_data"
    },
    {
     "name": "stderr",
     "output_type": "stream",
     "text": [
      "  0%|          | 0/500 [00:22<?, ?it/s]\n"
     ]
    }
   ],
   "source": [
    "best_agents={}\n",
    "for i in range(4):\n",
    "    agent,learning_params=pearl_utils.load_agent_from_study(study_path=\"sqlite:///pearl_hyper_parameters.sqlite3\",\n",
    "                                            study_name='pearl-2024-11-12-hp-search',\n",
    "                                            action_space_dim=2,\n",
    "                                            observation_space_dim=30,\n",
    "                                            version=i)\n",
    "    \n",
    "    agent,profit,n_trades=pearl_utils.train_production_agent(agent,\n",
    "                                learning_params,\n",
    "                                train_env=train_env,\n",
    "                                test_env=train_env,\n",
    "                                save_path=agent_path)\n",
    "    best_agents[profit]=agent\n",
    "agent=best_agents[max(best_agents)]\n",
    "    "
   ]
  },
  {
   "cell_type": "code",
   "execution_count": 17,
   "metadata": {},
   "outputs": [],
   "source": [
    "# agent,learning_params=pearl_utils.load_agent_from_study(study_path=\"sqlite:///pearl_hyper_parameters.sqlite3\",\n",
    "#                                             study_name='pearl-2024-11-12-hp-search',\n",
    "#                                             action_space_dim=2,\n",
    "#                                             observation_space_dim=30,\n",
    "#                                             version=1)\n",
    "\n",
    "# agent=pearl_utils.train_production_agent(agent,\n",
    "#                              learning_params,\n",
    "#                              train_env=train_env,\n",
    "#                              test_env=train_env,\n",
    "#                              save_path=agent_path)"
   ]
  },
  {
   "cell_type": "code",
   "execution_count": 24,
   "metadata": {},
   "outputs": [
    {
     "data": {
      "text/plain": [
       "{999.9449999999998: <Pearl.pearl.pearl_agent.PearlAgent at 0x345189e70>,\n",
       " 999.9489999999996: <Pearl.pearl.pearl_agent.PearlAgent at 0x345bf86a0>,\n",
       " 999.9539999999996: <Pearl.pearl.pearl_agent.PearlAgent at 0x3a32b46d0>,\n",
       " 1012.5094668124718: <Pearl.pearl.pearl_agent.PearlAgent at 0x3a7f84f10>}"
      ]
     },
     "execution_count": 24,
     "metadata": {},
     "output_type": "execute_result"
    }
   ],
   "source": [
    "best_agents"
   ]
  },
  {
   "cell_type": "code",
   "execution_count": 18,
   "metadata": {},
   "outputs": [
    {
     "name": "stdout",
     "output_type": "stream",
     "text": [
      "Testing Return AVG Profit: 1284.8120247137942, AVG Number of Trades: 34.08\n"
     ]
    }
   ],
   "source": [
    "profit,n_trades=pearl_utils.test_pearl_model(agent,test_env)\n",
    "print(f\"Testing Return AVG Profit: {profit}, AVG Number of Trades: {n_trades}\")"
   ]
  },
  {
   "cell_type": "code",
   "execution_count": 25,
   "metadata": {},
   "outputs": [],
   "source": [
    "pickle.dump(agent,open(agent_path,'wb'))\n",
    "agent=pickle.load(open(agent_path,'rb'))"
   ]
  },
  {
   "cell_type": "code",
   "execution_count": 1,
   "metadata": {},
   "outputs": [
    {
     "data": {
      "text/plain": [
       "'/Users/sebastiancoombs/anaconda3/envs/pearlenv/lib/python3.10/site-packages/certifi/cacert.pem'"
      ]
     },
     "execution_count": 1,
     "metadata": {},
     "output_type": "execute_result"
    }
   ],
   "source": [
    "import certifi\n",
    "certifi.where()"
   ]
  },
  {
   "cell_type": "code",
   "execution_count": 20,
   "metadata": {},
   "outputs": [],
   "source": [
    "# pickle.dump(agent.policy_learner.state_dict(),open(agent_path,'wb'))"
   ]
  },
  {
   "cell_type": "code",
   "execution_count": 21,
   "metadata": {},
   "outputs": [],
   "source": [
    "# weights=pickle.load(open(agent_path,'rb'))"
   ]
  },
  {
   "cell_type": "code",
   "execution_count": 22,
   "metadata": {},
   "outputs": [],
   "source": [
    "# agent.policy_learner.load_state_dict(weights)"
   ]
  },
  {
   "cell_type": "code",
   "execution_count": null,
   "metadata": {},
   "outputs": [],
   "source": [
    "\n",
    "# agent,learning_params=pearl_utils.load_agent_from_study(study_path=\"sqlite:///pearl_hyper_parameters.sqlite3\",\n",
    "#                                         study_name='pearl-2024-11-12-hp-search',\n",
    "#                                         action_space_dim=2,\n",
    "#                                         observation_space_dim=30)\n",
    "# agent=load_agent_weights(agent,weight_path=agent_path)"
   ]
  },
  {
   "cell_type": "code",
   "execution_count": 23,
   "metadata": {},
   "outputs": [
    {
     "name": "stdout",
     "output_type": "stream",
     "text": [
      "Testing Return AVG Profit: 1296.970877901161, AVG Number of Trades: 37.15\n"
     ]
    }
   ],
   "source": [
    "profit,n_trades=pearl_utils.test_pearl_model(agent,test_env)\n",
    "print(f\"Testing Return AVG Profit: {profit}, AVG Number of Trades: {n_trades}\")"
   ]
  },
  {
   "cell_type": "code",
   "execution_count": null,
   "metadata": {},
   "outputs": [],
   "source": []
  }
 ],
 "metadata": {
  "kernelspec": {
   "display_name": "agent_env",
   "language": "python",
   "name": "python3"
  },
  "language_info": {
   "codemirror_mode": {
    "name": "ipython",
    "version": 3
   },
   "file_extension": ".py",
   "mimetype": "text/x-python",
   "name": "python",
   "nbconvert_exporter": "python",
   "pygments_lexer": "ipython3",
   "version": "3.10.13"
  }
 },
 "nbformat": 4,
 "nbformat_minor": 2
}
