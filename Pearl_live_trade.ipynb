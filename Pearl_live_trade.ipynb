{
 "cells": [
  {
   "cell_type": "code",
   "execution_count": 5,
   "metadata": {},
   "outputs": [],
   "source": [
    "\n",
    "import warnings\n",
    "warnings.filterwarnings(\"ignore\")"
   ]
  },
  {
   "cell_type": "code",
   "execution_count": 6,
   "metadata": {},
   "outputs": [],
   "source": [
    "from environments.live_environments import BaseLiveTradingEnv\n",
    "from neuralforecast.core import NeuralForecast\n",
    "from configs import spot_defaults as defaults\n",
    "from Keys import *\n",
    "import pickle\n",
    "import numpy as np\n",
    "from utils import pearl_utils\n",
    "from Pearl.pearl.utils.instantiations.environments.gym_environment import \\\n",
    "    GymEnvironment\n",
    "import boto3"
   ]
  },
  {
   "cell_type": "code",
   "execution_count": 13,
   "metadata": {},
   "outputs": [],
   "source": [
    "\n",
    "conn = boto3.resource('s3')\n",
    "AWS_ACCESS_KEY\n",
    "AWS_SECRET_KEY\n",
    "s3= boto3.client('s3', aws_access_key_id=AWS_ACCESS_KEY, aws_secret_access_key=AWS_SECRET_KEY)\n",
    "s3.download_file('coinbasetradehistory','trade.db','Trade_history/trade.db')\n",
    "# conn.download_file(\n",
    "#     # Filename='https://coinbasetradehistory.s3.us-east-1.amazonaws.com/trade.db'\n",
    "# )\n"
   ]
  },
  {
   "cell_type": "code",
   "execution_count": null,
   "metadata": {},
   "outputs": [],
   "source": [
    "\n"
   ]
  },
  {
   "cell_type": "code",
   "execution_count": null,
   "metadata": {},
   "outputs": [],
   "source": []
  },
  {
   "cell_type": "code",
   "execution_count": 14,
   "metadata": {},
   "outputs": [
    {
     "name": "stderr",
     "output_type": "stream",
     "text": [
      "Seed set to 6\n",
      "Seed set to 19\n",
      "Seed set to 16\n"
     ]
    }
   ],
   "source": [
    "forecast_model=NeuralForecast.load(defaults.forecasting_model_path)"
   ]
  },
  {
   "cell_type": "code",
   "execution_count": 15,
   "metadata": {},
   "outputs": [
    {
     "data": {
      "text/plain": [
       "'DOGE/USDC'"
      ]
     },
     "execution_count": 15,
     "metadata": {},
     "output_type": "execute_result"
    }
   ],
   "source": [
    "base_asset='DOGE'\n",
    "quote_asset='USDC'\n",
    "test_net=False\n",
    "time_frame='1h'\n",
    "product_type='FUTURE'\n",
    "product_type='Spot'\n",
    "futures_target='DOG-29NOV24-CDE'\n",
    "exchange='coinbase'\n",
    "trade_target='/'.join([base_asset,quote_asset]) if product_type.upper()=='SPOT' else  futures_target\n",
    "trade_target"
   ]
  },
  {
   "cell_type": "code",
   "execution_count": 16,
   "metadata": {},
   "outputs": [
    {
     "name": "stdout",
     "output_type": "stream",
     "text": [
      "Paper TradingFalse on coinbase at api.coinbase.com\n",
      " got symbol DOGE/USDC\n",
      "final symbol DOGE-USDC\n",
      "Connected to coinbase client\n",
      "Getting data\n"
     ]
    },
    {
     "name": "stderr",
     "output_type": "stream",
     "text": [
      "100%|██████████| 78/78 [00:00<00:00, 16397.14it/s]\n",
      "GPU available: True (mps), used: True\n",
      "TPU available: False, using: 0 TPU cores\n",
      "HPU available: False, using: 0 HPUs\n"
     ]
    },
    {
     "data": {
      "application/vnd.jupyter.widget-view+json": {
       "model_id": "7a73c0164fa647a88534b9902ea2e583",
       "version_major": 2,
       "version_minor": 0
      },
      "text/plain": [
       "Predicting: |          | 0/? [00:00<?, ?it/s]"
      ]
     },
     "metadata": {},
     "output_type": "display_data"
    },
    {
     "name": "stderr",
     "output_type": "stream",
     "text": [
      "GPU available: True (mps), used: True\n",
      "TPU available: False, using: 0 TPU cores\n",
      "HPU available: False, using: 0 HPUs\n"
     ]
    },
    {
     "data": {
      "application/vnd.jupyter.widget-view+json": {
       "model_id": "9ad96c4329274a4eac8e9ac91b371ce4",
       "version_major": 2,
       "version_minor": 0
      },
      "text/plain": [
       "Predicting: |          | 0/? [00:00<?, ?it/s]"
      ]
     },
     "metadata": {},
     "output_type": "display_data"
    },
    {
     "name": "stderr",
     "output_type": "stream",
     "text": [
      "GPU available: True (mps), used: True\n",
      "TPU available: False, using: 0 TPU cores\n",
      "HPU available: False, using: 0 HPUs\n"
     ]
    },
    {
     "data": {
      "application/vnd.jupyter.widget-view+json": {
       "model_id": "06010185ffea44e1a53e5f29c1b92b2b",
       "version_major": 2,
       "version_minor": 0
      },
      "text/plain": [
       "Predicting: |          | 0/? [00:00<?, ?it/s]"
      ]
     },
     "metadata": {},
     "output_type": "display_data"
    }
   ],
   "source": [
    "live_env=BaseLiveTradingEnv(\n",
    "            api_key=coinbase_api_key,\n",
    "            api_secret=coinbase_api_secret,\n",
    "            paper=test_net,\n",
    "            symbol=trade_target,\n",
    "            time_frame=time_frame,\n",
    "            product_type=product_type,\n",
    "            positions=[0,1],\n",
    "            history_path='Trade_history/trade.db',\n",
    "            exchange=exchange,\n",
    "            forecast_model=forecast_model,\n",
    "            discord_webhook='https://discord.com/api/webhooks/986694946381783102/FOA7nG9ShDcXY95-c3XEKV-Fdek66L9xfbQoKuEuFQkK2P4aFWaZ_fKmzw00j8Oj8Woj'\n",
    "\n",
    "            )"
   ]
  },
  {
   "cell_type": "code",
   "execution_count": 17,
   "metadata": {},
   "outputs": [],
   "source": [
    "history=live_env.load_history()"
   ]
  },
  {
   "cell_type": "code",
   "execution_count": 18,
   "metadata": {},
   "outputs": [
    {
     "data": {
      "text/plain": [
       "0                 11-14-2024,\n",
       "1                 11-14-2024,\n",
       "2                 11-14-2024,\n",
       "3                 11-14-2024,\n",
       "4                 11-14-2024,\n",
       "5                 11-14-2024,\n",
       "6                 11-14-2024,\n",
       "7                 11-14-2024,\n",
       "8                 11-14-2024,\n",
       "9                 11-15-2024,\n",
       "10                11-15-2024,\n",
       "11          11-15-2024 04:00 \n",
       "12          11-15-2024 05:00 \n",
       "13    11-17-2024 10:09 AM PST\n",
       "14    11-17-2024 10:18 AM PST\n",
       "15    11-17-2024 10:18 AM PST\n",
       "16    11-17-2024 10:19 AM PST\n",
       "17    11-17-2024 10:19 AM PST\n",
       "18    11-17-2024 10:20 AM PST\n",
       "19    11-17-2024 10:20 AM PST\n",
       "20    11-17-2024 04:54 PM PST\n",
       "21    11-17-2024 04:54 PM PST\n",
       "Name: date, dtype: object"
      ]
     },
     "execution_count": 18,
     "metadata": {},
     "output_type": "execute_result"
    }
   ],
   "source": [
    "history['date']"
   ]
  },
  {
   "cell_type": "code",
   "execution_count": 19,
   "metadata": {},
   "outputs": [
    {
     "ename": "AttributeError",
     "evalue": "module 'configs.spot_defaults' has no attribute 'MODEL_NAME'",
     "output_type": "error",
     "traceback": [
      "\u001b[0;31m---------------------------------------------------------------------------\u001b[0m",
      "\u001b[0;31mAttributeError\u001b[0m                            Traceback (most recent call last)",
      "\u001b[1;32m/Users/sebastiancoombs/Documents/Git/MultiTrader/Pearl_live_trade.ipynb Cell 11\u001b[0m line \u001b[0;36m1\n\u001b[0;32m----> <a href='vscode-notebook-cell:/Users/sebastiancoombs/Documents/Git/MultiTrader/Pearl_live_trade.ipynb#X13sZmlsZQ%3D%3D?line=0'>1</a>\u001b[0m model_name\u001b[39m=\u001b[39mdefaults\u001b[39m.\u001b[39;49mMODEL_NAME\n\u001b[1;32m      <a href='vscode-notebook-cell:/Users/sebastiancoombs/Documents/Git/MultiTrader/Pearl_live_trade.ipynb#X13sZmlsZQ%3D%3D?line=1'>2</a>\u001b[0m agent_path\u001b[39m=\u001b[39m\u001b[39mf\u001b[39m\u001b[39m'\u001b[39m\u001b[39mAgent/pearl_\u001b[39m\u001b[39m{\u001b[39;00mmodel_name\u001b[39m}\u001b[39;00m\u001b[39m_model.pkl\u001b[39m\u001b[39m'\u001b[39m\n\u001b[1;32m      <a href='vscode-notebook-cell:/Users/sebastiancoombs/Documents/Git/MultiTrader/Pearl_live_trade.ipynb#X13sZmlsZQ%3D%3D?line=2'>3</a>\u001b[0m agent,learning_params\u001b[39m=\u001b[39mpearl_utils\u001b[39m.\u001b[39mload_agent_from_study(study_path\u001b[39m=\u001b[39m\u001b[39m\"\u001b[39m\u001b[39msqlite:///pearl_hyper_parameters.sqlite3\u001b[39m\u001b[39m\"\u001b[39m,\n\u001b[1;32m      <a href='vscode-notebook-cell:/Users/sebastiancoombs/Documents/Git/MultiTrader/Pearl_live_trade.ipynb#X13sZmlsZQ%3D%3D?line=3'>4</a>\u001b[0m                                         study_name\u001b[39m=\u001b[39m\u001b[39mf\u001b[39m\u001b[39m'\u001b[39m\u001b[39mpearl-\u001b[39m\u001b[39m{\u001b[39;00mmodel_name\u001b[39m}\u001b[39;00m\u001b[39m-hp-search\u001b[39m\u001b[39m'\u001b[39m,\n\u001b[1;32m      <a href='vscode-notebook-cell:/Users/sebastiancoombs/Documents/Git/MultiTrader/Pearl_live_trade.ipynb#X13sZmlsZQ%3D%3D?line=4'>5</a>\u001b[0m                                         action_space_dim\u001b[39m=\u001b[39m\u001b[39m2\u001b[39m,\n\u001b[1;32m      <a href='vscode-notebook-cell:/Users/sebastiancoombs/Documents/Git/MultiTrader/Pearl_live_trade.ipynb#X13sZmlsZQ%3D%3D?line=5'>6</a>\u001b[0m                                             observation_space_dim\u001b[39m=\u001b[39m\u001b[39m30\u001b[39m,)\n",
      "\u001b[0;31mAttributeError\u001b[0m: module 'configs.spot_defaults' has no attribute 'MODEL_NAME'"
     ]
    }
   ],
   "source": [
    "model_name=defaults.MODEL_NAME\n",
    "agent_path=f'Agent/pearl_{model_name}_model.pkl'\n",
    "agent,learning_params=pearl_utils.load_agent_from_study(study_path=\"sqlite:///pearl_hyper_parameters.sqlite3\",\n",
    "                                        study_name=f'pearl-{model_name}-hp-search',\n",
    "                                        action_space_dim=2,\n",
    "                                            observation_space_dim=30,)\n",
    "agent=pearl_utils.load_agent_weights(agent,weight_path=agent_path)"
   ]
  },
  {
   "cell_type": "code",
   "execution_count": null,
   "metadata": {},
   "outputs": [],
   "source": [
    "from Pearl.pearl.utils.instantiations.environments.gym_environment import \\\n",
    "    GymEnvironment"
   ]
  },
  {
   "cell_type": "code",
   "execution_count": null,
   "metadata": {},
   "outputs": [],
   "source": [
    "live_pearl_env=GymEnvironment(live_env)"
   ]
  },
  {
   "cell_type": "code",
   "execution_count": null,
   "metadata": {},
   "outputs": [],
   "source": [
    "observation,action_space=live_pearl_env.reset()"
   ]
  },
  {
   "cell_type": "code",
   "execution_count": null,
   "metadata": {},
   "outputs": [],
   "source": [
    "agent.observe(observation, action_space)"
   ]
  },
  {
   "cell_type": "code",
   "execution_count": null,
   "metadata": {},
   "outputs": [],
   "source": [
    "action=agent.act(exploit=True)\n",
    "\n",
    "# action=\n",
    "action"
   ]
  },
  {
   "cell_type": "code",
   "execution_count": null,
   "metadata": {},
   "outputs": [],
   "source": [
    "live_env.client.account()"
   ]
  },
  {
   "cell_type": "code",
   "execution_count": null,
   "metadata": {},
   "outputs": [],
   "source": [
    "action_result=live_pearl_env.step(int(action))\n"
   ]
  },
  {
   "cell_type": "code",
   "execution_count": null,
   "metadata": {},
   "outputs": [],
   "source": [
    "len(live_env.client.trade_client.get_fills()['fills'])"
   ]
  },
  {
   "cell_type": "code",
   "execution_count": null,
   "metadata": {},
   "outputs": [],
   "source": [
    "action_result.observation"
   ]
  },
  {
   "cell_type": "code",
   "execution_count": null,
   "metadata": {},
   "outputs": [],
   "source": [
    "df=live_env.df\n",
    "import pandas as pd"
   ]
  },
  {
   "cell_type": "code",
   "execution_count": null,
   "metadata": {},
   "outputs": [],
   "source": [
    "df['ds_pst']=pd.to_datetime(df['ds'],utc=False)\n",
    "df[['ds','ds_pst']]"
   ]
  },
  {
   "cell_type": "code",
   "execution_count": null,
   "metadata": {},
   "outputs": [],
   "source": [
    "live_env.client.get_trade_rules()"
   ]
  },
  {
   "cell_type": "code",
   "execution_count": null,
   "metadata": {},
   "outputs": [],
   "source": []
  }
 ],
 "metadata": {
  "kernelspec": {
   "display_name": "pearlenv",
   "language": "python",
   "name": "python3"
  },
  "language_info": {
   "codemirror_mode": {
    "name": "ipython",
    "version": 3
   },
   "file_extension": ".py",
   "mimetype": "text/x-python",
   "name": "python",
   "nbconvert_exporter": "python",
   "pygments_lexer": "ipython3",
   "version": "3.10.13"
  }
 },
 "nbformat": 4,
 "nbformat_minor": 2
}
