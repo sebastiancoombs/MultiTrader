{
 "cells": [
  {
   "cell_type": "code",
   "execution_count": 5,
   "metadata": {},
   "outputs": [],
   "source": [
    "\n",
    "import warnings\n",
    "warnings.filterwarnings(\"ignore\")"
   ]
  },
  {
   "cell_type": "code",
   "execution_count": 6,
   "metadata": {},
   "outputs": [],
   "source": [
    "from environments.live_environments import BaseLiveTradingEnv\n",
    "from neuralforecast.core import NeuralForecast\n",
    "from configs import defaults\n",
    "from Keys import *\n",
    "import pickle\n",
    "import numpy as np\n",
    "from utils import pearl_utils\n",
    "from Pearl.pearl.utils.instantiations.environments.gym_environment import \\\n",
    "    GymEnvironment\n",
    "import boto3"
   ]
  },
  {
   "cell_type": "code",
   "execution_count": 7,
   "metadata": {},
   "outputs": [],
   "source": [
    "\n",
    "conn = boto3.resource('s3')\n",
    "AWS_ACCESS_KEY\n",
    "AWS_SECRET_KEY\n",
    "s3= boto3.client('s3', aws_access_key_id=AWS_ACCESS_KEY, aws_secret_access_key=AWS_SECRET_KEY)\n",
    "s3.download_file('coinbasetradehistory','trade.db','Trade_history/trade.db')\n",
    "# conn.download_file(\n",
    "#     # Filename='https://coinbasetradehistory.s3.us-east-1.amazonaws.com/trade.db'\n",
    "# )\n",
    "s3.download_file('coinbasetradehistory','trade.db','Trade_history/trade.db')"
   ]
  },
  {
   "cell_type": "code",
   "execution_count": null,
   "metadata": {},
   "outputs": [],
   "source": [
    "\n"
   ]
  },
  {
   "cell_type": "code",
   "execution_count": null,
   "metadata": {},
   "outputs": [],
   "source": []
  },
  {
   "cell_type": "code",
   "execution_count": 8,
   "metadata": {},
   "outputs": [
    {
     "name": "stderr",
     "output_type": "stream",
     "text": [
      "Seed set to 6\n",
      "Seed set to 19\n",
      "Seed set to 16\n"
     ]
    }
   ],
   "source": [
    "forecast_model=NeuralForecast.load('MultiHeadForecastingModel/')"
   ]
  },
  {
   "cell_type": "code",
   "execution_count": 9,
   "metadata": {},
   "outputs": [
    {
     "data": {
      "text/plain": [
       "'DOGE/USDC'"
      ]
     },
     "execution_count": 9,
     "metadata": {},
     "output_type": "execute_result"
    }
   ],
   "source": [
    "base_asset='DOGE'\n",
    "quote_asset='USDC'\n",
    "test_net=False\n",
    "time_frame='1h'\n",
    "# product_type='FUTURE'\n",
    "product_type='Spot'\n",
    "futures_target='DOG-29NOV24-CDE'\n",
    "exchange='coinbase'\n",
    "trade_target='/'.join([base_asset,quote_asset]) if product_type.upper()=='SPOT' else  futures_target\n",
    "trade_target"
   ]
  },
  {
   "cell_type": "code",
   "execution_count": 10,
   "metadata": {},
   "outputs": [
    {
     "name": "stdout",
     "output_type": "stream",
     "text": [
      "Paper TradingFalse on coinbase at api.coinbase.com\n",
      " got symbol DOGE/USDC\n",
      "final symbol DOGE-USDC\n",
      "Connected to coinbase client\n",
      "Getting data\n"
     ]
    },
    {
     "name": "stderr",
     "output_type": "stream",
     "text": [
      "100%|██████████| 78/78 [00:00<00:00, 12866.98it/s]\n",
      "GPU available: True (mps), used: True\n",
      "TPU available: False, using: 0 TPU cores\n",
      "HPU available: False, using: 0 HPUs\n"
     ]
    },
    {
     "data": {
      "application/vnd.jupyter.widget-view+json": {
       "model_id": "2bf1702bb70c47589cbfe76c54fd48aa",
       "version_major": 2,
       "version_minor": 0
      },
      "text/plain": [
       "Predicting: |          | 0/? [00:00<?, ?it/s]"
      ]
     },
     "metadata": {},
     "output_type": "display_data"
    },
    {
     "name": "stderr",
     "output_type": "stream",
     "text": [
      "GPU available: True (mps), used: True\n",
      "TPU available: False, using: 0 TPU cores\n",
      "HPU available: False, using: 0 HPUs\n"
     ]
    },
    {
     "data": {
      "application/vnd.jupyter.widget-view+json": {
       "model_id": "5494e87872db45309f1fb3e60858e011",
       "version_major": 2,
       "version_minor": 0
      },
      "text/plain": [
       "Predicting: |          | 0/? [00:00<?, ?it/s]"
      ]
     },
     "metadata": {},
     "output_type": "display_data"
    },
    {
     "name": "stderr",
     "output_type": "stream",
     "text": [
      "GPU available: True (mps), used: True\n",
      "TPU available: False, using: 0 TPU cores\n",
      "HPU available: False, using: 0 HPUs\n"
     ]
    },
    {
     "data": {
      "application/vnd.jupyter.widget-view+json": {
       "model_id": "17971dba054d43178f973be0cd63f063",
       "version_major": 2,
       "version_minor": 0
      },
      "text/plain": [
       "Predicting: |          | 0/? [00:00<?, ?it/s]"
      ]
     },
     "metadata": {},
     "output_type": "display_data"
    }
   ],
   "source": [
    "live_env=BaseLiveTradingEnv(\n",
    "            api_key=coinbase_api_key,\n",
    "            api_secret=coinbase_api_secret,\n",
    "            paper=test_net,\n",
    "            symbol=trade_target,\n",
    "            time_frame=time_frame,\n",
    "            product_type=product_type,\n",
    "            positions=[0,1],\n",
    "            history_path='Trade_history/trade.db',\n",
    "            exchange=exchange,\n",
    "            forecast_model=forecast_model,\n",
    "            discord_webhook='https://discord.com/api/webhooks/986694946381783102/FOA7nG9ShDcXY95-c3XEKV-Fdek66L9xfbQoKuEuFQkK2P4aFWaZ_fKmzw00j8Oj8Woj'\n",
    "\n",
    "            )"
   ]
  },
  {
   "cell_type": "code",
   "execution_count": 11,
   "metadata": {},
   "outputs": [
    {
     "data": {
      "text/plain": [
       "0           11-14-2024,\n",
       "1           11-14-2024,\n",
       "2           11-14-2024,\n",
       "3           11-14-2024,\n",
       "4           11-14-2024,\n",
       "5           11-14-2024,\n",
       "6           11-14-2024,\n",
       "7           11-14-2024,\n",
       "8           11-14-2024,\n",
       "9           11-15-2024,\n",
       "10          11-15-2024,\n",
       "11    11-15-2024 04:00 \n",
       "12    11-15-2024 05:00 \n",
       "Name: date, dtype: object"
      ]
     },
     "execution_count": 11,
     "metadata": {},
     "output_type": "execute_result"
    }
   ],
   "source": [
    "live_env.load_history()['date']"
   ]
  },
  {
   "cell_type": "code",
   "execution_count": 12,
   "metadata": {},
   "outputs": [
    {
     "name": "stderr",
     "output_type": "stream",
     "text": [
      "[I 2024-11-15 10:12:36,687] Using an existing study with name 'pearl-2024-11-12-hp-search' instead of creating a new one.\n"
     ]
    }
   ],
   "source": [
    "\n",
    "agent_path='Agent/pearl_DOGEUSDT_Spot_model.pkl'\n",
    "agent,learning_params=pearl_utils.load_agent_from_study(study_path=\"sqlite:///pearl_hyper_parameters.sqlite3\",\n",
    "                                        study_name='pearl-2024-11-12-hp-search',\n",
    "                                        action_space_dim=2,\n",
    "                                            observation_space_dim=30,)\n",
    "agent=pearl_utils.load_agent_weights(agent,weight_path=agent_path)"
   ]
  },
  {
   "cell_type": "code",
   "execution_count": 13,
   "metadata": {},
   "outputs": [],
   "source": [
    "from Pearl.pearl.utils.instantiations.environments.gym_environment import \\\n",
    "    GymEnvironment"
   ]
  },
  {
   "cell_type": "code",
   "execution_count": 14,
   "metadata": {},
   "outputs": [],
   "source": [
    "live_pearl_env=GymEnvironment(live_env)"
   ]
  },
  {
   "cell_type": "code",
   "execution_count": 15,
   "metadata": {},
   "outputs": [
    {
     "name": "stdout",
     "output_type": "stream",
     "text": [
      "Getting data\n"
     ]
    },
    {
     "name": "stderr",
     "output_type": "stream",
     "text": [
      "100%|██████████| 78/78 [00:00<00:00, 12277.39it/s]\n",
      "GPU available: True (mps), used: True\n",
      "TPU available: False, using: 0 TPU cores\n",
      "HPU available: False, using: 0 HPUs\n"
     ]
    },
    {
     "data": {
      "application/vnd.jupyter.widget-view+json": {
       "model_id": "220045ce6e764da18dc61e939a8b352f",
       "version_major": 2,
       "version_minor": 0
      },
      "text/plain": [
       "Predicting: |          | 0/? [00:00<?, ?it/s]"
      ]
     },
     "metadata": {},
     "output_type": "display_data"
    },
    {
     "name": "stderr",
     "output_type": "stream",
     "text": [
      "GPU available: True (mps), used: True\n",
      "TPU available: False, using: 0 TPU cores\n",
      "HPU available: False, using: 0 HPUs\n"
     ]
    },
    {
     "data": {
      "application/vnd.jupyter.widget-view+json": {
       "model_id": "ad830ad5b94347a5af27634044d447d5",
       "version_major": 2,
       "version_minor": 0
      },
      "text/plain": [
       "Predicting: |          | 0/? [00:00<?, ?it/s]"
      ]
     },
     "metadata": {},
     "output_type": "display_data"
    },
    {
     "name": "stderr",
     "output_type": "stream",
     "text": [
      "GPU available: True (mps), used: True\n",
      "TPU available: False, using: 0 TPU cores\n",
      "HPU available: False, using: 0 HPUs\n"
     ]
    },
    {
     "data": {
      "application/vnd.jupyter.widget-view+json": {
       "model_id": "5f09156c2dfd4e0fb3e03b099f1dbaa4",
       "version_major": 2,
       "version_minor": 0
      },
      "text/plain": [
       "Predicting: |          | 0/? [00:00<?, ?it/s]"
      ]
     },
     "metadata": {},
     "output_type": "display_data"
    },
    {
     "name": "stdout",
     "output_type": "stream",
     "text": [
      "193\n",
      "Getting data\n"
     ]
    },
    {
     "name": "stderr",
     "output_type": "stream",
     "text": [
      "100%|██████████| 78/78 [00:00<00:00, 14834.30it/s]\n",
      "GPU available: True (mps), used: True\n",
      "TPU available: False, using: 0 TPU cores\n",
      "HPU available: False, using: 0 HPUs\n"
     ]
    },
    {
     "data": {
      "application/vnd.jupyter.widget-view+json": {
       "model_id": "0a10cf8cccdc474cbaddcebaa0ed7c80",
       "version_major": 2,
       "version_minor": 0
      },
      "text/plain": [
       "Predicting: |          | 0/? [00:00<?, ?it/s]"
      ]
     },
     "metadata": {},
     "output_type": "display_data"
    },
    {
     "name": "stderr",
     "output_type": "stream",
     "text": [
      "GPU available: True (mps), used: True\n",
      "TPU available: False, using: 0 TPU cores\n",
      "HPU available: False, using: 0 HPUs\n"
     ]
    },
    {
     "data": {
      "application/vnd.jupyter.widget-view+json": {
       "model_id": "c04de3ba7ec8476db347bb9c6266edbe",
       "version_major": 2,
       "version_minor": 0
      },
      "text/plain": [
       "Predicting: |          | 0/? [00:00<?, ?it/s]"
      ]
     },
     "metadata": {},
     "output_type": "display_data"
    },
    {
     "name": "stderr",
     "output_type": "stream",
     "text": [
      "GPU available: True (mps), used: True\n",
      "TPU available: False, using: 0 TPU cores\n",
      "HPU available: False, using: 0 HPUs\n"
     ]
    },
    {
     "data": {
      "application/vnd.jupyter.widget-view+json": {
       "model_id": "8fe579a562d54323844f7dc99a876cc5",
       "version_major": 2,
       "version_minor": 0
      },
      "text/plain": [
       "Predicting: |          | 0/? [00:00<?, ?it/s]"
      ]
     },
     "metadata": {},
     "output_type": "display_data"
    },
    {
     "name": "stdout",
     "output_type": "stream",
     "text": [
      "Getting data\n"
     ]
    },
    {
     "name": "stderr",
     "output_type": "stream",
     "text": [
      "100%|██████████| 78/78 [00:00<00:00, 10760.29it/s]\n",
      "GPU available: True (mps), used: True\n",
      "TPU available: False, using: 0 TPU cores\n",
      "HPU available: False, using: 0 HPUs\n"
     ]
    },
    {
     "data": {
      "application/vnd.jupyter.widget-view+json": {
       "model_id": "e01a0d3356464bbc9b8893994f199112",
       "version_major": 2,
       "version_minor": 0
      },
      "text/plain": [
       "Predicting: |          | 0/? [00:00<?, ?it/s]"
      ]
     },
     "metadata": {},
     "output_type": "display_data"
    },
    {
     "name": "stderr",
     "output_type": "stream",
     "text": [
      "GPU available: True (mps), used: True\n",
      "TPU available: False, using: 0 TPU cores\n",
      "HPU available: False, using: 0 HPUs\n"
     ]
    },
    {
     "data": {
      "application/vnd.jupyter.widget-view+json": {
       "model_id": "102a769022f44e42a57c2830c0f3d8e2",
       "version_major": 2,
       "version_minor": 0
      },
      "text/plain": [
       "Predicting: |          | 0/? [00:00<?, ?it/s]"
      ]
     },
     "metadata": {},
     "output_type": "display_data"
    },
    {
     "name": "stderr",
     "output_type": "stream",
     "text": [
      "GPU available: True (mps), used: True\n",
      "TPU available: False, using: 0 TPU cores\n",
      "HPU available: False, using: 0 HPUs\n"
     ]
    },
    {
     "data": {
      "application/vnd.jupyter.widget-view+json": {
       "model_id": "e737824cef114f04bb97624c6e8c1db5",
       "version_major": 2,
       "version_minor": 0
      },
      "text/plain": [
       "Predicting: |          | 0/? [00:00<?, ?it/s]"
      ]
     },
     "metadata": {},
     "output_type": "display_data"
    },
    {
     "name": "stdout",
     "output_type": "stream",
     "text": [
      "193\n",
      "Getting data\n"
     ]
    },
    {
     "name": "stderr",
     "output_type": "stream",
     "text": [
      "100%|██████████| 78/78 [00:00<00:00, 12336.19it/s]\n",
      "GPU available: True (mps), used: True\n",
      "TPU available: False, using: 0 TPU cores\n",
      "HPU available: False, using: 0 HPUs\n"
     ]
    },
    {
     "data": {
      "application/vnd.jupyter.widget-view+json": {
       "model_id": "7c3020447d9e4aa2907e1cc76decb1cc",
       "version_major": 2,
       "version_minor": 0
      },
      "text/plain": [
       "Predicting: |          | 0/? [00:00<?, ?it/s]"
      ]
     },
     "metadata": {},
     "output_type": "display_data"
    },
    {
     "name": "stderr",
     "output_type": "stream",
     "text": [
      "GPU available: True (mps), used: True\n",
      "TPU available: False, using: 0 TPU cores\n",
      "HPU available: False, using: 0 HPUs\n"
     ]
    },
    {
     "data": {
      "application/vnd.jupyter.widget-view+json": {
       "model_id": "17b6bdc6b80344d09b2e6adc96e7e3ee",
       "version_major": 2,
       "version_minor": 0
      },
      "text/plain": [
       "Predicting: |          | 0/? [00:00<?, ?it/s]"
      ]
     },
     "metadata": {},
     "output_type": "display_data"
    },
    {
     "name": "stderr",
     "output_type": "stream",
     "text": [
      "GPU available: True (mps), used: True\n",
      "TPU available: False, using: 0 TPU cores\n",
      "HPU available: False, using: 0 HPUs\n"
     ]
    },
    {
     "data": {
      "application/vnd.jupyter.widget-view+json": {
       "model_id": "d90372dfbd7347459e145653e30406ac",
       "version_major": 2,
       "version_minor": 0
      },
      "text/plain": [
       "Predicting: |          | 0/? [00:00<?, ?it/s]"
      ]
     },
     "metadata": {},
     "output_type": "display_data"
    }
   ],
   "source": [
    "observation,action_space=live_pearl_env.reset()"
   ]
  },
  {
   "cell_type": "code",
   "execution_count": 16,
   "metadata": {},
   "outputs": [],
   "source": [
    "agent.reset(observation, action_space)"
   ]
  },
  {
   "cell_type": "code",
   "execution_count": 17,
   "metadata": {},
   "outputs": [
    {
     "data": {
      "text/plain": [
       "tensor([0])"
      ]
     },
     "execution_count": 17,
     "metadata": {},
     "output_type": "execute_result"
    }
   ],
   "source": [
    "action=agent.act(exploit=True)\n",
    "\n",
    "# action=\n",
    "action"
   ]
  },
  {
   "cell_type": "code",
   "execution_count": 18,
   "metadata": {},
   "outputs": [
    {
     "data": {
      "text/html": [
       "<div>\n",
       "<style scoped>\n",
       "    .dataframe tbody tr th:only-of-type {\n",
       "        vertical-align: middle;\n",
       "    }\n",
       "\n",
       "    .dataframe tbody tr th {\n",
       "        vertical-align: top;\n",
       "    }\n",
       "\n",
       "    .dataframe thead th {\n",
       "        text-align: right;\n",
       "    }\n",
       "</style>\n",
       "<table border=\"1\" class=\"dataframe\">\n",
       "  <thead>\n",
       "    <tr style=\"text-align: right;\">\n",
       "      <th></th>\n",
       "      <th>uuid</th>\n",
       "      <th>name</th>\n",
       "      <th>default</th>\n",
       "      <th>active</th>\n",
       "      <th>type</th>\n",
       "      <th>ready</th>\n",
       "      <th>hold</th>\n",
       "      <th>retail_portfolio_id</th>\n",
       "      <th>position_value</th>\n",
       "      <th>balance</th>\n",
       "    </tr>\n",
       "    <tr>\n",
       "      <th>currency</th>\n",
       "      <th></th>\n",
       "      <th></th>\n",
       "      <th></th>\n",
       "      <th></th>\n",
       "      <th></th>\n",
       "      <th></th>\n",
       "      <th></th>\n",
       "      <th></th>\n",
       "      <th></th>\n",
       "      <th></th>\n",
       "    </tr>\n",
       "  </thead>\n",
       "  <tbody>\n",
       "    <tr>\n",
       "      <th>CORECHAIN</th>\n",
       "      <td>e03f1ea5-e129-564c-889b-194077bbf294</td>\n",
       "      <td>CORECHAIN Wallet</td>\n",
       "      <td>True</td>\n",
       "      <td>True</td>\n",
       "      <td>ACCOUNT_TYPE_CRYPTO</td>\n",
       "      <td>True</td>\n",
       "      <td>{'value': '0', 'currency': 'CORECHAIN'}</td>\n",
       "      <td>3f98d482-321e-54af-baa5-9b5927e52212</td>\n",
       "      <td>0</td>\n",
       "      <td>5.255967</td>\n",
       "    </tr>\n",
       "    <tr>\n",
       "      <th>NEAR</th>\n",
       "      <td>405446ef-08b1-5205-86e4-e505ab64ae5f</td>\n",
       "      <td>NEAR Wallet</td>\n",
       "      <td>True</td>\n",
       "      <td>True</td>\n",
       "      <td>ACCOUNT_TYPE_CRYPTO</td>\n",
       "      <td>True</td>\n",
       "      <td>{'value': '0', 'currency': 'NEAR'}</td>\n",
       "      <td>3f98d482-321e-54af-baa5-9b5927e52212</td>\n",
       "      <td>0</td>\n",
       "      <td>0.575780</td>\n",
       "    </tr>\n",
       "    <tr>\n",
       "      <th>SUI</th>\n",
       "      <td>a064f48a-1267-5b19-b0ff-d754d09c6f6b</td>\n",
       "      <td>SUI Wallet</td>\n",
       "      <td>True</td>\n",
       "      <td>True</td>\n",
       "      <td>ACCOUNT_TYPE_CRYPTO</td>\n",
       "      <td>True</td>\n",
       "      <td>{'value': '0', 'currency': 'SUI'}</td>\n",
       "      <td>3f98d482-321e-54af-baa5-9b5927e52212</td>\n",
       "      <td>0</td>\n",
       "      <td>66.104049</td>\n",
       "    </tr>\n",
       "    <tr>\n",
       "      <th>DOGE</th>\n",
       "      <td>a5630355-5534-5b9d-8b26-137d6e8992dd</td>\n",
       "      <td>DOGE Wallet</td>\n",
       "      <td>True</td>\n",
       "      <td>True</td>\n",
       "      <td>ACCOUNT_TYPE_CRYPTO</td>\n",
       "      <td>True</td>\n",
       "      <td>{'value': '0', 'currency': 'DOGE'}</td>\n",
       "      <td>3f98d482-321e-54af-baa5-9b5927e52212</td>\n",
       "      <td>0</td>\n",
       "      <td>0.033234</td>\n",
       "    </tr>\n",
       "    <tr>\n",
       "      <th>ETH2</th>\n",
       "      <td>12d0e91c-efa7-52b4-87f2-2953c6ea0180</td>\n",
       "      <td>ETH2 Wallet</td>\n",
       "      <td>True</td>\n",
       "      <td>True</td>\n",
       "      <td>ACCOUNT_TYPE_CRYPTO</td>\n",
       "      <td>False</td>\n",
       "      <td>{'value': '0', 'currency': 'ETH2'}</td>\n",
       "      <td>3f98d482-321e-54af-baa5-9b5927e52212</td>\n",
       "      <td>0</td>\n",
       "      <td>0.000298</td>\n",
       "    </tr>\n",
       "    <tr>\n",
       "      <th>ATOM</th>\n",
       "      <td>99b5bef3-be97-5d57-b704-68532088d286</td>\n",
       "      <td>ATOM Wallet</td>\n",
       "      <td>True</td>\n",
       "      <td>True</td>\n",
       "      <td>ACCOUNT_TYPE_CRYPTO</td>\n",
       "      <td>True</td>\n",
       "      <td>{'value': '0', 'currency': 'ATOM'}</td>\n",
       "      <td>3f98d482-321e-54af-baa5-9b5927e52212</td>\n",
       "      <td>0</td>\n",
       "      <td>167.549281</td>\n",
       "    </tr>\n",
       "    <tr>\n",
       "      <th>USDC</th>\n",
       "      <td>c041014b-790b-5f17-8469-ced1f456940d</td>\n",
       "      <td>USDC Wallet</td>\n",
       "      <td>True</td>\n",
       "      <td>True</td>\n",
       "      <td>ACCOUNT_TYPE_CRYPTO</td>\n",
       "      <td>True</td>\n",
       "      <td>{'value': '0', 'currency': 'USDC'}</td>\n",
       "      <td>3f98d482-321e-54af-baa5-9b5927e52212</td>\n",
       "      <td>0</td>\n",
       "      <td>470.118677</td>\n",
       "    </tr>\n",
       "    <tr>\n",
       "      <th>USD</th>\n",
       "      <td>cfc0be7a-b031-500b-853f-963313341334</td>\n",
       "      <td>Cash (USD)</td>\n",
       "      <td>False</td>\n",
       "      <td>True</td>\n",
       "      <td>ACCOUNT_TYPE_FIAT</td>\n",
       "      <td>True</td>\n",
       "      <td>{'value': '0', 'currency': 'USD'}</td>\n",
       "      <td>3f98d482-321e-54af-baa5-9b5927e52212</td>\n",
       "      <td>0</td>\n",
       "      <td>647.830000</td>\n",
       "    </tr>\n",
       "    <tr>\n",
       "      <th>ETH</th>\n",
       "      <td>9834b834-02c5-50ca-bffa-2674c9c0650e</td>\n",
       "      <td>ETH Wallet</td>\n",
       "      <td>True</td>\n",
       "      <td>True</td>\n",
       "      <td>ACCOUNT_TYPE_CRYPTO</td>\n",
       "      <td>True</td>\n",
       "      <td>{'value': '0', 'currency': 'ETH'}</td>\n",
       "      <td>3f98d482-321e-54af-baa5-9b5927e52212</td>\n",
       "      <td>0</td>\n",
       "      <td>0.011981</td>\n",
       "    </tr>\n",
       "    <tr>\n",
       "      <th>BTC</th>\n",
       "      <td>c6ae0023-f397-5897-b65b-5268feb36aaa</td>\n",
       "      <td>BTC Wallet</td>\n",
       "      <td>True</td>\n",
       "      <td>True</td>\n",
       "      <td>ACCOUNT_TYPE_CRYPTO</td>\n",
       "      <td>True</td>\n",
       "      <td>{'value': '0', 'currency': 'BTC'}</td>\n",
       "      <td>3f98d482-321e-54af-baa5-9b5927e52212</td>\n",
       "      <td>0</td>\n",
       "      <td>0.000013</td>\n",
       "    </tr>\n",
       "  </tbody>\n",
       "</table>\n",
       "</div>"
      ],
      "text/plain": [
       "                                           uuid              name  default  \\\n",
       "currency                                                                     \n",
       "CORECHAIN  e03f1ea5-e129-564c-889b-194077bbf294  CORECHAIN Wallet     True   \n",
       "NEAR       405446ef-08b1-5205-86e4-e505ab64ae5f       NEAR Wallet     True   \n",
       "SUI        a064f48a-1267-5b19-b0ff-d754d09c6f6b        SUI Wallet     True   \n",
       "DOGE       a5630355-5534-5b9d-8b26-137d6e8992dd       DOGE Wallet     True   \n",
       "ETH2       12d0e91c-efa7-52b4-87f2-2953c6ea0180       ETH2 Wallet     True   \n",
       "ATOM       99b5bef3-be97-5d57-b704-68532088d286       ATOM Wallet     True   \n",
       "USDC       c041014b-790b-5f17-8469-ced1f456940d       USDC Wallet     True   \n",
       "USD        cfc0be7a-b031-500b-853f-963313341334        Cash (USD)    False   \n",
       "ETH        9834b834-02c5-50ca-bffa-2674c9c0650e        ETH Wallet     True   \n",
       "BTC        c6ae0023-f397-5897-b65b-5268feb36aaa        BTC Wallet     True   \n",
       "\n",
       "           active                 type  ready  \\\n",
       "currency                                        \n",
       "CORECHAIN    True  ACCOUNT_TYPE_CRYPTO   True   \n",
       "NEAR         True  ACCOUNT_TYPE_CRYPTO   True   \n",
       "SUI          True  ACCOUNT_TYPE_CRYPTO   True   \n",
       "DOGE         True  ACCOUNT_TYPE_CRYPTO   True   \n",
       "ETH2         True  ACCOUNT_TYPE_CRYPTO  False   \n",
       "ATOM         True  ACCOUNT_TYPE_CRYPTO   True   \n",
       "USDC         True  ACCOUNT_TYPE_CRYPTO   True   \n",
       "USD          True    ACCOUNT_TYPE_FIAT   True   \n",
       "ETH          True  ACCOUNT_TYPE_CRYPTO   True   \n",
       "BTC          True  ACCOUNT_TYPE_CRYPTO   True   \n",
       "\n",
       "                                              hold  \\\n",
       "currency                                             \n",
       "CORECHAIN  {'value': '0', 'currency': 'CORECHAIN'}   \n",
       "NEAR            {'value': '0', 'currency': 'NEAR'}   \n",
       "SUI              {'value': '0', 'currency': 'SUI'}   \n",
       "DOGE            {'value': '0', 'currency': 'DOGE'}   \n",
       "ETH2            {'value': '0', 'currency': 'ETH2'}   \n",
       "ATOM            {'value': '0', 'currency': 'ATOM'}   \n",
       "USDC            {'value': '0', 'currency': 'USDC'}   \n",
       "USD              {'value': '0', 'currency': 'USD'}   \n",
       "ETH              {'value': '0', 'currency': 'ETH'}   \n",
       "BTC              {'value': '0', 'currency': 'BTC'}   \n",
       "\n",
       "                            retail_portfolio_id position_value     balance  \n",
       "currency                                                                    \n",
       "CORECHAIN  3f98d482-321e-54af-baa5-9b5927e52212              0    5.255967  \n",
       "NEAR       3f98d482-321e-54af-baa5-9b5927e52212              0    0.575780  \n",
       "SUI        3f98d482-321e-54af-baa5-9b5927e52212              0   66.104049  \n",
       "DOGE       3f98d482-321e-54af-baa5-9b5927e52212              0    0.033234  \n",
       "ETH2       3f98d482-321e-54af-baa5-9b5927e52212              0    0.000298  \n",
       "ATOM       3f98d482-321e-54af-baa5-9b5927e52212              0  167.549281  \n",
       "USDC       3f98d482-321e-54af-baa5-9b5927e52212              0  470.118677  \n",
       "USD        3f98d482-321e-54af-baa5-9b5927e52212              0  647.830000  \n",
       "ETH        3f98d482-321e-54af-baa5-9b5927e52212              0    0.011981  \n",
       "BTC        3f98d482-321e-54af-baa5-9b5927e52212              0    0.000013  "
      ]
     },
     "execution_count": 18,
     "metadata": {},
     "output_type": "execute_result"
    }
   ],
   "source": [
    "live_env.client.account()"
   ]
  },
  {
   "cell_type": "code",
   "execution_count": 19,
   "metadata": {},
   "outputs": [
    {
     "name": "stdout",
     "output_type": "stream",
     "text": [
      "{'New_position': 0, 'Trade_from': 2.526503928964262e-05, 'Trade_to': 0, 'Change_size': -2.526503928964262e-05, 'Change_direction': -1, 'Place_order': 'SELL', 'Change needed to get to target': 2.526503928964262e-05, 'Size in dollars': 0.011877866779222389, 'Size in asset': 0.033254568506697994}\n",
      "Sell\n",
      "{'success': False, 'response': {'error': 'UNKNOWN_FAILURE_REASON', 'message': '', 'error_details': '', 'preview_failure_reason': 'PREVIEW_INVALID_BASE_SIZE_TOO_SMALL'}, 'order_configuration': {'market_market_ioc': {'base_size': '0.03', 'rfq_enabled': False, 'rfq_disabled': False}}}\n",
      "ok...returning now....\n",
      "fixed order: {'success': False, 'error': 'UNKNOWN_FAILURE_REASON', 'message': '', 'error_details': '', 'preview_failure_reason': 'PREVIEW_INVALID_BASE_SIZE_TOO_SMALL', 'fill_type': 'market_market_ioc', 'base_size': '0.03', 'rfq_enabled': False, 'rfq_disabled': False}\n",
      "('portfolio_valuation', -1)\n",
      "Getting data\n"
     ]
    },
    {
     "name": "stderr",
     "output_type": "stream",
     "text": [
      "100%|██████████| 78/78 [00:00<00:00, 11420.24it/s]\n",
      "GPU available: True (mps), used: True\n",
      "TPU available: False, using: 0 TPU cores\n",
      "HPU available: False, using: 0 HPUs\n"
     ]
    },
    {
     "data": {
      "application/vnd.jupyter.widget-view+json": {
       "model_id": "20fdd709d32f44008b76db373ed8b327",
       "version_major": 2,
       "version_minor": 0
      },
      "text/plain": [
       "Predicting: |          | 0/? [00:00<?, ?it/s]"
      ]
     },
     "metadata": {},
     "output_type": "display_data"
    },
    {
     "name": "stderr",
     "output_type": "stream",
     "text": [
      "GPU available: True (mps), used: True\n",
      "TPU available: False, using: 0 TPU cores\n",
      "HPU available: False, using: 0 HPUs\n"
     ]
    },
    {
     "data": {
      "application/vnd.jupyter.widget-view+json": {
       "model_id": "fc1c71ee475c49038cff9cfdb611a7bb",
       "version_major": 2,
       "version_minor": 0
      },
      "text/plain": [
       "Predicting: |          | 0/? [00:00<?, ?it/s]"
      ]
     },
     "metadata": {},
     "output_type": "display_data"
    },
    {
     "name": "stderr",
     "output_type": "stream",
     "text": [
      "GPU available: True (mps), used: True\n",
      "TPU available: False, using: 0 TPU cores\n",
      "HPU available: False, using: 0 HPUs\n"
     ]
    },
    {
     "data": {
      "application/vnd.jupyter.widget-view+json": {
       "model_id": "0f2e8ab66b924f3fbf92baa147fd6ff5",
       "version_major": 2,
       "version_minor": 0
      },
      "text/plain": [
       "Predicting: |          | 0/? [00:00<?, ?it/s]"
      ]
     },
     "metadata": {},
     "output_type": "display_data"
    },
    {
     "data": {
      "text/html": [
       "<div>\n",
       "<style scoped>\n",
       "    .dataframe tbody tr th:only-of-type {\n",
       "        vertical-align: middle;\n",
       "    }\n",
       "\n",
       "    .dataframe tbody tr th {\n",
       "        vertical-align: top;\n",
       "    }\n",
       "\n",
       "    .dataframe thead th {\n",
       "        text-align: right;\n",
       "    }\n",
       "</style>\n",
       "<table border=\"1\" class=\"dataframe\">\n",
       "  <thead>\n",
       "    <tr style=\"text-align: right;\">\n",
       "      <th></th>\n",
       "      <th>New_position</th>\n",
       "      <th>Trade_from</th>\n",
       "      <th>Trade_to</th>\n",
       "      <th>Change_size</th>\n",
       "      <th>Change_direction</th>\n",
       "      <th>Place_order</th>\n",
       "      <th>Change needed to get to target</th>\n",
       "      <th>Size in dollars</th>\n",
       "      <th>Size in asset</th>\n",
       "      <th>success</th>\n",
       "      <th>...</th>\n",
       "      <th>data_symbol</th>\n",
       "      <th>position</th>\n",
       "      <th>time_frame</th>\n",
       "      <th>exchange</th>\n",
       "      <th>product_type</th>\n",
       "      <th>portfolio_distribution_asset</th>\n",
       "      <th>portfolio_distribution_fiat</th>\n",
       "      <th>portfolio_valuation</th>\n",
       "      <th>idx</th>\n",
       "      <th>real_position</th>\n",
       "    </tr>\n",
       "  </thead>\n",
       "  <tbody>\n",
       "    <tr>\n",
       "      <th>0</th>\n",
       "      <td>0</td>\n",
       "      <td>0.000025</td>\n",
       "      <td>0</td>\n",
       "      <td>-0.000025</td>\n",
       "      <td>-1</td>\n",
       "      <td>SELL</td>\n",
       "      <td>0.000025</td>\n",
       "      <td>0.011878</td>\n",
       "      <td>0.033255</td>\n",
       "      <td>False</td>\n",
       "      <td>...</td>\n",
       "      <td>DOGE-USDC</td>\n",
       "      <td>0.000025</td>\n",
       "      <td>1h</td>\n",
       "      <td>coinbase</td>\n",
       "      <td>SPOT</td>\n",
       "      <td>0.033234</td>\n",
       "      <td>470.118677</td>\n",
       "      <td>470.130548</td>\n",
       "      <td>193</td>\n",
       "      <td>0.000025</td>\n",
       "    </tr>\n",
       "  </tbody>\n",
       "</table>\n",
       "<p>1 rows × 31 columns</p>\n",
       "</div>"
      ],
      "text/plain": [
       "   New_position  Trade_from  Trade_to  Change_size  Change_direction  \\\n",
       "0             0    0.000025         0    -0.000025                -1   \n",
       "\n",
       "  Place_order  Change needed to get to target  Size in dollars  Size in asset  \\\n",
       "0        SELL                        0.000025         0.011878       0.033255   \n",
       "\n",
       "   success  ... data_symbol  position time_frame  exchange product_type  \\\n",
       "0    False  ...   DOGE-USDC  0.000025         1h  coinbase         SPOT   \n",
       "\n",
       "  portfolio_distribution_asset  portfolio_distribution_fiat  \\\n",
       "0                     0.033234                   470.118677   \n",
       "\n",
       "   portfolio_valuation  idx real_position  \n",
       "0           470.130548  193      0.000025  \n",
       "\n",
       "[1 rows x 31 columns]"
      ]
     },
     "metadata": {},
     "output_type": "display_data"
    }
   ],
   "source": [
    "action_result=live_pearl_env.step(int(action))\n"
   ]
  },
  {
   "cell_type": "code",
   "execution_count": 20,
   "metadata": {},
   "outputs": [
    {
     "data": {
      "text/plain": [
       "33"
      ]
     },
     "execution_count": 20,
     "metadata": {},
     "output_type": "execute_result"
    }
   ],
   "source": [
    "len(live_env.client.trade_client.get_fills()['fills'])"
   ]
  },
  {
   "cell_type": "code",
   "execution_count": 21,
   "metadata": {},
   "outputs": [
    {
     "data": {
      "text/plain": [
       "array([ 0.15894505,  0.1589216 ,  0.15889041,  0.15888518,  0.15888445,\n",
       "        0.15888435,  0.15788688,  0.15783636,  0.15705043,  0.15703687,\n",
       "        0.15710144,  0.15743642,  0.15941025,  0.15925704,  0.15916161,\n",
       "        0.15917656,  0.15892012,  0.15885562,  0.1587474 ,  0.15867168,\n",
       "        0.15836748,  0.1583662 ,  0.158302  ,  0.15839212,  0.00930297,\n",
       "        0.07132278, -0.01426456,  0.1600366 ,  0.42793667,  0.42793667],\n",
       "      dtype=float32)"
      ]
     },
     "execution_count": 21,
     "metadata": {},
     "output_type": "execute_result"
    }
   ],
   "source": [
    "action_result.observation"
   ]
  },
  {
   "cell_type": "code",
   "execution_count": 22,
   "metadata": {},
   "outputs": [],
   "source": [
    "df=live_env.df\n",
    "import pandas as pd"
   ]
  },
  {
   "cell_type": "code",
   "execution_count": 23,
   "metadata": {},
   "outputs": [
    {
     "data": {
      "text/html": [
       "<div>\n",
       "<style scoped>\n",
       "    .dataframe tbody tr th:only-of-type {\n",
       "        vertical-align: middle;\n",
       "    }\n",
       "\n",
       "    .dataframe tbody tr th {\n",
       "        vertical-align: top;\n",
       "    }\n",
       "\n",
       "    .dataframe thead th {\n",
       "        text-align: right;\n",
       "    }\n",
       "</style>\n",
       "<table border=\"1\" class=\"dataframe\">\n",
       "  <thead>\n",
       "    <tr style=\"text-align: right;\">\n",
       "      <th></th>\n",
       "      <th>ds</th>\n",
       "      <th>ds_pst</th>\n",
       "    </tr>\n",
       "  </thead>\n",
       "  <tbody>\n",
       "    <tr>\n",
       "      <th>1</th>\n",
       "      <td>2024-11-07 11:00:00</td>\n",
       "      <td>2024-11-07 11:00:00</td>\n",
       "    </tr>\n",
       "    <tr>\n",
       "      <th>2</th>\n",
       "      <td>2024-11-07 12:00:00</td>\n",
       "      <td>2024-11-07 12:00:00</td>\n",
       "    </tr>\n",
       "    <tr>\n",
       "      <th>3</th>\n",
       "      <td>2024-11-07 13:00:00</td>\n",
       "      <td>2024-11-07 13:00:00</td>\n",
       "    </tr>\n",
       "    <tr>\n",
       "      <th>4</th>\n",
       "      <td>2024-11-07 14:00:00</td>\n",
       "      <td>2024-11-07 14:00:00</td>\n",
       "    </tr>\n",
       "    <tr>\n",
       "      <th>5</th>\n",
       "      <td>2024-11-07 15:00:00</td>\n",
       "      <td>2024-11-07 15:00:00</td>\n",
       "    </tr>\n",
       "    <tr>\n",
       "      <th>...</th>\n",
       "      <td>...</td>\n",
       "      <td>...</td>\n",
       "    </tr>\n",
       "    <tr>\n",
       "      <th>190</th>\n",
       "      <td>2024-11-15 08:00:00</td>\n",
       "      <td>2024-11-15 08:00:00</td>\n",
       "    </tr>\n",
       "    <tr>\n",
       "      <th>191</th>\n",
       "      <td>2024-11-15 09:00:00</td>\n",
       "      <td>2024-11-15 09:00:00</td>\n",
       "    </tr>\n",
       "    <tr>\n",
       "      <th>192</th>\n",
       "      <td>2024-11-15 10:00:00</td>\n",
       "      <td>2024-11-15 10:00:00</td>\n",
       "    </tr>\n",
       "    <tr>\n",
       "      <th>193</th>\n",
       "      <td>2024-11-15 11:00:00</td>\n",
       "      <td>2024-11-15 11:00:00</td>\n",
       "    </tr>\n",
       "    <tr>\n",
       "      <th>194</th>\n",
       "      <td>2024-11-15 12:00:00</td>\n",
       "      <td>2024-11-15 12:00:00</td>\n",
       "    </tr>\n",
       "  </tbody>\n",
       "</table>\n",
       "<p>194 rows × 2 columns</p>\n",
       "</div>"
      ],
      "text/plain": [
       "                     ds              ds_pst\n",
       "1   2024-11-07 11:00:00 2024-11-07 11:00:00\n",
       "2   2024-11-07 12:00:00 2024-11-07 12:00:00\n",
       "3   2024-11-07 13:00:00 2024-11-07 13:00:00\n",
       "4   2024-11-07 14:00:00 2024-11-07 14:00:00\n",
       "5   2024-11-07 15:00:00 2024-11-07 15:00:00\n",
       "..                  ...                 ...\n",
       "190 2024-11-15 08:00:00 2024-11-15 08:00:00\n",
       "191 2024-11-15 09:00:00 2024-11-15 09:00:00\n",
       "192 2024-11-15 10:00:00 2024-11-15 10:00:00\n",
       "193 2024-11-15 11:00:00 2024-11-15 11:00:00\n",
       "194 2024-11-15 12:00:00 2024-11-15 12:00:00\n",
       "\n",
       "[194 rows x 2 columns]"
      ]
     },
     "execution_count": 23,
     "metadata": {},
     "output_type": "execute_result"
    }
   ],
   "source": [
    "df['ds_pst']=pd.to_datetime(df['ds'],utc=False)\n",
    "df[['ds','ds_pst']]"
   ]
  },
  {
   "cell_type": "code",
   "execution_count": 24,
   "metadata": {},
   "outputs": [
    {
     "data": {
      "text/plain": [
       "{'min_quote_size': 1.0,\n",
       " 'max_quote_size': 10000000.0,\n",
       " 'min_asset_size': 0.1,\n",
       " 'max_asset_size': 141834300.0,\n",
       " 'base_asset_precision': 1,\n",
       " 'quote_asset_precision': 5}"
      ]
     },
     "execution_count": 24,
     "metadata": {},
     "output_type": "execute_result"
    }
   ],
   "source": [
    "live_env.client.get_trade_rules()"
   ]
  },
  {
   "cell_type": "code",
   "execution_count": null,
   "metadata": {},
   "outputs": [],
   "source": []
  }
 ],
 "metadata": {
  "kernelspec": {
   "display_name": "pearlenv",
   "language": "python",
   "name": "python3"
  },
  "language_info": {
   "codemirror_mode": {
    "name": "ipython",
    "version": 3
   },
   "file_extension": ".py",
   "mimetype": "text/x-python",
   "name": "python",
   "nbconvert_exporter": "python",
   "pygments_lexer": "ipython3",
   "version": "3.10.13"
  }
 },
 "nbformat": 4,
 "nbformat_minor": 2
}
