{
 "cells": [
  {
   "cell_type": "code",
   "execution_count": 25,
   "metadata": {},
   "outputs": [],
   "source": [
    "\n",
    "import warnings\n",
    "warnings.filterwarnings(\"ignore\")"
   ]
  },
  {
   "cell_type": "code",
   "execution_count": 26,
   "metadata": {},
   "outputs": [],
   "source": [
    "from environments.live_environments import BaseLiveTradingEnv\n",
    "from neuralforecast.core import NeuralForecast\n",
    "from configs import defaults\n",
    "from Keys import *\n",
    "import pickle\n",
    "import numpy as np\n",
    "from utils import pearl_utils\n",
    "from Pearl.pearl.utils.instantiations.environments.gym_environment import \\\n",
    "    GymEnvironment\n",
    "import boto3"
   ]
  },
  {
   "cell_type": "code",
   "execution_count": 27,
   "metadata": {},
   "outputs": [],
   "source": [
    "\n",
    "conn = boto3.resource('s3')\n",
    "AWS_ACCESS_KEY\n",
    "AWS_SECRET_KEY\n",
    "s3= boto3.client('s3', aws_access_key_id=AWS_ACCESS_KEY, aws_secret_access_key=AWS_SECRET_KEY)\n",
    "s3.download_file('coinbasetradehistory','trade.db','Trade_history/s3trade.db')\n",
    "# conn.download_file(\n",
    "#     # Filename='https://coinbasetradehistory.s3.us-east-1.amazonaws.com/trade.db'\n",
    "# )\n",
    "s3.download_file('coinbasetradehistory','trade.db','Trade_history/s3trade.db')"
   ]
  },
  {
   "cell_type": "code",
   "execution_count": 28,
   "metadata": {},
   "outputs": [],
   "source": [
    "s3.upload_file('Trade_history/s3trade.db','coinbasetradehistory','s3trade.db',)\n"
   ]
  },
  {
   "cell_type": "code",
   "execution_count": 29,
   "metadata": {},
   "outputs": [
    {
     "name": "stderr",
     "output_type": "stream",
     "text": [
      "Seed set to 6\n",
      "Seed set to 19\n",
      "Seed set to 16\n"
     ]
    }
   ],
   "source": [
    "forecast_model=NeuralForecast.load('MultiHeadForecastingModel/')"
   ]
  },
  {
   "cell_type": "code",
   "execution_count": 30,
   "metadata": {},
   "outputs": [
    {
     "data": {
      "text/plain": [
       "'DOGE/USDC'"
      ]
     },
     "execution_count": 30,
     "metadata": {},
     "output_type": "execute_result"
    }
   ],
   "source": [
    "base_asset='DOGE'\n",
    "quote_asset='USDC'\n",
    "test_net=False\n",
    "time_frame='1h'\n",
    "# product_type='FUTURE'\n",
    "product_type='Spot'\n",
    "futures_target='DOG-29NOV24-CDE'\n",
    "exchange='coinbase'\n",
    "trade_target='/'.join([base_asset,quote_asset]) if product_type.upper()=='SPOT' else  futures_target\n",
    "trade_target"
   ]
  },
  {
   "cell_type": "code",
   "execution_count": 31,
   "metadata": {},
   "outputs": [
    {
     "name": "stdout",
     "output_type": "stream",
     "text": [
      "Paper TradingFalse on coinbase at api.coinbase.com\n",
      " got symbol DOGE/USDC\n",
      "final symbol DOGE-USDC\n",
      "Connected to coinbase client\n",
      "Getting data\n"
     ]
    },
    {
     "name": "stderr",
     "output_type": "stream",
     "text": [
      "100%|██████████| 78/78 [00:00<00:00, 7532.60it/s]\n",
      "GPU available: True (mps), used: True\n",
      "TPU available: False, using: 0 TPU cores\n",
      "HPU available: False, using: 0 HPUs\n"
     ]
    },
    {
     "data": {
      "application/vnd.jupyter.widget-view+json": {
       "model_id": "45cc56213e614f03ba80d3c8ef4761d7",
       "version_major": 2,
       "version_minor": 0
      },
      "text/plain": [
       "Predicting: |          | 0/? [00:00<?, ?it/s]"
      ]
     },
     "metadata": {},
     "output_type": "display_data"
    },
    {
     "name": "stderr",
     "output_type": "stream",
     "text": [
      "GPU available: True (mps), used: True\n",
      "TPU available: False, using: 0 TPU cores\n",
      "HPU available: False, using: 0 HPUs\n"
     ]
    },
    {
     "data": {
      "application/vnd.jupyter.widget-view+json": {
       "model_id": "5abfe512c3a142f1a62a8cfcbf21869e",
       "version_major": 2,
       "version_minor": 0
      },
      "text/plain": [
       "Predicting: |          | 0/? [00:00<?, ?it/s]"
      ]
     },
     "metadata": {},
     "output_type": "display_data"
    },
    {
     "name": "stderr",
     "output_type": "stream",
     "text": [
      "GPU available: True (mps), used: True\n",
      "TPU available: False, using: 0 TPU cores\n",
      "HPU available: False, using: 0 HPUs\n"
     ]
    },
    {
     "data": {
      "application/vnd.jupyter.widget-view+json": {
       "model_id": "8209912ef1064c40a7f0a2b43c21983e",
       "version_major": 2,
       "version_minor": 0
      },
      "text/plain": [
       "Predicting: |          | 0/? [00:00<?, ?it/s]"
      ]
     },
     "metadata": {},
     "output_type": "display_data"
    }
   ],
   "source": [
    "live_env=BaseLiveTradingEnv(\n",
    "            api_key=coinbase_api_key,\n",
    "            api_secret=coinbase_api_secret,\n",
    "            paper=test_net,\n",
    "            symbol=trade_target,\n",
    "            time_frame=time_frame,\n",
    "            product_type=product_type,\n",
    "            positions=[0,1],\n",
    "            history_path='Trade_history/trade.db',\n",
    "            exchange=exchange,\n",
    "            forecast_model=forecast_model,\n",
    "\n",
    "            )"
   ]
  },
  {
   "cell_type": "code",
   "execution_count": 37,
   "metadata": {},
   "outputs": [
    {
     "data": {
      "text/html": [
       "<div>\n",
       "<style scoped>\n",
       "    .dataframe tbody tr th:only-of-type {\n",
       "        vertical-align: middle;\n",
       "    }\n",
       "\n",
       "    .dataframe tbody tr th {\n",
       "        vertical-align: top;\n",
       "    }\n",
       "\n",
       "    .dataframe thead th {\n",
       "        text-align: right;\n",
       "    }\n",
       "</style>\n",
       "<table border=\"1\" class=\"dataframe\">\n",
       "  <thead>\n",
       "    <tr style=\"text-align: right;\">\n",
       "      <th></th>\n",
       "      <th>New_position</th>\n",
       "      <th>Trade_from</th>\n",
       "      <th>Trade_to</th>\n",
       "      <th>Change_size</th>\n",
       "      <th>Change_direction</th>\n",
       "      <th>Place_order</th>\n",
       "      <th>Change needed to get to target</th>\n",
       "      <th>Size in dollars</th>\n",
       "      <th>Size in asset</th>\n",
       "      <th>success</th>\n",
       "      <th>...</th>\n",
       "      <th>order_id</th>\n",
       "      <th>product_id</th>\n",
       "      <th>side</th>\n",
       "      <th>client_order_id</th>\n",
       "      <th>attached_order_id</th>\n",
       "      <th>fill_type</th>\n",
       "      <th>base_size</th>\n",
       "      <th>rfq_enabled</th>\n",
       "      <th>rfq_disabled</th>\n",
       "      <th>quote_size</th>\n",
       "    </tr>\n",
       "  </thead>\n",
       "  <tbody>\n",
       "    <tr>\n",
       "      <th>0</th>\n",
       "      <td>0</td>\n",
       "      <td>0.998138</td>\n",
       "      <td>0</td>\n",
       "      <td>-0.998138</td>\n",
       "      <td>-1</td>\n",
       "      <td>SELL</td>\n",
       "      <td>0.998138</td>\n",
       "      <td>474.414804</td>\n",
       "      <td>1201.780332</td>\n",
       "      <td>1</td>\n",
       "      <td>...</td>\n",
       "      <td>37fdf224-ca93-4726-b423-ab45c18fdb6f</td>\n",
       "      <td>DOGE-USDC</td>\n",
       "      <td>SELL</td>\n",
       "      <td>DOGE_order_1</td>\n",
       "      <td></td>\n",
       "      <td>market_market_ioc</td>\n",
       "      <td>1201.7</td>\n",
       "      <td>0</td>\n",
       "      <td>0</td>\n",
       "      <td>None</td>\n",
       "    </tr>\n",
       "    <tr>\n",
       "      <th>1</th>\n",
       "      <td>0</td>\n",
       "      <td>0.998267</td>\n",
       "      <td>0</td>\n",
       "      <td>-0.998267</td>\n",
       "      <td>-1</td>\n",
       "      <td>SELL</td>\n",
       "      <td>0.998267</td>\n",
       "      <td>475.124113</td>\n",
       "      <td>1201.841786</td>\n",
       "      <td>1</td>\n",
       "      <td>...</td>\n",
       "      <td>52b6fef6-ca6d-4465-818c-8b3f0825f128</td>\n",
       "      <td>DOGE-USDC</td>\n",
       "      <td>SELL</td>\n",
       "      <td>DOGE_order_2</td>\n",
       "      <td></td>\n",
       "      <td>market_market_ioc</td>\n",
       "      <td>1201.8</td>\n",
       "      <td>0</td>\n",
       "      <td>0</td>\n",
       "      <td>None</td>\n",
       "    </tr>\n",
       "    <tr>\n",
       "      <th>2</th>\n",
       "      <td>0</td>\n",
       "      <td>0.998267</td>\n",
       "      <td>0</td>\n",
       "      <td>-0.998267</td>\n",
       "      <td>-1</td>\n",
       "      <td>SELL</td>\n",
       "      <td>0.998267</td>\n",
       "      <td>475.124113</td>\n",
       "      <td>1201.841786</td>\n",
       "      <td>1</td>\n",
       "      <td>...</td>\n",
       "      <td>52b6fef6-ca6d-4465-818c-8b3f0825f128</td>\n",
       "      <td>DOGE-USDC</td>\n",
       "      <td>SELL</td>\n",
       "      <td>DOGE_order_2</td>\n",
       "      <td></td>\n",
       "      <td>market_market_ioc</td>\n",
       "      <td>1201.8</td>\n",
       "      <td>0</td>\n",
       "      <td>0</td>\n",
       "      <td>None</td>\n",
       "    </tr>\n",
       "    <tr>\n",
       "      <th>3</th>\n",
       "      <td>1</td>\n",
       "      <td>0.000288</td>\n",
       "      <td>1</td>\n",
       "      <td>0.999712</td>\n",
       "      <td>1</td>\n",
       "      <td>BUY</td>\n",
       "      <td>0.999712</td>\n",
       "      <td>473.200835</td>\n",
       "      <td>1197.128199</td>\n",
       "      <td>1</td>\n",
       "      <td>...</td>\n",
       "      <td>17b2fef3-4160-4454-8655-5caf3f18c721</td>\n",
       "      <td>DOGE-USDC</td>\n",
       "      <td>BUY</td>\n",
       "      <td>DOGE_order_4</td>\n",
       "      <td></td>\n",
       "      <td>market_market_ioc</td>\n",
       "      <td>None</td>\n",
       "      <td>0</td>\n",
       "      <td>0</td>\n",
       "      <td>473.20079</td>\n",
       "    </tr>\n",
       "    <tr>\n",
       "      <th>4</th>\n",
       "      <td>0</td>\n",
       "      <td>0.997887</td>\n",
       "      <td>0</td>\n",
       "      <td>-0.997887</td>\n",
       "      <td>-1</td>\n",
       "      <td>SELL</td>\n",
       "      <td>0.997887</td>\n",
       "      <td>471.922096</td>\n",
       "      <td>1187.225399</td>\n",
       "      <td>1</td>\n",
       "      <td>...</td>\n",
       "      <td>45bb4788-0aac-4022-88c9-c7546927b45e</td>\n",
       "      <td>DOGE-USDC</td>\n",
       "      <td>SELL</td>\n",
       "      <td>DOGE_order_5</td>\n",
       "      <td></td>\n",
       "      <td>market_market_ioc</td>\n",
       "      <td>1187.2</td>\n",
       "      <td>0</td>\n",
       "      <td>0</td>\n",
       "      <td>None</td>\n",
       "    </tr>\n",
       "    <tr>\n",
       "      <th>5</th>\n",
       "      <td>0</td>\n",
       "      <td>0.000436</td>\n",
       "      <td>0</td>\n",
       "      <td>-0.000436</td>\n",
       "      <td>-1</td>\n",
       "      <td>SELL</td>\n",
       "      <td>0.000436</td>\n",
       "      <td>0.204805</td>\n",
       "      <td>0.533234</td>\n",
       "      <td>1</td>\n",
       "      <td>...</td>\n",
       "      <td>93223fa5-9785-4b91-944b-0462b17fe69e</td>\n",
       "      <td>DOGE-USDC</td>\n",
       "      <td>SELL</td>\n",
       "      <td>DOGE_order_6</td>\n",
       "      <td></td>\n",
       "      <td>market_market_ioc</td>\n",
       "      <td>0.5</td>\n",
       "      <td>0</td>\n",
       "      <td>0</td>\n",
       "      <td>None</td>\n",
       "    </tr>\n",
       "    <tr>\n",
       "      <th>6</th>\n",
       "      <td>0</td>\n",
       "      <td>0.000027</td>\n",
       "      <td>0</td>\n",
       "      <td>-0.000027</td>\n",
       "      <td>-1</td>\n",
       "      <td>SELL</td>\n",
       "      <td>0.000027</td>\n",
       "      <td>0.012743</td>\n",
       "      <td>0.033234</td>\n",
       "      <td>0</td>\n",
       "      <td>...</td>\n",
       "      <td>None</td>\n",
       "      <td>None</td>\n",
       "      <td>None</td>\n",
       "      <td>None</td>\n",
       "      <td>None</td>\n",
       "      <td>market_market_ioc</td>\n",
       "      <td>0.0</td>\n",
       "      <td>0</td>\n",
       "      <td>0</td>\n",
       "      <td>None</td>\n",
       "    </tr>\n",
       "    <tr>\n",
       "      <th>7</th>\n",
       "      <td>0</td>\n",
       "      <td>0.000027</td>\n",
       "      <td>0</td>\n",
       "      <td>-0.000027</td>\n",
       "      <td>-1</td>\n",
       "      <td>SELL</td>\n",
       "      <td>0.000027</td>\n",
       "      <td>0.012762</td>\n",
       "      <td>0.033215</td>\n",
       "      <td>0</td>\n",
       "      <td>...</td>\n",
       "      <td>None</td>\n",
       "      <td>None</td>\n",
       "      <td>None</td>\n",
       "      <td>None</td>\n",
       "      <td>None</td>\n",
       "      <td>market_market_ioc</td>\n",
       "      <td>0.0</td>\n",
       "      <td>0</td>\n",
       "      <td>0</td>\n",
       "      <td>None</td>\n",
       "    </tr>\n",
       "  </tbody>\n",
       "</table>\n",
       "<p>8 rows × 39 columns</p>\n",
       "</div>"
      ],
      "text/plain": [
       "   New_position  Trade_from  Trade_to  Change_size  Change_direction  \\\n",
       "0             0    0.998138         0    -0.998138                -1   \n",
       "1             0    0.998267         0    -0.998267                -1   \n",
       "2             0    0.998267         0    -0.998267                -1   \n",
       "3             1    0.000288         1     0.999712                 1   \n",
       "4             0    0.997887         0    -0.997887                -1   \n",
       "5             0    0.000436         0    -0.000436                -1   \n",
       "6             0    0.000027         0    -0.000027                -1   \n",
       "7             0    0.000027         0    -0.000027                -1   \n",
       "\n",
       "  Place_order  Change needed to get to target  Size in dollars  Size in asset  \\\n",
       "0        SELL                        0.998138       474.414804    1201.780332   \n",
       "1        SELL                        0.998267       475.124113    1201.841786   \n",
       "2        SELL                        0.998267       475.124113    1201.841786   \n",
       "3         BUY                        0.999712       473.200835    1197.128199   \n",
       "4        SELL                        0.997887       471.922096    1187.225399   \n",
       "5        SELL                        0.000436         0.204805       0.533234   \n",
       "6        SELL                        0.000027         0.012743       0.033234   \n",
       "7        SELL                        0.000027         0.012762       0.033215   \n",
       "\n",
       "   success  ...                              order_id product_id  side  \\\n",
       "0        1  ...  37fdf224-ca93-4726-b423-ab45c18fdb6f  DOGE-USDC  SELL   \n",
       "1        1  ...  52b6fef6-ca6d-4465-818c-8b3f0825f128  DOGE-USDC  SELL   \n",
       "2        1  ...  52b6fef6-ca6d-4465-818c-8b3f0825f128  DOGE-USDC  SELL   \n",
       "3        1  ...  17b2fef3-4160-4454-8655-5caf3f18c721  DOGE-USDC   BUY   \n",
       "4        1  ...  45bb4788-0aac-4022-88c9-c7546927b45e  DOGE-USDC  SELL   \n",
       "5        1  ...  93223fa5-9785-4b91-944b-0462b17fe69e  DOGE-USDC  SELL   \n",
       "6        0  ...                                  None       None  None   \n",
       "7        0  ...                                  None       None  None   \n",
       "\n",
       "  client_order_id attached_order_id          fill_type  base_size rfq_enabled  \\\n",
       "0    DOGE_order_1                    market_market_ioc     1201.7           0   \n",
       "1    DOGE_order_2                    market_market_ioc     1201.8           0   \n",
       "2    DOGE_order_2                    market_market_ioc     1201.8           0   \n",
       "3    DOGE_order_4                    market_market_ioc       None           0   \n",
       "4    DOGE_order_5                    market_market_ioc     1187.2           0   \n",
       "5    DOGE_order_6                    market_market_ioc        0.5           0   \n",
       "6            None              None  market_market_ioc        0.0           0   \n",
       "7            None              None  market_market_ioc        0.0           0   \n",
       "\n",
       "  rfq_disabled quote_size  \n",
       "0            0       None  \n",
       "1            0       None  \n",
       "2            0       None  \n",
       "3            0  473.20079  \n",
       "4            0       None  \n",
       "5            0       None  \n",
       "6            0       None  \n",
       "7            0       None  \n",
       "\n",
       "[8 rows x 39 columns]"
      ]
     },
     "execution_count": 37,
     "metadata": {},
     "output_type": "execute_result"
    }
   ],
   "source": [
    "live_env.load_history()"
   ]
  },
  {
   "cell_type": "code",
   "execution_count": 10,
   "metadata": {},
   "outputs": [
    {
     "data": {
      "text/plain": [
       "((30,),\n",
       " {'idx': 193,\n",
       "  'step': 0,\n",
       "  'date': '11-14-2024,',\n",
       "  'position_index': 1,\n",
       "  'position': 0.9981398416997961,\n",
       "  'real_position': 0.9981398416997961,\n",
       "  'data_symbol': 'DOGE-USDC',\n",
       "  'data_close': 0.28566,\n",
       "  'data_ds': Timestamp('2024-11-11 13:00:00'),\n",
       "  'portfolio_valuation': 475.7685555529325,\n",
       "  'portfolio_distribution_asset': 1202.145082223964,\n",
       "  'portfolio_distribution_fiat': 0.885183722,\n",
       "  'portfolio_distribution_borrowed_asset': 0,\n",
       "  'portfolio_distribution_borrowed_fiat': 0,\n",
       "  'portfolio_distribution_interest_asset': 0,\n",
       "  'portfolio_distribution_interest_fiat': 0,\n",
       "  'reward': 0,\n",
       "  'base_asset': 'DOGE',\n",
       "  'quote_asset': 'USDC',\n",
       "  'time_frame': '1h',\n",
       "  'exchange': 'coinbase',\n",
       "  'product_type': 'SPOT'})"
      ]
     },
     "execution_count": 10,
     "metadata": {},
     "output_type": "execute_result"
    }
   ],
   "source": [
    "obs.shape,info"
   ]
  },
  {
   "cell_type": "code",
   "execution_count": 11,
   "metadata": {},
   "outputs": [
    {
     "name": "stderr",
     "output_type": "stream",
     "text": [
      "[I 2024-11-14 11:12:45,191] Using an existing study with name 'pearl-2024-11-12-hp-search' instead of creating a new one.\n"
     ]
    }
   ],
   "source": [
    "\n",
    "agent_path='Agent/pearl_DOGEUSDT_Spot_model.pkl'\n",
    "agent,learning_params=pearl_utils.load_agent_from_study(study_path=\"sqlite:///pearl_hyper_parameters.sqlite3\",\n",
    "                                        study_name='pearl-2024-11-12-hp-search',\n",
    "                                        action_space_dim=2,\n",
    "                                            observation_space_dim=30,)\n",
    "agent=pearl_utils.load_agent_weights(agent,weight_path=agent_path)"
   ]
  },
  {
   "cell_type": "code",
   "execution_count": 12,
   "metadata": {},
   "outputs": [],
   "source": [
    "from Pearl.pearl.utils.instantiations.environments.gym_environment import \\\n",
    "    GymEnvironment"
   ]
  },
  {
   "cell_type": "code",
   "execution_count": 13,
   "metadata": {},
   "outputs": [],
   "source": [
    "live_pearl_env=GymEnvironment(live_env)"
   ]
  },
  {
   "cell_type": "code",
   "execution_count": 14,
   "metadata": {},
   "outputs": [
    {
     "name": "stdout",
     "output_type": "stream",
     "text": [
      "Getting data\n"
     ]
    },
    {
     "name": "stderr",
     "output_type": "stream",
     "text": [
      "100%|██████████| 78/78 [00:00<00:00, 17241.41it/s]\n",
      "GPU available: True (mps), used: True\n",
      "TPU available: False, using: 0 TPU cores\n",
      "HPU available: False, using: 0 HPUs\n"
     ]
    },
    {
     "data": {
      "application/vnd.jupyter.widget-view+json": {
       "model_id": "bb844fb34d44419189b22c59350a8941",
       "version_major": 2,
       "version_minor": 0
      },
      "text/plain": [
       "Predicting: |          | 0/? [00:00<?, ?it/s]"
      ]
     },
     "metadata": {},
     "output_type": "display_data"
    },
    {
     "name": "stderr",
     "output_type": "stream",
     "text": [
      "GPU available: True (mps), used: True\n",
      "TPU available: False, using: 0 TPU cores\n",
      "HPU available: False, using: 0 HPUs\n"
     ]
    },
    {
     "data": {
      "application/vnd.jupyter.widget-view+json": {
       "model_id": "ea2ca31ce2e14002b9bab2829b79e7e8",
       "version_major": 2,
       "version_minor": 0
      },
      "text/plain": [
       "Predicting: |          | 0/? [00:00<?, ?it/s]"
      ]
     },
     "metadata": {},
     "output_type": "display_data"
    },
    {
     "name": "stderr",
     "output_type": "stream",
     "text": [
      "GPU available: True (mps), used: True\n",
      "TPU available: False, using: 0 TPU cores\n",
      "HPU available: False, using: 0 HPUs\n"
     ]
    },
    {
     "data": {
      "application/vnd.jupyter.widget-view+json": {
       "model_id": "cadab85ea9084a7183c3611d784575b2",
       "version_major": 2,
       "version_minor": 0
      },
      "text/plain": [
       "Predicting: |          | 0/? [00:00<?, ?it/s]"
      ]
     },
     "metadata": {},
     "output_type": "display_data"
    },
    {
     "name": "stdout",
     "output_type": "stream",
     "text": [
      "193\n",
      "Getting data\n"
     ]
    },
    {
     "name": "stderr",
     "output_type": "stream",
     "text": [
      "100%|██████████| 78/78 [00:00<00:00, 17584.29it/s]\n",
      "GPU available: True (mps), used: True\n",
      "TPU available: False, using: 0 TPU cores\n",
      "HPU available: False, using: 0 HPUs\n"
     ]
    },
    {
     "data": {
      "application/vnd.jupyter.widget-view+json": {
       "model_id": "ff7d1283e12a40faa76473d1f033b3e5",
       "version_major": 2,
       "version_minor": 0
      },
      "text/plain": [
       "Predicting: |          | 0/? [00:00<?, ?it/s]"
      ]
     },
     "metadata": {},
     "output_type": "display_data"
    },
    {
     "name": "stderr",
     "output_type": "stream",
     "text": [
      "GPU available: True (mps), used: True\n",
      "TPU available: False, using: 0 TPU cores\n",
      "HPU available: False, using: 0 HPUs\n"
     ]
    },
    {
     "data": {
      "application/vnd.jupyter.widget-view+json": {
       "model_id": "431a9a7703934596aff0c154f7cf79dd",
       "version_major": 2,
       "version_minor": 0
      },
      "text/plain": [
       "Predicting: |          | 0/? [00:00<?, ?it/s]"
      ]
     },
     "metadata": {},
     "output_type": "display_data"
    },
    {
     "name": "stderr",
     "output_type": "stream",
     "text": [
      "GPU available: True (mps), used: True\n",
      "TPU available: False, using: 0 TPU cores\n",
      "HPU available: False, using: 0 HPUs\n"
     ]
    },
    {
     "data": {
      "application/vnd.jupyter.widget-view+json": {
       "model_id": "2083d56c0b95475b91ad44b40f70d2c4",
       "version_major": 2,
       "version_minor": 0
      },
      "text/plain": [
       "Predicting: |          | 0/? [00:00<?, ?it/s]"
      ]
     },
     "metadata": {},
     "output_type": "display_data"
    },
    {
     "name": "stdout",
     "output_type": "stream",
     "text": [
      "Getting data\n"
     ]
    },
    {
     "name": "stderr",
     "output_type": "stream",
     "text": [
      "100%|██████████| 78/78 [00:00<00:00, 18912.92it/s]\n",
      "GPU available: True (mps), used: True\n",
      "TPU available: False, using: 0 TPU cores\n",
      "HPU available: False, using: 0 HPUs\n"
     ]
    },
    {
     "data": {
      "application/vnd.jupyter.widget-view+json": {
       "model_id": "ab23244e65b14fa3a4c9326950a12c2b",
       "version_major": 2,
       "version_minor": 0
      },
      "text/plain": [
       "Predicting: |          | 0/? [00:00<?, ?it/s]"
      ]
     },
     "metadata": {},
     "output_type": "display_data"
    },
    {
     "name": "stderr",
     "output_type": "stream",
     "text": [
      "GPU available: True (mps), used: True\n",
      "TPU available: False, using: 0 TPU cores\n",
      "HPU available: False, using: 0 HPUs\n"
     ]
    },
    {
     "data": {
      "application/vnd.jupyter.widget-view+json": {
       "model_id": "2aac6a51bee44f59be9269ee4fe20923",
       "version_major": 2,
       "version_minor": 0
      },
      "text/plain": [
       "Predicting: |          | 0/? [00:00<?, ?it/s]"
      ]
     },
     "metadata": {},
     "output_type": "display_data"
    },
    {
     "name": "stderr",
     "output_type": "stream",
     "text": [
      "GPU available: True (mps), used: True\n",
      "TPU available: False, using: 0 TPU cores\n",
      "HPU available: False, using: 0 HPUs\n"
     ]
    },
    {
     "data": {
      "application/vnd.jupyter.widget-view+json": {
       "model_id": "8347791ef2b54df0a14d5cbc2ec575dd",
       "version_major": 2,
       "version_minor": 0
      },
      "text/plain": [
       "Predicting: |          | 0/? [00:00<?, ?it/s]"
      ]
     },
     "metadata": {},
     "output_type": "display_data"
    },
    {
     "name": "stdout",
     "output_type": "stream",
     "text": [
      "193\n",
      "Getting data\n"
     ]
    },
    {
     "name": "stderr",
     "output_type": "stream",
     "text": [
      "100%|██████████| 78/78 [00:00<00:00, 19618.36it/s]\n",
      "GPU available: True (mps), used: True\n",
      "TPU available: False, using: 0 TPU cores\n",
      "HPU available: False, using: 0 HPUs\n"
     ]
    },
    {
     "data": {
      "application/vnd.jupyter.widget-view+json": {
       "model_id": "ed890cbfb67e44539de069764b1b7222",
       "version_major": 2,
       "version_minor": 0
      },
      "text/plain": [
       "Predicting: |          | 0/? [00:00<?, ?it/s]"
      ]
     },
     "metadata": {},
     "output_type": "display_data"
    },
    {
     "name": "stderr",
     "output_type": "stream",
     "text": [
      "GPU available: True (mps), used: True\n",
      "TPU available: False, using: 0 TPU cores\n",
      "HPU available: False, using: 0 HPUs\n"
     ]
    },
    {
     "data": {
      "application/vnd.jupyter.widget-view+json": {
       "model_id": "e49fbf113af54b5887af65f24daf72f5",
       "version_major": 2,
       "version_minor": 0
      },
      "text/plain": [
       "Predicting: |          | 0/? [00:00<?, ?it/s]"
      ]
     },
     "metadata": {},
     "output_type": "display_data"
    },
    {
     "name": "stderr",
     "output_type": "stream",
     "text": [
      "GPU available: True (mps), used: True\n",
      "TPU available: False, using: 0 TPU cores\n",
      "HPU available: False, using: 0 HPUs\n"
     ]
    },
    {
     "data": {
      "application/vnd.jupyter.widget-view+json": {
       "model_id": "202702e683c245a8a55a31c7602c1df0",
       "version_major": 2,
       "version_minor": 0
      },
      "text/plain": [
       "Predicting: |          | 0/? [00:00<?, ?it/s]"
      ]
     },
     "metadata": {},
     "output_type": "display_data"
    }
   ],
   "source": [
    "observation,action_space=live_pearl_env.reset()"
   ]
  },
  {
   "cell_type": "code",
   "execution_count": 15,
   "metadata": {},
   "outputs": [],
   "source": [
    "agent.reset(observation, action_space)"
   ]
  },
  {
   "cell_type": "code",
   "execution_count": 32,
   "metadata": {},
   "outputs": [
    {
     "data": {
      "text/plain": [
       "tensor([0])"
      ]
     },
     "execution_count": 32,
     "metadata": {},
     "output_type": "execute_result"
    }
   ],
   "source": [
    "action=agent.act(exploit=True)\n",
    "int(action)\n",
    "# action=\n",
    "action"
   ]
  },
  {
   "cell_type": "code",
   "execution_count": 33,
   "metadata": {},
   "outputs": [
    {
     "data": {
      "text/html": [
       "<div>\n",
       "<style scoped>\n",
       "    .dataframe tbody tr th:only-of-type {\n",
       "        vertical-align: middle;\n",
       "    }\n",
       "\n",
       "    .dataframe tbody tr th {\n",
       "        vertical-align: top;\n",
       "    }\n",
       "\n",
       "    .dataframe thead th {\n",
       "        text-align: right;\n",
       "    }\n",
       "</style>\n",
       "<table border=\"1\" class=\"dataframe\">\n",
       "  <thead>\n",
       "    <tr style=\"text-align: right;\">\n",
       "      <th></th>\n",
       "      <th>uuid</th>\n",
       "      <th>name</th>\n",
       "      <th>default</th>\n",
       "      <th>active</th>\n",
       "      <th>type</th>\n",
       "      <th>ready</th>\n",
       "      <th>hold</th>\n",
       "      <th>retail_portfolio_id</th>\n",
       "      <th>position_value</th>\n",
       "      <th>balance</th>\n",
       "    </tr>\n",
       "    <tr>\n",
       "      <th>currency</th>\n",
       "      <th></th>\n",
       "      <th></th>\n",
       "      <th></th>\n",
       "      <th></th>\n",
       "      <th></th>\n",
       "      <th></th>\n",
       "      <th></th>\n",
       "      <th></th>\n",
       "      <th></th>\n",
       "      <th></th>\n",
       "    </tr>\n",
       "  </thead>\n",
       "  <tbody>\n",
       "    <tr>\n",
       "      <th>CORECHAIN</th>\n",
       "      <td>e03f1ea5-e129-564c-889b-194077bbf294</td>\n",
       "      <td>CORECHAIN Wallet</td>\n",
       "      <td>True</td>\n",
       "      <td>True</td>\n",
       "      <td>ACCOUNT_TYPE_CRYPTO</td>\n",
       "      <td>True</td>\n",
       "      <td>{'value': '0', 'currency': 'CORECHAIN'}</td>\n",
       "      <td>3f98d482-321e-54af-baa5-9b5927e52212</td>\n",
       "      <td>0</td>\n",
       "      <td>5.255967</td>\n",
       "    </tr>\n",
       "    <tr>\n",
       "      <th>NEAR</th>\n",
       "      <td>405446ef-08b1-5205-86e4-e505ab64ae5f</td>\n",
       "      <td>NEAR Wallet</td>\n",
       "      <td>True</td>\n",
       "      <td>True</td>\n",
       "      <td>ACCOUNT_TYPE_CRYPTO</td>\n",
       "      <td>True</td>\n",
       "      <td>{'value': '0', 'currency': 'NEAR'}</td>\n",
       "      <td>3f98d482-321e-54af-baa5-9b5927e52212</td>\n",
       "      <td>0</td>\n",
       "      <td>0.575780</td>\n",
       "    </tr>\n",
       "    <tr>\n",
       "      <th>SUI</th>\n",
       "      <td>a064f48a-1267-5b19-b0ff-d754d09c6f6b</td>\n",
       "      <td>SUI Wallet</td>\n",
       "      <td>True</td>\n",
       "      <td>True</td>\n",
       "      <td>ACCOUNT_TYPE_CRYPTO</td>\n",
       "      <td>True</td>\n",
       "      <td>{'value': '0', 'currency': 'SUI'}</td>\n",
       "      <td>3f98d482-321e-54af-baa5-9b5927e52212</td>\n",
       "      <td>0</td>\n",
       "      <td>66.104049</td>\n",
       "    </tr>\n",
       "    <tr>\n",
       "      <th>DOGE</th>\n",
       "      <td>a5630355-5534-5b9d-8b26-137d6e8992dd</td>\n",
       "      <td>DOGE Wallet</td>\n",
       "      <td>True</td>\n",
       "      <td>True</td>\n",
       "      <td>ACCOUNT_TYPE_CRYPTO</td>\n",
       "      <td>True</td>\n",
       "      <td>{'value': '0', 'currency': 'DOGE'}</td>\n",
       "      <td>3f98d482-321e-54af-baa5-9b5927e52212</td>\n",
       "      <td>0</td>\n",
       "      <td>1187.733234</td>\n",
       "    </tr>\n",
       "    <tr>\n",
       "      <th>ETH2</th>\n",
       "      <td>12d0e91c-efa7-52b4-87f2-2953c6ea0180</td>\n",
       "      <td>ETH2 Wallet</td>\n",
       "      <td>True</td>\n",
       "      <td>True</td>\n",
       "      <td>ACCOUNT_TYPE_CRYPTO</td>\n",
       "      <td>False</td>\n",
       "      <td>{'value': '0', 'currency': 'ETH2'}</td>\n",
       "      <td>3f98d482-321e-54af-baa5-9b5927e52212</td>\n",
       "      <td>0</td>\n",
       "      <td>0.000298</td>\n",
       "    </tr>\n",
       "    <tr>\n",
       "      <th>ATOM</th>\n",
       "      <td>99b5bef3-be97-5d57-b704-68532088d286</td>\n",
       "      <td>ATOM Wallet</td>\n",
       "      <td>True</td>\n",
       "      <td>True</td>\n",
       "      <td>ACCOUNT_TYPE_CRYPTO</td>\n",
       "      <td>True</td>\n",
       "      <td>{'value': '0', 'currency': 'ATOM'}</td>\n",
       "      <td>3f98d482-321e-54af-baa5-9b5927e52212</td>\n",
       "      <td>0</td>\n",
       "      <td>167.549281</td>\n",
       "    </tr>\n",
       "    <tr>\n",
       "      <th>USDC</th>\n",
       "      <td>c041014b-790b-5f17-8469-ced1f456940d</td>\n",
       "      <td>USDC Wallet</td>\n",
       "      <td>True</td>\n",
       "      <td>True</td>\n",
       "      <td>ACCOUNT_TYPE_CRYPTO</td>\n",
       "      <td>True</td>\n",
       "      <td>{'value': '0', 'currency': 'USDC'}</td>\n",
       "      <td>3f98d482-321e-54af-baa5-9b5927e52212</td>\n",
       "      <td>0</td>\n",
       "      <td>0.880649</td>\n",
       "    </tr>\n",
       "    <tr>\n",
       "      <th>USD</th>\n",
       "      <td>cfc0be7a-b031-500b-853f-963313341334</td>\n",
       "      <td>Cash (USD)</td>\n",
       "      <td>False</td>\n",
       "      <td>True</td>\n",
       "      <td>ACCOUNT_TYPE_FIAT</td>\n",
       "      <td>True</td>\n",
       "      <td>{'value': '0', 'currency': 'USD'}</td>\n",
       "      <td>3f98d482-321e-54af-baa5-9b5927e52212</td>\n",
       "      <td>0</td>\n",
       "      <td>647.830000</td>\n",
       "    </tr>\n",
       "    <tr>\n",
       "      <th>ETH</th>\n",
       "      <td>9834b834-02c5-50ca-bffa-2674c9c0650e</td>\n",
       "      <td>ETH Wallet</td>\n",
       "      <td>True</td>\n",
       "      <td>True</td>\n",
       "      <td>ACCOUNT_TYPE_CRYPTO</td>\n",
       "      <td>True</td>\n",
       "      <td>{'value': '0', 'currency': 'ETH'}</td>\n",
       "      <td>3f98d482-321e-54af-baa5-9b5927e52212</td>\n",
       "      <td>0</td>\n",
       "      <td>0.011981</td>\n",
       "    </tr>\n",
       "    <tr>\n",
       "      <th>BTC</th>\n",
       "      <td>c6ae0023-f397-5897-b65b-5268feb36aaa</td>\n",
       "      <td>BTC Wallet</td>\n",
       "      <td>True</td>\n",
       "      <td>True</td>\n",
       "      <td>ACCOUNT_TYPE_CRYPTO</td>\n",
       "      <td>True</td>\n",
       "      <td>{'value': '0', 'currency': 'BTC'}</td>\n",
       "      <td>3f98d482-321e-54af-baa5-9b5927e52212</td>\n",
       "      <td>0</td>\n",
       "      <td>0.000013</td>\n",
       "    </tr>\n",
       "  </tbody>\n",
       "</table>\n",
       "</div>"
      ],
      "text/plain": [
       "                                           uuid              name  default  \\\n",
       "currency                                                                     \n",
       "CORECHAIN  e03f1ea5-e129-564c-889b-194077bbf294  CORECHAIN Wallet     True   \n",
       "NEAR       405446ef-08b1-5205-86e4-e505ab64ae5f       NEAR Wallet     True   \n",
       "SUI        a064f48a-1267-5b19-b0ff-d754d09c6f6b        SUI Wallet     True   \n",
       "DOGE       a5630355-5534-5b9d-8b26-137d6e8992dd       DOGE Wallet     True   \n",
       "ETH2       12d0e91c-efa7-52b4-87f2-2953c6ea0180       ETH2 Wallet     True   \n",
       "ATOM       99b5bef3-be97-5d57-b704-68532088d286       ATOM Wallet     True   \n",
       "USDC       c041014b-790b-5f17-8469-ced1f456940d       USDC Wallet     True   \n",
       "USD        cfc0be7a-b031-500b-853f-963313341334        Cash (USD)    False   \n",
       "ETH        9834b834-02c5-50ca-bffa-2674c9c0650e        ETH Wallet     True   \n",
       "BTC        c6ae0023-f397-5897-b65b-5268feb36aaa        BTC Wallet     True   \n",
       "\n",
       "           active                 type  ready  \\\n",
       "currency                                        \n",
       "CORECHAIN    True  ACCOUNT_TYPE_CRYPTO   True   \n",
       "NEAR         True  ACCOUNT_TYPE_CRYPTO   True   \n",
       "SUI          True  ACCOUNT_TYPE_CRYPTO   True   \n",
       "DOGE         True  ACCOUNT_TYPE_CRYPTO   True   \n",
       "ETH2         True  ACCOUNT_TYPE_CRYPTO  False   \n",
       "ATOM         True  ACCOUNT_TYPE_CRYPTO   True   \n",
       "USDC         True  ACCOUNT_TYPE_CRYPTO   True   \n",
       "USD          True    ACCOUNT_TYPE_FIAT   True   \n",
       "ETH          True  ACCOUNT_TYPE_CRYPTO   True   \n",
       "BTC          True  ACCOUNT_TYPE_CRYPTO   True   \n",
       "\n",
       "                                              hold  \\\n",
       "currency                                             \n",
       "CORECHAIN  {'value': '0', 'currency': 'CORECHAIN'}   \n",
       "NEAR            {'value': '0', 'currency': 'NEAR'}   \n",
       "SUI              {'value': '0', 'currency': 'SUI'}   \n",
       "DOGE            {'value': '0', 'currency': 'DOGE'}   \n",
       "ETH2            {'value': '0', 'currency': 'ETH2'}   \n",
       "ATOM            {'value': '0', 'currency': 'ATOM'}   \n",
       "USDC            {'value': '0', 'currency': 'USDC'}   \n",
       "USD              {'value': '0', 'currency': 'USD'}   \n",
       "ETH              {'value': '0', 'currency': 'ETH'}   \n",
       "BTC              {'value': '0', 'currency': 'BTC'}   \n",
       "\n",
       "                            retail_portfolio_id position_value      balance  \n",
       "currency                                                                     \n",
       "CORECHAIN  3f98d482-321e-54af-baa5-9b5927e52212              0     5.255967  \n",
       "NEAR       3f98d482-321e-54af-baa5-9b5927e52212              0     0.575780  \n",
       "SUI        3f98d482-321e-54af-baa5-9b5927e52212              0    66.104049  \n",
       "DOGE       3f98d482-321e-54af-baa5-9b5927e52212              0  1187.733234  \n",
       "ETH2       3f98d482-321e-54af-baa5-9b5927e52212              0     0.000298  \n",
       "ATOM       3f98d482-321e-54af-baa5-9b5927e52212              0   167.549281  \n",
       "USDC       3f98d482-321e-54af-baa5-9b5927e52212              0     0.880649  \n",
       "USD        3f98d482-321e-54af-baa5-9b5927e52212              0   647.830000  \n",
       "ETH        3f98d482-321e-54af-baa5-9b5927e52212              0     0.011981  \n",
       "BTC        3f98d482-321e-54af-baa5-9b5927e52212              0     0.000013  "
      ]
     },
     "execution_count": 33,
     "metadata": {},
     "output_type": "execute_result"
    }
   ],
   "source": [
    "live_env.client.account()"
   ]
  },
  {
   "cell_type": "code",
   "execution_count": 34,
   "metadata": {},
   "outputs": [
    {
     "name": "stdout",
     "output_type": "stream",
     "text": [
      "{'New_position': 0, 'Trade_from': 0.9978868114280753, 'Trade_to': 0, 'Change_size': -0.9978868114280753, 'Change_direction': -1, 'Place_order': 'SELL', 'Change needed to get to target': 0.9978868114280753, 'Size in dollars': 471.92209610241554, 'Size in asset': 1187.2253989997876}\n",
      "Sell\n",
      "{'success': True, 'response': {'order_id': '45bb4788-0aac-4022-88c9-c7546927b45e', 'product_id': 'DOGE-USDC', 'side': 'SELL', 'client_order_id': 'DOGE_order_5', 'attached_order_id': ''}, 'order_configuration': {'market_market_ioc': {'base_size': '1187.2', 'rfq_enabled': False, 'rfq_disabled': False}}}\n",
      "ok...returning now....\n",
      "fixed order: {'success': True, 'order_id': '45bb4788-0aac-4022-88c9-c7546927b45e', 'product_id': 'DOGE-USDC', 'side': 'SELL', 'client_order_id': 'DOGE_order_5', 'attached_order_id': '', 'fill_type': 'market_market_ioc', 'base_size': '1187.2', 'rfq_enabled': False, 'rfq_disabled': False}\n",
      "('portfolio_valuation', -1)\n",
      "Getting data\n"
     ]
    },
    {
     "name": "stderr",
     "output_type": "stream",
     "text": [
      "100%|██████████| 78/78 [00:00<00:00, 16789.27it/s]\n",
      "GPU available: True (mps), used: True\n",
      "TPU available: False, using: 0 TPU cores\n",
      "HPU available: False, using: 0 HPUs\n"
     ]
    },
    {
     "data": {
      "application/vnd.jupyter.widget-view+json": {
       "model_id": "8b86176447d94629ab172479ac19af8f",
       "version_major": 2,
       "version_minor": 0
      },
      "text/plain": [
       "Predicting: |          | 0/? [00:00<?, ?it/s]"
      ]
     },
     "metadata": {},
     "output_type": "display_data"
    },
    {
     "name": "stderr",
     "output_type": "stream",
     "text": [
      "GPU available: True (mps), used: True\n",
      "TPU available: False, using: 0 TPU cores\n",
      "HPU available: False, using: 0 HPUs\n"
     ]
    },
    {
     "data": {
      "application/vnd.jupyter.widget-view+json": {
       "model_id": "b45de5b3d6bc4a1da25fb7b0e6eff98c",
       "version_major": 2,
       "version_minor": 0
      },
      "text/plain": [
       "Predicting: |          | 0/? [00:00<?, ?it/s]"
      ]
     },
     "metadata": {},
     "output_type": "display_data"
    },
    {
     "name": "stderr",
     "output_type": "stream",
     "text": [
      "GPU available: True (mps), used: True\n",
      "TPU available: False, using: 0 TPU cores\n",
      "HPU available: False, using: 0 HPUs\n"
     ]
    },
    {
     "data": {
      "application/vnd.jupyter.widget-view+json": {
       "model_id": "e19222f5aaf142dc8404c52eccface5f",
       "version_major": 2,
       "version_minor": 0
      },
      "text/plain": [
       "Predicting: |          | 0/? [00:00<?, ?it/s]"
      ]
     },
     "metadata": {},
     "output_type": "display_data"
    },
    {
     "data": {
      "text/html": [
       "<div>\n",
       "<style scoped>\n",
       "    .dataframe tbody tr th:only-of-type {\n",
       "        vertical-align: middle;\n",
       "    }\n",
       "\n",
       "    .dataframe tbody tr th {\n",
       "        vertical-align: top;\n",
       "    }\n",
       "\n",
       "    .dataframe thead th {\n",
       "        text-align: right;\n",
       "    }\n",
       "</style>\n",
       "<table border=\"1\" class=\"dataframe\">\n",
       "  <thead>\n",
       "    <tr style=\"text-align: right;\">\n",
       "      <th></th>\n",
       "      <th>New_position</th>\n",
       "      <th>Trade_from</th>\n",
       "      <th>Trade_to</th>\n",
       "      <th>Change_size</th>\n",
       "      <th>Change_direction</th>\n",
       "      <th>Place_order</th>\n",
       "      <th>Change needed to get to target</th>\n",
       "      <th>Size in dollars</th>\n",
       "      <th>Size in asset</th>\n",
       "      <th>success</th>\n",
       "      <th>...</th>\n",
       "      <th>data_symbol</th>\n",
       "      <th>position</th>\n",
       "      <th>time_frame</th>\n",
       "      <th>exchange</th>\n",
       "      <th>product_type</th>\n",
       "      <th>portfolio_distribution_asset</th>\n",
       "      <th>portfolio_distribution_fiat</th>\n",
       "      <th>portfolio_valuation</th>\n",
       "      <th>idx</th>\n",
       "      <th>real_position</th>\n",
       "    </tr>\n",
       "  </thead>\n",
       "  <tbody>\n",
       "    <tr>\n",
       "      <th>0</th>\n",
       "      <td>0</td>\n",
       "      <td>0.997887</td>\n",
       "      <td>0</td>\n",
       "      <td>-0.997887</td>\n",
       "      <td>-1</td>\n",
       "      <td>SELL</td>\n",
       "      <td>0.997887</td>\n",
       "      <td>471.922096</td>\n",
       "      <td>1187.225399</td>\n",
       "      <td>True</td>\n",
       "      <td>...</td>\n",
       "      <td>DOGE-USDC</td>\n",
       "      <td>0.000452</td>\n",
       "      <td>1h</td>\n",
       "      <td>coinbase</td>\n",
       "      <td>SPOT</td>\n",
       "      <td>0.533234</td>\n",
       "      <td>469.043363</td>\n",
       "      <td>469.255286</td>\n",
       "      <td>193</td>\n",
       "      <td>0.000452</td>\n",
       "    </tr>\n",
       "  </tbody>\n",
       "</table>\n",
       "<p>1 rows × 32 columns</p>\n",
       "</div>"
      ],
      "text/plain": [
       "   New_position  Trade_from  Trade_to  Change_size  Change_direction  \\\n",
       "0             0    0.997887         0    -0.997887                -1   \n",
       "\n",
       "  Place_order  Change needed to get to target  Size in dollars  Size in asset  \\\n",
       "0        SELL                        0.997887       471.922096    1187.225399   \n",
       "\n",
       "   success  ... data_symbol  position time_frame  exchange product_type  \\\n",
       "0     True  ...   DOGE-USDC  0.000452         1h  coinbase         SPOT   \n",
       "\n",
       "  portfolio_distribution_asset portfolio_distribution_fiat  \\\n",
       "0                     0.533234                  469.043363   \n",
       "\n",
       "   portfolio_valuation  idx real_position  \n",
       "0           469.255286  193      0.000452  \n",
       "\n",
       "[1 rows x 32 columns]"
      ]
     },
     "metadata": {},
     "output_type": "display_data"
    }
   ],
   "source": [
    "action_result=live_pearl_env.step(int(action))\n"
   ]
  },
  {
   "cell_type": "code",
   "execution_count": 35,
   "metadata": {},
   "outputs": [],
   "source": [
    "import pandas as pd"
   ]
  },
  {
   "cell_type": "code",
   "execution_count": 36,
   "metadata": {},
   "outputs": [
    {
     "data": {
      "text/plain": [
       "{'New_position': 0,\n",
       " 'Trade_from': 0.9978868114280753,\n",
       " 'Trade_to': 0,\n",
       " 'Change_size': -0.9978868114280753,\n",
       " 'Change_direction': -1,\n",
       " 'Place_order': 'SELL',\n",
       " 'Change needed to get to target': 0.9978868114280753,\n",
       " 'Size in dollars': 471.92209610241554,\n",
       " 'Size in asset': 1187.2253989997876,\n",
       " 'success': True,\n",
       " 'order_id': '45bb4788-0aac-4022-88c9-c7546927b45e',\n",
       " 'product_id': 'DOGE-USDC',\n",
       " 'side': 'SELL',\n",
       " 'client_order_id': 'DOGE_order_5',\n",
       " 'attached_order_id': '',\n",
       " 'fill_type': 'market_market_ioc',\n",
       " 'base_size': '1187.2',\n",
       " 'rfq_enabled': False,\n",
       " 'rfq_disabled': False,\n",
       " 'date': '11-14-2024,',\n",
       " 'base_asset': 'DOGE',\n",
       " 'quote_asset': 'USDC',\n",
       " 'data_symbol': 'DOGE-USDC',\n",
       " 'position': 0.0004516955773565851,\n",
       " 'time_frame': '1h',\n",
       " 'exchange': 'coinbase',\n",
       " 'product_type': 'SPOT',\n",
       " 'portfolio_distribution_asset': 0.5332340984309524,\n",
       " 'portfolio_distribution_fiat': 469.0433626145,\n",
       " 'portfolio_valuation': 469.2552858422394,\n",
       " 'idx': 193,\n",
       " 'real_position': 0.0004516955773565851}"
      ]
     },
     "execution_count": 36,
     "metadata": {},
     "output_type": "execute_result"
    }
   ],
   "source": [
    "action_result.info"
   ]
  },
  {
   "cell_type": "code",
   "execution_count": null,
   "metadata": {},
   "outputs": [],
   "source": []
  }
 ],
 "metadata": {
  "kernelspec": {
   "display_name": "pearlenv",
   "language": "python",
   "name": "python3"
  },
  "language_info": {
   "codemirror_mode": {
    "name": "ipython",
    "version": 3
   },
   "file_extension": ".py",
   "mimetype": "text/x-python",
   "name": "python",
   "nbconvert_exporter": "python",
   "pygments_lexer": "ipython3",
   "version": "3.10.13"
  }
 },
 "nbformat": 4,
 "nbformat_minor": 2
}
